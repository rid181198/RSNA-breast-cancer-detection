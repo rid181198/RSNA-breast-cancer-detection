{
 "cells": [
  {
   "cell_type": "markdown",
   "id": "c7fe2e1c",
   "metadata": {
    "papermill": {
     "duration": 0.004502,
     "end_time": "2023-01-03T08:32:28.735690",
     "exception": false,
     "start_time": "2023-01-03T08:32:28.731188",
     "status": "completed"
    },
    "tags": []
   },
   "source": [
    "# Importing the libraries"
   ]
  },
  {
   "cell_type": "code",
   "execution_count": 1,
   "id": "3de72a60",
   "metadata": {
    "execution": {
     "iopub.execute_input": "2023-01-03T08:32:28.745421Z",
     "iopub.status.busy": "2023-01-03T08:32:28.744420Z",
     "iopub.status.idle": "2023-01-03T08:32:42.972749Z",
     "shell.execute_reply": "2023-01-03T08:32:42.971359Z"
    },
    "papermill": {
     "duration": 14.236589,
     "end_time": "2023-01-03T08:32:42.975861",
     "exception": false,
     "start_time": "2023-01-03T08:32:28.739272",
     "status": "completed"
    },
    "tags": []
   },
   "outputs": [
    {
     "name": "stdout",
     "output_type": "stream",
     "text": [
      "Collecting dicomsdl\r\n",
      "  Downloading dicomsdl-0.109.1-cp37-cp37m-manylinux_2_12_x86_64.manylinux2010_x86_64.whl (1.4 MB)\r\n",
      "\u001b[2K     \u001b[90m━━━━━━━━━━━━━━━━━━━━━━━━━━━━━━━━━━━━━━━━\u001b[0m \u001b[32m1.4/1.4 MB\u001b[0m \u001b[31m2.9 MB/s\u001b[0m eta \u001b[36m0:00:00\u001b[0m\r\n",
      "\u001b[?25hInstalling collected packages: dicomsdl\r\n",
      "Successfully installed dicomsdl-0.109.1\r\n",
      "\u001b[33mWARNING: Running pip as the 'root' user can result in broken permissions and conflicting behaviour with the system package manager. It is recommended to use a virtual environment instead: https://pip.pypa.io/warnings/venv\u001b[0m\u001b[33m\r\n",
      "\u001b[0m"
     ]
    }
   ],
   "source": [
    "import sys\n",
    "!{sys.executable} -m pip install dicomsdl"
   ]
  },
  {
   "cell_type": "code",
   "execution_count": 2,
   "id": "518e67f5",
   "metadata": {
    "execution": {
     "iopub.execute_input": "2023-01-03T08:32:42.987540Z",
     "iopub.status.busy": "2023-01-03T08:32:42.987001Z",
     "iopub.status.idle": "2023-01-03T08:32:42.992029Z",
     "shell.execute_reply": "2023-01-03T08:32:42.991069Z"
    },
    "papermill": {
     "duration": 0.013769,
     "end_time": "2023-01-03T08:32:42.994339",
     "exception": false,
     "start_time": "2023-01-03T08:32:42.980570",
     "status": "completed"
    },
    "tags": []
   },
   "outputs": [],
   "source": [
    "#!pip install /kaggle/input/rsnapacks/dicomsdl-0.109.1-cp36-cp36m-manylinux_2_12_x86_64.manylinux2010_x86_64.whl\n"
   ]
  },
  {
   "cell_type": "code",
   "execution_count": 3,
   "id": "757425b5",
   "metadata": {
    "execution": {
     "iopub.execute_input": "2023-01-03T08:32:43.005216Z",
     "iopub.status.busy": "2023-01-03T08:32:43.004749Z",
     "iopub.status.idle": "2023-01-03T08:32:51.348498Z",
     "shell.execute_reply": "2023-01-03T08:32:51.347227Z"
    },
    "papermill": {
     "duration": 8.3525,
     "end_time": "2023-01-03T08:32:51.351264",
     "exception": false,
     "start_time": "2023-01-03T08:32:42.998764",
     "status": "completed"
    },
    "tags": []
   },
   "outputs": [],
   "source": [
    "import numpy as np\n",
    "import pandas as pd\n",
    "import matplotlib.pyplot as plt\n",
    "import seaborn as sns\n",
    "\n",
    "#import pydicom as dicom\n",
    "import dicomsdl as dicom\n",
    "import tensorflow as tf\n",
    "import tensorflow_io as tfio\n",
    "import os\n",
    "from tqdm import tqdm\n",
    "import cv2\n",
    "from PIL import Image\n",
    "from joblib import Parallel, delayed\n",
    "import gc"
   ]
  },
  {
   "cell_type": "markdown",
   "id": "0faca798",
   "metadata": {
    "papermill": {
     "duration": 0.004106,
     "end_time": "2023-01-03T08:32:51.359870",
     "exception": false,
     "start_time": "2023-01-03T08:32:51.355764",
     "status": "completed"
    },
    "tags": []
   },
   "source": [
    "# Reading the training dataset of breast cancer patients"
   ]
  },
  {
   "cell_type": "code",
   "execution_count": 4,
   "id": "e8a6d7eb",
   "metadata": {
    "execution": {
     "iopub.execute_input": "2023-01-03T08:32:51.371318Z",
     "iopub.status.busy": "2023-01-03T08:32:51.370600Z",
     "iopub.status.idle": "2023-01-03T08:32:51.501767Z",
     "shell.execute_reply": "2023-01-03T08:32:51.500420Z"
    },
    "papermill": {
     "duration": 0.140124,
     "end_time": "2023-01-03T08:32:51.504730",
     "exception": false,
     "start_time": "2023-01-03T08:32:51.364606",
     "status": "completed"
    },
    "tags": []
   },
   "outputs": [],
   "source": [
    "train_data = pd.read_csv('/kaggle/input/rsna-breast-cancer-detection/train.csv')\n"
   ]
  },
  {
   "cell_type": "code",
   "execution_count": 5,
   "id": "780c8a0b",
   "metadata": {
    "execution": {
     "iopub.execute_input": "2023-01-03T08:32:51.515597Z",
     "iopub.status.busy": "2023-01-03T08:32:51.515175Z",
     "iopub.status.idle": "2023-01-03T08:32:51.539582Z",
     "shell.execute_reply": "2023-01-03T08:32:51.538020Z"
    },
    "papermill": {
     "duration": 0.033082,
     "end_time": "2023-01-03T08:32:51.542442",
     "exception": false,
     "start_time": "2023-01-03T08:32:51.509360",
     "status": "completed"
    },
    "tags": []
   },
   "outputs": [
    {
     "name": "stdout",
     "output_type": "stream",
     "text": [
      "       site_id  patient_id    image_id laterality view   age  cancer  biopsy  \\\n",
      "0            2       10006   462822612          L   CC  61.0       0       0   \n",
      "1            2       10006  1459541791          L  MLO  61.0       0       0   \n",
      "2            2       10006  1864590858          R  MLO  61.0       0       0   \n",
      "3            2       10006  1874946579          R   CC  61.0       0       0   \n",
      "4            2       10011   220375232          L   CC  55.0       0       0   \n",
      "...        ...         ...         ...        ...  ...   ...     ...     ...   \n",
      "54701        1        9973  1729524723          R  MLO  43.0       0       0   \n",
      "54702        1        9989    63473691          L  MLO  60.0       0       0   \n",
      "54703        1        9989  1078943060          L   CC  60.0       0       0   \n",
      "54704        1        9989   398038886          R  MLO  60.0       0       0   \n",
      "54705        1        9989   439796429          R   CC  60.0       0       0   \n",
      "\n",
      "       invasive  BIRADS  implant density  machine_id  difficult_negative_case  \n",
      "0             0     NaN        0     NaN          29                    False  \n",
      "1             0     NaN        0     NaN          29                    False  \n",
      "2             0     NaN        0     NaN          29                    False  \n",
      "3             0     NaN        0     NaN          29                    False  \n",
      "4             0     0.0        0     NaN          21                     True  \n",
      "...         ...     ...      ...     ...         ...                      ...  \n",
      "54701         0     1.0        0       C          49                    False  \n",
      "54702         0     NaN        0       C         216                    False  \n",
      "54703         0     NaN        0       C         216                    False  \n",
      "54704         0     0.0        0       C         216                     True  \n",
      "54705         0     0.0        0       C         216                     True  \n",
      "\n",
      "[54706 rows x 14 columns]\n"
     ]
    }
   ],
   "source": [
    "print(train_data)"
   ]
  },
  {
   "cell_type": "code",
   "execution_count": 6,
   "id": "7ee061dc",
   "metadata": {
    "execution": {
     "iopub.execute_input": "2023-01-03T08:32:51.553183Z",
     "iopub.status.busy": "2023-01-03T08:32:51.552761Z",
     "iopub.status.idle": "2023-01-03T08:32:51.635801Z",
     "shell.execute_reply": "2023-01-03T08:32:51.634542Z"
    },
    "papermill": {
     "duration": 0.091687,
     "end_time": "2023-01-03T08:32:51.638632",
     "exception": false,
     "start_time": "2023-01-03T08:32:51.546945",
     "status": "completed"
    },
    "tags": []
   },
   "outputs": [],
   "source": [
    "path_train_imgs = '/kaggle/input/rsna-breast-cancer-detection/train_images/'\n",
    "\n",
    "patient_ids = train_data['patient_id']\n",
    "image_ids = train_data['image_id']\n",
    "sides  = train_data['laterality']\n",
    "\n",
    "train_img_data = []\n",
    "for pi, ii, leng in zip(patient_ids, image_ids, range(len(patient_ids))):\n",
    "    train_img_data.append(path_train_imgs + str(pi) + '/' + str(ii) + '.dcm')\n",
    "   \n",
    "train_data['img_data'] = \" \"\n",
    "\n",
    "def crop(sideName, imgName):\n",
    "    if sideName == 'L':\n",
    "        colind=[]\n",
    "        for r,row in enumerate(imgName):\n",
    "            for c,col in enumerate(row):\n",
    "                if col==0:\n",
    "                    colind.append(c)\n",
    "                    break\n",
    "        crop_size = max(colind)\n",
    "        imgName = imgName[0:512,0:crop_size]\n",
    "        imgName = cv2.resize(imgName,(128,128))\n",
    "        \n",
    "    if sideName == 'R':\n",
    "        colind=[]\n",
    "        for r,row in enumerate(imgName):\n",
    "            for c,col in enumerate(row):\n",
    "                if col!=0:\n",
    "                    colind.append(c)\n",
    "                    break\n",
    "        crop_size = min(colind)\n",
    "        imgName = imgName[0:512,crop_size:512]\n",
    "        imgName = cv2.resize(imgName,(128,128))\n",
    "    \n",
    "    return imgName    \n",
    "\n",
    "    gc.collect()\n",
    "    \n",
    "\n",
    "def img_process(i,filename):\n",
    "    \n",
    "    #ds = dicom.dcmread(filename)\n",
    "    ds = dicom.open(filename)\n",
    "    ds = ds.pixelData()\n",
    "    ds = cv2.normalize(ds, None, 0, 1.0, cv2.NORM_MINMAX, dtype=cv2.CV_32F)\n",
    "    \n",
    "    ds = cv2.resize(ds,(512,512))\n",
    "    ds = np.where(ds >= 0.9999, 0,ds)\n",
    "   \n",
    "    try:\n",
    "        ds = crop(sides[i], ds)\n",
    "        \n",
    "        \n",
    "    except:\n",
    "        ds = np.zeros((128, 128))\n",
    "       \n",
    "    #train_data.loc[i,'img_data'] = [img_fin]\n",
    "    #train_data.to_csv('/kaggle/working/training_img_data.csv') \n",
    "    return ds\n",
    "    gc.collect()\n",
    "    \n",
    "    \n",
    "    \n",
    "    \n",
    "\n",
    "    \n",
    "    \n",
    "\n"
   ]
  },
  {
   "cell_type": "code",
   "execution_count": 7,
   "id": "125b8da0",
   "metadata": {
    "execution": {
     "iopub.execute_input": "2023-01-03T08:32:51.649236Z",
     "iopub.status.busy": "2023-01-03T08:32:51.648856Z",
     "iopub.status.idle": "2023-01-03T14:08:10.218455Z",
     "shell.execute_reply": "2023-01-03T14:08:10.215934Z"
    },
    "papermill": {
     "duration": 20118.579987,
     "end_time": "2023-01-03T14:08:10.223142",
     "exception": false,
     "start_time": "2023-01-03T08:32:51.643155",
     "status": "completed"
    },
    "tags": []
   },
   "outputs": [
    {
     "name": "stderr",
     "output_type": "stream",
     "text": [
      "100%|█████████▉| 54705/54706 [5:33:40<00:00,  2.73it/s]\n"
     ]
    }
   ],
   "source": [
    "#for i, fname in zip(range(len(train_img_data[:2])),tqdm(train_img_data[:2])):\n",
    "    \n",
    "    #img_process(i,fname)\n",
    "    \n",
    "   \n",
    "    #gc.collect()\n",
    "\n",
    "\n",
    "result = Parallel(n_jobs=128)(\\\n",
    "    delayed(img_process)(i, fname) for i, fname in zip(range(len(train_img_data)),tqdm(train_img_data))\\\n",
    "    )\n",
    "\n"
   ]
  },
  {
   "cell_type": "code",
   "execution_count": 8,
   "id": "37f352b7",
   "metadata": {
    "execution": {
     "iopub.execute_input": "2023-01-03T14:08:10.292289Z",
     "iopub.status.busy": "2023-01-03T14:08:10.291444Z",
     "iopub.status.idle": "2023-01-03T14:08:10.339501Z",
     "shell.execute_reply": "2023-01-03T14:08:10.338064Z"
    },
    "papermill": {
     "duration": 0.08642,
     "end_time": "2023-01-03T14:08:10.342663",
     "exception": false,
     "start_time": "2023-01-03T14:08:10.256243",
     "status": "completed"
    },
    "tags": []
   },
   "outputs": [],
   "source": [
    "train_data['img_data'] = result"
   ]
  },
  {
   "cell_type": "code",
   "execution_count": 9,
   "id": "6586fb99",
   "metadata": {
    "execution": {
     "iopub.execute_input": "2023-01-03T14:08:10.408370Z",
     "iopub.status.busy": "2023-01-03T14:08:10.407117Z",
     "iopub.status.idle": "2023-01-03T14:08:35.645503Z",
     "shell.execute_reply": "2023-01-03T14:08:35.644505Z"
    },
    "papermill": {
     "duration": 25.27455,
     "end_time": "2023-01-03T14:08:35.649028",
     "exception": false,
     "start_time": "2023-01-03T14:08:10.374478",
     "status": "completed"
    },
    "tags": []
   },
   "outputs": [
    {
     "data": {
      "text/plain": [
       "<matplotlib.image.AxesImage at 0x7fc0e5b10350>"
      ]
     },
     "execution_count": 9,
     "metadata": {},
     "output_type": "execute_result"
    },
    {
     "data": {
      "image/png": "[encoded data removed]",
      "text/plain": [
       "<Figure size 432x288 with 1 Axes>"
      ]
     },
     "metadata": {
      "needs_background": "light"
     },
     "output_type": "display_data"
    }
   ],
   "source": [
    "\n",
    "train_data.to_csv('training_img_data.csv')\n",
    "plt.imshow(train_data['img_data'][78])"
   ]
  }
 ],
 "metadata": {
  "kernelspec": {
   "display_name": "Python 3",
   "language": "python",
   "name": "python3"
  },
  "language_info": {
   "codemirror_mode": {
    "name": "ipython",
    "version": 3
   },
   "file_extension": ".py",
   "mimetype": "text/x-python",
   "name": "python",
   "nbconvert_exporter": "python",
   "pygments_lexer": "ipython3",
   "version": "3.7.12"
  },
  "papermill": {
   "default_parameters": {},
   "duration": 20179.06362,
   "end_time": "2023-01-03T14:08:38.992301",
   "environment_variables": {},
   "exception": null,
   "input_path": "__notebook__.ipynb",
   "output_path": "__notebook__.ipynb",
   "parameters": {},
   "start_time": "2023-01-03T08:32:19.928681",
   "version": "2.3.4"
  }
 },
 "nbformat": 4,
 "nbformat_minor": 5
}
