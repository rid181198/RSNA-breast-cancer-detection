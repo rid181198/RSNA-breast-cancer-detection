{
 "cells": [
  {
   "cell_type": "code",
   "execution_count": 1,
   "id": "d8a95655",
   "metadata": {
    "execution": {
     "iopub.execute_input": "2023-03-01T16:31:25.941850Z",
     "iopub.status.busy": "2023-03-01T16:31:25.941278Z",
     "iopub.status.idle": "2023-03-01T16:31:35.304057Z",
     "shell.execute_reply": "2023-03-01T16:31:35.302324Z"
    },
    "papermill": {
     "duration": 9.375973,
     "end_time": "2023-03-01T16:31:35.308289",
     "exception": false,
     "start_time": "2023-03-01T16:31:25.932316",
     "status": "completed"
    },
    "tags": []
   },
   "outputs": [
    {
     "name": "stdout",
     "output_type": "stream",
     "text": [
      "xgboost 1.6.2\n"
     ]
    }
   ],
   "source": [
    "import numpy as np\n",
    "import pandas as pd\n",
    "import matplotlib.pyplot as plt\n",
    "from tqdm import tqdm\n",
    "import tensorflow as tf\n",
    "from joblib import Parallel, delayed\n",
    "from tensorflow.keras.models import Sequential\n",
    "from tensorflow.keras.layers import Dense\n",
    "from tensorflow.keras.layers import LSTM\n",
    "from keras.models import Sequential\n",
    "from sklearn.preprocessing import MinMaxScaler, StandardScaler, RobustScaler\n",
    "from keras.layers import Dense, LSTM, Dropout\n",
    "import xgboost\n",
    "from xgboost import XGBRegressor\n",
    "print(\"xgboost\", xgboost.__version__)\n",
    "import warnings\n",
    "warnings.filterwarnings(\"ignore\")"
   ]
  },
  {
   "cell_type": "markdown",
   "id": "9106213d",
   "metadata": {
    "papermill": {
     "duration": 0.006767,
     "end_time": "2023-03-01T16:31:35.322812",
     "exception": false,
     "start_time": "2023-03-01T16:31:35.316045",
     "status": "completed"
    },
    "tags": []
   },
   "source": [
    "# Data visualization"
   ]
  },
  {
   "cell_type": "markdown",
   "id": "f8bdd0c3",
   "metadata": {
    "papermill": {
     "duration": 0.005871,
     "end_time": "2023-03-01T16:31:35.335200",
     "exception": false,
     "start_time": "2023-03-01T16:31:35.329329",
     "status": "completed"
    },
    "tags": []
   },
   "source": [
    "## Loading the data"
   ]
  },
  {
   "cell_type": "code",
   "execution_count": 2,
   "id": "bf180544",
   "metadata": {
    "execution": {
     "iopub.execute_input": "2023-03-01T16:31:35.350157Z",
     "iopub.status.busy": "2023-03-01T16:31:35.349379Z",
     "iopub.status.idle": "2023-03-01T16:31:35.760656Z",
     "shell.execute_reply": "2023-03-01T16:31:35.758828Z"
    },
    "papermill": {
     "duration": 0.422359,
     "end_time": "2023-03-01T16:31:35.763755",
     "exception": false,
     "start_time": "2023-03-01T16:31:35.341396",
     "status": "completed"
    },
    "tags": []
   },
   "outputs": [],
   "source": [
    "train_visuals = pd.read_csv('/kaggle/input/godaddy-microbusiness-density-forecasting/train.csv')\n",
    "train_suppl = pd.read_csv('/kaggle/input/godaddy-microbusiness-density-forecasting/census_starter.csv')\n",
    "revealed_test = pd.read_csv('/kaggle/input/godaddy-microbusiness-density-forecasting/revealed_test.csv')"
   ]
  },
  {
   "cell_type": "code",
   "execution_count": 3,
   "id": "2a64f295",
   "metadata": {
    "execution": {
     "iopub.execute_input": "2023-03-01T16:31:35.777783Z",
     "iopub.status.busy": "2023-03-01T16:31:35.777331Z",
     "iopub.status.idle": "2023-03-01T16:31:35.786287Z",
     "shell.execute_reply": "2023-03-01T16:31:35.784798Z"
    },
    "papermill": {
     "duration": 0.019521,
     "end_time": "2023-03-01T16:31:35.789332",
     "exception": false,
     "start_time": "2023-03-01T16:31:35.769811",
     "status": "completed"
    },
    "tags": []
   },
   "outputs": [
    {
     "name": "stdout",
     "output_type": "stream",
     "text": [
      "Train data columns:  Index(['row_id', 'cfips', 'county', 'state', 'first_day_of_month',\n",
      "       'microbusiness_density', 'active'],\n",
      "      dtype='object')\n",
      "Census data columns:  Index(['pct_bb_2017', 'pct_bb_2018', 'pct_bb_2019', 'pct_bb_2020',\n",
      "       'pct_bb_2021', 'cfips', 'pct_college_2017', 'pct_college_2018',\n",
      "       'pct_college_2019', 'pct_college_2020', 'pct_college_2021',\n",
      "       'pct_foreign_born_2017', 'pct_foreign_born_2018',\n",
      "       'pct_foreign_born_2019', 'pct_foreign_born_2020',\n",
      "       'pct_foreign_born_2021', 'pct_it_workers_2017', 'pct_it_workers_2018',\n",
      "       'pct_it_workers_2019', 'pct_it_workers_2020', 'pct_it_workers_2021',\n",
      "       'median_hh_inc_2017', 'median_hh_inc_2018', 'median_hh_inc_2019',\n",
      "       'median_hh_inc_2020', 'median_hh_inc_2021'],\n",
      "      dtype='object')\n",
      "Revealed data columns:  Index(['row_id', 'cfips', 'county', 'state', 'first_day_of_month',\n",
      "       'microbusiness_density', 'active'],\n",
      "      dtype='object')\n"
     ]
    }
   ],
   "source": [
    "print(\"Train data columns: \", train_visuals.columns)\n",
    "print(\"Census data columns: \", train_suppl.columns)\n",
    "print(\"Revealed data columns: \", revealed_test.columns)"
   ]
  },
  {
   "cell_type": "markdown",
   "id": "eb15ccb5",
   "metadata": {
    "papermill": {
     "duration": 0.005957,
     "end_time": "2023-03-01T16:31:35.801656",
     "exception": false,
     "start_time": "2023-03-01T16:31:35.795699",
     "status": "completed"
    },
    "tags": []
   },
   "source": [
    "### Converting the dates to days"
   ]
  },
  {
   "cell_type": "markdown",
   "id": "8985b2b7",
   "metadata": {
    "papermill": {
     "duration": 0.00596,
     "end_time": "2023-03-01T16:31:35.814079",
     "exception": false,
     "start_time": "2023-03-01T16:31:35.808119",
     "status": "completed"
    },
    "tags": []
   },
   "source": [
    "Combining the `revealed data` and `train data` and then converting `cfips` and `first_day_of_month` to the ascending order integers."
   ]
  },
  {
   "cell_type": "code",
   "execution_count": 4,
   "id": "7237dcdd",
   "metadata": {
    "execution": {
     "iopub.execute_input": "2023-03-01T16:31:35.829638Z",
     "iopub.status.busy": "2023-03-01T16:31:35.828704Z",
     "iopub.status.idle": "2023-03-01T16:37:46.202624Z",
     "shell.execute_reply": "2023-03-01T16:37:46.200744Z"
    },
    "papermill": {
     "duration": 370.38518,
     "end_time": "2023-03-01T16:37:46.205632",
     "exception": false,
     "start_time": "2023-03-01T16:31:35.820452",
     "status": "completed"
    },
    "tags": []
   },
   "outputs": [
    {
     "name": "stderr",
     "output_type": "stream",
     "text": [
      "100%|██████████| 128535/128535 [06:10<00:00, 347.34it/s]\n"
     ]
    }
   ],
   "source": [
    "#combining two datasets\n",
    "train_data = pd.concat([train_visuals, revealed_test])\n",
    "\n",
    "\n",
    "#assigning the minimum and maximum data for the conversion\n",
    "min_date = pd.to_datetime(min(train_data['first_day_of_month']))\n",
    "max_date = pd.to_datetime(max(train_data['first_day_of_month']))\n",
    "margin =  ( max_date.to_period('M')  ) \\\n",
    "                                   - ( min_date.to_period('M')  ) \n",
    "\n",
    "\n",
    "#sorting out the data according to counties and first_day_of_month\n",
    "train_data = train_data.sort_values(['cfips', 'first_day_of_month'],\\\n",
    "              ascending = [True, True])\n",
    "train_data = train_data.reset_index()\n",
    "\n",
    "#creating a dictionary of unique IDs in ascending order\n",
    "dict_val = {}\n",
    "for leng, val in enumerate(train_data.cfips.unique()):\n",
    "    dict_val[val] = leng\n",
    "\n",
    "    \n",
    "dates = np.array(train_data['first_day_of_month'])\n",
    "train_data['numMons'] = \" \"\n",
    "months0=np.arange(1,margin.n+2,1)\n",
    "months=[]\n",
    "for i in range(len(dict_val)):\n",
    "    months=np.concatenate((months,months0))\n",
    "train_data['numMons'] = months\n",
    "train_data[\"countyID\"] = \" \"\n",
    "\n",
    "\n",
    "for leng, val in enumerate(tqdm(train_data['cfips'])):\n",
    "    train_data.loc[leng,\"countyID\"] = dict_val[train_data.loc[leng,'cfips']]"
   ]
  },
  {
   "cell_type": "markdown",
   "id": "48479d09",
   "metadata": {
    "papermill": {
     "duration": 0.21921,
     "end_time": "2023-03-01T16:37:46.647192",
     "exception": false,
     "start_time": "2023-03-01T16:37:46.427982",
     "status": "completed"
    },
    "tags": []
   },
   "source": [
    "### Plotting the target variable `microbusiness density`"
   ]
  },
  {
   "cell_type": "code",
   "execution_count": 5,
   "id": "298ea04e",
   "metadata": {
    "execution": {
     "iopub.execute_input": "2023-03-01T16:37:47.089875Z",
     "iopub.status.busy": "2023-03-01T16:37:47.089170Z",
     "iopub.status.idle": "2023-03-01T16:37:47.526464Z",
     "shell.execute_reply": "2023-03-01T16:37:47.525143Z"
    },
    "papermill": {
     "duration": 0.666546,
     "end_time": "2023-03-01T16:37:47.529610",
     "exception": false,
     "start_time": "2023-03-01T16:37:46.863064",
     "status": "completed"
    },
    "tags": []
   },
   "outputs": [
    {
     "data": {
      "image/png": "[encoded data removed]",
      "text/plain": [
       "<Figure size 432x288 with 1 Axes>"
      ]
     },
     "metadata": {
      "needs_background": "light"
     },
     "output_type": "display_data"
    }
   ],
   "source": [
    "countyId = [0,50, 200,100, 500, 1000, 2000, 3000]\n",
    "for i in countyId:\n",
    "    tempdata = train_data[train_data['countyID'] == i]\n",
    "    plt.plot(tempdata['numMons'], tempdata['microbusiness_density'], label=str(i))\n",
    "    plt.legend()"
   ]
  },
  {
   "cell_type": "markdown",
   "id": "13889205",
   "metadata": {
    "papermill": {
     "duration": 0.266979,
     "end_time": "2023-03-01T16:37:48.019764",
     "exception": false,
     "start_time": "2023-03-01T16:37:47.752785",
     "status": "completed"
    },
    "tags": []
   },
   "source": [
    "There are extreme values like here for `countyID` 2000 and due to this reason, I have fitted the model for each county"
   ]
  },
  {
   "cell_type": "markdown",
   "id": "250606cf",
   "metadata": {
    "papermill": {
     "duration": 0.22681,
     "end_time": "2023-03-01T16:37:48.586838",
     "exception": false,
     "start_time": "2023-03-01T16:37:48.360028",
     "status": "completed"
    },
    "tags": []
   },
   "source": [
    "### Now, plotting the sum of `microbusiness density` for all counties per each month to see if there is any anomaly for the particular month."
   ]
  },
  {
   "cell_type": "code",
   "execution_count": 6,
   "id": "bb58577d",
   "metadata": {
    "execution": {
     "iopub.execute_input": "2023-03-01T16:37:49.039003Z",
     "iopub.status.busy": "2023-03-01T16:37:49.038196Z",
     "iopub.status.idle": "2023-03-01T16:37:49.203524Z",
     "shell.execute_reply": "2023-03-01T16:37:49.202590Z"
    },
    "papermill": {
     "duration": 0.392852,
     "end_time": "2023-03-01T16:37:49.206042",
     "exception": false,
     "start_time": "2023-03-01T16:37:48.813190",
     "status": "completed"
    },
    "tags": []
   },
   "outputs": [
    {
     "data": {
      "text/plain": [
       "[<matplotlib.lines.Line2D at 0x7f4a374ca490>]"
      ]
     },
     "execution_count": 6,
     "metadata": {},
     "output_type": "execute_result"
    },
    {
     "data": {
      "image/png": "[encoded data removed]",
      "text/plain": [
       "<Figure size 432x288 with 1 Axes>"
      ]
     },
     "metadata": {
      "needs_background": "light"
     },
     "output_type": "display_data"
    }
   ],
   "source": [
    "groups = train_data.groupby('numMons')['microbusiness_density'].sum().reset_index()\n",
    "plt.plot(groups['numMons'], groups['microbusiness_density'])"
   ]
  },
  {
   "cell_type": "markdown",
   "id": "fd588755",
   "metadata": {
    "papermill": {
     "duration": 0.224604,
     "end_time": "2023-03-01T16:37:49.653865",
     "exception": false,
     "start_time": "2023-03-01T16:37:49.429261",
     "status": "completed"
    },
    "tags": []
   },
   "source": [
    "Overall, the `microbusiness density` is increasing with time. But at the time step 18, there is a large decreasing behaviour. For each county, this shouldn't be a problem."
   ]
  },
  {
   "cell_type": "code",
   "execution_count": null,
   "id": "b61228b7",
   "metadata": {
    "papermill": {
     "duration": 0.222389,
     "end_time": "2023-03-01T16:37:50.098608",
     "exception": false,
     "start_time": "2023-03-01T16:37:49.876219",
     "status": "completed"
    },
    "tags": []
   },
   "outputs": [],
   "source": []
  },
  {
   "cell_type": "markdown",
   "id": "1d163922",
   "metadata": {
    "papermill": {
     "duration": 0.223975,
     "end_time": "2023-03-01T16:37:50.605211",
     "exception": false,
     "start_time": "2023-03-01T16:37:50.381236",
     "status": "completed"
    },
    "tags": []
   },
   "source": [
    "# Data featuring"
   ]
  },
  {
   "cell_type": "markdown",
   "id": "fa0f7720",
   "metadata": {
    "papermill": {
     "duration": 0.220945,
     "end_time": "2023-03-01T16:37:51.046940",
     "exception": false,
     "start_time": "2023-03-01T16:37:50.825995",
     "status": "completed"
    },
    "tags": []
   },
   "source": [
    "#### Firstly, splitting the data into train, test for verification"
   ]
  },
  {
   "cell_type": "code",
   "execution_count": 7,
   "id": "77f6e659",
   "metadata": {
    "_cell_guid": "b1076dfc-b9ad-4769-8c92-a6c4dae69d19",
    "_uuid": "8f2839f25d086af736a60e9eeb907d3b93b6e0e5",
    "execution": {
     "iopub.execute_input": "2023-03-01T16:37:51.492765Z",
     "iopub.status.busy": "2023-03-01T16:37:51.491709Z",
     "iopub.status.idle": "2023-03-01T16:37:51.507214Z",
     "shell.execute_reply": "2023-03-01T16:37:51.506270Z"
    },
    "papermill": {
     "duration": 0.243185,
     "end_time": "2023-03-01T16:37:51.510464",
     "exception": false,
     "start_time": "2023-03-01T16:37:51.267279",
     "status": "completed"
    },
    "tags": []
   },
   "outputs": [
    {
     "name": "stdout",
     "output_type": "stream",
     "text": [
      "   index           row_id  cfips          county    state first_day_of_month  \\\n",
      "0      0  1001_2019-08-01   1001  Autauga County  Alabama         2019-08-01   \n",
      "1      1  1001_2019-09-01   1001  Autauga County  Alabama         2019-09-01   \n",
      "2      2  1001_2019-10-01   1001  Autauga County  Alabama         2019-10-01   \n",
      "3      3  1001_2019-11-01   1001  Autauga County  Alabama         2019-11-01   \n",
      "4      4  1001_2019-12-01   1001  Autauga County  Alabama         2019-12-01   \n",
      "\n",
      "   microbusiness_density  active  numMons countyID  \n",
      "0               3.007682    1249      1.0        0  \n",
      "1               2.884870    1198      2.0        0  \n",
      "2               3.055843    1269      3.0        0  \n",
      "3               2.993233    1243      4.0        0  \n",
      "4               2.993233    1243      5.0        0  \n"
     ]
    }
   ],
   "source": [
    "counties=100\n",
    "train_data_short =train_data[:41*counties]\n",
    "print(train_data_short.head())"
   ]
  },
  {
   "cell_type": "markdown",
   "id": "9845f9f5",
   "metadata": {
    "papermill": {
     "duration": 0.221776,
     "end_time": "2023-03-01T16:37:51.956846",
     "exception": false,
     "start_time": "2023-03-01T16:37:51.735070",
     "status": "completed"
    },
    "tags": []
   },
   "source": [
    "Separating each county data to different elements so we can train it separately."
   ]
  },
  {
   "cell_type": "code",
   "execution_count": 8,
   "id": "ca1fb7e5",
   "metadata": {
    "execution": {
     "iopub.execute_input": "2023-03-01T16:37:52.483399Z",
     "iopub.status.busy": "2023-03-01T16:37:52.482582Z",
     "iopub.status.idle": "2023-03-01T16:37:52.495854Z",
     "shell.execute_reply": "2023-03-01T16:37:52.494480Z"
    },
    "papermill": {
     "duration": 0.249874,
     "end_time": "2023-03-01T16:37:52.498820",
     "exception": false,
     "start_time": "2023-03-01T16:37:52.248946",
     "status": "completed"
    },
    "tags": []
   },
   "outputs": [],
   "source": [
    "eachCountyData=[]\n",
    "loopInd = np.arange(0,41*(counties+1),41)\n",
    "for ind in range(len(loopInd)-1):\n",
    "    eachCountyData.append(train_data_short.iloc[loopInd[ind]:loopInd[ind+1],:])"
   ]
  },
  {
   "cell_type": "code",
   "execution_count": 9,
   "id": "772df6c9",
   "metadata": {
    "execution": {
     "iopub.execute_input": "2023-03-01T16:37:52.946090Z",
     "iopub.status.busy": "2023-03-01T16:37:52.945548Z",
     "iopub.status.idle": "2023-03-01T16:37:52.967372Z",
     "shell.execute_reply": "2023-03-01T16:37:52.965992Z"
    },
    "papermill": {
     "duration": 0.247654,
     "end_time": "2023-03-01T16:37:52.970205",
     "exception": false,
     "start_time": "2023-03-01T16:37:52.722551",
     "status": "completed"
    },
    "tags": []
   },
   "outputs": [],
   "source": [
    "def difference(dataset, interval=[1,2,3,4,5]):\n",
    "    diff = list()\n",
    "    for j in interval:\n",
    "        temp=[]\n",
    "        for i in range(j, len(dataset)):\n",
    "            value = dataset[i] - dataset[i - j]\n",
    "            temp.append(value)\n",
    "        diff.append(pd.Series(temp))\n",
    "    diff = pd.concat(diff, axis=1)\n",
    "    return diff.values\n",
    "\n",
    "def timeseries_to_supervised(dataset, lag=1):\n",
    "    df = pd.DataFrame(dataset)\n",
    "    columns = [df.shift(i) for i in range(1, lag+1)]\n",
    "    columns.append(df)\n",
    "    df = pd.concat(columns, axis=1)\n",
    "    df.fillna(0, inplace=True)\n",
    "    return df.values\n",
    "\n",
    "def splitTestTrain(dataset, breakpoint=35):\n",
    "    trainSetTar = dataset[0:breakpoint]\n",
    "    testSetTar = dataset[breakpoint:41]\n",
    "\n",
    "    return trainSetTar, testSetTar\n",
    "\n",
    "def scale(train, test):\n",
    "    # fit scaler\n",
    "    scaler = RobustScaler()\n",
    "    scaler = scaler.fit(train)\n",
    "    # transform train\n",
    "    train = train.reshape(train.shape[0], train.shape[1])\n",
    "    train_scaled = scaler.transform(train)\n",
    "    # transform test\n",
    "    test = test.reshape(test.shape[0], test.shape[1])\n",
    "    test_scaled = scaler.transform(test)\n",
    "    return scaler, train_scaled, test_scaled\n",
    "\n",
    "def fit_xgboost(train, n_estimators=1000):\n",
    "    X, y = train[:, 0:-1], train[:, -1]\n",
    "    model = XGBRegressor(objective='reg:squarederror', n_estimators=n_estimators)\n",
    "    model.fit(X,y)\n",
    "    return model\n",
    "def forecast_xgboost(model, test):\n",
    "    X = test[:, 0:-1]\n",
    "    yhat = model.predict(X)\n",
    "    return yhat\n",
    "\n",
    "def invert_scale(scaler, test_scaled, predictions_scaled):\n",
    "    temparr1 = np.array(test_scaled[:,0:-1])\n",
    "    temparr2 = np.array(predictions_scaled).reshape(len(predictions_scaled), 1)\n",
    "    temp_scaled = np.hstack( (temparr1, temparr2) )\n",
    "    unscaled = scaler.inverse_transform(temp_scaled)[:,-1]\n",
    "    return unscaled\n",
    "\n",
    "def inverse_difference(history, yhat, test_scaled, interval=1):\n",
    "    final_pred=[]\n",
    "    for i in range(len(test_scaled)):\n",
    "        final_pred.append(yhat[i] + history[-(len(test_scaled) + interval - i)])\n",
    "    return np.array(final_pred)\n",
    "\n",
    "\n",
    "\n",
    "\n",
    "\n",
    "def fit_lstm(train, batch_size, nb_epoch, neurons):\n",
    "    X, y = train[:, 0:-1], train[:, -1]\n",
    "    X = X.reshape(X.shape[0], 1, X.shape[1])\n",
    "   \n",
    "    model = Sequential()\n",
    "    model.add(LSTM(neurons, batch_input_shape=(batch_size, X.shape[1], X.shape[2]), stateful=True))\n",
    "    model.add(Dense(1))\n",
    "    model.compile(loss='mean_squared_error', optimizer='adam')\n",
    "    for i in range(nb_epoch):\n",
    "         model.fit(X, y, epochs=10, batch_size=batch_size, verbose=0, shuffle=False)\n",
    "    #model.reset_states()\n",
    "    \n",
    "    return model\n",
    "\n",
    " \n",
    "\n",
    "\n"
   ]
  },
  {
   "cell_type": "code",
   "execution_count": 10,
   "id": "5f6fb098",
   "metadata": {
    "execution": {
     "iopub.execute_input": "2023-03-01T16:37:53.416737Z",
     "iopub.status.busy": "2023-03-01T16:37:53.416201Z",
     "iopub.status.idle": "2023-03-01T16:37:56.975358Z",
     "shell.execute_reply": "2023-03-01T16:37:56.974225Z"
    },
    "papermill": {
     "duration": 3.784064,
     "end_time": "2023-03-01T16:37:56.978210",
     "exception": false,
     "start_time": "2023-03-01T16:37:53.194146",
     "status": "completed"
    },
    "tags": []
   },
   "outputs": [],
   "source": [
    "traindataTar = eachCountyData[16]['microbusiness_density'].values\n",
    "diff_values = difference(traindataTar,interval=[2,1])\n",
    "supervised = timeseries_to_supervised(diff_values, 2)\n",
    "train, test = splitTestTrain(supervised, breakpoint=35)\n",
    "scaler, train_scaled, test_scaled = scale(train, test)\n",
    "model = fit_xgboost(train_scaled)\n",
    "predictions_scaled = forecast_xgboost(model,test_scaled)\n",
    "\n",
    "\n",
    "#print(inverse_difference(traindataTar, predictions, interval=1))"
   ]
  },
  {
   "cell_type": "code",
   "execution_count": 11,
   "id": "a7dc3895",
   "metadata": {
    "execution": {
     "iopub.execute_input": "2023-03-01T16:37:57.490724Z",
     "iopub.status.busy": "2023-03-01T16:37:57.490279Z",
     "iopub.status.idle": "2023-03-01T16:37:57.496301Z",
     "shell.execute_reply": "2023-03-01T16:37:57.495125Z"
    },
    "papermill": {
     "duration": 0.29861,
     "end_time": "2023-03-01T16:37:57.498562",
     "exception": false,
     "start_time": "2023-03-01T16:37:57.199952",
     "status": "completed"
    },
    "tags": []
   },
   "outputs": [],
   "source": [
    "unscaled = invert_scale(scaler, test_scaled, predictions_scaled)\n",
    "final_pred = inverse_difference(traindataTar, unscaled, test_scaled, interval=1)"
   ]
  },
  {
   "cell_type": "code",
   "execution_count": 12,
   "id": "fda33351",
   "metadata": {
    "execution": {
     "iopub.execute_input": "2023-03-01T16:37:57.940007Z",
     "iopub.status.busy": "2023-03-01T16:37:57.939071Z",
     "iopub.status.idle": "2023-03-01T16:37:58.081241Z",
     "shell.execute_reply": "2023-03-01T16:37:58.079736Z"
    },
    "papermill": {
     "duration": 0.366354,
     "end_time": "2023-03-01T16:37:58.083784",
     "exception": false,
     "start_time": "2023-03-01T16:37:57.717430",
     "status": "completed"
    },
    "tags": []
   },
   "outputs": [
    {
     "data": {
      "image/png": "[encoded data removed]",
      "text/plain": [
       "<Figure size 432x288 with 1 Axes>"
      ]
     },
     "metadata": {
      "needs_background": "light"
     },
     "output_type": "display_data"
    }
   ],
   "source": [
    "plt.plot(traindataTar[35:40])\n",
    "plt.plot(final_pred)\n",
    "plt.show()"
   ]
  }
 ],
 "metadata": {
  "kernelspec": {
   "display_name": "Python 3",
   "language": "python",
   "name": "python3"
  },
  "language_info": {
   "codemirror_mode": {
    "name": "ipython",
    "version": 3
   },
   "file_extension": ".py",
   "mimetype": "text/x-python",
   "name": "python",
   "nbconvert_exporter": "python",
   "pygments_lexer": "ipython3",
   "version": "3.7.12"
  },
  "papermill": {
   "default_parameters": {},
   "duration": 407.299621,
   "end_time": "2023-03-01T16:38:01.438225",
   "environment_variables": {},
   "exception": null,
   "input_path": "__notebook__.ipynb",
   "output_path": "__notebook__.ipynb",
   "parameters": {},
   "start_time": "2023-03-01T16:31:14.138604",
   "version": "2.3.4"
  }
 },
 "nbformat": 4,
 "nbformat_minor": 5
}
