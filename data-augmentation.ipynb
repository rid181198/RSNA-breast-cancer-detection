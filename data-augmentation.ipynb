{
 "cells": [
  {
   "cell_type": "code",
   "execution_count": 1,
   "id": "5b354337",
   "metadata": {
    "execution": {
     "iopub.execute_input": "2023-01-08T18:19:32.085762Z",
     "iopub.status.busy": "2023-01-08T18:19:32.084886Z",
     "iopub.status.idle": "2023-01-08T18:19:39.890101Z",
     "shell.execute_reply": "2023-01-08T18:19:39.888564Z"
    },
    "papermill": {
     "duration": 7.815901,
     "end_time": "2023-01-08T18:19:39.893453",
     "exception": false,
     "start_time": "2023-01-08T18:19:32.077552",
     "status": "completed"
    },
    "tags": []
   },
   "outputs": [],
   "source": [
    "import numpy as np\n",
    "import pandas as pd\n",
    "import matplotlib.pyplot as plt\n",
    "import seaborn as sns\n",
    "import pickle\n",
    "import tensorflow as tf\n",
    "import tensorflow_io as tfio\n",
    "import os\n",
    "from tqdm import tqdm\n",
    "import cv2\n",
    "from PIL import Image\n",
    "from joblib import Parallel, delayed\n",
    "import gc"
   ]
  },
  {
   "cell_type": "code",
   "execution_count": 2,
   "id": "39b31aa0",
   "metadata": {
    "_cell_guid": "b1076dfc-b9ad-4769-8c92-a6c4dae69d19",
    "_uuid": "8f2839f25d086af736a60e9eeb907d3b93b6e0e5",
    "execution": {
     "iopub.execute_input": "2023-01-08T18:19:39.903630Z",
     "iopub.status.busy": "2023-01-08T18:19:39.902767Z",
     "iopub.status.idle": "2023-01-08T18:20:30.229490Z",
     "shell.execute_reply": "2023-01-08T18:20:30.228333Z"
    },
    "papermill": {
     "duration": 50.334958,
     "end_time": "2023-01-08T18:20:30.232475",
     "exception": false,
     "start_time": "2023-01-08T18:19:39.897517",
     "status": "completed"
    },
    "tags": []
   },
   "outputs": [],
   "source": [
    "with (open('/kaggle/input/output/training_img_data.pkl', \"rb\")) as openfile:\n",
    "     train_data = pickle.load(openfile)"
   ]
  },
  {
   "cell_type": "code",
   "execution_count": 3,
   "id": "cc06660e",
   "metadata": {
    "execution": {
     "iopub.execute_input": "2023-01-08T18:20:30.241874Z",
     "iopub.status.busy": "2023-01-08T18:20:30.241415Z",
     "iopub.status.idle": "2023-01-08T18:21:28.879227Z",
     "shell.execute_reply": "2023-01-08T18:21:28.878362Z"
    },
    "papermill": {
     "duration": 58.646162,
     "end_time": "2023-01-08T18:21:28.882536",
     "exception": false,
     "start_time": "2023-01-08T18:20:30.236374",
     "status": "completed"
    },
    "tags": []
   },
   "outputs": [
    {
     "name": "stderr",
     "output_type": "stream",
     "text": [
      "100%|██████████| 54706/54706 [00:58<00:00, 933.41it/s]"
     ]
    },
    {
     "name": "stdout",
     "output_type": "stream",
     "text": [
      "4969\n"
     ]
    },
    {
     "name": "stderr",
     "output_type": "stream",
     "text": [
      "\n"
     ]
    }
   ],
   "source": [
    "zero_array = np.zeros((128,128))\n",
    "counter=0\n",
    "for i,j in enumerate(tqdm(train_data['img_data'])):\n",
    "    if np.array_equiv(j,zero_array) == True:\n",
    "        counter+=1\n",
    "        train_data = train_data.drop(i)\n",
    "      \n",
    "print(counter)\n",
    "        "
   ]
  },
  {
   "cell_type": "code",
   "execution_count": 4,
   "id": "1a6eca2a",
   "metadata": {
    "execution": {
     "iopub.execute_input": "2023-01-08T18:21:28.949993Z",
     "iopub.status.busy": "2023-01-08T18:21:28.948834Z",
     "iopub.status.idle": "2023-01-08T18:21:28.993793Z",
     "shell.execute_reply": "2023-01-08T18:21:28.992736Z"
    },
    "papermill": {
     "duration": 0.080123,
     "end_time": "2023-01-08T18:21:28.996516",
     "exception": false,
     "start_time": "2023-01-08T18:21:28.916393",
     "status": "completed"
    },
    "tags": []
   },
   "outputs": [],
   "source": [
    "train_data_pos = train_data[train_data['cancer'] == 1]\n",
    "train_data_neg = train_data[train_data['cancer'] == 0]\n",
    "\n",
    "train_data_pos = train_data_pos.sample(frac = 1)\n",
    "test_data = train_data_pos[int(2*len(train_data_pos)/3):]\n",
    "train_data_pos = train_data_pos[:int(2*len(train_data_pos)/3)]\n",
    "train_data_neg = train_data_neg.sample(frac = 1)\n",
    "\n",
    "train_data_neg = train_data_neg.sample(frac= 0.04)\n",
    "\n",
    "frames = [train_data_pos]\n",
    "frames.append(train_data_neg)\n",
    "train_data_shuff = pd.concat(frames)\n",
    "train_data_shuff = train_data_shuff.sample(frac=1)"
   ]
  },
  {
   "cell_type": "code",
   "execution_count": 5,
   "id": "2f6fa55d",
   "metadata": {
    "execution": {
     "iopub.execute_input": "2023-01-08T18:21:29.059827Z",
     "iopub.status.busy": "2023-01-08T18:21:29.058859Z",
     "iopub.status.idle": "2023-01-08T18:21:29.194359Z",
     "shell.execute_reply": "2023-01-08T18:21:29.193176Z"
    },
    "papermill": {
     "duration": 0.170871,
     "end_time": "2023-01-08T18:21:29.197850",
     "exception": false,
     "start_time": "2023-01-08T18:21:29.026979",
     "status": "completed"
    },
    "tags": []
   },
   "outputs": [],
   "source": [
    "from sklearn.model_selection import train_test_split\n",
    "train,test = train_test_split(train_data_shuff, test_size=0.3, random_state=42, shuffle=True)"
   ]
  },
  {
   "cell_type": "code",
   "execution_count": 6,
   "id": "dd54e3ce",
   "metadata": {
    "execution": {
     "iopub.execute_input": "2023-01-08T18:21:29.263462Z",
     "iopub.status.busy": "2023-01-08T18:21:29.262970Z",
     "iopub.status.idle": "2023-01-08T18:21:29.269567Z",
     "shell.execute_reply": "2023-01-08T18:21:29.268512Z"
    },
    "papermill": {
     "duration": 0.042208,
     "end_time": "2023-01-08T18:21:29.271926",
     "exception": false,
     "start_time": "2023-01-08T18:21:29.229718",
     "status": "completed"
    },
    "tags": []
   },
   "outputs": [],
   "source": [
    "\n",
    "train_target = np.array(train['cancer'])"
   ]
  },
  {
   "cell_type": "code",
   "execution_count": 7,
   "id": "52f7c157",
   "metadata": {
    "execution": {
     "iopub.execute_input": "2023-01-08T18:21:29.336861Z",
     "iopub.status.busy": "2023-01-08T18:21:29.336371Z",
     "iopub.status.idle": "2023-01-08T18:21:29.402486Z",
     "shell.execute_reply": "2023-01-08T18:21:29.401274Z"
    },
    "papermill": {
     "duration": 0.101679,
     "end_time": "2023-01-08T18:21:29.405520",
     "exception": false,
     "start_time": "2023-01-08T18:21:29.303841",
     "status": "completed"
    },
    "tags": []
   },
   "outputs": [],
   "source": [
    "train_features=[]\n",
    "for i in train['img_data']:\n",
    "    train_features.append([i])\n",
    "train_features=np.array(train_features)\n"
   ]
  },
  {
   "cell_type": "code",
   "execution_count": 8,
   "id": "dec2f025",
   "metadata": {
    "execution": {
     "iopub.execute_input": "2023-01-08T18:21:29.468856Z",
     "iopub.status.busy": "2023-01-08T18:21:29.468337Z",
     "iopub.status.idle": "2023-01-08T18:21:29.474117Z",
     "shell.execute_reply": "2023-01-08T18:21:29.472937Z"
    },
    "papermill": {
     "duration": 0.040143,
     "end_time": "2023-01-08T18:21:29.476451",
     "exception": false,
     "start_time": "2023-01-08T18:21:29.436308",
     "status": "completed"
    },
    "tags": []
   },
   "outputs": [],
   "source": [
    "train_features = train_features.reshape(len(train_features),128,128,1)\n",
    "\n"
   ]
  },
  {
   "cell_type": "code",
   "execution_count": 9,
   "id": "57e82a2a",
   "metadata": {
    "execution": {
     "iopub.execute_input": "2023-01-08T18:21:29.539719Z",
     "iopub.status.busy": "2023-01-08T18:21:29.539253Z",
     "iopub.status.idle": "2023-01-08T18:21:29.550145Z",
     "shell.execute_reply": "2023-01-08T18:21:29.548934Z"
    },
    "papermill": {
     "duration": 0.045643,
     "end_time": "2023-01-08T18:21:29.552469",
     "exception": false,
     "start_time": "2023-01-08T18:21:29.506826",
     "status": "completed"
    },
    "tags": []
   },
   "outputs": [],
   "source": [
    "from tensorflow.keras.preprocessing.image import random_rotation\n",
    "def ModifiedWay(rotateImage, angle):\n",
    "    \n",
    "    # Taking image height and width\n",
    "    imgHeight, imgWidth = rotateImage.shape[0], rotateImage.shape[1]\n",
    "  \n",
    "    # Computing the centre x,y coordinates\n",
    "    # of an image\n",
    "    centreY, centreX = imgHeight//2, imgWidth//2\n",
    "  \n",
    "    # Computing 2D rotation Matrix to rotate an image\n",
    "    rotationMatrix = cv2.getRotationMatrix2D((centreY, centreX), angle, 1.0)\n",
    "  \n",
    "    # Now will take out sin and cos values from rotationMatrix\n",
    "    # Also used numpy absolute function to make positive value\n",
    "    cosofRotationMatrix = np.abs(rotationMatrix[0][0])\n",
    "    sinofRotationMatrix = np.abs(rotationMatrix[0][1])\n",
    "  \n",
    "    # Now will compute new height & width of\n",
    "    # an image so that we can use it in\n",
    "    # warpAffine function to prevent cropping of image sides\n",
    "    newImageHeight = int((imgHeight * sinofRotationMatrix) +\n",
    "                         (imgWidth * cosofRotationMatrix))\n",
    "    newImageWidth = int((imgHeight * cosofRotationMatrix) +\n",
    "                        (imgWidth * sinofRotationMatrix))\n",
    "  \n",
    "    # After computing the new height & width of an image\n",
    "    # we also need to update the values of rotation matrix\n",
    "    rotationMatrix[0][2] += (newImageWidth/2) - centreX\n",
    "    rotationMatrix[1][2] += (newImageHeight/2) - centreY\n",
    "  \n",
    "    # Now, we will perform actual image rotation\n",
    "    rotatingimage = cv2.warpAffine(\n",
    "        rotateImage, rotationMatrix, (newImageWidth, newImageHeight))\n",
    "  \n",
    "    return rotatingimage"
   ]
  },
  {
   "cell_type": "code",
   "execution_count": null,
   "id": "010d1679",
   "metadata": {
    "papermill": {
     "duration": 0.030829,
     "end_time": "2023-01-08T18:21:29.614408",
     "exception": false,
     "start_time": "2023-01-08T18:21:29.583579",
     "status": "completed"
    },
    "tags": []
   },
   "outputs": [],
   "source": []
  },
  {
   "cell_type": "code",
   "execution_count": 10,
   "id": "77f15dea",
   "metadata": {
    "execution": {
     "iopub.execute_input": "2023-01-08T18:21:29.677188Z",
     "iopub.status.busy": "2023-01-08T18:21:29.676710Z",
     "iopub.status.idle": "2023-01-08T18:21:29.901813Z",
     "shell.execute_reply": "2023-01-08T18:21:29.900448Z"
    },
    "papermill": {
     "duration": 0.259385,
     "end_time": "2023-01-08T18:21:29.904495",
     "exception": false,
     "start_time": "2023-01-08T18:21:29.645110",
     "status": "completed"
    },
    "tags": []
   },
   "outputs": [
    {
     "name": "stdout",
     "output_type": "stream",
     "text": [
      "1\n"
     ]
    },
    {
     "data": {
      "image/png": "[encoded data removed]",
      "text/plain": [
       "<Figure size 432x288 with 1 Axes>"
      ]
     },
     "metadata": {
      "needs_background": "light"
     },
     "output_type": "display_data"
    }
   ],
   "source": [
    "from PIL import Image as im\n",
    "ids=713\n",
    "img1=train_features[ids].reshape(128,128)\n",
    "img1 = im.fromarray(img1)\n",
    "img1 = np.asarray(img1.rotate(150))\n",
    "plt.imshow(img1,cmap='gray',vmin=0,vmax=1)\n",
    "print(train_target[ids])"
   ]
  }
 ],
 "metadata": {
  "kernelspec": {
   "display_name": "Python 3",
   "language": "python",
   "name": "python3"
  },
  "language_info": {
   "codemirror_mode": {
    "name": "ipython",
    "version": 3
   },
   "file_extension": ".py",
   "mimetype": "text/x-python",
   "name": "python",
   "nbconvert_exporter": "python",
   "pygments_lexer": "ipython3",
   "version": "3.7.12"
  },
  "papermill": {
   "default_parameters": {},
   "duration": 130.320322,
   "end_time": "2023-01-08T18:21:33.471421",
   "environment_variables": {},
   "exception": null,
   "input_path": "__notebook__.ipynb",
   "output_path": "__notebook__.ipynb",
   "parameters": {},
   "start_time": "2023-01-08T18:19:23.151099",
   "version": "2.3.4"
  }
 },
 "nbformat": 4,
 "nbformat_minor": 5
}
