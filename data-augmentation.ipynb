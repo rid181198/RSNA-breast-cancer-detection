{
 "cells": [
  {
   "cell_type": "code",
   "execution_count": 1,
   "id": "429cb095",
   "metadata": {
    "execution": {
     "iopub.execute_input": "2023-01-12T18:27:27.942370Z",
     "iopub.status.busy": "2023-01-12T18:27:27.941314Z",
     "iopub.status.idle": "2023-01-12T18:27:36.748007Z",
     "shell.execute_reply": "2023-01-12T18:27:36.746749Z"
    },
    "papermill": {
     "duration": 8.820086,
     "end_time": "2023-01-12T18:27:36.751158",
     "exception": false,
     "start_time": "2023-01-12T18:27:27.931072",
     "status": "completed"
    },
    "tags": []
   },
   "outputs": [],
   "source": [
    "import numpy as np\n",
    "import pandas as pd\n",
    "import matplotlib.pyplot as plt\n",
    "import seaborn as sns\n",
    "import pickle\n",
    "import tensorflow as tf\n",
    "import tensorflow_io as tfio\n",
    "import os\n",
    "from tqdm import tqdm\n",
    "import cv2\n",
    "from PIL import Image\n",
    "from joblib import Parallel, delayed\n",
    "import gc\n",
    "from PIL import Image as im\n",
    "import random"
   ]
  },
  {
   "cell_type": "code",
   "execution_count": 2,
   "id": "3afffd25",
   "metadata": {
    "_cell_guid": "b1076dfc-b9ad-4769-8c92-a6c4dae69d19",
    "_uuid": "8f2839f25d086af736a60e9eeb907d3b93b6e0e5",
    "execution": {
     "iopub.execute_input": "2023-01-12T18:27:36.764752Z",
     "iopub.status.busy": "2023-01-12T18:27:36.764050Z",
     "iopub.status.idle": "2023-01-12T18:28:29.668776Z",
     "shell.execute_reply": "2023-01-12T18:28:29.667336Z"
    },
    "papermill": {
     "duration": 52.915016,
     "end_time": "2023-01-12T18:28:29.671951",
     "exception": false,
     "start_time": "2023-01-12T18:27:36.756935",
     "status": "completed"
    },
    "tags": []
   },
   "outputs": [],
   "source": [
    "with (open('/kaggle/input/output/training_img_data.pkl', \"rb\")) as openfile:\n",
    "     train_data = pickle.load(openfile)"
   ]
  },
  {
   "cell_type": "code",
   "execution_count": 3,
   "id": "6b7bc71c",
   "metadata": {
    "execution": {
     "iopub.execute_input": "2023-01-12T18:28:29.685049Z",
     "iopub.status.busy": "2023-01-12T18:28:29.684667Z",
     "iopub.status.idle": "2023-01-12T18:29:20.509889Z",
     "shell.execute_reply": "2023-01-12T18:29:20.508634Z"
    },
    "papermill": {
     "duration": 50.835646,
     "end_time": "2023-01-12T18:29:20.513336",
     "exception": false,
     "start_time": "2023-01-12T18:28:29.677690",
     "status": "completed"
    },
    "tags": []
   },
   "outputs": [
    {
     "name": "stderr",
     "output_type": "stream",
     "text": [
      "100%|██████████| 54706/54706 [00:50<00:00, 1077.00it/s]"
     ]
    },
    {
     "name": "stdout",
     "output_type": "stream",
     "text": [
      "4969\n"
     ]
    },
    {
     "name": "stderr",
     "output_type": "stream",
     "text": [
      "\n"
     ]
    }
   ],
   "source": [
    "zero_array = np.zeros((128,128))\n",
    "counter=0\n",
    "for i,j in enumerate(tqdm(train_data['img_data'])):\n",
    "    if np.array_equiv(j,zero_array) == True:\n",
    "        counter+=1\n",
    "        train_data = train_data.drop(i)\n",
    "      \n",
    "print(counter)\n",
    "        "
   ]
  },
  {
   "cell_type": "code",
   "execution_count": null,
   "id": "dcc31f81",
   "metadata": {
    "execution": {
     "iopub.execute_input": "2023-01-12T12:25:49.535038Z",
     "iopub.status.busy": "2023-01-12T12:25:49.534569Z",
     "iopub.status.idle": "2023-01-12T12:25:49.587666Z",
     "shell.execute_reply": "2023-01-12T12:25:49.586193Z",
     "shell.execute_reply.started": "2023-01-12T12:25:49.534998Z"
    },
    "papermill": {
     "duration": 0.028856,
     "end_time": "2023-01-12T18:29:20.571764",
     "exception": false,
     "start_time": "2023-01-12T18:29:20.542908",
     "status": "completed"
    },
    "tags": []
   },
   "outputs": [],
   "source": []
  },
  {
   "cell_type": "code",
   "execution_count": 4,
   "id": "7ac50074",
   "metadata": {
    "execution": {
     "iopub.execute_input": "2023-01-12T18:29:20.632043Z",
     "iopub.status.busy": "2023-01-12T18:29:20.631640Z",
     "iopub.status.idle": "2023-01-12T18:29:20.706390Z",
     "shell.execute_reply": "2023-01-12T18:29:20.705054Z"
    },
    "papermill": {
     "duration": 0.108426,
     "end_time": "2023-01-12T18:29:20.709335",
     "exception": false,
     "start_time": "2023-01-12T18:29:20.600909",
     "status": "completed"
    },
    "tags": []
   },
   "outputs": [],
   "source": [
    "train_data_pos = train_data[train_data['cancer'] == 1]\n",
    "train_data_neg = train_data[train_data['cancer'] == 0]\n",
    "\n",
    "train_data_pos = train_data_pos.sample(frac = 1)\n",
    "train_data_neg = train_data_neg.sample(frac = 1)\n",
    "\n",
    "train_data_neg = train_data_neg.sample(frac= 0.35)\n",
    "\n",
    "frames = 20*[train_data_pos]\n",
    "frames.append(train_data_neg)\n",
    "train_data_shuff = pd.concat(frames)\n",
    "train_data_shuff = train_data_shuff.sample(frac=1)"
   ]
  },
  {
   "cell_type": "code",
   "execution_count": 5,
   "id": "9fe76d6b",
   "metadata": {
    "execution": {
     "iopub.execute_input": "2023-01-12T18:29:20.770954Z",
     "iopub.status.busy": "2023-01-12T18:29:20.770570Z",
     "iopub.status.idle": "2023-01-12T18:29:20.776623Z",
     "shell.execute_reply": "2023-01-12T18:29:20.775411Z"
    },
    "papermill": {
     "duration": 0.03991,
     "end_time": "2023-01-12T18:29:20.779087",
     "exception": false,
     "start_time": "2023-01-12T18:29:20.739177",
     "status": "completed"
    },
    "tags": []
   },
   "outputs": [],
   "source": [
    "def random_rotate(imgData):\n",
    "    imgData = imgData.reshape(128,128)\n",
    "    imgData = im.fromarray(imgData)\n",
    "    imgData = np.asarray(imgData.rotate(random.randint(0, 360)))\n",
    "    return imgData"
   ]
  },
  {
   "cell_type": "code",
   "execution_count": 6,
   "id": "87a0bf9f",
   "metadata": {
    "execution": {
     "iopub.execute_input": "2023-01-12T18:29:20.839795Z",
     "iopub.status.busy": "2023-01-12T18:29:20.839358Z",
     "iopub.status.idle": "2023-01-12T18:29:28.265526Z",
     "shell.execute_reply": "2023-01-12T18:29:28.264332Z"
    },
    "papermill": {
     "duration": 7.459696,
     "end_time": "2023-01-12T18:29:28.268195",
     "exception": false,
     "start_time": "2023-01-12T18:29:20.808499",
     "status": "completed"
    },
    "tags": []
   },
   "outputs": [
    {
     "name": "stderr",
     "output_type": "stream",
     "text": [
      "100%|██████████| 37569/37569 [00:07<00:00, 5074.19it/s]\n"
     ]
    }
   ],
   "source": [
    "imgDataList=[]\n",
    "for j in tqdm(train_data_shuff['img_data']):\n",
    "    imgDataList.append(random_rotate(j))\n",
    "train_data_shuff['img_data'] = imgDataList"
   ]
  },
  {
   "cell_type": "code",
   "execution_count": 7,
   "id": "d3250344",
   "metadata": {
    "execution": {
     "iopub.execute_input": "2023-01-12T18:29:28.337283Z",
     "iopub.status.busy": "2023-01-12T18:29:28.336861Z",
     "iopub.status.idle": "2023-01-12T18:29:28.517273Z",
     "shell.execute_reply": "2023-01-12T18:29:28.515878Z"
    },
    "papermill": {
     "duration": 0.218207,
     "end_time": "2023-01-12T18:29:28.520238",
     "exception": false,
     "start_time": "2023-01-12T18:29:28.302031",
     "status": "completed"
    },
    "tags": []
   },
   "outputs": [],
   "source": [
    "from sklearn.model_selection import train_test_split\n",
    "train,test = train_test_split(train_data_shuff, test_size=0.3, random_state=42, shuffle=True)"
   ]
  },
  {
   "cell_type": "code",
   "execution_count": 8,
   "id": "563190ff",
   "metadata": {
    "execution": {
     "iopub.execute_input": "2023-01-12T18:29:28.590601Z",
     "iopub.status.busy": "2023-01-12T18:29:28.590139Z",
     "iopub.status.idle": "2023-01-12T18:29:28.597038Z",
     "shell.execute_reply": "2023-01-12T18:29:28.595685Z"
    },
    "papermill": {
     "duration": 0.04471,
     "end_time": "2023-01-12T18:29:28.599711",
     "exception": false,
     "start_time": "2023-01-12T18:29:28.555001",
     "status": "completed"
    },
    "tags": []
   },
   "outputs": [],
   "source": [
    "\n",
    "train_target = np.array(train['cancer'])"
   ]
  },
  {
   "cell_type": "code",
   "execution_count": 9,
   "id": "6ccc01c5",
   "metadata": {
    "execution": {
     "iopub.execute_input": "2023-01-12T18:29:28.668458Z",
     "iopub.status.busy": "2023-01-12T18:29:28.667975Z",
     "iopub.status.idle": "2023-01-12T18:29:29.587669Z",
     "shell.execute_reply": "2023-01-12T18:29:29.586641Z"
    },
    "papermill": {
     "duration": 0.957013,
     "end_time": "2023-01-12T18:29:29.590501",
     "exception": false,
     "start_time": "2023-01-12T18:29:28.633488",
     "status": "completed"
    },
    "tags": []
   },
   "outputs": [],
   "source": [
    "train_features=[]\n",
    "for i in train['img_data']:\n",
    "    train_features.append([i])\n",
    "train_features=np.array(train_features)\n"
   ]
  },
  {
   "cell_type": "code",
   "execution_count": 10,
   "id": "f503f80a",
   "metadata": {
    "execution": {
     "iopub.execute_input": "2023-01-12T18:29:29.659606Z",
     "iopub.status.busy": "2023-01-12T18:29:29.658871Z",
     "iopub.status.idle": "2023-01-12T18:29:48.186929Z",
     "shell.execute_reply": "2023-01-12T18:29:48.185727Z"
    },
    "papermill": {
     "duration": 18.566175,
     "end_time": "2023-01-12T18:29:48.189970",
     "exception": false,
     "start_time": "2023-01-12T18:29:29.623795",
     "status": "completed"
    },
    "tags": []
   },
   "outputs": [],
   "source": [
    "from sklearn.preprocessing import StandardScaler\n",
    "\n",
    "scaler = StandardScaler()\n",
    "norm_features= []\n",
    "for i in range(len(train_features)):\n",
    "    norm_features.append(scaler.fit_transform(train_features[i][0]))\n",
    "train_features=np.array(norm_features)"
   ]
  },
  {
   "cell_type": "code",
   "execution_count": 11,
   "id": "f857927c",
   "metadata": {
    "execution": {
     "iopub.execute_input": "2023-01-12T18:29:48.258959Z",
     "iopub.status.busy": "2023-01-12T18:29:48.258574Z",
     "iopub.status.idle": "2023-01-12T18:29:48.263964Z",
     "shell.execute_reply": "2023-01-12T18:29:48.262619Z"
    },
    "papermill": {
     "duration": 0.042962,
     "end_time": "2023-01-12T18:29:48.266445",
     "exception": false,
     "start_time": "2023-01-12T18:29:48.223483",
     "status": "completed"
    },
    "tags": []
   },
   "outputs": [],
   "source": [
    "train_features = train_features.reshape(len(train_features),128,128,1)\n",
    "\n"
   ]
  },
  {
   "cell_type": "code",
   "execution_count": 12,
   "id": "030f6e37",
   "metadata": {
    "execution": {
     "iopub.execute_input": "2023-01-12T18:29:48.336545Z",
     "iopub.status.busy": "2023-01-12T18:29:48.335801Z",
     "iopub.status.idle": "2023-01-12T18:29:48.689018Z",
     "shell.execute_reply": "2023-01-12T18:29:48.687775Z"
    },
    "papermill": {
     "duration": 0.39213,
     "end_time": "2023-01-12T18:29:48.692357",
     "exception": false,
     "start_time": "2023-01-12T18:29:48.300227",
     "status": "completed"
    },
    "tags": []
   },
   "outputs": [
    {
     "data": {
      "text/plain": [
       "<matplotlib.image.AxesImage at 0x7f7a33fbda10>"
      ]
     },
     "execution_count": 12,
     "metadata": {},
     "output_type": "execute_result"
    },
    {
     "data": {
      "image/png": "[encoded data removed]",
      "text/plain": [
       "<Figure size 504x504 with 1 Axes>"
      ]
     },
     "metadata": {
      "needs_background": "light"
     },
     "output_type": "display_data"
    }
   ],
   "source": [
    "plt.figure(figsize=(7,7))\n",
    "plt.imshow(train_features[12524],cmap='gray')\n",
    "#plt.imshow(train_features[50],cmap='gray')\n"
   ]
  },
  {
   "cell_type": "code",
   "execution_count": 13,
   "id": "2ca4a444",
   "metadata": {
    "execution": {
     "iopub.execute_input": "2023-01-12T18:29:48.766668Z",
     "iopub.status.busy": "2023-01-12T18:29:48.766248Z",
     "iopub.status.idle": "2023-01-12T18:29:48.997775Z",
     "shell.execute_reply": "2023-01-12T18:29:48.996059Z"
    },
    "papermill": {
     "duration": 0.271412,
     "end_time": "2023-01-12T18:29:49.000490",
     "exception": false,
     "start_time": "2023-01-12T18:29:48.729078",
     "status": "completed"
    },
    "tags": []
   },
   "outputs": [
    {
     "name": "stderr",
     "output_type": "stream",
     "text": [
      "2023-01-12 18:29:48.810811: I tensorflow/core/common_runtime/process_util.cc:146] Creating new thread pool with default inter op setting: 2. Tune using inter_op_parallelism_threads for best performance.\n"
     ]
    }
   ],
   "source": [
    "from keras.models import Sequential\n",
    "from keras.layers import LeakyReLU\n",
    "from keras.layers import Dense, Conv2D, Flatten,MaxPooling2D, Dropout, GlobalMaxPooling2D\n",
    "model = Sequential()\n",
    "model.add(Conv2D(16, 5, activation = \"relu\", input_shape = (128,128,1)))\n",
    "model.add(MaxPooling2D())\n",
    "model.add(LeakyReLU(alpha=0.3))\n",
    "model.add(Dropout(0.2))\n",
    "model.add(Conv2D(32, 5, activation = \"relu\"))\n",
    "model.add(MaxPooling2D())\n",
    "model.add(LeakyReLU(alpha=0.3))\n",
    "model.add(Conv2D(64, 3, activation = \"relu\"))\n",
    "model.add(MaxPooling2D())\n",
    "model.add(Dropout(0.2))\n",
    "model.add(Flatten())\n",
    "model.add(Dense(256, activation = 'relu')) \n",
    "model.add(LeakyReLU(alpha=0.3))\n",
    "model.add(Dense(128, activation = 'relu')) \n",
    "model.add(LeakyReLU(alpha=0.3))\n",
    "model.add(Dropout(0.3))\n",
    "model.add(Dense(1, activation = 'sigmoid'))\n",
    "\n"
   ]
  },
  {
   "cell_type": "code",
   "execution_count": 14,
   "id": "37312ee2",
   "metadata": {
    "execution": {
     "iopub.execute_input": "2023-01-12T18:29:49.073721Z",
     "iopub.status.busy": "2023-01-12T18:29:49.073249Z",
     "iopub.status.idle": "2023-01-12T18:29:49.090047Z",
     "shell.execute_reply": "2023-01-12T18:29:49.088735Z"
    },
    "papermill": {
     "duration": 0.057037,
     "end_time": "2023-01-12T18:29:49.092661",
     "exception": false,
     "start_time": "2023-01-12T18:29:49.035624",
     "status": "completed"
    },
    "tags": []
   },
   "outputs": [],
   "source": [
    "model.compile(optimizer = tf.keras.optimizers.Adam(\\\n",
    "    learning_rate=0.001), loss= 'binary_crossentropy', metrics=['accuracy'])\n",
    "\n"
   ]
  },
  {
   "cell_type": "code",
   "execution_count": 15,
   "id": "b6cd5fdb",
   "metadata": {
    "execution": {
     "iopub.execute_input": "2023-01-12T18:29:49.165309Z",
     "iopub.status.busy": "2023-01-12T18:29:49.164838Z",
     "iopub.status.idle": "2023-01-12T18:48:01.392003Z",
     "shell.execute_reply": "2023-01-12T18:48:01.390678Z"
    },
    "papermill": {
     "duration": 1092.679724,
     "end_time": "2023-01-12T18:48:01.807891",
     "exception": false,
     "start_time": "2023-01-12T18:29:49.128167",
     "status": "completed"
    },
    "tags": []
   },
   "outputs": [
    {
     "name": "stderr",
     "output_type": "stream",
     "text": [
      "2023-01-12 18:29:50.402338: I tensorflow/compiler/mlir/mlir_graph_optimization_pass.cc:185] None of the MLIR Optimization Passes are enabled (registered 2)\n"
     ]
    },
    {
     "name": "stdout",
     "output_type": "stream",
     "text": [
      "Epoch 1/10\n",
      "576/576 [==============================] - 110s 189ms/step - loss: 0.6875 - accuracy: 0.5510 - val_loss: 0.6832 - val_accuracy: 0.5584\n",
      "Epoch 2/10\n",
      "576/576 [==============================] - 109s 190ms/step - loss: 0.6807 - accuracy: 0.5620 - val_loss: 0.6774 - val_accuracy: 0.5599\n",
      "Epoch 3/10\n",
      "576/576 [==============================] - 108s 188ms/step - loss: 0.6736 - accuracy: 0.5721 - val_loss: 0.6749 - val_accuracy: 0.5596\n",
      "Epoch 4/10\n",
      "576/576 [==============================] - 109s 190ms/step - loss: 0.6651 - accuracy: 0.5843 - val_loss: 0.6995 - val_accuracy: 0.5665\n",
      "Epoch 5/10\n",
      "576/576 [==============================] - 109s 189ms/step - loss: 0.6477 - accuracy: 0.6089 - val_loss: 0.6796 - val_accuracy: 0.5719\n",
      "Epoch 6/10\n",
      "576/576 [==============================] - 109s 188ms/step - loss: 0.6194 - accuracy: 0.6423 - val_loss: 0.6844 - val_accuracy: 0.5783\n",
      "Epoch 7/10\n",
      "576/576 [==============================] - 109s 190ms/step - loss: 0.5734 - accuracy: 0.6910 - val_loss: 0.7260 - val_accuracy: 0.5932\n",
      "Epoch 8/10\n",
      "576/576 [==============================] - 108s 188ms/step - loss: 0.5026 - accuracy: 0.7449 - val_loss: 0.7675 - val_accuracy: 0.6003\n",
      "Epoch 9/10\n",
      "576/576 [==============================] - 110s 191ms/step - loss: 0.4148 - accuracy: 0.8050 - val_loss: 0.8690 - val_accuracy: 0.5976\n",
      "Epoch 10/10\n",
      "576/576 [==============================] - 108s 188ms/step - loss: 0.3254 - accuracy: 0.8523 - val_loss: 1.0217 - val_accuracy: 0.6061\n"
     ]
    },
    {
     "data": {
      "text/plain": [
       "<keras.callbacks.History at 0x7f7a32f01990>"
      ]
     },
     "execution_count": 15,
     "metadata": {},
     "output_type": "execute_result"
    }
   ],
   "source": [
    "model.fit(train_features, train_target, validation_split=0.3,batch_size = 32,epochs=10)"
   ]
  },
  {
   "cell_type": "code",
   "execution_count": 16,
   "id": "02e8a006",
   "metadata": {
    "execution": {
     "iopub.execute_input": "2023-01-12T18:48:02.602108Z",
     "iopub.status.busy": "2023-01-12T18:48:02.601470Z",
     "iopub.status.idle": "2023-01-12T18:48:10.179917Z",
     "shell.execute_reply": "2023-01-12T18:48:10.178689Z"
    },
    "papermill": {
     "duration": 7.976771,
     "end_time": "2023-01-12T18:48:10.182649",
     "exception": false,
     "start_time": "2023-01-12T18:48:02.205878",
     "status": "completed"
    },
    "tags": []
   },
   "outputs": [],
   "source": [
    "test_features=[]\n",
    "for i in test['img_data']:\n",
    "    test_features.append([i])\n",
    "test_features=np.array(test_features)\n",
    "\n",
    "\n",
    "\n",
    "\n",
    "scaler = StandardScaler()\n",
    "norm_features= []\n",
    "for i in range(len(test_features)):\n",
    "    norm_features.append(scaler.fit_transform(test_features[i][0]))\n",
    "test_features=np.array(norm_features)\n",
    "\n",
    "\n",
    "\n",
    "\n",
    "test_features = test_features.reshape(len(test_features),128,128,1)\n",
    "\n",
    "\n",
    "\n",
    "\n",
    "\n",
    "\n",
    "test_target = np.array(test['cancer'])"
   ]
  },
  {
   "cell_type": "code",
   "execution_count": 17,
   "id": "05a4c166",
   "metadata": {
    "execution": {
     "iopub.execute_input": "2023-01-12T18:48:11.033550Z",
     "iopub.status.busy": "2023-01-12T18:48:11.033063Z",
     "iopub.status.idle": "2023-01-12T18:48:27.294827Z",
     "shell.execute_reply": "2023-01-12T18:48:27.293679Z"
    },
    "papermill": {
     "duration": 16.662657,
     "end_time": "2023-01-12T18:48:27.297696",
     "exception": false,
     "start_time": "2023-01-12T18:48:10.635039",
     "status": "completed"
    },
    "tags": []
   },
   "outputs": [
    {
     "name": "stdout",
     "output_type": "stream",
     "text": [
      "[1 1 1 ... 0 0 1]\n"
     ]
    }
   ],
   "source": [
    "pred = model.predict(test_features)\n",
    "bin_pred = []\n",
    "for i in pred:\n",
    "    if i>=0.5:\n",
    "        bin_pred.append(1)\n",
    "    else:\n",
    "        bin_pred.append(0)\n",
    "bin_pred = np.array(bin_pred)\n",
    "print(bin_pred)"
   ]
  },
  {
   "cell_type": "code",
   "execution_count": 18,
   "id": "59770712",
   "metadata": {
    "execution": {
     "iopub.execute_input": "2023-01-12T18:48:28.094739Z",
     "iopub.status.busy": "2023-01-12T18:48:28.093876Z",
     "iopub.status.idle": "2023-01-12T18:48:28.103276Z",
     "shell.execute_reply": "2023-01-12T18:48:28.101961Z"
    },
    "papermill": {
     "duration": 0.40289,
     "end_time": "2023-01-12T18:48:28.106139",
     "exception": false,
     "start_time": "2023-01-12T18:48:27.703249",
     "status": "completed"
    },
    "tags": []
   },
   "outputs": [
    {
     "name": "stdout",
     "output_type": "stream",
     "text": [
      "0.6041167598261024\n"
     ]
    }
   ],
   "source": [
    "import sklearn\n",
    "acc = sklearn.metrics.accuracy_score(test_target, bin_pred)\n",
    "print(acc)"
   ]
  },
  {
   "cell_type": "code",
   "execution_count": 19,
   "id": "b82c78f7",
   "metadata": {
    "execution": {
     "iopub.execute_input": "2023-01-12T18:48:28.958604Z",
     "iopub.status.busy": "2023-01-12T18:48:28.957896Z",
     "iopub.status.idle": "2023-01-12T18:48:28.979468Z",
     "shell.execute_reply": "2023-01-12T18:48:28.978340Z"
    },
    "papermill": {
     "duration": 0.421153,
     "end_time": "2023-01-12T18:48:28.981751",
     "exception": false,
     "start_time": "2023-01-12T18:48:28.560598",
     "status": "completed"
    },
    "tags": []
   },
   "outputs": [
    {
     "name": "stdout",
     "output_type": "stream",
     "text": [
      "0.49479473580828914 0.6941747572815534\n"
     ]
    }
   ],
   "source": [
    "countzero=0\n",
    "countone=0\n",
    "countzerot=0\n",
    "countonet=0\n",
    "for i, j in zip(test_target, bin_pred):\n",
    "    if i==0 and j==0:\n",
    "        countzero+=1\n",
    "    if i==1 and j==1:\n",
    "        countone+=1\n",
    "    if i==1:\n",
    "        countonet+=1\n",
    "    if i==0:\n",
    "        countzerot+=1\n",
    "print(countzero/countzerot,countone/countonet)"
   ]
  }
 ],
 "metadata": {
  "kernelspec": {
   "display_name": "Python 3",
   "language": "python",
   "name": "python3"
  },
  "language_info": {
   "codemirror_mode": {
    "name": "ipython",
    "version": 3
   },
   "file_extension": ".py",
   "mimetype": "text/x-python",
   "name": "python",
   "nbconvert_exporter": "python",
   "pygments_lexer": "ipython3",
   "version": "3.7.12"
  },
  "papermill": {
   "default_parameters": {},
   "duration": 1274.509001,
   "end_time": "2023-01-12T18:48:33.089510",
   "environment_variables": {},
   "exception": null,
   "input_path": "__notebook__.ipynb",
   "output_path": "__notebook__.ipynb",
   "parameters": {},
   "start_time": "2023-01-12T18:27:18.580509",
   "version": "2.3.4"
  }
 },
 "nbformat": 4,
 "nbformat_minor": 5
}
