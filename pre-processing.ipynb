{
 "cells": [
  {
   "cell_type": "code",
   "execution_count": 1,
   "id": "dbfcf536",
   "metadata": {
    "execution": {
     "iopub.execute_input": "2023-02-12T19:30:16.550809Z",
     "iopub.status.busy": "2023-02-12T19:30:16.550052Z",
     "iopub.status.idle": "2023-02-12T19:30:33.726423Z",
     "shell.execute_reply": "2023-02-12T19:30:33.725388Z"
    },
    "papermill": {
     "duration": 17.183325,
     "end_time": "2023-02-12T19:30:33.728945",
     "exception": false,
     "start_time": "2023-02-12T19:30:16.545620",
     "status": "completed"
    },
    "tags": []
   },
   "outputs": [],
   "source": [
    "import tensorflow as tf\n",
    "import cv2\n",
    "from PIL import Image\n",
    "from scipy import ndimage\n",
    "import random\n",
    "import pickle\n",
    "from tqdm import tqdm\n",
    "import numpy as np\n",
    "\n",
    "with (open('/kaggle/input/output/imgData.pkl', \"rb\")) as openfile:\n",
    "     imgData = pickle.load(openfile)\n"
   ]
  },
  {
   "cell_type": "code",
   "execution_count": 2,
   "id": "4afbc65b",
   "metadata": {
    "execution": {
     "iopub.execute_input": "2023-02-12T19:30:33.734554Z",
     "iopub.status.busy": "2023-02-12T19:30:33.733850Z",
     "iopub.status.idle": "2023-02-12T19:30:34.465349Z",
     "shell.execute_reply": "2023-02-12T19:30:34.464134Z"
    },
    "papermill": {
     "duration": 0.736832,
     "end_time": "2023-02-12T19:30:34.467903",
     "exception": false,
     "start_time": "2023-02-12T19:30:33.731071",
     "status": "completed"
    },
    "tags": []
   },
   "outputs": [],
   "source": [
    "from sklearn.decomposition import PCA\n",
    "import gc\n",
    "\n",
    "def random_rotate(imgData):\n",
    "    #thresh = 0.15\n",
    "    \n",
    "    imgData = imgData.reshape(128,128)\n",
    "    \n",
    "    \n",
    "    \n",
    "    clahe = cv2.createCLAHE(clipLimit=2, tileGridSize=(8,8))\n",
    "    imgData = cv2.equalizeHist(clahe.apply(imgData))\n",
    "    \n",
    "    #pca = PCA(25)\n",
    "    #imgData = pca.fit_transform(imgData)\n",
    "    #imgData = pca.inverse_transform(imgData)\n",
    "    \n",
    "    \n",
    "    imgData = ndimage.rotate(imgData, random.randint(-30, 30), reshape=False)\n",
    "\n",
    "    #imgData = np.clip(imgData,thresh,1)\n",
    "    imgData = imgData[15:110,15:110]\n",
    "    \n",
    "    #imgData = cv2.resize(imgData,(528,528))\n",
    "    \n",
    "    \n",
    "    #imgData = im.fromarray(imgData)\n",
    "    #imgData = np.asarray(imgData.rotate(random.randint(-20, 20)))\n",
    "    \n",
    "    return imgData"
   ]
  },
  {
   "cell_type": "code",
   "execution_count": 3,
   "id": "b6820aa6",
   "metadata": {
    "execution": {
     "iopub.execute_input": "2023-02-12T19:30:34.473233Z",
     "iopub.status.busy": "2023-02-12T19:30:34.472858Z",
     "iopub.status.idle": "2023-02-12T19:32:34.796705Z",
     "shell.execute_reply": "2023-02-12T19:32:34.795806Z"
    },
    "papermill": {
     "duration": 120.338257,
     "end_time": "2023-02-12T19:32:34.808146",
     "exception": false,
     "start_time": "2023-02-12T19:30:34.469889",
     "status": "completed"
    },
    "tags": []
   },
   "outputs": [
    {
     "name": "stderr",
     "output_type": "stream",
     "text": [
      "100%|██████████| 54706/54706 [02:00<00:00, 454.83it/s]\n"
     ]
    }
   ],
   "source": [
    "imgDataList=[]\n",
    "for j in tqdm(imgData['img_data']):\n",
    "    imgDataList.append(random_rotate(j))\n",
    "imgData['img_data'] = imgDataList"
   ]
  },
  {
   "cell_type": "code",
   "execution_count": 4,
   "id": "544d9e77",
   "metadata": {
    "execution": {
     "iopub.execute_input": "2023-02-12T19:32:34.936836Z",
     "iopub.status.busy": "2023-02-12T19:32:34.936479Z",
     "iopub.status.idle": "2023-02-12T19:33:27.414688Z",
     "shell.execute_reply": "2023-02-12T19:33:27.412898Z"
    },
    "papermill": {
     "duration": 52.547697,
     "end_time": "2023-02-12T19:33:27.419729",
     "exception": false,
     "start_time": "2023-02-12T19:32:34.872032",
     "status": "completed"
    },
    "tags": []
   },
   "outputs": [
    {
     "name": "stderr",
     "output_type": "stream",
     "text": [
      "2023-02-12 19:32:49.308152: I tensorflow/core/common_runtime/process_util.cc:146] Creating new thread pool with default inter op setting: 2. Tune using inter_op_parallelism_threads for best performance.\n"
     ]
    }
   ],
   "source": [
    "from sklearn.preprocessing import MinMaxScaler\n",
    "train_features= np.array(imgData['img_data'])\n",
    "\n",
    "scaler = MinMaxScaler()\n",
    "#featureTransform = scaler.fit_transform(featureTransform)\n",
    "norm_features= []\n",
    "for i in range(len(train_features)):\n",
    "        norm_features.append(scaler.fit_transform(train_features[i]))\n",
    "train_features=np.array(norm_features)\n",
    "\n",
    "\n",
    "norm_features= []\n",
    "for i in range(len(train_features)):\n",
    "        data = train_features[i].reshape(95,95,1)\n",
    "        norm_features.append(tf.image.grayscale_to_rgb(tf.convert_to_tensor(data)))\n",
    "train_features=norm_features"
   ]
  },
  {
   "cell_type": "code",
   "execution_count": 5,
   "id": "0d0688b3",
   "metadata": {
    "execution": {
     "iopub.execute_input": "2023-02-12T19:33:27.552632Z",
     "iopub.status.busy": "2023-02-12T19:33:27.552238Z",
     "iopub.status.idle": "2023-02-12T19:34:22.258878Z",
     "shell.execute_reply": "2023-02-12T19:34:22.256467Z"
    },
    "papermill": {
     "duration": 54.7794,
     "end_time": "2023-02-12T19:34:22.265847",
     "exception": false,
     "start_time": "2023-02-12T19:33:27.486447",
     "status": "completed"
    },
    "tags": []
   },
   "outputs": [],
   "source": [
    "imgData['img_data_process'] = \" \"\n",
    "imgData['img_data_process'] = train_features\n",
    "imgData.to_pickle('imgDataNew.pkl' )"
   ]
  }
 ],
 "metadata": {
  "kernelspec": {
   "display_name": "Python 3",
   "language": "python",
   "name": "python3"
  },
  "language_info": {
   "codemirror_mode": {
    "name": "ipython",
    "version": 3
   },
   "file_extension": ".py",
   "mimetype": "text/x-python",
   "name": "python",
   "nbconvert_exporter": "python",
   "pygments_lexer": "ipython3",
   "version": "3.7.12"
  },
  "papermill": {
   "default_parameters": {},
   "duration": 257.036125,
   "end_time": "2023-02-12T19:34:26.242084",
   "environment_variables": {},
   "exception": null,
   "input_path": "__notebook__.ipynb",
   "output_path": "__notebook__.ipynb",
   "parameters": {},
   "start_time": "2023-02-12T19:30:09.205959",
   "version": "2.3.4"
  }
 },
 "nbformat": 4,
 "nbformat_minor": 5
}
