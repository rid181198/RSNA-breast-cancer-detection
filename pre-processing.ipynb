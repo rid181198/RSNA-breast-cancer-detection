{
 "cells": [
  {
   "cell_type": "code",
   "execution_count": 1,
   "id": "1b121147",
   "metadata": {
    "execution": {
     "iopub.execute_input": "2023-02-13T23:02:27.665406Z",
     "iopub.status.busy": "2023-02-13T23:02:27.664478Z",
     "iopub.status.idle": "2023-02-13T23:02:43.094675Z",
     "shell.execute_reply": "2023-02-13T23:02:43.093618Z"
    },
    "papermill": {
     "duration": 15.438293,
     "end_time": "2023-02-13T23:02:43.097649",
     "exception": false,
     "start_time": "2023-02-13T23:02:27.659356",
     "status": "completed"
    },
    "tags": []
   },
   "outputs": [],
   "source": [
    "import tensorflow as tf\n",
    "import cv2\n",
    "from PIL import Image\n",
    "from scipy import ndimage\n",
    "import random\n",
    "import pickle\n",
    "import pandas as pd\n",
    "from tqdm import tqdm\n",
    "import numpy as np\n",
    "\n",
    "with (open('/kaggle/input/output/imgData.pkl', \"rb\")) as openfile:\n",
    "     imgData = pickle.load(openfile)\n"
   ]
  },
  {
   "cell_type": "code",
   "execution_count": 2,
   "id": "bd178acb",
   "metadata": {
    "execution": {
     "iopub.execute_input": "2023-02-13T23:02:43.105236Z",
     "iopub.status.busy": "2023-02-13T23:02:43.104507Z",
     "iopub.status.idle": "2023-02-13T23:02:43.231238Z",
     "shell.execute_reply": "2023-02-13T23:02:43.228458Z"
    },
    "papermill": {
     "duration": 0.134389,
     "end_time": "2023-02-13T23:02:43.235067",
     "exception": false,
     "start_time": "2023-02-13T23:02:43.100678",
     "status": "completed"
    },
    "tags": []
   },
   "outputs": [],
   "source": [
    "imgdata_pos = imgData[imgData['cancer'] == 1]\n",
    "imgdata_neg = imgData[imgData['cancer'] == 0]\n",
    "\n",
    "imgdata_pos = imgdata_pos.sample(frac = 1)\n",
    "imgdata_neg = imgdata_neg.sample(frac = 1)\n",
    "\n",
    "imgdata_neg = imgdata_neg.sample(frac= 0.8)\n",
    "\n",
    "frames = 10*[imgdata_pos]\n",
    "frames.append(imgdata_neg)\n",
    "imgdata_shuff = pd.concat(frames)\n",
    "imgData = imgdata_shuff.sample(frac=1)"
   ]
  },
  {
   "cell_type": "code",
   "execution_count": 3,
   "id": "405c3474",
   "metadata": {
    "execution": {
     "iopub.execute_input": "2023-02-13T23:02:43.241718Z",
     "iopub.status.busy": "2023-02-13T23:02:43.241295Z",
     "iopub.status.idle": "2023-02-13T23:02:43.976356Z",
     "shell.execute_reply": "2023-02-13T23:02:43.975022Z"
    },
    "papermill": {
     "duration": 0.741751,
     "end_time": "2023-02-13T23:02:43.979257",
     "exception": false,
     "start_time": "2023-02-13T23:02:43.237506",
     "status": "completed"
    },
    "tags": []
   },
   "outputs": [],
   "source": [
    "from sklearn.decomposition import PCA\n",
    "import gc\n",
    "\n",
    "def random_rotate(imgData):\n",
    "    #thresh = 0.15\n",
    "    \n",
    "    imgData = imgData.reshape(128,128)\n",
    "    \n",
    "    \n",
    "    \n",
    "    clahe = cv2.createCLAHE(clipLimit=2, tileGridSize=(8,8))\n",
    "    imgData = cv2.equalizeHist(clahe.apply(imgData))\n",
    "    \n",
    "    #pca = PCA(25)\n",
    "    #imgData = pca.fit_transform(imgData)\n",
    "    #imgData = pca.inverse_transform(imgData)\n",
    "    \n",
    "    \n",
    "    imgData = ndimage.rotate(imgData, random.randint(-30, 30), reshape=False)\n",
    "\n",
    "    #imgData = np.clip(imgData,thresh,1)\n",
    "    imgData = imgData[15:110,15:110]\n",
    "    \n",
    "    #imgData = cv2.resize(imgData,(528,528))\n",
    "    \n",
    "    \n",
    "    #imgData = im.fromarray(imgData)\n",
    "    #imgData = np.asarray(imgData.rotate(random.randint(-20, 20)))\n",
    "    \n",
    "    return imgData"
   ]
  },
  {
   "cell_type": "code",
   "execution_count": 4,
   "id": "baefbcec",
   "metadata": {
    "execution": {
     "iopub.execute_input": "2023-02-13T23:02:43.986112Z",
     "iopub.status.busy": "2023-02-13T23:02:43.985630Z",
     "iopub.status.idle": "2023-02-13T23:06:18.585116Z",
     "shell.execute_reply": "2023-02-13T23:06:18.583973Z"
    },
    "papermill": {
     "duration": 214.608212,
     "end_time": "2023-02-13T23:06:18.589991",
     "exception": false,
     "start_time": "2023-02-13T23:02:43.981779",
     "status": "completed"
    },
    "tags": []
   },
   "outputs": [
    {
     "name": "stderr",
     "output_type": "stream",
     "text": [
      "100%|██████████| 54418/54418 [03:34<00:00, 253.84it/s]\n"
     ]
    }
   ],
   "source": [
    "imgDataList=[]\n",
    "for j in tqdm(imgData['img_data']):\n",
    "    imgDataList.append(random_rotate(j))\n",
    "imgData['img_data'] = imgDataList"
   ]
  },
  {
   "cell_type": "code",
   "execution_count": 5,
   "id": "50a7c03a",
   "metadata": {
    "execution": {
     "iopub.execute_input": "2023-02-13T23:06:18.843498Z",
     "iopub.status.busy": "2023-02-13T23:06:18.843074Z",
     "iopub.status.idle": "2023-02-13T23:06:35.366286Z",
     "shell.execute_reply": "2023-02-13T23:06:35.365094Z"
    },
    "papermill": {
     "duration": 16.653078,
     "end_time": "2023-02-13T23:06:35.369258",
     "exception": false,
     "start_time": "2023-02-13T23:06:18.716180",
     "status": "completed"
    },
    "tags": []
   },
   "outputs": [
    {
     "name": "stderr",
     "output_type": "stream",
     "text": [
      "2023-02-13 23:06:18.863076: I tensorflow/core/common_runtime/process_util.cc:146] Creating new thread pool with default inter op setting: 2. Tune using inter_op_parallelism_threads for best performance.\n"
     ]
    }
   ],
   "source": [
    "from sklearn.preprocessing import MinMaxScaler\n",
    "train_features= np.array(imgData['img_data'])\n",
    "\n",
    "#scaler = MinMaxScaler()\n",
    "#featureTransform = scaler.fit_transform(featureTransform)\n",
    "#norm_features= []\n",
    "#for i in range(len(train_features)):\n",
    "#        norm_features.append(scaler.fit_transform(train_features[i]))\n",
    "#train_features=np.array(norm_features)\n",
    "\n",
    "\n",
    "norm_features= []\n",
    "for i in range(len(train_features)):\n",
    "        data = train_features[i].reshape(95,95,1)\n",
    "        norm_features.append(tf.image.grayscale_to_rgb(tf.convert_to_tensor(data)))\n",
    "train_features=norm_features"
   ]
  },
  {
   "cell_type": "code",
   "execution_count": 6,
   "id": "8569ea39",
   "metadata": {
    "execution": {
     "iopub.execute_input": "2023-02-13T23:06:35.628901Z",
     "iopub.status.busy": "2023-02-13T23:06:35.628463Z",
     "iopub.status.idle": "2023-02-13T23:06:44.082872Z",
     "shell.execute_reply": "2023-02-13T23:06:44.081803Z"
    },
    "papermill": {
     "duration": 8.584292,
     "end_time": "2023-02-13T23:06:44.085616",
     "exception": false,
     "start_time": "2023-02-13T23:06:35.501324",
     "status": "completed"
    },
    "tags": []
   },
   "outputs": [],
   "source": [
    "imgData['img_data_process'] = \" \"\n",
    "imgData['img_data_process'] = train_features\n",
    "imgData.to_pickle('imgDataNew.pkl' )"
   ]
  }
 ],
 "metadata": {
  "kernelspec": {
   "display_name": "Python 3",
   "language": "python",
   "name": "python3"
  },
  "language_info": {
   "codemirror_mode": {
    "name": "ipython",
    "version": 3
   },
   "file_extension": ".py",
   "mimetype": "text/x-python",
   "name": "python",
   "nbconvert_exporter": "python",
   "pygments_lexer": "ipython3",
   "version": "3.7.12"
  },
  "papermill": {
   "default_parameters": {},
   "duration": 268.307278,
   "end_time": "2023-02-13T23:06:47.178796",
   "environment_variables": {},
   "exception": null,
   "input_path": "__notebook__.ipynb",
   "output_path": "__notebook__.ipynb",
   "parameters": {},
   "start_time": "2023-02-13T23:02:18.871518",
   "version": "2.3.4"
  }
 },
 "nbformat": 4,
 "nbformat_minor": 5
}
