{
 "cells": [
  {
   "cell_type": "code",
   "execution_count": 1,
   "id": "ab1f8e47",
   "metadata": {
    "execution": {
     "iopub.execute_input": "2023-02-13T22:31:28.422184Z",
     "iopub.status.busy": "2023-02-13T22:31:28.421753Z",
     "iopub.status.idle": "2023-02-13T22:31:42.887756Z",
     "shell.execute_reply": "2023-02-13T22:31:42.886523Z"
    },
    "papermill": {
     "duration": 14.47442,
     "end_time": "2023-02-13T22:31:42.890695",
     "exception": false,
     "start_time": "2023-02-13T22:31:28.416275",
     "status": "completed"
    },
    "tags": []
   },
   "outputs": [],
   "source": [
    "import tensorflow as tf\n",
    "import cv2\n",
    "from PIL import Image\n",
    "from scipy import ndimage\n",
    "import random\n",
    "import pickle\n",
    "import pandas as pd\n",
    "from tqdm import tqdm\n",
    "import numpy as np\n",
    "\n",
    "with (open('/kaggle/input/output/imgData.pkl', \"rb\")) as openfile:\n",
    "     imgData = pickle.load(openfile)\n"
   ]
  },
  {
   "cell_type": "code",
   "execution_count": 2,
   "id": "4815b758",
   "metadata": {
    "execution": {
     "iopub.execute_input": "2023-02-13T22:31:42.897484Z",
     "iopub.status.busy": "2023-02-13T22:31:42.896848Z",
     "iopub.status.idle": "2023-02-13T22:31:43.017703Z",
     "shell.execute_reply": "2023-02-13T22:31:43.014945Z"
    },
    "papermill": {
     "duration": 0.12811,
     "end_time": "2023-02-13T22:31:43.021481",
     "exception": false,
     "start_time": "2023-02-13T22:31:42.893371",
     "status": "completed"
    },
    "tags": []
   },
   "outputs": [],
   "source": [
    "imgdata_pos = imgData[imgData['cancer'] == 1]\n",
    "imgdata_neg = imgData[imgData['cancer'] == 0]\n",
    "\n",
    "imgdata_pos = imgdata_pos.sample(frac = 1)\n",
    "imgdata_neg = imgdata_neg.sample(frac = 1)\n",
    "\n",
    "imgdata_neg = imgdata_neg.sample(frac= 0.8)\n",
    "\n",
    "frames = 10*[imgdata_pos]\n",
    "frames.append(imgdata_neg)\n",
    "imgdata_shuff = pd.concat(frames)\n",
    "imgData = imgdata_shuff.sample(frac=1)"
   ]
  },
  {
   "cell_type": "code",
   "execution_count": 3,
   "id": "2cdaba2b",
   "metadata": {
    "execution": {
     "iopub.execute_input": "2023-02-13T22:31:43.027909Z",
     "iopub.status.busy": "2023-02-13T22:31:43.027084Z",
     "iopub.status.idle": "2023-02-13T22:31:43.713962Z",
     "shell.execute_reply": "2023-02-13T22:31:43.712790Z"
    },
    "papermill": {
     "duration": 0.692933,
     "end_time": "2023-02-13T22:31:43.716819",
     "exception": false,
     "start_time": "2023-02-13T22:31:43.023886",
     "status": "completed"
    },
    "tags": []
   },
   "outputs": [],
   "source": [
    "from sklearn.decomposition import PCA\n",
    "import gc\n",
    "\n",
    "def random_rotate(imgData):\n",
    "    #thresh = 0.15\n",
    "    \n",
    "    imgData = imgData.reshape(128,128)\n",
    "    \n",
    "    \n",
    "    \n",
    "    clahe = cv2.createCLAHE(clipLimit=2, tileGridSize=(8,8))\n",
    "    imgData = cv2.equalizeHist(clahe.apply(imgData))\n",
    "    \n",
    "    #pca = PCA(25)\n",
    "    #imgData = pca.fit_transform(imgData)\n",
    "    #imgData = pca.inverse_transform(imgData)\n",
    "    \n",
    "    \n",
    "    imgData = ndimage.rotate(imgData, random.randint(-30, 30), reshape=False)\n",
    "\n",
    "    #imgData = np.clip(imgData,thresh,1)\n",
    "    imgData = imgData[15:110,15:110]\n",
    "    \n",
    "    #imgData = cv2.resize(imgData,(528,528))\n",
    "    \n",
    "    \n",
    "    #imgData = im.fromarray(imgData)\n",
    "    #imgData = np.asarray(imgData.rotate(random.randint(-20, 20)))\n",
    "    \n",
    "    return imgData"
   ]
  },
  {
   "cell_type": "code",
   "execution_count": 4,
   "id": "61c7bf59",
   "metadata": {
    "execution": {
     "iopub.execute_input": "2023-02-13T22:31:43.723036Z",
     "iopub.status.busy": "2023-02-13T22:31:43.722643Z",
     "iopub.status.idle": "2023-02-13T22:35:11.922985Z",
     "shell.execute_reply": "2023-02-13T22:35:11.921624Z"
    },
    "papermill": {
     "duration": 208.206463,
     "end_time": "2023-02-13T22:35:11.925793",
     "exception": false,
     "start_time": "2023-02-13T22:31:43.719330",
     "status": "completed"
    },
    "tags": []
   },
   "outputs": [
    {
     "name": "stderr",
     "output_type": "stream",
     "text": [
      "100%|██████████| 54418/54418 [03:27<00:00, 261.63it/s]\n"
     ]
    }
   ],
   "source": [
    "imgDataList=[]\n",
    "for j in tqdm(imgData['img_data']):\n",
    "    imgDataList.append(random_rotate(j))\n",
    "imgData['img_data'] = imgDataList"
   ]
  },
  {
   "cell_type": "code",
   "execution_count": 5,
   "id": "5ea77c4d",
   "metadata": {
    "execution": {
     "iopub.execute_input": "2023-02-13T22:35:12.170582Z",
     "iopub.status.busy": "2023-02-13T22:35:12.170154Z",
     "iopub.status.idle": "2023-02-13T22:35:56.829517Z",
     "shell.execute_reply": "2023-02-13T22:35:56.828399Z"
    },
    "papermill": {
     "duration": 44.784103,
     "end_time": "2023-02-13T22:35:56.832267",
     "exception": false,
     "start_time": "2023-02-13T22:35:12.048164",
     "status": "completed"
    },
    "tags": []
   },
   "outputs": [
    {
     "name": "stderr",
     "output_type": "stream",
     "text": [
      "2023-02-13 22:35:32.093316: I tensorflow/core/common_runtime/process_util.cc:146] Creating new thread pool with default inter op setting: 2. Tune using inter_op_parallelism_threads for best performance.\n"
     ]
    }
   ],
   "source": [
    "from sklearn.preprocessing import MinMaxScaler\n",
    "train_features= np.array(imgData['img_data'])\n",
    "\n",
    "scaler = MinMaxScaler()\n",
    "#featureTransform = scaler.fit_transform(featureTransform)\n",
    "norm_features= []\n",
    "for i in range(len(train_features)):\n",
    "        norm_features.append(scaler.fit_transform(train_features[i]))\n",
    "train_features=np.array(norm_features)\n",
    "\n",
    "\n",
    "norm_features= []\n",
    "for i in range(len(train_features)):\n",
    "        data = train_features[i].reshape(95,95,1)\n",
    "        norm_features.append(tf.image.grayscale_to_rgb(tf.convert_to_tensor(data)))\n",
    "train_features=norm_features"
   ]
  },
  {
   "cell_type": "code",
   "execution_count": 6,
   "id": "798476dc",
   "metadata": {
    "execution": {
     "iopub.execute_input": "2023-02-13T22:35:57.077733Z",
     "iopub.status.busy": "2023-02-13T22:35:57.077048Z",
     "iopub.status.idle": "2023-02-13T22:36:50.358628Z",
     "shell.execute_reply": "2023-02-13T22:36:50.355382Z"
    },
    "papermill": {
     "duration": 53.410271,
     "end_time": "2023-02-13T22:36:50.362597",
     "exception": false,
     "start_time": "2023-02-13T22:35:56.952326",
     "status": "completed"
    },
    "tags": []
   },
   "outputs": [],
   "source": [
    "imgData['img_data_process'] = \" \"\n",
    "imgData['img_data_process'] = train_features\n",
    "imgData.to_pickle('imgDataNew.pkl' )"
   ]
  }
 ],
 "metadata": {
  "kernelspec": {
   "display_name": "Python 3",
   "language": "python",
   "name": "python3"
  },
  "language_info": {
   "codemirror_mode": {
    "name": "ipython",
    "version": 3
   },
   "file_extension": ".py",
   "mimetype": "text/x-python",
   "name": "python",
   "nbconvert_exporter": "python",
   "pygments_lexer": "ipython3",
   "version": "3.7.12"
  },
  "papermill": {
   "default_parameters": {},
   "duration": 335.241002,
   "end_time": "2023-02-13T22:36:55.441705",
   "environment_variables": {},
   "exception": null,
   "input_path": "__notebook__.ipynb",
   "output_path": "__notebook__.ipynb",
   "parameters": {},
   "start_time": "2023-02-13T22:31:20.200703",
   "version": "2.3.4"
  }
 },
 "nbformat": 4,
 "nbformat_minor": 5
}
