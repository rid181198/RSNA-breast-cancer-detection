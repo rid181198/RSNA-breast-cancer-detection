{
 "cells": [
  {
   "cell_type": "code",
   "execution_count": 1,
   "id": "2ae7d945",
   "metadata": {
    "execution": {
     "iopub.execute_input": "2023-02-11T16:15:01.184326Z",
     "iopub.status.busy": "2023-02-11T16:15:01.183444Z",
     "iopub.status.idle": "2023-02-11T16:15:07.678777Z",
     "shell.execute_reply": "2023-02-11T16:15:07.677769Z"
    },
    "papermill": {
     "duration": 6.505714,
     "end_time": "2023-02-11T16:15:07.681610",
     "exception": false,
     "start_time": "2023-02-11T16:15:01.175896",
     "status": "completed"
    },
    "tags": []
   },
   "outputs": [],
   "source": [
    "import numpy as np\n",
    "import pandas as pd\n",
    "import matplotlib.pyplot as plt\n",
    "import seaborn as sns\n",
    "import pickle\n",
    "import tensorflow as tf\n",
    "import tensorflow_io as tfio\n",
    "import os\n",
    "from tqdm import tqdm\n",
    "import cv2\n",
    "from PIL import Image\n",
    "from joblib import Parallel, delayed\n",
    "import gc\n",
    "from PIL import Image as im\n",
    "import random\n",
    "from scipy import ndimage\n"
   ]
  },
  {
   "cell_type": "code",
   "execution_count": 2,
   "id": "41d8d1f6",
   "metadata": {
    "execution": {
     "iopub.execute_input": "2023-02-11T16:15:07.692262Z",
     "iopub.status.busy": "2023-02-11T16:15:07.691697Z",
     "iopub.status.idle": "2023-02-11T16:15:19.506167Z",
     "shell.execute_reply": "2023-02-11T16:15:19.505014Z"
    },
    "papermill": {
     "duration": 11.822251,
     "end_time": "2023-02-11T16:15:19.508578",
     "exception": false,
     "start_time": "2023-02-11T16:15:07.686327",
     "status": "completed"
    },
    "tags": []
   },
   "outputs": [
    {
     "name": "stdout",
     "output_type": "stream",
     "text": [
      "Collecting dicomsdl\r\n",
      "  Downloading dicomsdl-0.109.1-cp37-cp37m-manylinux_2_12_x86_64.manylinux2010_x86_64.whl (1.4 MB)\r\n",
      "\u001b[2K     \u001b[90m━━━━━━━━━━━━━━━━━━━━━━━━━━━━━━━━━━━━━━━━\u001b[0m \u001b[32m1.4/1.4 MB\u001b[0m \u001b[31m4.5 MB/s\u001b[0m eta \u001b[36m0:00:00\u001b[0m\r\n",
      "\u001b[?25hInstalling collected packages: dicomsdl\r\n",
      "Successfully installed dicomsdl-0.109.1\r\n",
      "\u001b[33mWARNING: Running pip as the 'root' user can result in broken permissions and conflicting behaviour with the system package manager. It is recommended to use a virtual environment instead: https://pip.pypa.io/warnings/venv\u001b[0m\u001b[33m\r\n",
      "\u001b[0m"
     ]
    }
   ],
   "source": [
    "import sys\n",
    "!{sys.executable} -m pip install dicomsdl\n",
    "#!pip install /kaggle/input/rsnapacks/dicomsdl-0.109.1-cp36-cp36m-manylinux_2_12_x86_64.manylinux2010_x86_64.whl\n",
    "import numpy as np\n",
    "import pandas as pd\n",
    "import matplotlib.pyplot as plt\n",
    "import seaborn as sns\n",
    "import pickle\n",
    "#import pydicom as dicom\n",
    "import dicomsdl as dicom\n",
    "import tensorflow as tf\n",
    "import tensorflow_io as tfio\n",
    "from PIL import Image as im\n",
    "import os\n",
    "from tqdm import tqdm\n",
    "import cv2\n",
    "from PIL import Image\n",
    "from joblib import Parallel, delayed\n",
    "import gc\n",
    "import random"
   ]
  },
  {
   "cell_type": "code",
   "execution_count": 3,
   "id": "4e19f6b7",
   "metadata": {
    "execution": {
     "iopub.execute_input": "2023-02-11T16:15:19.521078Z",
     "iopub.status.busy": "2023-02-11T16:15:19.520299Z",
     "iopub.status.idle": "2023-02-11T16:15:19.538804Z",
     "shell.execute_reply": "2023-02-11T16:15:19.537951Z"
    },
    "papermill": {
     "duration": 0.026989,
     "end_time": "2023-02-11T16:15:19.540956",
     "exception": false,
     "start_time": "2023-02-11T16:15:19.513967",
     "status": "completed"
    },
    "tags": []
   },
   "outputs": [],
   "source": [
    "datasetPath = '/kaggle/input/rsna-breast-cancer-detection/train.csv'\n",
    "imgPath = '/kaggle/input/rsna-breast-cancer-detection/train_images/'\n",
    "\n",
    "def crop(sideName, imgName):\n",
    "    \"\"\"\n",
    "    This function is used to crop the breast images. It takes two arguments.\n",
    "    \n",
    "    Input:-\n",
    "    :sideName = Laterality of breast if it is right or left\n",
    "    :imgName = Image pixel data of the DCM images\n",
    "    \n",
    "    Output:-\n",
    "    :return = Output after cropping the image.\n",
    "    \n",
    "    \"\"\"\n",
    "    if sideName == 'L':\n",
    "        colind=[]\n",
    "        for r,row in enumerate(imgName):\n",
    "            for c,col in enumerate(row):\n",
    "                if col==0:\n",
    "                    colind.append(c)\n",
    "                    break\n",
    "        crop_size = max(colind)\n",
    "        imgName = imgName[0:512,0:crop_size]\n",
    "        imgName = cv2.resize(imgName,(128,128))\n",
    "        \n",
    "    if sideName == 'R':\n",
    "        colind=[]\n",
    "        for r,row in enumerate(imgName):\n",
    "            for c,col in enumerate(row):\n",
    "                if col!=0:\n",
    "                    colind.append(c)\n",
    "                    break\n",
    "        crop_size = min(colind)\n",
    "        imgName = imgName[0:512,crop_size:512]\n",
    "        imgName = cv2.resize(imgName,(128,128))\n",
    "    \n",
    "    return imgName    \n",
    "\n",
    "    gc.collect()\n",
    "    \n",
    "def crop_reverse(sideName, imgName):\n",
    "    \n",
    "    \"\"\"\n",
    "    This function is used to crop the breast images but in the reverse order.\n",
    "    Because the laterality is defined wrongly for some images. It takes two arguments.\n",
    "    \n",
    "    Input:-\n",
    "    :sideName = Laterality of breast if it is right or left\n",
    "    :imgName = Image pixel data of the DCM images\n",
    "    \n",
    "    Output:-\n",
    "    :return = Output after cropping the image.\n",
    "    \n",
    "    \"\"\"\n",
    "    \n",
    "    if sideName == 'R':\n",
    "        colind=[]\n",
    "        for r,row in enumerate(imgName):\n",
    "            for c,col in enumerate(row):\n",
    "                if col==0:\n",
    "                    colind.append(c)\n",
    "                    break\n",
    "        crop_size = max(colind)\n",
    "        imgName = imgName[0:512,0:crop_size]\n",
    "        imgName = cv2.resize(imgName,(128,128))\n",
    "        \n",
    "    if sideName == 'L':\n",
    "        colind=[]\n",
    "        for r,row in enumerate(imgName):\n",
    "            for c,col in enumerate(row):\n",
    "                if col!=0:\n",
    "                    colind.append(c)\n",
    "                    break\n",
    "        crop_size = min(colind)\n",
    "        imgName = imgName[0:512,crop_size:512]\n",
    "        imgName = cv2.resize(imgName,(128,128))\n",
    "    \n",
    "    return imgName    \n",
    "\n",
    "    gc.collect()\n",
    "    \n",
    "\n",
    "def img_process(i,filename,sides):\n",
    "    \n",
    "    \"\"\"\n",
    "    This function is used to process the images which will be used for the training/test dataset. It takes three arguments.\n",
    "    \n",
    "    Input:-\n",
    "    :i = Index of the image in the dataframe\n",
    "    :filename = Path of the image\n",
    "    :sides = List of all images' laterality\n",
    "    \n",
    "    Output:-\n",
    "    :return = Output after cropping the image.\n",
    "    \n",
    "    \"\"\"\n",
    "    \n",
    "    \n",
    "    #ds = dicom.dcmread(filename)\n",
    "    dsraw = dicom.open(filename)\n",
    "    ds = dsraw.pixelData()\n",
    "    \n",
    "    ds = (ds - ds.min()) / (ds.max() - ds.min())\n",
    "    if dsraw.PhotometricInterpretation == \"MONOCHROME1\":  \n",
    "        ds = 1 - ds\n",
    "    ds = (ds * 255).astype(np.uint8)\n",
    "\n",
    "    \n",
    "    #ds = cv2.normalize(ds, None, 0, 1.0, cv2.NORM_MINMAX, dtype=cv2.CV_32F)\n",
    "    ds = cv2.resize(ds,(512,512))\n",
    "    \n",
    "    #ds = np.where(ds >= 0.999, 0,ds)\n",
    "    \n",
    "    try:\n",
    "        ds = np.array(crop(sides[i], ds))   \n",
    "    except:\n",
    "        ds = np.array(crop_reverse(sides[i], ds))\n",
    "    \n",
    "\n",
    "    #train_data.loc[i,'img_data'] = [img_fin]\n",
    "    #train_data.to_csv('/kaggle/working/training_img_data.csv') \n",
    "    return ds\n",
    "    gc.collect()\n",
    "\n",
    "def dcmToPix(datasetPath, imgPath):\n",
    "    \n",
    "    \"\"\"\n",
    "    This function is used to process all the images which will be used for the training/test dataset. It takes two arguments.\n",
    "    \n",
    "    Input:-\n",
    "    :datasetPath = Path of the cancer dataset\n",
    "    :imgPath = Path of the image dataset\n",
    "   \n",
    "    Output:-\n",
    "    :return = Array of all the processed images\n",
    "    \n",
    "    \"\"\"\n",
    "    \n",
    "    \n",
    "    dataset = pd.read_csv(datasetPath)\n",
    "    \n",
    "    patient_ids = dataset['patient_id']\n",
    "    image_ids = dataset['image_id']\n",
    "    sides  = dataset['laterality']\n",
    "\n",
    "    imgData = []\n",
    "\n",
    "    for pi, ii, leng in zip(patient_ids, image_ids, range(len(patient_ids))):\n",
    "        imgData.append(imgPath + str(pi) + '/' + str(ii) + '.dcm')\n",
    "\n",
    "    dataset['img_data'] = \" \"\n",
    "    \n",
    "    result = Parallel(n_jobs=128)(\\\n",
    "    delayed(img_process)(i, fname, sides) for i, fname in zip(range(len(imgData)),tqdm(imgData))\\\n",
    "    )\n",
    "    \n",
    "    dataset['img_data'] = result\n",
    "    dataset.to_pickle('imgData.pkl' )\n",
    "    \n",
    "    return result\n",
    "    "
   ]
  },
  {
   "cell_type": "code",
   "execution_count": 4,
   "id": "e3c3783f",
   "metadata": {
    "_cell_guid": "b1076dfc-b9ad-4769-8c92-a6c4dae69d19",
    "_uuid": "8f2839f25d086af736a60e9eeb907d3b93b6e0e5",
    "execution": {
     "iopub.execute_input": "2023-02-11T16:15:19.552461Z",
     "iopub.status.busy": "2023-02-11T16:15:19.552164Z",
     "iopub.status.idle": "2023-02-11T16:15:28.487395Z",
     "shell.execute_reply": "2023-02-11T16:15:28.486415Z"
    },
    "papermill": {
     "duration": 8.943598,
     "end_time": "2023-02-11T16:15:28.489831",
     "exception": false,
     "start_time": "2023-02-11T16:15:19.546233",
     "status": "completed"
    },
    "tags": []
   },
   "outputs": [],
   "source": [
    "with (open('/kaggle/input/output/imgData.pkl', \"rb\")) as openfile:\n",
    "     imgData = pickle.load(openfile)"
   ]
  },
  {
   "cell_type": "code",
   "execution_count": 5,
   "id": "e04b71cf",
   "metadata": {
    "execution": {
     "iopub.execute_input": "2023-02-11T16:15:28.501166Z",
     "iopub.status.busy": "2023-02-11T16:15:28.500871Z",
     "iopub.status.idle": "2023-02-11T16:15:28.505836Z",
     "shell.execute_reply": "2023-02-11T16:15:28.505021Z"
    },
    "papermill": {
     "duration": 0.012775,
     "end_time": "2023-02-11T16:15:28.507767",
     "exception": false,
     "start_time": "2023-02-11T16:15:28.494992",
     "status": "completed"
    },
    "tags": []
   },
   "outputs": [],
   "source": [
    "#datacancer = pd.read_csv(datasetPath)\n",
    "#imgDataFrame = {'cancer':datacancer['cancer'][:50], 'img_data':imgData}\n",
    "#imgData2 = pd.DataFrame(imgDataFrame)\n",
    "\n",
    "#imgData=imgData2"
   ]
  },
  {
   "cell_type": "code",
   "execution_count": 6,
   "id": "957136e8",
   "metadata": {
    "execution": {
     "iopub.execute_input": "2023-02-11T16:15:28.519075Z",
     "iopub.status.busy": "2023-02-11T16:15:28.518190Z",
     "iopub.status.idle": "2023-02-11T16:15:28.591908Z",
     "shell.execute_reply": "2023-02-11T16:15:28.590910Z"
    },
    "papermill": {
     "duration": 0.08169,
     "end_time": "2023-02-11T16:15:28.594295",
     "exception": false,
     "start_time": "2023-02-11T16:15:28.512605",
     "status": "completed"
    },
    "tags": []
   },
   "outputs": [],
   "source": [
    "imgdata_pos = imgData[imgData['cancer'] == 1]\n",
    "imgdata_neg = imgData[imgData['cancer'] == 0]\n",
    "\n",
    "imgdata_pos = imgdata_pos.sample(frac = 1)\n",
    "imgdata_neg = imgdata_neg.sample(frac = 1)\n",
    "\n",
    "imgdata_neg = imgdata_neg.sample(frac= 0.7)\n",
    "\n",
    "frames = 6*[imgdata_pos]\n",
    "frames.append(imgdata_neg)\n",
    "imgdata_shuff = pd.concat(frames)\n",
    "imgdata_shuff = imgdata_shuff.sample(frac=1)"
   ]
  },
  {
   "cell_type": "code",
   "execution_count": 7,
   "id": "c03956d7",
   "metadata": {
    "execution": {
     "iopub.execute_input": "2023-02-11T16:15:28.606003Z",
     "iopub.status.busy": "2023-02-11T16:15:28.605664Z",
     "iopub.status.idle": "2023-02-11T16:15:28.618973Z",
     "shell.execute_reply": "2023-02-11T16:15:28.617926Z"
    },
    "papermill": {
     "duration": 0.021981,
     "end_time": "2023-02-11T16:15:28.621477",
     "exception": false,
     "start_time": "2023-02-11T16:15:28.599496",
     "status": "completed"
    },
    "tags": []
   },
   "outputs": [
    {
     "name": "stdout",
     "output_type": "stream",
     "text": [
      "0    37484\n",
      "1     6948\n",
      "Name: cancer, dtype: int64\n"
     ]
    }
   ],
   "source": [
    "print(imgdata_shuff['cancer'].value_counts())"
   ]
  },
  {
   "cell_type": "code",
   "execution_count": 8,
   "id": "86bceef6",
   "metadata": {
    "execution": {
     "iopub.execute_input": "2023-02-11T16:15:28.632679Z",
     "iopub.status.busy": "2023-02-11T16:15:28.632408Z",
     "iopub.status.idle": "2023-02-11T16:15:28.810043Z",
     "shell.execute_reply": "2023-02-11T16:15:28.809047Z"
    },
    "papermill": {
     "duration": 0.186076,
     "end_time": "2023-02-11T16:15:28.812457",
     "exception": false,
     "start_time": "2023-02-11T16:15:28.626381",
     "status": "completed"
    },
    "tags": []
   },
   "outputs": [],
   "source": [
    "from sklearn.decomposition import PCA\n",
    "\n",
    "\n",
    "def random_rotate(imgData):\n",
    "    #thresh = 0.15\n",
    "    \n",
    "    imgData = imgData.reshape(128,128)\n",
    "    \n",
    "    \n",
    "    \n",
    "    clahe = cv2.createCLAHE(clipLimit=5, tileGridSize=(3,3))\n",
    "    imgData = clahe.apply(imgData)\n",
    "    \n",
    "    #pca = PCA(25)\n",
    "    #imgData = pca.fit_transform(imgData)\n",
    "    #imgData = pca.inverse_transform(imgData)\n",
    "    \n",
    "    \n",
    "    imgData = ndimage.rotate(imgData, random.randint(-30, 30), reshape=False)\n",
    "\n",
    "    #imgData = np.clip(imgData,thresh,1)\n",
    "    imgData = imgData[15:110,15:110]\n",
    "    \n",
    "    #imgData = cv2.resize(imgData,(528,528))\n",
    "    \n",
    "    \n",
    "    #imgData = im.fromarray(imgData)\n",
    "    #imgData = np.asarray(imgData.rotate(random.randint(-20, 20)))\n",
    "    return imgData"
   ]
  },
  {
   "cell_type": "code",
   "execution_count": 9,
   "id": "ee0ce871",
   "metadata": {
    "execution": {
     "iopub.execute_input": "2023-02-11T16:15:28.824738Z",
     "iopub.status.busy": "2023-02-11T16:15:28.823882Z",
     "iopub.status.idle": "2023-02-11T16:17:52.771212Z",
     "shell.execute_reply": "2023-02-11T16:17:52.767012Z"
    },
    "papermill": {
     "duration": 143.955683,
     "end_time": "2023-02-11T16:17:52.773613",
     "exception": false,
     "start_time": "2023-02-11T16:15:28.817930",
     "status": "completed"
    },
    "tags": []
   },
   "outputs": [
    {
     "name": "stderr",
     "output_type": "stream",
     "text": [
      "100%|██████████| 44432/44432 [02:23<00:00, 308.72it/s]\n"
     ]
    }
   ],
   "source": [
    "imgDataList=[]\n",
    "for j in tqdm(imgdata_shuff['img_data']):\n",
    "    imgDataList.append(random_rotate(j))\n",
    "imgdata_shuff['img_data'] = imgDataList"
   ]
  },
  {
   "cell_type": "code",
   "execution_count": 10,
   "id": "28f6a8a9",
   "metadata": {
    "execution": {
     "iopub.execute_input": "2023-02-11T16:17:52.918226Z",
     "iopub.status.busy": "2023-02-11T16:17:52.917882Z",
     "iopub.status.idle": "2023-02-11T16:18:02.835418Z",
     "shell.execute_reply": "2023-02-11T16:18:02.834430Z"
    },
    "papermill": {
     "duration": 9.992141,
     "end_time": "2023-02-11T16:18:02.838059",
     "exception": false,
     "start_time": "2023-02-11T16:17:52.845918",
     "status": "completed"
    },
    "tags": []
   },
   "outputs": [],
   "source": [
    "from sklearn.model_selection import train_test_split\n",
    "train,test = train_test_split(imgdata_shuff, test_size=0.3, random_state=42, shuffle=True)\n",
    "\n",
    "\n",
    "\n",
    "train_target = np.array(train['cancer'])\n",
    "train_features=[]\n",
    "for i in train['img_data']:\n",
    "    i=np.array(i)\n",
    "    train_features.append(i)\n",
    "train_features=np.array(train_features)\n",
    "\n",
    "\n",
    "\n",
    "#featureTransform = train_features.reshape(len(train_features), 6400)\n",
    "\n",
    "#from sklearn.preprocessing import StandardScaler\n",
    "from sklearn.preprocessing import MinMaxScaler\n",
    "\n",
    "scaler = MinMaxScaler()\n",
    "#featureTransform = scaler.fit_transform(featureTransform)\n",
    "norm_features= []\n",
    "for i in range(len(train_features)):\n",
    "        norm_features.append(scaler.fit_transform(train_features[i]))\n",
    "train_features=np.array(norm_features)\n",
    "\n",
    "\n",
    "\n",
    "\n",
    "#backTransform = featureTransform.reshape(len(train_features),80,80)\n",
    "#train_features = backTransform.reshape(len(train_features),80,80,1)\n",
    "train_features = train_features.reshape(len(train_features),95,95,1)\n",
    "#train_features = np.repeat(train_features[..., np.newaxis], 3, -1)\n",
    "\n",
    "\n"
   ]
  },
  {
   "cell_type": "code",
   "execution_count": 11,
   "id": "de79da45",
   "metadata": {
    "execution": {
     "iopub.execute_input": "2023-02-11T16:18:02.983354Z",
     "iopub.status.busy": "2023-02-11T16:18:02.982998Z",
     "iopub.status.idle": "2023-02-11T16:18:06.245033Z",
     "shell.execute_reply": "2023-02-11T16:18:06.244035Z"
    },
    "papermill": {
     "duration": 3.337246,
     "end_time": "2023-02-11T16:18:06.247463",
     "exception": false,
     "start_time": "2023-02-11T16:18:02.910217",
     "status": "completed"
    },
    "tags": []
   },
   "outputs": [
    {
     "name": "stderr",
     "output_type": "stream",
     "text": [
      "2023-02-11 16:18:03.109815: I tensorflow/stream_executor/cuda/cuda_gpu_executor.cc:937] successful NUMA node read from SysFS had negative value (-1), but there must be at least one NUMA node, so returning NUMA node zero\n",
      "2023-02-11 16:18:03.207742: I tensorflow/stream_executor/cuda/cuda_gpu_executor.cc:937] successful NUMA node read from SysFS had negative value (-1), but there must be at least one NUMA node, so returning NUMA node zero\n",
      "2023-02-11 16:18:03.208569: I tensorflow/stream_executor/cuda/cuda_gpu_executor.cc:937] successful NUMA node read from SysFS had negative value (-1), but there must be at least one NUMA node, so returning NUMA node zero\n",
      "2023-02-11 16:18:03.210105: I tensorflow/core/platform/cpu_feature_guard.cc:142] This TensorFlow binary is optimized with oneAPI Deep Neural Network Library (oneDNN) to use the following CPU instructions in performance-critical operations:  AVX2 AVX512F FMA\n",
      "To enable them in other operations, rebuild TensorFlow with the appropriate compiler flags.\n",
      "2023-02-11 16:18:03.210500: I tensorflow/stream_executor/cuda/cuda_gpu_executor.cc:937] successful NUMA node read from SysFS had negative value (-1), but there must be at least one NUMA node, so returning NUMA node zero\n",
      "2023-02-11 16:18:03.211473: I tensorflow/stream_executor/cuda/cuda_gpu_executor.cc:937] successful NUMA node read from SysFS had negative value (-1), but there must be at least one NUMA node, so returning NUMA node zero\n",
      "2023-02-11 16:18:03.212369: I tensorflow/stream_executor/cuda/cuda_gpu_executor.cc:937] successful NUMA node read from SysFS had negative value (-1), but there must be at least one NUMA node, so returning NUMA node zero\n",
      "2023-02-11 16:18:05.430820: I tensorflow/stream_executor/cuda/cuda_gpu_executor.cc:937] successful NUMA node read from SysFS had negative value (-1), but there must be at least one NUMA node, so returning NUMA node zero\n",
      "2023-02-11 16:18:05.431692: I tensorflow/stream_executor/cuda/cuda_gpu_executor.cc:937] successful NUMA node read from SysFS had negative value (-1), but there must be at least one NUMA node, so returning NUMA node zero\n",
      "2023-02-11 16:18:05.432401: I tensorflow/stream_executor/cuda/cuda_gpu_executor.cc:937] successful NUMA node read from SysFS had negative value (-1), but there must be at least one NUMA node, so returning NUMA node zero\n",
      "2023-02-11 16:18:05.433192: I tensorflow/core/common_runtime/gpu/gpu_device.cc:1510] Created device /job:localhost/replica:0/task:0/device:GPU:0 with 15401 MB memory:  -> device: 0, name: Tesla P100-PCIE-16GB, pci bus id: 0000:00:04.0, compute capability: 6.0\n"
     ]
    }
   ],
   "source": [
    "from keras.models import Sequential\n",
    "from keras.layers import LeakyReLU\n",
    "from keras.layers import Dense, Conv2D, Flatten,\\\n",
    "DepthwiseConv2D, MaxPooling2D, Dropout, BatchNormalization,\\\n",
    "GlobalAveragePooling2D, ReLU, Input\n",
    "from tensorflow.keras.applications import *\n",
    "from tensorflow.keras import models\n",
    "from tensorflow.keras import layers\n",
    "from tensorflow.keras import optimizers\n",
    "import tensorflow as tf\n",
    "from tensorflow import keras\n",
    "\n",
    "\n",
    "def depth_block(x, strides):\n",
    "    x = DepthwiseConv2D(3,strides=strides,padding='same',  use_bias=False)(x)\n",
    "    x = BatchNormalization()(x)\n",
    "    x = ReLU()(x)\n",
    "    return x\n",
    "def single_conv_block(x,filters):\n",
    "    x = Conv2D(filters, 1,use_bias=False)(x)\n",
    "    x= BatchNormalization()(x)\n",
    "    x = ReLU()(x)\n",
    "    return x\n",
    "def combo_layer(x,filters,strides):\n",
    "    x = depth_block(x,strides)\n",
    "    x = single_conv_block(x, filters)\n",
    "    return x\n",
    "\n",
    "\n",
    "def MobileNet(input_shape=(224,224,3),n_classes = 1000):\n",
    "    input = Input(input_shape)\n",
    "    x = Conv2D(32,3,strides=(2,2),padding = 'same', use_bias=False)(input)\n",
    "    x =  BatchNormalization()(x)\n",
    "    x = ReLU()(x)\n",
    "    x = combo_layer(x,64, strides=(1,1))\n",
    "    x = combo_layer(x,128,strides=(2,2))\n",
    "    x = combo_layer(x,128,strides=(1,1))\n",
    "    x = combo_layer(x,256,strides=(2,2))\n",
    "    x = combo_layer(x,256,strides=(1,1))\n",
    "    x = combo_layer(x,512,strides=(2,2))\n",
    "    for _ in range(5):\n",
    "        x = combo_layer(x,512,strides=(1,1))\n",
    "    x = combo_layer(x,1024,strides=(2,2))\n",
    "    x = combo_layer(x,1024,strides=(1,1))\n",
    "    x = GlobalAveragePooling2D()(x)\n",
    "    x = Dense(512,activation='relu')(x)\n",
    "    output = Dense(n_classes,activation='sigmoid')(x)\n",
    "    \n",
    "    model = tf.keras.Model(input, output)\n",
    "    return model\n",
    "\n",
    "n_classes = 1\n",
    "input_shape = (95,95,1)\n",
    "model = MobileNet(input_shape,n_classes)\n",
    "\n",
    "\n",
    "model.compile(\\\n",
    "    loss=\"binary_crossentropy\",\\\n",
    "    optimizer=tf.keras.optimizers.Adam(learning_rate=0.0001),\\\n",
    "    metrics=[\"acc\"],\\\n",
    ")\n",
    "\n",
    "\n",
    "\n"
   ]
  },
  {
   "cell_type": "code",
   "execution_count": 12,
   "id": "84a2433b",
   "metadata": {
    "execution": {
     "iopub.execute_input": "2023-02-11T16:18:06.395232Z",
     "iopub.status.busy": "2023-02-11T16:18:06.394161Z",
     "iopub.status.idle": "2023-02-11T16:18:06.410492Z",
     "shell.execute_reply": "2023-02-11T16:18:06.409443Z"
    },
    "papermill": {
     "duration": 0.094919,
     "end_time": "2023-02-11T16:18:06.413673",
     "exception": false,
     "start_time": "2023-02-11T16:18:06.318754",
     "status": "completed"
    },
    "tags": []
   },
   "outputs": [
    {
     "name": "stdout",
     "output_type": "stream",
     "text": [
      "Model: \"model\"\n",
      "_________________________________________________________________\n",
      "Layer (type)                 Output Shape              Param #   \n",
      "=================================================================\n",
      "input_1 (InputLayer)         [(None, 95, 95, 1)]       0         \n",
      "_________________________________________________________________\n",
      "conv2d (Conv2D)              (None, 48, 48, 32)        288       \n",
      "_________________________________________________________________\n",
      "batch_normalization (BatchNo (None, 48, 48, 32)        128       \n",
      "_________________________________________________________________\n",
      "re_lu (ReLU)                 (None, 48, 48, 32)        0         \n",
      "_________________________________________________________________\n",
      "depthwise_conv2d (DepthwiseC (None, 48, 48, 32)        288       \n",
      "_________________________________________________________________\n",
      "batch_normalization_1 (Batch (None, 48, 48, 32)        128       \n",
      "_________________________________________________________________\n",
      "re_lu_1 (ReLU)               (None, 48, 48, 32)        0         \n",
      "_________________________________________________________________\n",
      "conv2d_1 (Conv2D)            (None, 48, 48, 64)        2048      \n",
      "_________________________________________________________________\n",
      "batch_normalization_2 (Batch (None, 48, 48, 64)        256       \n",
      "_________________________________________________________________\n",
      "re_lu_2 (ReLU)               (None, 48, 48, 64)        0         \n",
      "_________________________________________________________________\n",
      "depthwise_conv2d_1 (Depthwis (None, 24, 24, 64)        576       \n",
      "_________________________________________________________________\n",
      "batch_normalization_3 (Batch (None, 24, 24, 64)        256       \n",
      "_________________________________________________________________\n",
      "re_lu_3 (ReLU)               (None, 24, 24, 64)        0         \n",
      "_________________________________________________________________\n",
      "conv2d_2 (Conv2D)            (None, 24, 24, 128)       8192      \n",
      "_________________________________________________________________\n",
      "batch_normalization_4 (Batch (None, 24, 24, 128)       512       \n",
      "_________________________________________________________________\n",
      "re_lu_4 (ReLU)               (None, 24, 24, 128)       0         \n",
      "_________________________________________________________________\n",
      "depthwise_conv2d_2 (Depthwis (None, 24, 24, 128)       1152      \n",
      "_________________________________________________________________\n",
      "batch_normalization_5 (Batch (None, 24, 24, 128)       512       \n",
      "_________________________________________________________________\n",
      "re_lu_5 (ReLU)               (None, 24, 24, 128)       0         \n",
      "_________________________________________________________________\n",
      "conv2d_3 (Conv2D)            (None, 24, 24, 128)       16384     \n",
      "_________________________________________________________________\n",
      "batch_normalization_6 (Batch (None, 24, 24, 128)       512       \n",
      "_________________________________________________________________\n",
      "re_lu_6 (ReLU)               (None, 24, 24, 128)       0         \n",
      "_________________________________________________________________\n",
      "depthwise_conv2d_3 (Depthwis (None, 12, 12, 128)       1152      \n",
      "_________________________________________________________________\n",
      "batch_normalization_7 (Batch (None, 12, 12, 128)       512       \n",
      "_________________________________________________________________\n",
      "re_lu_7 (ReLU)               (None, 12, 12, 128)       0         \n",
      "_________________________________________________________________\n",
      "conv2d_4 (Conv2D)            (None, 12, 12, 256)       32768     \n",
      "_________________________________________________________________\n",
      "batch_normalization_8 (Batch (None, 12, 12, 256)       1024      \n",
      "_________________________________________________________________\n",
      "re_lu_8 (ReLU)               (None, 12, 12, 256)       0         \n",
      "_________________________________________________________________\n",
      "depthwise_conv2d_4 (Depthwis (None, 12, 12, 256)       2304      \n",
      "_________________________________________________________________\n",
      "batch_normalization_9 (Batch (None, 12, 12, 256)       1024      \n",
      "_________________________________________________________________\n",
      "re_lu_9 (ReLU)               (None, 12, 12, 256)       0         \n",
      "_________________________________________________________________\n",
      "conv2d_5 (Conv2D)            (None, 12, 12, 256)       65536     \n",
      "_________________________________________________________________\n",
      "batch_normalization_10 (Batc (None, 12, 12, 256)       1024      \n",
      "_________________________________________________________________\n",
      "re_lu_10 (ReLU)              (None, 12, 12, 256)       0         \n",
      "_________________________________________________________________\n",
      "depthwise_conv2d_5 (Depthwis (None, 6, 6, 256)         2304      \n",
      "_________________________________________________________________\n",
      "batch_normalization_11 (Batc (None, 6, 6, 256)         1024      \n",
      "_________________________________________________________________\n",
      "re_lu_11 (ReLU)              (None, 6, 6, 256)         0         \n",
      "_________________________________________________________________\n",
      "conv2d_6 (Conv2D)            (None, 6, 6, 512)         131072    \n",
      "_________________________________________________________________\n",
      "batch_normalization_12 (Batc (None, 6, 6, 512)         2048      \n",
      "_________________________________________________________________\n",
      "re_lu_12 (ReLU)              (None, 6, 6, 512)         0         \n",
      "_________________________________________________________________\n",
      "depthwise_conv2d_6 (Depthwis (None, 6, 6, 512)         4608      \n",
      "_________________________________________________________________\n",
      "batch_normalization_13 (Batc (None, 6, 6, 512)         2048      \n",
      "_________________________________________________________________\n",
      "re_lu_13 (ReLU)              (None, 6, 6, 512)         0         \n",
      "_________________________________________________________________\n",
      "conv2d_7 (Conv2D)            (None, 6, 6, 512)         262144    \n",
      "_________________________________________________________________\n",
      "batch_normalization_14 (Batc (None, 6, 6, 512)         2048      \n",
      "_________________________________________________________________\n",
      "re_lu_14 (ReLU)              (None, 6, 6, 512)         0         \n",
      "_________________________________________________________________\n",
      "depthwise_conv2d_7 (Depthwis (None, 6, 6, 512)         4608      \n",
      "_________________________________________________________________\n",
      "batch_normalization_15 (Batc (None, 6, 6, 512)         2048      \n",
      "_________________________________________________________________\n",
      "re_lu_15 (ReLU)              (None, 6, 6, 512)         0         \n",
      "_________________________________________________________________\n",
      "conv2d_8 (Conv2D)            (None, 6, 6, 512)         262144    \n",
      "_________________________________________________________________\n",
      "batch_normalization_16 (Batc (None, 6, 6, 512)         2048      \n",
      "_________________________________________________________________\n",
      "re_lu_16 (ReLU)              (None, 6, 6, 512)         0         \n",
      "_________________________________________________________________\n",
      "depthwise_conv2d_8 (Depthwis (None, 6, 6, 512)         4608      \n",
      "_________________________________________________________________\n",
      "batch_normalization_17 (Batc (None, 6, 6, 512)         2048      \n",
      "_________________________________________________________________\n",
      "re_lu_17 (ReLU)              (None, 6, 6, 512)         0         \n",
      "_________________________________________________________________\n",
      "conv2d_9 (Conv2D)            (None, 6, 6, 512)         262144    \n",
      "_________________________________________________________________\n",
      "batch_normalization_18 (Batc (None, 6, 6, 512)         2048      \n",
      "_________________________________________________________________\n",
      "re_lu_18 (ReLU)              (None, 6, 6, 512)         0         \n",
      "_________________________________________________________________\n",
      "depthwise_conv2d_9 (Depthwis (None, 6, 6, 512)         4608      \n",
      "_________________________________________________________________\n",
      "batch_normalization_19 (Batc (None, 6, 6, 512)         2048      \n",
      "_________________________________________________________________\n",
      "re_lu_19 (ReLU)              (None, 6, 6, 512)         0         \n",
      "_________________________________________________________________\n",
      "conv2d_10 (Conv2D)           (None, 6, 6, 512)         262144    \n",
      "_________________________________________________________________\n",
      "batch_normalization_20 (Batc (None, 6, 6, 512)         2048      \n",
      "_________________________________________________________________\n",
      "re_lu_20 (ReLU)              (None, 6, 6, 512)         0         \n",
      "_________________________________________________________________\n",
      "depthwise_conv2d_10 (Depthwi (None, 6, 6, 512)         4608      \n",
      "_________________________________________________________________\n",
      "batch_normalization_21 (Batc (None, 6, 6, 512)         2048      \n",
      "_________________________________________________________________\n",
      "re_lu_21 (ReLU)              (None, 6, 6, 512)         0         \n",
      "_________________________________________________________________\n",
      "conv2d_11 (Conv2D)           (None, 6, 6, 512)         262144    \n",
      "_________________________________________________________________\n",
      "batch_normalization_22 (Batc (None, 6, 6, 512)         2048      \n",
      "_________________________________________________________________\n",
      "re_lu_22 (ReLU)              (None, 6, 6, 512)         0         \n",
      "_________________________________________________________________\n",
      "depthwise_conv2d_11 (Depthwi (None, 3, 3, 512)         4608      \n",
      "_________________________________________________________________\n",
      "batch_normalization_23 (Batc (None, 3, 3, 512)         2048      \n",
      "_________________________________________________________________\n",
      "re_lu_23 (ReLU)              (None, 3, 3, 512)         0         \n",
      "_________________________________________________________________\n",
      "conv2d_12 (Conv2D)           (None, 3, 3, 1024)        524288    \n",
      "_________________________________________________________________\n",
      "batch_normalization_24 (Batc (None, 3, 3, 1024)        4096      \n",
      "_________________________________________________________________\n",
      "re_lu_24 (ReLU)              (None, 3, 3, 1024)        0         \n",
      "_________________________________________________________________\n",
      "depthwise_conv2d_12 (Depthwi (None, 3, 3, 1024)        9216      \n",
      "_________________________________________________________________\n",
      "batch_normalization_25 (Batc (None, 3, 3, 1024)        4096      \n",
      "_________________________________________________________________\n",
      "re_lu_25 (ReLU)              (None, 3, 3, 1024)        0         \n",
      "_________________________________________________________________\n",
      "conv2d_13 (Conv2D)           (None, 3, 3, 1024)        1048576   \n",
      "_________________________________________________________________\n",
      "batch_normalization_26 (Batc (None, 3, 3, 1024)        4096      \n",
      "_________________________________________________________________\n",
      "re_lu_26 (ReLU)              (None, 3, 3, 1024)        0         \n",
      "_________________________________________________________________\n",
      "global_average_pooling2d (Gl (None, 1024)              0         \n",
      "_________________________________________________________________\n",
      "dense (Dense)                (None, 512)               524800    \n",
      "_________________________________________________________________\n",
      "dense_1 (Dense)              (None, 1)                 513       \n",
      "=================================================================\n",
      "Total params: 3,753,601\n",
      "Trainable params: 3,731,713\n",
      "Non-trainable params: 21,888\n",
      "_________________________________________________________________\n"
     ]
    }
   ],
   "source": [
    "\n",
    "model.summary()"
   ]
  },
  {
   "cell_type": "code",
   "execution_count": 13,
   "id": "8421d1e9",
   "metadata": {
    "execution": {
     "iopub.execute_input": "2023-02-11T16:18:06.561150Z",
     "iopub.status.busy": "2023-02-11T16:18:06.560802Z",
     "iopub.status.idle": "2023-02-11T16:18:06.565133Z",
     "shell.execute_reply": "2023-02-11T16:18:06.564142Z"
    },
    "papermill": {
     "duration": 0.078685,
     "end_time": "2023-02-11T16:18:06.567124",
     "exception": false,
     "start_time": "2023-02-11T16:18:06.488439",
     "status": "completed"
    },
    "tags": []
   },
   "outputs": [],
   "source": [
    "#from tensorflow import keras\n",
    "#model = keras.models.load_model(\"/kaggle/input/pre-trained-model-of-breast-cancer/trained_model_breast_cancer3.h5\")\n"
   ]
  },
  {
   "cell_type": "code",
   "execution_count": 14,
   "id": "78d33c10",
   "metadata": {
    "execution": {
     "iopub.execute_input": "2023-02-11T16:18:06.710854Z",
     "iopub.status.busy": "2023-02-11T16:18:06.709946Z",
     "iopub.status.idle": "2023-02-11T16:51:32.829652Z",
     "shell.execute_reply": "2023-02-11T16:51:32.828664Z"
    },
    "papermill": {
     "duration": 2008.080961,
     "end_time": "2023-02-11T16:51:34.718811",
     "exception": false,
     "start_time": "2023-02-11T16:18:06.637850",
     "status": "completed"
    },
    "tags": []
   },
   "outputs": [
    {
     "name": "stderr",
     "output_type": "stream",
     "text": [
      "2023-02-11 16:18:07.019095: W tensorflow/core/framework/cpu_allocator_impl.cc:80] Allocation of 785933100 exceeds 10% of free system memory.\n",
      "2023-02-11 16:18:07.929785: W tensorflow/core/framework/cpu_allocator_impl.cc:80] Allocation of 785933100 exceeds 10% of free system memory.\n",
      "2023-02-11 16:18:08.591135: I tensorflow/compiler/mlir/mlir_graph_optimization_pass.cc:185] None of the MLIR Optimization Passes are enabled (registered 2)\n"
     ]
    },
    {
     "name": "stdout",
     "output_type": "stream",
     "text": [
      "Epoch 1/100\n"
     ]
    },
    {
     "name": "stderr",
     "output_type": "stream",
     "text": [
      "2023-02-11 16:18:11.743669: I tensorflow/stream_executor/cuda/cuda_dnn.cc:369] Loaded cuDNN version 8005\n"
     ]
    },
    {
     "name": "stdout",
     "output_type": "stream",
     "text": [
      "341/341 [==============================] - ETA: 0s - loss: 1.2987 - acc: 0.4171"
     ]
    },
    {
     "name": "stderr",
     "output_type": "stream",
     "text": [
      "2023-02-11 16:18:36.598172: W tensorflow/core/framework/cpu_allocator_impl.cc:80] Allocation of 336849100 exceeds 10% of free system memory.\n",
      "2023-02-11 16:18:36.991842: W tensorflow/core/framework/cpu_allocator_impl.cc:80] Allocation of 336849100 exceeds 10% of free system memory.\n"
     ]
    },
    {
     "name": "stdout",
     "output_type": "stream",
     "text": [
      "341/341 [==============================] - 30s 62ms/step - loss: 1.2987 - acc: 0.4171 - val_loss: 0.5937 - val_acc: 0.8440\n",
      "Epoch 2/100\n",
      "341/341 [==============================] - 19s 57ms/step - loss: 1.2668 - acc: 0.4470 - val_loss: 0.4961 - val_acc: 0.8440\n",
      "Epoch 3/100\n",
      "341/341 [==============================] - 19s 57ms/step - loss: 1.2476 - acc: 0.4896 - val_loss: 0.6743 - val_acc: 0.5906\n",
      "Epoch 4/100\n",
      "341/341 [==============================] - 19s 57ms/step - loss: 1.2101 - acc: 0.5342 - val_loss: 0.9997 - val_acc: 0.2325\n",
      "Epoch 5/100\n",
      "341/341 [==============================] - 20s 58ms/step - loss: 1.1686 - acc: 0.5711 - val_loss: 1.0720 - val_acc: 0.2478\n",
      "Epoch 6/100\n",
      "341/341 [==============================] - 20s 58ms/step - loss: 1.0935 - acc: 0.6366 - val_loss: 0.6937 - val_acc: 0.5886\n",
      "Epoch 7/100\n",
      "341/341 [==============================] - 20s 58ms/step - loss: 0.9813 - acc: 0.6991 - val_loss: 0.9680 - val_acc: 0.4303\n",
      "Epoch 8/100\n",
      "341/341 [==============================] - 20s 58ms/step - loss: 0.8800 - acc: 0.7395 - val_loss: 0.8314 - val_acc: 0.5262\n",
      "Epoch 9/100\n",
      "341/341 [==============================] - 19s 57ms/step - loss: 0.7760 - acc: 0.7835 - val_loss: 0.6493 - val_acc: 0.6987\n",
      "Epoch 10/100\n",
      "341/341 [==============================] - 20s 58ms/step - loss: 0.6789 - acc: 0.8142 - val_loss: 0.9027 - val_acc: 0.5791\n",
      "Epoch 11/100\n",
      "341/341 [==============================] - 19s 57ms/step - loss: 0.5873 - acc: 0.8440 - val_loss: 0.8013 - val_acc: 0.6303\n",
      "Epoch 12/100\n",
      "341/341 [==============================] - 19s 57ms/step - loss: 0.4777 - acc: 0.8810 - val_loss: 0.9369 - val_acc: 0.6110\n",
      "Epoch 13/100\n",
      "341/341 [==============================] - 19s 56ms/step - loss: 0.4524 - acc: 0.8876 - val_loss: 0.9105 - val_acc: 0.6413\n",
      "Epoch 14/100\n",
      "341/341 [==============================] - 19s 57ms/step - loss: 0.3707 - acc: 0.9079 - val_loss: 0.9777 - val_acc: 0.6367\n",
      "Epoch 15/100\n",
      "341/341 [==============================] - 19s 57ms/step - loss: 0.3390 - acc: 0.9178 - val_loss: 0.8124 - val_acc: 0.7206\n",
      "Epoch 16/100\n",
      "341/341 [==============================] - 20s 58ms/step - loss: 0.3462 - acc: 0.9171 - val_loss: 0.9222 - val_acc: 0.6564\n",
      "Epoch 17/100\n",
      "341/341 [==============================] - 19s 57ms/step - loss: 0.3107 - acc: 0.9284 - val_loss: 0.8188 - val_acc: 0.7651\n",
      "Epoch 18/100\n",
      "341/341 [==============================] - 19s 57ms/step - loss: 0.2491 - acc: 0.9438 - val_loss: 1.0091 - val_acc: 0.6559\n",
      "Epoch 19/100\n",
      "341/341 [==============================] - 19s 57ms/step - loss: 0.2591 - acc: 0.9386 - val_loss: 0.9079 - val_acc: 0.7100\n",
      "Epoch 20/100\n",
      "341/341 [==============================] - 19s 56ms/step - loss: 0.2933 - acc: 0.9336 - val_loss: 0.8514 - val_acc: 0.7398\n",
      "Epoch 21/100\n",
      "341/341 [==============================] - 20s 60ms/step - loss: 0.2281 - acc: 0.9480 - val_loss: 1.1077 - val_acc: 0.6583\n",
      "Epoch 22/100\n",
      "341/341 [==============================] - 19s 56ms/step - loss: 0.2146 - acc: 0.9507 - val_loss: 0.9903 - val_acc: 0.7469\n",
      "Epoch 23/100\n",
      "341/341 [==============================] - 19s 56ms/step - loss: 0.1985 - acc: 0.9543 - val_loss: 1.1676 - val_acc: 0.6506\n",
      "Epoch 24/100\n",
      "341/341 [==============================] - 19s 56ms/step - loss: 0.2065 - acc: 0.9514 - val_loss: 0.9949 - val_acc: 0.7639\n",
      "Epoch 25/100\n",
      "341/341 [==============================] - 19s 56ms/step - loss: 0.2041 - acc: 0.9528 - val_loss: 0.9527 - val_acc: 0.7190\n",
      "Epoch 26/100\n",
      "341/341 [==============================] - 19s 56ms/step - loss: 0.2023 - acc: 0.9548 - val_loss: 0.9882 - val_acc: 0.6990\n",
      "Epoch 27/100\n",
      "341/341 [==============================] - 19s 56ms/step - loss: 0.1753 - acc: 0.9598 - val_loss: 1.1846 - val_acc: 0.6727\n",
      "Epoch 28/100\n",
      "341/341 [==============================] - 20s 58ms/step - loss: 0.1852 - acc: 0.9596 - val_loss: 1.0206 - val_acc: 0.7338\n",
      "Epoch 29/100\n",
      "341/341 [==============================] - 20s 58ms/step - loss: 0.2168 - acc: 0.9536 - val_loss: 0.9188 - val_acc: 0.7637\n",
      "Epoch 30/100\n",
      "341/341 [==============================] - 20s 57ms/step - loss: 0.1379 - acc: 0.9701 - val_loss: 1.0132 - val_acc: 0.7748\n",
      "Epoch 31/100\n",
      "341/341 [==============================] - 20s 58ms/step - loss: 0.1476 - acc: 0.9682 - val_loss: 1.1475 - val_acc: 0.7412\n",
      "Epoch 32/100\n",
      "341/341 [==============================] - 20s 58ms/step - loss: 0.1593 - acc: 0.9670 - val_loss: 1.0087 - val_acc: 0.7929\n",
      "Epoch 33/100\n",
      "341/341 [==============================] - 20s 57ms/step - loss: 0.1517 - acc: 0.9648 - val_loss: 1.1097 - val_acc: 0.7336\n",
      "Epoch 34/100\n",
      "341/341 [==============================] - 20s 58ms/step - loss: 0.1585 - acc: 0.9654 - val_loss: 1.1020 - val_acc: 0.7755\n",
      "Epoch 35/100\n",
      "341/341 [==============================] - 19s 57ms/step - loss: 0.1543 - acc: 0.9670 - val_loss: 1.0680 - val_acc: 0.7221\n",
      "Epoch 36/100\n",
      "341/341 [==============================] - 19s 57ms/step - loss: 0.1562 - acc: 0.9656 - val_loss: 1.1244 - val_acc: 0.7234\n",
      "Epoch 37/100\n",
      "341/341 [==============================] - 19s 57ms/step - loss: 0.1580 - acc: 0.9638 - val_loss: 1.0368 - val_acc: 0.7540\n",
      "Epoch 38/100\n",
      "341/341 [==============================] - 19s 57ms/step - loss: 0.1289 - acc: 0.9732 - val_loss: 1.0791 - val_acc: 0.7564\n",
      "Epoch 39/100\n",
      "341/341 [==============================] - 20s 57ms/step - loss: 0.1327 - acc: 0.9732 - val_loss: 1.1011 - val_acc: 0.7059\n",
      "Epoch 40/100\n",
      "341/341 [==============================] - 19s 57ms/step - loss: 0.1222 - acc: 0.9733 - val_loss: 1.0791 - val_acc: 0.7913\n",
      "Epoch 41/100\n",
      "341/341 [==============================] - 19s 57ms/step - loss: 0.1332 - acc: 0.9717 - val_loss: 1.2246 - val_acc: 0.6720\n",
      "Epoch 42/100\n",
      "341/341 [==============================] - 20s 57ms/step - loss: 0.1194 - acc: 0.9751 - val_loss: 1.0039 - val_acc: 0.7293\n",
      "Epoch 43/100\n",
      "341/341 [==============================] - 19s 57ms/step - loss: 0.1095 - acc: 0.9765 - val_loss: 1.1522 - val_acc: 0.7426\n",
      "Epoch 44/100\n",
      "341/341 [==============================] - 20s 57ms/step - loss: 0.1219 - acc: 0.9730 - val_loss: 1.2993 - val_acc: 0.7427\n",
      "Epoch 45/100\n",
      "341/341 [==============================] - 20s 57ms/step - loss: 0.1259 - acc: 0.9707 - val_loss: 1.4261 - val_acc: 0.6500\n",
      "Epoch 46/100\n",
      "341/341 [==============================] - 19s 57ms/step - loss: 0.1215 - acc: 0.9740 - val_loss: 1.1104 - val_acc: 0.7927\n",
      "Epoch 47/100\n",
      "341/341 [==============================] - 19s 57ms/step - loss: 0.1103 - acc: 0.9757 - val_loss: 1.2469 - val_acc: 0.7085\n",
      "Epoch 48/100\n",
      "341/341 [==============================] - 19s 57ms/step - loss: 0.1129 - acc: 0.9773 - val_loss: 1.3373 - val_acc: 0.6717\n",
      "Epoch 49/100\n",
      "341/341 [==============================] - 20s 57ms/step - loss: 0.1137 - acc: 0.9771 - val_loss: 1.0518 - val_acc: 0.7118\n",
      "Epoch 50/100\n",
      "341/341 [==============================] - 19s 57ms/step - loss: 0.0934 - acc: 0.9813 - val_loss: 1.2423 - val_acc: 0.7338\n",
      "Epoch 51/100\n",
      "341/341 [==============================] - 19s 57ms/step - loss: 0.1535 - acc: 0.9657 - val_loss: 1.2460 - val_acc: 0.7176\n",
      "Epoch 52/100\n",
      "341/341 [==============================] - 19s 57ms/step - loss: 0.0941 - acc: 0.9802 - val_loss: 1.2535 - val_acc: 0.7404\n",
      "Epoch 53/100\n",
      "341/341 [==============================] - 19s 57ms/step - loss: 0.1303 - acc: 0.9724 - val_loss: 1.0996 - val_acc: 0.7830\n",
      "Epoch 54/100\n",
      "341/341 [==============================] - 20s 58ms/step - loss: 0.0842 - acc: 0.9838 - val_loss: 1.4932 - val_acc: 0.6651\n",
      "Epoch 55/100\n",
      "341/341 [==============================] - 20s 58ms/step - loss: 0.0974 - acc: 0.9792 - val_loss: 1.3015 - val_acc: 0.7285\n",
      "Epoch 56/100\n",
      "341/341 [==============================] - 20s 57ms/step - loss: 0.0988 - acc: 0.9784 - val_loss: 1.3464 - val_acc: 0.6769\n",
      "Epoch 57/100\n",
      "341/341 [==============================] - 20s 58ms/step - loss: 0.0808 - acc: 0.9834 - val_loss: 1.3477 - val_acc: 0.7705\n",
      "Epoch 58/100\n",
      "341/341 [==============================] - 20s 58ms/step - loss: 0.0929 - acc: 0.9811 - val_loss: 1.3578 - val_acc: 0.6727\n",
      "Epoch 59/100\n",
      "341/341 [==============================] - 19s 57ms/step - loss: 0.1498 - acc: 0.9656 - val_loss: 1.2705 - val_acc: 0.7861\n",
      "Epoch 60/100\n",
      "341/341 [==============================] - 20s 57ms/step - loss: 0.0861 - acc: 0.9821 - val_loss: 1.3568 - val_acc: 0.7777\n",
      "Epoch 61/100\n",
      "341/341 [==============================] - 19s 57ms/step - loss: 0.0949 - acc: 0.9804 - val_loss: 1.6631 - val_acc: 0.6418\n",
      "Epoch 62/100\n",
      "341/341 [==============================] - 19s 57ms/step - loss: 0.1281 - acc: 0.9707 - val_loss: 1.2412 - val_acc: 0.7128\n",
      "Epoch 63/100\n",
      "341/341 [==============================] - 19s 57ms/step - loss: 0.0784 - acc: 0.9827 - val_loss: 1.3209 - val_acc: 0.7793\n",
      "Epoch 64/100\n",
      "341/341 [==============================] - 20s 57ms/step - loss: 0.0658 - acc: 0.9859 - val_loss: 1.6273 - val_acc: 0.6687\n",
      "Epoch 65/100\n",
      "341/341 [==============================] - 20s 57ms/step - loss: 0.0777 - acc: 0.9830 - val_loss: 1.8207 - val_acc: 0.5865\n",
      "Epoch 66/100\n",
      "341/341 [==============================] - 19s 57ms/step - loss: 0.0873 - acc: 0.9801 - val_loss: 1.4444 - val_acc: 0.7641\n",
      "Epoch 67/100\n",
      "341/341 [==============================] - 20s 57ms/step - loss: 0.0875 - acc: 0.9822 - val_loss: 1.3511 - val_acc: 0.7503\n",
      "Epoch 68/100\n",
      "341/341 [==============================] - 20s 58ms/step - loss: 0.0789 - acc: 0.9836 - val_loss: 1.3540 - val_acc: 0.7970\n",
      "Epoch 69/100\n",
      "341/341 [==============================] - 20s 58ms/step - loss: 0.0699 - acc: 0.9854 - val_loss: 1.3290 - val_acc: 0.7419\n",
      "Epoch 70/100\n",
      "341/341 [==============================] - 19s 57ms/step - loss: 0.0919 - acc: 0.9808 - val_loss: 1.2542 - val_acc: 0.7618\n",
      "Epoch 71/100\n",
      "341/341 [==============================] - 19s 56ms/step - loss: 0.1201 - acc: 0.9726 - val_loss: 1.3542 - val_acc: 0.7172\n",
      "Epoch 72/100\n",
      "341/341 [==============================] - 20s 57ms/step - loss: 0.0767 - acc: 0.9827 - val_loss: 1.3363 - val_acc: 0.7652\n",
      "Epoch 73/100\n",
      "341/341 [==============================] - 20s 58ms/step - loss: 0.0823 - acc: 0.9832 - val_loss: 1.2081 - val_acc: 0.7842\n",
      "Epoch 74/100\n",
      "341/341 [==============================] - 19s 57ms/step - loss: 0.0705 - acc: 0.9861 - val_loss: 1.2434 - val_acc: 0.7658\n",
      "Epoch 75/100\n",
      "341/341 [==============================] - 19s 57ms/step - loss: 0.0678 - acc: 0.9859 - val_loss: 1.3630 - val_acc: 0.7952\n",
      "Epoch 76/100\n",
      "341/341 [==============================] - 20s 58ms/step - loss: 0.0735 - acc: 0.9850 - val_loss: 1.1839 - val_acc: 0.7254\n",
      "Epoch 77/100\n",
      "341/341 [==============================] - 20s 58ms/step - loss: 0.0840 - acc: 0.9816 - val_loss: 1.3135 - val_acc: 0.7493\n",
      "Epoch 78/100\n",
      "341/341 [==============================] - 20s 58ms/step - loss: 0.0763 - acc: 0.9832 - val_loss: 1.2385 - val_acc: 0.7325\n",
      "Epoch 79/100\n",
      "341/341 [==============================] - 20s 58ms/step - loss: 0.0683 - acc: 0.9855 - val_loss: 1.4781 - val_acc: 0.7842\n",
      "Epoch 80/100\n",
      "341/341 [==============================] - 20s 58ms/step - loss: 0.0688 - acc: 0.9854 - val_loss: 1.4255 - val_acc: 0.7340\n",
      "Epoch 81/100\n",
      "341/341 [==============================] - 20s 57ms/step - loss: 0.0646 - acc: 0.9857 - val_loss: 1.5188 - val_acc: 0.7418\n",
      "Epoch 82/100\n",
      "341/341 [==============================] - 19s 57ms/step - loss: 0.0709 - acc: 0.9843 - val_loss: 1.5753 - val_acc: 0.7746\n",
      "Epoch 83/100\n",
      "341/341 [==============================] - 19s 57ms/step - loss: 0.0594 - acc: 0.9872 - val_loss: 1.3310 - val_acc: 0.7210\n",
      "Epoch 84/100\n",
      "341/341 [==============================] - 20s 57ms/step - loss: 0.0722 - acc: 0.9855 - val_loss: 1.4071 - val_acc: 0.7568\n",
      "Epoch 85/100\n",
      "341/341 [==============================] - 20s 58ms/step - loss: 0.0636 - acc: 0.9866 - val_loss: 1.4785 - val_acc: 0.7494\n",
      "Epoch 86/100\n",
      "341/341 [==============================] - 19s 57ms/step - loss: 0.0628 - acc: 0.9881 - val_loss: 1.4123 - val_acc: 0.7195\n",
      "Epoch 87/100\n",
      "341/341 [==============================] - 20s 57ms/step - loss: 0.0496 - acc: 0.9904 - val_loss: 1.5247 - val_acc: 0.7853\n",
      "Epoch 88/100\n",
      "341/341 [==============================] - 19s 57ms/step - loss: 0.0750 - acc: 0.9856 - val_loss: 1.3188 - val_acc: 0.7729\n",
      "Epoch 89/100\n",
      "341/341 [==============================] - 19s 56ms/step - loss: 0.0654 - acc: 0.9868 - val_loss: 1.4083 - val_acc: 0.7662\n",
      "Epoch 90/100\n",
      "341/341 [==============================] - 19s 56ms/step - loss: 0.0846 - acc: 0.9820 - val_loss: 1.3194 - val_acc: 0.7220\n",
      "Epoch 91/100\n",
      "341/341 [==============================] - 19s 56ms/step - loss: 0.0444 - acc: 0.9919 - val_loss: 1.5222 - val_acc: 0.7636\n",
      "Epoch 92/100\n",
      "341/341 [==============================] - 19s 56ms/step - loss: 0.1064 - acc: 0.9768 - val_loss: 1.3584 - val_acc: 0.7473\n",
      "Epoch 93/100\n",
      "341/341 [==============================] - 20s 60ms/step - loss: 0.1054 - acc: 0.9795 - val_loss: 1.3099 - val_acc: 0.7628\n",
      "Epoch 94/100\n",
      "341/341 [==============================] - 19s 56ms/step - loss: 0.0423 - acc: 0.9920 - val_loss: 1.4506 - val_acc: 0.7588\n",
      "Epoch 95/100\n",
      "341/341 [==============================] - 19s 56ms/step - loss: 0.0459 - acc: 0.9910 - val_loss: 1.7099 - val_acc: 0.8175\n",
      "Epoch 96/100\n",
      "341/341 [==============================] - 19s 56ms/step - loss: 0.0395 - acc: 0.9915 - val_loss: 1.5946 - val_acc: 0.7472\n",
      "Epoch 97/100\n",
      "341/341 [==============================] - 20s 57ms/step - loss: 0.0977 - acc: 0.9784 - val_loss: 1.4447 - val_acc: 0.7562\n",
      "Epoch 98/100\n",
      "341/341 [==============================] - 19s 57ms/step - loss: 0.0855 - acc: 0.9821 - val_loss: 1.3800 - val_acc: 0.7827\n",
      "Epoch 99/100\n",
      "341/341 [==============================] - 19s 57ms/step - loss: 0.0380 - acc: 0.9927 - val_loss: 1.6060 - val_acc: 0.7957\n",
      "Epoch 100/100\n",
      "341/341 [==============================] - 20s 58ms/step - loss: 0.0339 - acc: 0.9921 - val_loss: 1.7459 - val_acc: 0.7080\n"
     ]
    },
    {
     "data": {
      "text/plain": [
       "<keras.callbacks.History at 0x7fe513c89290>"
      ]
     },
     "execution_count": 14,
     "metadata": {},
     "output_type": "execute_result"
    }
   ],
   "source": [
    "from tensorflow.keras.preprocessing.image import ImageDataGenerator\n",
    "\n",
    "#datagen = ImageDataGenerator(\\\n",
    "#    rescale=1/255,\\\n",
    "#    validation_split=0.10,\\\n",
    "#    rotation_range=40,\\\n",
    "#    width_shift_range=0.2,\\\n",
    "#    height_shift_range=0.2,\\\n",
    "#    shear_range=0.2,\\\n",
    "#    zoom_range=0.2,\\\n",
    "#    horizontal_flip=True,\\\n",
    "#    fill_mode='nearest'\\\n",
    "#)\n",
    "\n",
    "\n",
    "#datagen.fit(train_features)\n",
    "weights = {0:1, 1:6.5}\n",
    "model.fit(train_features, train_target,class_weight = weights,batch_size=64,validation_split=0.3,\\\n",
    "           epochs=100)\n"
   ]
  },
  {
   "cell_type": "code",
   "execution_count": 15,
   "id": "9e87f5fc",
   "metadata": {
    "execution": {
     "iopub.execute_input": "2023-02-11T16:51:38.594434Z",
     "iopub.status.busy": "2023-02-11T16:51:38.594060Z",
     "iopub.status.idle": "2023-02-11T16:51:38.923728Z",
     "shell.execute_reply": "2023-02-11T16:51:38.922732Z"
    },
    "papermill": {
     "duration": 2.243537,
     "end_time": "2023-02-11T16:51:38.926143",
     "exception": false,
     "start_time": "2023-02-11T16:51:36.682606",
     "status": "completed"
    },
    "tags": []
   },
   "outputs": [],
   "source": [
    "model.save(\"/kaggle/working/trained_model_breast_cancer3.h5\")\n"
   ]
  },
  {
   "cell_type": "code",
   "execution_count": 16,
   "id": "dc5c2bea",
   "metadata": {
    "execution": {
     "iopub.execute_input": "2023-02-11T16:51:43.344617Z",
     "iopub.status.busy": "2023-02-11T16:51:43.343857Z",
     "iopub.status.idle": "2023-02-11T16:51:43.352875Z",
     "shell.execute_reply": "2023-02-11T16:51:43.351891Z"
    },
    "papermill": {
     "duration": 2.104921,
     "end_time": "2023-02-11T16:51:43.355958",
     "exception": false,
     "start_time": "2023-02-11T16:51:41.251037",
     "status": "completed"
    },
    "tags": []
   },
   "outputs": [],
   "source": [
    "#from tensorflow import keras\n",
    "#savedModel = keras.models.load_model(\"/kaggle/input/pre-trained-model-of-breast-cancer/trained_model_breast_cancer3.h5\")\n",
    "\n"
   ]
  },
  {
   "cell_type": "code",
   "execution_count": 17,
   "id": "e7595c90",
   "metadata": {
    "execution": {
     "iopub.execute_input": "2023-02-11T16:51:47.086145Z",
     "iopub.status.busy": "2023-02-11T16:51:47.085718Z",
     "iopub.status.idle": "2023-02-11T16:51:50.447218Z",
     "shell.execute_reply": "2023-02-11T16:51:50.446190Z"
    },
    "papermill": {
     "duration": 5.221307,
     "end_time": "2023-02-11T16:51:50.449585",
     "exception": false,
     "start_time": "2023-02-11T16:51:45.228278",
     "status": "completed"
    },
    "tags": []
   },
   "outputs": [],
   "source": [
    "test_features=[]\n",
    "for i in test['img_data']:\n",
    "    i=np.array(i)\n",
    "    test_features.append(i)\n",
    "test_features=np.array(test_features)\n",
    " \n",
    "\n",
    "    \n",
    "#featureTransform = test_features.reshape(len(test_features), 6400)\n",
    "scaler = MinMaxScaler()\n",
    "#featureTransform =scaler.fit_transform(featureTransform)\n",
    "norm_features= []\n",
    "for i in range(len(test_features)):\n",
    "    norm_features.append(scaler.fit_transform(test_features[i]))\n",
    "test_features=np.array(norm_features)\n",
    "\n",
    "\n",
    "#backTransform = featureTransform.reshape(len(test_features),80,80)\n",
    "test_features = test_features.reshape(len(test_features),95,95,1)\n",
    "\n",
    "\n",
    "\n",
    "\n",
    "\n",
    "test_target = np.array(test['cancer'])"
   ]
  },
  {
   "cell_type": "code",
   "execution_count": 18,
   "id": "0f4b89b7",
   "metadata": {
    "execution": {
     "iopub.execute_input": "2023-02-11T16:51:54.426863Z",
     "iopub.status.busy": "2023-02-11T16:51:54.426469Z",
     "iopub.status.idle": "2023-02-11T16:51:58.071438Z",
     "shell.execute_reply": "2023-02-11T16:51:58.070370Z"
    },
    "papermill": {
     "duration": 5.734806,
     "end_time": "2023-02-11T16:51:58.073804",
     "exception": false,
     "start_time": "2023-02-11T16:51:52.338998",
     "status": "completed"
    },
    "tags": []
   },
   "outputs": [
    {
     "name": "stderr",
     "output_type": "stream",
     "text": [
      "2023-02-11 16:51:55.065745: W tensorflow/core/framework/cpu_allocator_impl.cc:80] Allocation of 481213000 exceeds 10% of free system memory.\n"
     ]
    }
   ],
   "source": [
    "\n",
    "pred = model.predict(test_features)\n",
    "bin_pred = []\n",
    "for i in pred:\n",
    "    if i>=0.5:\n",
    "        bin_pred.append(1)\n",
    "    else:\n",
    "        bin_pred.append(0)\n",
    "bin_pred = np.array(bin_pred)\n"
   ]
  },
  {
   "cell_type": "code",
   "execution_count": null,
   "id": "19605328",
   "metadata": {
    "papermill": {
     "duration": 1.876033,
     "end_time": "2023-02-11T16:52:01.830783",
     "exception": false,
     "start_time": "2023-02-11T16:51:59.954750",
     "status": "completed"
    },
    "tags": []
   },
   "outputs": [],
   "source": []
  },
  {
   "cell_type": "code",
   "execution_count": 19,
   "id": "44dc63f4",
   "metadata": {
    "execution": {
     "iopub.execute_input": "2023-02-11T16:52:05.759361Z",
     "iopub.status.busy": "2023-02-11T16:52:05.758640Z",
     "iopub.status.idle": "2023-02-11T16:52:05.781528Z",
     "shell.execute_reply": "2023-02-11T16:52:05.780382Z"
    },
    "papermill": {
     "duration": 2.1021,
     "end_time": "2023-02-11T16:52:05.783967",
     "exception": false,
     "start_time": "2023-02-11T16:52:03.681867",
     "status": "completed"
    },
    "tags": []
   },
   "outputs": [
    {
     "name": "stdout",
     "output_type": "stream",
     "text": [
      "0.7069017254313579\n",
      "0.7836461126005362 0.305607476635514\n"
     ]
    }
   ],
   "source": [
    "import sklearn\n",
    "acc = sklearn.metrics.accuracy_score(test_target, bin_pred)\n",
    "print(acc)\n",
    "\n",
    "countzero=0\n",
    "countone=0\n",
    "countzerot=0\n",
    "countonet=0\n",
    "for i, j in zip(test_target, bin_pred):\n",
    "    if i==0 and j==0:\n",
    "        countzero+=1\n",
    "    if i==1 and j==1:\n",
    "        countone+=1\n",
    "    if i==1:\n",
    "        countonet+=1\n",
    "    if i==0:\n",
    "        countzerot+=1\n",
    "print(countzero/countzerot,countone/countonet)"
   ]
  },
  {
   "cell_type": "code",
   "execution_count": 20,
   "id": "4e2d9da4",
   "metadata": {
    "execution": {
     "iopub.execute_input": "2023-02-11T16:52:09.572359Z",
     "iopub.status.busy": "2023-02-11T16:52:09.571229Z",
     "iopub.status.idle": "2023-02-11T16:52:09.580922Z",
     "shell.execute_reply": "2023-02-11T16:52:09.579830Z"
    },
    "papermill": {
     "duration": 1.888224,
     "end_time": "2023-02-11T16:52:09.583514",
     "exception": false,
     "start_time": "2023-02-11T16:52:07.695290",
     "status": "completed"
    },
    "tags": []
   },
   "outputs": [
    {
     "name": "stdout",
     "output_type": "stream",
     "text": [
      "0.2508149568552253\n"
     ]
    }
   ],
   "source": [
    "\n",
    "def recall_m(y_true, y_pred):\n",
    "    true_positives = np.sum(np.round(np.clip(y_true * y_pred, 0, 1)))\n",
    "    possible_positives = np.sum(np.round(np.clip(y_true, 0, 1)))\n",
    "    recall = true_positives / (possible_positives )\n",
    "    return recall\n",
    "\n",
    "def precision_m(y_true, y_pred):\n",
    "    true_positives = np.sum(np.round(np.clip(y_true * y_pred, 0, 1)))\n",
    "    predicted_positives = np.sum(np.round(np.clip(y_pred, 0, 1)))\n",
    "    precision = true_positives / (predicted_positives )\n",
    "    return precision\n",
    "\n",
    "def f1_m(y_true, y_pred):\n",
    "    precision = precision_m(y_true, y_pred)\n",
    "    recall = recall_m(y_true, y_pred)\n",
    "    return 2*((precision*recall)/(precision+recall))\n",
    "\n",
    "\n",
    "print(f1_m(test_target,bin_pred))"
   ]
  }
 ],
 "metadata": {
  "kernelspec": {
   "display_name": "Python 3",
   "language": "python",
   "name": "python3"
  },
  "language_info": {
   "codemirror_mode": {
    "name": "ipython",
    "version": 3
   },
   "file_extension": ".py",
   "mimetype": "text/x-python",
   "name": "python",
   "nbconvert_exporter": "python",
   "pygments_lexer": "ipython3",
   "version": "3.7.12"
  },
  "papermill": {
   "default_parameters": {},
   "duration": 2241.654613,
   "end_time": "2023-02-11T16:52:15.015242",
   "environment_variables": {},
   "exception": null,
   "input_path": "__notebook__.ipynb",
   "output_path": "__notebook__.ipynb",
   "parameters": {},
   "start_time": "2023-02-11T16:14:53.360629",
   "version": "2.3.4"
  }
 },
 "nbformat": 4,
 "nbformat_minor": 5
}
