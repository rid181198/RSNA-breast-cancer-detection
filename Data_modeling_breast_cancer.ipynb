{
 "cells": [
  {
   "cell_type": "code",
   "execution_count": 1,
   "id": "6715d446",
   "metadata": {
    "execution": {
     "iopub.execute_input": "2023-01-23T17:43:13.746953Z",
     "iopub.status.busy": "2023-01-23T17:43:13.745990Z",
     "iopub.status.idle": "2023-01-23T17:43:22.023941Z",
     "shell.execute_reply": "2023-01-23T17:43:22.022946Z"
    },
    "papermill": {
     "duration": 8.290951,
     "end_time": "2023-01-23T17:43:22.026817",
     "exception": false,
     "start_time": "2023-01-23T17:43:13.735866",
     "status": "completed"
    },
    "tags": []
   },
   "outputs": [],
   "source": [
    "import numpy as np\n",
    "import pandas as pd\n",
    "import matplotlib.pyplot as plt\n",
    "import seaborn as sns\n",
    "import pickle\n",
    "import tensorflow as tf\n",
    "import tensorflow_io as tfio\n",
    "import os\n",
    "from tqdm import tqdm\n",
    "import cv2\n",
    "from PIL import Image\n",
    "from joblib import Parallel, delayed\n",
    "import gc\n",
    "from PIL import Image as im\n",
    "import random"
   ]
  },
  {
   "cell_type": "code",
   "execution_count": 2,
   "id": "7eadff12",
   "metadata": {
    "execution": {
     "iopub.execute_input": "2023-01-23T17:43:22.041970Z",
     "iopub.status.busy": "2023-01-23T17:43:22.040874Z",
     "iopub.status.idle": "2023-01-23T17:43:37.952709Z",
     "shell.execute_reply": "2023-01-23T17:43:37.951041Z"
    },
    "papermill": {
     "duration": 15.922379,
     "end_time": "2023-01-23T17:43:37.955502",
     "exception": false,
     "start_time": "2023-01-23T17:43:22.033123",
     "status": "completed"
    },
    "tags": []
   },
   "outputs": [
    {
     "name": "stdout",
     "output_type": "stream",
     "text": [
      "Collecting dicomsdl\r\n",
      "  Downloading dicomsdl-0.109.1-cp37-cp37m-manylinux_2_12_x86_64.manylinux2010_x86_64.whl (1.4 MB)\r\n",
      "\u001b[2K     \u001b[90m━━━━━━━━━━━━━━━━━━━━━━━━━━━━━━━━━━━━━━━━\u001b[0m \u001b[32m1.4/1.4 MB\u001b[0m \u001b[31m1.5 MB/s\u001b[0m eta \u001b[36m0:00:00\u001b[0m\r\n",
      "\u001b[?25hInstalling collected packages: dicomsdl\r\n",
      "Successfully installed dicomsdl-0.109.1\r\n",
      "\u001b[33mWARNING: Running pip as the 'root' user can result in broken permissions and conflicting behaviour with the system package manager. It is recommended to use a virtual environment instead: https://pip.pypa.io/warnings/venv\u001b[0m\u001b[33m\r\n",
      "\u001b[0m"
     ]
    }
   ],
   "source": [
    "import sys\n",
    "!{sys.executable} -m pip install dicomsdl\n",
    "#!pip install /kaggle/input/rsnapacks/dicomsdl-0.109.1-cp36-cp36m-manylinux_2_12_x86_64.manylinux2010_x86_64.whl\n",
    "import numpy as np\n",
    "import pandas as pd\n",
    "import matplotlib.pyplot as plt\n",
    "import seaborn as sns\n",
    "import pickle\n",
    "#import pydicom as dicom\n",
    "import dicomsdl as dicom\n",
    "import tensorflow as tf\n",
    "import tensorflow_io as tfio\n",
    "from PIL import Image as im\n",
    "import os\n",
    "from tqdm import tqdm\n",
    "import cv2\n",
    "from PIL import Image\n",
    "from joblib import Parallel, delayed\n",
    "import gc\n",
    "import random"
   ]
  },
  {
   "cell_type": "code",
   "execution_count": 3,
   "id": "634c392b",
   "metadata": {
    "execution": {
     "iopub.execute_input": "2023-01-23T17:43:37.974114Z",
     "iopub.status.busy": "2023-01-23T17:43:37.973594Z",
     "iopub.status.idle": "2023-01-23T17:43:37.996766Z",
     "shell.execute_reply": "2023-01-23T17:43:37.995002Z"
    },
    "papermill": {
     "duration": 0.035795,
     "end_time": "2023-01-23T17:43:37.999616",
     "exception": false,
     "start_time": "2023-01-23T17:43:37.963821",
     "status": "completed"
    },
    "tags": []
   },
   "outputs": [],
   "source": [
    "datasetPath = '/kaggle/input/rsna-breast-cancer-detection/train.csv'\n",
    "imgPath = '/kaggle/input/rsna-breast-cancer-detection/train_images/'\n",
    "\n",
    "def crop(sideName, imgName):\n",
    "    if sideName == 'L':\n",
    "        colind=[]\n",
    "        for r,row in enumerate(imgName):\n",
    "            for c,col in enumerate(row):\n",
    "                if col==0:\n",
    "                    colind.append(c)\n",
    "                    break\n",
    "        crop_size = max(colind)\n",
    "        imgName = imgName[0:512,0:crop_size]\n",
    "        imgName = cv2.resize(imgName,(128,128))\n",
    "        \n",
    "    if sideName == 'R':\n",
    "        colind=[]\n",
    "        for r,row in enumerate(imgName):\n",
    "            for c,col in enumerate(row):\n",
    "                if col!=0:\n",
    "                    colind.append(c)\n",
    "                    break\n",
    "        crop_size = min(colind)\n",
    "        imgName = imgName[0:512,crop_size:512]\n",
    "        imgName = cv2.resize(imgName,(128,128))\n",
    "    \n",
    "    return imgName    \n",
    "\n",
    "    gc.collect()\n",
    "    \n",
    "def crop_reverse(sideName, imgName):\n",
    "    if sideName == 'R':\n",
    "        colind=[]\n",
    "        for r,row in enumerate(imgName):\n",
    "            for c,col in enumerate(row):\n",
    "                if col==0:\n",
    "                    colind.append(c)\n",
    "                    break\n",
    "        crop_size = max(colind)\n",
    "        imgName = imgName[0:512,0:crop_size]\n",
    "        imgName = cv2.resize(imgName,(128,128))\n",
    "        \n",
    "    if sideName == 'L':\n",
    "        colind=[]\n",
    "        for r,row in enumerate(imgName):\n",
    "            for c,col in enumerate(row):\n",
    "                if col!=0:\n",
    "                    colind.append(c)\n",
    "                    break\n",
    "        crop_size = min(colind)\n",
    "        imgName = imgName[0:512,crop_size:512]\n",
    "        imgName = cv2.resize(imgName,(128,128))\n",
    "    \n",
    "    return imgName    \n",
    "\n",
    "    gc.collect()\n",
    "    \n",
    "\n",
    "def img_process(i,filename,sides):\n",
    "    \n",
    "    #ds = dicom.dcmread(filename)\n",
    "    ds = dicom.open(filename)\n",
    "    ds = ds.pixelData()\n",
    "    ds = cv2.normalize(ds, None, 0, 1.0, cv2.NORM_MINMAX, dtype=cv2.CV_32F)\n",
    "    ds = cv2.resize(ds,(512,512))\n",
    "    ds = np.where(ds >= 0.9999, 0,ds)\n",
    "    \n",
    "    try:\n",
    "        ds = np.array(crop(sides[i], ds))   \n",
    "    except:\n",
    "        ds = np.array(crop_reverse(sides[i], ds))\n",
    "    return ds \n",
    "\n",
    "    #train_data.loc[i,'img_data'] = [img_fin]\n",
    "    #train_data.to_csv('/kaggle/working/training_img_data.csv') \n",
    "    \n",
    "    gc.collect()\n",
    "\n",
    "def dcmToPix(datasetPath, imgPath):\n",
    "    dataset = pd.read_csv(datasetPath)\n",
    "    dataset=dataset[:50]\n",
    "    \n",
    "    \n",
    "    patient_ids = dataset['patient_id']\n",
    "    image_ids = dataset['image_id']\n",
    "    sides  = dataset['laterality']\n",
    "\n",
    "    imgData = []\n",
    "\n",
    "    for pi, ii, leng in zip(patient_ids, image_ids, range(len(patient_ids))):\n",
    "        imgData.append(imgPath + str(pi) + '/' + str(ii) + '.dcm')\n",
    "\n",
    "    dataset['img_data'] = \" \"\n",
    "    \n",
    "    result = Parallel(n_jobs=128)(\\\n",
    "    delayed(img_process)(i, fname, sides) for i, fname in zip(range(len(imgData)),tqdm(imgData))\\\n",
    "    )\n",
    "    \n",
    "    dataset['img_data'] = result\n",
    "    dataset.to_pickle('imgData.pkl' )\n",
    "    \n",
    "    return result\n",
    "    "
   ]
  },
  {
   "cell_type": "code",
   "execution_count": 4,
   "id": "a9595f45",
   "metadata": {
    "_cell_guid": "b1076dfc-b9ad-4769-8c92-a6c4dae69d19",
    "_uuid": "8f2839f25d086af736a60e9eeb907d3b93b6e0e5",
    "execution": {
     "iopub.execute_input": "2023-01-23T17:43:38.017196Z",
     "iopub.status.busy": "2023-01-23T17:43:38.016771Z",
     "iopub.status.idle": "2023-01-23T17:44:24.415885Z",
     "shell.execute_reply": "2023-01-23T17:44:24.414481Z"
    },
    "papermill": {
     "duration": 46.4117,
     "end_time": "2023-01-23T17:44:24.419203",
     "exception": false,
     "start_time": "2023-01-23T17:43:38.007503",
     "status": "completed"
    },
    "tags": []
   },
   "outputs": [],
   "source": [
    "with (open('/kaggle/input/output/imgData.pkl', \"rb\")) as openfile:\n",
    "     imgData = pickle.load(openfile)"
   ]
  },
  {
   "cell_type": "code",
   "execution_count": 5,
   "id": "8f59cfd8",
   "metadata": {
    "execution": {
     "iopub.execute_input": "2023-01-23T17:44:24.446037Z",
     "iopub.status.busy": "2023-01-23T17:44:24.437419Z",
     "iopub.status.idle": "2023-01-23T17:44:24.450743Z",
     "shell.execute_reply": "2023-01-23T17:44:24.449613Z"
    },
    "papermill": {
     "duration": 0.02579,
     "end_time": "2023-01-23T17:44:24.453401",
     "exception": false,
     "start_time": "2023-01-23T17:44:24.427611",
     "status": "completed"
    },
    "tags": []
   },
   "outputs": [],
   "source": [
    "#datacancer = pd.read_csv(datasetPath)\n",
    "#imgDataFrame = {'cancer':datacancer['cancer'][:50], 'img_data':imgData}\n",
    "#imgData2 = pd.DataFrame(imgDataFrame)\n",
    "\n",
    "#imgData=imgData2"
   ]
  },
  {
   "cell_type": "code",
   "execution_count": 6,
   "id": "463ea279",
   "metadata": {
    "execution": {
     "iopub.execute_input": "2023-01-23T17:44:24.472586Z",
     "iopub.status.busy": "2023-01-23T17:44:24.471421Z",
     "iopub.status.idle": "2023-01-23T17:44:24.608420Z",
     "shell.execute_reply": "2023-01-23T17:44:24.606939Z"
    },
    "papermill": {
     "duration": 0.149476,
     "end_time": "2023-01-23T17:44:24.611406",
     "exception": false,
     "start_time": "2023-01-23T17:44:24.461930",
     "status": "completed"
    },
    "tags": []
   },
   "outputs": [],
   "source": [
    "imgdata_pos = imgData[imgData['cancer'] == 1]\n",
    "imgdata_neg = imgData[imgData['cancer'] == 0]\n",
    "\n",
    "imgdata_pos = imgdata_pos.sample(frac = 1)\n",
    "imgdata_neg = imgdata_neg.sample(frac = 1)\n",
    "\n",
    "imgdata_neg = imgdata_neg.sample(frac= 1)\n",
    "\n",
    "frames = 1*[imgdata_pos]\n",
    "frames.append(imgdata_neg)\n",
    "imgdata_shuff = pd.concat(frames)\n",
    "imgdata_shuff = imgdata_shuff.sample(frac=1)"
   ]
  },
  {
   "cell_type": "code",
   "execution_count": 7,
   "id": "b1b6ff32",
   "metadata": {
    "execution": {
     "iopub.execute_input": "2023-01-23T17:44:24.633081Z",
     "iopub.status.busy": "2023-01-23T17:44:24.632670Z",
     "iopub.status.idle": "2023-01-23T17:44:24.646482Z",
     "shell.execute_reply": "2023-01-23T17:44:24.644893Z"
    },
    "papermill": {
     "duration": 0.031124,
     "end_time": "2023-01-23T17:44:24.650620",
     "exception": false,
     "start_time": "2023-01-23T17:44:24.619496",
     "status": "completed"
    },
    "tags": []
   },
   "outputs": [
    {
     "name": "stdout",
     "output_type": "stream",
     "text": [
      "0    53548\n",
      "1     1158\n",
      "Name: cancer, dtype: int64\n"
     ]
    }
   ],
   "source": [
    "print(imgdata_shuff['cancer'].value_counts())"
   ]
  },
  {
   "cell_type": "code",
   "execution_count": 8,
   "id": "3a386c6a",
   "metadata": {
    "execution": {
     "iopub.execute_input": "2023-01-23T17:44:24.672706Z",
     "iopub.status.busy": "2023-01-23T17:44:24.672244Z",
     "iopub.status.idle": "2023-01-23T17:44:24.679974Z",
     "shell.execute_reply": "2023-01-23T17:44:24.678608Z"
    },
    "papermill": {
     "duration": 0.022161,
     "end_time": "2023-01-23T17:44:24.682711",
     "exception": false,
     "start_time": "2023-01-23T17:44:24.660550",
     "status": "completed"
    },
    "tags": []
   },
   "outputs": [],
   "source": [
    "def random_rotate(imgData):\n",
    "    imgData = imgData.reshape(128,128)\n",
    "    imgData = im.fromarray(imgData)\n",
    "    imgData = np.asarray(imgData.rotate(random.randint(-5, 5)))\n",
    "    return imgData"
   ]
  },
  {
   "cell_type": "code",
   "execution_count": 9,
   "id": "f9282b4e",
   "metadata": {
    "execution": {
     "iopub.execute_input": "2023-01-23T17:44:24.701699Z",
     "iopub.status.busy": "2023-01-23T17:44:24.700954Z",
     "iopub.status.idle": "2023-01-23T17:44:24.706363Z",
     "shell.execute_reply": "2023-01-23T17:44:24.705127Z"
    },
    "papermill": {
     "duration": 0.017717,
     "end_time": "2023-01-23T17:44:24.708924",
     "exception": false,
     "start_time": "2023-01-23T17:44:24.691207",
     "status": "completed"
    },
    "tags": []
   },
   "outputs": [],
   "source": [
    "#imgDataList=[]\n",
    "#for j in tqdm(imgdata_shuff['img_data']):\n",
    "#    imgDataList.append(random_rotate(j))\n",
    "#imgdata_shuff['img_data'] = imgDataList"
   ]
  },
  {
   "cell_type": "code",
   "execution_count": 10,
   "id": "024503f0",
   "metadata": {
    "execution": {
     "iopub.execute_input": "2023-01-23T17:44:24.728136Z",
     "iopub.status.busy": "2023-01-23T17:44:24.727711Z",
     "iopub.status.idle": "2023-01-23T17:44:52.707060Z",
     "shell.execute_reply": "2023-01-23T17:44:52.705809Z"
    },
    "papermill": {
     "duration": 27.992906,
     "end_time": "2023-01-23T17:44:52.710004",
     "exception": false,
     "start_time": "2023-01-23T17:44:24.717098",
     "status": "completed"
    },
    "tags": []
   },
   "outputs": [],
   "source": [
    "from sklearn.model_selection import train_test_split\n",
    "train,test = train_test_split(imgdata_shuff, test_size=0.3, random_state=42, shuffle=True)\n",
    "\n",
    "\n",
    "train_target = np.array(train['cancer'])\n",
    "train_features=[]\n",
    "for i in train['img_data']:\n",
    "    train_features.append([i])\n",
    "train_features=np.array(train_features)\n",
    "\n",
    "\n",
    "from sklearn.preprocessing import StandardScaler\n",
    "\n",
    "scaler = StandardScaler()\n",
    "norm_features= []\n",
    "for i in range(len(train_features)):\n",
    "    norm_features.append(scaler.fit_transform(train_features[i][0]))\n",
    "train_features=np.array(norm_features)\n",
    "\n",
    "train_features = train_features.reshape(len(train_features),128,128,1)\n",
    "\n"
   ]
  },
  {
   "cell_type": "code",
   "execution_count": 11,
   "id": "4ec9c621",
   "metadata": {
    "execution": {
     "iopub.execute_input": "2023-01-23T17:44:52.727114Z",
     "iopub.status.busy": "2023-01-23T17:44:52.726715Z",
     "iopub.status.idle": "2023-01-23T17:44:52.951584Z",
     "shell.execute_reply": "2023-01-23T17:44:52.950291Z"
    },
    "papermill": {
     "duration": 0.237259,
     "end_time": "2023-01-23T17:44:52.954997",
     "exception": false,
     "start_time": "2023-01-23T17:44:52.717738",
     "status": "completed"
    },
    "tags": []
   },
   "outputs": [
    {
     "name": "stderr",
     "output_type": "stream",
     "text": [
      "2023-01-23 17:44:52.776328: I tensorflow/core/common_runtime/process_util.cc:146] Creating new thread pool with default inter op setting: 2. Tune using inter_op_parallelism_threads for best performance.\n"
     ]
    }
   ],
   "source": [
    "from keras.models import Sequential\n",
    "from keras.layers import LeakyReLU\n",
    "from keras.layers import Dense, Conv2D, Flatten,MaxPooling2D, Dropout, GlobalMaxPooling2D\n",
    "model = Sequential()\n",
    "model.add(Conv2D(64, 3, activation = \"relu\", input_shape = (128,128,1)))\n",
    "model.add(MaxPooling2D())\n",
    "model.add(LeakyReLU(alpha=0.05))\n",
    "model.add(Dropout(0.3))\n",
    "model.add(Conv2D(32, 3, activation = \"relu\"))\n",
    "model.add(MaxPooling2D())\n",
    "model.add(LeakyReLU(alpha=0.05))\n",
    "model.add(Conv2D(16, 3, activation = \"relu\"))\n",
    "model.add(MaxPooling2D())\n",
    "model.add(Dropout(0.4))\n",
    "model.add(Flatten())\n",
    "model.add(Dense(32, activation = 'relu')) \n",
    "model.add(LeakyReLU(alpha=0.1))\n",
    "#model.add(Dense(64, activation = 'relu')) \n",
    "#model.add(LeakyReLU(alpha=0.2))\n",
    "model.add(Dropout(0.2))\n",
    "model.add(Dense(1, activation = 'sigmoid'))\n",
    "\n",
    "\n",
    "\n",
    "\n",
    "from keras import backend as K\n",
    "def recall_m(y_true, y_pred):\n",
    "    true_positives = K.sum(K.round(K.clip(y_true * y_pred, 0, 1)))\n",
    "    possible_positives = K.sum(K.round(K.clip(y_true, 0, 1)))\n",
    "    recall = true_positives / (possible_positives )\n",
    "    return recall\n",
    "\n",
    "def precision_m(y_true, y_pred):\n",
    "    true_positives = K.sum(K.round(K.clip(y_true * y_pred, 0, 1)))\n",
    "    predicted_positives = K.sum(K.round(K.clip(y_pred, 0, 1)))\n",
    "    precision = true_positives / (predicted_positives )\n",
    "    return precision\n",
    "\n",
    "def f1_m(y_true, y_pred):\n",
    "    precision = precision_m(y_true, y_pred)\n",
    "    recall = recall_m(y_true, y_pred)\n",
    "    return 2*((precision*recall)/(precision+recall))\n",
    "\n",
    "\n",
    "\n",
    "\n",
    "model.compile(optimizer =tf.keras.optimizers.Adam(learning_rate=0.0001),\\\n",
    "              loss= 'binary_crossentropy', metrics=['accuracy'])\n",
    "\n"
   ]
  },
  {
   "cell_type": "code",
   "execution_count": 12,
   "id": "85c47f48",
   "metadata": {
    "execution": {
     "iopub.execute_input": "2023-01-23T17:44:52.973320Z",
     "iopub.status.busy": "2023-01-23T17:44:52.972907Z",
     "iopub.status.idle": "2023-01-23T18:57:52.594273Z",
     "shell.execute_reply": "2023-01-23T18:57:52.592176Z"
    },
    "papermill": {
     "duration": 4380.112848,
     "end_time": "2023-01-23T18:57:53.076329",
     "exception": false,
     "start_time": "2023-01-23T17:44:52.963481",
     "status": "completed"
    },
    "tags": []
   },
   "outputs": [
    {
     "name": "stderr",
     "output_type": "stream",
     "text": [
      "2023-01-23 17:44:54.722436: I tensorflow/compiler/mlir/mlir_graph_optimization_pass.cc:185] None of the MLIR Optimization Passes are enabled (registered 2)\n"
     ]
    },
    {
     "name": "stdout",
     "output_type": "stream",
     "text": [
      "Epoch 1/15\n",
      "419/419 [==============================] - 300s 708ms/step - loss: 0.5553 - accuracy: 0.9764 - val_loss: 0.3495 - val_accuracy: 0.9797\n",
      "Epoch 2/15\n",
      "419/419 [==============================] - 293s 699ms/step - loss: 0.5406 - accuracy: 0.9778 - val_loss: 0.3319 - val_accuracy: 0.9797\n",
      "Epoch 3/15\n",
      "419/419 [==============================] - 291s 695ms/step - loss: 0.5346 - accuracy: 0.9778 - val_loss: 0.3445 - val_accuracy: 0.9797\n",
      "Epoch 4/15\n",
      "419/419 [==============================] - 287s 686ms/step - loss: 0.5310 - accuracy: 0.9778 - val_loss: 0.3230 - val_accuracy: 0.9797\n",
      "Epoch 5/15\n",
      "419/419 [==============================] - 291s 694ms/step - loss: 0.5299 - accuracy: 0.9778 - val_loss: 0.3610 - val_accuracy: 0.9797\n",
      "Epoch 6/15\n",
      "419/419 [==============================] - 290s 693ms/step - loss: 0.5290 - accuracy: 0.9778 - val_loss: 0.3747 - val_accuracy: 0.9797\n",
      "Epoch 7/15\n",
      "419/419 [==============================] - 294s 702ms/step - loss: 0.5249 - accuracy: 0.9778 - val_loss: 0.2546 - val_accuracy: 0.9797\n",
      "Epoch 8/15\n",
      "419/419 [==============================] - 291s 695ms/step - loss: 0.5237 - accuracy: 0.9778 - val_loss: 0.2709 - val_accuracy: 0.9797\n",
      "Epoch 9/15\n",
      "419/419 [==============================] - 286s 682ms/step - loss: 0.5203 - accuracy: 0.9778 - val_loss: 0.2964 - val_accuracy: 0.9797\n",
      "Epoch 10/15\n",
      "419/419 [==============================] - 293s 700ms/step - loss: 0.5137 - accuracy: 0.9778 - val_loss: 0.3456 - val_accuracy: 0.9797\n",
      "Epoch 11/15\n",
      "419/419 [==============================] - 295s 703ms/step - loss: 0.5138 - accuracy: 0.9778 - val_loss: 0.2957 - val_accuracy: 0.9797\n",
      "Epoch 12/15\n",
      "419/419 [==============================] - 289s 691ms/step - loss: 0.5125 - accuracy: 0.9778 - val_loss: 0.2828 - val_accuracy: 0.9797\n",
      "Epoch 13/15\n",
      "419/419 [==============================] - 296s 707ms/step - loss: 0.5060 - accuracy: 0.9778 - val_loss: 0.3098 - val_accuracy: 0.9797\n",
      "Epoch 14/15\n",
      "419/419 [==============================] - 288s 688ms/step - loss: 0.5023 - accuracy: 0.9778 - val_loss: 0.2698 - val_accuracy: 0.9797\n",
      "Epoch 15/15\n",
      "419/419 [==============================] - 292s 696ms/step - loss: 0.5001 - accuracy: 0.9775 - val_loss: 0.2758 - val_accuracy: 0.9797\n"
     ]
    },
    {
     "data": {
      "text/plain": [
       "<keras.callbacks.History at 0x7f774016e710>"
      ]
     },
     "execution_count": 12,
     "metadata": {},
     "output_type": "execute_result"
    }
   ],
   "source": [
    "weights = {0:1, 1:9}\n",
    "model.fit(train_features, train_target,  class_weight=weights,validation_split=0.3,batch_size = 64,epochs=15)\n",
    "\n",
    "\n"
   ]
  },
  {
   "cell_type": "code",
   "execution_count": 13,
   "id": "65584b77",
   "metadata": {
    "execution": {
     "iopub.execute_input": "2023-01-23T18:57:53.895290Z",
     "iopub.status.busy": "2023-01-23T18:57:53.894819Z",
     "iopub.status.idle": "2023-01-23T18:57:53.971643Z",
     "shell.execute_reply": "2023-01-23T18:57:53.970484Z"
    },
    "papermill": {
     "duration": 0.491763,
     "end_time": "2023-01-23T18:57:53.974435",
     "exception": false,
     "start_time": "2023-01-23T18:57:53.482672",
     "status": "completed"
    },
    "tags": []
   },
   "outputs": [],
   "source": [
    "model.save(\"/kaggle/working/trained_model_breast_cancer.h5\")"
   ]
  },
  {
   "cell_type": "code",
   "execution_count": 14,
   "id": "74cd6c5b",
   "metadata": {
    "execution": {
     "iopub.execute_input": "2023-01-23T18:57:54.794277Z",
     "iopub.status.busy": "2023-01-23T18:57:54.793467Z",
     "iopub.status.idle": "2023-01-23T18:57:55.384814Z",
     "shell.execute_reply": "2023-01-23T18:57:55.383359Z"
    },
    "papermill": {
     "duration": 1.00741,
     "end_time": "2023-01-23T18:57:55.387961",
     "exception": false,
     "start_time": "2023-01-23T18:57:54.380551",
     "status": "completed"
    },
    "tags": []
   },
   "outputs": [],
   "source": [
    "from tensorflow import keras\n",
    "savedModel = keras.models.load_model(\"/kaggle/input/pre-trained-model-of-breast-cancer/trained_model_breast_cancer.h5\")\n",
    "\n"
   ]
  },
  {
   "cell_type": "code",
   "execution_count": 15,
   "id": "84ee7a5f",
   "metadata": {
    "execution": {
     "iopub.execute_input": "2023-01-23T18:57:56.285953Z",
     "iopub.status.busy": "2023-01-23T18:57:56.285508Z",
     "iopub.status.idle": "2023-01-23T18:58:08.791442Z",
     "shell.execute_reply": "2023-01-23T18:58:08.790108Z"
    },
    "papermill": {
     "duration": 12.986958,
     "end_time": "2023-01-23T18:58:08.794793",
     "exception": false,
     "start_time": "2023-01-23T18:57:55.807835",
     "status": "completed"
    },
    "tags": []
   },
   "outputs": [],
   "source": [
    "test_features=[]\n",
    "for i in test['img_data']:\n",
    "    test_features.append([i])\n",
    "test_features=np.array(test_features)\n",
    " \n",
    "\n",
    "\n",
    "scaler = StandardScaler()\n",
    "norm_features= []\n",
    "for i in range(len(test_features)):\n",
    "    norm_features.append(scaler.fit_transform(test_features[i][0]))\n",
    "test_features=np.array(norm_features)\n",
    "\n",
    "\n",
    "test_features = test_features.reshape(len(test_features),128,128,1)\n",
    "\n",
    "\n",
    "test_target = np.array(test['cancer'])"
   ]
  },
  {
   "cell_type": "code",
   "execution_count": 16,
   "id": "a83f71b6",
   "metadata": {
    "execution": {
     "iopub.execute_input": "2023-01-23T18:58:09.608691Z",
     "iopub.status.busy": "2023-01-23T18:58:09.607943Z",
     "iopub.status.idle": "2023-01-23T18:58:50.656305Z",
     "shell.execute_reply": "2023-01-23T18:58:50.654986Z"
    },
    "papermill": {
     "duration": 41.456948,
     "end_time": "2023-01-23T18:58:50.659395",
     "exception": false,
     "start_time": "2023-01-23T18:58:09.202447",
     "status": "completed"
    },
    "tags": []
   },
   "outputs": [],
   "source": [
    "pred = model.predict(test_features)\n",
    "bin_pred = []\n",
    "for i in pred:\n",
    "    if i>=0.5:\n",
    "        bin_pred.append(1)\n",
    "    else:\n",
    "        bin_pred.append(0)\n",
    "bin_pred = np.array(bin_pred)\n"
   ]
  },
  {
   "cell_type": "code",
   "execution_count": 17,
   "id": "da8cb9eb",
   "metadata": {
    "execution": {
     "iopub.execute_input": "2023-01-23T18:58:51.471201Z",
     "iopub.status.busy": "2023-01-23T18:58:51.470459Z",
     "iopub.status.idle": "2023-01-23T18:58:51.501928Z",
     "shell.execute_reply": "2023-01-23T18:58:51.500538Z"
    },
    "papermill": {
     "duration": 0.442189,
     "end_time": "2023-01-23T18:58:51.504616",
     "exception": false,
     "start_time": "2023-01-23T18:58:51.062427",
     "status": "completed"
    },
    "tags": []
   },
   "outputs": [
    {
     "name": "stdout",
     "output_type": "stream",
     "text": [
      "0.9798318303680233\n",
      "1.0 0.0\n"
     ]
    }
   ],
   "source": [
    "import sklearn\n",
    "acc = sklearn.metrics.accuracy_score(test_target, bin_pred)\n",
    "print(acc)\n",
    "\n",
    "countzero=0\n",
    "countone=0\n",
    "countzerot=0\n",
    "countonet=0\n",
    "for i, j in zip(test_target, bin_pred):\n",
    "    if i==0 and j==0:\n",
    "        countzero+=1\n",
    "    if i==1 and j==1:\n",
    "        countone+=1\n",
    "    if i==1:\n",
    "        countonet+=1\n",
    "    if i==0:\n",
    "        countzerot+=1\n",
    "print(countzero/countzerot,countone/countonet)"
   ]
  },
  {
   "cell_type": "code",
   "execution_count": 18,
   "id": "fd65e7be",
   "metadata": {
    "execution": {
     "iopub.execute_input": "2023-01-23T18:58:52.313883Z",
     "iopub.status.busy": "2023-01-23T18:58:52.313240Z",
     "iopub.status.idle": "2023-01-23T18:58:52.326037Z",
     "shell.execute_reply": "2023-01-23T18:58:52.324695Z"
    },
    "papermill": {
     "duration": 0.419268,
     "end_time": "2023-01-23T18:58:52.328502",
     "exception": false,
     "start_time": "2023-01-23T18:58:51.909234",
     "status": "completed"
    },
    "tags": []
   },
   "outputs": [
    {
     "name": "stdout",
     "output_type": "stream",
     "text": [
      "nan\n"
     ]
    },
    {
     "name": "stderr",
     "output_type": "stream",
     "text": [
      "/opt/conda/lib/python3.7/site-packages/ipykernel_launcher.py:10: RuntimeWarning: invalid value encountered in long_scalars\n",
      "  # Remove the CWD from sys.path while we load stuff.\n"
     ]
    }
   ],
   "source": [
    "\n",
    "def recall_m(y_true, y_pred):\n",
    "    true_positives = np.sum(np.round(np.clip(y_true * y_pred, 0, 1)))\n",
    "    possible_positives = np.sum(np.round(np.clip(y_true, 0, 1)))\n",
    "    recall = true_positives / (possible_positives )\n",
    "    return recall\n",
    "\n",
    "def precision_m(y_true, y_pred):\n",
    "    true_positives = np.sum(np.round(np.clip(y_true * y_pred, 0, 1)))\n",
    "    predicted_positives = np.sum(np.round(np.clip(y_pred, 0, 1)))\n",
    "    precision = true_positives / (predicted_positives )\n",
    "    return precision\n",
    "\n",
    "def f1_m(y_true, y_pred):\n",
    "    precision = precision_m(y_true, y_pred)\n",
    "    recall = recall_m(y_true, y_pred)\n",
    "    return 2*((precision*recall)/(precision+recall))\n",
    "\n",
    "\n",
    "print(f1_m(test_target,bin_pred))"
   ]
  },
  {
   "cell_type": "code",
   "execution_count": 19,
   "id": "4dd5a864",
   "metadata": {
    "execution": {
     "iopub.execute_input": "2023-01-23T18:58:53.224126Z",
     "iopub.status.busy": "2023-01-23T18:58:53.223389Z",
     "iopub.status.idle": "2023-01-23T18:59:25.650789Z",
     "shell.execute_reply": "2023-01-23T18:59:25.649139Z"
    },
    "papermill": {
     "duration": 32.842436,
     "end_time": "2023-01-23T18:59:25.653909",
     "exception": false,
     "start_time": "2023-01-23T18:58:52.811473",
     "status": "completed"
    },
    "tags": []
   },
   "outputs": [
    {
     "name": "stderr",
     "output_type": "stream",
     "text": [
      " 75%|███████▌  | 3/4 [00:00<00:00, 10.13it/s]\n"
     ]
    }
   ],
   "source": [
    "datasetPath = '/kaggle/input/rsna-breast-cancer-detection/test.csv'\n",
    "imgPath = '/kaggle/input/rsna-breast-cancer-detection/test_images/'\n",
    "\n",
    "testImgData = dcmToPix(datasetPath, imgPath)"
   ]
  },
  {
   "cell_type": "code",
   "execution_count": 20,
   "id": "dac7c4f8",
   "metadata": {
    "execution": {
     "iopub.execute_input": "2023-01-23T18:59:26.554084Z",
     "iopub.status.busy": "2023-01-23T18:59:26.553617Z",
     "iopub.status.idle": "2023-01-23T18:59:26.580501Z",
     "shell.execute_reply": "2023-01-23T18:59:26.579145Z"
    },
    "papermill": {
     "duration": 0.520812,
     "end_time": "2023-01-23T18:59:26.583280",
     "exception": false,
     "start_time": "2023-01-23T18:59:26.062468",
     "status": "completed"
    },
    "tags": []
   },
   "outputs": [],
   "source": [
    "datacancer = pd.read_csv(datasetPath)\n",
    "imgDataFrame = {'img_data':testImgData}\n",
    "imgData2 = pd.DataFrame(imgDataFrame)\n",
    "testImgData=imgData2\n",
    "imgdata_shuff = testImgData.sample(frac=1)"
   ]
  },
  {
   "cell_type": "code",
   "execution_count": 21,
   "id": "18ce9c47",
   "metadata": {
    "execution": {
     "iopub.execute_input": "2023-01-23T18:59:27.401514Z",
     "iopub.status.busy": "2023-01-23T18:59:27.401005Z",
     "iopub.status.idle": "2023-01-23T18:59:27.416737Z",
     "shell.execute_reply": "2023-01-23T18:59:27.415225Z"
    },
    "papermill": {
     "duration": 0.427373,
     "end_time": "2023-01-23T18:59:27.419761",
     "exception": false,
     "start_time": "2023-01-23T18:59:26.992388",
     "status": "completed"
    },
    "tags": []
   },
   "outputs": [
    {
     "name": "stderr",
     "output_type": "stream",
     "text": [
      "100%|██████████| 4/4 [00:00<00:00, 899.53it/s]\n"
     ]
    }
   ],
   "source": [
    "imgDataList=[]\n",
    "for j in tqdm(imgdata_shuff['img_data']):\n",
    "    imgDataList.append(random_rotate(j))\n",
    "imgdata_shuff['img_data'] = imgDataList"
   ]
  },
  {
   "cell_type": "code",
   "execution_count": 22,
   "id": "510dcde5",
   "metadata": {
    "execution": {
     "iopub.execute_input": "2023-01-23T18:59:28.226602Z",
     "iopub.status.busy": "2023-01-23T18:59:28.226145Z",
     "iopub.status.idle": "2023-01-23T18:59:28.280472Z",
     "shell.execute_reply": "2023-01-23T18:59:28.279575Z"
    },
    "papermill": {
     "duration": 0.460243,
     "end_time": "2023-01-23T18:59:28.283015",
     "exception": false,
     "start_time": "2023-01-23T18:59:27.822772",
     "status": "completed"
    },
    "tags": []
   },
   "outputs": [],
   "source": [
    "test=imgdata_shuff\n",
    "\n",
    "\n",
    "test_features=[]\n",
    "for i in test['img_data']:\n",
    "    test_features.append([i])\n",
    "test_features=np.array(test_features)\n",
    "\n",
    "\n",
    "from sklearn.preprocessing import StandardScaler\n",
    "\n",
    "scaler = StandardScaler()\n",
    "norm_features= []\n",
    "for i in range(len(test_features)):\n",
    "    norm_features.append(scaler.fit_transform(test_features[i][0]))\n",
    "test_features=np.array(norm_features)\n",
    "\n",
    "test_features = test_features.reshape(len(test_features),128,128,1)\n",
    "\n"
   ]
  },
  {
   "cell_type": "code",
   "execution_count": 23,
   "id": "f712a3ed",
   "metadata": {
    "execution": {
     "iopub.execute_input": "2023-01-23T18:59:29.159942Z",
     "iopub.status.busy": "2023-01-23T18:59:29.158652Z",
     "iopub.status.idle": "2023-01-23T18:59:29.294981Z",
     "shell.execute_reply": "2023-01-23T18:59:29.293439Z"
    },
    "papermill": {
     "duration": 0.543475,
     "end_time": "2023-01-23T18:59:29.298342",
     "exception": false,
     "start_time": "2023-01-23T18:59:28.754867",
     "status": "completed"
    },
    "tags": []
   },
   "outputs": [
    {
     "name": "stdout",
     "output_type": "stream",
     "text": [
      "[0 0 0 0]\n"
     ]
    }
   ],
   "source": [
    "pred = model.predict(test_features)\n",
    "bin_pred = []\n",
    "for i in pred:\n",
    "    if i>=0.5:\n",
    "        bin_pred.append(1)\n",
    "    else:\n",
    "        bin_pred.append(0)\n",
    "bin_pred = np.array(bin_pred)\n",
    "print(bin_pred)"
   ]
  },
  {
   "cell_type": "code",
   "execution_count": 24,
   "id": "de0e022d",
   "metadata": {
    "execution": {
     "iopub.execute_input": "2023-01-23T18:59:30.114508Z",
     "iopub.status.busy": "2023-01-23T18:59:30.114073Z",
     "iopub.status.idle": "2023-01-23T18:59:30.130013Z",
     "shell.execute_reply": "2023-01-23T18:59:30.128599Z"
    },
    "papermill": {
     "duration": 0.425,
     "end_time": "2023-01-23T18:59:30.132661",
     "exception": false,
     "start_time": "2023-01-23T18:59:29.707661",
     "status": "completed"
    },
    "tags": []
   },
   "outputs": [
    {
     "name": "stdout",
     "output_type": "stream",
     "text": [
      "  prediction_id  cancer\n",
      "0       10008_L       0\n",
      "1       10008_L       0\n",
      "2       10008_R       0\n",
      "3       10008_R       0\n"
     ]
    }
   ],
   "source": [
    "testData = pd.read_csv('/kaggle/input/rsna-breast-cancer-detection/test.csv')\n",
    "\n",
    "submissionFrame={'prediction_id':testData['prediction_id'],'cancer':bin_pred}\n",
    "submission = pd.DataFrame(submissionFrame)\n",
    "print(submission)"
   ]
  }
 ],
 "metadata": {
  "kernelspec": {
   "display_name": "Python 3",
   "language": "python",
   "name": "python3"
  },
  "language_info": {
   "codemirror_mode": {
    "name": "ipython",
    "version": 3
   },
   "file_extension": ".py",
   "mimetype": "text/x-python",
   "name": "python",
   "nbconvert_exporter": "python",
   "pygments_lexer": "ipython3",
   "version": "3.7.12"
  },
  "papermill": {
   "default_parameters": {},
   "duration": 4589.381027,
   "end_time": "2023-01-23T18:59:34.080700",
   "environment_variables": {},
   "exception": null,
   "input_path": "__notebook__.ipynb",
   "output_path": "__notebook__.ipynb",
   "parameters": {},
   "start_time": "2023-01-23T17:43:04.699673",
   "version": "2.3.4"
  }
 },
 "nbformat": 4,
 "nbformat_minor": 5
}
