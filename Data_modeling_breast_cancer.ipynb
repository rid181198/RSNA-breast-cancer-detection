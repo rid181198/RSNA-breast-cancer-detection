{
 "cells": [
  {
   "cell_type": "code",
   "execution_count": 1,
   "id": "c205a391",
   "metadata": {
    "execution": {
     "iopub.execute_input": "2023-01-19T10:42:47.477168Z",
     "iopub.status.busy": "2023-01-19T10:42:47.476521Z",
     "iopub.status.idle": "2023-01-19T10:42:55.615668Z",
     "shell.execute_reply": "2023-01-19T10:42:55.614467Z"
    },
    "papermill": {
     "duration": 8.152052,
     "end_time": "2023-01-19T10:42:55.618673",
     "exception": false,
     "start_time": "2023-01-19T10:42:47.466621",
     "status": "completed"
    },
    "tags": []
   },
   "outputs": [],
   "source": [
    "import numpy as np\n",
    "import pandas as pd\n",
    "import matplotlib.pyplot as plt\n",
    "import seaborn as sns\n",
    "import pickle\n",
    "import tensorflow as tf\n",
    "import tensorflow_io as tfio\n",
    "import os\n",
    "from tqdm import tqdm\n",
    "import cv2\n",
    "from PIL import Image\n",
    "from joblib import Parallel, delayed\n",
    "import gc\n",
    "from PIL import Image as im\n",
    "import random"
   ]
  },
  {
   "cell_type": "code",
   "execution_count": 2,
   "id": "cc49d6ce",
   "metadata": {
    "execution": {
     "iopub.execute_input": "2023-01-19T10:42:55.636493Z",
     "iopub.status.busy": "2023-01-19T10:42:55.635824Z",
     "iopub.status.idle": "2023-01-19T10:43:09.567543Z",
     "shell.execute_reply": "2023-01-19T10:43:09.565914Z"
    },
    "papermill": {
     "duration": 13.944387,
     "end_time": "2023-01-19T10:43:09.570511",
     "exception": false,
     "start_time": "2023-01-19T10:42:55.626124",
     "status": "completed"
    },
    "tags": []
   },
   "outputs": [
    {
     "name": "stdout",
     "output_type": "stream",
     "text": [
      "Collecting dicomsdl\r\n",
      "  Downloading dicomsdl-0.109.1-cp37-cp37m-manylinux_2_12_x86_64.manylinux2010_x86_64.whl (1.4 MB)\r\n",
      "\u001b[2K     \u001b[90m━━━━━━━━━━━━━━━━━━━━━━━━━━━━━━━━━━━━━━━━\u001b[0m \u001b[32m1.4/1.4 MB\u001b[0m \u001b[31m4.4 MB/s\u001b[0m eta \u001b[36m0:00:00\u001b[0m\r\n",
      "\u001b[?25hInstalling collected packages: dicomsdl\r\n",
      "Successfully installed dicomsdl-0.109.1\r\n",
      "\u001b[33mWARNING: Running pip as the 'root' user can result in broken permissions and conflicting behaviour with the system package manager. It is recommended to use a virtual environment instead: https://pip.pypa.io/warnings/venv\u001b[0m\u001b[33m\r\n",
      "\u001b[0m"
     ]
    }
   ],
   "source": [
    "import sys\n",
    "!{sys.executable} -m pip install dicomsdl\n",
    "#!pip install /kaggle/input/rsnapacks/dicomsdl-0.109.1-cp36-cp36m-manylinux_2_12_x86_64.manylinux2010_x86_64.whl\n",
    "import numpy as np\n",
    "import pandas as pd\n",
    "import matplotlib.pyplot as plt\n",
    "import seaborn as sns\n",
    "import pickle\n",
    "#import pydicom as dicom\n",
    "import dicomsdl as dicom\n",
    "import tensorflow as tf\n",
    "import tensorflow_io as tfio\n",
    "from PIL import Image as im\n",
    "import os\n",
    "from tqdm import tqdm\n",
    "import cv2\n",
    "from PIL import Image\n",
    "from joblib import Parallel, delayed\n",
    "import gc\n",
    "import random"
   ]
  },
  {
   "cell_type": "code",
   "execution_count": 3,
   "id": "79f5c542",
   "metadata": {
    "execution": {
     "iopub.execute_input": "2023-01-19T10:43:09.587571Z",
     "iopub.status.busy": "2023-01-19T10:43:09.587150Z",
     "iopub.status.idle": "2023-01-19T10:43:09.607846Z",
     "shell.execute_reply": "2023-01-19T10:43:09.606549Z"
    },
    "papermill": {
     "duration": 0.032395,
     "end_time": "2023-01-19T10:43:09.610218",
     "exception": false,
     "start_time": "2023-01-19T10:43:09.577823",
     "status": "completed"
    },
    "tags": []
   },
   "outputs": [],
   "source": [
    "datasetPath = '/kaggle/input/rsna-breast-cancer-detection/train.csv'\n",
    "imgPath = '/kaggle/input/rsna-breast-cancer-detection/train_images/'\n",
    "\n",
    "def crop(sideName, imgName):\n",
    "    if sideName == 'L':\n",
    "        colind=[]\n",
    "        for r,row in enumerate(imgName):\n",
    "            for c,col in enumerate(row):\n",
    "                if col==0:\n",
    "                    colind.append(c)\n",
    "                    break\n",
    "        crop_size = max(colind)\n",
    "        imgName = imgName[0:512,0:crop_size]\n",
    "        imgName = cv2.resize(imgName,(128,128))\n",
    "        \n",
    "    if sideName == 'R':\n",
    "        colind=[]\n",
    "        for r,row in enumerate(imgName):\n",
    "            for c,col in enumerate(row):\n",
    "                if col!=0:\n",
    "                    colind.append(c)\n",
    "                    break\n",
    "        crop_size = min(colind)\n",
    "        imgName = imgName[0:512,crop_size:512]\n",
    "        imgName = cv2.resize(imgName,(128,128))\n",
    "    \n",
    "    return imgName    \n",
    "\n",
    "    gc.collect()\n",
    "    \n",
    "def crop_reverse(sideName, imgName):\n",
    "    if sideName == 'R':\n",
    "        colind=[]\n",
    "        for r,row in enumerate(imgName):\n",
    "            for c,col in enumerate(row):\n",
    "                if col==0:\n",
    "                    colind.append(c)\n",
    "                    break\n",
    "        crop_size = max(colind)\n",
    "        imgName = imgName[0:512,0:crop_size]\n",
    "        imgName = cv2.resize(imgName,(128,128))\n",
    "        \n",
    "    if sideName == 'L':\n",
    "        colind=[]\n",
    "        for r,row in enumerate(imgName):\n",
    "            for c,col in enumerate(row):\n",
    "                if col!=0:\n",
    "                    colind.append(c)\n",
    "                    break\n",
    "        crop_size = min(colind)\n",
    "        imgName = imgName[0:512,crop_size:512]\n",
    "        imgName = cv2.resize(imgName,(128,128))\n",
    "    \n",
    "    return imgName    \n",
    "\n",
    "    gc.collect()\n",
    "    \n",
    "\n",
    "def img_process(i,filename,sides):\n",
    "    \n",
    "    #ds = dicom.dcmread(filename)\n",
    "    ds = dicom.open(filename)\n",
    "    ds = ds.pixelData()\n",
    "    ds = cv2.normalize(ds, None, 0, 1.0, cv2.NORM_MINMAX, dtype=cv2.CV_32F)\n",
    "    ds = cv2.resize(ds,(512,512))\n",
    "    ds = np.where(ds >= 0.9999, 0,ds)\n",
    "    \n",
    "    try:\n",
    "        ds = np.array(crop(sides[i], ds))   \n",
    "    except:\n",
    "        ds = np.array(crop_reverse(sides[i], ds))\n",
    "    return ds \n",
    "\n",
    "    #train_data.loc[i,'img_data'] = [img_fin]\n",
    "    #train_data.to_csv('/kaggle/working/training_img_data.csv') \n",
    "    \n",
    "    gc.collect()\n",
    "\n",
    "def dcmToPix(datasetPath, imgPath):\n",
    "    dataset = pd.read_csv(datasetPath)\n",
    "    dataset=dataset[:50]\n",
    "    \n",
    "    \n",
    "    patient_ids = dataset['patient_id']\n",
    "    image_ids = dataset['image_id']\n",
    "    sides  = dataset['laterality']\n",
    "\n",
    "    imgData = []\n",
    "\n",
    "    for pi, ii, leng in zip(patient_ids, image_ids, range(len(patient_ids))):\n",
    "        imgData.append(imgPath + str(pi) + '/' + str(ii) + '.dcm')\n",
    "\n",
    "    dataset['img_data'] = \" \"\n",
    "    \n",
    "    result = Parallel(n_jobs=128)(\\\n",
    "    delayed(img_process)(i, fname, sides) for i, fname in zip(range(len(imgData)),tqdm(imgData))\\\n",
    "    )\n",
    "    \n",
    "    dataset['img_data'] = result\n",
    "    dataset.to_pickle('imgData.pkl' )\n",
    "    \n",
    "    return result\n",
    "    "
   ]
  },
  {
   "cell_type": "code",
   "execution_count": 4,
   "id": "f640fccb",
   "metadata": {
    "_cell_guid": "b1076dfc-b9ad-4769-8c92-a6c4dae69d19",
    "_uuid": "8f2839f25d086af736a60e9eeb907d3b93b6e0e5",
    "execution": {
     "iopub.execute_input": "2023-01-19T10:43:09.626440Z",
     "iopub.status.busy": "2023-01-19T10:43:09.626048Z",
     "iopub.status.idle": "2023-01-19T10:43:39.283090Z",
     "shell.execute_reply": "2023-01-19T10:43:39.282071Z"
    },
    "papermill": {
     "duration": 29.668696,
     "end_time": "2023-01-19T10:43:39.286135",
     "exception": false,
     "start_time": "2023-01-19T10:43:09.617439",
     "status": "completed"
    },
    "tags": []
   },
   "outputs": [],
   "source": [
    "with (open('/kaggle/input/output/imgData.pkl', \"rb\")) as openfile:\n",
    "     imgData = pickle.load(openfile)"
   ]
  },
  {
   "cell_type": "code",
   "execution_count": 5,
   "id": "3d372f33",
   "metadata": {
    "execution": {
     "iopub.execute_input": "2023-01-19T10:43:39.302240Z",
     "iopub.status.busy": "2023-01-19T10:43:39.301832Z",
     "iopub.status.idle": "2023-01-19T10:43:39.306345Z",
     "shell.execute_reply": "2023-01-19T10:43:39.305240Z"
    },
    "papermill": {
     "duration": 0.015179,
     "end_time": "2023-01-19T10:43:39.308639",
     "exception": false,
     "start_time": "2023-01-19T10:43:39.293460",
     "status": "completed"
    },
    "tags": []
   },
   "outputs": [],
   "source": [
    "#datacancer = pd.read_csv(datasetPath)\n",
    "#imgDataFrame = {'cancer':datacancer['cancer'][:50], 'img_data':imgData}\n",
    "#imgData2 = pd.DataFrame(imgDataFrame)\n",
    "\n",
    "#imgData=imgData2"
   ]
  },
  {
   "cell_type": "code",
   "execution_count": 6,
   "id": "046c92e9",
   "metadata": {
    "execution": {
     "iopub.execute_input": "2023-01-19T10:43:39.324938Z",
     "iopub.status.busy": "2023-01-19T10:43:39.324557Z",
     "iopub.status.idle": "2023-01-19T10:43:39.462357Z",
     "shell.execute_reply": "2023-01-19T10:43:39.461208Z"
    },
    "papermill": {
     "duration": 0.149103,
     "end_time": "2023-01-19T10:43:39.465054",
     "exception": false,
     "start_time": "2023-01-19T10:43:39.315951",
     "status": "completed"
    },
    "tags": []
   },
   "outputs": [],
   "source": [
    "imgdata_pos = imgData[imgData['cancer'] == 1]\n",
    "imgdata_neg = imgData[imgData['cancer'] == 0]\n",
    "\n",
    "imgdata_pos = imgdata_pos.sample(frac = 1)\n",
    "imgdata_neg = imgdata_neg.sample(frac = 1)\n",
    "\n",
    "imgdata_neg = imgdata_neg.sample(frac= 0.6)\n",
    "\n",
    "frames = 30*[imgdata_pos]\n",
    "frames.append(imgdata_neg)\n",
    "imgdata_shuff = pd.concat(frames)\n",
    "imgdata_shuff = imgdata_shuff.sample(frac=1)"
   ]
  },
  {
   "cell_type": "code",
   "execution_count": 7,
   "id": "3dd043c5",
   "metadata": {
    "execution": {
     "iopub.execute_input": "2023-01-19T10:43:39.481228Z",
     "iopub.status.busy": "2023-01-19T10:43:39.480410Z",
     "iopub.status.idle": "2023-01-19T10:43:39.491865Z",
     "shell.execute_reply": "2023-01-19T10:43:39.490806Z"
    },
    "papermill": {
     "duration": 0.021875,
     "end_time": "2023-01-19T10:43:39.494048",
     "exception": false,
     "start_time": "2023-01-19T10:43:39.472173",
     "status": "completed"
    },
    "tags": []
   },
   "outputs": [
    {
     "name": "stdout",
     "output_type": "stream",
     "text": [
      "1    34740\n",
      "0    32129\n",
      "Name: cancer, dtype: int64\n"
     ]
    }
   ],
   "source": [
    "print(imgdata_shuff['cancer'].value_counts())"
   ]
  },
  {
   "cell_type": "code",
   "execution_count": 8,
   "id": "2101a5c7",
   "metadata": {
    "execution": {
     "iopub.execute_input": "2023-01-19T10:43:39.511338Z",
     "iopub.status.busy": "2023-01-19T10:43:39.510924Z",
     "iopub.status.idle": "2023-01-19T10:43:39.516972Z",
     "shell.execute_reply": "2023-01-19T10:43:39.515853Z"
    },
    "papermill": {
     "duration": 0.016318,
     "end_time": "2023-01-19T10:43:39.519159",
     "exception": false,
     "start_time": "2023-01-19T10:43:39.502841",
     "status": "completed"
    },
    "tags": []
   },
   "outputs": [],
   "source": [
    "def random_rotate(imgData):\n",
    "    imgData = imgData.reshape(128,128)\n",
    "    imgData = im.fromarray(imgData)\n",
    "    imgData = np.asarray(imgData.rotate(random.randint(0, 360)))\n",
    "    return imgData"
   ]
  },
  {
   "cell_type": "code",
   "execution_count": 9,
   "id": "46aff478",
   "metadata": {
    "execution": {
     "iopub.execute_input": "2023-01-19T10:43:39.535065Z",
     "iopub.status.busy": "2023-01-19T10:43:39.534598Z",
     "iopub.status.idle": "2023-01-19T10:43:53.728370Z",
     "shell.execute_reply": "2023-01-19T10:43:53.727353Z"
    },
    "papermill": {
     "duration": 14.204557,
     "end_time": "2023-01-19T10:43:53.730936",
     "exception": false,
     "start_time": "2023-01-19T10:43:39.526379",
     "status": "completed"
    },
    "tags": []
   },
   "outputs": [
    {
     "name": "stderr",
     "output_type": "stream",
     "text": [
      "100%|██████████| 66869/66869 [00:14<00:00, 4720.63it/s]\n"
     ]
    }
   ],
   "source": [
    "imgDataList=[]\n",
    "for j in tqdm(imgdata_shuff['img_data']):\n",
    "    imgDataList.append(random_rotate(j))\n",
    "imgdata_shuff['img_data'] = imgDataList"
   ]
  },
  {
   "cell_type": "code",
   "execution_count": 10,
   "id": "eff712e7",
   "metadata": {
    "execution": {
     "iopub.execute_input": "2023-01-19T10:43:53.765218Z",
     "iopub.status.busy": "2023-01-19T10:43:53.764773Z",
     "iopub.status.idle": "2023-01-19T10:44:27.287316Z",
     "shell.execute_reply": "2023-01-19T10:44:27.286006Z"
    },
    "papermill": {
     "duration": 33.542598,
     "end_time": "2023-01-19T10:44:27.290153",
     "exception": false,
     "start_time": "2023-01-19T10:43:53.747555",
     "status": "completed"
    },
    "tags": []
   },
   "outputs": [],
   "source": [
    "from sklearn.model_selection import train_test_split\n",
    "train,test = train_test_split(imgdata_shuff, test_size=0.3, random_state=42, shuffle=True)\n",
    "\n",
    "\n",
    "train_target = np.array(train['cancer'])\n",
    "train_features=[]\n",
    "for i in train['img_data']:\n",
    "    train_features.append([i])\n",
    "train_features=np.array(train_features)\n",
    "\n",
    "\n",
    "from sklearn.preprocessing import StandardScaler\n",
    "\n",
    "scaler = StandardScaler()\n",
    "norm_features= []\n",
    "for i in range(len(train_features)):\n",
    "    norm_features.append(scaler.fit_transform(train_features[i][0]))\n",
    "train_features=np.array(norm_features)\n",
    "\n",
    "train_features = train_features.reshape(len(train_features),128,128,1)\n",
    "\n"
   ]
  },
  {
   "cell_type": "code",
   "execution_count": 11,
   "id": "8b6eeb82",
   "metadata": {
    "execution": {
     "iopub.execute_input": "2023-01-19T10:44:27.323028Z",
     "iopub.status.busy": "2023-01-19T10:44:27.322595Z",
     "iopub.status.idle": "2023-01-19T10:44:27.559443Z",
     "shell.execute_reply": "2023-01-19T10:44:27.558208Z"
    },
    "papermill": {
     "duration": 0.256261,
     "end_time": "2023-01-19T10:44:27.562124",
     "exception": false,
     "start_time": "2023-01-19T10:44:27.305863",
     "status": "completed"
    },
    "tags": []
   },
   "outputs": [
    {
     "name": "stderr",
     "output_type": "stream",
     "text": [
      "2023-01-19 10:44:27.369408: I tensorflow/core/common_runtime/process_util.cc:146] Creating new thread pool with default inter op setting: 2. Tune using inter_op_parallelism_threads for best performance.\n"
     ]
    }
   ],
   "source": [
    "from keras.models import Sequential\n",
    "from keras.layers import LeakyReLU\n",
    "from keras.layers import Dense, Conv2D, Flatten,MaxPooling2D, Dropout, GlobalMaxPooling2D\n",
    "model = Sequential()\n",
    "model.add(Conv2D(16, 5, activation = \"relu\", input_shape = (128,128,1)))\n",
    "model.add(MaxPooling2D())\n",
    "model.add(LeakyReLU(alpha=0.2))\n",
    "model.add(Dropout(0.3))\n",
    "model.add(Conv2D(32, 5, activation = \"relu\"))\n",
    "model.add(MaxPooling2D())\n",
    "model.add(LeakyReLU(alpha=0.2))\n",
    "model.add(Conv2D(64, 3, activation = \"relu\"))\n",
    "model.add(MaxPooling2D())\n",
    "model.add(Dropout(0.2))\n",
    "model.add(Flatten())\n",
    "model.add(Dense(128, activation = 'relu')) \n",
    "model.add(LeakyReLU(alpha=0.1))\n",
    "model.add(Dense(64, activation = 'relu')) \n",
    "model.add(LeakyReLU(alpha=0.2))\n",
    "model.add(Dropout(0.2))\n",
    "model.add(Dense(1, activation = 'sigmoid'))\n",
    "\n",
    "model.compile(optimizer = tf.keras.optimizers.Adam(\\\n",
    "    learning_rate=0.00001), loss= 'binary_crossentropy', metrics=['accuracy'])\n",
    "\n"
   ]
  },
  {
   "cell_type": "code",
   "execution_count": 12,
   "id": "dbb84ac2",
   "metadata": {
    "execution": {
     "iopub.execute_input": "2023-01-19T10:44:27.597720Z",
     "iopub.status.busy": "2023-01-19T10:44:27.596280Z",
     "iopub.status.idle": "2023-01-19T13:12:02.042752Z",
     "shell.execute_reply": "2023-01-19T13:12:02.041574Z"
    },
    "papermill": {
     "duration": 8856.160721,
     "end_time": "2023-01-19T13:12:03.739210",
     "exception": false,
     "start_time": "2023-01-19T10:44:27.578489",
     "status": "completed"
    },
    "tags": []
   },
   "outputs": [
    {
     "name": "stderr",
     "output_type": "stream",
     "text": [
      "2023-01-19 10:44:29.727588: I tensorflow/compiler/mlir/mlir_graph_optimization_pass.cc:185] None of the MLIR Optimization Passes are enabled (registered 2)\n"
     ]
    },
    {
     "name": "stdout",
     "output_type": "stream",
     "text": [
      "Epoch 1/50\n",
      "512/512 [==============================] - 177s 343ms/step - loss: 0.6928 - accuracy: 0.5224 - val_loss: 0.6884 - val_accuracy: 0.5313\n",
      "Epoch 2/50\n",
      "512/512 [==============================] - 176s 343ms/step - loss: 0.6901 - accuracy: 0.5315 - val_loss: 0.6866 - val_accuracy: 0.5552\n",
      "Epoch 3/50\n",
      "512/512 [==============================] - 174s 341ms/step - loss: 0.6875 - accuracy: 0.5405 - val_loss: 0.6838 - val_accuracy: 0.5710\n",
      "Epoch 4/50\n",
      "512/512 [==============================] - 176s 344ms/step - loss: 0.6852 - accuracy: 0.5520 - val_loss: 0.6821 - val_accuracy: 0.5678\n",
      "Epoch 5/50\n",
      "512/512 [==============================] - 174s 340ms/step - loss: 0.6836 - accuracy: 0.5546 - val_loss: 0.6807 - val_accuracy: 0.5767\n",
      "Epoch 6/50\n",
      "512/512 [==============================] - 175s 342ms/step - loss: 0.6811 - accuracy: 0.5596 - val_loss: 0.6788 - val_accuracy: 0.5659\n",
      "Epoch 7/50\n",
      "512/512 [==============================] - 174s 340ms/step - loss: 0.6797 - accuracy: 0.5635 - val_loss: 0.6782 - val_accuracy: 0.5700\n",
      "Epoch 8/50\n",
      "512/512 [==============================] - 175s 342ms/step - loss: 0.6788 - accuracy: 0.5667 - val_loss: 0.6764 - val_accuracy: 0.5764\n",
      "Epoch 9/50\n",
      "512/512 [==============================] - 175s 341ms/step - loss: 0.6773 - accuracy: 0.5659 - val_loss: 0.6761 - val_accuracy: 0.5796\n",
      "Epoch 10/50\n",
      "512/512 [==============================] - 174s 340ms/step - loss: 0.6761 - accuracy: 0.5684 - val_loss: 0.6751 - val_accuracy: 0.5792\n",
      "Epoch 11/50\n",
      "512/512 [==============================] - 174s 340ms/step - loss: 0.6742 - accuracy: 0.5793 - val_loss: 0.6749 - val_accuracy: 0.5744\n",
      "Epoch 12/50\n",
      "512/512 [==============================] - 174s 340ms/step - loss: 0.6731 - accuracy: 0.5762 - val_loss: 0.6736 - val_accuracy: 0.5776\n",
      "Epoch 13/50\n",
      "512/512 [==============================] - 175s 342ms/step - loss: 0.6716 - accuracy: 0.5783 - val_loss: 0.6730 - val_accuracy: 0.5807\n",
      "Epoch 14/50\n",
      "512/512 [==============================] - 174s 340ms/step - loss: 0.6701 - accuracy: 0.5782 - val_loss: 0.6722 - val_accuracy: 0.5820\n",
      "Epoch 15/50\n",
      "512/512 [==============================] - 175s 342ms/step - loss: 0.6699 - accuracy: 0.5804 - val_loss: 0.6709 - val_accuracy: 0.5827\n",
      "Epoch 16/50\n",
      "512/512 [==============================] - 174s 341ms/step - loss: 0.6690 - accuracy: 0.5829 - val_loss: 0.6713 - val_accuracy: 0.5757\n",
      "Epoch 17/50\n",
      "512/512 [==============================] - 175s 343ms/step - loss: 0.6671 - accuracy: 0.5848 - val_loss: 0.6705 - val_accuracy: 0.5829\n",
      "Epoch 18/50\n",
      "512/512 [==============================] - 175s 341ms/step - loss: 0.6665 - accuracy: 0.5854 - val_loss: 0.6697 - val_accuracy: 0.5843\n",
      "Epoch 19/50\n",
      "512/512 [==============================] - 175s 343ms/step - loss: 0.6651 - accuracy: 0.5879 - val_loss: 0.6688 - val_accuracy: 0.5858\n",
      "Epoch 20/50\n",
      "512/512 [==============================] - 176s 345ms/step - loss: 0.6640 - accuracy: 0.5912 - val_loss: 0.6682 - val_accuracy: 0.5852\n",
      "Epoch 21/50\n",
      "512/512 [==============================] - 175s 342ms/step - loss: 0.6628 - accuracy: 0.5925 - val_loss: 0.6687 - val_accuracy: 0.5831\n",
      "Epoch 22/50\n",
      "512/512 [==============================] - 175s 343ms/step - loss: 0.6608 - accuracy: 0.5956 - val_loss: 0.6679 - val_accuracy: 0.5856\n",
      "Epoch 23/50\n",
      "512/512 [==============================] - 175s 342ms/step - loss: 0.6590 - accuracy: 0.5966 - val_loss: 0.6678 - val_accuracy: 0.5836\n",
      "Epoch 24/50\n",
      "512/512 [==============================] - 176s 343ms/step - loss: 0.6593 - accuracy: 0.5978 - val_loss: 0.6667 - val_accuracy: 0.5845\n",
      "Epoch 25/50\n",
      "512/512 [==============================] - 175s 342ms/step - loss: 0.6564 - accuracy: 0.6068 - val_loss: 0.6681 - val_accuracy: 0.5852\n",
      "Epoch 26/50\n",
      "512/512 [==============================] - 176s 343ms/step - loss: 0.6551 - accuracy: 0.6049 - val_loss: 0.6659 - val_accuracy: 0.5876\n",
      "Epoch 27/50\n",
      "512/512 [==============================] - 176s 344ms/step - loss: 0.6536 - accuracy: 0.6075 - val_loss: 0.6652 - val_accuracy: 0.5876\n",
      "Epoch 28/50\n",
      "512/512 [==============================] - 176s 343ms/step - loss: 0.6526 - accuracy: 0.6067 - val_loss: 0.6645 - val_accuracy: 0.5875\n",
      "Epoch 29/50\n",
      "512/512 [==============================] - 178s 347ms/step - loss: 0.6506 - accuracy: 0.6099 - val_loss: 0.6642 - val_accuracy: 0.5880\n",
      "Epoch 30/50\n",
      "512/512 [==============================] - 178s 348ms/step - loss: 0.6506 - accuracy: 0.6108 - val_loss: 0.6644 - val_accuracy: 0.5864\n",
      "Epoch 31/50\n",
      "512/512 [==============================] - 177s 346ms/step - loss: 0.6479 - accuracy: 0.6165 - val_loss: 0.6633 - val_accuracy: 0.5885\n",
      "Epoch 32/50\n",
      "512/512 [==============================] - 179s 350ms/step - loss: 0.6471 - accuracy: 0.6156 - val_loss: 0.6628 - val_accuracy: 0.5927\n",
      "Epoch 33/50\n",
      "512/512 [==============================] - 177s 345ms/step - loss: 0.6461 - accuracy: 0.6178 - val_loss: 0.6632 - val_accuracy: 0.5925\n",
      "Epoch 34/50\n",
      "512/512 [==============================] - 177s 345ms/step - loss: 0.6439 - accuracy: 0.6195 - val_loss: 0.6648 - val_accuracy: 0.5857\n",
      "Epoch 35/50\n",
      "512/512 [==============================] - 183s 356ms/step - loss: 0.6423 - accuracy: 0.6252 - val_loss: 0.6628 - val_accuracy: 0.5903\n",
      "Epoch 36/50\n",
      "512/512 [==============================] - 188s 367ms/step - loss: 0.6410 - accuracy: 0.6234 - val_loss: 0.6612 - val_accuracy: 0.5956\n",
      "Epoch 37/50\n",
      "512/512 [==============================] - 179s 350ms/step - loss: 0.6381 - accuracy: 0.6273 - val_loss: 0.6604 - val_accuracy: 0.5979\n",
      "Epoch 38/50\n",
      "512/512 [==============================] - 177s 346ms/step - loss: 0.6362 - accuracy: 0.6312 - val_loss: 0.6616 - val_accuracy: 0.5910\n",
      "Epoch 39/50\n",
      "512/512 [==============================] - 180s 351ms/step - loss: 0.6366 - accuracy: 0.6282 - val_loss: 0.6624 - val_accuracy: 0.5893\n",
      "Epoch 40/50\n",
      "512/512 [==============================] - 180s 351ms/step - loss: 0.6340 - accuracy: 0.6316 - val_loss: 0.6622 - val_accuracy: 0.5936\n",
      "Epoch 41/50\n",
      "512/512 [==============================] - 180s 352ms/step - loss: 0.6325 - accuracy: 0.6349 - val_loss: 0.6597 - val_accuracy: 0.5988\n",
      "Epoch 42/50\n",
      "512/512 [==============================] - 179s 350ms/step - loss: 0.6314 - accuracy: 0.6384 - val_loss: 0.6596 - val_accuracy: 0.5979\n",
      "Epoch 43/50\n",
      "512/512 [==============================] - 182s 355ms/step - loss: 0.6287 - accuracy: 0.6418 - val_loss: 0.6590 - val_accuracy: 0.5979\n",
      "Epoch 44/50\n",
      "512/512 [==============================] - 179s 349ms/step - loss: 0.6281 - accuracy: 0.6413 - val_loss: 0.6593 - val_accuracy: 0.5965\n",
      "Epoch 45/50\n",
      "512/512 [==============================] - 179s 349ms/step - loss: 0.6240 - accuracy: 0.6461 - val_loss: 0.6586 - val_accuracy: 0.6004\n",
      "Epoch 46/50\n",
      "512/512 [==============================] - 181s 353ms/step - loss: 0.6230 - accuracy: 0.6452 - val_loss: 0.6579 - val_accuracy: 0.6018\n",
      "Epoch 47/50\n",
      "512/512 [==============================] - 180s 351ms/step - loss: 0.6200 - accuracy: 0.6478 - val_loss: 0.6585 - val_accuracy: 0.5983\n",
      "Epoch 48/50\n",
      "512/512 [==============================] - 179s 350ms/step - loss: 0.6175 - accuracy: 0.6502 - val_loss: 0.6569 - val_accuracy: 0.6005\n",
      "Epoch 49/50\n",
      "512/512 [==============================] - 179s 349ms/step - loss: 0.6158 - accuracy: 0.6546 - val_loss: 0.6568 - val_accuracy: 0.6017\n",
      "Epoch 50/50\n",
      "512/512 [==============================] - 179s 349ms/step - loss: 0.6147 - accuracy: 0.6540 - val_loss: 0.6581 - val_accuracy: 0.6007\n"
     ]
    },
    {
     "data": {
      "text/plain": [
       "<keras.callbacks.History at 0x7f31f212b910>"
      ]
     },
     "execution_count": 12,
     "metadata": {},
     "output_type": "execute_result"
    }
   ],
   "source": [
    "model.fit(train_features, train_target, validation_split=0.3,batch_size = 64,epochs=50)\n",
    "\n",
    "\n"
   ]
  },
  {
   "cell_type": "code",
   "execution_count": 13,
   "id": "7ec3c691",
   "metadata": {
    "execution": {
     "iopub.execute_input": "2023-01-19T13:12:07.111022Z",
     "iopub.status.busy": "2023-01-19T13:12:07.110337Z",
     "iopub.status.idle": "2023-01-19T13:12:07.209976Z",
     "shell.execute_reply": "2023-01-19T13:12:07.208741Z"
    },
    "papermill": {
     "duration": 1.710993,
     "end_time": "2023-01-19T13:12:07.212718",
     "exception": false,
     "start_time": "2023-01-19T13:12:05.501725",
     "status": "completed"
    },
    "tags": []
   },
   "outputs": [],
   "source": [
    "model.save(\"/kaggle/working/trained_model_breast_cancer.h5\")"
   ]
  },
  {
   "cell_type": "code",
   "execution_count": 14,
   "id": "41824007",
   "metadata": {
    "execution": {
     "iopub.execute_input": "2023-01-19T13:12:10.660103Z",
     "iopub.status.busy": "2023-01-19T13:12:10.659356Z",
     "iopub.status.idle": "2023-01-19T13:12:10.663802Z",
     "shell.execute_reply": "2023-01-19T13:12:10.663009Z"
    },
    "papermill": {
     "duration": 1.760726,
     "end_time": "2023-01-19T13:12:10.665821",
     "exception": false,
     "start_time": "2023-01-19T13:12:08.905095",
     "status": "completed"
    },
    "tags": []
   },
   "outputs": [],
   "source": [
    "#from tensorflow import keras\n",
    "#savedModel = keras.models.load_model(\"/kaggle/working/trained_model_breast_cancer.h5\")\n",
    "\n"
   ]
  },
  {
   "cell_type": "code",
   "execution_count": 15,
   "id": "a1c16352",
   "metadata": {
    "execution": {
     "iopub.execute_input": "2023-01-19T13:12:14.097517Z",
     "iopub.status.busy": "2023-01-19T13:12:14.096559Z",
     "iopub.status.idle": "2023-01-19T13:12:28.280846Z",
     "shell.execute_reply": "2023-01-19T13:12:28.279543Z"
    },
    "papermill": {
     "duration": 15.869437,
     "end_time": "2023-01-19T13:12:28.283576",
     "exception": false,
     "start_time": "2023-01-19T13:12:12.414139",
     "status": "completed"
    },
    "tags": []
   },
   "outputs": [],
   "source": [
    "test_features=[]\n",
    "for i in test['img_data']:\n",
    "    test_features.append([i])\n",
    "test_features=np.array(test_features)\n",
    " \n",
    "\n",
    "\n",
    "scaler = StandardScaler()\n",
    "norm_features= []\n",
    "for i in range(len(test_features)):\n",
    "    norm_features.append(scaler.fit_transform(test_features[i][0]))\n",
    "test_features=np.array(norm_features)\n",
    "\n",
    "\n",
    "test_features = test_features.reshape(len(test_features),128,128,1)\n",
    "\n",
    "\n",
    "test_target = np.array(test['cancer'])"
   ]
  },
  {
   "cell_type": "code",
   "execution_count": 16,
   "id": "c1221fc6",
   "metadata": {
    "execution": {
     "iopub.execute_input": "2023-01-19T13:12:32.812878Z",
     "iopub.status.busy": "2023-01-19T13:12:32.808635Z",
     "iopub.status.idle": "2023-01-19T13:13:02.845848Z",
     "shell.execute_reply": "2023-01-19T13:13:02.843423Z"
    },
    "papermill": {
     "duration": 32.885846,
     "end_time": "2023-01-19T13:13:02.851373",
     "exception": false,
     "start_time": "2023-01-19T13:12:29.965527",
     "status": "completed"
    },
    "tags": []
   },
   "outputs": [],
   "source": [
    "pred = model.predict(test_features)\n",
    "bin_pred = []\n",
    "for i in pred:\n",
    "    if i>=0.5:\n",
    "        bin_pred.append(1)\n",
    "    else:\n",
    "        bin_pred.append(0)\n",
    "bin_pred = np.array(bin_pred)\n"
   ]
  },
  {
   "cell_type": "code",
   "execution_count": 17,
   "id": "3bab00e9",
   "metadata": {
    "execution": {
     "iopub.execute_input": "2023-01-19T13:13:06.305514Z",
     "iopub.status.busy": "2023-01-19T13:13:06.304713Z",
     "iopub.status.idle": "2023-01-19T13:13:06.342538Z",
     "shell.execute_reply": "2023-01-19T13:13:06.341305Z"
    },
    "papermill": {
     "duration": 1.701897,
     "end_time": "2023-01-19T13:13:06.344728",
     "exception": false,
     "start_time": "2023-01-19T13:13:04.642831",
     "status": "completed"
    },
    "tags": []
   },
   "outputs": [
    {
     "name": "stdout",
     "output_type": "stream",
     "text": [
      "0.5990728278749813\n",
      "0.5114605817658546 0.6815718157181572\n"
     ]
    }
   ],
   "source": [
    "import sklearn\n",
    "acc = sklearn.metrics.accuracy_score(test_target, bin_pred)\n",
    "print(acc)\n",
    "\n",
    "countzero=0\n",
    "countone=0\n",
    "countzerot=0\n",
    "countonet=0\n",
    "for i, j in zip(test_target, bin_pred):\n",
    "    if i==0 and j==0:\n",
    "        countzero+=1\n",
    "    if i==1 and j==1:\n",
    "        countone+=1\n",
    "    if i==1:\n",
    "        countonet+=1\n",
    "    if i==0:\n",
    "        countzerot+=1\n",
    "print(countzero/countzerot,countone/countonet)"
   ]
  },
  {
   "cell_type": "code",
   "execution_count": null,
   "id": "692226a1",
   "metadata": {
    "papermill": {
     "duration": 1.774883,
     "end_time": "2023-01-19T13:13:09.928254",
     "exception": false,
     "start_time": "2023-01-19T13:13:08.153371",
     "status": "completed"
    },
    "tags": []
   },
   "outputs": [],
   "source": []
  },
  {
   "cell_type": "code",
   "execution_count": 18,
   "id": "4f24bf6e",
   "metadata": {
    "execution": {
     "iopub.execute_input": "2023-01-19T13:13:13.419358Z",
     "iopub.status.busy": "2023-01-19T13:13:13.418700Z",
     "iopub.status.idle": "2023-01-19T13:13:48.925578Z",
     "shell.execute_reply": "2023-01-19T13:13:48.923901Z"
    },
    "papermill": {
     "duration": 37.221291,
     "end_time": "2023-01-19T13:13:48.928622",
     "exception": false,
     "start_time": "2023-01-19T13:13:11.707331",
     "status": "completed"
    },
    "tags": []
   },
   "outputs": [
    {
     "name": "stderr",
     "output_type": "stream",
     "text": [
      " 75%|███████▌  | 3/4 [00:00<00:00,  4.68it/s]\n"
     ]
    }
   ],
   "source": [
    "datasetPath = '/kaggle/input/rsna-breast-cancer-detection/test.csv'\n",
    "imgPath = '/kaggle/input/rsna-breast-cancer-detection/test_images/'\n",
    "\n",
    "testImgData = dcmToPix(datasetPath, imgPath)"
   ]
  },
  {
   "cell_type": "code",
   "execution_count": 19,
   "id": "b653d739",
   "metadata": {
    "execution": {
     "iopub.execute_input": "2023-01-19T13:13:52.277970Z",
     "iopub.status.busy": "2023-01-19T13:13:52.277529Z",
     "iopub.status.idle": "2023-01-19T13:13:52.305640Z",
     "shell.execute_reply": "2023-01-19T13:13:52.304799Z"
    },
    "papermill": {
     "duration": 1.746261,
     "end_time": "2023-01-19T13:13:52.308194",
     "exception": false,
     "start_time": "2023-01-19T13:13:50.561933",
     "status": "completed"
    },
    "tags": []
   },
   "outputs": [],
   "source": [
    "datacancer = pd.read_csv(datasetPath)\n",
    "imgDataFrame = {'img_data':testImgData}\n",
    "imgData2 = pd.DataFrame(imgDataFrame)\n",
    "testImgData=imgData2\n",
    "imgdata_shuff = testImgData.sample(frac=1)"
   ]
  },
  {
   "cell_type": "code",
   "execution_count": 20,
   "id": "cd9adbb0",
   "metadata": {
    "execution": {
     "iopub.execute_input": "2023-01-19T13:13:55.696633Z",
     "iopub.status.busy": "2023-01-19T13:13:55.696241Z",
     "iopub.status.idle": "2023-01-19T13:13:55.711301Z",
     "shell.execute_reply": "2023-01-19T13:13:55.710238Z"
    },
    "papermill": {
     "duration": 1.706625,
     "end_time": "2023-01-19T13:13:55.713303",
     "exception": false,
     "start_time": "2023-01-19T13:13:54.006678",
     "status": "completed"
    },
    "tags": []
   },
   "outputs": [
    {
     "name": "stderr",
     "output_type": "stream",
     "text": [
      "100%|██████████| 4/4 [00:00<00:00, 1344.97it/s]\n"
     ]
    }
   ],
   "source": [
    "imgDataList=[]\n",
    "for j in tqdm(imgdata_shuff['img_data']):\n",
    "    imgDataList.append(random_rotate(j))\n",
    "imgdata_shuff['img_data'] = imgDataList"
   ]
  },
  {
   "cell_type": "code",
   "execution_count": 21,
   "id": "33409aa4",
   "metadata": {
    "execution": {
     "iopub.execute_input": "2023-01-19T13:13:59.021331Z",
     "iopub.status.busy": "2023-01-19T13:13:59.020918Z",
     "iopub.status.idle": "2023-01-19T13:13:59.223405Z",
     "shell.execute_reply": "2023-01-19T13:13:59.222253Z"
    },
    "papermill": {
     "duration": 1.817005,
     "end_time": "2023-01-19T13:13:59.225940",
     "exception": false,
     "start_time": "2023-01-19T13:13:57.408935",
     "status": "completed"
    },
    "tags": []
   },
   "outputs": [],
   "source": [
    "test=imgdata_shuff\n",
    "\n",
    "\n",
    "test_features=[]\n",
    "for i in test['img_data']:\n",
    "    test_features.append([i])\n",
    "test_features=np.array(test_features)\n",
    "\n",
    "\n",
    "from sklearn.preprocessing import StandardScaler\n",
    "\n",
    "scaler = StandardScaler()\n",
    "norm_features= []\n",
    "for i in range(len(test_features)):\n",
    "    norm_features.append(scaler.fit_transform(test_features[i][0]))\n",
    "test_features=np.array(norm_features)\n",
    "\n",
    "test_features = test_features.reshape(len(test_features),128,128,1)\n",
    "\n"
   ]
  },
  {
   "cell_type": "code",
   "execution_count": 22,
   "id": "3cbfbd60",
   "metadata": {
    "execution": {
     "iopub.execute_input": "2023-01-19T13:14:02.680025Z",
     "iopub.status.busy": "2023-01-19T13:14:02.679591Z",
     "iopub.status.idle": "2023-01-19T13:14:02.795766Z",
     "shell.execute_reply": "2023-01-19T13:14:02.794539Z"
    },
    "papermill": {
     "duration": 1.84808,
     "end_time": "2023-01-19T13:14:02.798125",
     "exception": false,
     "start_time": "2023-01-19T13:14:00.950045",
     "status": "completed"
    },
    "tags": []
   },
   "outputs": [
    {
     "name": "stdout",
     "output_type": "stream",
     "text": [
      "[0 0 0 0]\n"
     ]
    }
   ],
   "source": [
    "pred = model.predict(test_features)\n",
    "bin_pred = []\n",
    "for i in pred:\n",
    "    if i>=0.5:\n",
    "        bin_pred.append(1)\n",
    "    else:\n",
    "        bin_pred.append(0)\n",
    "bin_pred = np.array(bin_pred)\n",
    "print(bin_pred)"
   ]
  },
  {
   "cell_type": "code",
   "execution_count": 23,
   "id": "69da1641",
   "metadata": {
    "execution": {
     "iopub.execute_input": "2023-01-19T13:14:06.087153Z",
     "iopub.status.busy": "2023-01-19T13:14:06.086467Z",
     "iopub.status.idle": "2023-01-19T13:14:06.102997Z",
     "shell.execute_reply": "2023-01-19T13:14:06.102076Z"
    },
    "papermill": {
     "duration": 1.612635,
     "end_time": "2023-01-19T13:14:06.105054",
     "exception": false,
     "start_time": "2023-01-19T13:14:04.492419",
     "status": "completed"
    },
    "tags": []
   },
   "outputs": [
    {
     "name": "stdout",
     "output_type": "stream",
     "text": [
      "  prediction_id  cancer\n",
      "0       10008_L       0\n",
      "1       10008_L       0\n",
      "2       10008_R       0\n",
      "3       10008_R       0\n"
     ]
    }
   ],
   "source": [
    "testData = pd.read_csv('/kaggle/input/rsna-breast-cancer-detection/test.csv')\n",
    "\n",
    "submissionFrame={'prediction_id':testData['prediction_id'],'cancer':bin_pred}\n",
    "submission = pd.DataFrame(submissionFrame)\n",
    "print(submission)"
   ]
  }
 ],
 "metadata": {
  "kernelspec": {
   "display_name": "Python 3",
   "language": "python",
   "name": "python3"
  },
  "language_info": {
   "codemirror_mode": {
    "name": "ipython",
    "version": 3
   },
   "file_extension": ".py",
   "mimetype": "text/x-python",
   "name": "python",
   "nbconvert_exporter": "python",
   "pygments_lexer": "ipython3",
   "version": "3.7.12"
  },
  "papermill": {
   "default_parameters": {},
   "duration": 9093.226646,
   "end_time": "2023-01-19T13:14:11.723094",
   "environment_variables": {},
   "exception": null,
   "input_path": "__notebook__.ipynb",
   "output_path": "__notebook__.ipynb",
   "parameters": {},
   "start_time": "2023-01-19T10:42:38.496448",
   "version": "2.3.4"
  }
 },
 "nbformat": 4,
 "nbformat_minor": 5
}
