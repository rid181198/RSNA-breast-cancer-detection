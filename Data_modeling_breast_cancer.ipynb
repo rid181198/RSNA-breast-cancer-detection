{
 "cells": [
  {
   "cell_type": "code",
   "execution_count": 1,
   "id": "710a7be5",
   "metadata": {
    "execution": {
     "iopub.execute_input": "2023-01-23T20:04:29.632828Z",
     "iopub.status.busy": "2023-01-23T20:04:29.632186Z",
     "iopub.status.idle": "2023-01-23T20:04:37.291880Z",
     "shell.execute_reply": "2023-01-23T20:04:37.290601Z"
    },
    "papermill": {
     "duration": 7.671919,
     "end_time": "2023-01-23T20:04:37.294899",
     "exception": false,
     "start_time": "2023-01-23T20:04:29.622980",
     "status": "completed"
    },
    "tags": []
   },
   "outputs": [],
   "source": [
    "import numpy as np\n",
    "import pandas as pd\n",
    "import matplotlib.pyplot as plt\n",
    "import seaborn as sns\n",
    "import pickle\n",
    "import tensorflow as tf\n",
    "import tensorflow_io as tfio\n",
    "import os\n",
    "from tqdm import tqdm\n",
    "import cv2\n",
    "from PIL import Image\n",
    "from joblib import Parallel, delayed\n",
    "import gc\n",
    "from PIL import Image as im\n",
    "import random"
   ]
  },
  {
   "cell_type": "code",
   "execution_count": 2,
   "id": "42359389",
   "metadata": {
    "execution": {
     "iopub.execute_input": "2023-01-23T20:04:37.309179Z",
     "iopub.status.busy": "2023-01-23T20:04:37.308524Z",
     "iopub.status.idle": "2023-01-23T20:04:52.459767Z",
     "shell.execute_reply": "2023-01-23T20:04:52.458536Z"
    },
    "papermill": {
     "duration": 15.161265,
     "end_time": "2023-01-23T20:04:52.462506",
     "exception": false,
     "start_time": "2023-01-23T20:04:37.301241",
     "status": "completed"
    },
    "tags": []
   },
   "outputs": [
    {
     "name": "stdout",
     "output_type": "stream",
     "text": [
      "Collecting dicomsdl\r\n",
      "  Downloading dicomsdl-0.109.1-cp37-cp37m-manylinux_2_12_x86_64.manylinux2010_x86_64.whl (1.4 MB)\r\n",
      "\u001b[2K     \u001b[90m━━━━━━━━━━━━━━━━━━━━━━━━━━━━━━━━━━━━━━━━\u001b[0m \u001b[32m1.4/1.4 MB\u001b[0m \u001b[31m1.5 MB/s\u001b[0m eta \u001b[36m0:00:00\u001b[0m\r\n",
      "\u001b[?25hInstalling collected packages: dicomsdl\r\n",
      "Successfully installed dicomsdl-0.109.1\r\n",
      "\u001b[33mWARNING: Running pip as the 'root' user can result in broken permissions and conflicting behaviour with the system package manager. It is recommended to use a virtual environment instead: https://pip.pypa.io/warnings/venv\u001b[0m\u001b[33m\r\n",
      "\u001b[0m"
     ]
    }
   ],
   "source": [
    "import sys\n",
    "!{sys.executable} -m pip install dicomsdl\n",
    "#!pip install /kaggle/input/rsnapacks/dicomsdl-0.109.1-cp36-cp36m-manylinux_2_12_x86_64.manylinux2010_x86_64.whl\n",
    "import numpy as np\n",
    "import pandas as pd\n",
    "import matplotlib.pyplot as plt\n",
    "import seaborn as sns\n",
    "import pickle\n",
    "#import pydicom as dicom\n",
    "import dicomsdl as dicom\n",
    "import tensorflow as tf\n",
    "import tensorflow_io as tfio\n",
    "from PIL import Image as im\n",
    "import os\n",
    "from tqdm import tqdm\n",
    "import cv2\n",
    "from PIL import Image\n",
    "from joblib import Parallel, delayed\n",
    "import gc\n",
    "import random"
   ]
  },
  {
   "cell_type": "code",
   "execution_count": 3,
   "id": "bf594e17",
   "metadata": {
    "execution": {
     "iopub.execute_input": "2023-01-23T20:04:52.487246Z",
     "iopub.status.busy": "2023-01-23T20:04:52.486797Z",
     "iopub.status.idle": "2023-01-23T20:04:52.509134Z",
     "shell.execute_reply": "2023-01-23T20:04:52.508155Z"
    },
    "papermill": {
     "duration": 0.037914,
     "end_time": "2023-01-23T20:04:52.511614",
     "exception": false,
     "start_time": "2023-01-23T20:04:52.473700",
     "status": "completed"
    },
    "tags": []
   },
   "outputs": [],
   "source": [
    "datasetPath = '/kaggle/input/rsna-breast-cancer-detection/train.csv'\n",
    "imgPath = '/kaggle/input/rsna-breast-cancer-detection/train_images/'\n",
    "\n",
    "def crop(sideName, imgName):\n",
    "    if sideName == 'L':\n",
    "        colind=[]\n",
    "        for r,row in enumerate(imgName):\n",
    "            for c,col in enumerate(row):\n",
    "                if col==0:\n",
    "                    colind.append(c)\n",
    "                    break\n",
    "        crop_size = max(colind)\n",
    "        imgName = imgName[0:512,0:crop_size]\n",
    "        imgName = cv2.resize(imgName,(128,128))\n",
    "        \n",
    "    if sideName == 'R':\n",
    "        colind=[]\n",
    "        for r,row in enumerate(imgName):\n",
    "            for c,col in enumerate(row):\n",
    "                if col!=0:\n",
    "                    colind.append(c)\n",
    "                    break\n",
    "        crop_size = min(colind)\n",
    "        imgName = imgName[0:512,crop_size:512]\n",
    "        imgName = cv2.resize(imgName,(128,128))\n",
    "    \n",
    "    return imgName    \n",
    "\n",
    "    gc.collect()\n",
    "    \n",
    "def crop_reverse(sideName, imgName):\n",
    "    if sideName == 'R':\n",
    "        colind=[]\n",
    "        for r,row in enumerate(imgName):\n",
    "            for c,col in enumerate(row):\n",
    "                if col==0:\n",
    "                    colind.append(c)\n",
    "                    break\n",
    "        crop_size = max(colind)\n",
    "        imgName = imgName[0:512,0:crop_size]\n",
    "        imgName = cv2.resize(imgName,(128,128))\n",
    "        \n",
    "    if sideName == 'L':\n",
    "        colind=[]\n",
    "        for r,row in enumerate(imgName):\n",
    "            for c,col in enumerate(row):\n",
    "                if col!=0:\n",
    "                    colind.append(c)\n",
    "                    break\n",
    "        crop_size = min(colind)\n",
    "        imgName = imgName[0:512,crop_size:512]\n",
    "        imgName = cv2.resize(imgName,(128,128))\n",
    "    \n",
    "    return imgName    \n",
    "\n",
    "    gc.collect()\n",
    "    \n",
    "\n",
    "def img_process(i,filename,sides):\n",
    "    \n",
    "    #ds = dicom.dcmread(filename)\n",
    "    ds = dicom.open(filename)\n",
    "    ds = ds.pixelData()\n",
    "    ds = cv2.normalize(ds, None, 0, 1.0, cv2.NORM_MINMAX, dtype=cv2.CV_32F)\n",
    "    ds = cv2.resize(ds,(512,512))\n",
    "    ds = np.where(ds >= 0.9999, 0,ds)\n",
    "    \n",
    "    try:\n",
    "        ds = np.array(crop(sides[i], ds))   \n",
    "    except:\n",
    "        ds = np.array(crop_reverse(sides[i], ds))\n",
    "    return ds \n",
    "\n",
    "    #train_data.loc[i,'img_data'] = [img_fin]\n",
    "    #train_data.to_csv('/kaggle/working/training_img_data.csv') \n",
    "    \n",
    "    gc.collect()\n",
    "\n",
    "def dcmToPix(datasetPath, imgPath):\n",
    "    dataset = pd.read_csv(datasetPath)\n",
    "    dataset=dataset[:50]\n",
    "    \n",
    "    \n",
    "    patient_ids = dataset['patient_id']\n",
    "    image_ids = dataset['image_id']\n",
    "    sides  = dataset['laterality']\n",
    "\n",
    "    imgData = []\n",
    "\n",
    "    for pi, ii, leng in zip(patient_ids, image_ids, range(len(patient_ids))):\n",
    "        imgData.append(imgPath + str(pi) + '/' + str(ii) + '.dcm')\n",
    "\n",
    "    dataset['img_data'] = \" \"\n",
    "    \n",
    "    result = Parallel(n_jobs=128)(\\\n",
    "    delayed(img_process)(i, fname, sides) for i, fname in zip(range(len(imgData)),tqdm(imgData))\\\n",
    "    )\n",
    "    \n",
    "    dataset['img_data'] = result\n",
    "    dataset.to_pickle('imgData.pkl' )\n",
    "    \n",
    "    return result\n",
    "    "
   ]
  },
  {
   "cell_type": "code",
   "execution_count": 4,
   "id": "6f0cee9a",
   "metadata": {
    "_cell_guid": "b1076dfc-b9ad-4769-8c92-a6c4dae69d19",
    "_uuid": "8f2839f25d086af736a60e9eeb907d3b93b6e0e5",
    "execution": {
     "iopub.execute_input": "2023-01-23T20:04:52.528320Z",
     "iopub.status.busy": "2023-01-23T20:04:52.527895Z",
     "iopub.status.idle": "2023-01-23T20:05:31.702858Z",
     "shell.execute_reply": "2023-01-23T20:05:31.701762Z"
    },
    "papermill": {
     "duration": 39.186471,
     "end_time": "2023-01-23T20:05:31.705616",
     "exception": false,
     "start_time": "2023-01-23T20:04:52.519145",
     "status": "completed"
    },
    "tags": []
   },
   "outputs": [],
   "source": [
    "with (open('/kaggle/input/output/imgData.pkl', \"rb\")) as openfile:\n",
    "     imgData = pickle.load(openfile)"
   ]
  },
  {
   "cell_type": "code",
   "execution_count": 5,
   "id": "3ad4c9de",
   "metadata": {
    "execution": {
     "iopub.execute_input": "2023-01-23T20:05:31.722923Z",
     "iopub.status.busy": "2023-01-23T20:05:31.722524Z",
     "iopub.status.idle": "2023-01-23T20:05:31.728388Z",
     "shell.execute_reply": "2023-01-23T20:05:31.727334Z"
    },
    "papermill": {
     "duration": 0.017044,
     "end_time": "2023-01-23T20:05:31.730682",
     "exception": false,
     "start_time": "2023-01-23T20:05:31.713638",
     "status": "completed"
    },
    "tags": []
   },
   "outputs": [],
   "source": [
    "#datacancer = pd.read_csv(datasetPath)\n",
    "#imgDataFrame = {'cancer':datacancer['cancer'][:50], 'img_data':imgData}\n",
    "#imgData2 = pd.DataFrame(imgDataFrame)\n",
    "\n",
    "#imgData=imgData2"
   ]
  },
  {
   "cell_type": "code",
   "execution_count": 6,
   "id": "9f38f5ac",
   "metadata": {
    "execution": {
     "iopub.execute_input": "2023-01-23T20:05:31.747009Z",
     "iopub.status.busy": "2023-01-23T20:05:31.746633Z",
     "iopub.status.idle": "2023-01-23T20:05:31.875271Z",
     "shell.execute_reply": "2023-01-23T20:05:31.873509Z"
    },
    "papermill": {
     "duration": 0.139791,
     "end_time": "2023-01-23T20:05:31.877932",
     "exception": false,
     "start_time": "2023-01-23T20:05:31.738141",
     "status": "completed"
    },
    "tags": []
   },
   "outputs": [],
   "source": [
    "imgdata_pos = imgData[imgData['cancer'] == 1]\n",
    "imgdata_neg = imgData[imgData['cancer'] == 0]\n",
    "\n",
    "imgdata_pos = imgdata_pos.sample(frac = 1)\n",
    "imgdata_neg = imgdata_neg.sample(frac = 1)\n",
    "\n",
    "imgdata_neg = imgdata_neg.sample(frac= 1)\n",
    "\n",
    "frames = 1*[imgdata_pos]\n",
    "frames.append(imgdata_neg)\n",
    "imgdata_shuff = pd.concat(frames)\n",
    "imgdata_shuff = imgdata_shuff.sample(frac=1)"
   ]
  },
  {
   "cell_type": "code",
   "execution_count": 7,
   "id": "4d895130",
   "metadata": {
    "execution": {
     "iopub.execute_input": "2023-01-23T20:05:31.896510Z",
     "iopub.status.busy": "2023-01-23T20:05:31.896062Z",
     "iopub.status.idle": "2023-01-23T20:05:31.907852Z",
     "shell.execute_reply": "2023-01-23T20:05:31.906497Z"
    },
    "papermill": {
     "duration": 0.024711,
     "end_time": "2023-01-23T20:05:31.910256",
     "exception": false,
     "start_time": "2023-01-23T20:05:31.885545",
     "status": "completed"
    },
    "tags": []
   },
   "outputs": [
    {
     "name": "stdout",
     "output_type": "stream",
     "text": [
      "0    53548\n",
      "1     1158\n",
      "Name: cancer, dtype: int64\n"
     ]
    }
   ],
   "source": [
    "print(imgdata_shuff['cancer'].value_counts())"
   ]
  },
  {
   "cell_type": "code",
   "execution_count": 8,
   "id": "e91df3f0",
   "metadata": {
    "execution": {
     "iopub.execute_input": "2023-01-23T20:05:31.926901Z",
     "iopub.status.busy": "2023-01-23T20:05:31.926502Z",
     "iopub.status.idle": "2023-01-23T20:05:31.932429Z",
     "shell.execute_reply": "2023-01-23T20:05:31.931195Z"
    },
    "papermill": {
     "duration": 0.016765,
     "end_time": "2023-01-23T20:05:31.934657",
     "exception": false,
     "start_time": "2023-01-23T20:05:31.917892",
     "status": "completed"
    },
    "tags": []
   },
   "outputs": [],
   "source": [
    "def random_rotate(imgData):\n",
    "    imgData = imgData.reshape(128,128)\n",
    "    imgData = im.fromarray(imgData)\n",
    "    imgData = np.asarray(imgData.rotate(random.randint(-5, 5)))\n",
    "    return imgData"
   ]
  },
  {
   "cell_type": "code",
   "execution_count": 9,
   "id": "7c9f0d95",
   "metadata": {
    "execution": {
     "iopub.execute_input": "2023-01-23T20:05:31.952414Z",
     "iopub.status.busy": "2023-01-23T20:05:31.951111Z",
     "iopub.status.idle": "2023-01-23T20:05:31.955895Z",
     "shell.execute_reply": "2023-01-23T20:05:31.955064Z"
    },
    "papermill": {
     "duration": 0.015714,
     "end_time": "2023-01-23T20:05:31.957946",
     "exception": false,
     "start_time": "2023-01-23T20:05:31.942232",
     "status": "completed"
    },
    "tags": []
   },
   "outputs": [],
   "source": [
    "#imgDataList=[]\n",
    "#for j in tqdm(imgdata_shuff['img_data']):\n",
    "#    imgDataList.append(random_rotate(j))\n",
    "#imgdata_shuff['img_data'] = imgDataList"
   ]
  },
  {
   "cell_type": "code",
   "execution_count": 10,
   "id": "52dc7cb5",
   "metadata": {
    "execution": {
     "iopub.execute_input": "2023-01-23T20:05:31.975513Z",
     "iopub.status.busy": "2023-01-23T20:05:31.974299Z",
     "iopub.status.idle": "2023-01-23T20:06:06.026973Z",
     "shell.execute_reply": "2023-01-23T20:06:06.025803Z"
    },
    "papermill": {
     "duration": 34.064319,
     "end_time": "2023-01-23T20:06:06.029808",
     "exception": false,
     "start_time": "2023-01-23T20:05:31.965489",
     "status": "completed"
    },
    "tags": []
   },
   "outputs": [],
   "source": [
    "from sklearn.model_selection import train_test_split\n",
    "train,test = train_test_split(imgdata_shuff, test_size=0.3, random_state=42, shuffle=True)\n",
    "\n",
    "\n",
    "train_target = np.array(train['cancer'])\n",
    "train_features=[]\n",
    "for i in train['img_data']:\n",
    "    train_features.append([i])\n",
    "train_features=np.array(train_features)\n",
    "\n",
    "\n",
    "from sklearn.preprocessing import StandardScaler\n",
    "\n",
    "scaler = StandardScaler()\n",
    "norm_features= []\n",
    "for i in range(len(train_features)):\n",
    "    norm_features.append(scaler.fit_transform(train_features[i][0]))\n",
    "train_features=np.array(norm_features)\n",
    "\n",
    "train_features = train_features.reshape(len(train_features),128,128,1)\n",
    "\n"
   ]
  },
  {
   "cell_type": "code",
   "execution_count": 11,
   "id": "f4ad6c48",
   "metadata": {
    "execution": {
     "iopub.execute_input": "2023-01-23T20:06:06.047538Z",
     "iopub.status.busy": "2023-01-23T20:06:06.046620Z",
     "iopub.status.idle": "2023-01-23T20:06:06.251793Z",
     "shell.execute_reply": "2023-01-23T20:06:06.250428Z"
    },
    "papermill": {
     "duration": 0.216781,
     "end_time": "2023-01-23T20:06:06.254494",
     "exception": false,
     "start_time": "2023-01-23T20:06:06.037713",
     "status": "completed"
    },
    "tags": []
   },
   "outputs": [
    {
     "name": "stderr",
     "output_type": "stream",
     "text": [
      "2023-01-23 20:06:06.097162: I tensorflow/core/common_runtime/process_util.cc:146] Creating new thread pool with default inter op setting: 2. Tune using inter_op_parallelism_threads for best performance.\n"
     ]
    }
   ],
   "source": [
    "from keras.models import Sequential\n",
    "from keras.layers import LeakyReLU\n",
    "from keras.layers import Dense, Conv2D, Flatten,MaxPooling2D, Dropout, GlobalMaxPooling2D\n",
    "model = Sequential()\n",
    "model.add(Conv2D(64, 3, activation = \"relu\", input_shape = (128,128,1)))\n",
    "model.add(MaxPooling2D())\n",
    "model.add(LeakyReLU(alpha=0.05))\n",
    "model.add(Dropout(0.3))\n",
    "model.add(Conv2D(32, 3, activation = \"relu\"))\n",
    "model.add(MaxPooling2D())\n",
    "model.add(LeakyReLU(alpha=0.05))\n",
    "model.add(Conv2D(16, 3, activation = \"relu\"))\n",
    "model.add(MaxPooling2D())\n",
    "model.add(Dropout(0.4))\n",
    "model.add(Flatten())\n",
    "model.add(Dense(32, activation = 'relu')) \n",
    "model.add(LeakyReLU(alpha=0.1))\n",
    "#model.add(Dense(64, activation = 'relu')) \n",
    "#model.add(LeakyReLU(alpha=0.2))\n",
    "model.add(Dropout(0.2))\n",
    "model.add(Dense(1, activation = 'sigmoid'))\n",
    "\n",
    "\n",
    "\n",
    "\n",
    "from keras import backend as K\n",
    "def recall_m(y_true, y_pred):\n",
    "    true_positives = K.sum(K.round(K.clip(y_true * y_pred, 0, 1)))\n",
    "    possible_positives = K.sum(K.round(K.clip(y_true, 0, 1)))\n",
    "    recall = true_positives / (possible_positives )\n",
    "    return recall\n",
    "\n",
    "def precision_m(y_true, y_pred):\n",
    "    true_positives = K.sum(K.round(K.clip(y_true * y_pred, 0, 1)))\n",
    "    predicted_positives = K.sum(K.round(K.clip(y_pred, 0, 1)))\n",
    "    precision = true_positives / (predicted_positives )\n",
    "    return precision\n",
    "\n",
    "def f1_m(y_true, y_pred):\n",
    "    precision = precision_m(y_true, y_pred)\n",
    "    recall = recall_m(y_true, y_pred)\n",
    "    return 2*((precision*recall)/(precision+recall))\n",
    "\n",
    "\n",
    "\n",
    "\n",
    "model.compile(optimizer =tf.keras.optimizers.Adam(learning_rate=0.0001),\\\n",
    "              loss= 'binary_crossentropy', metrics=['accuracy'])\n",
    "\n"
   ]
  },
  {
   "cell_type": "code",
   "execution_count": 12,
   "id": "58a95f0f",
   "metadata": {
    "execution": {
     "iopub.execute_input": "2023-01-23T20:06:06.272037Z",
     "iopub.status.busy": "2023-01-23T20:06:06.271629Z",
     "iopub.status.idle": "2023-01-23T21:11:32.625306Z",
     "shell.execute_reply": "2023-01-23T21:11:32.623086Z"
    },
    "papermill": {
     "duration": 3926.365748,
     "end_time": "2023-01-23T21:11:32.628214",
     "exception": false,
     "start_time": "2023-01-23T20:06:06.262466",
     "status": "completed"
    },
    "tags": []
   },
   "outputs": [
    {
     "name": "stderr",
     "output_type": "stream",
     "text": [
      "2023-01-23 20:06:09.624904: I tensorflow/compiler/mlir/mlir_graph_optimization_pass.cc:185] None of the MLIR Optimization Passes are enabled (registered 2)\n"
     ]
    },
    {
     "name": "stdout",
     "output_type": "stream",
     "text": [
      "Epoch 1/15\n",
      "419/419 [==============================] - 262s 619ms/step - loss: 1.1037 - accuracy: 0.9273 - val_loss: 0.5782 - val_accuracy: 0.9727\n",
      "Epoch 2/15\n",
      "419/419 [==============================] - 266s 634ms/step - loss: 1.0884 - accuracy: 0.9418 - val_loss: 0.5785 - val_accuracy: 0.9731\n",
      "Epoch 3/15\n",
      "419/419 [==============================] - 260s 620ms/step - loss: 1.0808 - accuracy: 0.9193 - val_loss: 0.5681 - val_accuracy: 0.9698\n",
      "Epoch 4/15\n",
      "419/419 [==============================] - 259s 619ms/step - loss: 1.0730 - accuracy: 0.9143 - val_loss: 0.5374 - val_accuracy: 0.9657\n",
      "Epoch 5/15\n",
      "419/419 [==============================] - 260s 621ms/step - loss: 1.0634 - accuracy: 0.8798 - val_loss: 0.5209 - val_accuracy: 0.9572\n",
      "Epoch 6/15\n",
      "419/419 [==============================] - 260s 620ms/step - loss: 1.0644 - accuracy: 0.8796 - val_loss: 0.5669 - val_accuracy: 0.8663\n",
      "Epoch 7/15\n",
      "419/419 [==============================] - 259s 619ms/step - loss: 1.0524 - accuracy: 0.8714 - val_loss: 0.5611 - val_accuracy: 0.8587\n",
      "Epoch 8/15\n",
      "419/419 [==============================] - 260s 620ms/step - loss: 1.0484 - accuracy: 0.8811 - val_loss: 0.5562 - val_accuracy: 0.8209\n",
      "Epoch 9/15\n",
      "419/419 [==============================] - 260s 620ms/step - loss: 1.0345 - accuracy: 0.8481 - val_loss: 0.5975 - val_accuracy: 0.7915\n",
      "Epoch 10/15\n",
      "419/419 [==============================] - 260s 620ms/step - loss: 1.0373 - accuracy: 0.8781 - val_loss: 0.5823 - val_accuracy: 0.7647\n",
      "Epoch 11/15\n",
      "419/419 [==============================] - 260s 620ms/step - loss: 1.0218 - accuracy: 0.8357 - val_loss: 0.5091 - val_accuracy: 0.8925\n",
      "Epoch 12/15\n",
      "419/419 [==============================] - 262s 624ms/step - loss: 1.0195 - accuracy: 0.8545 - val_loss: 0.5631 - val_accuracy: 0.7722\n",
      "Epoch 13/15\n",
      "419/419 [==============================] - 261s 622ms/step - loss: 1.0101 - accuracy: 0.8463 - val_loss: 0.5501 - val_accuracy: 0.7914\n",
      "Epoch 14/15\n",
      "419/419 [==============================] - 261s 622ms/step - loss: 1.0067 - accuracy: 0.8298 - val_loss: 0.5124 - val_accuracy: 0.8608\n",
      "Epoch 15/15\n",
      "419/419 [==============================] - 261s 624ms/step - loss: 0.9890 - accuracy: 0.8494 - val_loss: 0.5345 - val_accuracy: 0.8039\n"
     ]
    },
    {
     "data": {
      "text/plain": [
       "<keras.callbacks.History at 0x7fa2607ce590>"
      ]
     },
     "execution_count": 12,
     "metadata": {},
     "output_type": "execute_result"
    }
   ],
   "source": [
    "weights = {0:1, 1:30}\n",
    "model.fit(train_features, train_target,  class_weight=weights,validation_split=0.3,batch_size = 64,epochs=15)\n",
    "\n",
    "\n"
   ]
  },
  {
   "cell_type": "code",
   "execution_count": 13,
   "id": "34aafe41",
   "metadata": {
    "execution": {
     "iopub.execute_input": "2023-01-23T21:11:33.505215Z",
     "iopub.status.busy": "2023-01-23T21:11:33.504276Z",
     "iopub.status.idle": "2023-01-23T21:11:33.576350Z",
     "shell.execute_reply": "2023-01-23T21:11:33.574673Z"
    },
    "papermill": {
     "duration": 0.477826,
     "end_time": "2023-01-23T21:11:33.579186",
     "exception": false,
     "start_time": "2023-01-23T21:11:33.101360",
     "status": "completed"
    },
    "tags": []
   },
   "outputs": [],
   "source": [
    "model.save(\"/kaggle/working/trained_model_breast_cancer.h5\")"
   ]
  },
  {
   "cell_type": "code",
   "execution_count": 14,
   "id": "d67486dd",
   "metadata": {
    "execution": {
     "iopub.execute_input": "2023-01-23T21:11:34.384310Z",
     "iopub.status.busy": "2023-01-23T21:11:34.383837Z",
     "iopub.status.idle": "2023-01-23T21:11:34.961710Z",
     "shell.execute_reply": "2023-01-23T21:11:34.960322Z"
    },
    "papermill": {
     "duration": 0.984807,
     "end_time": "2023-01-23T21:11:34.964418",
     "exception": false,
     "start_time": "2023-01-23T21:11:33.979611",
     "status": "completed"
    },
    "tags": []
   },
   "outputs": [],
   "source": [
    "from tensorflow import keras\n",
    "savedModel = keras.models.load_model(\"/kaggle/input/pre-trained-model-of-breast-cancer/trained_model_breast_cancer.h5\")\n",
    "\n"
   ]
  },
  {
   "cell_type": "code",
   "execution_count": 15,
   "id": "5cb385e6",
   "metadata": {
    "execution": {
     "iopub.execute_input": "2023-01-23T21:11:35.773026Z",
     "iopub.status.busy": "2023-01-23T21:11:35.771631Z",
     "iopub.status.idle": "2023-01-23T21:11:47.649356Z",
     "shell.execute_reply": "2023-01-23T21:11:47.648350Z"
    },
    "papermill": {
     "duration": 12.28496,
     "end_time": "2023-01-23T21:11:47.652414",
     "exception": false,
     "start_time": "2023-01-23T21:11:35.367454",
     "status": "completed"
    },
    "tags": []
   },
   "outputs": [],
   "source": [
    "test_features=[]\n",
    "for i in test['img_data']:\n",
    "    test_features.append([i])\n",
    "test_features=np.array(test_features)\n",
    " \n",
    "\n",
    "\n",
    "scaler = StandardScaler()\n",
    "norm_features= []\n",
    "for i in range(len(test_features)):\n",
    "    norm_features.append(scaler.fit_transform(test_features[i][0]))\n",
    "test_features=np.array(norm_features)\n",
    "\n",
    "\n",
    "test_features = test_features.reshape(len(test_features),128,128,1)\n",
    "\n",
    "\n",
    "test_target = np.array(test['cancer'])"
   ]
  },
  {
   "cell_type": "code",
   "execution_count": 16,
   "id": "30678b8c",
   "metadata": {
    "execution": {
     "iopub.execute_input": "2023-01-23T21:11:48.516342Z",
     "iopub.status.busy": "2023-01-23T21:11:48.515118Z",
     "iopub.status.idle": "2023-01-23T21:12:21.130018Z",
     "shell.execute_reply": "2023-01-23T21:12:21.128770Z"
    },
    "papermill": {
     "duration": 33.017119,
     "end_time": "2023-01-23T21:12:21.132877",
     "exception": false,
     "start_time": "2023-01-23T21:11:48.115758",
     "status": "completed"
    },
    "tags": []
   },
   "outputs": [],
   "source": [
    "pred = model.predict(test_features)\n",
    "bin_pred = []\n",
    "for i in pred:\n",
    "    if i>=0.5:\n",
    "        bin_pred.append(1)\n",
    "    else:\n",
    "        bin_pred.append(0)\n",
    "bin_pred = np.array(bin_pred)\n"
   ]
  },
  {
   "cell_type": "code",
   "execution_count": 17,
   "id": "86836020",
   "metadata": {
    "execution": {
     "iopub.execute_input": "2023-01-23T21:12:21.942671Z",
     "iopub.status.busy": "2023-01-23T21:12:21.941842Z",
     "iopub.status.idle": "2023-01-23T21:12:21.972626Z",
     "shell.execute_reply": "2023-01-23T21:12:21.971374Z"
    },
    "papermill": {
     "duration": 0.433824,
     "end_time": "2023-01-23T21:12:21.975202",
     "exception": false,
     "start_time": "2023-01-23T21:12:21.541378",
     "status": "completed"
    },
    "tags": []
   },
   "outputs": [
    {
     "name": "stdout",
     "output_type": "stream",
     "text": [
      "0.803923958079454\n",
      "0.8147733631785115 0.2735562310030395\n"
     ]
    }
   ],
   "source": [
    "import sklearn\n",
    "acc = sklearn.metrics.accuracy_score(test_target, bin_pred)\n",
    "print(acc)\n",
    "\n",
    "countzero=0\n",
    "countone=0\n",
    "countzerot=0\n",
    "countonet=0\n",
    "for i, j in zip(test_target, bin_pred):\n",
    "    if i==0 and j==0:\n",
    "        countzero+=1\n",
    "    if i==1 and j==1:\n",
    "        countone+=1\n",
    "    if i==1:\n",
    "        countonet+=1\n",
    "    if i==0:\n",
    "        countzerot+=1\n",
    "print(countzero/countzerot,countone/countonet)"
   ]
  },
  {
   "cell_type": "code",
   "execution_count": 18,
   "id": "25a2aa1e",
   "metadata": {
    "execution": {
     "iopub.execute_input": "2023-01-23T21:12:22.796974Z",
     "iopub.status.busy": "2023-01-23T21:12:22.795926Z",
     "iopub.status.idle": "2023-01-23T21:12:22.807446Z",
     "shell.execute_reply": "2023-01-23T21:12:22.806042Z"
    },
    "papermill": {
     "duration": 0.416817,
     "end_time": "2023-01-23T21:12:22.809709",
     "exception": false,
     "start_time": "2023-01-23T21:12:22.392892",
     "status": "completed"
    },
    "tags": []
   },
   "outputs": [
    {
     "name": "stdout",
     "output_type": "stream",
     "text": [
      "0.05297233666862861\n"
     ]
    }
   ],
   "source": [
    "\n",
    "def recall_m(y_true, y_pred):\n",
    "    true_positives = np.sum(np.round(np.clip(y_true * y_pred, 0, 1)))\n",
    "    possible_positives = np.sum(np.round(np.clip(y_true, 0, 1)))\n",
    "    recall = true_positives / (possible_positives )\n",
    "    return recall\n",
    "\n",
    "def precision_m(y_true, y_pred):\n",
    "    true_positives = np.sum(np.round(np.clip(y_true * y_pred, 0, 1)))\n",
    "    predicted_positives = np.sum(np.round(np.clip(y_pred, 0, 1)))\n",
    "    precision = true_positives / (predicted_positives )\n",
    "    return precision\n",
    "\n",
    "def f1_m(y_true, y_pred):\n",
    "    precision = precision_m(y_true, y_pred)\n",
    "    recall = recall_m(y_true, y_pred)\n",
    "    return 2*((precision*recall)/(precision+recall))\n",
    "\n",
    "\n",
    "print(f1_m(test_target,bin_pred))"
   ]
  },
  {
   "cell_type": "code",
   "execution_count": 19,
   "id": "63b87c61",
   "metadata": {
    "execution": {
     "iopub.execute_input": "2023-01-23T21:12:23.677971Z",
     "iopub.status.busy": "2023-01-23T21:12:23.677200Z",
     "iopub.status.idle": "2023-01-23T21:12:51.770812Z",
     "shell.execute_reply": "2023-01-23T21:12:51.769080Z"
    },
    "papermill": {
     "duration": 28.499328,
     "end_time": "2023-01-23T21:12:51.774487",
     "exception": false,
     "start_time": "2023-01-23T21:12:23.275159",
     "status": "completed"
    },
    "tags": []
   },
   "outputs": [
    {
     "name": "stderr",
     "output_type": "stream",
     "text": [
      " 75%|███████▌  | 3/4 [00:00<00:00,  9.12it/s]\n"
     ]
    }
   ],
   "source": [
    "datasetPath = '/kaggle/input/rsna-breast-cancer-detection/test.csv'\n",
    "imgPath = '/kaggle/input/rsna-breast-cancer-detection/test_images/'\n",
    "\n",
    "testImgData = dcmToPix(datasetPath, imgPath)"
   ]
  },
  {
   "cell_type": "code",
   "execution_count": 20,
   "id": "dd21d69b",
   "metadata": {
    "execution": {
     "iopub.execute_input": "2023-01-23T21:12:52.586932Z",
     "iopub.status.busy": "2023-01-23T21:12:52.586496Z",
     "iopub.status.idle": "2023-01-23T21:12:52.610257Z",
     "shell.execute_reply": "2023-01-23T21:12:52.609217Z"
    },
    "papermill": {
     "duration": 0.429962,
     "end_time": "2023-01-23T21:12:52.612905",
     "exception": false,
     "start_time": "2023-01-23T21:12:52.182943",
     "status": "completed"
    },
    "tags": []
   },
   "outputs": [],
   "source": [
    "datacancer = pd.read_csv(datasetPath)\n",
    "imgDataFrame = {'img_data':testImgData}\n",
    "imgData2 = pd.DataFrame(imgDataFrame)\n",
    "testImgData=imgData2\n",
    "imgdata_shuff = testImgData.sample(frac=1)"
   ]
  },
  {
   "cell_type": "code",
   "execution_count": 21,
   "id": "239b7940",
   "metadata": {
    "execution": {
     "iopub.execute_input": "2023-01-23T21:12:53.474476Z",
     "iopub.status.busy": "2023-01-23T21:12:53.474016Z",
     "iopub.status.idle": "2023-01-23T21:12:53.490827Z",
     "shell.execute_reply": "2023-01-23T21:12:53.489481Z"
    },
    "papermill": {
     "duration": 0.416314,
     "end_time": "2023-01-23T21:12:53.493237",
     "exception": false,
     "start_time": "2023-01-23T21:12:53.076923",
     "status": "completed"
    },
    "tags": []
   },
   "outputs": [
    {
     "name": "stderr",
     "output_type": "stream",
     "text": [
      "100%|██████████| 4/4 [00:00<00:00, 839.11it/s]\n"
     ]
    }
   ],
   "source": [
    "imgDataList=[]\n",
    "for j in tqdm(imgdata_shuff['img_data']):\n",
    "    imgDataList.append(random_rotate(j))\n",
    "imgdata_shuff['img_data'] = imgDataList"
   ]
  },
  {
   "cell_type": "code",
   "execution_count": 22,
   "id": "7cefa1b9",
   "metadata": {
    "execution": {
     "iopub.execute_input": "2023-01-23T21:12:54.299091Z",
     "iopub.status.busy": "2023-01-23T21:12:54.298309Z",
     "iopub.status.idle": "2023-01-23T21:12:54.351240Z",
     "shell.execute_reply": "2023-01-23T21:12:54.349962Z"
    },
    "papermill": {
     "duration": 0.459046,
     "end_time": "2023-01-23T21:12:54.353841",
     "exception": false,
     "start_time": "2023-01-23T21:12:53.894795",
     "status": "completed"
    },
    "tags": []
   },
   "outputs": [],
   "source": [
    "test=imgdata_shuff\n",
    "\n",
    "\n",
    "test_features=[]\n",
    "for i in test['img_data']:\n",
    "    test_features.append([i])\n",
    "test_features=np.array(test_features)\n",
    "\n",
    "\n",
    "from sklearn.preprocessing import StandardScaler\n",
    "\n",
    "scaler = StandardScaler()\n",
    "norm_features= []\n",
    "for i in range(len(test_features)):\n",
    "    norm_features.append(scaler.fit_transform(test_features[i][0]))\n",
    "test_features=np.array(norm_features)\n",
    "\n",
    "test_features = test_features.reshape(len(test_features),128,128,1)\n",
    "\n"
   ]
  },
  {
   "cell_type": "code",
   "execution_count": 23,
   "id": "083412ba",
   "metadata": {
    "execution": {
     "iopub.execute_input": "2023-01-23T21:12:55.215891Z",
     "iopub.status.busy": "2023-01-23T21:12:55.215469Z",
     "iopub.status.idle": "2023-01-23T21:12:55.315266Z",
     "shell.execute_reply": "2023-01-23T21:12:55.313692Z"
    },
    "papermill": {
     "duration": 0.571215,
     "end_time": "2023-01-23T21:12:55.318229",
     "exception": false,
     "start_time": "2023-01-23T21:12:54.747014",
     "status": "completed"
    },
    "tags": []
   },
   "outputs": [
    {
     "name": "stdout",
     "output_type": "stream",
     "text": [
      "[0 0 0 0]\n"
     ]
    }
   ],
   "source": [
    "pred = model.predict(test_features)\n",
    "bin_pred = []\n",
    "for i in pred:\n",
    "    if i>=0.5:\n",
    "        bin_pred.append(1)\n",
    "    else:\n",
    "        bin_pred.append(0)\n",
    "bin_pred = np.array(bin_pred)\n",
    "print(bin_pred)"
   ]
  },
  {
   "cell_type": "code",
   "execution_count": 24,
   "id": "fecfabd7",
   "metadata": {
    "execution": {
     "iopub.execute_input": "2023-01-23T21:12:56.116001Z",
     "iopub.status.busy": "2023-01-23T21:12:56.114602Z",
     "iopub.status.idle": "2023-01-23T21:12:56.131548Z",
     "shell.execute_reply": "2023-01-23T21:12:56.130098Z"
    },
    "papermill": {
     "duration": 0.417781,
     "end_time": "2023-01-23T21:12:56.134080",
     "exception": false,
     "start_time": "2023-01-23T21:12:55.716299",
     "status": "completed"
    },
    "tags": []
   },
   "outputs": [
    {
     "name": "stdout",
     "output_type": "stream",
     "text": [
      "  prediction_id  cancer\n",
      "0       10008_L       0\n",
      "1       10008_L       0\n",
      "2       10008_R       0\n",
      "3       10008_R       0\n"
     ]
    }
   ],
   "source": [
    "testData = pd.read_csv('/kaggle/input/rsna-breast-cancer-detection/test.csv')\n",
    "\n",
    "submissionFrame={'prediction_id':testData['prediction_id'],'cancer':bin_pred}\n",
    "submission = pd.DataFrame(submissionFrame)\n",
    "print(submission)"
   ]
  }
 ],
 "metadata": {
  "kernelspec": {
   "display_name": "Python 3",
   "language": "python",
   "name": "python3"
  },
  "language_info": {
   "codemirror_mode": {
    "name": "ipython",
    "version": 3
   },
   "file_extension": ".py",
   "mimetype": "text/x-python",
   "name": "python",
   "nbconvert_exporter": "python",
   "pygments_lexer": "ipython3",
   "version": "3.7.12"
  },
  "papermill": {
   "default_parameters": {},
   "duration": 4118.988464,
   "end_time": "2023-01-23T21:12:59.984346",
   "environment_variables": {},
   "exception": null,
   "input_path": "__notebook__.ipynb",
   "output_path": "__notebook__.ipynb",
   "parameters": {},
   "start_time": "2023-01-23T20:04:20.995882",
   "version": "2.3.4"
  }
 },
 "nbformat": 4,
 "nbformat_minor": 5
}
