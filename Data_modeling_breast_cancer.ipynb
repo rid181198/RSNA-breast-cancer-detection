{
 "cells": [
  {
   "cell_type": "code",
   "execution_count": 1,
   "id": "d1558d41",
   "metadata": {
    "execution": {
     "iopub.execute_input": "2023-01-26T00:43:46.527846Z",
     "iopub.status.busy": "2023-01-26T00:43:46.527435Z",
     "iopub.status.idle": "2023-01-26T00:43:53.424556Z",
     "shell.execute_reply": "2023-01-26T00:43:53.423364Z"
    },
    "papermill": {
     "duration": 6.908865,
     "end_time": "2023-01-26T00:43:53.427505",
     "exception": false,
     "start_time": "2023-01-26T00:43:46.518640",
     "status": "completed"
    },
    "tags": []
   },
   "outputs": [],
   "source": [
    "import numpy as np\n",
    "import pandas as pd\n",
    "import matplotlib.pyplot as plt\n",
    "import seaborn as sns\n",
    "import pickle\n",
    "import tensorflow as tf\n",
    "import tensorflow_io as tfio\n",
    "import os\n",
    "from tqdm import tqdm\n",
    "import cv2\n",
    "from PIL import Image\n",
    "from joblib import Parallel, delayed\n",
    "import gc\n",
    "from PIL import Image as im\n",
    "import random"
   ]
  },
  {
   "cell_type": "code",
   "execution_count": 2,
   "id": "cdb54243",
   "metadata": {
    "execution": {
     "iopub.execute_input": "2023-01-26T00:43:53.442914Z",
     "iopub.status.busy": "2023-01-26T00:43:53.442252Z",
     "iopub.status.idle": "2023-01-26T00:44:08.227048Z",
     "shell.execute_reply": "2023-01-26T00:44:08.225894Z"
    },
    "papermill": {
     "duration": 14.795289,
     "end_time": "2023-01-26T00:44:08.229727",
     "exception": false,
     "start_time": "2023-01-26T00:43:53.434438",
     "status": "completed"
    },
    "tags": []
   },
   "outputs": [
    {
     "name": "stdout",
     "output_type": "stream",
     "text": [
      "Collecting dicomsdl\r\n",
      "  Downloading dicomsdl-0.109.1-cp37-cp37m-manylinux_2_12_x86_64.manylinux2010_x86_64.whl (1.4 MB)\r\n",
      "\u001b[2K     \u001b[90m━━━━━━━━━━━━━━━━━━━━━━━━━━━━━━━━━━━━━━━━\u001b[0m \u001b[32m1.4/1.4 MB\u001b[0m \u001b[31m1.5 MB/s\u001b[0m eta \u001b[36m0:00:00\u001b[0m\r\n",
      "\u001b[?25hInstalling collected packages: dicomsdl\r\n",
      "Successfully installed dicomsdl-0.109.1\r\n",
      "\u001b[33mWARNING: Running pip as the 'root' user can result in broken permissions and conflicting behaviour with the system package manager. It is recommended to use a virtual environment instead: https://pip.pypa.io/warnings/venv\u001b[0m\u001b[33m\r\n",
      "\u001b[0m"
     ]
    }
   ],
   "source": [
    "import sys\n",
    "!{sys.executable} -m pip install dicomsdl\n",
    "#!pip install /kaggle/input/rsnapacks/dicomsdl-0.109.1-cp36-cp36m-manylinux_2_12_x86_64.manylinux2010_x86_64.whl\n",
    "import numpy as np\n",
    "import pandas as pd\n",
    "import matplotlib.pyplot as plt\n",
    "import seaborn as sns\n",
    "import pickle\n",
    "#import pydicom as dicom\n",
    "import dicomsdl as dicom\n",
    "import tensorflow as tf\n",
    "import tensorflow_io as tfio\n",
    "from PIL import Image as im\n",
    "import os\n",
    "from tqdm import tqdm\n",
    "import cv2\n",
    "from PIL import Image\n",
    "from joblib import Parallel, delayed\n",
    "import gc\n",
    "import random"
   ]
  },
  {
   "cell_type": "code",
   "execution_count": 3,
   "id": "34b3481a",
   "metadata": {
    "execution": {
     "iopub.execute_input": "2023-01-26T00:44:08.249133Z",
     "iopub.status.busy": "2023-01-26T00:44:08.248692Z",
     "iopub.status.idle": "2023-01-26T00:44:08.270631Z",
     "shell.execute_reply": "2023-01-26T00:44:08.269539Z"
    },
    "papermill": {
     "duration": 0.033929,
     "end_time": "2023-01-26T00:44:08.272814",
     "exception": false,
     "start_time": "2023-01-26T00:44:08.238885",
     "status": "completed"
    },
    "tags": []
   },
   "outputs": [],
   "source": [
    "datasetPath = '/kaggle/input/rsna-breast-cancer-detection/train.csv'\n",
    "imgPath = '/kaggle/input/rsna-breast-cancer-detection/train_images/'\n",
    "\n",
    "def crop(sideName, imgName):\n",
    "    \"\"\"\n",
    "    This function is used to crop the breast images. It takes two arguments.\n",
    "    \n",
    "    Input:-\n",
    "    :sideName = Laterality of breast if it is right or left\n",
    "    :imgName = Image pixel data of the DCM images\n",
    "    \n",
    "    Output:-\n",
    "    :return = Output after cropping the image.\n",
    "    \n",
    "    \"\"\"\n",
    "    if sideName == 'L':\n",
    "        colind=[]\n",
    "        for r,row in enumerate(imgName):\n",
    "            for c,col in enumerate(row):\n",
    "                if col==0:\n",
    "                    colind.append(c)\n",
    "                    break\n",
    "        crop_size = max(colind)\n",
    "        imgName = imgName[0:512,0:crop_size]\n",
    "        imgName = cv2.resize(imgName,(128,128))\n",
    "        \n",
    "    if sideName == 'R':\n",
    "        colind=[]\n",
    "        for r,row in enumerate(imgName):\n",
    "            for c,col in enumerate(row):\n",
    "                if col!=0:\n",
    "                    colind.append(c)\n",
    "                    break\n",
    "        crop_size = min(colind)\n",
    "        imgName = imgName[0:512,crop_size:512]\n",
    "        imgName = cv2.resize(imgName,(128,128))\n",
    "    \n",
    "    return imgName    \n",
    "\n",
    "    gc.collect()\n",
    "    \n",
    "def crop_reverse(sideName, imgName):\n",
    "    \n",
    "    \"\"\"\n",
    "    This function is used to crop the breast images but in the reverse order.\n",
    "    Because the laterality is defined wrongly for some images. It takes two arguments.\n",
    "    \n",
    "    Input:-\n",
    "    :sideName = Laterality of breast if it is right or left\n",
    "    :imgName = Image pixel data of the DCM images\n",
    "    \n",
    "    Output:-\n",
    "    :return = Output after cropping the image.\n",
    "    \n",
    "    \"\"\"\n",
    "    \n",
    "    if sideName == 'R':\n",
    "        colind=[]\n",
    "        for r,row in enumerate(imgName):\n",
    "            for c,col in enumerate(row):\n",
    "                if col==0:\n",
    "                    colind.append(c)\n",
    "                    break\n",
    "        crop_size = max(colind)\n",
    "        imgName = imgName[0:512,0:crop_size]\n",
    "        imgName = cv2.resize(imgName,(128,128))\n",
    "        \n",
    "    if sideName == 'L':\n",
    "        colind=[]\n",
    "        for r,row in enumerate(imgName):\n",
    "            for c,col in enumerate(row):\n",
    "                if col!=0:\n",
    "                    colind.append(c)\n",
    "                    break\n",
    "        crop_size = min(colind)\n",
    "        imgName = imgName[0:512,crop_size:512]\n",
    "        imgName = cv2.resize(imgName,(128,128))\n",
    "    \n",
    "    return imgName    \n",
    "\n",
    "    gc.collect()\n",
    "    \n",
    "\n",
    "def img_process(i,filename,sides):\n",
    "    \n",
    "    \"\"\"\n",
    "    This function is used to process the images which will be used for the training/test dataset. It takes three arguments.\n",
    "    \n",
    "    Input:-\n",
    "    :i = Index of the image in the dataframe\n",
    "    :filename = Path of the image\n",
    "    :sides = List of all images' laterality\n",
    "    \n",
    "    Output:-\n",
    "    :return = Output after cropping the image.\n",
    "    \n",
    "    \"\"\"\n",
    "    \n",
    "    \n",
    "    #ds = dicom.dcmread(filename)\n",
    "    dsraw = dicom.open(filename)\n",
    "    ds = dsraw.pixelData()\n",
    "    \n",
    "    ds = (ds - ds.min()) / (ds.max() - ds.min())\n",
    "    if dsraw.PhotometricInterpretation == \"MONOCHROME1\":  \n",
    "        ds = 1 - ds\n",
    "    ds = (ds * 255).astype(np.uint8)\n",
    "\n",
    "    \n",
    "    #ds = cv2.normalize(ds, None, 0, 1.0, cv2.NORM_MINMAX, dtype=cv2.CV_32F)\n",
    "    ds = cv2.resize(ds,(512,512))\n",
    "    \n",
    "    #ds = np.where(ds >= 0.999, 0,ds)\n",
    "    \n",
    "    try:\n",
    "        ds = np.array(crop(sides[i], ds))   \n",
    "    except:\n",
    "        ds = np.array(crop_reverse(sides[i], ds))\n",
    "    \n",
    "\n",
    "    #train_data.loc[i,'img_data'] = [img_fin]\n",
    "    #train_data.to_csv('/kaggle/working/training_img_data.csv') \n",
    "    return ds\n",
    "    gc.collect()\n",
    "\n",
    "def dcmToPix(datasetPath, imgPath):\n",
    "    \n",
    "    \"\"\"\n",
    "    This function is used to process all the images which will be used for the training/test dataset. It takes two arguments.\n",
    "    \n",
    "    Input:-\n",
    "    :datasetPath = Path of the cancer dataset\n",
    "    :imgPath = Path of the image dataset\n",
    "   \n",
    "    Output:-\n",
    "    :return = Array of all the processed images\n",
    "    \n",
    "    \"\"\"\n",
    "    \n",
    "    \n",
    "    dataset = pd.read_csv(datasetPath)\n",
    "    \n",
    "    patient_ids = dataset['patient_id']\n",
    "    image_ids = dataset['image_id']\n",
    "    sides  = dataset['laterality']\n",
    "\n",
    "    imgData = []\n",
    "\n",
    "    for pi, ii, leng in zip(patient_ids, image_ids, range(len(patient_ids))):\n",
    "        imgData.append(imgPath + str(pi) + '/' + str(ii) + '.dcm')\n",
    "\n",
    "    dataset['img_data'] = \" \"\n",
    "    \n",
    "    result = Parallel(n_jobs=128)(\\\n",
    "    delayed(img_process)(i, fname, sides) for i, fname in zip(range(len(imgData)),tqdm(imgData))\\\n",
    "    )\n",
    "    \n",
    "    dataset['img_data'] = result\n",
    "    dataset.to_pickle('imgData.pkl' )\n",
    "    \n",
    "    return result\n",
    "    "
   ]
  },
  {
   "cell_type": "code",
   "execution_count": 4,
   "id": "89565731",
   "metadata": {
    "_cell_guid": "b1076dfc-b9ad-4769-8c92-a6c4dae69d19",
    "_uuid": "8f2839f25d086af736a60e9eeb907d3b93b6e0e5",
    "execution": {
     "iopub.execute_input": "2023-01-26T00:44:08.291781Z",
     "iopub.status.busy": "2023-01-26T00:44:08.291369Z",
     "iopub.status.idle": "2023-01-26T00:44:15.578026Z",
     "shell.execute_reply": "2023-01-26T00:44:15.576909Z"
    },
    "papermill": {
     "duration": 7.299296,
     "end_time": "2023-01-26T00:44:15.580733",
     "exception": false,
     "start_time": "2023-01-26T00:44:08.281437",
     "status": "completed"
    },
    "tags": []
   },
   "outputs": [],
   "source": [
    "with (open('/kaggle/input/output/imgData.pkl', \"rb\")) as openfile:\n",
    "     imgData = pickle.load(openfile)"
   ]
  },
  {
   "cell_type": "code",
   "execution_count": 5,
   "id": "5b3d6e4c",
   "metadata": {
    "execution": {
     "iopub.execute_input": "2023-01-26T00:44:15.598010Z",
     "iopub.status.busy": "2023-01-26T00:44:15.597645Z",
     "iopub.status.idle": "2023-01-26T00:44:15.602258Z",
     "shell.execute_reply": "2023-01-26T00:44:15.601008Z"
    },
    "papermill": {
     "duration": 0.015927,
     "end_time": "2023-01-26T00:44:15.604597",
     "exception": false,
     "start_time": "2023-01-26T00:44:15.588670",
     "status": "completed"
    },
    "tags": []
   },
   "outputs": [],
   "source": [
    "#datacancer = pd.read_csv(datasetPath)\n",
    "#imgDataFrame = {'cancer':datacancer['cancer'][:50], 'img_data':imgData}\n",
    "#imgData2 = pd.DataFrame(imgDataFrame)\n",
    "\n",
    "#imgData=imgData2"
   ]
  },
  {
   "cell_type": "code",
   "execution_count": 6,
   "id": "ff94b89c",
   "metadata": {
    "execution": {
     "iopub.execute_input": "2023-01-26T00:44:15.621771Z",
     "iopub.status.busy": "2023-01-26T00:44:15.621386Z",
     "iopub.status.idle": "2023-01-26T00:44:15.719904Z",
     "shell.execute_reply": "2023-01-26T00:44:15.718797Z"
    },
    "papermill": {
     "duration": 0.110264,
     "end_time": "2023-01-26T00:44:15.722655",
     "exception": false,
     "start_time": "2023-01-26T00:44:15.612391",
     "status": "completed"
    },
    "tags": []
   },
   "outputs": [],
   "source": [
    "imgdata_pos = imgData[imgData['cancer'] == 1]\n",
    "imgdata_neg = imgData[imgData['cancer'] == 0]\n",
    "\n",
    "imgdata_pos = imgdata_pos.sample(frac = 1)\n",
    "imgdata_neg = imgdata_neg.sample(frac = 1)\n",
    "\n",
    "imgdata_neg = imgdata_neg.sample(frac= 0.8)\n",
    "\n",
    "frames = 5*[imgdata_pos]\n",
    "frames.append(imgdata_neg)\n",
    "imgdata_shuff = pd.concat(frames)\n",
    "imgdata_shuff = imgdata_shuff.sample(frac=1)"
   ]
  },
  {
   "cell_type": "code",
   "execution_count": 7,
   "id": "6e3df810",
   "metadata": {
    "execution": {
     "iopub.execute_input": "2023-01-26T00:44:15.740915Z",
     "iopub.status.busy": "2023-01-26T00:44:15.740502Z",
     "iopub.status.idle": "2023-01-26T00:44:15.751185Z",
     "shell.execute_reply": "2023-01-26T00:44:15.750012Z"
    },
    "papermill": {
     "duration": 0.022059,
     "end_time": "2023-01-26T00:44:15.753955",
     "exception": false,
     "start_time": "2023-01-26T00:44:15.731896",
     "status": "completed"
    },
    "tags": []
   },
   "outputs": [
    {
     "name": "stdout",
     "output_type": "stream",
     "text": [
      "0    42838\n",
      "1     5790\n",
      "Name: cancer, dtype: int64\n"
     ]
    }
   ],
   "source": [
    "print(imgdata_shuff['cancer'].value_counts())"
   ]
  },
  {
   "cell_type": "code",
   "execution_count": 8,
   "id": "4f608378",
   "metadata": {
    "execution": {
     "iopub.execute_input": "2023-01-26T00:44:15.770538Z",
     "iopub.status.busy": "2023-01-26T00:44:15.769792Z",
     "iopub.status.idle": "2023-01-26T00:44:15.775879Z",
     "shell.execute_reply": "2023-01-26T00:44:15.774785Z"
    },
    "papermill": {
     "duration": 0.016745,
     "end_time": "2023-01-26T00:44:15.778229",
     "exception": false,
     "start_time": "2023-01-26T00:44:15.761484",
     "status": "completed"
    },
    "tags": []
   },
   "outputs": [],
   "source": [
    "def random_rotate(imgData):\n",
    "    #thresh = 0.15\n",
    "    \n",
    "    imgData = imgData.reshape(128,128)\n",
    "    \n",
    "    #imgData = np.clip(imgData,thresh,1)\n",
    "    imgData = imgData[25:105,25:105]\n",
    "   \n",
    "    #imgData = im.fromarray(imgData)\n",
    "    #imgData = np.asarray(imgData.rotate(random.randint(-30, 30)))\n",
    "    return imgData"
   ]
  },
  {
   "cell_type": "code",
   "execution_count": 9,
   "id": "fd2ccd60",
   "metadata": {
    "execution": {
     "iopub.execute_input": "2023-01-26T00:44:15.795368Z",
     "iopub.status.busy": "2023-01-26T00:44:15.794361Z",
     "iopub.status.idle": "2023-01-26T00:44:15.918228Z",
     "shell.execute_reply": "2023-01-26T00:44:15.916969Z"
    },
    "papermill": {
     "duration": 0.134745,
     "end_time": "2023-01-26T00:44:15.920562",
     "exception": false,
     "start_time": "2023-01-26T00:44:15.785817",
     "status": "completed"
    },
    "tags": []
   },
   "outputs": [
    {
     "name": "stderr",
     "output_type": "stream",
     "text": [
      "100%|██████████| 48628/48628 [00:00<00:00, 486001.21it/s]\n"
     ]
    }
   ],
   "source": [
    "imgDataList=[]\n",
    "for j in tqdm(imgdata_shuff['img_data']):\n",
    "    imgDataList.append(random_rotate(j))\n",
    "imgdata_shuff['img_data'] = imgDataList"
   ]
  },
  {
   "cell_type": "code",
   "execution_count": 10,
   "id": "d5e89f82",
   "metadata": {
    "execution": {
     "iopub.execute_input": "2023-01-26T00:44:15.937184Z",
     "iopub.status.busy": "2023-01-26T00:44:15.936742Z",
     "iopub.status.idle": "2023-01-26T00:44:17.092796Z",
     "shell.execute_reply": "2023-01-26T00:44:17.091961Z"
    },
    "papermill": {
     "duration": 1.16722,
     "end_time": "2023-01-26T00:44:17.095224",
     "exception": false,
     "start_time": "2023-01-26T00:44:15.928004",
     "status": "completed"
    },
    "tags": []
   },
   "outputs": [],
   "source": [
    "from sklearn.model_selection import train_test_split\n",
    "train,test = train_test_split(imgdata_shuff, test_size=0.3, random_state=42, shuffle=True)\n",
    "\n",
    "\n",
    "\n",
    "train_target = np.array(train['cancer'])\n",
    "train_features=[]\n",
    "for i in train['img_data']:\n",
    "    i=np.array(i)\n",
    "    train_features.append(cv2.cvtColor(i,cv2.COLOR_GRAY2RGB))\n",
    "train_features=np.array(train_features)\n",
    "\n",
    "\n",
    "\n",
    "#featureTransform = train_features.reshape(len(train_features), 6400)\n",
    "\n",
    "#from sklearn.preprocessing import StandardScaler\n",
    "#scaler = StandardScaler()\n",
    "#featureTransform = scaler.fit_transform(featureTransform)\n",
    "#norm_features= []\n",
    "#for i in range(len(train_features)):\n",
    "#        norm_features.append(scaler.fit_transform(train_features[i]))\n",
    "#train_features=np.array(norm_features)\n",
    "\n",
    "\n",
    "\n",
    "\n",
    "#backTransform = featureTransform.reshape(len(train_features),80,80)\n",
    "#train_features = backTransform.reshape(len(train_features),80,80,1)\n",
    "train_features = train_features.reshape(len(train_features),80,80,3)\n",
    "\n",
    "\n",
    "\n"
   ]
  },
  {
   "cell_type": "code",
   "execution_count": 11,
   "id": "04c34d80",
   "metadata": {
    "execution": {
     "iopub.execute_input": "2023-01-26T00:44:17.112536Z",
     "iopub.status.busy": "2023-01-26T00:44:17.111965Z",
     "iopub.status.idle": "2023-01-26T00:44:17.120590Z",
     "shell.execute_reply": "2023-01-26T00:44:17.119896Z"
    },
    "papermill": {
     "duration": 0.019401,
     "end_time": "2023-01-26T00:44:17.122655",
     "exception": false,
     "start_time": "2023-01-26T00:44:17.103254",
     "status": "completed"
    },
    "tags": []
   },
   "outputs": [],
   "source": [
    "from keras.models import Sequential\n",
    "from keras.layers import LeakyReLU\n",
    "from keras.layers import Dense, Conv2D, Flatten,MaxPooling2D, Dropout, GlobalMaxPooling2D\n",
    "#model = Sequential()\n",
    "#model.add(Conv2D(64, 3, activation = \"relu\", input_shape = (80,80,1)))\n",
    "#model.add(MaxPooling2D())\n",
    "#model.add(LeakyReLU(alpha=0.1))\n",
    "#model.add(Dropout(0.3))\n",
    "#model.add(Conv2D(32, 3, activation = \"relu\"))\n",
    "#model.add(MaxPooling2D())\n",
    "#model.add(LeakyReLU(alpha=0.1))\n",
    "#model.add(Conv2D(16, 3, activation = \"relu\"))\n",
    "#model.add(MaxPooling2D())\n",
    "#model.add(Dropout(0.3))\n",
    "#model.add(Flatten())\n",
    "#model.add(Dense(128, activation = 'relu')) \n",
    "#model.add(LeakyReLU(alpha=0.1))\n",
    "#model.add(Dropout(0.3))\n",
    "#model.add(Dense(1, activation = 'sigmoid'))\n",
    "\n",
    "\n",
    "\n",
    "\n",
    "from keras import backend as K\n",
    "def recall_m(y_true, y_pred):\n",
    "    true_positives = K.sum(K.round(K.clip(y_true * y_pred, 0, 1)))\n",
    "    possible_positives = K.sum(K.round(K.clip(y_true, 0, 1)))\n",
    "    recall = true_positives / (possible_positives )\n",
    "    return recall\n",
    "\n",
    "def precision_m(y_true, y_pred):\n",
    "    true_positives = K.sum(K.round(K.clip(y_true * y_pred, 0, 1)))\n",
    "    predicted_positives = K.sum(K.round(K.clip(y_pred, 0, 1)))\n",
    "    precision = true_positives / (predicted_positives )\n",
    "    return precision\n",
    "\n",
    "def f1_m(y_true, y_pred):\n",
    "    precision = precision_m(y_true, y_pred)\n",
    "    recall = recall_m(y_true, y_pred)\n",
    "    return 2*((precision*recall)/(precision+recall))\n",
    "\n",
    "\n",
    "\n",
    "\n",
    "\n",
    "#loss = tf.keras.losses.BinaryFocalCrossentropy(\\\n",
    "#    apply_class_balancing=True, gamma=5, from_logits=True,\\\n",
    "#    reduction=tf.keras.losses.Reduction.NONE)\n",
    "\n",
    "\n",
    "#model.compile(optimizer =tf.keras.optimizers.Adam(learning_rate=0.0001),\\\n",
    "#              loss= 'binary_crossentropy', metrics=['accuracy'])\n",
    "\n"
   ]
  },
  {
   "cell_type": "code",
   "execution_count": 12,
   "id": "62e3d9a7",
   "metadata": {
    "execution": {
     "iopub.execute_input": "2023-01-26T00:44:17.139932Z",
     "iopub.status.busy": "2023-01-26T00:44:17.139372Z",
     "iopub.status.idle": "2023-01-26T00:44:17.142824Z",
     "shell.execute_reply": "2023-01-26T00:44:17.142106Z"
    },
    "papermill": {
     "duration": 0.014564,
     "end_time": "2023-01-26T00:44:17.144751",
     "exception": false,
     "start_time": "2023-01-26T00:44:17.130187",
     "status": "completed"
    },
    "tags": []
   },
   "outputs": [],
   "source": [
    "#from tensorflow import keras\n",
    "#model = keras.models.load_model(\"/kaggle/input/pre-trained-model-of-breast-cancer/trained_model_breast_cancer3.h5\")\n"
   ]
  },
  {
   "cell_type": "code",
   "execution_count": 13,
   "id": "f2a687d6",
   "metadata": {
    "execution": {
     "iopub.execute_input": "2023-01-26T00:44:17.161930Z",
     "iopub.status.busy": "2023-01-26T00:44:17.161374Z",
     "iopub.status.idle": "2023-01-26T08:15:01.406115Z",
     "shell.execute_reply": "2023-01-26T08:15:01.404887Z"
    },
    "papermill": {
     "duration": 27044.256198,
     "end_time": "2023-01-26T08:15:01.408673",
     "exception": false,
     "start_time": "2023-01-26T00:44:17.152475",
     "status": "completed"
    },
    "tags": []
   },
   "outputs": [
    {
     "name": "stderr",
     "output_type": "stream",
     "text": [
      "2023-01-26 00:44:17.220582: I tensorflow/core/common_runtime/process_util.cc:146] Creating new thread pool with default inter op setting: 2. Tune using inter_op_parallelism_threads for best performance.\n"
     ]
    },
    {
     "name": "stdout",
     "output_type": "stream",
     "text": [
      "Downloading data from https://storage.googleapis.com/keras-applications/efficientnetb2_notop.h5\n",
      "31793152/31790344 [==============================] - 2s 0us/step\n",
      "31801344/31790344 [==============================] - 2s 0us/step\n"
     ]
    },
    {
     "name": "stderr",
     "output_type": "stream",
     "text": [
      "2023-01-26 00:44:24.130289: I tensorflow/compiler/mlir/mlir_graph_optimization_pass.cc:185] None of the MLIR Optimization Passes are enabled (registered 2)\n"
     ]
    },
    {
     "name": "stdout",
     "output_type": "stream",
     "text": [
      "Epoch 1/50\n",
      "373/373 [==============================] - 544s 1s/step - loss: 1.2906 - accuracy: 0.5945 - val_loss: 0.5645 - val_accuracy: 0.7127\n",
      "Epoch 2/50\n",
      "373/373 [==============================] - 528s 1s/step - loss: 0.8649 - accuracy: 0.7585 - val_loss: 0.4044 - val_accuracy: 0.8173\n",
      "Epoch 3/50\n",
      "373/373 [==============================] - 532s 1s/step - loss: 0.6182 - accuracy: 0.8476 - val_loss: 0.3328 - val_accuracy: 0.8527\n",
      "Epoch 4/50\n",
      "373/373 [==============================] - 532s 1s/step - loss: 0.4292 - accuracy: 0.8958 - val_loss: 0.2485 - val_accuracy: 0.8989\n",
      "Epoch 5/50\n",
      "373/373 [==============================] - 535s 1s/step - loss: 0.3131 - accuracy: 0.9279 - val_loss: 0.2981 - val_accuracy: 0.8804\n",
      "Epoch 6/50\n",
      "373/373 [==============================] - 533s 1s/step - loss: 0.2561 - accuracy: 0.9423 - val_loss: 0.1823 - val_accuracy: 0.9360\n",
      "Epoch 7/50\n",
      "373/373 [==============================] - 533s 1s/step - loss: 0.1955 - accuracy: 0.9561 - val_loss: 0.1500 - val_accuracy: 0.9537\n",
      "Epoch 8/50\n",
      "373/373 [==============================] - 534s 1s/step - loss: 0.1554 - accuracy: 0.9663 - val_loss: 0.1718 - val_accuracy: 0.9452\n",
      "Epoch 9/50\n",
      "373/373 [==============================] - 534s 1s/step - loss: 0.1365 - accuracy: 0.9698 - val_loss: 0.1845 - val_accuracy: 0.9393\n",
      "Epoch 10/50\n",
      "373/373 [==============================] - 535s 1s/step - loss: 0.1324 - accuracy: 0.9713 - val_loss: 0.1557 - val_accuracy: 0.9492\n",
      "Epoch 11/50\n",
      "373/373 [==============================] - 539s 1s/step - loss: 0.1249 - accuracy: 0.9726 - val_loss: 0.1899 - val_accuracy: 0.9406\n",
      "Epoch 12/50\n",
      "373/373 [==============================] - 536s 1s/step - loss: 0.0929 - accuracy: 0.9789 - val_loss: 0.1674 - val_accuracy: 0.9574\n",
      "Epoch 13/50\n",
      "373/373 [==============================] - 533s 1s/step - loss: 0.0910 - accuracy: 0.9809 - val_loss: 0.2210 - val_accuracy: 0.9360\n",
      "Epoch 14/50\n",
      "373/373 [==============================] - 533s 1s/step - loss: 0.0822 - accuracy: 0.9824 - val_loss: 0.1682 - val_accuracy: 0.9557\n",
      "Epoch 15/50\n",
      "373/373 [==============================] - 532s 1s/step - loss: 0.0869 - accuracy: 0.9820 - val_loss: 0.1886 - val_accuracy: 0.9474\n",
      "Epoch 16/50\n",
      "373/373 [==============================] - 532s 1s/step - loss: 0.0936 - accuracy: 0.9806 - val_loss: 0.1420 - val_accuracy: 0.9663\n",
      "Epoch 17/50\n",
      "373/373 [==============================] - 538s 1s/step - loss: 0.0657 - accuracy: 0.9859 - val_loss: 0.2043 - val_accuracy: 0.9450\n",
      "Epoch 18/50\n",
      "373/373 [==============================] - 538s 1s/step - loss: 0.0523 - accuracy: 0.9875 - val_loss: 0.1736 - val_accuracy: 0.9641\n",
      "Epoch 19/50\n",
      "373/373 [==============================] - 537s 1s/step - loss: 0.0642 - accuracy: 0.9852 - val_loss: 0.1574 - val_accuracy: 0.9667\n",
      "Epoch 20/50\n",
      "373/373 [==============================] - 541s 1s/step - loss: 0.0834 - accuracy: 0.9827 - val_loss: 0.1643 - val_accuracy: 0.9580\n",
      "Epoch 21/50\n",
      "373/373 [==============================] - 540s 1s/step - loss: 0.0689 - accuracy: 0.9856 - val_loss: 0.1910 - val_accuracy: 0.9475\n",
      "Epoch 22/50\n",
      "373/373 [==============================] - 535s 1s/step - loss: 0.0512 - accuracy: 0.9884 - val_loss: 0.1460 - val_accuracy: 0.9686\n",
      "Epoch 23/50\n",
      "373/373 [==============================] - 534s 1s/step - loss: 0.0481 - accuracy: 0.9895 - val_loss: 0.1689 - val_accuracy: 0.9597\n",
      "Epoch 24/50\n",
      "373/373 [==============================] - 539s 1s/step - loss: 0.0302 - accuracy: 0.9932 - val_loss: 0.1542 - val_accuracy: 0.9743\n",
      "Epoch 25/50\n",
      "373/373 [==============================] - 541s 1s/step - loss: 0.0498 - accuracy: 0.9887 - val_loss: 0.1659 - val_accuracy: 0.9622\n",
      "Epoch 26/50\n",
      "373/373 [==============================] - 544s 1s/step - loss: 0.0611 - accuracy: 0.9868 - val_loss: 0.1816 - val_accuracy: 0.9581\n",
      "Epoch 27/50\n",
      "373/373 [==============================] - 544s 1s/step - loss: 0.0647 - accuracy: 0.9853 - val_loss: 0.1675 - val_accuracy: 0.9661\n",
      "Epoch 28/50\n",
      "373/373 [==============================] - 544s 1s/step - loss: 0.0374 - accuracy: 0.9917 - val_loss: 0.1520 - val_accuracy: 0.9733\n",
      "Epoch 29/50\n",
      "373/373 [==============================] - 541s 1s/step - loss: 0.0580 - accuracy: 0.9886 - val_loss: 0.1499 - val_accuracy: 0.9703\n",
      "Epoch 30/50\n",
      "373/373 [==============================] - 545s 1s/step - loss: 0.0357 - accuracy: 0.9923 - val_loss: 0.1704 - val_accuracy: 0.9660\n",
      "Epoch 31/50\n",
      "373/373 [==============================] - 541s 1s/step - loss: 0.0687 - accuracy: 0.9858 - val_loss: 0.1911 - val_accuracy: 0.9569\n",
      "Epoch 32/50\n",
      "373/373 [==============================] - 540s 1s/step - loss: 0.0378 - accuracy: 0.9923 - val_loss: 0.2217 - val_accuracy: 0.9473\n",
      "Epoch 33/50\n",
      "373/373 [==============================] - 545s 1s/step - loss: 0.0374 - accuracy: 0.9922 - val_loss: 0.1899 - val_accuracy: 0.9652\n",
      "Epoch 34/50\n",
      "373/373 [==============================] - 545s 1s/step - loss: 0.0231 - accuracy: 0.9950 - val_loss: 0.1889 - val_accuracy: 0.9665\n",
      "Epoch 35/50\n",
      "373/373 [==============================] - 547s 1s/step - loss: 0.0511 - accuracy: 0.9898 - val_loss: 0.1973 - val_accuracy: 0.9576\n",
      "Epoch 36/50\n",
      "373/373 [==============================] - 546s 1s/step - loss: 0.0479 - accuracy: 0.9893 - val_loss: 0.1964 - val_accuracy: 0.9574\n",
      "Epoch 37/50\n",
      "373/373 [==============================] - 550s 1s/step - loss: 0.0382 - accuracy: 0.9919 - val_loss: 0.1773 - val_accuracy: 0.9657\n",
      "Epoch 38/50\n",
      "373/373 [==============================] - 549s 1s/step - loss: 0.0198 - accuracy: 0.9956 - val_loss: 0.1823 - val_accuracy: 0.9705\n",
      "Epoch 39/50\n",
      "373/373 [==============================] - 549s 1s/step - loss: 0.0313 - accuracy: 0.9938 - val_loss: 0.2768 - val_accuracy: 0.9417\n",
      "Epoch 40/50\n",
      "373/373 [==============================] - 550s 1s/step - loss: 0.0331 - accuracy: 0.9926 - val_loss: 0.1828 - val_accuracy: 0.9699\n",
      "Epoch 41/50\n",
      "373/373 [==============================] - 549s 1s/step - loss: 0.0411 - accuracy: 0.9909 - val_loss: 0.1925 - val_accuracy: 0.9622\n",
      "Epoch 42/50\n",
      "373/373 [==============================] - 541s 1s/step - loss: 0.0252 - accuracy: 0.9935 - val_loss: 0.2244 - val_accuracy: 0.9579\n",
      "Epoch 43/50\n",
      "373/373 [==============================] - 545s 1s/step - loss: 0.0351 - accuracy: 0.9918 - val_loss: 0.1918 - val_accuracy: 0.9614\n",
      "Epoch 44/50\n",
      "373/373 [==============================] - 547s 1s/step - loss: 0.0379 - accuracy: 0.9919 - val_loss: 0.1715 - val_accuracy: 0.9721\n",
      "Epoch 45/50\n",
      "373/373 [==============================] - 547s 1s/step - loss: 0.0270 - accuracy: 0.9942 - val_loss: 0.1665 - val_accuracy: 0.9747\n",
      "Epoch 46/50\n",
      "373/373 [==============================] - 547s 1s/step - loss: 0.0340 - accuracy: 0.9931 - val_loss: 0.2203 - val_accuracy: 0.9552\n",
      "Epoch 47/50\n",
      "373/373 [==============================] - 547s 1s/step - loss: 0.0371 - accuracy: 0.9927 - val_loss: 0.1708 - val_accuracy: 0.9732\n",
      "Epoch 48/50\n",
      "373/373 [==============================] - 546s 1s/step - loss: 0.0216 - accuracy: 0.9951 - val_loss: 0.2131 - val_accuracy: 0.9570\n",
      "Epoch 49/50\n",
      "373/373 [==============================] - 546s 1s/step - loss: 0.0294 - accuracy: 0.9933 - val_loss: 0.1778 - val_accuracy: 0.9703\n",
      "Epoch 50/50\n",
      "373/373 [==============================] - 547s 1s/step - loss: 0.0369 - accuracy: 0.9911 - val_loss: 0.1736 - val_accuracy: 0.9697\n"
     ]
    },
    {
     "data": {
      "text/plain": [
       "<keras.callbacks.History at 0x7fbe84e94f90>"
      ]
     },
     "execution_count": 13,
     "metadata": {},
     "output_type": "execute_result"
    }
   ],
   "source": [
    "from tensorflow.keras.applications import EfficientNetB2\n",
    "from tensorflow.keras import layers\n",
    "from keras.models import Sequential\n",
    "from keras.layers import LeakyReLU\n",
    "from keras.layers import Dense, Conv2D, Flatten,MaxPooling2D, Dropout, GlobalMaxPooling2D\n",
    "\n",
    "\n",
    "efficient_net = EfficientNetB2(\\\n",
    "    weights='imagenet',\\\n",
    "    input_shape=(80,80,3),\\\n",
    "    include_top=False,\\\n",
    "    pooling='max'\\\n",
    ")\n",
    "\n",
    "model = Sequential()\n",
    "model.add(efficient_net)\n",
    "model.add(Dense(units = 120, activation='relu'))\n",
    "#model.add(Dense(units = 120, activation = 'relu'))\n",
    "model.add(Dense(units = 1, activation='sigmoid'))\n",
    "\n",
    "model.compile(optimizer =tf.keras.optimizers.Adam(learning_rate=0.0001),\\\n",
    "              loss= 'binary_crossentropy', metrics=['accuracy'])\n",
    "\n",
    "weights = {0:1, 1:8}\n",
    "model.fit(train_features, train_target,  class_weight=weights,validation_split=0.3,batch_size = 64,epochs=50)\n",
    "\n",
    "\n"
   ]
  },
  {
   "cell_type": "code",
   "execution_count": 14,
   "id": "c82f991c",
   "metadata": {
    "execution": {
     "iopub.execute_input": "2023-01-26T08:15:03.836071Z",
     "iopub.status.busy": "2023-01-26T08:15:03.835013Z",
     "iopub.status.idle": "2023-01-26T08:15:04.648607Z",
     "shell.execute_reply": "2023-01-26T08:15:04.647568Z"
    },
    "papermill": {
     "duration": 1.971028,
     "end_time": "2023-01-26T08:15:04.651250",
     "exception": false,
     "start_time": "2023-01-26T08:15:02.680222",
     "status": "completed"
    },
    "tags": []
   },
   "outputs": [
    {
     "name": "stderr",
     "output_type": "stream",
     "text": [
      "/opt/conda/lib/python3.7/site-packages/keras/utils/generic_utils.py:497: CustomMaskWarning: Custom mask layers require a config and must override get_config. When loading, the custom mask layer must be passed to the custom_objects argument.\n",
      "  category=CustomMaskWarning)\n"
     ]
    }
   ],
   "source": [
    "model.save(\"/kaggle/working/trained_model_breast_cancer3.h5\")"
   ]
  },
  {
   "cell_type": "code",
   "execution_count": 15,
   "id": "13c476da",
   "metadata": {
    "execution": {
     "iopub.execute_input": "2023-01-26T08:15:07.076663Z",
     "iopub.status.busy": "2023-01-26T08:15:07.075927Z",
     "iopub.status.idle": "2023-01-26T08:15:07.079865Z",
     "shell.execute_reply": "2023-01-26T08:15:07.079061Z"
    },
    "papermill": {
     "duration": 1.159287,
     "end_time": "2023-01-26T08:15:07.082099",
     "exception": false,
     "start_time": "2023-01-26T08:15:05.922812",
     "status": "completed"
    },
    "tags": []
   },
   "outputs": [],
   "source": [
    "#from tensorflow import keras\n",
    "#savedModel = keras.models.load_model(\"/kaggle/input/pre-trained-model-of-breast-cancer/trained_model_breast_cancer3.h5\")\n",
    "\n"
   ]
  },
  {
   "cell_type": "code",
   "execution_count": 16,
   "id": "f00bc61a",
   "metadata": {
    "execution": {
     "iopub.execute_input": "2023-01-26T08:15:09.525208Z",
     "iopub.status.busy": "2023-01-26T08:15:09.524547Z",
     "iopub.status.idle": "2023-01-26T08:15:10.096148Z",
     "shell.execute_reply": "2023-01-26T08:15:10.095002Z"
    },
    "papermill": {
     "duration": 1.853192,
     "end_time": "2023-01-26T08:15:10.098881",
     "exception": false,
     "start_time": "2023-01-26T08:15:08.245689",
     "status": "completed"
    },
    "tags": []
   },
   "outputs": [],
   "source": [
    "test_features=[]\n",
    "for i in test['img_data']:\n",
    "    i=np.array(i)\n",
    "    test_features.append(cv2.cvtColor(i,cv2.COLOR_GRAY2RGB))\n",
    "test_features=np.array(test_features)\n",
    " \n",
    "\n",
    "    \n",
    "#featureTransform = test_features.reshape(len(test_features), 6400)\n",
    "#scaler = StandardScaler()\n",
    "#featureTransform =scaler.fit_transform(featureTransform)\n",
    "#norm_features= []\n",
    "#for i in range(len(test_features)):\n",
    "#    norm_features.append(scaler.fit_transform(test_features[i][0]))\n",
    "#test_features=np.array(norm_features)\n",
    "\n",
    "\n",
    "#backTransform = featureTransform.reshape(len(test_features),80,80)\n",
    "test_features = test_features.reshape(len(test_features),80,80,3)\n",
    "\n",
    "\n",
    "\n",
    "test_target = np.array(test['cancer'])"
   ]
  },
  {
   "cell_type": "code",
   "execution_count": 17,
   "id": "4a6ca2f6",
   "metadata": {
    "execution": {
     "iopub.execute_input": "2023-01-26T08:15:12.427179Z",
     "iopub.status.busy": "2023-01-26T08:15:12.426737Z",
     "iopub.status.idle": "2023-01-26T08:16:25.857084Z",
     "shell.execute_reply": "2023-01-26T08:16:25.855753Z"
    },
    "papermill": {
     "duration": 74.610541,
     "end_time": "2023-01-26T08:16:25.859934",
     "exception": false,
     "start_time": "2023-01-26T08:15:11.249393",
     "status": "completed"
    },
    "tags": []
   },
   "outputs": [],
   "source": [
    "pred = model.predict(test_features)\n",
    "bin_pred = []\n",
    "for i in pred:\n",
    "    if i>=0.5:\n",
    "        bin_pred.append(1)\n",
    "    else:\n",
    "        bin_pred.append(0)\n",
    "bin_pred = np.array(bin_pred)\n"
   ]
  },
  {
   "cell_type": "code",
   "execution_count": 18,
   "id": "1b7c0984",
   "metadata": {
    "execution": {
     "iopub.execute_input": "2023-01-26T08:16:28.324530Z",
     "iopub.status.busy": "2023-01-26T08:16:28.324132Z",
     "iopub.status.idle": "2023-01-26T08:16:28.352903Z",
     "shell.execute_reply": "2023-01-26T08:16:28.351664Z"
    },
    "papermill": {
     "duration": 1.201295,
     "end_time": "2023-01-26T08:16:28.355081",
     "exception": false,
     "start_time": "2023-01-26T08:16:27.153786",
     "status": "completed"
    },
    "tags": []
   },
   "outputs": [
    {
     "name": "stdout",
     "output_type": "stream",
     "text": [
      "0.9745698814175063\n",
      "0.9797814207650273 0.9370432827431141\n"
     ]
    }
   ],
   "source": [
    "import sklearn\n",
    "acc = sklearn.metrics.accuracy_score(test_target, bin_pred)\n",
    "print(acc)\n",
    "\n",
    "countzero=0\n",
    "countone=0\n",
    "countzerot=0\n",
    "countonet=0\n",
    "for i, j in zip(test_target, bin_pred):\n",
    "    if i==0 and j==0:\n",
    "        countzero+=1\n",
    "    if i==1 and j==1:\n",
    "        countone+=1\n",
    "    if i==1:\n",
    "        countonet+=1\n",
    "    if i==0:\n",
    "        countzerot+=1\n",
    "print(countzero/countzerot,countone/countonet)"
   ]
  },
  {
   "cell_type": "code",
   "execution_count": 19,
   "id": "07585258",
   "metadata": {
    "execution": {
     "iopub.execute_input": "2023-01-26T08:16:30.808489Z",
     "iopub.status.busy": "2023-01-26T08:16:30.808074Z",
     "iopub.status.idle": "2023-01-26T08:16:30.818090Z",
     "shell.execute_reply": "2023-01-26T08:16:30.816839Z"
    },
    "papermill": {
     "duration": 1.164144,
     "end_time": "2023-01-26T08:16:30.820311",
     "exception": false,
     "start_time": "2023-01-26T08:16:29.656167",
     "status": "completed"
    },
    "tags": []
   },
   "outputs": [
    {
     "name": "stdout",
     "output_type": "stream",
     "text": [
      "0.8998650472334683\n"
     ]
    }
   ],
   "source": [
    "\n",
    "def recall_m(y_true, y_pred):\n",
    "    true_positives = np.sum(np.round(np.clip(y_true * y_pred, 0, 1)))\n",
    "    possible_positives = np.sum(np.round(np.clip(y_true, 0, 1)))\n",
    "    recall = true_positives / (possible_positives )\n",
    "    return recall\n",
    "\n",
    "def precision_m(y_true, y_pred):\n",
    "    true_positives = np.sum(np.round(np.clip(y_true * y_pred, 0, 1)))\n",
    "    predicted_positives = np.sum(np.round(np.clip(y_pred, 0, 1)))\n",
    "    precision = true_positives / (predicted_positives )\n",
    "    return precision\n",
    "\n",
    "def f1_m(y_true, y_pred):\n",
    "    precision = precision_m(y_true, y_pred)\n",
    "    recall = recall_m(y_true, y_pred)\n",
    "    return 2*((precision*recall)/(precision+recall))\n",
    "\n",
    "\n",
    "print(f1_m(test_target,bin_pred))"
   ]
  },
  {
   "cell_type": "code",
   "execution_count": 20,
   "id": "461aa4f5",
   "metadata": {
    "execution": {
     "iopub.execute_input": "2023-01-26T08:16:33.271419Z",
     "iopub.status.busy": "2023-01-26T08:16:33.270988Z",
     "iopub.status.idle": "2023-01-26T08:16:55.753878Z",
     "shell.execute_reply": "2023-01-26T08:16:55.752356Z"
    },
    "papermill": {
     "duration": 23.781618,
     "end_time": "2023-01-26T08:16:55.757156",
     "exception": false,
     "start_time": "2023-01-26T08:16:31.975538",
     "status": "completed"
    },
    "tags": []
   },
   "outputs": [
    {
     "name": "stderr",
     "output_type": "stream",
     "text": [
      " 75%|███████▌  | 3/4 [00:00<00:00, 14.11it/s]\n"
     ]
    }
   ],
   "source": [
    "datasetPath = '/kaggle/input/rsna-breast-cancer-detection/test.csv'\n",
    "imgPath = '/kaggle/input/rsna-breast-cancer-detection/test_images/'\n",
    "\n",
    "testImgData = dcmToPix(datasetPath, imgPath)"
   ]
  },
  {
   "cell_type": "code",
   "execution_count": 21,
   "id": "a2ee265f",
   "metadata": {
    "execution": {
     "iopub.execute_input": "2023-01-26T08:16:58.103932Z",
     "iopub.status.busy": "2023-01-26T08:16:58.103511Z",
     "iopub.status.idle": "2023-01-26T08:16:58.122880Z",
     "shell.execute_reply": "2023-01-26T08:16:58.122093Z"
    },
    "papermill": {
     "duration": 1.207715,
     "end_time": "2023-01-26T08:16:58.125128",
     "exception": false,
     "start_time": "2023-01-26T08:16:56.917413",
     "status": "completed"
    },
    "tags": []
   },
   "outputs": [],
   "source": [
    "datacancer = pd.read_csv(datasetPath)\n",
    "imgDataFrame = {'img_data':testImgData}\n",
    "imgData2 = pd.DataFrame(imgDataFrame)\n",
    "testImgData=imgData2\n",
    "imgdata_shuff = testImgData.sample(frac=1)"
   ]
  },
  {
   "cell_type": "code",
   "execution_count": 22,
   "id": "d5df0af0",
   "metadata": {
    "execution": {
     "iopub.execute_input": "2023-01-26T08:17:00.556545Z",
     "iopub.status.busy": "2023-01-26T08:17:00.556140Z",
     "iopub.status.idle": "2023-01-26T08:17:00.565402Z",
     "shell.execute_reply": "2023-01-26T08:17:00.564675Z"
    },
    "papermill": {
     "duration": 1.162224,
     "end_time": "2023-01-26T08:17:00.567757",
     "exception": false,
     "start_time": "2023-01-26T08:16:59.405533",
     "status": "completed"
    },
    "tags": []
   },
   "outputs": [
    {
     "name": "stderr",
     "output_type": "stream",
     "text": [
      "100%|██████████| 4/4 [00:00<00:00, 16432.14it/s]\n"
     ]
    }
   ],
   "source": [
    "imgDataList=[]\n",
    "for j in tqdm(imgdata_shuff['img_data']):\n",
    "    imgDataList.append(random_rotate(j))\n",
    "imgdata_shuff['img_data'] = imgDataList"
   ]
  },
  {
   "cell_type": "code",
   "execution_count": 23,
   "id": "e4f00133",
   "metadata": {
    "execution": {
     "iopub.execute_input": "2023-01-26T08:17:03.040577Z",
     "iopub.status.busy": "2023-01-26T08:17:03.039707Z",
     "iopub.status.idle": "2023-01-26T08:17:03.058186Z",
     "shell.execute_reply": "2023-01-26T08:17:03.057305Z"
    },
    "papermill": {
     "duration": 1.332288,
     "end_time": "2023-01-26T08:17:03.060375",
     "exception": false,
     "start_time": "2023-01-26T08:17:01.728087",
     "status": "completed"
    },
    "tags": []
   },
   "outputs": [],
   "source": [
    "test=imgdata_shuff\n",
    "\n",
    "\n",
    "test_features=[]\n",
    "for i in test['img_data']:\n",
    "    i=np.array(i)\n",
    "    test_features.append(cv2.cvtColor(i,cv2.COLOR_GRAY2RGB))\n",
    "test_features=np.array(test_features)\n",
    " \n",
    "#featureTransform = test_features.reshape(len(test_features), 6400)\n",
    "#scaler = StandardScaler()\n",
    "#featureTransform =scaler.fit_transform(featureTransform)\n",
    "#norm_features= []\n",
    "#for i in range(len(test_features)):\n",
    "#    norm_features.append(scaler.fit_transform(test_features[i][0]))\n",
    "#test_features=np.array(norm_features)\n",
    "\n",
    "\n",
    "#backTransform = featureTransform.reshape(len(test_features),80,80)\n",
    "test_features = test_features.reshape(len(test_features),80,80,3)\n",
    "\n",
    "\n"
   ]
  },
  {
   "cell_type": "code",
   "execution_count": 24,
   "id": "b3e4324e",
   "metadata": {
    "execution": {
     "iopub.execute_input": "2023-01-26T08:17:05.374764Z",
     "iopub.status.busy": "2023-01-26T08:17:05.374385Z",
     "iopub.status.idle": "2023-01-26T08:17:05.533011Z",
     "shell.execute_reply": "2023-01-26T08:17:05.531468Z"
    },
    "papermill": {
     "duration": 1.316181,
     "end_time": "2023-01-26T08:17:05.535750",
     "exception": false,
     "start_time": "2023-01-26T08:17:04.219569",
     "status": "completed"
    },
    "tags": []
   },
   "outputs": [
    {
     "name": "stdout",
     "output_type": "stream",
     "text": [
      "[0 0 0 0]\n"
     ]
    }
   ],
   "source": [
    "pred = model.predict(test_features)\n",
    "bin_pred = []\n",
    "for i in pred:\n",
    "    if i>=0.5:\n",
    "        bin_pred.append(1)\n",
    "    else:\n",
    "        bin_pred.append(0)\n",
    "bin_pred = np.array(bin_pred)\n",
    "print(bin_pred)"
   ]
  },
  {
   "cell_type": "code",
   "execution_count": 25,
   "id": "b6b3260c",
   "metadata": {
    "execution": {
     "iopub.execute_input": "2023-01-26T08:17:07.989855Z",
     "iopub.status.busy": "2023-01-26T08:17:07.988813Z",
     "iopub.status.idle": "2023-01-26T08:17:08.007452Z",
     "shell.execute_reply": "2023-01-26T08:17:08.006163Z"
    },
    "papermill": {
     "duration": 1.196451,
     "end_time": "2023-01-26T08:17:08.010548",
     "exception": false,
     "start_time": "2023-01-26T08:17:06.814097",
     "status": "completed"
    },
    "tags": []
   },
   "outputs": [
    {
     "name": "stdout",
     "output_type": "stream",
     "text": [
      "  prediction_id  cancer\n",
      "0       10008_L       0\n",
      "1       10008_L       0\n",
      "2       10008_R       0\n",
      "3       10008_R       0\n"
     ]
    }
   ],
   "source": [
    "testData = pd.read_csv('/kaggle/input/rsna-breast-cancer-detection/test.csv')\n",
    "\n",
    "submissionFrame={'prediction_id':testData['prediction_id'],'cancer':bin_pred}\n",
    "submission = pd.DataFrame(submissionFrame)\n",
    "print(submission)"
   ]
  }
 ],
 "metadata": {
  "kernelspec": {
   "display_name": "Python 3",
   "language": "python",
   "name": "python3"
  },
  "language_info": {
   "codemirror_mode": {
    "name": "ipython",
    "version": 3
   },
   "file_extension": ".py",
   "mimetype": "text/x-python",
   "name": "python",
   "nbconvert_exporter": "python",
   "pygments_lexer": "ipython3",
   "version": "3.7.12"
  },
  "papermill": {
   "default_parameters": {},
   "duration": 27213.921379,
   "end_time": "2023-01-26T08:17:12.365098",
   "environment_variables": {},
   "exception": null,
   "input_path": "__notebook__.ipynb",
   "output_path": "__notebook__.ipynb",
   "parameters": {},
   "start_time": "2023-01-26T00:43:38.443719",
   "version": "2.3.4"
  }
 },
 "nbformat": 4,
 "nbformat_minor": 5
}
