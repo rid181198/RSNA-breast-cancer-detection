{
 "cells": [
  {
   "cell_type": "code",
   "execution_count": 1,
   "id": "1f9c8764",
   "metadata": {
    "execution": {
     "iopub.execute_input": "2023-01-17T13:55:18.182517Z",
     "iopub.status.busy": "2023-01-17T13:55:18.181874Z",
     "iopub.status.idle": "2023-01-17T13:55:27.055946Z",
     "shell.execute_reply": "2023-01-17T13:55:27.054896Z"
    },
    "papermill": {
     "duration": 8.890374,
     "end_time": "2023-01-17T13:55:27.058943",
     "exception": false,
     "start_time": "2023-01-17T13:55:18.168569",
     "status": "completed"
    },
    "tags": []
   },
   "outputs": [],
   "source": [
    "import numpy as np\n",
    "import pandas as pd\n",
    "import matplotlib.pyplot as plt\n",
    "import seaborn as sns\n",
    "import pickle\n",
    "import tensorflow as tf\n",
    "import tensorflow_io as tfio\n",
    "import os\n",
    "from tqdm import tqdm\n",
    "import cv2\n",
    "from PIL import Image\n",
    "from joblib import Parallel, delayed\n",
    "import gc\n",
    "from PIL import Image as im\n",
    "import random"
   ]
  },
  {
   "cell_type": "code",
   "execution_count": 2,
   "id": "b77a0533",
   "metadata": {
    "execution": {
     "iopub.execute_input": "2023-01-17T13:55:27.075510Z",
     "iopub.status.busy": "2023-01-17T13:55:27.073775Z",
     "iopub.status.idle": "2023-01-17T13:55:43.362024Z",
     "shell.execute_reply": "2023-01-17T13:55:43.360772Z"
    },
    "papermill": {
     "duration": 16.300251,
     "end_time": "2023-01-17T13:55:43.365434",
     "exception": false,
     "start_time": "2023-01-17T13:55:27.065183",
     "status": "completed"
    },
    "tags": []
   },
   "outputs": [
    {
     "name": "stdout",
     "output_type": "stream",
     "text": [
      "Collecting dicomsdl\r\n",
      "  Downloading dicomsdl-0.109.1-cp37-cp37m-manylinux_2_12_x86_64.manylinux2010_x86_64.whl (1.4 MB)\r\n",
      "\u001b[2K     \u001b[90m━━━━━━━━━━━━━━━━━━━━━━━━━━━━━━━━━━━━━━━━\u001b[0m \u001b[32m1.4/1.4 MB\u001b[0m \u001b[31m1.4 MB/s\u001b[0m eta \u001b[36m0:00:00\u001b[0m\r\n",
      "\u001b[?25hInstalling collected packages: dicomsdl\r\n",
      "Successfully installed dicomsdl-0.109.1\r\n",
      "\u001b[33mWARNING: Running pip as the 'root' user can result in broken permissions and conflicting behaviour with the system package manager. It is recommended to use a virtual environment instead: https://pip.pypa.io/warnings/venv\u001b[0m\u001b[33m\r\n",
      "\u001b[0m"
     ]
    }
   ],
   "source": [
    "import sys\n",
    "!{sys.executable} -m pip install dicomsdl\n",
    "#!pip install /kaggle/input/rsnapacks/dicomsdl-0.109.1-cp36-cp36m-manylinux_2_12_x86_64.manylinux2010_x86_64.whl\n",
    "import numpy as np\n",
    "import pandas as pd\n",
    "import matplotlib.pyplot as plt\n",
    "import seaborn as sns\n",
    "import pickle\n",
    "#import pydicom as dicom\n",
    "import dicomsdl as dicom\n",
    "import tensorflow as tf\n",
    "import tensorflow_io as tfio\n",
    "from PIL import Image as im\n",
    "import os\n",
    "from tqdm import tqdm\n",
    "import cv2\n",
    "from PIL import Image\n",
    "from joblib import Parallel, delayed\n",
    "import gc\n",
    "import random"
   ]
  },
  {
   "cell_type": "code",
   "execution_count": 3,
   "id": "9344f9c5",
   "metadata": {
    "execution": {
     "iopub.execute_input": "2023-01-17T13:55:43.384182Z",
     "iopub.status.busy": "2023-01-17T13:55:43.383752Z",
     "iopub.status.idle": "2023-01-17T13:55:43.406495Z",
     "shell.execute_reply": "2023-01-17T13:55:43.405295Z"
    },
    "papermill": {
     "duration": 0.035436,
     "end_time": "2023-01-17T13:55:43.409249",
     "exception": false,
     "start_time": "2023-01-17T13:55:43.373813",
     "status": "completed"
    },
    "tags": []
   },
   "outputs": [],
   "source": [
    "datasetPath = '/kaggle/input/rsna-breast-cancer-detection/train.csv'\n",
    "imgPath = '/kaggle/input/rsna-breast-cancer-detection/train_images/'\n",
    "\n",
    "def crop(sideName, imgName):\n",
    "    if sideName == 'L':\n",
    "        colind=[]\n",
    "        for r,row in enumerate(imgName):\n",
    "            for c,col in enumerate(row):\n",
    "                if col==0:\n",
    "                    colind.append(c)\n",
    "                    break\n",
    "        crop_size = max(colind)\n",
    "        imgName = imgName[0:512,0:crop_size]\n",
    "        imgName = cv2.resize(imgName,(128,128))\n",
    "        \n",
    "    if sideName == 'R':\n",
    "        colind=[]\n",
    "        for r,row in enumerate(imgName):\n",
    "            for c,col in enumerate(row):\n",
    "                if col!=0:\n",
    "                    colind.append(c)\n",
    "                    break\n",
    "        crop_size = min(colind)\n",
    "        imgName = imgName[0:512,crop_size:512]\n",
    "        imgName = cv2.resize(imgName,(128,128))\n",
    "    \n",
    "    return imgName    \n",
    "\n",
    "    gc.collect()\n",
    "    \n",
    "def crop_reverse(sideName, imgName):\n",
    "    if sideName == 'R':\n",
    "        colind=[]\n",
    "        for r,row in enumerate(imgName):\n",
    "            for c,col in enumerate(row):\n",
    "                if col==0:\n",
    "                    colind.append(c)\n",
    "                    break\n",
    "        crop_size = max(colind)\n",
    "        imgName = imgName[0:512,0:crop_size]\n",
    "        imgName = cv2.resize(imgName,(128,128))\n",
    "        \n",
    "    if sideName == 'L':\n",
    "        colind=[]\n",
    "        for r,row in enumerate(imgName):\n",
    "            for c,col in enumerate(row):\n",
    "                if col!=0:\n",
    "                    colind.append(c)\n",
    "                    break\n",
    "        crop_size = min(colind)\n",
    "        imgName = imgName[0:512,crop_size:512]\n",
    "        imgName = cv2.resize(imgName,(128,128))\n",
    "    \n",
    "    return imgName    \n",
    "\n",
    "    gc.collect()\n",
    "    \n",
    "\n",
    "def img_process(i,filename,sides):\n",
    "    \n",
    "    #ds = dicom.dcmread(filename)\n",
    "    ds = dicom.open(filename)\n",
    "    ds = ds.pixelData()\n",
    "    ds = cv2.normalize(ds, None, 0, 1.0, cv2.NORM_MINMAX, dtype=cv2.CV_32F)\n",
    "    ds = cv2.resize(ds,(512,512))\n",
    "    ds = np.where(ds >= 0.9999, 0,ds)\n",
    "    \n",
    "    try:\n",
    "        ds = np.array(crop(sides[i], ds))   \n",
    "    except:\n",
    "        ds = np.array(crop_reverse(sides[i], ds))\n",
    "    return ds \n",
    "\n",
    "    #train_data.loc[i,'img_data'] = [img_fin]\n",
    "    #train_data.to_csv('/kaggle/working/training_img_data.csv') \n",
    "    \n",
    "    gc.collect()\n",
    "\n",
    "def dcmToPix(datasetPath, imgPath):\n",
    "    dataset = pd.read_csv(datasetPath)\n",
    "    dataset=dataset[:50]\n",
    "    \n",
    "    \n",
    "    patient_ids = dataset['patient_id']\n",
    "    image_ids = dataset['image_id']\n",
    "    sides  = dataset['laterality']\n",
    "\n",
    "    imgData = []\n",
    "\n",
    "    for pi, ii, leng in zip(patient_ids, image_ids, range(len(patient_ids))):\n",
    "        imgData.append(imgPath + str(pi) + '/' + str(ii) + '.dcm')\n",
    "\n",
    "    dataset['img_data'] = \" \"\n",
    "    \n",
    "    result = Parallel(n_jobs=128)(\\\n",
    "    delayed(img_process)(i, fname, sides) for i, fname in zip(range(len(imgData)),tqdm(imgData))\\\n",
    "    )\n",
    "    \n",
    "    dataset['img_data'] = result\n",
    "    dataset.to_pickle('imgData.pkl' )\n",
    "    \n",
    "    return result\n",
    "    "
   ]
  },
  {
   "cell_type": "code",
   "execution_count": 4,
   "id": "fe20ec0b",
   "metadata": {
    "_cell_guid": "b1076dfc-b9ad-4769-8c92-a6c4dae69d19",
    "_uuid": "8f2839f25d086af736a60e9eeb907d3b93b6e0e5",
    "execution": {
     "iopub.execute_input": "2023-01-17T13:55:43.426115Z",
     "iopub.status.busy": "2023-01-17T13:55:43.425709Z",
     "iopub.status.idle": "2023-01-17T13:56:15.375739Z",
     "shell.execute_reply": "2023-01-17T13:56:15.374273Z"
    },
    "papermill": {
     "duration": 31.962414,
     "end_time": "2023-01-17T13:56:15.379290",
     "exception": false,
     "start_time": "2023-01-17T13:55:43.416876",
     "status": "completed"
    },
    "tags": []
   },
   "outputs": [],
   "source": [
    "with (open('/kaggle/input/output/imgData.pkl', \"rb\")) as openfile:\n",
    "     imgData = pickle.load(openfile)"
   ]
  },
  {
   "cell_type": "code",
   "execution_count": 5,
   "id": "f224730d",
   "metadata": {
    "execution": {
     "iopub.execute_input": "2023-01-17T13:56:15.397910Z",
     "iopub.status.busy": "2023-01-17T13:56:15.396727Z",
     "iopub.status.idle": "2023-01-17T13:56:15.402433Z",
     "shell.execute_reply": "2023-01-17T13:56:15.401133Z"
    },
    "papermill": {
     "duration": 0.016814,
     "end_time": "2023-01-17T13:56:15.404606",
     "exception": false,
     "start_time": "2023-01-17T13:56:15.387792",
     "status": "completed"
    },
    "tags": []
   },
   "outputs": [],
   "source": [
    "#datacancer = pd.read_csv(datasetPath)\n",
    "#imgDataFrame = {'cancer':datacancer['cancer'][:50], 'img_data':imgData}\n",
    "#imgData2 = pd.DataFrame(imgDataFrame)\n",
    "\n",
    "#imgData=imgData2"
   ]
  },
  {
   "cell_type": "code",
   "execution_count": 6,
   "id": "cf20ccca",
   "metadata": {
    "execution": {
     "iopub.execute_input": "2023-01-17T13:56:15.422021Z",
     "iopub.status.busy": "2023-01-17T13:56:15.421601Z",
     "iopub.status.idle": "2023-01-17T13:56:15.565683Z",
     "shell.execute_reply": "2023-01-17T13:56:15.564305Z"
    },
    "papermill": {
     "duration": 0.156291,
     "end_time": "2023-01-17T13:56:15.568753",
     "exception": false,
     "start_time": "2023-01-17T13:56:15.412462",
     "status": "completed"
    },
    "tags": []
   },
   "outputs": [],
   "source": [
    "imgdata_pos = imgData[imgData['cancer'] == 1]\n",
    "imgdata_neg = imgData[imgData['cancer'] == 0]\n",
    "\n",
    "imgdata_pos = imgdata_pos.sample(frac = 1)\n",
    "imgdata_neg = imgdata_neg.sample(frac = 1)\n",
    "\n",
    "imgdata_neg = imgdata_neg.sample(frac= 0.6)\n",
    "\n",
    "frames = 30*[imgdata_pos]\n",
    "frames.append(imgdata_neg)\n",
    "imgdata_shuff = pd.concat(frames)\n",
    "imgdata_shuff = imgdata_shuff.sample(frac=1)"
   ]
  },
  {
   "cell_type": "code",
   "execution_count": 7,
   "id": "4a35c0df",
   "metadata": {
    "execution": {
     "iopub.execute_input": "2023-01-17T13:56:15.586009Z",
     "iopub.status.busy": "2023-01-17T13:56:15.585624Z",
     "iopub.status.idle": "2023-01-17T13:56:15.597895Z",
     "shell.execute_reply": "2023-01-17T13:56:15.596680Z"
    },
    "papermill": {
     "duration": 0.024463,
     "end_time": "2023-01-17T13:56:15.600821",
     "exception": false,
     "start_time": "2023-01-17T13:56:15.576358",
     "status": "completed"
    },
    "tags": []
   },
   "outputs": [
    {
     "name": "stdout",
     "output_type": "stream",
     "text": [
      "1    34740\n",
      "0    32129\n",
      "Name: cancer, dtype: int64\n"
     ]
    }
   ],
   "source": [
    "print(imgdata_shuff['cancer'].value_counts())"
   ]
  },
  {
   "cell_type": "code",
   "execution_count": 8,
   "id": "3dd7f0b8",
   "metadata": {
    "execution": {
     "iopub.execute_input": "2023-01-17T13:56:15.620412Z",
     "iopub.status.busy": "2023-01-17T13:56:15.619242Z",
     "iopub.status.idle": "2023-01-17T13:56:15.626234Z",
     "shell.execute_reply": "2023-01-17T13:56:15.625064Z"
    },
    "papermill": {
     "duration": 0.018615,
     "end_time": "2023-01-17T13:56:15.628966",
     "exception": false,
     "start_time": "2023-01-17T13:56:15.610351",
     "status": "completed"
    },
    "tags": []
   },
   "outputs": [],
   "source": [
    "def random_rotate(imgData):\n",
    "    imgData = imgData.reshape(128,128)\n",
    "    imgData = im.fromarray(imgData)\n",
    "    imgData = np.asarray(imgData.rotate(random.randint(0, 360)))\n",
    "    return imgData"
   ]
  },
  {
   "cell_type": "code",
   "execution_count": 9,
   "id": "9db5a640",
   "metadata": {
    "execution": {
     "iopub.execute_input": "2023-01-17T13:56:15.646800Z",
     "iopub.status.busy": "2023-01-17T13:56:15.646389Z",
     "iopub.status.idle": "2023-01-17T13:56:31.035509Z",
     "shell.execute_reply": "2023-01-17T13:56:31.033906Z"
    },
    "papermill": {
     "duration": 15.402169,
     "end_time": "2023-01-17T13:56:31.038748",
     "exception": false,
     "start_time": "2023-01-17T13:56:15.636579",
     "status": "completed"
    },
    "tags": []
   },
   "outputs": [
    {
     "name": "stderr",
     "output_type": "stream",
     "text": [
      "100%|██████████| 66869/66869 [00:15<00:00, 4355.24it/s]\n"
     ]
    }
   ],
   "source": [
    "imgDataList=[]\n",
    "for j in tqdm(imgdata_shuff['img_data']):\n",
    "    imgDataList.append(random_rotate(j))\n",
    "imgdata_shuff['img_data'] = imgDataList"
   ]
  },
  {
   "cell_type": "code",
   "execution_count": 10,
   "id": "6251e120",
   "metadata": {
    "execution": {
     "iopub.execute_input": "2023-01-17T13:56:31.079830Z",
     "iopub.status.busy": "2023-01-17T13:56:31.078953Z",
     "iopub.status.idle": "2023-01-17T13:57:06.250955Z",
     "shell.execute_reply": "2023-01-17T13:57:06.249847Z"
    },
    "papermill": {
     "duration": 35.1952,
     "end_time": "2023-01-17T13:57:06.253998",
     "exception": false,
     "start_time": "2023-01-17T13:56:31.058798",
     "status": "completed"
    },
    "tags": []
   },
   "outputs": [],
   "source": [
    "from sklearn.model_selection import train_test_split\n",
    "train,test = train_test_split(imgdata_shuff, test_size=0.3, random_state=42, shuffle=True)\n",
    "\n",
    "\n",
    "train_target = np.array(train['cancer'])\n",
    "train_features=[]\n",
    "for i in train['img_data']:\n",
    "    train_features.append([i])\n",
    "train_features=np.array(train_features)\n",
    "\n",
    "\n",
    "from sklearn.preprocessing import StandardScaler\n",
    "\n",
    "scaler = StandardScaler()\n",
    "norm_features= []\n",
    "for i in range(len(train_features)):\n",
    "    norm_features.append(scaler.fit_transform(train_features[i][0]))\n",
    "train_features=np.array(norm_features)\n",
    "\n",
    "train_features = train_features.reshape(len(train_features),128,128,1)\n",
    "\n"
   ]
  },
  {
   "cell_type": "code",
   "execution_count": 11,
   "id": "4e23844d",
   "metadata": {
    "execution": {
     "iopub.execute_input": "2023-01-17T13:57:06.290136Z",
     "iopub.status.busy": "2023-01-17T13:57:06.289630Z",
     "iopub.status.idle": "2023-01-17T13:57:06.558779Z",
     "shell.execute_reply": "2023-01-17T13:57:06.557286Z"
    },
    "papermill": {
     "duration": 0.292064,
     "end_time": "2023-01-17T13:57:06.563313",
     "exception": false,
     "start_time": "2023-01-17T13:57:06.271249",
     "status": "completed"
    },
    "tags": []
   },
   "outputs": [
    {
     "name": "stderr",
     "output_type": "stream",
     "text": [
      "2023-01-17 13:57:06.338492: I tensorflow/core/common_runtime/process_util.cc:146] Creating new thread pool with default inter op setting: 2. Tune using inter_op_parallelism_threads for best performance.\n"
     ]
    }
   ],
   "source": [
    "from keras.models import Sequential\n",
    "from keras.layers import LeakyReLU\n",
    "from keras.layers import Dense, Conv2D, Flatten,MaxPooling2D, Dropout, GlobalMaxPooling2D\n",
    "model = Sequential()\n",
    "model.add(Conv2D(16, 5, activation = \"relu\", input_shape = (128,128,1)))\n",
    "model.add(MaxPooling2D())\n",
    "model.add(LeakyReLU(alpha=0.2))\n",
    "model.add(Dropout(0.3))\n",
    "model.add(Conv2D(32, 5, activation = \"relu\"))\n",
    "model.add(MaxPooling2D())\n",
    "model.add(LeakyReLU(alpha=0.2))\n",
    "model.add(Conv2D(64, 3, activation = \"relu\"))\n",
    "model.add(MaxPooling2D())\n",
    "model.add(Dropout(0.2))\n",
    "model.add(Flatten())\n",
    "model.add(Dense(256, activation = 'relu')) \n",
    "model.add(LeakyReLU(alpha=0.1))\n",
    "model.add(Dense(64, activation = 'relu')) \n",
    "model.add(LeakyReLU(alpha=0.2))\n",
    "model.add(Dropout(0.2))\n",
    "model.add(Dense(1, activation = 'sigmoid'))\n",
    "\n",
    "model.compile(optimizer = tf.keras.optimizers.Adam(\\\n",
    "    learning_rate=0.00001), loss= 'binary_crossentropy', metrics=['accuracy'])\n",
    "\n"
   ]
  },
  {
   "cell_type": "code",
   "execution_count": 12,
   "id": "f6cb0754",
   "metadata": {
    "execution": {
     "iopub.execute_input": "2023-01-17T13:57:06.599700Z",
     "iopub.status.busy": "2023-01-17T13:57:06.599280Z",
     "iopub.status.idle": "2023-01-17T15:30:31.775951Z",
     "shell.execute_reply": "2023-01-17T15:30:31.773303Z"
    },
    "papermill": {
     "duration": 5606.282289,
     "end_time": "2023-01-17T15:30:32.862745",
     "exception": false,
     "start_time": "2023-01-17T13:57:06.580456",
     "status": "completed"
    },
    "tags": []
   },
   "outputs": [
    {
     "name": "stderr",
     "output_type": "stream",
     "text": [
      "2023-01-17 13:57:08.688962: I tensorflow/compiler/mlir/mlir_graph_optimization_pass.cc:185] None of the MLIR Optimization Passes are enabled (registered 2)\n"
     ]
    },
    {
     "name": "stdout",
     "output_type": "stream",
     "text": [
      "Epoch 1/30\n",
      "512/512 [==============================] - 192s 370ms/step - loss: 0.6942 - accuracy: 0.5205 - val_loss: 0.6885 - val_accuracy: 0.5405\n",
      "Epoch 2/30\n",
      "512/512 [==============================] - 186s 363ms/step - loss: 0.6890 - accuracy: 0.5371 - val_loss: 0.6873 - val_accuracy: 0.5558\n",
      "Epoch 3/30\n",
      "512/512 [==============================] - 188s 366ms/step - loss: 0.6864 - accuracy: 0.5470 - val_loss: 0.6853 - val_accuracy: 0.5636\n",
      "Epoch 4/30\n",
      "512/512 [==============================] - 187s 365ms/step - loss: 0.6842 - accuracy: 0.5564 - val_loss: 0.6833 - val_accuracy: 0.5628\n",
      "Epoch 5/30\n",
      "512/512 [==============================] - 188s 368ms/step - loss: 0.6815 - accuracy: 0.5640 - val_loss: 0.6819 - val_accuracy: 0.5647\n",
      "Epoch 6/30\n",
      "512/512 [==============================] - 186s 363ms/step - loss: 0.6807 - accuracy: 0.5659 - val_loss: 0.6802 - val_accuracy: 0.5699\n",
      "Epoch 7/30\n",
      "512/512 [==============================] - 184s 359ms/step - loss: 0.6782 - accuracy: 0.5687 - val_loss: 0.6792 - val_accuracy: 0.5669\n",
      "Epoch 8/30\n",
      "512/512 [==============================] - 186s 364ms/step - loss: 0.6763 - accuracy: 0.5742 - val_loss: 0.6783 - val_accuracy: 0.5682\n",
      "Epoch 9/30\n",
      "512/512 [==============================] - 187s 365ms/step - loss: 0.6747 - accuracy: 0.5720 - val_loss: 0.6790 - val_accuracy: 0.5734\n",
      "Epoch 10/30\n",
      "512/512 [==============================] - 186s 364ms/step - loss: 0.6733 - accuracy: 0.5778 - val_loss: 0.6778 - val_accuracy: 0.5743\n",
      "Epoch 11/30\n",
      "512/512 [==============================] - 187s 365ms/step - loss: 0.6711 - accuracy: 0.5786 - val_loss: 0.6762 - val_accuracy: 0.5730\n",
      "Epoch 12/30\n",
      "512/512 [==============================] - 189s 370ms/step - loss: 0.6707 - accuracy: 0.5807 - val_loss: 0.6751 - val_accuracy: 0.5736\n",
      "Epoch 13/30\n",
      "512/512 [==============================] - 187s 366ms/step - loss: 0.6679 - accuracy: 0.5872 - val_loss: 0.6737 - val_accuracy: 0.5802\n",
      "Epoch 14/30\n",
      "512/512 [==============================] - 187s 366ms/step - loss: 0.6671 - accuracy: 0.5887 - val_loss: 0.6746 - val_accuracy: 0.5788\n",
      "Epoch 15/30\n",
      "512/512 [==============================] - 184s 359ms/step - loss: 0.6655 - accuracy: 0.5897 - val_loss: 0.6743 - val_accuracy: 0.5849\n",
      "Epoch 16/30\n",
      "512/512 [==============================] - 184s 359ms/step - loss: 0.6632 - accuracy: 0.5955 - val_loss: 0.6725 - val_accuracy: 0.5881\n",
      "Epoch 17/30\n",
      "512/512 [==============================] - 184s 360ms/step - loss: 0.6627 - accuracy: 0.5954 - val_loss: 0.6725 - val_accuracy: 0.5801\n",
      "Epoch 18/30\n",
      "512/512 [==============================] - 186s 363ms/step - loss: 0.6611 - accuracy: 0.5932 - val_loss: 0.6725 - val_accuracy: 0.5835\n",
      "Epoch 19/30\n",
      "512/512 [==============================] - 186s 363ms/step - loss: 0.6593 - accuracy: 0.6009 - val_loss: 0.6715 - val_accuracy: 0.5819\n",
      "Epoch 20/30\n",
      "512/512 [==============================] - 185s 361ms/step - loss: 0.6572 - accuracy: 0.6031 - val_loss: 0.6713 - val_accuracy: 0.5888\n",
      "Epoch 21/30\n",
      "512/512 [==============================] - 187s 365ms/step - loss: 0.6552 - accuracy: 0.6096 - val_loss: 0.6692 - val_accuracy: 0.5865\n",
      "Epoch 22/30\n",
      "512/512 [==============================] - 186s 363ms/step - loss: 0.6532 - accuracy: 0.6103 - val_loss: 0.6695 - val_accuracy: 0.5935\n",
      "Epoch 23/30\n",
      "512/512 [==============================] - 185s 361ms/step - loss: 0.6518 - accuracy: 0.6142 - val_loss: 0.6699 - val_accuracy: 0.5836\n",
      "Epoch 24/30\n",
      "512/512 [==============================] - 186s 363ms/step - loss: 0.6491 - accuracy: 0.6144 - val_loss: 0.6688 - val_accuracy: 0.5893\n",
      "Epoch 25/30\n",
      "512/512 [==============================] - 185s 361ms/step - loss: 0.6473 - accuracy: 0.6164 - val_loss: 0.6692 - val_accuracy: 0.5880\n",
      "Epoch 26/30\n",
      "512/512 [==============================] - 185s 361ms/step - loss: 0.6451 - accuracy: 0.6208 - val_loss: 0.6676 - val_accuracy: 0.5895\n",
      "Epoch 27/30\n",
      "512/512 [==============================] - 186s 364ms/step - loss: 0.6436 - accuracy: 0.6198 - val_loss: 0.6673 - val_accuracy: 0.5918\n",
      "Epoch 28/30\n",
      "512/512 [==============================] - 189s 368ms/step - loss: 0.6418 - accuracy: 0.6237 - val_loss: 0.6660 - val_accuracy: 0.5913\n",
      "Epoch 29/30\n",
      "512/512 [==============================] - 184s 360ms/step - loss: 0.6398 - accuracy: 0.6276 - val_loss: 0.6660 - val_accuracy: 0.5924\n",
      "Epoch 30/30\n",
      "512/512 [==============================] - 197s 385ms/step - loss: 0.6373 - accuracy: 0.6277 - val_loss: 0.6652 - val_accuracy: 0.5966\n"
     ]
    },
    {
     "data": {
      "text/plain": [
       "<keras.callbacks.History at 0x7fa9c381e650>"
      ]
     },
     "execution_count": 12,
     "metadata": {},
     "output_type": "execute_result"
    }
   ],
   "source": [
    "model.fit(train_features, train_target, validation_split=0.3,batch_size = 64,epochs=30)\n",
    "\n",
    "\n"
   ]
  },
  {
   "cell_type": "code",
   "execution_count": 13,
   "id": "ad64f0cc",
   "metadata": {
    "execution": {
     "iopub.execute_input": "2023-01-17T15:30:35.185453Z",
     "iopub.status.busy": "2023-01-17T15:30:35.184666Z",
     "iopub.status.idle": "2023-01-17T15:30:49.776293Z",
     "shell.execute_reply": "2023-01-17T15:30:49.774964Z"
    },
    "papermill": {
     "duration": 15.812731,
     "end_time": "2023-01-17T15:30:49.779407",
     "exception": false,
     "start_time": "2023-01-17T15:30:33.966676",
     "status": "completed"
    },
    "tags": []
   },
   "outputs": [],
   "source": [
    "test_features=[]\n",
    "for i in test['img_data']:\n",
    "    test_features.append([i])\n",
    "test_features=np.array(test_features)\n",
    " \n",
    "\n",
    "\n",
    "scaler = StandardScaler()\n",
    "norm_features= []\n",
    "for i in range(len(test_features)):\n",
    "    norm_features.append(scaler.fit_transform(test_features[i][0]))\n",
    "test_features=np.array(norm_features)\n",
    "\n",
    "\n",
    "test_features = test_features.reshape(len(test_features),128,128,1)\n",
    "\n",
    "\n",
    "test_target = np.array(test['cancer'])"
   ]
  },
  {
   "cell_type": "code",
   "execution_count": 14,
   "id": "5d725563",
   "metadata": {
    "execution": {
     "iopub.execute_input": "2023-01-17T15:30:52.010415Z",
     "iopub.status.busy": "2023-01-17T15:30:52.009927Z",
     "iopub.status.idle": "2023-01-17T15:31:23.336847Z",
     "shell.execute_reply": "2023-01-17T15:31:23.334415Z"
    },
    "papermill": {
     "duration": 32.394258,
     "end_time": "2023-01-17T15:31:23.341041",
     "exception": false,
     "start_time": "2023-01-17T15:30:50.946783",
     "status": "completed"
    },
    "tags": []
   },
   "outputs": [],
   "source": [
    "pred = model.predict(test_features)\n",
    "bin_pred = []\n",
    "for i in pred:\n",
    "    if i>=0.5:\n",
    "        bin_pred.append(1)\n",
    "    else:\n",
    "        bin_pred.append(0)\n",
    "bin_pred = np.array(bin_pred)\n"
   ]
  },
  {
   "cell_type": "code",
   "execution_count": 15,
   "id": "061047c9",
   "metadata": {
    "execution": {
     "iopub.execute_input": "2023-01-17T15:31:25.572593Z",
     "iopub.status.busy": "2023-01-17T15:31:25.571894Z",
     "iopub.status.idle": "2023-01-17T15:31:25.613257Z",
     "shell.execute_reply": "2023-01-17T15:31:25.610484Z"
    },
    "papermill": {
     "duration": 1.105479,
     "end_time": "2023-01-17T15:31:25.616543",
     "exception": false,
     "start_time": "2023-01-17T15:31:24.511064",
     "status": "completed"
    },
    "tags": []
   },
   "outputs": [
    {
     "name": "stdout",
     "output_type": "stream",
     "text": [
      "0.5904491301530332\n",
      "0.49277197425345576 0.6779100529100529\n"
     ]
    }
   ],
   "source": [
    "import sklearn\n",
    "acc = sklearn.metrics.accuracy_score(test_target, bin_pred)\n",
    "print(acc)\n",
    "\n",
    "countzero=0\n",
    "countone=0\n",
    "countzerot=0\n",
    "countonet=0\n",
    "for i, j in zip(test_target, bin_pred):\n",
    "    if i==0 and j==0:\n",
    "        countzero+=1\n",
    "    if i==1 and j==1:\n",
    "        countone+=1\n",
    "    if i==1:\n",
    "        countonet+=1\n",
    "    if i==0:\n",
    "        countzerot+=1\n",
    "print(countzero/countzerot,countone/countonet)"
   ]
  },
  {
   "cell_type": "code",
   "execution_count": null,
   "id": "1beb4be1",
   "metadata": {
    "papermill": {
     "duration": 1.068832,
     "end_time": "2023-01-17T15:31:27.853112",
     "exception": false,
     "start_time": "2023-01-17T15:31:26.784280",
     "status": "completed"
    },
    "tags": []
   },
   "outputs": [],
   "source": []
  },
  {
   "cell_type": "code",
   "execution_count": 16,
   "id": "fe51683a",
   "metadata": {
    "execution": {
     "iopub.execute_input": "2023-01-17T15:31:30.062902Z",
     "iopub.status.busy": "2023-01-17T15:31:30.062437Z",
     "iopub.status.idle": "2023-01-17T15:32:12.399780Z",
     "shell.execute_reply": "2023-01-17T15:32:12.397291Z"
    },
    "papermill": {
     "duration": 43.405159,
     "end_time": "2023-01-17T15:32:12.403721",
     "exception": false,
     "start_time": "2023-01-17T15:31:28.998562",
     "status": "completed"
    },
    "tags": []
   },
   "outputs": [
    {
     "name": "stderr",
     "output_type": "stream",
     "text": [
      " 75%|███████▌  | 3/4 [00:00<00:00,  7.06it/s]\n"
     ]
    }
   ],
   "source": [
    "datasetPath = '/kaggle/input/rsna-breast-cancer-detection/test.csv'\n",
    "imgPath = '/kaggle/input/rsna-breast-cancer-detection/test_images/'\n",
    "\n",
    "testImgData = dcmToPix(datasetPath, imgPath)"
   ]
  },
  {
   "cell_type": "code",
   "execution_count": 17,
   "id": "6e77b99d",
   "metadata": {
    "execution": {
     "iopub.execute_input": "2023-01-17T15:32:14.646247Z",
     "iopub.status.busy": "2023-01-17T15:32:14.645680Z",
     "iopub.status.idle": "2023-01-17T15:32:14.679109Z",
     "shell.execute_reply": "2023-01-17T15:32:14.677999Z"
    },
    "papermill": {
     "duration": 1.084961,
     "end_time": "2023-01-17T15:32:14.681909",
     "exception": false,
     "start_time": "2023-01-17T15:32:13.596948",
     "status": "completed"
    },
    "tags": []
   },
   "outputs": [],
   "source": [
    "datacancer = pd.read_csv(datasetPath)\n",
    "imgDataFrame = {'img_data':testImgData}\n",
    "imgData2 = pd.DataFrame(imgDataFrame)\n",
    "testImgData=imgData2\n",
    "imgdata_shuff = testImgData.sample(frac=1)"
   ]
  },
  {
   "cell_type": "code",
   "execution_count": 18,
   "id": "b12ad645",
   "metadata": {
    "execution": {
     "iopub.execute_input": "2023-01-17T15:32:16.904093Z",
     "iopub.status.busy": "2023-01-17T15:32:16.903664Z",
     "iopub.status.idle": "2023-01-17T15:32:16.919800Z",
     "shell.execute_reply": "2023-01-17T15:32:16.918739Z"
    },
    "papermill": {
     "duration": 1.084339,
     "end_time": "2023-01-17T15:32:16.922445",
     "exception": false,
     "start_time": "2023-01-17T15:32:15.838106",
     "status": "completed"
    },
    "tags": []
   },
   "outputs": [
    {
     "name": "stderr",
     "output_type": "stream",
     "text": [
      "100%|██████████| 4/4 [00:00<00:00, 1274.96it/s]\n"
     ]
    }
   ],
   "source": [
    "imgDataList=[]\n",
    "for j in tqdm(imgdata_shuff['img_data']):\n",
    "    imgDataList.append(random_rotate(j))\n",
    "imgdata_shuff['img_data'] = imgDataList"
   ]
  },
  {
   "cell_type": "code",
   "execution_count": 19,
   "id": "2d551de5",
   "metadata": {
    "execution": {
     "iopub.execute_input": "2023-01-17T15:32:19.152728Z",
     "iopub.status.busy": "2023-01-17T15:32:19.152298Z",
     "iopub.status.idle": "2023-01-17T15:32:19.315235Z",
     "shell.execute_reply": "2023-01-17T15:32:19.313991Z"
    },
    "papermill": {
     "duration": 1.230556,
     "end_time": "2023-01-17T15:32:19.318289",
     "exception": false,
     "start_time": "2023-01-17T15:32:18.087733",
     "status": "completed"
    },
    "tags": []
   },
   "outputs": [],
   "source": [
    "test=imgdata_shuff\n",
    "\n",
    "\n",
    "test_features=[]\n",
    "for i in test['img_data']:\n",
    "    test_features.append([i])\n",
    "test_features=np.array(test_features)\n",
    "\n",
    "\n",
    "from sklearn.preprocessing import StandardScaler\n",
    "\n",
    "scaler = StandardScaler()\n",
    "norm_features= []\n",
    "for i in range(len(test_features)):\n",
    "    norm_features.append(scaler.fit_transform(test_features[i][0]))\n",
    "test_features=np.array(norm_features)\n",
    "\n",
    "test_features = test_features.reshape(len(test_features),128,128,1)\n",
    "\n"
   ]
  },
  {
   "cell_type": "code",
   "execution_count": 20,
   "id": "b5a4e003",
   "metadata": {
    "execution": {
     "iopub.execute_input": "2023-01-17T15:32:21.846544Z",
     "iopub.status.busy": "2023-01-17T15:32:21.846029Z",
     "iopub.status.idle": "2023-01-17T15:32:21.957433Z",
     "shell.execute_reply": "2023-01-17T15:32:21.955860Z"
    },
    "papermill": {
     "duration": 1.456053,
     "end_time": "2023-01-17T15:32:21.960425",
     "exception": false,
     "start_time": "2023-01-17T15:32:20.504372",
     "status": "completed"
    },
    "tags": []
   },
   "outputs": [
    {
     "name": "stdout",
     "output_type": "stream",
     "text": [
      "[0 0 0 0]\n"
     ]
    }
   ],
   "source": [
    "pred = model.predict(test_features)\n",
    "bin_pred = []\n",
    "for i in pred:\n",
    "    if i>=0.5:\n",
    "        bin_pred.append(1)\n",
    "    else:\n",
    "        bin_pred.append(0)\n",
    "bin_pred = np.array(bin_pred)\n",
    "print(bin_pred)"
   ]
  },
  {
   "cell_type": "code",
   "execution_count": 21,
   "id": "cc7eac4f",
   "metadata": {
    "execution": {
     "iopub.execute_input": "2023-01-17T15:32:24.659634Z",
     "iopub.status.busy": "2023-01-17T15:32:24.655648Z",
     "iopub.status.idle": "2023-01-17T15:32:24.690970Z",
     "shell.execute_reply": "2023-01-17T15:32:24.689805Z"
    },
    "papermill": {
     "duration": 1.461234,
     "end_time": "2023-01-17T15:32:24.695390",
     "exception": false,
     "start_time": "2023-01-17T15:32:23.234156",
     "status": "completed"
    },
    "tags": []
   },
   "outputs": [
    {
     "name": "stdout",
     "output_type": "stream",
     "text": [
      "  prediction_id  cancer\n",
      "0       10008_L       0\n",
      "1       10008_L       0\n",
      "2       10008_R       0\n",
      "3       10008_R       0\n"
     ]
    }
   ],
   "source": [
    "testData = pd.read_csv('/kaggle/input/rsna-breast-cancer-detection/test.csv')\n",
    "\n",
    "submissionFrame={'prediction_id':testData['prediction_id'],'cancer':bin_pred}\n",
    "submission = pd.DataFrame(submissionFrame)\n",
    "print(submission)"
   ]
  }
 ],
 "metadata": {
  "kernelspec": {
   "display_name": "Python 3",
   "language": "python",
   "name": "python3"
  },
  "language_info": {
   "codemirror_mode": {
    "name": "ipython",
    "version": 3
   },
   "file_extension": ".py",
   "mimetype": "text/x-python",
   "name": "python",
   "nbconvert_exporter": "python",
   "pygments_lexer": "ipython3",
   "version": "3.7.12"
  },
  "papermill": {
   "default_parameters": {},
   "duration": 5841.393874,
   "end_time": "2023-01-17T15:32:29.715552",
   "environment_variables": {},
   "exception": null,
   "input_path": "__notebook__.ipynb",
   "output_path": "__notebook__.ipynb",
   "parameters": {},
   "start_time": "2023-01-17T13:55:08.321678",
   "version": "2.3.4"
  }
 },
 "nbformat": 4,
 "nbformat_minor": 5
}
