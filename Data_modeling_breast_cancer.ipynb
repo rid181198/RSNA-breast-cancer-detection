{
 "cells": [
  {
   "cell_type": "code",
   "execution_count": 1,
   "id": "97f29269",
   "metadata": {
    "execution": {
     "iopub.execute_input": "2023-01-24T10:08:54.552923Z",
     "iopub.status.busy": "2023-01-24T10:08:54.551523Z",
     "iopub.status.idle": "2023-01-24T10:09:03.091422Z",
     "shell.execute_reply": "2023-01-24T10:09:03.090126Z"
    },
    "papermill": {
     "duration": 8.552303,
     "end_time": "2023-01-24T10:09:03.094478",
     "exception": false,
     "start_time": "2023-01-24T10:08:54.542175",
     "status": "completed"
    },
    "tags": []
   },
   "outputs": [],
   "source": [
    "import numpy as np\n",
    "import pandas as pd\n",
    "import matplotlib.pyplot as plt\n",
    "import seaborn as sns\n",
    "import pickle\n",
    "import tensorflow as tf\n",
    "import tensorflow_io as tfio\n",
    "import os\n",
    "from tqdm import tqdm\n",
    "import cv2\n",
    "from PIL import Image\n",
    "from joblib import Parallel, delayed\n",
    "import gc\n",
    "from PIL import Image as im\n",
    "import random"
   ]
  },
  {
   "cell_type": "code",
   "execution_count": 2,
   "id": "c3c43b12",
   "metadata": {
    "execution": {
     "iopub.execute_input": "2023-01-24T10:09:03.109967Z",
     "iopub.status.busy": "2023-01-24T10:09:03.108593Z",
     "iopub.status.idle": "2023-01-24T10:09:16.486293Z",
     "shell.execute_reply": "2023-01-24T10:09:16.484881Z"
    },
    "papermill": {
     "duration": 13.388057,
     "end_time": "2023-01-24T10:09:16.489093",
     "exception": false,
     "start_time": "2023-01-24T10:09:03.101036",
     "status": "completed"
    },
    "tags": []
   },
   "outputs": [
    {
     "name": "stdout",
     "output_type": "stream",
     "text": [
      "Collecting dicomsdl\r\n",
      "  Downloading dicomsdl-0.109.1-cp37-cp37m-manylinux_2_12_x86_64.manylinux2010_x86_64.whl (1.4 MB)\r\n",
      "\u001b[2K     \u001b[90m━━━━━━━━━━━━━━━━━━━━━━━━━━━━━━━━━━━━━━━━\u001b[0m \u001b[32m1.4/1.4 MB\u001b[0m \u001b[31m16.4 MB/s\u001b[0m eta \u001b[36m0:00:00\u001b[0m\r\n",
      "\u001b[?25hInstalling collected packages: dicomsdl\r\n",
      "Successfully installed dicomsdl-0.109.1\r\n",
      "\u001b[33mWARNING: Running pip as the 'root' user can result in broken permissions and conflicting behaviour with the system package manager. It is recommended to use a virtual environment instead: https://pip.pypa.io/warnings/venv\u001b[0m\u001b[33m\r\n",
      "\u001b[0m"
     ]
    }
   ],
   "source": [
    "import sys\n",
    "!{sys.executable} -m pip install dicomsdl\n",
    "#!pip install /kaggle/input/rsnapacks/dicomsdl-0.109.1-cp36-cp36m-manylinux_2_12_x86_64.manylinux2010_x86_64.whl\n",
    "import numpy as np\n",
    "import pandas as pd\n",
    "import matplotlib.pyplot as plt\n",
    "import seaborn as sns\n",
    "import pickle\n",
    "#import pydicom as dicom\n",
    "import dicomsdl as dicom\n",
    "import tensorflow as tf\n",
    "import tensorflow_io as tfio\n",
    "from PIL import Image as im\n",
    "import os\n",
    "from tqdm import tqdm\n",
    "import cv2\n",
    "from PIL import Image\n",
    "from joblib import Parallel, delayed\n",
    "import gc\n",
    "import random"
   ]
  },
  {
   "cell_type": "code",
   "execution_count": 3,
   "id": "1b25fa46",
   "metadata": {
    "execution": {
     "iopub.execute_input": "2023-01-24T10:09:16.505225Z",
     "iopub.status.busy": "2023-01-24T10:09:16.504763Z",
     "iopub.status.idle": "2023-01-24T10:09:16.525601Z",
     "shell.execute_reply": "2023-01-24T10:09:16.524391Z"
    },
    "papermill": {
     "duration": 0.032456,
     "end_time": "2023-01-24T10:09:16.528550",
     "exception": false,
     "start_time": "2023-01-24T10:09:16.496094",
     "status": "completed"
    },
    "tags": []
   },
   "outputs": [],
   "source": [
    "datasetPath = '/kaggle/input/rsna-breast-cancer-detection/train.csv'\n",
    "imgPath = '/kaggle/input/rsna-breast-cancer-detection/train_images/'\n",
    "\n",
    "def crop(sideName, imgName):\n",
    "    if sideName == 'L':\n",
    "        colind=[]\n",
    "        for r,row in enumerate(imgName):\n",
    "            for c,col in enumerate(row):\n",
    "                if col==0:\n",
    "                    colind.append(c)\n",
    "                    break\n",
    "        crop_size = max(colind)\n",
    "        imgName = imgName[0:512,0:crop_size]\n",
    "        imgName = cv2.resize(imgName,(128,128))\n",
    "        \n",
    "    if sideName == 'R':\n",
    "        colind=[]\n",
    "        for r,row in enumerate(imgName):\n",
    "            for c,col in enumerate(row):\n",
    "                if col!=0:\n",
    "                    colind.append(c)\n",
    "                    break\n",
    "        crop_size = min(colind)\n",
    "        imgName = imgName[0:512,crop_size:512]\n",
    "        imgName = cv2.resize(imgName,(128,128))\n",
    "    \n",
    "    return imgName    \n",
    "\n",
    "    gc.collect()\n",
    "    \n",
    "def crop_reverse(sideName, imgName):\n",
    "    if sideName == 'R':\n",
    "        colind=[]\n",
    "        for r,row in enumerate(imgName):\n",
    "            for c,col in enumerate(row):\n",
    "                if col==0:\n",
    "                    colind.append(c)\n",
    "                    break\n",
    "        crop_size = max(colind)\n",
    "        imgName = imgName[0:512,0:crop_size]\n",
    "        imgName = cv2.resize(imgName,(128,128))\n",
    "        \n",
    "    if sideName == 'L':\n",
    "        colind=[]\n",
    "        for r,row in enumerate(imgName):\n",
    "            for c,col in enumerate(row):\n",
    "                if col!=0:\n",
    "                    colind.append(c)\n",
    "                    break\n",
    "        crop_size = min(colind)\n",
    "        imgName = imgName[0:512,crop_size:512]\n",
    "        imgName = cv2.resize(imgName,(128,128))\n",
    "    \n",
    "    return imgName    \n",
    "\n",
    "    gc.collect()\n",
    "    \n",
    "\n",
    "def img_process(i,filename,sides):\n",
    "    \n",
    "    #ds = dicom.dcmread(filename)\n",
    "    ds = dicom.open(filename)\n",
    "    ds = ds.pixelData()\n",
    "    ds = cv2.normalize(ds, None, 0, 1.0, cv2.NORM_MINMAX, dtype=cv2.CV_32F)\n",
    "    ds = cv2.resize(ds,(512,512))\n",
    "    ds = np.where(ds >= 0.9999, 0,ds)\n",
    "    \n",
    "    try:\n",
    "        ds = np.array(crop(sides[i], ds))   \n",
    "    except:\n",
    "        ds = np.array(crop_reverse(sides[i], ds))\n",
    "    return ds \n",
    "\n",
    "    #train_data.loc[i,'img_data'] = [img_fin]\n",
    "    #train_data.to_csv('/kaggle/working/training_img_data.csv') \n",
    "    \n",
    "    gc.collect()\n",
    "\n",
    "def dcmToPix(datasetPath, imgPath):\n",
    "    dataset = pd.read_csv(datasetPath)\n",
    "    dataset=dataset[:50]\n",
    "    \n",
    "    \n",
    "    patient_ids = dataset['patient_id']\n",
    "    image_ids = dataset['image_id']\n",
    "    sides  = dataset['laterality']\n",
    "\n",
    "    imgData = []\n",
    "\n",
    "    for pi, ii, leng in zip(patient_ids, image_ids, range(len(patient_ids))):\n",
    "        imgData.append(imgPath + str(pi) + '/' + str(ii) + '.dcm')\n",
    "\n",
    "    dataset['img_data'] = \" \"\n",
    "    \n",
    "    result = Parallel(n_jobs=128)(\\\n",
    "    delayed(img_process)(i, fname, sides) for i, fname in zip(range(len(imgData)),tqdm(imgData))\\\n",
    "    )\n",
    "    \n",
    "    dataset['img_data'] = result\n",
    "    dataset.to_pickle('imgData.pkl' )\n",
    "    \n",
    "    return result\n",
    "    "
   ]
  },
  {
   "cell_type": "code",
   "execution_count": 4,
   "id": "73e6762b",
   "metadata": {
    "_cell_guid": "b1076dfc-b9ad-4769-8c92-a6c4dae69d19",
    "_uuid": "8f2839f25d086af736a60e9eeb907d3b93b6e0e5",
    "execution": {
     "iopub.execute_input": "2023-01-24T10:09:16.544202Z",
     "iopub.status.busy": "2023-01-24T10:09:16.543775Z",
     "iopub.status.idle": "2023-01-24T10:09:55.904940Z",
     "shell.execute_reply": "2023-01-24T10:09:55.903706Z"
    },
    "papermill": {
     "duration": 39.372453,
     "end_time": "2023-01-24T10:09:55.907944",
     "exception": false,
     "start_time": "2023-01-24T10:09:16.535491",
     "status": "completed"
    },
    "tags": []
   },
   "outputs": [],
   "source": [
    "with (open('/kaggle/input/output/imgData.pkl', \"rb\")) as openfile:\n",
    "     imgData = pickle.load(openfile)"
   ]
  },
  {
   "cell_type": "code",
   "execution_count": 5,
   "id": "0c026070",
   "metadata": {
    "execution": {
     "iopub.execute_input": "2023-01-24T10:09:55.924341Z",
     "iopub.status.busy": "2023-01-24T10:09:55.923931Z",
     "iopub.status.idle": "2023-01-24T10:09:55.928800Z",
     "shell.execute_reply": "2023-01-24T10:09:55.927700Z"
    },
    "papermill": {
     "duration": 0.015207,
     "end_time": "2023-01-24T10:09:55.931089",
     "exception": false,
     "start_time": "2023-01-24T10:09:55.915882",
     "status": "completed"
    },
    "tags": []
   },
   "outputs": [],
   "source": [
    "#datacancer = pd.read_csv(datasetPath)\n",
    "#imgDataFrame = {'cancer':datacancer['cancer'][:50], 'img_data':imgData}\n",
    "#imgData2 = pd.DataFrame(imgDataFrame)\n",
    "\n",
    "#imgData=imgData2"
   ]
  },
  {
   "cell_type": "code",
   "execution_count": 6,
   "id": "f06ca343",
   "metadata": {
    "execution": {
     "iopub.execute_input": "2023-01-24T10:09:55.946747Z",
     "iopub.status.busy": "2023-01-24T10:09:55.946334Z",
     "iopub.status.idle": "2023-01-24T10:09:56.102124Z",
     "shell.execute_reply": "2023-01-24T10:09:56.101129Z"
    },
    "papermill": {
     "duration": 0.166863,
     "end_time": "2023-01-24T10:09:56.104814",
     "exception": false,
     "start_time": "2023-01-24T10:09:55.937951",
     "status": "completed"
    },
    "tags": []
   },
   "outputs": [],
   "source": [
    "imgdata_pos = imgData[imgData['cancer'] == 1]\n",
    "imgdata_neg = imgData[imgData['cancer'] == 0]\n",
    "\n",
    "imgdata_pos = imgdata_pos.sample(frac = 1)\n",
    "imgdata_neg = imgdata_neg.sample(frac = 1)\n",
    "\n",
    "imgdata_neg = imgdata_neg.sample(frac= 1)\n",
    "\n",
    "frames = 10*[imgdata_pos]\n",
    "frames.append(imgdata_neg)\n",
    "imgdata_shuff = pd.concat(frames)\n",
    "imgdata_shuff = imgdata_shuff.sample(frac=1)"
   ]
  },
  {
   "cell_type": "code",
   "execution_count": 7,
   "id": "d70ce053",
   "metadata": {
    "execution": {
     "iopub.execute_input": "2023-01-24T10:09:56.120874Z",
     "iopub.status.busy": "2023-01-24T10:09:56.120414Z",
     "iopub.status.idle": "2023-01-24T10:09:56.132724Z",
     "shell.execute_reply": "2023-01-24T10:09:56.131347Z"
    },
    "papermill": {
     "duration": 0.023423,
     "end_time": "2023-01-24T10:09:56.135448",
     "exception": false,
     "start_time": "2023-01-24T10:09:56.112025",
     "status": "completed"
    },
    "tags": []
   },
   "outputs": [
    {
     "name": "stdout",
     "output_type": "stream",
     "text": [
      "0    53548\n",
      "1    11580\n",
      "Name: cancer, dtype: int64\n"
     ]
    }
   ],
   "source": [
    "print(imgdata_shuff['cancer'].value_counts())"
   ]
  },
  {
   "cell_type": "code",
   "execution_count": 8,
   "id": "e3664c87",
   "metadata": {
    "execution": {
     "iopub.execute_input": "2023-01-24T10:09:56.152901Z",
     "iopub.status.busy": "2023-01-24T10:09:56.152495Z",
     "iopub.status.idle": "2023-01-24T10:09:56.158880Z",
     "shell.execute_reply": "2023-01-24T10:09:56.157709Z"
    },
    "papermill": {
     "duration": 0.017736,
     "end_time": "2023-01-24T10:09:56.161572",
     "exception": false,
     "start_time": "2023-01-24T10:09:56.143836",
     "status": "completed"
    },
    "tags": []
   },
   "outputs": [],
   "source": [
    "def random_rotate(imgData):\n",
    "    imgData = imgData.reshape(128,128)\n",
    "    imgData = im.fromarray(imgData)\n",
    "    imgData = np.asarray(imgData.rotate(random.randint(-15, 15)))\n",
    "    return imgData"
   ]
  },
  {
   "cell_type": "code",
   "execution_count": 9,
   "id": "49824144",
   "metadata": {
    "execution": {
     "iopub.execute_input": "2023-01-24T10:09:56.177131Z",
     "iopub.status.busy": "2023-01-24T10:09:56.176692Z",
     "iopub.status.idle": "2023-01-24T10:10:11.081549Z",
     "shell.execute_reply": "2023-01-24T10:10:11.080149Z"
    },
    "papermill": {
     "duration": 14.915841,
     "end_time": "2023-01-24T10:10:11.084250",
     "exception": false,
     "start_time": "2023-01-24T10:09:56.168409",
     "status": "completed"
    },
    "tags": []
   },
   "outputs": [
    {
     "name": "stderr",
     "output_type": "stream",
     "text": [
      "100%|██████████| 65128/65128 [00:14<00:00, 4378.95it/s]\n"
     ]
    }
   ],
   "source": [
    "imgDataList=[]\n",
    "for j in tqdm(imgdata_shuff['img_data']):\n",
    "    imgDataList.append(random_rotate(j))\n",
    "imgdata_shuff['img_data'] = imgDataList"
   ]
  },
  {
   "cell_type": "code",
   "execution_count": 10,
   "id": "1639eb90",
   "metadata": {
    "execution": {
     "iopub.execute_input": "2023-01-24T10:10:11.118322Z",
     "iopub.status.busy": "2023-01-24T10:10:11.117908Z",
     "iopub.status.idle": "2023-01-24T10:10:53.864692Z",
     "shell.execute_reply": "2023-01-24T10:10:53.862105Z"
    },
    "papermill": {
     "duration": 42.769201,
     "end_time": "2023-01-24T10:10:53.870318",
     "exception": false,
     "start_time": "2023-01-24T10:10:11.101117",
     "status": "completed"
    },
    "tags": []
   },
   "outputs": [],
   "source": [
    "from sklearn.model_selection import train_test_split\n",
    "train,test = train_test_split(imgdata_shuff, test_size=0.3, random_state=42, shuffle=True)\n",
    "\n",
    "\n",
    "train_target = np.array(train['cancer'])\n",
    "train_features=[]\n",
    "for i in train['img_data']:\n",
    "    train_features.append([i])\n",
    "train_features=np.array(train_features)\n",
    "\n",
    "\n",
    "from sklearn.preprocessing import StandardScaler\n",
    "\n",
    "scaler = StandardScaler()\n",
    "norm_features= []\n",
    "for i in range(len(train_features)):\n",
    "    norm_features.append(scaler.fit_transform(train_features[i][0]))\n",
    "train_features=np.array(norm_features)\n",
    "\n",
    "train_features = train_features.reshape(len(train_features),128,128,1)\n",
    "\n"
   ]
  },
  {
   "cell_type": "code",
   "execution_count": 11,
   "id": "bb477bb3",
   "metadata": {
    "execution": {
     "iopub.execute_input": "2023-01-24T10:10:53.907895Z",
     "iopub.status.busy": "2023-01-24T10:10:53.907361Z",
     "iopub.status.idle": "2023-01-24T10:10:53.920954Z",
     "shell.execute_reply": "2023-01-24T10:10:53.919778Z"
    },
    "papermill": {
     "duration": 0.034226,
     "end_time": "2023-01-24T10:10:53.923328",
     "exception": false,
     "start_time": "2023-01-24T10:10:53.889102",
     "status": "completed"
    },
    "tags": []
   },
   "outputs": [],
   "source": [
    "from keras.models import Sequential\n",
    "from keras.layers import LeakyReLU\n",
    "from keras.layers import Dense, Conv2D, Flatten,MaxPooling2D, Dropout, GlobalMaxPooling2D\n",
    "#model = Sequential()\n",
    "#model.add(Conv2D(32, 3, activation = \"relu\", input_shape = (128,128,1)))\n",
    "#model.add(MaxPooling2D())\n",
    "#model.add(LeakyReLU(alpha=0.05))\n",
    "#model.add(Dropout(0.3))\n",
    "#model.add(Conv2D(16, 3, activation = \"relu\"))\n",
    "#model.add(MaxPooling2D())\n",
    "#model.add(LeakyReLU(alpha=0.05))\n",
    "#model.add(Conv2D(8, 3, activation = \"relu\"))\n",
    "#model.add(MaxPooling2D())\n",
    "#model.add(Dropout(0.4))\n",
    "#model.add(Flatten())\n",
    "#model.add(Dense(128, activation = 'relu')) \n",
    "#model.add(LeakyReLU(alpha=0.1))\n",
    "#model.add(Dropout(0.2))\n",
    "#model.add(Dense(1, activation = 'sigmoid'))\n",
    "\n",
    "\n",
    "\n",
    "\n",
    "from keras import backend as K\n",
    "def recall_m(y_true, y_pred):\n",
    "    true_positives = K.sum(K.round(K.clip(y_true * y_pred, 0, 1)))\n",
    "    possible_positives = K.sum(K.round(K.clip(y_true, 0, 1)))\n",
    "    recall = true_positives / (possible_positives )\n",
    "    return recall\n",
    "\n",
    "def precision_m(y_true, y_pred):\n",
    "    true_positives = K.sum(K.round(K.clip(y_true * y_pred, 0, 1)))\n",
    "    predicted_positives = K.sum(K.round(K.clip(y_pred, 0, 1)))\n",
    "    precision = true_positives / (predicted_positives )\n",
    "    return precision\n",
    "\n",
    "def f1_m(y_true, y_pred):\n",
    "    precision = precision_m(y_true, y_pred)\n",
    "    recall = recall_m(y_true, y_pred)\n",
    "    return 2*((precision*recall)/(precision+recall))\n",
    "\n",
    "\n",
    "\n",
    "\n",
    "\n",
    "#loss = tf.keras.losses.BinaryFocalCrossentropy(\\\n",
    "#    apply_class_balancing=True, gamma=5, from_logits=True,\\\n",
    "#    reduction=tf.keras.losses.Reduction.NONE)\n",
    "\n",
    "\n",
    "#model.compile(optimizer =tf.keras.optimizers.Adam(learning_rate=0.0001),\\\n",
    "#              loss= 'binary_crossentropy', metrics=['accuracy'])\n",
    "\n"
   ]
  },
  {
   "cell_type": "code",
   "execution_count": 12,
   "id": "5f583fbc",
   "metadata": {
    "execution": {
     "iopub.execute_input": "2023-01-24T10:10:53.956611Z",
     "iopub.status.busy": "2023-01-24T10:10:53.956106Z",
     "iopub.status.idle": "2023-01-24T10:10:54.360860Z",
     "shell.execute_reply": "2023-01-24T10:10:54.359622Z"
    },
    "papermill": {
     "duration": 0.42462,
     "end_time": "2023-01-24T10:10:54.363633",
     "exception": false,
     "start_time": "2023-01-24T10:10:53.939013",
     "status": "completed"
    },
    "tags": []
   },
   "outputs": [
    {
     "name": "stderr",
     "output_type": "stream",
     "text": [
      "2023-01-24 10:10:54.064806: I tensorflow/core/common_runtime/process_util.cc:146] Creating new thread pool with default inter op setting: 2. Tune using inter_op_parallelism_threads for best performance.\n"
     ]
    }
   ],
   "source": [
    "from tensorflow import keras\n",
    "model = keras.models.load_model(\"/kaggle/input/pre-trained-model-of-breast-cancer/trained_model_breast_cancer3.h5\")\n"
   ]
  },
  {
   "cell_type": "code",
   "execution_count": 13,
   "id": "d55efb7e",
   "metadata": {
    "execution": {
     "iopub.execute_input": "2023-01-24T10:10:54.398307Z",
     "iopub.status.busy": "2023-01-24T10:10:54.397180Z",
     "iopub.status.idle": "2023-01-24T13:39:21.752203Z",
     "shell.execute_reply": "2023-01-24T13:39:21.750496Z"
    },
    "papermill": {
     "duration": 12507.375615,
     "end_time": "2023-01-24T13:39:21.755306",
     "exception": false,
     "start_time": "2023-01-24T10:10:54.379691",
     "status": "completed"
    },
    "tags": []
   },
   "outputs": [
    {
     "name": "stderr",
     "output_type": "stream",
     "text": [
      "2023-01-24 10:10:58.788130: I tensorflow/compiler/mlir/mlir_graph_optimization_pass.cc:185] None of the MLIR Optimization Passes are enabled (registered 2)\n"
     ]
    },
    {
     "name": "stdout",
     "output_type": "stream",
     "text": [
      "Epoch 1/100\n",
      "499/499 [==============================] - 128s 254ms/step - loss: 0.9215 - accuracy: 0.7581 - val_loss: 0.3873 - val_accuracy: 0.8285\n",
      "Epoch 2/100\n",
      "499/499 [==============================] - 122s 245ms/step - loss: 0.8294 - accuracy: 0.7671 - val_loss: 0.4205 - val_accuracy: 0.8035\n",
      "Epoch 3/100\n",
      "499/499 [==============================] - 121s 243ms/step - loss: 0.7854 - accuracy: 0.7788 - val_loss: 0.4223 - val_accuracy: 0.8021\n",
      "Epoch 4/100\n",
      "499/499 [==============================] - 121s 243ms/step - loss: 0.7521 - accuracy: 0.7860 - val_loss: 0.4101 - val_accuracy: 0.8089\n",
      "Epoch 5/100\n",
      "499/499 [==============================] - 125s 250ms/step - loss: 0.7437 - accuracy: 0.7887 - val_loss: 0.3937 - val_accuracy: 0.8154\n",
      "Epoch 6/100\n",
      "499/499 [==============================] - 122s 245ms/step - loss: 0.7215 - accuracy: 0.7948 - val_loss: 0.3948 - val_accuracy: 0.8198\n",
      "Epoch 7/100\n",
      "499/499 [==============================] - 121s 243ms/step - loss: 0.6970 - accuracy: 0.8061 - val_loss: 0.3647 - val_accuracy: 0.8367\n",
      "Epoch 8/100\n",
      "499/499 [==============================] - 121s 243ms/step - loss: 0.6967 - accuracy: 0.8061 - val_loss: 0.3778 - val_accuracy: 0.8265\n",
      "Epoch 9/100\n",
      "499/499 [==============================] - 122s 245ms/step - loss: 0.6712 - accuracy: 0.8141 - val_loss: 0.3830 - val_accuracy: 0.8220\n",
      "Epoch 10/100\n",
      "499/499 [==============================] - 122s 244ms/step - loss: 0.6607 - accuracy: 0.8164 - val_loss: 0.3640 - val_accuracy: 0.8380\n",
      "Epoch 11/100\n",
      "499/499 [==============================] - 121s 243ms/step - loss: 0.6426 - accuracy: 0.8220 - val_loss: 0.3638 - val_accuracy: 0.8347\n",
      "Epoch 12/100\n",
      "499/499 [==============================] - 122s 244ms/step - loss: 0.6347 - accuracy: 0.8250 - val_loss: 0.3743 - val_accuracy: 0.8259\n",
      "Epoch 13/100\n",
      "499/499 [==============================] - 122s 245ms/step - loss: 0.6136 - accuracy: 0.8308 - val_loss: 0.3468 - val_accuracy: 0.8424\n",
      "Epoch 14/100\n",
      "499/499 [==============================] - 122s 245ms/step - loss: 0.6109 - accuracy: 0.8319 - val_loss: 0.3264 - val_accuracy: 0.8584\n",
      "Epoch 15/100\n",
      "499/499 [==============================] - 122s 244ms/step - loss: 0.6060 - accuracy: 0.8341 - val_loss: 0.3469 - val_accuracy: 0.8416\n",
      "Epoch 16/100\n",
      "499/499 [==============================] - 122s 244ms/step - loss: 0.5926 - accuracy: 0.8383 - val_loss: 0.3382 - val_accuracy: 0.8488\n",
      "Epoch 17/100\n",
      "499/499 [==============================] - 121s 242ms/step - loss: 0.5835 - accuracy: 0.8409 - val_loss: 0.3271 - val_accuracy: 0.8541\n",
      "Epoch 18/100\n",
      "499/499 [==============================] - 122s 245ms/step - loss: 0.5708 - accuracy: 0.8437 - val_loss: 0.3069 - val_accuracy: 0.8691\n",
      "Epoch 19/100\n",
      "499/499 [==============================] - 122s 245ms/step - loss: 0.5584 - accuracy: 0.8481 - val_loss: 0.3297 - val_accuracy: 0.8497\n",
      "Epoch 20/100\n",
      "499/499 [==============================] - 123s 246ms/step - loss: 0.5541 - accuracy: 0.8498 - val_loss: 0.3222 - val_accuracy: 0.8578\n",
      "Epoch 21/100\n",
      "499/499 [==============================] - 123s 246ms/step - loss: 0.5576 - accuracy: 0.8485 - val_loss: 0.3010 - val_accuracy: 0.8687\n",
      "Epoch 22/100\n",
      "499/499 [==============================] - 122s 245ms/step - loss: 0.5387 - accuracy: 0.8582 - val_loss: 0.3063 - val_accuracy: 0.8661\n",
      "Epoch 23/100\n",
      "499/499 [==============================] - 122s 245ms/step - loss: 0.5296 - accuracy: 0.8594 - val_loss: 0.3071 - val_accuracy: 0.8647\n",
      "Epoch 24/100\n",
      "499/499 [==============================] - 123s 246ms/step - loss: 0.5289 - accuracy: 0.8564 - val_loss: 0.2925 - val_accuracy: 0.8753\n",
      "Epoch 25/100\n",
      "499/499 [==============================] - 122s 245ms/step - loss: 0.5231 - accuracy: 0.8602 - val_loss: 0.3067 - val_accuracy: 0.8655\n",
      "Epoch 26/100\n",
      "499/499 [==============================] - 123s 246ms/step - loss: 0.5178 - accuracy: 0.8634 - val_loss: 0.2943 - val_accuracy: 0.8718\n",
      "Epoch 27/100\n",
      "499/499 [==============================] - 123s 247ms/step - loss: 0.5171 - accuracy: 0.8627 - val_loss: 0.3220 - val_accuracy: 0.8549\n",
      "Epoch 28/100\n",
      "499/499 [==============================] - 128s 256ms/step - loss: 0.4982 - accuracy: 0.8680 - val_loss: 0.3043 - val_accuracy: 0.8651\n",
      "Epoch 29/100\n",
      "499/499 [==============================] - 123s 246ms/step - loss: 0.4889 - accuracy: 0.8702 - val_loss: 0.2926 - val_accuracy: 0.8727\n",
      "Epoch 30/100\n",
      "499/499 [==============================] - 123s 247ms/step - loss: 0.4995 - accuracy: 0.8683 - val_loss: 0.2924 - val_accuracy: 0.8725\n",
      "Epoch 31/100\n",
      "499/499 [==============================] - 123s 247ms/step - loss: 0.4872 - accuracy: 0.8716 - val_loss: 0.2733 - val_accuracy: 0.8857\n",
      "Epoch 32/100\n",
      "499/499 [==============================] - 123s 247ms/step - loss: 0.4942 - accuracy: 0.8707 - val_loss: 0.3074 - val_accuracy: 0.8629\n",
      "Epoch 33/100\n",
      "499/499 [==============================] - 123s 247ms/step - loss: 0.4803 - accuracy: 0.8731 - val_loss: 0.3090 - val_accuracy: 0.8612\n",
      "Epoch 34/100\n",
      "499/499 [==============================] - 124s 248ms/step - loss: 0.4766 - accuracy: 0.8755 - val_loss: 0.3036 - val_accuracy: 0.8658\n",
      "Epoch 35/100\n",
      "499/499 [==============================] - 125s 251ms/step - loss: 0.4660 - accuracy: 0.8794 - val_loss: 0.3206 - val_accuracy: 0.8542\n",
      "Epoch 36/100\n",
      "499/499 [==============================] - 124s 248ms/step - loss: 0.4720 - accuracy: 0.8761 - val_loss: 0.2999 - val_accuracy: 0.8682\n",
      "Epoch 37/100\n",
      "499/499 [==============================] - 124s 248ms/step - loss: 0.4566 - accuracy: 0.8805 - val_loss: 0.2999 - val_accuracy: 0.8696\n",
      "Epoch 38/100\n",
      "499/499 [==============================] - 125s 250ms/step - loss: 0.4621 - accuracy: 0.8786 - val_loss: 0.2688 - val_accuracy: 0.8861\n",
      "Epoch 39/100\n",
      "499/499 [==============================] - 126s 252ms/step - loss: 0.4493 - accuracy: 0.8853 - val_loss: 0.2778 - val_accuracy: 0.8811\n",
      "Epoch 40/100\n",
      "499/499 [==============================] - 125s 251ms/step - loss: 0.4610 - accuracy: 0.8812 - val_loss: 0.2690 - val_accuracy: 0.8870\n",
      "Epoch 41/100\n",
      "499/499 [==============================] - 124s 249ms/step - loss: 0.4356 - accuracy: 0.8881 - val_loss: 0.2713 - val_accuracy: 0.8850\n",
      "Epoch 42/100\n",
      "499/499 [==============================] - 126s 253ms/step - loss: 0.4505 - accuracy: 0.8826 - val_loss: 0.2577 - val_accuracy: 0.8934\n",
      "Epoch 43/100\n",
      "499/499 [==============================] - 126s 252ms/step - loss: 0.4317 - accuracy: 0.8882 - val_loss: 0.2802 - val_accuracy: 0.8781\n",
      "Epoch 44/100\n",
      "499/499 [==============================] - 126s 252ms/step - loss: 0.4250 - accuracy: 0.8919 - val_loss: 0.2638 - val_accuracy: 0.8890\n",
      "Epoch 45/100\n",
      "499/499 [==============================] - 125s 251ms/step - loss: 0.4303 - accuracy: 0.8916 - val_loss: 0.2723 - val_accuracy: 0.8854\n",
      "Epoch 46/100\n",
      "499/499 [==============================] - 126s 253ms/step - loss: 0.4211 - accuracy: 0.8936 - val_loss: 0.2767 - val_accuracy: 0.8824\n",
      "Epoch 47/100\n",
      "499/499 [==============================] - 126s 252ms/step - loss: 0.4224 - accuracy: 0.8918 - val_loss: 0.2721 - val_accuracy: 0.8862\n",
      "Epoch 48/100\n",
      "499/499 [==============================] - 125s 251ms/step - loss: 0.4337 - accuracy: 0.8883 - val_loss: 0.2727 - val_accuracy: 0.8859\n",
      "Epoch 49/100\n",
      "499/499 [==============================] - 126s 252ms/step - loss: 0.4117 - accuracy: 0.8951 - val_loss: 0.2742 - val_accuracy: 0.8845\n",
      "Epoch 50/100\n",
      "499/499 [==============================] - 125s 250ms/step - loss: 0.4193 - accuracy: 0.8909 - val_loss: 0.2688 - val_accuracy: 0.8851\n",
      "Epoch 51/100\n",
      "499/499 [==============================] - 125s 250ms/step - loss: 0.4128 - accuracy: 0.8941 - val_loss: 0.2628 - val_accuracy: 0.8892\n",
      "Epoch 52/100\n",
      "499/499 [==============================] - 125s 251ms/step - loss: 0.4142 - accuracy: 0.8948 - val_loss: 0.2461 - val_accuracy: 0.9007\n",
      "Epoch 53/100\n",
      "499/499 [==============================] - 125s 251ms/step - loss: 0.4075 - accuracy: 0.8970 - val_loss: 0.2769 - val_accuracy: 0.8835\n",
      "Epoch 54/100\n",
      "499/499 [==============================] - 124s 248ms/step - loss: 0.3948 - accuracy: 0.9005 - val_loss: 0.2700 - val_accuracy: 0.8857\n",
      "Epoch 55/100\n",
      "499/499 [==============================] - 126s 252ms/step - loss: 0.3915 - accuracy: 0.9004 - val_loss: 0.2549 - val_accuracy: 0.8944\n",
      "Epoch 56/100\n",
      "499/499 [==============================] - 126s 253ms/step - loss: 0.3796 - accuracy: 0.9048 - val_loss: 0.2614 - val_accuracy: 0.8911\n",
      "Epoch 57/100\n",
      "499/499 [==============================] - 124s 248ms/step - loss: 0.3904 - accuracy: 0.9014 - val_loss: 0.2827 - val_accuracy: 0.8782\n",
      "Epoch 58/100\n",
      "499/499 [==============================] - 127s 254ms/step - loss: 0.3953 - accuracy: 0.9009 - val_loss: 0.2422 - val_accuracy: 0.9026\n",
      "Epoch 59/100\n",
      "499/499 [==============================] - 127s 256ms/step - loss: 0.3818 - accuracy: 0.9030 - val_loss: 0.2472 - val_accuracy: 0.8998\n",
      "Epoch 60/100\n",
      "499/499 [==============================] - 124s 249ms/step - loss: 0.3845 - accuracy: 0.9045 - val_loss: 0.2647 - val_accuracy: 0.8884\n",
      "Epoch 61/100\n",
      "499/499 [==============================] - 126s 253ms/step - loss: 0.3796 - accuracy: 0.9046 - val_loss: 0.2573 - val_accuracy: 0.8942\n",
      "Epoch 62/100\n",
      "499/499 [==============================] - 125s 251ms/step - loss: 0.3808 - accuracy: 0.9062 - val_loss: 0.2514 - val_accuracy: 0.8962\n",
      "Epoch 63/100\n",
      "499/499 [==============================] - 126s 253ms/step - loss: 0.3778 - accuracy: 0.9070 - val_loss: 0.2514 - val_accuracy: 0.8977\n",
      "Epoch 64/100\n",
      "499/499 [==============================] - 125s 251ms/step - loss: 0.3823 - accuracy: 0.9018 - val_loss: 0.2414 - val_accuracy: 0.9037\n",
      "Epoch 65/100\n",
      "499/499 [==============================] - 127s 254ms/step - loss: 0.3679 - accuracy: 0.9083 - val_loss: 0.2486 - val_accuracy: 0.8979\n",
      "Epoch 66/100\n",
      "499/499 [==============================] - 124s 248ms/step - loss: 0.3658 - accuracy: 0.9098 - val_loss: 0.2575 - val_accuracy: 0.8935\n",
      "Epoch 67/100\n",
      "499/499 [==============================] - 126s 252ms/step - loss: 0.3638 - accuracy: 0.9098 - val_loss: 0.2560 - val_accuracy: 0.8946\n",
      "Epoch 68/100\n",
      "499/499 [==============================] - 125s 250ms/step - loss: 0.3642 - accuracy: 0.9087 - val_loss: 0.2477 - val_accuracy: 0.8984\n",
      "Epoch 69/100\n",
      "499/499 [==============================] - 126s 252ms/step - loss: 0.3626 - accuracy: 0.9102 - val_loss: 0.2593 - val_accuracy: 0.8941\n",
      "Epoch 70/100\n",
      "499/499 [==============================] - 125s 251ms/step - loss: 0.3724 - accuracy: 0.9087 - val_loss: 0.2632 - val_accuracy: 0.8902\n",
      "Epoch 71/100\n",
      "499/499 [==============================] - 126s 252ms/step - loss: 0.3664 - accuracy: 0.9108 - val_loss: 0.2569 - val_accuracy: 0.8941\n",
      "Epoch 72/100\n",
      "499/499 [==============================] - 125s 251ms/step - loss: 0.3635 - accuracy: 0.9097 - val_loss: 0.2631 - val_accuracy: 0.8889\n",
      "Epoch 73/100\n",
      "499/499 [==============================] - 126s 252ms/step - loss: 0.3572 - accuracy: 0.9118 - val_loss: 0.2542 - val_accuracy: 0.8954\n",
      "Epoch 74/100\n",
      "499/499 [==============================] - 125s 250ms/step - loss: 0.3516 - accuracy: 0.9134 - val_loss: 0.2615 - val_accuracy: 0.8924\n",
      "Epoch 75/100\n",
      "499/499 [==============================] - 126s 253ms/step - loss: 0.3656 - accuracy: 0.9106 - val_loss: 0.2449 - val_accuracy: 0.9017\n",
      "Epoch 76/100\n",
      "499/499 [==============================] - 125s 251ms/step - loss: 0.3408 - accuracy: 0.9162 - val_loss: 0.2482 - val_accuracy: 0.8971\n",
      "Epoch 77/100\n",
      "499/499 [==============================] - 127s 254ms/step - loss: 0.3416 - accuracy: 0.9166 - val_loss: 0.2508 - val_accuracy: 0.8971\n",
      "Epoch 78/100\n",
      "499/499 [==============================] - 126s 252ms/step - loss: 0.3543 - accuracy: 0.9115 - val_loss: 0.2508 - val_accuracy: 0.8986\n",
      "Epoch 79/100\n",
      "499/499 [==============================] - 127s 254ms/step - loss: 0.3508 - accuracy: 0.9136 - val_loss: 0.2449 - val_accuracy: 0.9012\n",
      "Epoch 80/100\n",
      "499/499 [==============================] - 125s 251ms/step - loss: 0.3368 - accuracy: 0.9183 - val_loss: 0.2499 - val_accuracy: 0.8984\n",
      "Epoch 81/100\n",
      "499/499 [==============================] - 128s 255ms/step - loss: 0.3409 - accuracy: 0.9163 - val_loss: 0.2356 - val_accuracy: 0.9036\n",
      "Epoch 82/100\n",
      "499/499 [==============================] - 126s 253ms/step - loss: 0.3434 - accuracy: 0.9160 - val_loss: 0.2371 - val_accuracy: 0.9033\n",
      "Epoch 83/100\n",
      "499/499 [==============================] - 128s 256ms/step - loss: 0.3355 - accuracy: 0.9207 - val_loss: 0.2557 - val_accuracy: 0.8960\n",
      "Epoch 84/100\n",
      "499/499 [==============================] - 127s 254ms/step - loss: 0.3323 - accuracy: 0.9191 - val_loss: 0.2316 - val_accuracy: 0.9084\n",
      "Epoch 85/100\n",
      "499/499 [==============================] - 128s 257ms/step - loss: 0.3325 - accuracy: 0.9187 - val_loss: 0.2254 - val_accuracy: 0.9107\n",
      "Epoch 86/100\n",
      "499/499 [==============================] - 126s 253ms/step - loss: 0.3286 - accuracy: 0.9204 - val_loss: 0.2476 - val_accuracy: 0.8981\n",
      "Epoch 87/100\n",
      "499/499 [==============================] - 127s 255ms/step - loss: 0.3239 - accuracy: 0.9213 - val_loss: 0.2451 - val_accuracy: 0.8998\n",
      "Epoch 88/100\n",
      "499/499 [==============================] - 127s 254ms/step - loss: 0.3269 - accuracy: 0.9218 - val_loss: 0.2390 - val_accuracy: 0.9066\n",
      "Epoch 89/100\n",
      "499/499 [==============================] - 129s 258ms/step - loss: 0.3219 - accuracy: 0.9206 - val_loss: 0.2471 - val_accuracy: 0.8997\n",
      "Epoch 90/100\n",
      "499/499 [==============================] - 128s 256ms/step - loss: 0.3275 - accuracy: 0.9208 - val_loss: 0.2467 - val_accuracy: 0.8995\n",
      "Epoch 91/100\n",
      "499/499 [==============================] - 130s 259ms/step - loss: 0.3131 - accuracy: 0.9242 - val_loss: 0.2400 - val_accuracy: 0.9027\n",
      "Epoch 92/100\n",
      "499/499 [==============================] - 127s 255ms/step - loss: 0.3253 - accuracy: 0.9207 - val_loss: 0.2451 - val_accuracy: 0.8983\n",
      "Epoch 93/100\n",
      "499/499 [==============================] - 129s 259ms/step - loss: 0.3246 - accuracy: 0.9213 - val_loss: 0.2378 - val_accuracy: 0.9038\n",
      "Epoch 94/100\n",
      "499/499 [==============================] - 127s 254ms/step - loss: 0.3188 - accuracy: 0.9233 - val_loss: 0.2354 - val_accuracy: 0.9042\n",
      "Epoch 95/100\n",
      "499/499 [==============================] - 128s 257ms/step - loss: 0.3157 - accuracy: 0.9233 - val_loss: 0.2476 - val_accuracy: 0.8972\n",
      "Epoch 96/100\n",
      "499/499 [==============================] - 126s 253ms/step - loss: 0.3130 - accuracy: 0.9239 - val_loss: 0.2143 - val_accuracy: 0.9177\n",
      "Epoch 97/100\n",
      "499/499 [==============================] - 126s 253ms/step - loss: 0.3197 - accuracy: 0.9225 - val_loss: 0.2273 - val_accuracy: 0.9109\n",
      "Epoch 98/100\n",
      "499/499 [==============================] - 129s 258ms/step - loss: 0.3123 - accuracy: 0.9259 - val_loss: 0.2294 - val_accuracy: 0.9080\n",
      "Epoch 99/100\n",
      "499/499 [==============================] - 127s 255ms/step - loss: 0.3165 - accuracy: 0.9257 - val_loss: 0.2292 - val_accuracy: 0.9084\n",
      "Epoch 100/100\n",
      "499/499 [==============================] - 129s 259ms/step - loss: 0.3144 - accuracy: 0.9246 - val_loss: 0.2331 - val_accuracy: 0.9054\n"
     ]
    },
    {
     "data": {
      "text/plain": [
       "<keras.callbacks.History at 0x7f94bb203310>"
      ]
     },
     "execution_count": 13,
     "metadata": {},
     "output_type": "execute_result"
    }
   ],
   "source": [
    "weights = {0:1, 1:6}\n",
    "model.fit(train_features, train_target,  class_weight=weights,validation_split=0.3,batch_size = 64,epochs=100)\n",
    "\n",
    "\n"
   ]
  },
  {
   "cell_type": "code",
   "execution_count": 14,
   "id": "88b740dc",
   "metadata": {
    "execution": {
     "iopub.execute_input": "2023-01-24T13:39:28.446552Z",
     "iopub.status.busy": "2023-01-24T13:39:28.445301Z",
     "iopub.status.idle": "2023-01-24T13:39:28.505167Z",
     "shell.execute_reply": "2023-01-24T13:39:28.504186Z"
    },
    "papermill": {
     "duration": 3.444829,
     "end_time": "2023-01-24T13:39:28.508019",
     "exception": false,
     "start_time": "2023-01-24T13:39:25.063190",
     "status": "completed"
    },
    "tags": []
   },
   "outputs": [],
   "source": [
    "model.save(\"/kaggle/working/trained_model_breast_cancer3.h5\")"
   ]
  },
  {
   "cell_type": "code",
   "execution_count": 15,
   "id": "4970b86b",
   "metadata": {
    "execution": {
     "iopub.execute_input": "2023-01-24T13:39:35.257388Z",
     "iopub.status.busy": "2023-01-24T13:39:35.256645Z",
     "iopub.status.idle": "2023-01-24T13:39:35.261210Z",
     "shell.execute_reply": "2023-01-24T13:39:35.260078Z"
    },
    "papermill": {
     "duration": 3.41128,
     "end_time": "2023-01-24T13:39:35.263374",
     "exception": false,
     "start_time": "2023-01-24T13:39:31.852094",
     "status": "completed"
    },
    "tags": []
   },
   "outputs": [],
   "source": [
    "#from tensorflow import keras\n",
    "#savedModel = keras.models.load_model(\"/kaggle/input/pre-trained-model-of-breast-cancer/trained_model_breast_cancer3.h5\")\n",
    "\n"
   ]
  },
  {
   "cell_type": "code",
   "execution_count": 16,
   "id": "1d225d57",
   "metadata": {
    "execution": {
     "iopub.execute_input": "2023-01-24T13:39:41.855417Z",
     "iopub.status.busy": "2023-01-24T13:39:41.854680Z",
     "iopub.status.idle": "2023-01-24T13:40:00.642728Z",
     "shell.execute_reply": "2023-01-24T13:40:00.641527Z"
    },
    "papermill": {
     "duration": 22.085046,
     "end_time": "2023-01-24T13:40:00.646203",
     "exception": false,
     "start_time": "2023-01-24T13:39:38.561157",
     "status": "completed"
    },
    "tags": []
   },
   "outputs": [],
   "source": [
    "test_features=[]\n",
    "for i in test['img_data']:\n",
    "    test_features.append([i])\n",
    "test_features=np.array(test_features)\n",
    " \n",
    "\n",
    "\n",
    "scaler = StandardScaler()\n",
    "norm_features= []\n",
    "for i in range(len(test_features)):\n",
    "    norm_features.append(scaler.fit_transform(test_features[i][0]))\n",
    "test_features=np.array(norm_features)\n",
    "\n",
    "\n",
    "test_features = test_features.reshape(len(test_features),128,128,1)\n",
    "\n",
    "\n",
    "test_target = np.array(test['cancer'])"
   ]
  },
  {
   "cell_type": "code",
   "execution_count": 17,
   "id": "27bf04db",
   "metadata": {
    "execution": {
     "iopub.execute_input": "2023-01-24T13:40:07.574911Z",
     "iopub.status.busy": "2023-01-24T13:40:07.574512Z",
     "iopub.status.idle": "2023-01-24T13:40:26.073539Z",
     "shell.execute_reply": "2023-01-24T13:40:26.072294Z"
    },
    "papermill": {
     "duration": 22.000496,
     "end_time": "2023-01-24T13:40:26.076445",
     "exception": false,
     "start_time": "2023-01-24T13:40:04.075949",
     "status": "completed"
    },
    "tags": []
   },
   "outputs": [],
   "source": [
    "pred = model.predict(test_features)\n",
    "bin_pred = []\n",
    "for i in pred:\n",
    "    if i>=0.5:\n",
    "        bin_pred.append(1)\n",
    "    else:\n",
    "        bin_pred.append(0)\n",
    "bin_pred = np.array(bin_pred)\n"
   ]
  },
  {
   "cell_type": "code",
   "execution_count": 18,
   "id": "327d6f5d",
   "metadata": {
    "execution": {
     "iopub.execute_input": "2023-01-24T13:40:32.984921Z",
     "iopub.status.busy": "2023-01-24T13:40:32.984509Z",
     "iopub.status.idle": "2023-01-24T13:40:33.024436Z",
     "shell.execute_reply": "2023-01-24T13:40:33.023536Z"
    },
    "papermill": {
     "duration": 3.525964,
     "end_time": "2023-01-24T13:40:33.027094",
     "exception": false,
     "start_time": "2023-01-24T13:40:29.501130",
     "status": "completed"
    },
    "tags": []
   },
   "outputs": [
    {
     "name": "stdout",
     "output_type": "stream",
     "text": [
      "0.900762577409284\n",
      "0.904074490688664 0.885778908679672\n"
     ]
    }
   ],
   "source": [
    "import sklearn\n",
    "acc = sklearn.metrics.accuracy_score(test_target, bin_pred)\n",
    "print(acc)\n",
    "\n",
    "countzero=0\n",
    "countone=0\n",
    "countzerot=0\n",
    "countonet=0\n",
    "for i, j in zip(test_target, bin_pred):\n",
    "    if i==0 and j==0:\n",
    "        countzero+=1\n",
    "    if i==1 and j==1:\n",
    "        countone+=1\n",
    "    if i==1:\n",
    "        countonet+=1\n",
    "    if i==0:\n",
    "        countzerot+=1\n",
    "print(countzero/countzerot,countone/countonet)"
   ]
  },
  {
   "cell_type": "code",
   "execution_count": 19,
   "id": "952406c8",
   "metadata": {
    "execution": {
     "iopub.execute_input": "2023-01-24T13:40:39.814050Z",
     "iopub.status.busy": "2023-01-24T13:40:39.813642Z",
     "iopub.status.idle": "2023-01-24T13:40:39.824421Z",
     "shell.execute_reply": "2023-01-24T13:40:39.822959Z"
    },
    "papermill": {
     "duration": 3.359608,
     "end_time": "2023-01-24T13:40:39.826974",
     "exception": false,
     "start_time": "2023-01-24T13:40:36.467366",
     "status": "completed"
    },
    "tags": []
   },
   "outputs": [
    {
     "name": "stdout",
     "output_type": "stream",
     "text": [
      "0.7636806825106642\n"
     ]
    }
   ],
   "source": [
    "\n",
    "def recall_m(y_true, y_pred):\n",
    "    true_positives = np.sum(np.round(np.clip(y_true * y_pred, 0, 1)))\n",
    "    possible_positives = np.sum(np.round(np.clip(y_true, 0, 1)))\n",
    "    recall = true_positives / (possible_positives )\n",
    "    return recall\n",
    "\n",
    "def precision_m(y_true, y_pred):\n",
    "    true_positives = np.sum(np.round(np.clip(y_true * y_pred, 0, 1)))\n",
    "    predicted_positives = np.sum(np.round(np.clip(y_pred, 0, 1)))\n",
    "    precision = true_positives / (predicted_positives )\n",
    "    return precision\n",
    "\n",
    "def f1_m(y_true, y_pred):\n",
    "    precision = precision_m(y_true, y_pred)\n",
    "    recall = recall_m(y_true, y_pred)\n",
    "    return 2*((precision*recall)/(precision+recall))\n",
    "\n",
    "\n",
    "print(f1_m(test_target,bin_pred))"
   ]
  },
  {
   "cell_type": "code",
   "execution_count": 20,
   "id": "0298543d",
   "metadata": {
    "execution": {
     "iopub.execute_input": "2023-01-24T13:40:46.574520Z",
     "iopub.status.busy": "2023-01-24T13:40:46.573655Z",
     "iopub.status.idle": "2023-01-24T13:41:24.204223Z",
     "shell.execute_reply": "2023-01-24T13:41:24.202607Z"
    },
    "papermill": {
     "duration": 40.945591,
     "end_time": "2023-01-24T13:41:24.207859",
     "exception": false,
     "start_time": "2023-01-24T13:40:43.262268",
     "status": "completed"
    },
    "tags": []
   },
   "outputs": [
    {
     "name": "stderr",
     "output_type": "stream",
     "text": [
      " 75%|███████▌  | 3/4 [00:00<00:00,  4.17it/s]\n"
     ]
    }
   ],
   "source": [
    "datasetPath = '/kaggle/input/rsna-breast-cancer-detection/test.csv'\n",
    "imgPath = '/kaggle/input/rsna-breast-cancer-detection/test_images/'\n",
    "\n",
    "testImgData = dcmToPix(datasetPath, imgPath)"
   ]
  },
  {
   "cell_type": "code",
   "execution_count": 21,
   "id": "2d47aadc",
   "metadata": {
    "execution": {
     "iopub.execute_input": "2023-01-24T13:41:30.833272Z",
     "iopub.status.busy": "2023-01-24T13:41:30.832782Z",
     "iopub.status.idle": "2023-01-24T13:41:30.863436Z",
     "shell.execute_reply": "2023-01-24T13:41:30.862538Z"
    },
    "papermill": {
     "duration": 3.331044,
     "end_time": "2023-01-24T13:41:30.866217",
     "exception": false,
     "start_time": "2023-01-24T13:41:27.535173",
     "status": "completed"
    },
    "tags": []
   },
   "outputs": [],
   "source": [
    "datacancer = pd.read_csv(datasetPath)\n",
    "imgDataFrame = {'img_data':testImgData}\n",
    "imgData2 = pd.DataFrame(imgDataFrame)\n",
    "testImgData=imgData2\n",
    "imgdata_shuff = testImgData.sample(frac=1)"
   ]
  },
  {
   "cell_type": "code",
   "execution_count": 22,
   "id": "283b2291",
   "metadata": {
    "execution": {
     "iopub.execute_input": "2023-01-24T13:41:37.600303Z",
     "iopub.status.busy": "2023-01-24T13:41:37.599875Z",
     "iopub.status.idle": "2023-01-24T13:41:37.615204Z",
     "shell.execute_reply": "2023-01-24T13:41:37.614262Z"
    },
    "papermill": {
     "duration": 3.374861,
     "end_time": "2023-01-24T13:41:37.617614",
     "exception": false,
     "start_time": "2023-01-24T13:41:34.242753",
     "status": "completed"
    },
    "tags": []
   },
   "outputs": [
    {
     "name": "stderr",
     "output_type": "stream",
     "text": [
      "100%|██████████| 4/4 [00:00<00:00, 1401.49it/s]\n"
     ]
    }
   ],
   "source": [
    "imgDataList=[]\n",
    "for j in tqdm(imgdata_shuff['img_data']):\n",
    "    imgDataList.append(random_rotate(j))\n",
    "imgdata_shuff['img_data'] = imgDataList"
   ]
  },
  {
   "cell_type": "code",
   "execution_count": 23,
   "id": "ab81ee45",
   "metadata": {
    "execution": {
     "iopub.execute_input": "2023-01-24T13:41:44.273549Z",
     "iopub.status.busy": "2023-01-24T13:41:44.273078Z",
     "iopub.status.idle": "2023-01-24T13:41:44.634508Z",
     "shell.execute_reply": "2023-01-24T13:41:44.633362Z"
    },
    "papermill": {
     "duration": 3.709123,
     "end_time": "2023-01-24T13:41:44.637326",
     "exception": false,
     "start_time": "2023-01-24T13:41:40.928203",
     "status": "completed"
    },
    "tags": []
   },
   "outputs": [],
   "source": [
    "test=imgdata_shuff\n",
    "\n",
    "\n",
    "test_features=[]\n",
    "for i in test['img_data']:\n",
    "    test_features.append([i])\n",
    "test_features=np.array(test_features)\n",
    "\n",
    "\n",
    "from sklearn.preprocessing import StandardScaler\n",
    "\n",
    "scaler = StandardScaler()\n",
    "norm_features= []\n",
    "for i in range(len(test_features)):\n",
    "    norm_features.append(scaler.fit_transform(test_features[i][0]))\n",
    "test_features=np.array(norm_features)\n",
    "\n",
    "test_features = test_features.reshape(len(test_features),128,128,1)\n",
    "\n"
   ]
  },
  {
   "cell_type": "code",
   "execution_count": 24,
   "id": "21b4ca2a",
   "metadata": {
    "execution": {
     "iopub.execute_input": "2023-01-24T13:41:51.222348Z",
     "iopub.status.busy": "2023-01-24T13:41:51.221936Z",
     "iopub.status.idle": "2023-01-24T13:41:51.313861Z",
     "shell.execute_reply": "2023-01-24T13:41:51.312680Z"
    },
    "papermill": {
     "duration": 3.376398,
     "end_time": "2023-01-24T13:41:51.317136",
     "exception": false,
     "start_time": "2023-01-24T13:41:47.940738",
     "status": "completed"
    },
    "tags": []
   },
   "outputs": [
    {
     "name": "stdout",
     "output_type": "stream",
     "text": [
      "[0 0 0 0]\n"
     ]
    }
   ],
   "source": [
    "pred = model.predict(test_features)\n",
    "bin_pred = []\n",
    "for i in pred:\n",
    "    if i>=0.5:\n",
    "        bin_pred.append(1)\n",
    "    else:\n",
    "        bin_pred.append(0)\n",
    "bin_pred = np.array(bin_pred)\n",
    "print(bin_pred)"
   ]
  },
  {
   "cell_type": "code",
   "execution_count": 25,
   "id": "96b60611",
   "metadata": {
    "execution": {
     "iopub.execute_input": "2023-01-24T13:41:58.036793Z",
     "iopub.status.busy": "2023-01-24T13:41:58.036013Z",
     "iopub.status.idle": "2023-01-24T13:41:58.054306Z",
     "shell.execute_reply": "2023-01-24T13:41:58.052769Z"
    },
    "papermill": {
     "duration": 3.436649,
     "end_time": "2023-01-24T13:41:58.057004",
     "exception": false,
     "start_time": "2023-01-24T13:41:54.620355",
     "status": "completed"
    },
    "tags": []
   },
   "outputs": [
    {
     "name": "stdout",
     "output_type": "stream",
     "text": [
      "  prediction_id  cancer\n",
      "0       10008_L       0\n",
      "1       10008_L       0\n",
      "2       10008_R       0\n",
      "3       10008_R       0\n"
     ]
    }
   ],
   "source": [
    "testData = pd.read_csv('/kaggle/input/rsna-breast-cancer-detection/test.csv')\n",
    "\n",
    "submissionFrame={'prediction_id':testData['prediction_id'],'cancer':bin_pred}\n",
    "submission = pd.DataFrame(submissionFrame)\n",
    "print(submission)"
   ]
  }
 ],
 "metadata": {
  "kernelspec": {
   "display_name": "Python 3",
   "language": "python",
   "name": "python3"
  },
  "language_info": {
   "codemirror_mode": {
    "name": "ipython",
    "version": 3
   },
   "file_extension": ".py",
   "mimetype": "text/x-python",
   "name": "python",
   "nbconvert_exporter": "python",
   "pygments_lexer": "ipython3",
   "version": "3.7.12"
  },
  "papermill": {
   "default_parameters": {},
   "duration": 12799.651489,
   "end_time": "2023-01-24T13:42:05.330963",
   "environment_variables": {},
   "exception": null,
   "input_path": "__notebook__.ipynb",
   "output_path": "__notebook__.ipynb",
   "parameters": {},
   "start_time": "2023-01-24T10:08:45.679474",
   "version": "2.3.4"
  }
 },
 "nbformat": 4,
 "nbformat_minor": 5
}
