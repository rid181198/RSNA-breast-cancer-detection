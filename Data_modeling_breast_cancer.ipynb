{
 "cells": [
  {
   "cell_type": "code",
   "execution_count": 1,
   "id": "6f8bd5af",
   "metadata": {
    "execution": {
     "iopub.execute_input": "2023-02-11T00:54:54.802646Z",
     "iopub.status.busy": "2023-02-11T00:54:54.802176Z",
     "iopub.status.idle": "2023-02-11T00:55:00.427525Z",
     "shell.execute_reply": "2023-02-11T00:55:00.426542Z"
    },
    "papermill": {
     "duration": 5.635173,
     "end_time": "2023-02-11T00:55:00.430399",
     "exception": false,
     "start_time": "2023-02-11T00:54:54.795226",
     "status": "completed"
    },
    "tags": []
   },
   "outputs": [],
   "source": [
    "import numpy as np\n",
    "import pandas as pd\n",
    "import matplotlib.pyplot as plt\n",
    "import seaborn as sns\n",
    "import pickle\n",
    "import tensorflow as tf\n",
    "import tensorflow_io as tfio\n",
    "import os\n",
    "from tqdm import tqdm\n",
    "import cv2\n",
    "from PIL import Image\n",
    "from joblib import Parallel, delayed\n",
    "import gc\n",
    "from PIL import Image as im\n",
    "import random\n",
    "from scipy import ndimage\n"
   ]
  },
  {
   "cell_type": "code",
   "execution_count": 2,
   "id": "bd41881e",
   "metadata": {
    "execution": {
     "iopub.execute_input": "2023-02-11T00:55:00.442005Z",
     "iopub.status.busy": "2023-02-11T00:55:00.440927Z",
     "iopub.status.idle": "2023-02-11T00:55:13.744084Z",
     "shell.execute_reply": "2023-02-11T00:55:13.742742Z"
    },
    "papermill": {
     "duration": 13.311807,
     "end_time": "2023-02-11T00:55:13.746967",
     "exception": false,
     "start_time": "2023-02-11T00:55:00.435160",
     "status": "completed"
    },
    "tags": []
   },
   "outputs": [
    {
     "name": "stdout",
     "output_type": "stream",
     "text": [
      "Collecting dicomsdl\r\n",
      "  Downloading dicomsdl-0.109.1-cp37-cp37m-manylinux_2_12_x86_64.manylinux2010_x86_64.whl (1.4 MB)\r\n",
      "\u001b[2K     \u001b[90m━━━━━━━━━━━━━━━━━━━━━━━━━━━━━━━━━━━━━━━━\u001b[0m \u001b[32m1.4/1.4 MB\u001b[0m \u001b[31m1.4 MB/s\u001b[0m eta \u001b[36m0:00:00\u001b[0m\r\n",
      "\u001b[?25hInstalling collected packages: dicomsdl\r\n",
      "Successfully installed dicomsdl-0.109.1\r\n",
      "\u001b[33mWARNING: Running pip as the 'root' user can result in broken permissions and conflicting behaviour with the system package manager. It is recommended to use a virtual environment instead: https://pip.pypa.io/warnings/venv\u001b[0m\u001b[33m\r\n",
      "\u001b[0m"
     ]
    }
   ],
   "source": [
    "import sys\n",
    "!{sys.executable} -m pip install dicomsdl\n",
    "#!pip install /kaggle/input/rsnapacks/dicomsdl-0.109.1-cp36-cp36m-manylinux_2_12_x86_64.manylinux2010_x86_64.whl\n",
    "import numpy as np\n",
    "import pandas as pd\n",
    "import matplotlib.pyplot as plt\n",
    "import seaborn as sns\n",
    "import pickle\n",
    "#import pydicom as dicom\n",
    "import dicomsdl as dicom\n",
    "import tensorflow as tf\n",
    "import tensorflow_io as tfio\n",
    "from PIL import Image as im\n",
    "import os\n",
    "from tqdm import tqdm\n",
    "import cv2\n",
    "from PIL import Image\n",
    "from joblib import Parallel, delayed\n",
    "import gc\n",
    "import random"
   ]
  },
  {
   "cell_type": "code",
   "execution_count": 3,
   "id": "c41801fc",
   "metadata": {
    "execution": {
     "iopub.execute_input": "2023-02-11T00:55:13.761067Z",
     "iopub.status.busy": "2023-02-11T00:55:13.760309Z",
     "iopub.status.idle": "2023-02-11T00:55:13.779617Z",
     "shell.execute_reply": "2023-02-11T00:55:13.778754Z"
    },
    "papermill": {
     "duration": 0.028597,
     "end_time": "2023-02-11T00:55:13.781654",
     "exception": false,
     "start_time": "2023-02-11T00:55:13.753057",
     "status": "completed"
    },
    "tags": []
   },
   "outputs": [],
   "source": [
    "datasetPath = '/kaggle/input/rsna-breast-cancer-detection/train.csv'\n",
    "imgPath = '/kaggle/input/rsna-breast-cancer-detection/train_images/'\n",
    "\n",
    "def crop(sideName, imgName):\n",
    "    \"\"\"\n",
    "    This function is used to crop the breast images. It takes two arguments.\n",
    "    \n",
    "    Input:-\n",
    "    :sideName = Laterality of breast if it is right or left\n",
    "    :imgName = Image pixel data of the DCM images\n",
    "    \n",
    "    Output:-\n",
    "    :return = Output after cropping the image.\n",
    "    \n",
    "    \"\"\"\n",
    "    if sideName == 'L':\n",
    "        colind=[]\n",
    "        for r,row in enumerate(imgName):\n",
    "            for c,col in enumerate(row):\n",
    "                if col==0:\n",
    "                    colind.append(c)\n",
    "                    break\n",
    "        crop_size = max(colind)\n",
    "        imgName = imgName[0:512,0:crop_size]\n",
    "        imgName = cv2.resize(imgName,(128,128))\n",
    "        \n",
    "    if sideName == 'R':\n",
    "        colind=[]\n",
    "        for r,row in enumerate(imgName):\n",
    "            for c,col in enumerate(row):\n",
    "                if col!=0:\n",
    "                    colind.append(c)\n",
    "                    break\n",
    "        crop_size = min(colind)\n",
    "        imgName = imgName[0:512,crop_size:512]\n",
    "        imgName = cv2.resize(imgName,(128,128))\n",
    "    \n",
    "    return imgName    \n",
    "\n",
    "    gc.collect()\n",
    "    \n",
    "def crop_reverse(sideName, imgName):\n",
    "    \n",
    "    \"\"\"\n",
    "    This function is used to crop the breast images but in the reverse order.\n",
    "    Because the laterality is defined wrongly for some images. It takes two arguments.\n",
    "    \n",
    "    Input:-\n",
    "    :sideName = Laterality of breast if it is right or left\n",
    "    :imgName = Image pixel data of the DCM images\n",
    "    \n",
    "    Output:-\n",
    "    :return = Output after cropping the image.\n",
    "    \n",
    "    \"\"\"\n",
    "    \n",
    "    if sideName == 'R':\n",
    "        colind=[]\n",
    "        for r,row in enumerate(imgName):\n",
    "            for c,col in enumerate(row):\n",
    "                if col==0:\n",
    "                    colind.append(c)\n",
    "                    break\n",
    "        crop_size = max(colind)\n",
    "        imgName = imgName[0:512,0:crop_size]\n",
    "        imgName = cv2.resize(imgName,(128,128))\n",
    "        \n",
    "    if sideName == 'L':\n",
    "        colind=[]\n",
    "        for r,row in enumerate(imgName):\n",
    "            for c,col in enumerate(row):\n",
    "                if col!=0:\n",
    "                    colind.append(c)\n",
    "                    break\n",
    "        crop_size = min(colind)\n",
    "        imgName = imgName[0:512,crop_size:512]\n",
    "        imgName = cv2.resize(imgName,(128,128))\n",
    "    \n",
    "    return imgName    \n",
    "\n",
    "    gc.collect()\n",
    "    \n",
    "\n",
    "def img_process(i,filename,sides):\n",
    "    \n",
    "    \"\"\"\n",
    "    This function is used to process the images which will be used for the training/test dataset. It takes three arguments.\n",
    "    \n",
    "    Input:-\n",
    "    :i = Index of the image in the dataframe\n",
    "    :filename = Path of the image\n",
    "    :sides = List of all images' laterality\n",
    "    \n",
    "    Output:-\n",
    "    :return = Output after cropping the image.\n",
    "    \n",
    "    \"\"\"\n",
    "    \n",
    "    \n",
    "    #ds = dicom.dcmread(filename)\n",
    "    dsraw = dicom.open(filename)\n",
    "    ds = dsraw.pixelData()\n",
    "    \n",
    "    ds = (ds - ds.min()) / (ds.max() - ds.min())\n",
    "    if dsraw.PhotometricInterpretation == \"MONOCHROME1\":  \n",
    "        ds = 1 - ds\n",
    "    ds = (ds * 255).astype(np.uint8)\n",
    "\n",
    "    \n",
    "    #ds = cv2.normalize(ds, None, 0, 1.0, cv2.NORM_MINMAX, dtype=cv2.CV_32F)\n",
    "    ds = cv2.resize(ds,(512,512))\n",
    "    \n",
    "    #ds = np.where(ds >= 0.999, 0,ds)\n",
    "    \n",
    "    try:\n",
    "        ds = np.array(crop(sides[i], ds))   \n",
    "    except:\n",
    "        ds = np.array(crop_reverse(sides[i], ds))\n",
    "    \n",
    "\n",
    "    #train_data.loc[i,'img_data'] = [img_fin]\n",
    "    #train_data.to_csv('/kaggle/working/training_img_data.csv') \n",
    "    return ds\n",
    "    gc.collect()\n",
    "\n",
    "def dcmToPix(datasetPath, imgPath):\n",
    "    \n",
    "    \"\"\"\n",
    "    This function is used to process all the images which will be used for the training/test dataset. It takes two arguments.\n",
    "    \n",
    "    Input:-\n",
    "    :datasetPath = Path of the cancer dataset\n",
    "    :imgPath = Path of the image dataset\n",
    "   \n",
    "    Output:-\n",
    "    :return = Array of all the processed images\n",
    "    \n",
    "    \"\"\"\n",
    "    \n",
    "    \n",
    "    dataset = pd.read_csv(datasetPath)\n",
    "    \n",
    "    patient_ids = dataset['patient_id']\n",
    "    image_ids = dataset['image_id']\n",
    "    sides  = dataset['laterality']\n",
    "\n",
    "    imgData = []\n",
    "\n",
    "    for pi, ii, leng in zip(patient_ids, image_ids, range(len(patient_ids))):\n",
    "        imgData.append(imgPath + str(pi) + '/' + str(ii) + '.dcm')\n",
    "\n",
    "    dataset['img_data'] = \" \"\n",
    "    \n",
    "    result = Parallel(n_jobs=128)(\\\n",
    "    delayed(img_process)(i, fname, sides) for i, fname in zip(range(len(imgData)),tqdm(imgData))\\\n",
    "    )\n",
    "    \n",
    "    dataset['img_data'] = result\n",
    "    dataset.to_pickle('imgData.pkl' )\n",
    "    \n",
    "    return result\n",
    "    "
   ]
  },
  {
   "cell_type": "code",
   "execution_count": 4,
   "id": "1f7afe56",
   "metadata": {
    "_cell_guid": "b1076dfc-b9ad-4769-8c92-a6c4dae69d19",
    "_uuid": "8f2839f25d086af736a60e9eeb907d3b93b6e0e5",
    "execution": {
     "iopub.execute_input": "2023-02-11T00:55:13.794220Z",
     "iopub.status.busy": "2023-02-11T00:55:13.793933Z",
     "iopub.status.idle": "2023-02-11T00:55:23.874934Z",
     "shell.execute_reply": "2023-02-11T00:55:23.873941Z"
    },
    "papermill": {
     "duration": 10.090258,
     "end_time": "2023-02-11T00:55:23.877713",
     "exception": false,
     "start_time": "2023-02-11T00:55:13.787455",
     "status": "completed"
    },
    "tags": []
   },
   "outputs": [],
   "source": [
    "with (open('/kaggle/input/output/imgData.pkl', \"rb\")) as openfile:\n",
    "     imgData = pickle.load(openfile)"
   ]
  },
  {
   "cell_type": "code",
   "execution_count": 5,
   "id": "51a9562e",
   "metadata": {
    "execution": {
     "iopub.execute_input": "2023-02-11T00:55:23.890721Z",
     "iopub.status.busy": "2023-02-11T00:55:23.890381Z",
     "iopub.status.idle": "2023-02-11T00:55:23.894567Z",
     "shell.execute_reply": "2023-02-11T00:55:23.893501Z"
    },
    "papermill": {
     "duration": 0.013267,
     "end_time": "2023-02-11T00:55:23.896923",
     "exception": false,
     "start_time": "2023-02-11T00:55:23.883656",
     "status": "completed"
    },
    "tags": []
   },
   "outputs": [],
   "source": [
    "#datacancer = pd.read_csv(datasetPath)\n",
    "#imgDataFrame = {'cancer':datacancer['cancer'][:50], 'img_data':imgData}\n",
    "#imgData2 = pd.DataFrame(imgDataFrame)\n",
    "\n",
    "#imgData=imgData2"
   ]
  },
  {
   "cell_type": "code",
   "execution_count": 6,
   "id": "5ab40253",
   "metadata": {
    "execution": {
     "iopub.execute_input": "2023-02-11T00:55:23.909366Z",
     "iopub.status.busy": "2023-02-11T00:55:23.909081Z",
     "iopub.status.idle": "2023-02-11T00:55:23.983853Z",
     "shell.execute_reply": "2023-02-11T00:55:23.982877Z"
    },
    "papermill": {
     "duration": 0.083873,
     "end_time": "2023-02-11T00:55:23.986442",
     "exception": false,
     "start_time": "2023-02-11T00:55:23.902569",
     "status": "completed"
    },
    "tags": []
   },
   "outputs": [],
   "source": [
    "imgdata_pos = imgData[imgData['cancer'] == 1]\n",
    "imgdata_neg = imgData[imgData['cancer'] == 0]\n",
    "\n",
    "imgdata_pos = imgdata_pos.sample(frac = 1)\n",
    "imgdata_neg = imgdata_neg.sample(frac = 1)\n",
    "\n",
    "imgdata_neg = imgdata_neg.sample(frac= 0.7)\n",
    "\n",
    "frames = 5*[imgdata_pos]\n",
    "frames.append(imgdata_neg)\n",
    "imgdata_shuff = pd.concat(frames)\n",
    "imgdata_shuff = imgdata_shuff.sample(frac=1)"
   ]
  },
  {
   "cell_type": "code",
   "execution_count": 7,
   "id": "ee978e9f",
   "metadata": {
    "execution": {
     "iopub.execute_input": "2023-02-11T00:55:23.999930Z",
     "iopub.status.busy": "2023-02-11T00:55:23.999348Z",
     "iopub.status.idle": "2023-02-11T00:55:24.010190Z",
     "shell.execute_reply": "2023-02-11T00:55:24.009272Z"
    },
    "papermill": {
     "duration": 0.019977,
     "end_time": "2023-02-11T00:55:24.012445",
     "exception": false,
     "start_time": "2023-02-11T00:55:23.992468",
     "status": "completed"
    },
    "tags": []
   },
   "outputs": [
    {
     "name": "stdout",
     "output_type": "stream",
     "text": [
      "0    37484\n",
      "1     5790\n",
      "Name: cancer, dtype: int64\n"
     ]
    }
   ],
   "source": [
    "print(imgdata_shuff['cancer'].value_counts())"
   ]
  },
  {
   "cell_type": "code",
   "execution_count": 8,
   "id": "de40d952",
   "metadata": {
    "execution": {
     "iopub.execute_input": "2023-02-11T00:55:24.025609Z",
     "iopub.status.busy": "2023-02-11T00:55:24.025277Z",
     "iopub.status.idle": "2023-02-11T00:55:24.186560Z",
     "shell.execute_reply": "2023-02-11T00:55:24.185494Z"
    },
    "papermill": {
     "duration": 0.170937,
     "end_time": "2023-02-11T00:55:24.189250",
     "exception": false,
     "start_time": "2023-02-11T00:55:24.018313",
     "status": "completed"
    },
    "tags": []
   },
   "outputs": [],
   "source": [
    "from sklearn.decomposition import PCA\n",
    "\n",
    "\n",
    "def random_rotate(imgData):\n",
    "    #thresh = 0.15\n",
    "    \n",
    "    imgData = imgData.reshape(128,128)\n",
    "    clahe = cv2.createCLAHE(clipLimit=5, tileGridSize=(3,3))\n",
    "    imgData = clahe.apply(imgData)\n",
    "    imgData = ndimage.rotate(imgData, random.randint(-30, 30), reshape=False)\n",
    "\n",
    "    #imgData = np.clip(imgData,thresh,1)\n",
    "    imgData = imgData[15:110,15:110]\n",
    "    pca = PCA(25)\n",
    "    imgData = pca.fit_transform(imgData)\n",
    "    imgData = pca.inverse_transform(imgData)\n",
    "    #imgData = cv2.resize(imgData,(528,528))\n",
    "    \n",
    "    \n",
    "    #imgData = im.fromarray(imgData)\n",
    "    #imgData = np.asarray(imgData.rotate(random.randint(-20, 20)))\n",
    "    return imgData"
   ]
  },
  {
   "cell_type": "code",
   "execution_count": 9,
   "id": "de2b53ab",
   "metadata": {
    "execution": {
     "iopub.execute_input": "2023-02-11T00:55:24.202738Z",
     "iopub.status.busy": "2023-02-11T00:55:24.202359Z",
     "iopub.status.idle": "2023-02-11T01:02:47.299208Z",
     "shell.execute_reply": "2023-02-11T01:02:47.297640Z"
    },
    "papermill": {
     "duration": 443.107718,
     "end_time": "2023-02-11T01:02:47.303142",
     "exception": false,
     "start_time": "2023-02-11T00:55:24.195424",
     "status": "completed"
    },
    "tags": []
   },
   "outputs": [
    {
     "name": "stderr",
     "output_type": "stream",
     "text": [
      " 10%|█         | 4474/43274 [00:45<06:03, 106.81it/s]/opt/conda/lib/python3.7/site-packages/sklearn/decomposition/_pca.py:501: RuntimeWarning: invalid value encountered in true_divide\n",
      "  explained_variance_ratio_ = explained_variance_ / total_var\n",
      " 27%|██▋       | 11631/43274 [01:57<04:59, 105.80it/s]/opt/conda/lib/python3.7/site-packages/sklearn/decomposition/_pca.py:501: RuntimeWarning: invalid value encountered in true_divide\n",
      "  explained_variance_ratio_ = explained_variance_ / total_var\n",
      " 81%|████████  | 34976/43274 [05:56<01:16, 108.57it/s]/opt/conda/lib/python3.7/site-packages/sklearn/decomposition/_pca.py:501: RuntimeWarning: invalid value encountered in true_divide\n",
      "  explained_variance_ratio_ = explained_variance_ / total_var\n",
      "100%|██████████| 43274/43274 [07:23<00:00, 97.67it/s]\n"
     ]
    }
   ],
   "source": [
    "imgDataList=[]\n",
    "for j in tqdm(imgdata_shuff['img_data']):\n",
    "    imgDataList.append(random_rotate(j))\n",
    "imgdata_shuff['img_data'] = imgDataList"
   ]
  },
  {
   "cell_type": "code",
   "execution_count": 10,
   "id": "c6803797",
   "metadata": {
    "execution": {
     "iopub.execute_input": "2023-02-11T01:02:47.764573Z",
     "iopub.status.busy": "2023-02-11T01:02:47.764227Z",
     "iopub.status.idle": "2023-02-11T01:02:59.409854Z",
     "shell.execute_reply": "2023-02-11T01:02:59.408800Z"
    },
    "papermill": {
     "duration": 11.847282,
     "end_time": "2023-02-11T01:02:59.412339",
     "exception": false,
     "start_time": "2023-02-11T01:02:47.565057",
     "status": "completed"
    },
    "tags": []
   },
   "outputs": [],
   "source": [
    "from sklearn.model_selection import train_test_split\n",
    "train,test = train_test_split(imgdata_shuff, test_size=0.3, random_state=42, shuffle=True)\n",
    "\n",
    "\n",
    "\n",
    "train_target = np.array(train['cancer'])\n",
    "train_features=[]\n",
    "for i in train['img_data']:\n",
    "    i=np.array(i)\n",
    "    train_features.append(i)\n",
    "train_features=np.array(train_features)\n",
    "\n",
    "\n",
    "\n",
    "#featureTransform = train_features.reshape(len(train_features), 6400)\n",
    "\n",
    "#from sklearn.preprocessing import StandardScaler\n",
    "from sklearn.preprocessing import MinMaxScaler\n",
    "\n",
    "scaler = MinMaxScaler()\n",
    "#featureTransform = scaler.fit_transform(featureTransform)\n",
    "norm_features= []\n",
    "for i in range(len(train_features)):\n",
    "        norm_features.append(scaler.fit_transform(train_features[i]))\n",
    "train_features=np.array(norm_features)\n",
    "\n",
    "\n",
    "\n",
    "\n",
    "#backTransform = featureTransform.reshape(len(train_features),80,80)\n",
    "#train_features = backTransform.reshape(len(train_features),80,80,1)\n",
    "train_features = train_features.reshape(len(train_features),95,95,1)\n",
    "#train_features = np.repeat(train_features[..., np.newaxis], 3, -1)\n",
    "\n",
    "\n"
   ]
  },
  {
   "cell_type": "code",
   "execution_count": 11,
   "id": "29673f21",
   "metadata": {
    "execution": {
     "iopub.execute_input": "2023-02-11T01:02:59.812047Z",
     "iopub.status.busy": "2023-02-11T01:02:59.811693Z",
     "iopub.status.idle": "2023-02-11T01:03:02.468451Z",
     "shell.execute_reply": "2023-02-11T01:03:02.467464Z"
    },
    "papermill": {
     "duration": 2.858155,
     "end_time": "2023-02-11T01:03:02.470900",
     "exception": false,
     "start_time": "2023-02-11T01:02:59.612745",
     "status": "completed"
    },
    "tags": []
   },
   "outputs": [
    {
     "name": "stderr",
     "output_type": "stream",
     "text": [
      "2023-02-11 01:02:59.908674: I tensorflow/stream_executor/cuda/cuda_gpu_executor.cc:937] successful NUMA node read from SysFS had negative value (-1), but there must be at least one NUMA node, so returning NUMA node zero\n",
      "2023-02-11 01:02:59.992637: I tensorflow/stream_executor/cuda/cuda_gpu_executor.cc:937] successful NUMA node read from SysFS had negative value (-1), but there must be at least one NUMA node, so returning NUMA node zero\n",
      "2023-02-11 01:02:59.993431: I tensorflow/stream_executor/cuda/cuda_gpu_executor.cc:937] successful NUMA node read from SysFS had negative value (-1), but there must be at least one NUMA node, so returning NUMA node zero\n",
      "2023-02-11 01:02:59.995978: I tensorflow/core/platform/cpu_feature_guard.cc:142] This TensorFlow binary is optimized with oneAPI Deep Neural Network Library (oneDNN) to use the following CPU instructions in performance-critical operations:  AVX2 AVX512F FMA\n",
      "To enable them in other operations, rebuild TensorFlow with the appropriate compiler flags.\n",
      "2023-02-11 01:02:59.997166: I tensorflow/stream_executor/cuda/cuda_gpu_executor.cc:937] successful NUMA node read from SysFS had negative value (-1), but there must be at least one NUMA node, so returning NUMA node zero\n",
      "2023-02-11 01:02:59.998145: I tensorflow/stream_executor/cuda/cuda_gpu_executor.cc:937] successful NUMA node read from SysFS had negative value (-1), but there must be at least one NUMA node, so returning NUMA node zero\n",
      "2023-02-11 01:02:59.999061: I tensorflow/stream_executor/cuda/cuda_gpu_executor.cc:937] successful NUMA node read from SysFS had negative value (-1), but there must be at least one NUMA node, so returning NUMA node zero\n",
      "2023-02-11 01:03:01.943427: I tensorflow/stream_executor/cuda/cuda_gpu_executor.cc:937] successful NUMA node read from SysFS had negative value (-1), but there must be at least one NUMA node, so returning NUMA node zero\n",
      "2023-02-11 01:03:01.944299: I tensorflow/stream_executor/cuda/cuda_gpu_executor.cc:937] successful NUMA node read from SysFS had negative value (-1), but there must be at least one NUMA node, so returning NUMA node zero\n",
      "2023-02-11 01:03:01.944970: I tensorflow/stream_executor/cuda/cuda_gpu_executor.cc:937] successful NUMA node read from SysFS had negative value (-1), but there must be at least one NUMA node, so returning NUMA node zero\n",
      "2023-02-11 01:03:01.946208: I tensorflow/core/common_runtime/gpu/gpu_device.cc:1510] Created device /job:localhost/replica:0/task:0/device:GPU:0 with 15401 MB memory:  -> device: 0, name: Tesla P100-PCIE-16GB, pci bus id: 0000:00:04.0, compute capability: 6.0\n"
     ]
    }
   ],
   "source": [
    "from keras.models import Sequential\n",
    "from keras.layers import LeakyReLU\n",
    "from keras.layers import Dense, Conv2D, Flatten,MaxPooling2D, Dropout, BatchNormalization, GlobalMaxPooling2D\n",
    "from tensorflow.keras.applications import *\n",
    "from tensorflow.keras import models\n",
    "from tensorflow.keras import layers\n",
    "from tensorflow.keras import optimizers\n",
    "import tensorflow as tf\n",
    "from tensorflow import keras\n",
    "#conv_base = EfficientNetB6(weights='imagenet', include_top=False, input_shape=(95,95,3),drop_connect_rate=0.2)\n",
    "model = Sequential()\n",
    "\n",
    "\n",
    "model.add(Conv2D(16, 3, activation = \"relu\", input_shape = (95,95,1)))\n",
    "#model.add(MaxPooling2D())\n",
    "model.add(LeakyReLU(alpha=0.2))\n",
    "model.add(Dropout(0.2))\n",
    "\n",
    "model.add(Conv2D(32, 3, activation = \"relu\"))\n",
    "model.add(MaxPooling2D())\n",
    "model.add(LeakyReLU(alpha=0.1))\n",
    "model.add(Dropout(0.1))\n",
    "\n",
    "model.add(Conv2D(32, 3, activation = \"relu\"))\n",
    "model.add(MaxPooling2D())\n",
    "model.add(LeakyReLU(alpha=0.1))\n",
    "model.add(Dropout(0.2))\n",
    "\n",
    "model.add(Conv2D(32, 3, activation = \"relu\"))\n",
    "model.add(MaxPooling2D())\n",
    "model.add(LeakyReLU(alpha=0.2))\n",
    "model.add(Dropout(0.1))\n",
    "\n",
    "model.add(Conv2D(32, 3, activation = \"relu\"))\n",
    "model.add(MaxPooling2D())\n",
    "model.add(LeakyReLU(alpha=0.2))\n",
    "model.add(Dropout(0.1))\n",
    "\n",
    "\n",
    "\n",
    "\n",
    "model.add(Flatten())\n",
    "\n",
    "#model.add(Dense(1024, activation = 'relu')) \n",
    "#model.add(LeakyReLU(alpha=0.2))\n",
    "#model.add(Dropout(0.2))\n",
    "\n",
    "model.add(Dense(512, activation = 'relu')) \n",
    "model.add(LeakyReLU(alpha=0.2))\n",
    "model.add(Dropout(0.1))\n",
    "\n",
    "#model.add(Dense(512, activation = 'relu')) \n",
    "#model.add(LeakyReLU(alpha=0.2))\n",
    "#model.add(Dropout(0.1))\n",
    "\n",
    "#model.add(Dense(1024, activation = 'relu',kernel_regularizer=keras.regularizers.l1_l2(l1=0.1, l2=0.01))) \n",
    "#model.add(LeakyReLU(alpha=0.2))\n",
    "#model.add(Dropout(0.2))\n",
    "\n",
    "model.add(Dense(256, activation = 'relu')) \n",
    "model.add(LeakyReLU(alpha=0.2))\n",
    "model.add(Dropout(0.1))\n",
    "\n",
    "\n",
    "model.add(Dense(1, activation = 'sigmoid'))\n",
    "\n",
    "\n",
    "#conv_base.trainable = True\n",
    "\n",
    "#model.compile(optimizer =tf.keras.optimizers.Adam(learning_rate=0.0001),\\\n",
    "#          loss= 'binary_crossentropy', metrics=['accuracy'])\n",
    "\n",
    "model.compile(\\\n",
    "    loss=\"binary_crossentropy\",\\\n",
    "    optimizer=tf.keras.optimizers.Adam(learning_rate=0.0001),\\\n",
    "    metrics=[\"acc\"],\\\n",
    ")\n",
    "\n",
    "\n",
    "\n"
   ]
  },
  {
   "cell_type": "code",
   "execution_count": 12,
   "id": "96017598",
   "metadata": {
    "execution": {
     "iopub.execute_input": "2023-02-11T01:03:03.010687Z",
     "iopub.status.busy": "2023-02-11T01:03:03.010096Z",
     "iopub.status.idle": "2023-02-11T01:03:03.021310Z",
     "shell.execute_reply": "2023-02-11T01:03:03.020102Z"
    },
    "papermill": {
     "duration": 0.354824,
     "end_time": "2023-02-11T01:03:03.027460",
     "exception": false,
     "start_time": "2023-02-11T01:03:02.672636",
     "status": "completed"
    },
    "tags": []
   },
   "outputs": [
    {
     "name": "stdout",
     "output_type": "stream",
     "text": [
      "Model: \"sequential\"\n",
      "_________________________________________________________________\n",
      "Layer (type)                 Output Shape              Param #   \n",
      "=================================================================\n",
      "conv2d (Conv2D)              (None, 93, 93, 16)        160       \n",
      "_________________________________________________________________\n",
      "leaky_re_lu (LeakyReLU)      (None, 93, 93, 16)        0         \n",
      "_________________________________________________________________\n",
      "dropout (Dropout)            (None, 93, 93, 16)        0         \n",
      "_________________________________________________________________\n",
      "conv2d_1 (Conv2D)            (None, 91, 91, 32)        4640      \n",
      "_________________________________________________________________\n",
      "max_pooling2d (MaxPooling2D) (None, 45, 45, 32)        0         \n",
      "_________________________________________________________________\n",
      "leaky_re_lu_1 (LeakyReLU)    (None, 45, 45, 32)        0         \n",
      "_________________________________________________________________\n",
      "dropout_1 (Dropout)          (None, 45, 45, 32)        0         \n",
      "_________________________________________________________________\n",
      "conv2d_2 (Conv2D)            (None, 43, 43, 32)        9248      \n",
      "_________________________________________________________________\n",
      "max_pooling2d_1 (MaxPooling2 (None, 21, 21, 32)        0         \n",
      "_________________________________________________________________\n",
      "leaky_re_lu_2 (LeakyReLU)    (None, 21, 21, 32)        0         \n",
      "_________________________________________________________________\n",
      "dropout_2 (Dropout)          (None, 21, 21, 32)        0         \n",
      "_________________________________________________________________\n",
      "conv2d_3 (Conv2D)            (None, 19, 19, 32)        9248      \n",
      "_________________________________________________________________\n",
      "max_pooling2d_2 (MaxPooling2 (None, 9, 9, 32)          0         \n",
      "_________________________________________________________________\n",
      "leaky_re_lu_3 (LeakyReLU)    (None, 9, 9, 32)          0         \n",
      "_________________________________________________________________\n",
      "dropout_3 (Dropout)          (None, 9, 9, 32)          0         \n",
      "_________________________________________________________________\n",
      "conv2d_4 (Conv2D)            (None, 7, 7, 32)          9248      \n",
      "_________________________________________________________________\n",
      "max_pooling2d_3 (MaxPooling2 (None, 3, 3, 32)          0         \n",
      "_________________________________________________________________\n",
      "leaky_re_lu_4 (LeakyReLU)    (None, 3, 3, 32)          0         \n",
      "_________________________________________________________________\n",
      "dropout_4 (Dropout)          (None, 3, 3, 32)          0         \n",
      "_________________________________________________________________\n",
      "flatten (Flatten)            (None, 288)               0         \n",
      "_________________________________________________________________\n",
      "dense (Dense)                (None, 512)               147968    \n",
      "_________________________________________________________________\n",
      "leaky_re_lu_5 (LeakyReLU)    (None, 512)               0         \n",
      "_________________________________________________________________\n",
      "dropout_5 (Dropout)          (None, 512)               0         \n",
      "_________________________________________________________________\n",
      "dense_1 (Dense)              (None, 256)               131328    \n",
      "_________________________________________________________________\n",
      "leaky_re_lu_6 (LeakyReLU)    (None, 256)               0         \n",
      "_________________________________________________________________\n",
      "dropout_6 (Dropout)          (None, 256)               0         \n",
      "_________________________________________________________________\n",
      "dense_2 (Dense)              (None, 1)                 257       \n",
      "=================================================================\n",
      "Total params: 312,097\n",
      "Trainable params: 312,097\n",
      "Non-trainable params: 0\n",
      "_________________________________________________________________\n"
     ]
    }
   ],
   "source": [
    "model.summary()"
   ]
  },
  {
   "cell_type": "code",
   "execution_count": 13,
   "id": "e14ff9e3",
   "metadata": {
    "execution": {
     "iopub.execute_input": "2023-02-11T01:03:03.585533Z",
     "iopub.status.busy": "2023-02-11T01:03:03.584425Z",
     "iopub.status.idle": "2023-02-11T01:03:03.589153Z",
     "shell.execute_reply": "2023-02-11T01:03:03.588232Z"
    },
    "papermill": {
     "duration": 0.249759,
     "end_time": "2023-02-11T01:03:03.591156",
     "exception": false,
     "start_time": "2023-02-11T01:03:03.341397",
     "status": "completed"
    },
    "tags": []
   },
   "outputs": [],
   "source": [
    "#from tensorflow import keras\n",
    "#model = keras.models.load_model(\"/kaggle/input/pre-trained-model-of-breast-cancer/trained_model_breast_cancer3.h5\")\n"
   ]
  },
  {
   "cell_type": "code",
   "execution_count": 14,
   "id": "13da6d33",
   "metadata": {
    "execution": {
     "iopub.execute_input": "2023-02-11T01:03:03.996175Z",
     "iopub.status.busy": "2023-02-11T01:03:03.995111Z",
     "iopub.status.idle": "2023-02-11T01:16:54.421886Z",
     "shell.execute_reply": "2023-02-11T01:16:54.420930Z"
    },
    "papermill": {
     "duration": 830.632557,
     "end_time": "2023-02-11T01:16:54.424053",
     "exception": false,
     "start_time": "2023-02-11T01:03:03.791496",
     "status": "completed"
    },
    "tags": []
   },
   "outputs": [
    {
     "name": "stderr",
     "output_type": "stream",
     "text": [
      "2023-02-11 01:03:04.297800: W tensorflow/core/framework/cpu_allocator_impl.cc:80] Allocation of 765428300 exceeds 10% of free system memory.\n",
      "2023-02-11 01:03:05.220110: W tensorflow/core/framework/cpu_allocator_impl.cc:80] Allocation of 765428300 exceeds 10% of free system memory.\n",
      "2023-02-11 01:03:05.866675: I tensorflow/compiler/mlir/mlir_graph_optimization_pass.cc:185] None of the MLIR Optimization Passes are enabled (registered 2)\n"
     ]
    },
    {
     "name": "stdout",
     "output_type": "stream",
     "text": [
      "Epoch 1/150\n"
     ]
    },
    {
     "name": "stderr",
     "output_type": "stream",
     "text": [
      "2023-02-11 01:03:07.555982: I tensorflow/stream_executor/cuda/cuda_dnn.cc:369] Loaded cuDNN version 8005\n"
     ]
    },
    {
     "name": "stdout",
     "output_type": "stream",
     "text": [
      "332/332 [==============================] - ETA: 0s - loss: 1.2431 - acc: 0.3887"
     ]
    },
    {
     "name": "stderr",
     "output_type": "stream",
     "text": [
      "2023-02-11 01:03:18.810766: W tensorflow/core/framework/cpu_allocator_impl.cc:80] Allocation of 328076800 exceeds 10% of free system memory.\n",
      "2023-02-11 01:03:19.218031: W tensorflow/core/framework/cpu_allocator_impl.cc:80] Allocation of 328076800 exceeds 10% of free system memory.\n"
     ]
    },
    {
     "name": "stdout",
     "output_type": "stream",
     "text": [
      "332/332 [==============================] - 14s 22ms/step - loss: 1.2431 - acc: 0.3887 - val_loss: 0.7114 - val_acc: 0.1402\n",
      "Epoch 2/150\n",
      "332/332 [==============================] - 5s 17ms/step - loss: 1.2424 - acc: 0.2502 - val_loss: 0.7094 - val_acc: 0.1402\n",
      "Epoch 3/150\n",
      "332/332 [==============================] - 5s 16ms/step - loss: 1.2407 - acc: 0.1893 - val_loss: 0.7016 - val_acc: 0.1554\n",
      "Epoch 4/150\n",
      "332/332 [==============================] - 6s 17ms/step - loss: 1.2391 - acc: 0.3394 - val_loss: 0.6828 - val_acc: 0.7750\n",
      "Epoch 5/150\n",
      "332/332 [==============================] - 5s 16ms/step - loss: 1.2331 - acc: 0.4357 - val_loss: 0.6965 - val_acc: 0.4903\n",
      "Epoch 6/150\n",
      "332/332 [==============================] - 5s 16ms/step - loss: 1.2314 - acc: 0.4413 - val_loss: 0.6870 - val_acc: 0.5812\n",
      "Epoch 7/150\n",
      "332/332 [==============================] - 6s 17ms/step - loss: 1.2290 - acc: 0.4648 - val_loss: 0.6884 - val_acc: 0.5777\n",
      "Epoch 8/150\n",
      "332/332 [==============================] - 5s 16ms/step - loss: 1.2257 - acc: 0.5012 - val_loss: 0.7028 - val_acc: 0.5163\n",
      "Epoch 9/150\n",
      "332/332 [==============================] - 5s 16ms/step - loss: 1.2198 - acc: 0.5209 - val_loss: 0.6841 - val_acc: 0.6070\n",
      "Epoch 10/150\n",
      "332/332 [==============================] - 5s 16ms/step - loss: 1.2171 - acc: 0.5325 - val_loss: 0.6988 - val_acc: 0.4737\n",
      "Epoch 11/150\n",
      "332/332 [==============================] - 6s 17ms/step - loss: 1.2156 - acc: 0.5274 - val_loss: 0.6888 - val_acc: 0.5197\n",
      "Epoch 12/150\n",
      "332/332 [==============================] - 5s 16ms/step - loss: 1.2110 - acc: 0.5371 - val_loss: 0.6958 - val_acc: 0.4986\n",
      "Epoch 13/150\n",
      "332/332 [==============================] - 6s 18ms/step - loss: 1.2066 - acc: 0.5440 - val_loss: 0.6932 - val_acc: 0.5023\n",
      "Epoch 14/150\n",
      "332/332 [==============================] - 5s 16ms/step - loss: 1.2059 - acc: 0.5407 - val_loss: 0.6525 - val_acc: 0.6703\n",
      "Epoch 15/150\n",
      "332/332 [==============================] - 5s 16ms/step - loss: 1.2007 - acc: 0.5587 - val_loss: 0.6917 - val_acc: 0.5074\n",
      "Epoch 16/150\n",
      "332/332 [==============================] - 5s 16ms/step - loss: 1.1993 - acc: 0.5506 - val_loss: 0.6501 - val_acc: 0.6560\n",
      "Epoch 17/150\n",
      "332/332 [==============================] - 6s 17ms/step - loss: 1.1960 - acc: 0.5513 - val_loss: 0.6592 - val_acc: 0.6173\n",
      "Epoch 18/150\n",
      "332/332 [==============================] - 5s 16ms/step - loss: 1.1930 - acc: 0.5582 - val_loss: 0.6511 - val_acc: 0.6081\n",
      "Epoch 19/150\n",
      "332/332 [==============================] - 5s 16ms/step - loss: 1.1896 - acc: 0.5598 - val_loss: 0.6871 - val_acc: 0.5074\n",
      "Epoch 20/150\n",
      "332/332 [==============================] - 6s 17ms/step - loss: 1.1852 - acc: 0.5610 - val_loss: 0.6748 - val_acc: 0.5390\n",
      "Epoch 21/150\n",
      "332/332 [==============================] - 6s 17ms/step - loss: 1.1845 - acc: 0.5563 - val_loss: 0.7121 - val_acc: 0.4796\n",
      "Epoch 22/150\n",
      "332/332 [==============================] - 6s 17ms/step - loss: 1.1750 - acc: 0.5661 - val_loss: 0.6398 - val_acc: 0.6169\n",
      "Epoch 23/150\n",
      "332/332 [==============================] - 5s 16ms/step - loss: 1.1764 - acc: 0.5711 - val_loss: 0.7074 - val_acc: 0.4528\n",
      "Epoch 24/150\n",
      "332/332 [==============================] - 6s 17ms/step - loss: 1.1671 - acc: 0.5704 - val_loss: 0.6438 - val_acc: 0.6017\n",
      "Epoch 25/150\n",
      "332/332 [==============================] - 6s 17ms/step - loss: 1.1662 - acc: 0.5778 - val_loss: 0.6620 - val_acc: 0.5661\n",
      "Epoch 26/150\n",
      "332/332 [==============================] - 5s 16ms/step - loss: 1.1593 - acc: 0.5894 - val_loss: 0.6888 - val_acc: 0.5133\n",
      "Epoch 27/150\n",
      "332/332 [==============================] - 5s 16ms/step - loss: 1.1533 - acc: 0.5899 - val_loss: 0.6760 - val_acc: 0.5193\n",
      "Epoch 28/150\n",
      "332/332 [==============================] - 5s 16ms/step - loss: 1.1497 - acc: 0.5924 - val_loss: 0.7502 - val_acc: 0.4081\n",
      "Epoch 29/150\n",
      "332/332 [==============================] - 5s 16ms/step - loss: 1.1458 - acc: 0.5936 - val_loss: 0.6490 - val_acc: 0.6033\n",
      "Epoch 30/150\n",
      "332/332 [==============================] - 5s 16ms/step - loss: 1.1373 - acc: 0.5985 - val_loss: 0.6895 - val_acc: 0.5427\n",
      "Epoch 31/150\n",
      "332/332 [==============================] - 5s 16ms/step - loss: 1.1304 - acc: 0.6071 - val_loss: 0.6987 - val_acc: 0.5050\n",
      "Epoch 32/150\n",
      "332/332 [==============================] - 5s 16ms/step - loss: 1.1255 - acc: 0.6053 - val_loss: 0.7181 - val_acc: 0.4503\n",
      "Epoch 33/150\n",
      "332/332 [==============================] - 6s 17ms/step - loss: 1.1274 - acc: 0.5952 - val_loss: 0.6825 - val_acc: 0.4975\n",
      "Epoch 34/150\n",
      "332/332 [==============================] - 5s 16ms/step - loss: 1.1131 - acc: 0.6151 - val_loss: 0.6833 - val_acc: 0.5385\n",
      "Epoch 35/150\n",
      "332/332 [==============================] - 6s 17ms/step - loss: 1.1018 - acc: 0.6194 - val_loss: 0.6495 - val_acc: 0.5953\n",
      "Epoch 36/150\n",
      "332/332 [==============================] - 6s 17ms/step - loss: 1.0942 - acc: 0.6259 - val_loss: 0.6823 - val_acc: 0.5266\n",
      "Epoch 37/150\n",
      "332/332 [==============================] - 6s 17ms/step - loss: 1.0896 - acc: 0.6243 - val_loss: 0.6884 - val_acc: 0.5321\n",
      "Epoch 38/150\n",
      "332/332 [==============================] - 6s 17ms/step - loss: 1.0778 - acc: 0.6314 - val_loss: 0.7078 - val_acc: 0.4826\n",
      "Epoch 39/150\n",
      "332/332 [==============================] - 5s 16ms/step - loss: 1.0701 - acc: 0.6366 - val_loss: 0.6811 - val_acc: 0.5327\n",
      "Epoch 40/150\n",
      "332/332 [==============================] - 5s 16ms/step - loss: 1.0586 - acc: 0.6475 - val_loss: 0.6955 - val_acc: 0.5039\n",
      "Epoch 41/150\n",
      "332/332 [==============================] - 5s 16ms/step - loss: 1.0563 - acc: 0.6377 - val_loss: 0.5886 - val_acc: 0.6713\n",
      "Epoch 42/150\n",
      "332/332 [==============================] - 5s 16ms/step - loss: 1.0450 - acc: 0.6512 - val_loss: 0.6284 - val_acc: 0.6164\n",
      "Epoch 43/150\n",
      "332/332 [==============================] - 5s 16ms/step - loss: 1.0335 - acc: 0.6614 - val_loss: 0.6886 - val_acc: 0.5376\n",
      "Epoch 44/150\n",
      "332/332 [==============================] - 5s 16ms/step - loss: 1.0253 - acc: 0.6571 - val_loss: 0.6595 - val_acc: 0.5736\n",
      "Epoch 45/150\n",
      "332/332 [==============================] - 5s 16ms/step - loss: 1.0127 - acc: 0.6691 - val_loss: 0.6500 - val_acc: 0.5859\n",
      "Epoch 46/150\n",
      "332/332 [==============================] - 5s 16ms/step - loss: 1.0046 - acc: 0.6749 - val_loss: 0.7300 - val_acc: 0.4803\n",
      "Epoch 47/150\n",
      "332/332 [==============================] - 6s 17ms/step - loss: 1.0009 - acc: 0.6729 - val_loss: 0.6894 - val_acc: 0.5266\n",
      "Epoch 48/150\n",
      "332/332 [==============================] - 5s 16ms/step - loss: 0.9815 - acc: 0.6859 - val_loss: 0.6229 - val_acc: 0.5996\n",
      "Epoch 49/150\n",
      "332/332 [==============================] - 5s 16ms/step - loss: 0.9746 - acc: 0.6887 - val_loss: 0.6208 - val_acc: 0.6099\n",
      "Epoch 50/150\n",
      "332/332 [==============================] - 5s 16ms/step - loss: 0.9766 - acc: 0.6834 - val_loss: 0.7242 - val_acc: 0.4983\n",
      "Epoch 51/150\n",
      "332/332 [==============================] - 5s 16ms/step - loss: 0.9519 - acc: 0.6956 - val_loss: 0.6463 - val_acc: 0.5909\n",
      "Epoch 52/150\n",
      "332/332 [==============================] - 5s 16ms/step - loss: 0.9584 - acc: 0.6921 - val_loss: 0.6658 - val_acc: 0.6050\n",
      "Epoch 53/150\n",
      "332/332 [==============================] - 5s 16ms/step - loss: 0.9391 - acc: 0.6999 - val_loss: 0.6476 - val_acc: 0.6066\n",
      "Epoch 54/150\n",
      "332/332 [==============================] - 6s 17ms/step - loss: 0.9224 - acc: 0.7099 - val_loss: 0.6914 - val_acc: 0.5483\n",
      "Epoch 55/150\n",
      "332/332 [==============================] - 6s 17ms/step - loss: 0.9180 - acc: 0.7095 - val_loss: 0.6001 - val_acc: 0.6523\n",
      "Epoch 56/150\n",
      "332/332 [==============================] - 6s 17ms/step - loss: 0.9130 - acc: 0.7127 - val_loss: 0.6160 - val_acc: 0.6395\n",
      "Epoch 57/150\n",
      "332/332 [==============================] - 5s 16ms/step - loss: 0.8973 - acc: 0.7269 - val_loss: 0.7075 - val_acc: 0.5252\n",
      "Epoch 58/150\n",
      "332/332 [==============================] - 6s 17ms/step - loss: 0.8849 - acc: 0.7243 - val_loss: 0.6593 - val_acc: 0.5775\n",
      "Epoch 59/150\n",
      "332/332 [==============================] - 6s 17ms/step - loss: 0.8794 - acc: 0.7230 - val_loss: 0.6123 - val_acc: 0.6402\n",
      "Epoch 60/150\n",
      "332/332 [==============================] - 5s 16ms/step - loss: 0.8730 - acc: 0.7320 - val_loss: 0.6175 - val_acc: 0.6366\n",
      "Epoch 61/150\n",
      "332/332 [==============================] - 5s 16ms/step - loss: 0.8455 - acc: 0.7453 - val_loss: 0.6740 - val_acc: 0.6007\n",
      "Epoch 62/150\n",
      "332/332 [==============================] - 5s 16ms/step - loss: 0.8485 - acc: 0.7404 - val_loss: 0.6760 - val_acc: 0.5874\n",
      "Epoch 63/150\n",
      "332/332 [==============================] - 5s 16ms/step - loss: 0.8369 - acc: 0.7521 - val_loss: 0.6330 - val_acc: 0.6165\n",
      "Epoch 64/150\n",
      "332/332 [==============================] - 5s 16ms/step - loss: 0.8259 - acc: 0.7524 - val_loss: 0.5936 - val_acc: 0.6524\n",
      "Epoch 65/150\n",
      "332/332 [==============================] - 6s 17ms/step - loss: 0.8230 - acc: 0.7509 - val_loss: 0.5900 - val_acc: 0.6599\n",
      "Epoch 66/150\n",
      "332/332 [==============================] - 5s 16ms/step - loss: 0.8063 - acc: 0.7603 - val_loss: 0.5862 - val_acc: 0.6717\n",
      "Epoch 67/150\n",
      "332/332 [==============================] - 5s 16ms/step - loss: 0.8006 - acc: 0.7605 - val_loss: 0.6300 - val_acc: 0.6337\n",
      "Epoch 68/150\n",
      "332/332 [==============================] - 6s 17ms/step - loss: 0.7909 - acc: 0.7648 - val_loss: 0.6134 - val_acc: 0.6399\n",
      "Epoch 69/150\n",
      "332/332 [==============================] - 5s 16ms/step - loss: 0.7790 - acc: 0.7660 - val_loss: 0.5665 - val_acc: 0.6857\n",
      "Epoch 70/150\n",
      "332/332 [==============================] - 5s 16ms/step - loss: 0.7638 - acc: 0.7773 - val_loss: 0.6352 - val_acc: 0.6271\n",
      "Epoch 71/150\n",
      "332/332 [==============================] - 5s 16ms/step - loss: 0.7657 - acc: 0.7749 - val_loss: 0.6161 - val_acc: 0.6473\n",
      "Epoch 72/150\n",
      "332/332 [==============================] - 5s 16ms/step - loss: 0.7557 - acc: 0.7778 - val_loss: 0.6425 - val_acc: 0.6325\n",
      "Epoch 73/150\n",
      "332/332 [==============================] - 5s 17ms/step - loss: 0.7372 - acc: 0.7839 - val_loss: 0.5615 - val_acc: 0.6981\n",
      "Epoch 74/150\n",
      "332/332 [==============================] - 5s 16ms/step - loss: 0.7407 - acc: 0.7833 - val_loss: 0.5636 - val_acc: 0.7003\n",
      "Epoch 75/150\n",
      "332/332 [==============================] - 5s 16ms/step - loss: 0.7283 - acc: 0.7905 - val_loss: 0.5932 - val_acc: 0.6681\n",
      "Epoch 76/150\n",
      "332/332 [==============================] - 5s 16ms/step - loss: 0.7077 - acc: 0.7959 - val_loss: 0.5641 - val_acc: 0.7030\n",
      "Epoch 77/150\n",
      "332/332 [==============================] - 6s 17ms/step - loss: 0.7072 - acc: 0.7952 - val_loss: 0.5962 - val_acc: 0.6625\n",
      "Epoch 78/150\n",
      "332/332 [==============================] - 5s 16ms/step - loss: 0.7023 - acc: 0.7983 - val_loss: 0.6093 - val_acc: 0.6590\n",
      "Epoch 79/150\n",
      "332/332 [==============================] - 5s 16ms/step - loss: 0.6773 - acc: 0.8090 - val_loss: 0.6261 - val_acc: 0.6372\n",
      "Epoch 80/150\n",
      "332/332 [==============================] - 6s 17ms/step - loss: 0.6681 - acc: 0.8104 - val_loss: 0.5712 - val_acc: 0.6966\n",
      "Epoch 81/150\n",
      "332/332 [==============================] - 5s 16ms/step - loss: 0.6644 - acc: 0.8105 - val_loss: 0.6040 - val_acc: 0.6830\n",
      "Epoch 82/150\n",
      "332/332 [==============================] - 6s 17ms/step - loss: 0.6588 - acc: 0.8139 - val_loss: 0.6160 - val_acc: 0.6739\n",
      "Epoch 83/150\n",
      "332/332 [==============================] - 5s 16ms/step - loss: 0.6552 - acc: 0.8089 - val_loss: 0.4934 - val_acc: 0.7567\n",
      "Epoch 84/150\n",
      "332/332 [==============================] - 5s 17ms/step - loss: 0.6393 - acc: 0.8215 - val_loss: 0.5637 - val_acc: 0.6938\n",
      "Epoch 85/150\n",
      "332/332 [==============================] - 5s 16ms/step - loss: 0.6363 - acc: 0.8205 - val_loss: 0.5852 - val_acc: 0.6930\n",
      "Epoch 86/150\n",
      "332/332 [==============================] - 5s 16ms/step - loss: 0.6223 - acc: 0.8257 - val_loss: 0.6019 - val_acc: 0.6816\n",
      "Epoch 87/150\n",
      "332/332 [==============================] - 5s 16ms/step - loss: 0.6330 - acc: 0.8209 - val_loss: 0.5627 - val_acc: 0.7085\n",
      "Epoch 88/150\n",
      "332/332 [==============================] - 6s 17ms/step - loss: 0.6135 - acc: 0.8300 - val_loss: 0.5922 - val_acc: 0.6853\n",
      "Epoch 89/150\n",
      "332/332 [==============================] - 6s 17ms/step - loss: 0.6193 - acc: 0.8271 - val_loss: 0.5483 - val_acc: 0.7188\n",
      "Epoch 90/150\n",
      "332/332 [==============================] - 6s 17ms/step - loss: 0.6116 - acc: 0.8268 - val_loss: 0.5176 - val_acc: 0.7496\n",
      "Epoch 91/150\n",
      "332/332 [==============================] - 6s 17ms/step - loss: 0.6003 - acc: 0.8363 - val_loss: 0.5218 - val_acc: 0.7438\n",
      "Epoch 92/150\n",
      "332/332 [==============================] - 5s 16ms/step - loss: 0.5995 - acc: 0.8327 - val_loss: 0.5331 - val_acc: 0.7404\n",
      "Epoch 93/150\n",
      "332/332 [==============================] - 6s 17ms/step - loss: 0.6002 - acc: 0.8379 - val_loss: 0.5275 - val_acc: 0.7358\n",
      "Epoch 94/150\n",
      "332/332 [==============================] - 6s 17ms/step - loss: 0.5816 - acc: 0.8418 - val_loss: 0.5544 - val_acc: 0.7221\n",
      "Epoch 95/150\n",
      "332/332 [==============================] - 6s 17ms/step - loss: 0.5671 - acc: 0.8463 - val_loss: 0.5896 - val_acc: 0.7004\n",
      "Epoch 96/150\n",
      "332/332 [==============================] - 5s 16ms/step - loss: 0.5626 - acc: 0.8484 - val_loss: 0.5541 - val_acc: 0.7238\n",
      "Epoch 97/150\n",
      "332/332 [==============================] - 5s 16ms/step - loss: 0.5683 - acc: 0.8423 - val_loss: 0.5042 - val_acc: 0.7614\n",
      "Epoch 98/150\n",
      "332/332 [==============================] - 6s 17ms/step - loss: 0.5447 - acc: 0.8544 - val_loss: 0.5409 - val_acc: 0.7367\n",
      "Epoch 99/150\n",
      "332/332 [==============================] - 6s 17ms/step - loss: 0.5472 - acc: 0.8518 - val_loss: 0.5339 - val_acc: 0.7439\n",
      "Epoch 100/150\n",
      "332/332 [==============================] - 6s 17ms/step - loss: 0.5393 - acc: 0.8527 - val_loss: 0.5273 - val_acc: 0.7497\n",
      "Epoch 101/150\n",
      "332/332 [==============================] - 6s 17ms/step - loss: 0.5385 - acc: 0.8569 - val_loss: 0.6103 - val_acc: 0.6991\n",
      "Epoch 102/150\n",
      "332/332 [==============================] - 5s 16ms/step - loss: 0.5134 - acc: 0.8599 - val_loss: 0.5372 - val_acc: 0.7559\n",
      "Epoch 103/150\n",
      "332/332 [==============================] - 5s 17ms/step - loss: 0.5179 - acc: 0.8594 - val_loss: 0.5853 - val_acc: 0.7151\n",
      "Epoch 104/150\n",
      "332/332 [==============================] - 5s 16ms/step - loss: 0.5041 - acc: 0.8645 - val_loss: 0.5300 - val_acc: 0.7476\n",
      "Epoch 105/150\n",
      "332/332 [==============================] - 6s 17ms/step - loss: 0.4937 - acc: 0.8697 - val_loss: 0.5357 - val_acc: 0.7421\n",
      "Epoch 106/150\n",
      "332/332 [==============================] - 6s 17ms/step - loss: 0.5025 - acc: 0.8645 - val_loss: 0.5307 - val_acc: 0.7614\n",
      "Epoch 107/150\n",
      "332/332 [==============================] - 5s 16ms/step - loss: 0.4917 - acc: 0.8687 - val_loss: 0.5324 - val_acc: 0.7569\n",
      "Epoch 108/150\n",
      "332/332 [==============================] - 5s 16ms/step - loss: 0.4808 - acc: 0.8738 - val_loss: 0.6520 - val_acc: 0.6816\n",
      "Epoch 109/150\n",
      "332/332 [==============================] - 5s 16ms/step - loss: 0.4822 - acc: 0.8704 - val_loss: 0.5385 - val_acc: 0.7511\n",
      "Epoch 110/150\n",
      "332/332 [==============================] - 5s 16ms/step - loss: 0.4836 - acc: 0.8740 - val_loss: 0.5605 - val_acc: 0.7309\n",
      "Epoch 111/150\n",
      "332/332 [==============================] - 6s 18ms/step - loss: 0.4617 - acc: 0.8779 - val_loss: 0.5605 - val_acc: 0.7459\n",
      "Epoch 112/150\n",
      "332/332 [==============================] - 6s 17ms/step - loss: 0.4516 - acc: 0.8827 - val_loss: 0.5052 - val_acc: 0.7745\n",
      "Epoch 113/150\n",
      "332/332 [==============================] - 5s 16ms/step - loss: 0.4659 - acc: 0.8770 - val_loss: 0.5326 - val_acc: 0.7546\n",
      "Epoch 114/150\n",
      "332/332 [==============================] - 5s 16ms/step - loss: 0.4547 - acc: 0.8795 - val_loss: 0.5896 - val_acc: 0.7304\n",
      "Epoch 115/150\n",
      "332/332 [==============================] - 5s 16ms/step - loss: 0.4484 - acc: 0.8801 - val_loss: 0.5442 - val_acc: 0.7437\n",
      "Epoch 116/150\n",
      "332/332 [==============================] - 5s 16ms/step - loss: 0.4456 - acc: 0.8813 - val_loss: 0.5305 - val_acc: 0.7632\n",
      "Epoch 117/150\n",
      "332/332 [==============================] - 6s 17ms/step - loss: 0.4435 - acc: 0.8847 - val_loss: 0.5228 - val_acc: 0.7700\n",
      "Epoch 118/150\n",
      "332/332 [==============================] - 5s 16ms/step - loss: 0.4403 - acc: 0.8817 - val_loss: 0.5276 - val_acc: 0.7589\n",
      "Epoch 119/150\n",
      "332/332 [==============================] - 6s 17ms/step - loss: 0.4351 - acc: 0.8878 - val_loss: 0.5493 - val_acc: 0.7542\n",
      "Epoch 120/150\n",
      "332/332 [==============================] - 5s 16ms/step - loss: 0.4212 - acc: 0.8901 - val_loss: 0.5448 - val_acc: 0.7523\n",
      "Epoch 121/150\n",
      "332/332 [==============================] - 5s 16ms/step - loss: 0.4400 - acc: 0.8843 - val_loss: 0.5235 - val_acc: 0.7632\n",
      "Epoch 122/150\n",
      "332/332 [==============================] - 6s 17ms/step - loss: 0.4108 - acc: 0.8925 - val_loss: 0.5328 - val_acc: 0.7622\n",
      "Epoch 123/150\n",
      "332/332 [==============================] - 6s 18ms/step - loss: 0.4075 - acc: 0.8928 - val_loss: 0.5522 - val_acc: 0.7564\n",
      "Epoch 124/150\n",
      "332/332 [==============================] - 5s 16ms/step - loss: 0.4199 - acc: 0.8919 - val_loss: 0.5742 - val_acc: 0.7327\n",
      "Epoch 125/150\n",
      "332/332 [==============================] - 6s 17ms/step - loss: 0.3952 - acc: 0.8974 - val_loss: 0.5271 - val_acc: 0.7633\n",
      "Epoch 126/150\n",
      "332/332 [==============================] - 5s 16ms/step - loss: 0.4008 - acc: 0.8953 - val_loss: 0.5412 - val_acc: 0.7629\n",
      "Epoch 127/150\n",
      "332/332 [==============================] - 5s 16ms/step - loss: 0.4009 - acc: 0.8976 - val_loss: 0.5663 - val_acc: 0.7513\n",
      "Epoch 128/150\n",
      "332/332 [==============================] - 6s 17ms/step - loss: 0.3790 - acc: 0.9028 - val_loss: 0.5059 - val_acc: 0.7895\n",
      "Epoch 129/150\n",
      "332/332 [==============================] - 5s 16ms/step - loss: 0.3810 - acc: 0.9006 - val_loss: 0.5030 - val_acc: 0.7934\n",
      "Epoch 130/150\n",
      "332/332 [==============================] - 5s 16ms/step - loss: 0.3780 - acc: 0.9037 - val_loss: 0.5516 - val_acc: 0.7675\n",
      "Epoch 131/150\n",
      "332/332 [==============================] - 6s 17ms/step - loss: 0.3902 - acc: 0.9026 - val_loss: 0.5208 - val_acc: 0.7901\n",
      "Epoch 132/150\n",
      "332/332 [==============================] - 5s 16ms/step - loss: 0.3834 - acc: 0.9044 - val_loss: 0.5355 - val_acc: 0.7700\n",
      "Epoch 133/150\n",
      "332/332 [==============================] - 5s 16ms/step - loss: 0.3704 - acc: 0.9066 - val_loss: 0.5592 - val_acc: 0.7547\n",
      "Epoch 134/150\n",
      "332/332 [==============================] - 6s 18ms/step - loss: 0.3745 - acc: 0.9040 - val_loss: 0.5159 - val_acc: 0.7811\n",
      "Epoch 135/150\n",
      "332/332 [==============================] - 5s 16ms/step - loss: 0.3642 - acc: 0.9074 - val_loss: 0.5581 - val_acc: 0.7690\n",
      "Epoch 136/150\n",
      "332/332 [==============================] - 5s 16ms/step - loss: 0.3526 - acc: 0.9108 - val_loss: 0.5561 - val_acc: 0.7600\n",
      "Epoch 137/150\n",
      "332/332 [==============================] - 6s 17ms/step - loss: 0.3641 - acc: 0.9048 - val_loss: 0.5021 - val_acc: 0.7981\n",
      "Epoch 138/150\n",
      "332/332 [==============================] - 5s 16ms/step - loss: 0.3480 - acc: 0.9134 - val_loss: 0.5362 - val_acc: 0.7762\n",
      "Epoch 139/150\n",
      "332/332 [==============================] - 5s 16ms/step - loss: 0.3531 - acc: 0.9111 - val_loss: 0.5404 - val_acc: 0.7759\n",
      "Epoch 140/150\n",
      "332/332 [==============================] - 6s 17ms/step - loss: 0.3584 - acc: 0.9102 - val_loss: 0.5304 - val_acc: 0.7821\n",
      "Epoch 141/150\n",
      "332/332 [==============================] - 6s 17ms/step - loss: 0.3420 - acc: 0.9144 - val_loss: 0.5265 - val_acc: 0.7864\n",
      "Epoch 142/150\n",
      "332/332 [==============================] - 5s 16ms/step - loss: 0.3572 - acc: 0.9096 - val_loss: 0.5423 - val_acc: 0.7776\n",
      "Epoch 143/150\n",
      "332/332 [==============================] - 6s 17ms/step - loss: 0.3432 - acc: 0.9135 - val_loss: 0.5086 - val_acc: 0.7961\n",
      "Epoch 144/150\n",
      "332/332 [==============================] - 5s 16ms/step - loss: 0.3469 - acc: 0.9128 - val_loss: 0.5111 - val_acc: 0.7980\n",
      "Epoch 145/150\n",
      "332/332 [==============================] - 6s 17ms/step - loss: 0.3372 - acc: 0.9161 - val_loss: 0.5112 - val_acc: 0.7951\n",
      "Epoch 146/150\n",
      "332/332 [==============================] - 6s 17ms/step - loss: 0.3530 - acc: 0.9125 - val_loss: 0.5204 - val_acc: 0.7914\n",
      "Epoch 147/150\n",
      "332/332 [==============================] - 6s 17ms/step - loss: 0.3351 - acc: 0.9156 - val_loss: 0.5261 - val_acc: 0.7884\n",
      "Epoch 148/150\n",
      "332/332 [==============================] - 5s 16ms/step - loss: 0.3193 - acc: 0.9183 - val_loss: 0.5217 - val_acc: 0.7874\n",
      "Epoch 149/150\n",
      "332/332 [==============================] - 6s 17ms/step - loss: 0.3173 - acc: 0.9197 - val_loss: 0.5445 - val_acc: 0.7817\n",
      "Epoch 150/150\n",
      "332/332 [==============================] - 5s 16ms/step - loss: 0.3306 - acc: 0.9192 - val_loss: 0.5195 - val_acc: 0.7958\n"
     ]
    },
    {
     "data": {
      "text/plain": [
       "<keras.callbacks.History at 0x7fdfd87c6e90>"
      ]
     },
     "execution_count": 14,
     "metadata": {},
     "output_type": "execute_result"
    }
   ],
   "source": [
    "from tensorflow.keras.preprocessing.image import ImageDataGenerator\n",
    "\n",
    "#datagen = ImageDataGenerator(\\\n",
    "#    rescale=1/255,\\\n",
    "#    validation_split=0.10,\\\n",
    "#    rotation_range=40,\\\n",
    "#    width_shift_range=0.2,\\\n",
    "#    height_shift_range=0.2,\\\n",
    "#    shear_range=0.2,\\\n",
    "#    zoom_range=0.2,\\\n",
    "#    horizontal_flip=True,\\\n",
    "#    fill_mode='nearest'\\\n",
    "#)\n",
    "\n",
    "\n",
    "#datagen.fit(train_features)\n",
    "weights = {0:1, 1:7}\n",
    "model.fit(train_features, train_target,class_weight = weights,batch_size=64,validation_split=0.3,\\\n",
    "           epochs=150)\n"
   ]
  },
  {
   "cell_type": "code",
   "execution_count": 15,
   "id": "ba8652e5",
   "metadata": {
    "execution": {
     "iopub.execute_input": "2023-02-11T01:16:56.246124Z",
     "iopub.status.busy": "2023-02-11T01:16:56.245746Z",
     "iopub.status.idle": "2023-02-11T01:16:56.314599Z",
     "shell.execute_reply": "2023-02-11T01:16:56.313624Z"
    },
    "papermill": {
     "duration": 0.982842,
     "end_time": "2023-02-11T01:16:56.316564",
     "exception": false,
     "start_time": "2023-02-11T01:16:55.333722",
     "status": "completed"
    },
    "tags": []
   },
   "outputs": [],
   "source": [
    "model.save(\"/kaggle/working/trained_model_breast_cancer3.h5\")\n"
   ]
  },
  {
   "cell_type": "code",
   "execution_count": 16,
   "id": "0bf859c3",
   "metadata": {
    "execution": {
     "iopub.execute_input": "2023-02-11T01:16:58.094806Z",
     "iopub.status.busy": "2023-02-11T01:16:58.094410Z",
     "iopub.status.idle": "2023-02-11T01:16:58.098881Z",
     "shell.execute_reply": "2023-02-11T01:16:58.097889Z"
    },
    "papermill": {
     "duration": 0.863052,
     "end_time": "2023-02-11T01:16:58.101016",
     "exception": false,
     "start_time": "2023-02-11T01:16:57.237964",
     "status": "completed"
    },
    "tags": []
   },
   "outputs": [],
   "source": [
    "#from tensorflow import keras\n",
    "#savedModel = keras.models.load_model(\"/kaggle/input/pre-trained-model-of-breast-cancer/trained_model_breast_cancer3.h5\")\n",
    "\n"
   ]
  },
  {
   "cell_type": "code",
   "execution_count": 17,
   "id": "f9353dd6",
   "metadata": {
    "execution": {
     "iopub.execute_input": "2023-02-11T01:17:00.672235Z",
     "iopub.status.busy": "2023-02-11T01:17:00.671871Z",
     "iopub.status.idle": "2023-02-11T01:17:07.158868Z",
     "shell.execute_reply": "2023-02-11T01:17:07.149746Z"
    },
    "papermill": {
     "duration": 7.890264,
     "end_time": "2023-02-11T01:17:07.165211",
     "exception": false,
     "start_time": "2023-02-11T01:16:59.274947",
     "status": "completed"
    },
    "tags": []
   },
   "outputs": [],
   "source": [
    "test_features=[]\n",
    "for i in test['img_data']:\n",
    "    i=np.array(i)\n",
    "    test_features.append(i)\n",
    "test_features=np.array(test_features)\n",
    " \n",
    "\n",
    "    \n",
    "#featureTransform = test_features.reshape(len(test_features), 6400)\n",
    "scaler = MinMaxScaler()\n",
    "#featureTransform =scaler.fit_transform(featureTransform)\n",
    "norm_features= []\n",
    "for i in range(len(test_features)):\n",
    "    norm_features.append(scaler.fit_transform(test_features[i]))\n",
    "test_features=np.array(norm_features)\n",
    "\n",
    "\n",
    "#backTransform = featureTransform.reshape(len(test_features),80,80)\n",
    "test_features = test_features.reshape(len(test_features),95,95,1)\n",
    "\n",
    "\n",
    "\n",
    "\n",
    "\n",
    "test_target = np.array(test['cancer'])"
   ]
  },
  {
   "cell_type": "code",
   "execution_count": 18,
   "id": "434d54bd",
   "metadata": {
    "execution": {
     "iopub.execute_input": "2023-02-11T01:17:08.970976Z",
     "iopub.status.busy": "2023-02-11T01:17:08.970619Z",
     "iopub.status.idle": "2023-02-11T01:17:11.032841Z",
     "shell.execute_reply": "2023-02-11T01:17:11.031752Z"
    },
    "papermill": {
     "duration": 3.007401,
     "end_time": "2023-02-11T01:17:11.035303",
     "exception": false,
     "start_time": "2023-02-11T01:17:08.027902",
     "status": "completed"
    },
    "tags": []
   },
   "outputs": [
    {
     "name": "stderr",
     "output_type": "stream",
     "text": [
      "2023-02-11 01:17:09.221666: W tensorflow/core/framework/cpu_allocator_impl.cc:80] Allocation of 468686300 exceeds 10% of free system memory.\n"
     ]
    }
   ],
   "source": [
    "\n",
    "pred = model.predict(test_features)\n",
    "bin_pred = []\n",
    "for i in pred:\n",
    "    if i>=0.5:\n",
    "        bin_pred.append(1)\n",
    "    else:\n",
    "        bin_pred.append(0)\n",
    "bin_pred = np.array(bin_pred)\n"
   ]
  },
  {
   "cell_type": "code",
   "execution_count": null,
   "id": "9fa9d4ce",
   "metadata": {
    "papermill": {
     "duration": 0.929476,
     "end_time": "2023-02-11T01:17:12.893311",
     "exception": false,
     "start_time": "2023-02-11T01:17:11.963835",
     "status": "completed"
    },
    "tags": []
   },
   "outputs": [],
   "source": []
  },
  {
   "cell_type": "code",
   "execution_count": 19,
   "id": "5e3e14a5",
   "metadata": {
    "execution": {
     "iopub.execute_input": "2023-02-11T01:17:14.699546Z",
     "iopub.status.busy": "2023-02-11T01:17:14.699197Z",
     "iopub.status.idle": "2023-02-11T01:17:14.723603Z",
     "shell.execute_reply": "2023-02-11T01:17:14.721512Z"
    },
    "papermill": {
     "duration": 0.956636,
     "end_time": "2023-02-11T01:17:14.726065",
     "exception": false,
     "start_time": "2023-02-11T01:17:13.769429",
     "status": "completed"
    },
    "tags": []
   },
   "outputs": [
    {
     "name": "stdout",
     "output_type": "stream",
     "text": [
      "0.7930370484479704\n",
      "0.8199325523606674 0.6163265306122448\n"
     ]
    }
   ],
   "source": [
    "import sklearn\n",
    "acc = sklearn.metrics.accuracy_score(test_target, bin_pred)\n",
    "print(acc)\n",
    "\n",
    "countzero=0\n",
    "countone=0\n",
    "countzerot=0\n",
    "countonet=0\n",
    "for i, j in zip(test_target, bin_pred):\n",
    "    if i==0 and j==0:\n",
    "        countzero+=1\n",
    "    if i==1 and j==1:\n",
    "        countone+=1\n",
    "    if i==1:\n",
    "        countonet+=1\n",
    "    if i==0:\n",
    "        countzerot+=1\n",
    "print(countzero/countzerot,countone/countonet)"
   ]
  },
  {
   "cell_type": "code",
   "execution_count": 20,
   "id": "7e405dd7",
   "metadata": {
    "execution": {
     "iopub.execute_input": "2023-02-11T01:17:16.602098Z",
     "iopub.status.busy": "2023-02-11T01:17:16.601737Z",
     "iopub.status.idle": "2023-02-11T01:17:16.612093Z",
     "shell.execute_reply": "2023-02-11T01:17:16.610498Z"
    },
    "papermill": {
     "duration": 0.961966,
     "end_time": "2023-02-11T01:17:16.614650",
     "exception": false,
     "start_time": "2023-02-11T01:17:15.652684",
     "status": "completed"
    },
    "tags": []
   },
   "outputs": [
    {
     "name": "stdout",
     "output_type": "stream",
     "text": [
      "0.4403249323057696\n"
     ]
    }
   ],
   "source": [
    "\n",
    "def recall_m(y_true, y_pred):\n",
    "    true_positives = np.sum(np.round(np.clip(y_true * y_pred, 0, 1)))\n",
    "    possible_positives = np.sum(np.round(np.clip(y_true, 0, 1)))\n",
    "    recall = true_positives / (possible_positives )\n",
    "    return recall\n",
    "\n",
    "def precision_m(y_true, y_pred):\n",
    "    true_positives = np.sum(np.round(np.clip(y_true * y_pred, 0, 1)))\n",
    "    predicted_positives = np.sum(np.round(np.clip(y_pred, 0, 1)))\n",
    "    precision = true_positives / (predicted_positives )\n",
    "    return precision\n",
    "\n",
    "def f1_m(y_true, y_pred):\n",
    "    precision = precision_m(y_true, y_pred)\n",
    "    recall = recall_m(y_true, y_pred)\n",
    "    return 2*((precision*recall)/(precision+recall))\n",
    "\n",
    "\n",
    "print(f1_m(test_target,bin_pred))"
   ]
  }
 ],
 "metadata": {
  "kernelspec": {
   "display_name": "Python 3",
   "language": "python",
   "name": "python3"
  },
  "language_info": {
   "codemirror_mode": {
    "name": "ipython",
    "version": 3
   },
   "file_extension": ".py",
   "mimetype": "text/x-python",
   "name": "python",
   "nbconvert_exporter": "python",
   "pygments_lexer": "ipython3",
   "version": "3.7.12"
  },
  "papermill": {
   "default_parameters": {},
   "duration": 1353.44478,
   "end_time": "2023-02-11T01:17:20.738457",
   "environment_variables": {},
   "exception": null,
   "input_path": "__notebook__.ipynb",
   "output_path": "__notebook__.ipynb",
   "parameters": {},
   "start_time": "2023-02-11T00:54:47.293677",
   "version": "2.3.4"
  }
 },
 "nbformat": 4,
 "nbformat_minor": 5
}
