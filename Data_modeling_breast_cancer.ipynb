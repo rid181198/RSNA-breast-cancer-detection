{
 "cells": [
  {
   "cell_type": "code",
   "execution_count": 1,
   "id": "0d037299",
   "metadata": {
    "execution": {
     "iopub.execute_input": "2023-01-26T15:43:02.301947Z",
     "iopub.status.busy": "2023-01-26T15:43:02.301387Z",
     "iopub.status.idle": "2023-01-26T15:43:10.364660Z",
     "shell.execute_reply": "2023-01-26T15:43:10.363568Z"
    },
    "papermill": {
     "duration": 8.077798,
     "end_time": "2023-01-26T15:43:10.368531",
     "exception": false,
     "start_time": "2023-01-26T15:43:02.290733",
     "status": "completed"
    },
    "tags": []
   },
   "outputs": [],
   "source": [
    "import numpy as np\n",
    "import pandas as pd\n",
    "import matplotlib.pyplot as plt\n",
    "import seaborn as sns\n",
    "import pickle\n",
    "import tensorflow as tf\n",
    "import tensorflow_io as tfio\n",
    "import os\n",
    "from tqdm import tqdm\n",
    "import cv2\n",
    "from PIL import Image\n",
    "from joblib import Parallel, delayed\n",
    "import gc\n",
    "from PIL import Image as im\n",
    "import random"
   ]
  },
  {
   "cell_type": "code",
   "execution_count": 2,
   "id": "c387c109",
   "metadata": {
    "execution": {
     "iopub.execute_input": "2023-01-26T15:43:10.389196Z",
     "iopub.status.busy": "2023-01-26T15:43:10.387759Z",
     "iopub.status.idle": "2023-01-26T15:43:24.220054Z",
     "shell.execute_reply": "2023-01-26T15:43:24.218651Z"
    },
    "papermill": {
     "duration": 13.84447,
     "end_time": "2023-01-26T15:43:24.222985",
     "exception": false,
     "start_time": "2023-01-26T15:43:10.378515",
     "status": "completed"
    },
    "tags": []
   },
   "outputs": [
    {
     "name": "stdout",
     "output_type": "stream",
     "text": [
      "Collecting dicomsdl\r\n",
      "  Downloading dicomsdl-0.109.1-cp37-cp37m-manylinux_2_12_x86_64.manylinux2010_x86_64.whl (1.4 MB)\r\n",
      "\u001b[2K     \u001b[90m━━━━━━━━━━━━━━━━━━━━━━━━━━━━━━━━━━━━━━━━\u001b[0m \u001b[32m1.4/1.4 MB\u001b[0m \u001b[31m4.4 MB/s\u001b[0m eta \u001b[36m0:00:00\u001b[0m\r\n",
      "\u001b[?25hInstalling collected packages: dicomsdl\r\n",
      "Successfully installed dicomsdl-0.109.1\r\n",
      "\u001b[33mWARNING: Running pip as the 'root' user can result in broken permissions and conflicting behaviour with the system package manager. It is recommended to use a virtual environment instead: https://pip.pypa.io/warnings/venv\u001b[0m\u001b[33m\r\n",
      "\u001b[0m"
     ]
    }
   ],
   "source": [
    "import sys\n",
    "!{sys.executable} -m pip install dicomsdl\n",
    "#!pip install /kaggle/input/rsnapacks/dicomsdl-0.109.1-cp36-cp36m-manylinux_2_12_x86_64.manylinux2010_x86_64.whl\n",
    "import numpy as np\n",
    "import pandas as pd\n",
    "import matplotlib.pyplot as plt\n",
    "import seaborn as sns\n",
    "import pickle\n",
    "#import pydicom as dicom\n",
    "import dicomsdl as dicom\n",
    "import tensorflow as tf\n",
    "import tensorflow_io as tfio\n",
    "from PIL import Image as im\n",
    "import os\n",
    "from tqdm import tqdm\n",
    "import cv2\n",
    "from PIL import Image\n",
    "from joblib import Parallel, delayed\n",
    "import gc\n",
    "import random"
   ]
  },
  {
   "cell_type": "code",
   "execution_count": 3,
   "id": "9e943325",
   "metadata": {
    "execution": {
     "iopub.execute_input": "2023-01-26T15:43:24.240088Z",
     "iopub.status.busy": "2023-01-26T15:43:24.239633Z",
     "iopub.status.idle": "2023-01-26T15:43:24.263926Z",
     "shell.execute_reply": "2023-01-26T15:43:24.262861Z"
    },
    "papermill": {
     "duration": 0.035884,
     "end_time": "2023-01-26T15:43:24.266276",
     "exception": false,
     "start_time": "2023-01-26T15:43:24.230392",
     "status": "completed"
    },
    "tags": []
   },
   "outputs": [],
   "source": [
    "datasetPath = '/kaggle/input/rsna-breast-cancer-detection/train.csv'\n",
    "imgPath = '/kaggle/input/rsna-breast-cancer-detection/train_images/'\n",
    "\n",
    "def crop(sideName, imgName):\n",
    "    \"\"\"\n",
    "    This function is used to crop the breast images. It takes two arguments.\n",
    "    \n",
    "    Input:-\n",
    "    :sideName = Laterality of breast if it is right or left\n",
    "    :imgName = Image pixel data of the DCM images\n",
    "    \n",
    "    Output:-\n",
    "    :return = Output after cropping the image.\n",
    "    \n",
    "    \"\"\"\n",
    "    if sideName == 'L':\n",
    "        colind=[]\n",
    "        for r,row in enumerate(imgName):\n",
    "            for c,col in enumerate(row):\n",
    "                if col==0:\n",
    "                    colind.append(c)\n",
    "                    break\n",
    "        crop_size = max(colind)\n",
    "        imgName = imgName[0:512,0:crop_size]\n",
    "        imgName = cv2.resize(imgName,(128,128))\n",
    "        \n",
    "    if sideName == 'R':\n",
    "        colind=[]\n",
    "        for r,row in enumerate(imgName):\n",
    "            for c,col in enumerate(row):\n",
    "                if col!=0:\n",
    "                    colind.append(c)\n",
    "                    break\n",
    "        crop_size = min(colind)\n",
    "        imgName = imgName[0:512,crop_size:512]\n",
    "        imgName = cv2.resize(imgName,(128,128))\n",
    "    \n",
    "    return imgName    \n",
    "\n",
    "    gc.collect()\n",
    "    \n",
    "def crop_reverse(sideName, imgName):\n",
    "    \n",
    "    \"\"\"\n",
    "    This function is used to crop the breast images but in the reverse order.\n",
    "    Because the laterality is defined wrongly for some images. It takes two arguments.\n",
    "    \n",
    "    Input:-\n",
    "    :sideName = Laterality of breast if it is right or left\n",
    "    :imgName = Image pixel data of the DCM images\n",
    "    \n",
    "    Output:-\n",
    "    :return = Output after cropping the image.\n",
    "    \n",
    "    \"\"\"\n",
    "    \n",
    "    if sideName == 'R':\n",
    "        colind=[]\n",
    "        for r,row in enumerate(imgName):\n",
    "            for c,col in enumerate(row):\n",
    "                if col==0:\n",
    "                    colind.append(c)\n",
    "                    break\n",
    "        crop_size = max(colind)\n",
    "        imgName = imgName[0:512,0:crop_size]\n",
    "        imgName = cv2.resize(imgName,(128,128))\n",
    "        \n",
    "    if sideName == 'L':\n",
    "        colind=[]\n",
    "        for r,row in enumerate(imgName):\n",
    "            for c,col in enumerate(row):\n",
    "                if col!=0:\n",
    "                    colind.append(c)\n",
    "                    break\n",
    "        crop_size = min(colind)\n",
    "        imgName = imgName[0:512,crop_size:512]\n",
    "        imgName = cv2.resize(imgName,(128,128))\n",
    "    \n",
    "    return imgName    \n",
    "\n",
    "    gc.collect()\n",
    "    \n",
    "\n",
    "def img_process(i,filename,sides):\n",
    "    \n",
    "    \"\"\"\n",
    "    This function is used to process the images which will be used for the training/test dataset. It takes three arguments.\n",
    "    \n",
    "    Input:-\n",
    "    :i = Index of the image in the dataframe\n",
    "    :filename = Path of the image\n",
    "    :sides = List of all images' laterality\n",
    "    \n",
    "    Output:-\n",
    "    :return = Output after cropping the image.\n",
    "    \n",
    "    \"\"\"\n",
    "    \n",
    "    \n",
    "    #ds = dicom.dcmread(filename)\n",
    "    dsraw = dicom.open(filename)\n",
    "    ds = dsraw.pixelData()\n",
    "    \n",
    "    ds = (ds - ds.min()) / (ds.max() - ds.min())\n",
    "    if dsraw.PhotometricInterpretation == \"MONOCHROME1\":  \n",
    "        ds = 1 - ds\n",
    "    ds = (ds * 255).astype(np.uint8)\n",
    "\n",
    "    \n",
    "    #ds = cv2.normalize(ds, None, 0, 1.0, cv2.NORM_MINMAX, dtype=cv2.CV_32F)\n",
    "    ds = cv2.resize(ds,(512,512))\n",
    "    \n",
    "    #ds = np.where(ds >= 0.999, 0,ds)\n",
    "    \n",
    "    try:\n",
    "        ds = np.array(crop(sides[i], ds))   \n",
    "    except:\n",
    "        ds = np.array(crop_reverse(sides[i], ds))\n",
    "    \n",
    "\n",
    "    #train_data.loc[i,'img_data'] = [img_fin]\n",
    "    #train_data.to_csv('/kaggle/working/training_img_data.csv') \n",
    "    return ds\n",
    "    gc.collect()\n",
    "\n",
    "def dcmToPix(datasetPath, imgPath):\n",
    "    \n",
    "    \"\"\"\n",
    "    This function is used to process all the images which will be used for the training/test dataset. It takes two arguments.\n",
    "    \n",
    "    Input:-\n",
    "    :datasetPath = Path of the cancer dataset\n",
    "    :imgPath = Path of the image dataset\n",
    "   \n",
    "    Output:-\n",
    "    :return = Array of all the processed images\n",
    "    \n",
    "    \"\"\"\n",
    "    \n",
    "    \n",
    "    dataset = pd.read_csv(datasetPath)\n",
    "    \n",
    "    patient_ids = dataset['patient_id']\n",
    "    image_ids = dataset['image_id']\n",
    "    sides  = dataset['laterality']\n",
    "\n",
    "    imgData = []\n",
    "\n",
    "    for pi, ii, leng in zip(patient_ids, image_ids, range(len(patient_ids))):\n",
    "        imgData.append(imgPath + str(pi) + '/' + str(ii) + '.dcm')\n",
    "\n",
    "    dataset['img_data'] = \" \"\n",
    "    \n",
    "    result = Parallel(n_jobs=128)(\\\n",
    "    delayed(img_process)(i, fname, sides) for i, fname in zip(range(len(imgData)),tqdm(imgData))\\\n",
    "    )\n",
    "    \n",
    "    dataset['img_data'] = result\n",
    "    dataset.to_pickle('imgData.pkl' )\n",
    "    \n",
    "    return result\n",
    "    "
   ]
  },
  {
   "cell_type": "code",
   "execution_count": 4,
   "id": "61ac1ef3",
   "metadata": {
    "_cell_guid": "b1076dfc-b9ad-4769-8c92-a6c4dae69d19",
    "_uuid": "8f2839f25d086af736a60e9eeb907d3b93b6e0e5",
    "execution": {
     "iopub.execute_input": "2023-01-26T15:43:24.282272Z",
     "iopub.status.busy": "2023-01-26T15:43:24.281469Z",
     "iopub.status.idle": "2023-01-26T15:43:59.313126Z",
     "shell.execute_reply": "2023-01-26T15:43:59.311954Z"
    },
    "papermill": {
     "duration": 35.042967,
     "end_time": "2023-01-26T15:43:59.316237",
     "exception": false,
     "start_time": "2023-01-26T15:43:24.273270",
     "status": "completed"
    },
    "tags": []
   },
   "outputs": [],
   "source": [
    "with (open('/kaggle/input/output/imgData.pkl', \"rb\")) as openfile:\n",
    "     imgData = pickle.load(openfile)"
   ]
  },
  {
   "cell_type": "code",
   "execution_count": 5,
   "id": "f9d565fd",
   "metadata": {
    "execution": {
     "iopub.execute_input": "2023-01-26T15:43:59.332795Z",
     "iopub.status.busy": "2023-01-26T15:43:59.332323Z",
     "iopub.status.idle": "2023-01-26T15:43:59.337034Z",
     "shell.execute_reply": "2023-01-26T15:43:59.335906Z"
    },
    "papermill": {
     "duration": 0.015246,
     "end_time": "2023-01-26T15:43:59.339156",
     "exception": false,
     "start_time": "2023-01-26T15:43:59.323910",
     "status": "completed"
    },
    "tags": []
   },
   "outputs": [],
   "source": [
    "#datacancer = pd.read_csv(datasetPath)\n",
    "#imgDataFrame = {'cancer':datacancer['cancer'][:50], 'img_data':imgData}\n",
    "#imgData2 = pd.DataFrame(imgDataFrame)\n",
    "\n",
    "#imgData=imgData2"
   ]
  },
  {
   "cell_type": "code",
   "execution_count": 6,
   "id": "f2e96a1d",
   "metadata": {
    "execution": {
     "iopub.execute_input": "2023-01-26T15:43:59.355075Z",
     "iopub.status.busy": "2023-01-26T15:43:59.354636Z",
     "iopub.status.idle": "2023-01-26T15:43:59.458172Z",
     "shell.execute_reply": "2023-01-26T15:43:59.456901Z"
    },
    "papermill": {
     "duration": 0.114646,
     "end_time": "2023-01-26T15:43:59.460805",
     "exception": false,
     "start_time": "2023-01-26T15:43:59.346159",
     "status": "completed"
    },
    "tags": []
   },
   "outputs": [],
   "source": [
    "imgdata_pos = imgData[imgData['cancer'] == 1]\n",
    "imgdata_neg = imgData[imgData['cancer'] == 0]\n",
    "\n",
    "imgdata_pos = imgdata_pos.sample(frac = 1)\n",
    "imgdata_neg = imgdata_neg.sample(frac = 1)\n",
    "\n",
    "imgdata_neg = imgdata_neg.sample(frac= 0.6)\n",
    "\n",
    "frames = 9*[imgdata_pos]\n",
    "frames.append(imgdata_neg)\n",
    "imgdata_shuff = pd.concat(frames)\n",
    "imgdata_shuff = imgdata_shuff.sample(frac=1)"
   ]
  },
  {
   "cell_type": "code",
   "execution_count": 7,
   "id": "259d1e2a",
   "metadata": {
    "execution": {
     "iopub.execute_input": "2023-01-26T15:43:59.479526Z",
     "iopub.status.busy": "2023-01-26T15:43:59.477863Z",
     "iopub.status.idle": "2023-01-26T15:43:59.490876Z",
     "shell.execute_reply": "2023-01-26T15:43:59.489820Z"
    },
    "papermill": {
     "duration": 0.024236,
     "end_time": "2023-01-26T15:43:59.493010",
     "exception": false,
     "start_time": "2023-01-26T15:43:59.468774",
     "status": "completed"
    },
    "tags": []
   },
   "outputs": [
    {
     "name": "stdout",
     "output_type": "stream",
     "text": [
      "0    32129\n",
      "1    10422\n",
      "Name: cancer, dtype: int64\n"
     ]
    }
   ],
   "source": [
    "print(imgdata_shuff['cancer'].value_counts())"
   ]
  },
  {
   "cell_type": "code",
   "execution_count": 8,
   "id": "c4da9ba4",
   "metadata": {
    "execution": {
     "iopub.execute_input": "2023-01-26T15:43:59.511732Z",
     "iopub.status.busy": "2023-01-26T15:43:59.510708Z",
     "iopub.status.idle": "2023-01-26T15:43:59.516918Z",
     "shell.execute_reply": "2023-01-26T15:43:59.516067Z"
    },
    "papermill": {
     "duration": 0.017029,
     "end_time": "2023-01-26T15:43:59.519316",
     "exception": false,
     "start_time": "2023-01-26T15:43:59.502287",
     "status": "completed"
    },
    "tags": []
   },
   "outputs": [],
   "source": [
    "def random_rotate(imgData):\n",
    "    #thresh = 0.15\n",
    "    \n",
    "    imgData = imgData.reshape(128,128)\n",
    "    \n",
    "    #imgData = np.clip(imgData,thresh,1)\n",
    "    imgData = imgData[25:105,25:105]\n",
    "   \n",
    "    imgData = im.fromarray(imgData)\n",
    "    imgData = np.asarray(imgData.rotate(random.randint(-40, 40)))\n",
    "    return imgData"
   ]
  },
  {
   "cell_type": "code",
   "execution_count": 9,
   "id": "90e0437b",
   "metadata": {
    "execution": {
     "iopub.execute_input": "2023-01-26T15:43:59.536671Z",
     "iopub.status.busy": "2023-01-26T15:43:59.535417Z",
     "iopub.status.idle": "2023-01-26T15:44:06.715020Z",
     "shell.execute_reply": "2023-01-26T15:44:06.713755Z"
    },
    "papermill": {
     "duration": 7.190745,
     "end_time": "2023-01-26T15:44:06.717539",
     "exception": false,
     "start_time": "2023-01-26T15:43:59.526794",
     "status": "completed"
    },
    "tags": []
   },
   "outputs": [
    {
     "name": "stderr",
     "output_type": "stream",
     "text": [
      "100%|██████████| 42551/42551 [00:07<00:00, 5947.32it/s]\n"
     ]
    }
   ],
   "source": [
    "imgDataList=[]\n",
    "for j in tqdm(imgdata_shuff['img_data']):\n",
    "    imgDataList.append(random_rotate(j))\n",
    "imgdata_shuff['img_data'] = imgDataList"
   ]
  },
  {
   "cell_type": "code",
   "execution_count": 10,
   "id": "06004457",
   "metadata": {
    "execution": {
     "iopub.execute_input": "2023-01-26T15:44:06.742366Z",
     "iopub.status.busy": "2023-01-26T15:44:06.741938Z",
     "iopub.status.idle": "2023-01-26T15:44:10.005467Z",
     "shell.execute_reply": "2023-01-26T15:44:10.004365Z"
    },
    "papermill": {
     "duration": 3.278917,
     "end_time": "2023-01-26T15:44:10.008173",
     "exception": false,
     "start_time": "2023-01-26T15:44:06.729256",
     "status": "completed"
    },
    "tags": []
   },
   "outputs": [],
   "source": [
    "from sklearn.model_selection import train_test_split\n",
    "train,test = train_test_split(imgdata_shuff, test_size=0.3, random_state=42, shuffle=True)\n",
    "\n",
    "\n",
    "\n",
    "train_target = np.array(train['cancer'])\n",
    "train_features=[]\n",
    "for i in train['img_data']:\n",
    "    i=np.array(i)\n",
    "    train_features.append(cv2.cvtColor(i,cv2.COLOR_GRAY2RGB))\n",
    "train_features=np.array(train_features)\n",
    "\n",
    "\n",
    "\n",
    "#featureTransform = train_features.reshape(len(train_features), 6400)\n",
    "\n",
    "#from sklearn.preprocessing import StandardScaler\n",
    "#scaler = StandardScaler()\n",
    "#featureTransform = scaler.fit_transform(featureTransform)\n",
    "#norm_features= []\n",
    "#for i in range(len(train_features)):\n",
    "#        norm_features.append(scaler.fit_transform(train_features[i]))\n",
    "#train_features=np.array(norm_features)\n",
    "\n",
    "\n",
    "\n",
    "\n",
    "#backTransform = featureTransform.reshape(len(train_features),80,80)\n",
    "#train_features = backTransform.reshape(len(train_features),80,80,1)\n",
    "train_features = train_features.reshape(len(train_features),80,80,3)\n",
    "\n",
    "\n",
    "\n"
   ]
  },
  {
   "cell_type": "code",
   "execution_count": 11,
   "id": "174da6ee",
   "metadata": {
    "execution": {
     "iopub.execute_input": "2023-01-26T15:44:10.033738Z",
     "iopub.status.busy": "2023-01-26T15:44:10.033098Z",
     "iopub.status.idle": "2023-01-26T15:44:10.043439Z",
     "shell.execute_reply": "2023-01-26T15:44:10.042479Z"
    },
    "papermill": {
     "duration": 0.025847,
     "end_time": "2023-01-26T15:44:10.045813",
     "exception": false,
     "start_time": "2023-01-26T15:44:10.019966",
     "status": "completed"
    },
    "tags": []
   },
   "outputs": [],
   "source": [
    "from keras.models import Sequential\n",
    "from keras.layers import LeakyReLU\n",
    "from keras.layers import Dense, Conv2D, Flatten,MaxPooling2D, Dropout, GlobalMaxPooling2D\n",
    "#model = Sequential()\n",
    "#model.add(Conv2D(64, 3, activation = \"relu\", input_shape = (80,80,1)))\n",
    "#model.add(MaxPooling2D())\n",
    "#model.add(LeakyReLU(alpha=0.1))\n",
    "#model.add(Dropout(0.3))\n",
    "#model.add(Conv2D(32, 3, activation = \"relu\"))\n",
    "#model.add(MaxPooling2D())\n",
    "#model.add(LeakyReLU(alpha=0.1))\n",
    "#model.add(Conv2D(16, 3, activation = \"relu\"))\n",
    "#model.add(MaxPooling2D())\n",
    "#model.add(Dropout(0.3))\n",
    "#model.add(Flatten())\n",
    "#model.add(Dense(128, activation = 'relu')) \n",
    "#model.add(LeakyReLU(alpha=0.1))\n",
    "#model.add(Dropout(0.3))\n",
    "#model.add(Dense(1, activation = 'sigmoid'))\n",
    "\n",
    "\n",
    "\n",
    "\n",
    "from keras import backend as K\n",
    "def recall_m(y_true, y_pred):\n",
    "    true_positives = K.sum(K.round(K.clip(y_true * y_pred, 0, 1)))\n",
    "    possible_positives = K.sum(K.round(K.clip(y_true, 0, 1)))\n",
    "    recall = true_positives / (possible_positives )\n",
    "    return recall\n",
    "\n",
    "def precision_m(y_true, y_pred):\n",
    "    true_positives = K.sum(K.round(K.clip(y_true * y_pred, 0, 1)))\n",
    "    predicted_positives = K.sum(K.round(K.clip(y_pred, 0, 1)))\n",
    "    precision = true_positives / (predicted_positives )\n",
    "    return precision\n",
    "\n",
    "def f1_m(y_true, y_pred):\n",
    "    precision = precision_m(y_true, y_pred)\n",
    "    recall = recall_m(y_true, y_pred)\n",
    "    return 2*((precision*recall)/(precision+recall))\n",
    "\n",
    "\n",
    "\n",
    "\n",
    "\n",
    "#loss = tf.keras.losses.BinaryFocalCrossentropy(\\\n",
    "#    apply_class_balancing=True, gamma=5, from_logits=True,\\\n",
    "#    reduction=tf.keras.losses.Reduction.NONE)\n",
    "\n",
    "\n",
    "#model.compile(optimizer =tf.keras.optimizers.Adam(learning_rate=0.0001),\\\n",
    "#              loss= 'binary_crossentropy', metrics=['accuracy'])\n",
    "\n"
   ]
  },
  {
   "cell_type": "code",
   "execution_count": 12,
   "id": "6e77fee8",
   "metadata": {
    "execution": {
     "iopub.execute_input": "2023-01-26T15:44:10.070960Z",
     "iopub.status.busy": "2023-01-26T15:44:10.070515Z",
     "iopub.status.idle": "2023-01-26T15:44:10.075055Z",
     "shell.execute_reply": "2023-01-26T15:44:10.073876Z"
    },
    "papermill": {
     "duration": 0.020086,
     "end_time": "2023-01-26T15:44:10.077302",
     "exception": false,
     "start_time": "2023-01-26T15:44:10.057216",
     "status": "completed"
    },
    "tags": []
   },
   "outputs": [],
   "source": [
    "#from tensorflow import keras\n",
    "#model = keras.models.load_model(\"/kaggle/input/pre-trained-model-of-breast-cancer/trained_model_breast_cancer3.h5\")\n"
   ]
  },
  {
   "cell_type": "code",
   "execution_count": 13,
   "id": "102c4908",
   "metadata": {
    "execution": {
     "iopub.execute_input": "2023-01-26T15:44:10.102167Z",
     "iopub.status.busy": "2023-01-26T15:44:10.101730Z",
     "iopub.status.idle": "2023-01-26T22:28:59.165244Z",
     "shell.execute_reply": "2023-01-26T22:28:59.164069Z"
    },
    "papermill": {
     "duration": 24290.108356,
     "end_time": "2023-01-26T22:29:00.197125",
     "exception": false,
     "start_time": "2023-01-26T15:44:10.088769",
     "status": "completed"
    },
    "tags": []
   },
   "outputs": [
    {
     "name": "stderr",
     "output_type": "stream",
     "text": [
      "2023-01-26 15:44:10.167401: I tensorflow/core/common_runtime/process_util.cc:146] Creating new thread pool with default inter op setting: 2. Tune using inter_op_parallelism_threads for best performance.\n"
     ]
    },
    {
     "name": "stdout",
     "output_type": "stream",
     "text": [
      "Downloading data from https://storage.googleapis.com/keras-applications/efficientnetb2_notop.h5\n",
      "31793152/31790344 [==============================] - 0s 0us/step\n",
      "31801344/31790344 [==============================] - 0s 0us/step\n"
     ]
    },
    {
     "name": "stderr",
     "output_type": "stream",
     "text": [
      "2023-01-26 15:44:16.193790: I tensorflow/compiler/mlir/mlir_graph_optimization_pass.cc:185] None of the MLIR Optimization Passes are enabled (registered 2)\n"
     ]
    },
    {
     "name": "stdout",
     "output_type": "stream",
     "text": [
      "Epoch 1/50\n",
      "326/326 [==============================] - 500s 1s/step - loss: 1.1113 - accuracy: 0.5399 - val_loss: 0.6053 - val_accuracy: 0.7396\n",
      "Epoch 2/50\n",
      "326/326 [==============================] - 481s 1s/step - loss: 0.9858 - accuracy: 0.6066 - val_loss: 0.5866 - val_accuracy: 0.7582\n",
      "Epoch 3/50\n",
      "326/326 [==============================] - 542s 2s/step - loss: 0.9260 - accuracy: 0.6455 - val_loss: 0.5865 - val_accuracy: 0.7183\n",
      "Epoch 4/50\n",
      "326/326 [==============================] - 550s 2s/step - loss: 0.8652 - accuracy: 0.6878 - val_loss: 0.6209 - val_accuracy: 0.6564\n",
      "Epoch 5/50\n",
      "326/326 [==============================] - 558s 2s/step - loss: 0.7913 - accuracy: 0.7238 - val_loss: 0.6365 - val_accuracy: 0.6383\n",
      "Epoch 6/50\n",
      "326/326 [==============================] - 478s 1s/step - loss: 0.7061 - accuracy: 0.7653 - val_loss: 0.6896 - val_accuracy: 0.5803\n",
      "Epoch 7/50\n",
      "326/326 [==============================] - 477s 1s/step - loss: 0.5965 - accuracy: 0.8096 - val_loss: 0.6660 - val_accuracy: 0.6034\n",
      "Epoch 8/50\n",
      "326/326 [==============================] - 481s 1s/step - loss: 0.5194 - accuracy: 0.8397 - val_loss: 0.9447 - val_accuracy: 0.2452\n",
      "Epoch 9/50\n",
      "326/326 [==============================] - 478s 1s/step - loss: 0.4420 - accuracy: 0.8678 - val_loss: 0.6818 - val_accuracy: 0.6241\n",
      "Epoch 10/50\n",
      "326/326 [==============================] - 481s 1s/step - loss: 0.3737 - accuracy: 0.8889 - val_loss: 0.7403 - val_accuracy: 0.6258\n",
      "Epoch 11/50\n",
      "326/326 [==============================] - 480s 1s/step - loss: 0.3093 - accuracy: 0.9123 - val_loss: 0.6788 - val_accuracy: 0.6857\n",
      "Epoch 12/50\n",
      "326/326 [==============================] - 480s 1s/step - loss: 0.2737 - accuracy: 0.9243 - val_loss: 0.7882 - val_accuracy: 0.6194\n",
      "Epoch 13/50\n",
      "326/326 [==============================] - 477s 1s/step - loss: 0.2494 - accuracy: 0.9321 - val_loss: 0.7748 - val_accuracy: 0.3784\n",
      "Epoch 14/50\n",
      "326/326 [==============================] - 486s 1s/step - loss: 0.2125 - accuracy: 0.9438 - val_loss: 0.7117 - val_accuracy: 0.7512\n",
      "Epoch 15/50\n",
      "326/326 [==============================] - 481s 1s/step - loss: 0.1921 - accuracy: 0.9507 - val_loss: 0.7336 - val_accuracy: 0.6693\n",
      "Epoch 16/50\n",
      "326/326 [==============================] - 482s 1s/step - loss: 0.1807 - accuracy: 0.9523 - val_loss: 1.0370 - val_accuracy: 0.2630\n",
      "Epoch 17/50\n",
      "326/326 [==============================] - 479s 1s/step - loss: 0.1616 - accuracy: 0.9585 - val_loss: 0.9729 - val_accuracy: 0.4997\n",
      "Epoch 18/50\n",
      "326/326 [==============================] - 481s 1s/step - loss: 0.1427 - accuracy: 0.9627 - val_loss: 0.6811 - val_accuracy: 0.5703\n",
      "Epoch 19/50\n",
      "326/326 [==============================] - 480s 1s/step - loss: 0.1425 - accuracy: 0.9622 - val_loss: 0.8468 - val_accuracy: 0.7436\n",
      "Epoch 20/50\n",
      "326/326 [==============================] - 478s 1s/step - loss: 0.1231 - accuracy: 0.9686 - val_loss: 0.6688 - val_accuracy: 0.5977\n",
      "Epoch 21/50\n",
      "326/326 [==============================] - 477s 1s/step - loss: 0.1244 - accuracy: 0.9699 - val_loss: 0.8495 - val_accuracy: 0.6945\n",
      "Epoch 22/50\n",
      "326/326 [==============================] - 480s 1s/step - loss: 0.1146 - accuracy: 0.9698 - val_loss: 0.9616 - val_accuracy: 0.2443\n",
      "Epoch 23/50\n",
      "326/326 [==============================] - 479s 1s/step - loss: 0.1055 - accuracy: 0.9731 - val_loss: 0.7913 - val_accuracy: 0.7113\n",
      "Epoch 24/50\n",
      "326/326 [==============================] - 480s 1s/step - loss: 0.0942 - accuracy: 0.9754 - val_loss: 0.9579 - val_accuracy: 0.6701\n",
      "Epoch 25/50\n",
      "326/326 [==============================] - 479s 1s/step - loss: 0.0961 - accuracy: 0.9758 - val_loss: 0.7294 - val_accuracy: 0.7271\n",
      "Epoch 26/50\n",
      "326/326 [==============================] - 482s 1s/step - loss: 0.0993 - accuracy: 0.9743 - val_loss: 0.8862 - val_accuracy: 0.7412\n",
      "Epoch 27/50\n",
      "326/326 [==============================] - 482s 1s/step - loss: 0.0853 - accuracy: 0.9788 - val_loss: 1.0317 - val_accuracy: 0.7220\n",
      "Epoch 28/50\n",
      "326/326 [==============================] - 481s 1s/step - loss: 0.0800 - accuracy: 0.9801 - val_loss: 1.0960 - val_accuracy: 0.7356\n",
      "Epoch 29/50\n",
      "326/326 [==============================] - 482s 1s/step - loss: 0.0844 - accuracy: 0.9796 - val_loss: 1.0476 - val_accuracy: 0.5859\n",
      "Epoch 30/50\n",
      "326/326 [==============================] - 481s 1s/step - loss: 0.0741 - accuracy: 0.9828 - val_loss: 0.8747 - val_accuracy: 0.5711\n",
      "Epoch 31/50\n",
      "326/326 [==============================] - 479s 1s/step - loss: 0.0783 - accuracy: 0.9807 - val_loss: 0.8928 - val_accuracy: 0.7023\n",
      "Epoch 32/50\n",
      "326/326 [==============================] - 481s 1s/step - loss: 0.0695 - accuracy: 0.9838 - val_loss: 0.8939 - val_accuracy: 0.6429\n",
      "Epoch 33/50\n",
      "326/326 [==============================] - 482s 1s/step - loss: 0.0790 - accuracy: 0.9801 - val_loss: 0.6924 - val_accuracy: 0.6629\n",
      "Epoch 34/50\n",
      "326/326 [==============================] - 480s 1s/step - loss: 0.0689 - accuracy: 0.9828 - val_loss: 1.1263 - val_accuracy: 0.4929\n",
      "Epoch 35/50\n",
      "326/326 [==============================] - 483s 1s/step - loss: 0.0603 - accuracy: 0.9849 - val_loss: 1.0743 - val_accuracy: 0.5829\n",
      "Epoch 36/50\n",
      "326/326 [==============================] - 482s 1s/step - loss: 0.0618 - accuracy: 0.9858 - val_loss: 1.0442 - val_accuracy: 0.7093\n",
      "Epoch 37/50\n",
      "326/326 [==============================] - 481s 1s/step - loss: 0.0611 - accuracy: 0.9850 - val_loss: 0.8776 - val_accuracy: 0.6530\n",
      "Epoch 38/50\n",
      "326/326 [==============================] - 481s 1s/step - loss: 0.0586 - accuracy: 0.9853 - val_loss: 1.1927 - val_accuracy: 0.3862\n",
      "Epoch 39/50\n",
      "326/326 [==============================] - 481s 1s/step - loss: 0.0643 - accuracy: 0.9844 - val_loss: 0.5660 - val_accuracy: 0.7554\n",
      "Epoch 40/50\n",
      "326/326 [==============================] - 486s 1s/step - loss: 0.0584 - accuracy: 0.9863 - val_loss: 0.9353 - val_accuracy: 0.7089\n",
      "Epoch 41/50\n",
      "326/326 [==============================] - 482s 1s/step - loss: 0.0615 - accuracy: 0.9850 - val_loss: 0.7618 - val_accuracy: 0.6955\n",
      "Epoch 42/50\n",
      "326/326 [==============================] - 483s 1s/step - loss: 0.0527 - accuracy: 0.9871 - val_loss: 0.8087 - val_accuracy: 0.6726\n",
      "Epoch 43/50\n",
      "326/326 [==============================] - 485s 1s/step - loss: 0.0500 - accuracy: 0.9878 - val_loss: 1.1317 - val_accuracy: 0.5912\n",
      "Epoch 44/50\n",
      "326/326 [==============================] - 483s 1s/step - loss: 0.0567 - accuracy: 0.9870 - val_loss: 1.0738 - val_accuracy: 0.7351\n",
      "Epoch 45/50\n",
      "326/326 [==============================] - 484s 1s/step - loss: 0.0428 - accuracy: 0.9892 - val_loss: 0.7579 - val_accuracy: 0.3451\n",
      "Epoch 46/50\n",
      "326/326 [==============================] - 483s 1s/step - loss: 0.0434 - accuracy: 0.9905 - val_loss: 0.9843 - val_accuracy: 0.7088\n",
      "Epoch 47/50\n",
      "326/326 [==============================] - 483s 1s/step - loss: 0.0467 - accuracy: 0.9890 - val_loss: 0.9593 - val_accuracy: 0.7149\n",
      "Epoch 48/50\n",
      "326/326 [==============================] - 485s 1s/step - loss: 0.0433 - accuracy: 0.9900 - val_loss: 1.0557 - val_accuracy: 0.7238\n",
      "Epoch 49/50\n",
      "326/326 [==============================] - 483s 1s/step - loss: 0.0443 - accuracy: 0.9904 - val_loss: 0.9664 - val_accuracy: 0.7386\n",
      "Epoch 50/50\n",
      "326/326 [==============================] - 483s 1s/step - loss: 0.0484 - accuracy: 0.9894 - val_loss: 1.6437 - val_accuracy: 0.4237\n"
     ]
    },
    {
     "data": {
      "text/plain": [
       "<keras.callbacks.History at 0x7f044bd25550>"
      ]
     },
     "execution_count": 13,
     "metadata": {},
     "output_type": "execute_result"
    }
   ],
   "source": [
    "from tensorflow.keras.applications import EfficientNetB2\n",
    "from tensorflow.keras import layers\n",
    "from keras.models import Sequential\n",
    "from keras.layers import LeakyReLU\n",
    "from keras.layers import Dense, Conv2D, Flatten,MaxPooling2D, Dropout, GlobalMaxPooling2D\n",
    "\n",
    "\n",
    "efficient_net = EfficientNetB2(\\\n",
    "    weights='imagenet',\\\n",
    "    input_shape=(80,80,3),\\\n",
    "    include_top=False,\\\n",
    "    pooling='max'\\\n",
    ")\n",
    "\n",
    "model = Sequential()\n",
    "model.add(efficient_net)\n",
    "model.add(Dense(units = 120, activation='relu'))\n",
    "#model.add(Dense(units = 120, activation = 'relu'))\n",
    "model.add(Dense(units = 1, activation='sigmoid'))\n",
    "\n",
    "model.compile(optimizer =tf.keras.optimizers.Adam(learning_rate=0.0001),\\\n",
    "              loss= 'binary_crossentropy', metrics=['accuracy'])\n",
    "\n",
    "weights = {0:1, 1:3}\n",
    "model.fit(train_features, train_target,  class_weight=weights,validation_split=0.3,batch_size = 64,epochs=50)\n",
    "\n",
    "\n"
   ]
  },
  {
   "cell_type": "code",
   "execution_count": 14,
   "id": "fd5fa44c",
   "metadata": {
    "execution": {
     "iopub.execute_input": "2023-01-26T22:29:02.356692Z",
     "iopub.status.busy": "2023-01-26T22:29:02.355418Z",
     "iopub.status.idle": "2023-01-26T22:29:03.368016Z",
     "shell.execute_reply": "2023-01-26T22:29:03.367037Z"
    },
    "papermill": {
     "duration": 2.03662,
     "end_time": "2023-01-26T22:29:03.370973",
     "exception": false,
     "start_time": "2023-01-26T22:29:01.334353",
     "status": "completed"
    },
    "tags": []
   },
   "outputs": [
    {
     "name": "stderr",
     "output_type": "stream",
     "text": [
      "/opt/conda/lib/python3.7/site-packages/keras/utils/generic_utils.py:497: CustomMaskWarning: Custom mask layers require a config and must override get_config. When loading, the custom mask layer must be passed to the custom_objects argument.\n",
      "  category=CustomMaskWarning)\n"
     ]
    }
   ],
   "source": [
    "model.save(\"/kaggle/working/trained_model_breast_cancer3.h5\")"
   ]
  },
  {
   "cell_type": "code",
   "execution_count": 15,
   "id": "4a819733",
   "metadata": {
    "execution": {
     "iopub.execute_input": "2023-01-26T22:29:05.547391Z",
     "iopub.status.busy": "2023-01-26T22:29:05.546600Z",
     "iopub.status.idle": "2023-01-26T22:29:05.551531Z",
     "shell.execute_reply": "2023-01-26T22:29:05.550652Z"
    },
    "papermill": {
     "duration": 1.155786,
     "end_time": "2023-01-26T22:29:05.553620",
     "exception": false,
     "start_time": "2023-01-26T22:29:04.397834",
     "status": "completed"
    },
    "tags": []
   },
   "outputs": [],
   "source": [
    "#from tensorflow import keras\n",
    "#savedModel = keras.models.load_model(\"/kaggle/input/pre-trained-model-of-breast-cancer/trained_model_breast_cancer3.h5\")\n",
    "\n"
   ]
  },
  {
   "cell_type": "code",
   "execution_count": 16,
   "id": "cb1c8123",
   "metadata": {
    "execution": {
     "iopub.execute_input": "2023-01-26T22:29:07.612869Z",
     "iopub.status.busy": "2023-01-26T22:29:07.612164Z",
     "iopub.status.idle": "2023-01-26T22:29:09.915114Z",
     "shell.execute_reply": "2023-01-26T22:29:09.913865Z"
    },
    "papermill": {
     "duration": 3.34948,
     "end_time": "2023-01-26T22:29:09.918036",
     "exception": false,
     "start_time": "2023-01-26T22:29:06.568556",
     "status": "completed"
    },
    "tags": []
   },
   "outputs": [],
   "source": [
    "test_features=[]\n",
    "for i in test['img_data']:\n",
    "    i=np.array(i)\n",
    "    test_features.append(cv2.cvtColor(i,cv2.COLOR_GRAY2RGB))\n",
    "test_features=np.array(test_features)\n",
    " \n",
    "\n",
    "    \n",
    "#featureTransform = test_features.reshape(len(test_features), 6400)\n",
    "#scaler = StandardScaler()\n",
    "#featureTransform =scaler.fit_transform(featureTransform)\n",
    "#norm_features= []\n",
    "#for i in range(len(test_features)):\n",
    "#    norm_features.append(scaler.fit_transform(test_features[i][0]))\n",
    "#test_features=np.array(norm_features)\n",
    "\n",
    "\n",
    "#backTransform = featureTransform.reshape(len(test_features),80,80)\n",
    "test_features = test_features.reshape(len(test_features),80,80,3)\n",
    "\n",
    "\n",
    "\n",
    "test_target = np.array(test['cancer'])"
   ]
  },
  {
   "cell_type": "code",
   "execution_count": 17,
   "id": "51d55a71",
   "metadata": {
    "execution": {
     "iopub.execute_input": "2023-01-26T22:29:12.061863Z",
     "iopub.status.busy": "2023-01-26T22:29:12.060633Z",
     "iopub.status.idle": "2023-01-26T22:30:18.536138Z",
     "shell.execute_reply": "2023-01-26T22:30:18.535067Z"
    },
    "papermill": {
     "duration": 67.497088,
     "end_time": "2023-01-26T22:30:18.539058",
     "exception": false,
     "start_time": "2023-01-26T22:29:11.041970",
     "status": "completed"
    },
    "tags": []
   },
   "outputs": [],
   "source": [
    "pred = model.predict(test_features)\n",
    "bin_pred = []\n",
    "for i in pred:\n",
    "    if i>=0.5:\n",
    "        bin_pred.append(1)\n",
    "    else:\n",
    "        bin_pred.append(0)\n",
    "bin_pred = np.array(bin_pred)\n"
   ]
  },
  {
   "cell_type": "code",
   "execution_count": 18,
   "id": "3dee8a0b",
   "metadata": {
    "execution": {
     "iopub.execute_input": "2023-01-26T22:30:20.692760Z",
     "iopub.status.busy": "2023-01-26T22:30:20.692053Z",
     "iopub.status.idle": "2023-01-26T22:30:20.717212Z",
     "shell.execute_reply": "2023-01-26T22:30:20.715608Z"
    },
    "papermill": {
     "duration": 1.040247,
     "end_time": "2023-01-26T22:30:20.719659",
     "exception": false,
     "start_time": "2023-01-26T22:30:19.679412",
     "status": "completed"
    },
    "tags": []
   },
   "outputs": [
    {
     "name": "stdout",
     "output_type": "stream",
     "text": [
      "0.43388688704370987\n",
      "0.35098100280286515 0.6887966804979253\n"
     ]
    }
   ],
   "source": [
    "import sklearn\n",
    "acc = sklearn.metrics.accuracy_score(test_target, bin_pred)\n",
    "print(acc)\n",
    "\n",
    "countzero=0\n",
    "countone=0\n",
    "countzerot=0\n",
    "countonet=0\n",
    "for i, j in zip(test_target, bin_pred):\n",
    "    if i==0 and j==0:\n",
    "        countzero+=1\n",
    "    if i==1 and j==1:\n",
    "        countone+=1\n",
    "    if i==1:\n",
    "        countonet+=1\n",
    "    if i==0:\n",
    "        countzerot+=1\n",
    "print(countzero/countzerot,countone/countonet)"
   ]
  },
  {
   "cell_type": "code",
   "execution_count": 19,
   "id": "f37f80c0",
   "metadata": {
    "execution": {
     "iopub.execute_input": "2023-01-26T22:30:22.857741Z",
     "iopub.status.busy": "2023-01-26T22:30:22.857035Z",
     "iopub.status.idle": "2023-01-26T22:30:22.867132Z",
     "shell.execute_reply": "2023-01-26T22:30:22.865414Z"
    },
    "papermill": {
     "duration": 1.14043,
     "end_time": "2023-01-26T22:30:22.870212",
     "exception": false,
     "start_time": "2023-01-26T22:30:21.729782",
     "status": "completed"
    },
    "tags": []
   },
   "outputs": [
    {
     "name": "stdout",
     "output_type": "stream",
     "text": [
      "0.3739062635363424\n"
     ]
    }
   ],
   "source": [
    "\n",
    "def recall_m(y_true, y_pred):\n",
    "    true_positives = np.sum(np.round(np.clip(y_true * y_pred, 0, 1)))\n",
    "    possible_positives = np.sum(np.round(np.clip(y_true, 0, 1)))\n",
    "    recall = true_positives / (possible_positives )\n",
    "    return recall\n",
    "\n",
    "def precision_m(y_true, y_pred):\n",
    "    true_positives = np.sum(np.round(np.clip(y_true * y_pred, 0, 1)))\n",
    "    predicted_positives = np.sum(np.round(np.clip(y_pred, 0, 1)))\n",
    "    precision = true_positives / (predicted_positives )\n",
    "    return precision\n",
    "\n",
    "def f1_m(y_true, y_pred):\n",
    "    precision = precision_m(y_true, y_pred)\n",
    "    recall = recall_m(y_true, y_pred)\n",
    "    return 2*((precision*recall)/(precision+recall))\n",
    "\n",
    "\n",
    "print(f1_m(test_target,bin_pred))"
   ]
  },
  {
   "cell_type": "code",
   "execution_count": 20,
   "id": "a8232f36",
   "metadata": {
    "execution": {
     "iopub.execute_input": "2023-01-26T22:30:24.936735Z",
     "iopub.status.busy": "2023-01-26T22:30:24.936336Z",
     "iopub.status.idle": "2023-01-26T22:30:54.734821Z",
     "shell.execute_reply": "2023-01-26T22:30:54.733361Z"
    },
    "papermill": {
     "duration": 30.837457,
     "end_time": "2023-01-26T22:30:54.738125",
     "exception": false,
     "start_time": "2023-01-26T22:30:23.900668",
     "status": "completed"
    },
    "tags": []
   },
   "outputs": [
    {
     "name": "stderr",
     "output_type": "stream",
     "text": [
      " 75%|███████▌  | 3/4 [00:00<00:00,  4.56it/s]\n"
     ]
    }
   ],
   "source": [
    "datasetPath = '/kaggle/input/rsna-breast-cancer-detection/test.csv'\n",
    "imgPath = '/kaggle/input/rsna-breast-cancer-detection/test_images/'\n",
    "\n",
    "testImgData = dcmToPix(datasetPath, imgPath)"
   ]
  },
  {
   "cell_type": "code",
   "execution_count": 21,
   "id": "fe3a5d3f",
   "metadata": {
    "execution": {
     "iopub.execute_input": "2023-01-26T22:30:56.899482Z",
     "iopub.status.busy": "2023-01-26T22:30:56.899029Z",
     "iopub.status.idle": "2023-01-26T22:30:56.922744Z",
     "shell.execute_reply": "2023-01-26T22:30:56.921826Z"
    },
    "papermill": {
     "duration": 1.16992,
     "end_time": "2023-01-26T22:30:56.925305",
     "exception": false,
     "start_time": "2023-01-26T22:30:55.755385",
     "status": "completed"
    },
    "tags": []
   },
   "outputs": [],
   "source": [
    "datacancer = pd.read_csv(datasetPath)\n",
    "imgDataFrame = {'img_data':testImgData}\n",
    "imgData2 = pd.DataFrame(imgDataFrame)\n",
    "testImgData=imgData2\n",
    "imgdata_shuff = testImgData.sample(frac=1)"
   ]
  },
  {
   "cell_type": "code",
   "execution_count": 22,
   "id": "396f9627",
   "metadata": {
    "execution": {
     "iopub.execute_input": "2023-01-26T22:30:59.099540Z",
     "iopub.status.busy": "2023-01-26T22:30:59.098698Z",
     "iopub.status.idle": "2023-01-26T22:30:59.114051Z",
     "shell.execute_reply": "2023-01-26T22:30:59.113085Z"
    },
    "papermill": {
     "duration": 1.163875,
     "end_time": "2023-01-26T22:30:59.115960",
     "exception": false,
     "start_time": "2023-01-26T22:30:57.952085",
     "status": "completed"
    },
    "tags": []
   },
   "outputs": [
    {
     "name": "stderr",
     "output_type": "stream",
     "text": [
      "100%|██████████| 4/4 [00:00<00:00, 1877.91it/s]\n"
     ]
    }
   ],
   "source": [
    "imgDataList=[]\n",
    "for j in tqdm(imgdata_shuff['img_data']):\n",
    "    imgDataList.append(random_rotate(j))\n",
    "imgdata_shuff['img_data'] = imgDataList"
   ]
  },
  {
   "cell_type": "code",
   "execution_count": 23,
   "id": "3ebabee5",
   "metadata": {
    "execution": {
     "iopub.execute_input": "2023-01-26T22:31:01.437389Z",
     "iopub.status.busy": "2023-01-26T22:31:01.436625Z",
     "iopub.status.idle": "2023-01-26T22:31:01.549572Z",
     "shell.execute_reply": "2023-01-26T22:31:01.548703Z"
    },
    "papermill": {
     "duration": 1.129752,
     "end_time": "2023-01-26T22:31:01.551980",
     "exception": false,
     "start_time": "2023-01-26T22:31:00.422228",
     "status": "completed"
    },
    "tags": []
   },
   "outputs": [],
   "source": [
    "test=imgdata_shuff\n",
    "\n",
    "\n",
    "test_features=[]\n",
    "for i in test['img_data']:\n",
    "    i=np.array(i)\n",
    "    test_features.append(cv2.cvtColor(i,cv2.COLOR_GRAY2RGB))\n",
    "test_features=np.array(test_features)\n",
    " \n",
    "#featureTransform = test_features.reshape(len(test_features), 6400)\n",
    "#scaler = StandardScaler()\n",
    "#featureTransform =scaler.fit_transform(featureTransform)\n",
    "#norm_features= []\n",
    "#for i in range(len(test_features)):\n",
    "#    norm_features.append(scaler.fit_transform(test_features[i][0]))\n",
    "#test_features=np.array(norm_features)\n",
    "\n",
    "\n",
    "#backTransform = featureTransform.reshape(len(test_features),80,80)\n",
    "test_features = test_features.reshape(len(test_features),80,80,3)\n",
    "\n",
    "\n"
   ]
  },
  {
   "cell_type": "code",
   "execution_count": 24,
   "id": "98493412",
   "metadata": {
    "execution": {
     "iopub.execute_input": "2023-01-26T22:31:03.696272Z",
     "iopub.status.busy": "2023-01-26T22:31:03.695645Z",
     "iopub.status.idle": "2023-01-26T22:31:06.610431Z",
     "shell.execute_reply": "2023-01-26T22:31:06.609194Z"
    },
    "papermill": {
     "duration": 3.931719,
     "end_time": "2023-01-26T22:31:06.613397",
     "exception": false,
     "start_time": "2023-01-26T22:31:02.681678",
     "status": "completed"
    },
    "tags": []
   },
   "outputs": [
    {
     "name": "stdout",
     "output_type": "stream",
     "text": [
      "[1 0 0 1]\n"
     ]
    }
   ],
   "source": [
    "pred = model.predict(test_features)\n",
    "bin_pred = []\n",
    "for i in pred:\n",
    "    if i>=0.5:\n",
    "        bin_pred.append(1)\n",
    "    else:\n",
    "        bin_pred.append(0)\n",
    "bin_pred = np.array(bin_pred)\n",
    "print(bin_pred)"
   ]
  },
  {
   "cell_type": "code",
   "execution_count": 25,
   "id": "5c7773bc",
   "metadata": {
    "execution": {
     "iopub.execute_input": "2023-01-26T22:31:08.782839Z",
     "iopub.status.busy": "2023-01-26T22:31:08.781827Z",
     "iopub.status.idle": "2023-01-26T22:31:08.799253Z",
     "shell.execute_reply": "2023-01-26T22:31:08.798284Z"
    },
    "papermill": {
     "duration": 1.170284,
     "end_time": "2023-01-26T22:31:08.802211",
     "exception": false,
     "start_time": "2023-01-26T22:31:07.631927",
     "status": "completed"
    },
    "tags": []
   },
   "outputs": [
    {
     "name": "stdout",
     "output_type": "stream",
     "text": [
      "  prediction_id  cancer\n",
      "0       10008_L       1\n",
      "1       10008_L       0\n",
      "2       10008_R       0\n",
      "3       10008_R       1\n"
     ]
    }
   ],
   "source": [
    "testData = pd.read_csv('/kaggle/input/rsna-breast-cancer-detection/test.csv')\n",
    "\n",
    "submissionFrame={'prediction_id':testData['prediction_id'],'cancer':bin_pred}\n",
    "submission = pd.DataFrame(submissionFrame)\n",
    "print(submission)"
   ]
  }
 ],
 "metadata": {
  "kernelspec": {
   "display_name": "Python 3",
   "language": "python",
   "name": "python3"
  },
  "language_info": {
   "codemirror_mode": {
    "name": "ipython",
    "version": 3
   },
   "file_extension": ".py",
   "mimetype": "text/x-python",
   "name": "python",
   "nbconvert_exporter": "python",
   "pygments_lexer": "ipython3",
   "version": "3.7.12"
  },
  "papermill": {
   "default_parameters": {},
   "duration": 24501.026815,
   "end_time": "2023-01-26T22:31:13.356658",
   "environment_variables": {},
   "exception": null,
   "input_path": "__notebook__.ipynb",
   "output_path": "__notebook__.ipynb",
   "parameters": {},
   "start_time": "2023-01-26T15:42:52.329843",
   "version": "2.3.4"
  }
 },
 "nbformat": 4,
 "nbformat_minor": 5
}
