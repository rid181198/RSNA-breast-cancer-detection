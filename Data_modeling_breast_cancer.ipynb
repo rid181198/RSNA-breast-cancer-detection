{
 "cells": [
  {
   "cell_type": "code",
   "execution_count": 1,
   "id": "acbfb1c8",
   "metadata": {
    "execution": {
     "iopub.execute_input": "2023-01-24T17:05:31.799436Z",
     "iopub.status.busy": "2023-01-24T17:05:31.798842Z",
     "iopub.status.idle": "2023-01-24T17:05:41.301546Z",
     "shell.execute_reply": "2023-01-24T17:05:41.299868Z"
    },
    "papermill": {
     "duration": 9.516086,
     "end_time": "2023-01-24T17:05:41.304800",
     "exception": false,
     "start_time": "2023-01-24T17:05:31.788714",
     "status": "completed"
    },
    "tags": []
   },
   "outputs": [],
   "source": [
    "import numpy as np\n",
    "import pandas as pd\n",
    "import matplotlib.pyplot as plt\n",
    "import seaborn as sns\n",
    "import pickle\n",
    "import tensorflow as tf\n",
    "import tensorflow_io as tfio\n",
    "import os\n",
    "from tqdm import tqdm\n",
    "import cv2\n",
    "from PIL import Image\n",
    "from joblib import Parallel, delayed\n",
    "import gc\n",
    "from PIL import Image as im\n",
    "import random"
   ]
  },
  {
   "cell_type": "code",
   "execution_count": 2,
   "id": "51b1c5f9",
   "metadata": {
    "execution": {
     "iopub.execute_input": "2023-01-24T17:05:41.320664Z",
     "iopub.status.busy": "2023-01-24T17:05:41.319837Z",
     "iopub.status.idle": "2023-01-24T17:05:56.839972Z",
     "shell.execute_reply": "2023-01-24T17:05:56.837970Z"
    },
    "papermill": {
     "duration": 15.532054,
     "end_time": "2023-01-24T17:05:56.843649",
     "exception": false,
     "start_time": "2023-01-24T17:05:41.311595",
     "status": "completed"
    },
    "tags": []
   },
   "outputs": [
    {
     "name": "stdout",
     "output_type": "stream",
     "text": [
      "Collecting dicomsdl\r\n",
      "  Downloading dicomsdl-0.109.1-cp37-cp37m-manylinux_2_12_x86_64.manylinux2010_x86_64.whl (1.4 MB)\r\n",
      "\u001b[2K     \u001b[90m━━━━━━━━━━━━━━━━━━━━━━━━━━━━━━━━━━━━━━━━\u001b[0m \u001b[32m1.4/1.4 MB\u001b[0m \u001b[31m4.4 MB/s\u001b[0m eta \u001b[36m0:00:00\u001b[0m\r\n",
      "\u001b[?25hInstalling collected packages: dicomsdl\r\n",
      "Successfully installed dicomsdl-0.109.1\r\n",
      "\u001b[33mWARNING: Running pip as the 'root' user can result in broken permissions and conflicting behaviour with the system package manager. It is recommended to use a virtual environment instead: https://pip.pypa.io/warnings/venv\u001b[0m\u001b[33m\r\n",
      "\u001b[0m"
     ]
    }
   ],
   "source": [
    "import sys\n",
    "!{sys.executable} -m pip install dicomsdl\n",
    "#!pip install /kaggle/input/rsnapacks/dicomsdl-0.109.1-cp36-cp36m-manylinux_2_12_x86_64.manylinux2010_x86_64.whl\n",
    "import numpy as np\n",
    "import pandas as pd\n",
    "import matplotlib.pyplot as plt\n",
    "import seaborn as sns\n",
    "import pickle\n",
    "#import pydicom as dicom\n",
    "import dicomsdl as dicom\n",
    "import tensorflow as tf\n",
    "import tensorflow_io as tfio\n",
    "from PIL import Image as im\n",
    "import os\n",
    "from tqdm import tqdm\n",
    "import cv2\n",
    "from PIL import Image\n",
    "from joblib import Parallel, delayed\n",
    "import gc\n",
    "import random"
   ]
  },
  {
   "cell_type": "code",
   "execution_count": 3,
   "id": "7156e5a2",
   "metadata": {
    "execution": {
     "iopub.execute_input": "2023-01-24T17:05:56.862505Z",
     "iopub.status.busy": "2023-01-24T17:05:56.861975Z",
     "iopub.status.idle": "2023-01-24T17:05:56.884164Z",
     "shell.execute_reply": "2023-01-24T17:05:56.882966Z"
    },
    "papermill": {
     "duration": 0.035027,
     "end_time": "2023-01-24T17:05:56.887115",
     "exception": false,
     "start_time": "2023-01-24T17:05:56.852088",
     "status": "completed"
    },
    "tags": []
   },
   "outputs": [],
   "source": [
    "datasetPath = '/kaggle/input/rsna-breast-cancer-detection/train.csv'\n",
    "imgPath = '/kaggle/input/rsna-breast-cancer-detection/train_images/'\n",
    "\n",
    "def crop(sideName, imgName):\n",
    "    if sideName == 'L':\n",
    "        colind=[]\n",
    "        for r,row in enumerate(imgName):\n",
    "            for c,col in enumerate(row):\n",
    "                if col==0:\n",
    "                    colind.append(c)\n",
    "                    break\n",
    "        crop_size = max(colind)\n",
    "        imgName = imgName[0:512,0:crop_size]\n",
    "        imgName = cv2.resize(imgName,(128,128))\n",
    "        \n",
    "    if sideName == 'R':\n",
    "        colind=[]\n",
    "        for r,row in enumerate(imgName):\n",
    "            for c,col in enumerate(row):\n",
    "                if col!=0:\n",
    "                    colind.append(c)\n",
    "                    break\n",
    "        crop_size = min(colind)\n",
    "        imgName = imgName[0:512,crop_size:512]\n",
    "        imgName = cv2.resize(imgName,(128,128))\n",
    "    \n",
    "    return imgName    \n",
    "\n",
    "    gc.collect()\n",
    "    \n",
    "def crop_reverse(sideName, imgName):\n",
    "    if sideName == 'R':\n",
    "        colind=[]\n",
    "        for r,row in enumerate(imgName):\n",
    "            for c,col in enumerate(row):\n",
    "                if col==0:\n",
    "                    colind.append(c)\n",
    "                    break\n",
    "        crop_size = max(colind)\n",
    "        imgName = imgName[0:512,0:crop_size]\n",
    "        imgName = cv2.resize(imgName,(128,128))\n",
    "        \n",
    "    if sideName == 'L':\n",
    "        colind=[]\n",
    "        for r,row in enumerate(imgName):\n",
    "            for c,col in enumerate(row):\n",
    "                if col!=0:\n",
    "                    colind.append(c)\n",
    "                    break\n",
    "        crop_size = min(colind)\n",
    "        imgName = imgName[0:512,crop_size:512]\n",
    "        imgName = cv2.resize(imgName,(128,128))\n",
    "    \n",
    "    return imgName    \n",
    "\n",
    "    gc.collect()\n",
    "    \n",
    "\n",
    "def img_process(i,filename,sides):\n",
    "    \n",
    "    #ds = dicom.dcmread(filename)\n",
    "    ds = dicom.open(filename)\n",
    "    ds = ds.pixelData()\n",
    "    ds = cv2.normalize(ds, None, 0, 1.0, cv2.NORM_MINMAX, dtype=cv2.CV_32F)\n",
    "    ds = cv2.resize(ds,(512,512))\n",
    "    ds = np.where(ds >= 0.9999, 0,ds)\n",
    "    \n",
    "    try:\n",
    "        ds = np.array(crop(sides[i], ds))   \n",
    "    except:\n",
    "        ds = np.array(crop_reverse(sides[i], ds))\n",
    "    return ds \n",
    "\n",
    "    #train_data.loc[i,'img_data'] = [img_fin]\n",
    "    #train_data.to_csv('/kaggle/working/training_img_data.csv') \n",
    "    \n",
    "    gc.collect()\n",
    "\n",
    "def dcmToPix(datasetPath, imgPath):\n",
    "    dataset = pd.read_csv(datasetPath)\n",
    "    dataset=dataset[:50]\n",
    "    \n",
    "    \n",
    "    patient_ids = dataset['patient_id']\n",
    "    image_ids = dataset['image_id']\n",
    "    sides  = dataset['laterality']\n",
    "\n",
    "    imgData = []\n",
    "\n",
    "    for pi, ii, leng in zip(patient_ids, image_ids, range(len(patient_ids))):\n",
    "        imgData.append(imgPath + str(pi) + '/' + str(ii) + '.dcm')\n",
    "\n",
    "    dataset['img_data'] = \" \"\n",
    "    \n",
    "    result = Parallel(n_jobs=128)(\\\n",
    "    delayed(img_process)(i, fname, sides) for i, fname in zip(range(len(imgData)),tqdm(imgData))\\\n",
    "    )\n",
    "    \n",
    "    dataset['img_data'] = result\n",
    "    dataset.to_pickle('imgData.pkl' )\n",
    "    \n",
    "    return result\n",
    "    "
   ]
  },
  {
   "cell_type": "code",
   "execution_count": 4,
   "id": "d5313667",
   "metadata": {
    "_cell_guid": "b1076dfc-b9ad-4769-8c92-a6c4dae69d19",
    "_uuid": "8f2839f25d086af736a60e9eeb907d3b93b6e0e5",
    "execution": {
     "iopub.execute_input": "2023-01-24T17:05:56.903842Z",
     "iopub.status.busy": "2023-01-24T17:05:56.903031Z",
     "iopub.status.idle": "2023-01-24T17:06:37.127988Z",
     "shell.execute_reply": "2023-01-24T17:06:37.126785Z"
    },
    "papermill": {
     "duration": 40.236858,
     "end_time": "2023-01-24T17:06:37.131325",
     "exception": false,
     "start_time": "2023-01-24T17:05:56.894467",
     "status": "completed"
    },
    "tags": []
   },
   "outputs": [],
   "source": [
    "with (open('/kaggle/input/output/imgData.pkl', \"rb\")) as openfile:\n",
    "     imgData = pickle.load(openfile)"
   ]
  },
  {
   "cell_type": "code",
   "execution_count": 5,
   "id": "97958b49",
   "metadata": {
    "execution": {
     "iopub.execute_input": "2023-01-24T17:06:37.149530Z",
     "iopub.status.busy": "2023-01-24T17:06:37.148823Z",
     "iopub.status.idle": "2023-01-24T17:06:37.153761Z",
     "shell.execute_reply": "2023-01-24T17:06:37.152411Z"
    },
    "papermill": {
     "duration": 0.017852,
     "end_time": "2023-01-24T17:06:37.157206",
     "exception": false,
     "start_time": "2023-01-24T17:06:37.139354",
     "status": "completed"
    },
    "tags": []
   },
   "outputs": [],
   "source": [
    "#datacancer = pd.read_csv(datasetPath)\n",
    "#imgDataFrame = {'cancer':datacancer['cancer'][:50], 'img_data':imgData}\n",
    "#imgData2 = pd.DataFrame(imgDataFrame)\n",
    "\n",
    "#imgData=imgData2"
   ]
  },
  {
   "cell_type": "code",
   "execution_count": 6,
   "id": "29451cf5",
   "metadata": {
    "execution": {
     "iopub.execute_input": "2023-01-24T17:06:37.174534Z",
     "iopub.status.busy": "2023-01-24T17:06:37.174087Z",
     "iopub.status.idle": "2023-01-24T17:06:37.318351Z",
     "shell.execute_reply": "2023-01-24T17:06:37.316718Z"
    },
    "papermill": {
     "duration": 0.156112,
     "end_time": "2023-01-24T17:06:37.321093",
     "exception": false,
     "start_time": "2023-01-24T17:06:37.164981",
     "status": "completed"
    },
    "tags": []
   },
   "outputs": [],
   "source": [
    "imgdata_pos = imgData[imgData['cancer'] == 1]\n",
    "imgdata_neg = imgData[imgData['cancer'] == 0]\n",
    "\n",
    "imgdata_pos = imgdata_pos.sample(frac = 1)\n",
    "imgdata_neg = imgdata_neg.sample(frac = 1)\n",
    "\n",
    "imgdata_neg = imgdata_neg.sample(frac= 1)\n",
    "\n",
    "frames = 8*[imgdata_pos]\n",
    "frames.append(imgdata_neg)\n",
    "imgdata_shuff = pd.concat(frames)\n",
    "imgdata_shuff = imgdata_shuff.sample(frac=1)"
   ]
  },
  {
   "cell_type": "code",
   "execution_count": 7,
   "id": "5bdc742c",
   "metadata": {
    "execution": {
     "iopub.execute_input": "2023-01-24T17:06:37.340065Z",
     "iopub.status.busy": "2023-01-24T17:06:37.339669Z",
     "iopub.status.idle": "2023-01-24T17:06:37.354648Z",
     "shell.execute_reply": "2023-01-24T17:06:37.352862Z"
    },
    "papermill": {
     "duration": 0.029028,
     "end_time": "2023-01-24T17:06:37.357732",
     "exception": false,
     "start_time": "2023-01-24T17:06:37.328704",
     "status": "completed"
    },
    "tags": []
   },
   "outputs": [
    {
     "name": "stdout",
     "output_type": "stream",
     "text": [
      "0    53548\n",
      "1     9264\n",
      "Name: cancer, dtype: int64\n"
     ]
    }
   ],
   "source": [
    "print(imgdata_shuff['cancer'].value_counts())"
   ]
  },
  {
   "cell_type": "code",
   "execution_count": 8,
   "id": "a4e0da1a",
   "metadata": {
    "execution": {
     "iopub.execute_input": "2023-01-24T17:06:37.377562Z",
     "iopub.status.busy": "2023-01-24T17:06:37.375955Z",
     "iopub.status.idle": "2023-01-24T17:06:37.384708Z",
     "shell.execute_reply": "2023-01-24T17:06:37.383469Z"
    },
    "papermill": {
     "duration": 0.021964,
     "end_time": "2023-01-24T17:06:37.388016",
     "exception": false,
     "start_time": "2023-01-24T17:06:37.366052",
     "status": "completed"
    },
    "tags": []
   },
   "outputs": [],
   "source": [
    "def random_rotate(imgData):\n",
    "    thresh = 0.15\n",
    "    \n",
    "    imgData = imgData.reshape(128,128)\n",
    "    imgData = np.clip(imgData,thresh,1)\n",
    "    imgData = imgData[25:105,25:105]\n",
    "    \n",
    "    imgData = im.fromarray(imgData)\n",
    "    imgData = np.asarray(imgData.rotate(random.randint(-15, 15)))\n",
    "    return imgData"
   ]
  },
  {
   "cell_type": "code",
   "execution_count": 9,
   "id": "2d950349",
   "metadata": {
    "execution": {
     "iopub.execute_input": "2023-01-24T17:06:37.406228Z",
     "iopub.status.busy": "2023-01-24T17:06:37.405764Z",
     "iopub.status.idle": "2023-01-24T17:06:53.102853Z",
     "shell.execute_reply": "2023-01-24T17:06:53.101258Z"
    },
    "papermill": {
     "duration": 15.709568,
     "end_time": "2023-01-24T17:06:53.106009",
     "exception": false,
     "start_time": "2023-01-24T17:06:37.396441",
     "status": "completed"
    },
    "tags": []
   },
   "outputs": [
    {
     "name": "stderr",
     "output_type": "stream",
     "text": [
      "100%|██████████| 62812/62812 [00:15<00:00, 4011.79it/s]\n"
     ]
    }
   ],
   "source": [
    "imgDataList=[]\n",
    "for j in tqdm(imgdata_shuff['img_data']):\n",
    "    imgDataList.append(random_rotate(j))\n",
    "imgdata_shuff['img_data'] = imgDataList"
   ]
  },
  {
   "cell_type": "code",
   "execution_count": 10,
   "id": "bea5efdd",
   "metadata": {
    "execution": {
     "iopub.execute_input": "2023-01-24T17:06:53.143589Z",
     "iopub.status.busy": "2023-01-24T17:06:53.143110Z",
     "iopub.status.idle": "2023-01-24T17:06:59.203274Z",
     "shell.execute_reply": "2023-01-24T17:06:59.201061Z"
    },
    "papermill": {
     "duration": 6.083176,
     "end_time": "2023-01-24T17:06:59.207516",
     "exception": false,
     "start_time": "2023-01-24T17:06:53.124340",
     "status": "completed"
    },
    "tags": []
   },
   "outputs": [],
   "source": [
    "from sklearn.model_selection import train_test_split\n",
    "train,test = train_test_split(imgdata_shuff, test_size=0.3, random_state=42, shuffle=True)\n",
    "\n",
    "\n",
    "train_target = np.array(train['cancer'])\n",
    "train_features=[]\n",
    "for i in train['img_data']:\n",
    "    train_features.append([i])\n",
    "train_features=np.array(train_features)\n",
    "\n",
    "\n",
    "\n",
    "featureTransform = train_features.reshape(len(train_features), 6400)\n",
    "\n",
    "from sklearn.preprocessing import StandardScaler\n",
    "scaler = StandardScaler()\n",
    "featureTransform = scaler.fit_transform(featureTransform)\n",
    "#norm_features= []\n",
    "#for i in range(len(train_features)):\n",
    "#    norm_features.append(scaler.fit_transform(train_features[i][0]))\n",
    "#train_features=np.array(norm_features)\n",
    "\n",
    "\n",
    "backTransform = featureTransform.reshape(len(train_features),80,80)\n",
    "train_features = backTransform.reshape(len(train_features),80,80,1)\n",
    "\n"
   ]
  },
  {
   "cell_type": "code",
   "execution_count": 11,
   "id": "70cbe170",
   "metadata": {
    "execution": {
     "iopub.execute_input": "2023-01-24T17:06:59.245913Z",
     "iopub.status.busy": "2023-01-24T17:06:59.245389Z",
     "iopub.status.idle": "2023-01-24T17:06:59.515215Z",
     "shell.execute_reply": "2023-01-24T17:06:59.513757Z"
    },
    "papermill": {
     "duration": 0.293072,
     "end_time": "2023-01-24T17:06:59.518553",
     "exception": false,
     "start_time": "2023-01-24T17:06:59.225481",
     "status": "completed"
    },
    "tags": []
   },
   "outputs": [
    {
     "name": "stderr",
     "output_type": "stream",
     "text": [
      "2023-01-24 17:06:59.302982: I tensorflow/core/common_runtime/process_util.cc:146] Creating new thread pool with default inter op setting: 2. Tune using inter_op_parallelism_threads for best performance.\n"
     ]
    }
   ],
   "source": [
    "from keras.models import Sequential\n",
    "from keras.layers import LeakyReLU\n",
    "from keras.layers import Dense, Conv2D, Flatten,MaxPooling2D, Dropout, GlobalMaxPooling2D\n",
    "model = Sequential()\n",
    "model.add(Conv2D(64, 3, activation = \"relu\", input_shape = (80,80,1)))\n",
    "model.add(MaxPooling2D())\n",
    "model.add(LeakyReLU(alpha=0.1))\n",
    "model.add(Dropout(0.3))\n",
    "model.add(Conv2D(32, 3, activation = \"relu\"))\n",
    "model.add(MaxPooling2D())\n",
    "model.add(LeakyReLU(alpha=0.1))\n",
    "model.add(Conv2D(16, 3, activation = \"relu\"))\n",
    "model.add(MaxPooling2D())\n",
    "model.add(Dropout(0.3))\n",
    "model.add(Flatten())\n",
    "model.add(Dense(128, activation = 'relu')) \n",
    "model.add(LeakyReLU(alpha=0.1))\n",
    "model.add(Dropout(0.3))\n",
    "model.add(Dense(1, activation = 'sigmoid'))\n",
    "\n",
    "\n",
    "\n",
    "\n",
    "from keras import backend as K\n",
    "def recall_m(y_true, y_pred):\n",
    "    true_positives = K.sum(K.round(K.clip(y_true * y_pred, 0, 1)))\n",
    "    possible_positives = K.sum(K.round(K.clip(y_true, 0, 1)))\n",
    "    recall = true_positives / (possible_positives )\n",
    "    return recall\n",
    "\n",
    "def precision_m(y_true, y_pred):\n",
    "    true_positives = K.sum(K.round(K.clip(y_true * y_pred, 0, 1)))\n",
    "    predicted_positives = K.sum(K.round(K.clip(y_pred, 0, 1)))\n",
    "    precision = true_positives / (predicted_positives )\n",
    "    return precision\n",
    "\n",
    "def f1_m(y_true, y_pred):\n",
    "    precision = precision_m(y_true, y_pred)\n",
    "    recall = recall_m(y_true, y_pred)\n",
    "    return 2*((precision*recall)/(precision+recall))\n",
    "\n",
    "\n",
    "\n",
    "\n",
    "\n",
    "#loss = tf.keras.losses.BinaryFocalCrossentropy(\\\n",
    "#    apply_class_balancing=True, gamma=5, from_logits=True,\\\n",
    "#    reduction=tf.keras.losses.Reduction.NONE)\n",
    "\n",
    "\n",
    "model.compile(optimizer =tf.keras.optimizers.Adam(learning_rate=0.0001),\\\n",
    "              loss= 'binary_crossentropy', metrics=['accuracy'])\n",
    "\n"
   ]
  },
  {
   "cell_type": "code",
   "execution_count": 12,
   "id": "91f71bd1",
   "metadata": {
    "execution": {
     "iopub.execute_input": "2023-01-24T17:06:59.556320Z",
     "iopub.status.busy": "2023-01-24T17:06:59.555486Z",
     "iopub.status.idle": "2023-01-24T17:06:59.561109Z",
     "shell.execute_reply": "2023-01-24T17:06:59.559826Z"
    },
    "papermill": {
     "duration": 0.02836,
     "end_time": "2023-01-24T17:06:59.564441",
     "exception": false,
     "start_time": "2023-01-24T17:06:59.536081",
     "status": "completed"
    },
    "tags": []
   },
   "outputs": [],
   "source": [
    "#from tensorflow import keras\n",
    "#model = keras.models.load_model(\"/kaggle/input/pre-trained-model-of-breast-cancer/trained_model_breast_cancer3.h5\")\n"
   ]
  },
  {
   "cell_type": "code",
   "execution_count": 13,
   "id": "39e025b3",
   "metadata": {
    "execution": {
     "iopub.execute_input": "2023-01-24T17:06:59.602597Z",
     "iopub.status.busy": "2023-01-24T17:06:59.601725Z",
     "iopub.status.idle": "2023-01-24T20:46:23.716970Z",
     "shell.execute_reply": "2023-01-24T20:46:23.715219Z"
    },
    "papermill": {
     "duration": 13167.514768,
     "end_time": "2023-01-24T20:46:27.096621",
     "exception": false,
     "start_time": "2023-01-24T17:06:59.581853",
     "status": "completed"
    },
    "tags": []
   },
   "outputs": [
    {
     "name": "stderr",
     "output_type": "stream",
     "text": [
      "2023-01-24 17:07:00.527165: I tensorflow/compiler/mlir/mlir_graph_optimization_pass.cc:185] None of the MLIR Optimization Passes are enabled (registered 2)\n"
     ]
    },
    {
     "name": "stdout",
     "output_type": "stream",
     "text": [
      "Epoch 1/100\n",
      "481/481 [==============================] - 144s 297ms/step - loss: 1.0806 - accuracy: 0.6697 - val_loss: 0.6640 - val_accuracy: 0.7497\n",
      "Epoch 2/100\n",
      "481/481 [==============================] - 128s 266ms/step - loss: 1.0726 - accuracy: 0.6816 - val_loss: 0.6393 - val_accuracy: 0.7889\n",
      "Epoch 3/100\n",
      "481/481 [==============================] - 128s 266ms/step - loss: 1.0685 - accuracy: 0.6819 - val_loss: 0.6625 - val_accuracy: 0.5660\n",
      "Epoch 4/100\n",
      "481/481 [==============================] - 128s 266ms/step - loss: 1.0619 - accuracy: 0.6762 - val_loss: 0.6291 - val_accuracy: 0.7291\n",
      "Epoch 5/100\n",
      "481/481 [==============================] - 127s 263ms/step - loss: 1.0574 - accuracy: 0.6870 - val_loss: 0.6599 - val_accuracy: 0.6507\n",
      "Epoch 6/100\n",
      "481/481 [==============================] - 128s 267ms/step - loss: 1.0514 - accuracy: 0.6980 - val_loss: 0.6344 - val_accuracy: 0.6973\n",
      "Epoch 7/100\n",
      "481/481 [==============================] - 127s 264ms/step - loss: 1.0467 - accuracy: 0.6963 - val_loss: 0.6159 - val_accuracy: 0.7481\n",
      "Epoch 8/100\n",
      "481/481 [==============================] - 128s 266ms/step - loss: 1.0408 - accuracy: 0.7044 - val_loss: 0.6568 - val_accuracy: 0.6440\n",
      "Epoch 9/100\n",
      "481/481 [==============================] - 124s 258ms/step - loss: 1.0347 - accuracy: 0.6983 - val_loss: 0.5965 - val_accuracy: 0.7604\n",
      "Epoch 10/100\n",
      "481/481 [==============================] - 124s 258ms/step - loss: 1.0268 - accuracy: 0.6995 - val_loss: 0.6106 - val_accuracy: 0.7323\n",
      "Epoch 11/100\n",
      "481/481 [==============================] - 129s 268ms/step - loss: 1.0182 - accuracy: 0.7080 - val_loss: 0.6463 - val_accuracy: 0.6429\n",
      "Epoch 12/100\n",
      "481/481 [==============================] - 127s 265ms/step - loss: 1.0109 - accuracy: 0.7043 - val_loss: 0.6432 - val_accuracy: 0.6379\n",
      "Epoch 13/100\n",
      "481/481 [==============================] - 128s 266ms/step - loss: 0.9995 - accuracy: 0.7045 - val_loss: 0.5928 - val_accuracy: 0.7313\n",
      "Epoch 14/100\n",
      "481/481 [==============================] - 129s 267ms/step - loss: 0.9934 - accuracy: 0.7073 - val_loss: 0.6292 - val_accuracy: 0.6470\n",
      "Epoch 15/100\n",
      "481/481 [==============================] - 127s 265ms/step - loss: 0.9854 - accuracy: 0.7109 - val_loss: 0.6165 - val_accuracy: 0.6732\n",
      "Epoch 16/100\n",
      "481/481 [==============================] - 127s 264ms/step - loss: 0.9773 - accuracy: 0.7104 - val_loss: 0.6292 - val_accuracy: 0.6284\n",
      "Epoch 17/100\n",
      "481/481 [==============================] - 126s 262ms/step - loss: 0.9654 - accuracy: 0.7148 - val_loss: 0.6486 - val_accuracy: 0.6166\n",
      "Epoch 18/100\n",
      "481/481 [==============================] - 127s 264ms/step - loss: 0.9527 - accuracy: 0.7122 - val_loss: 0.6174 - val_accuracy: 0.6381\n",
      "Epoch 19/100\n",
      "481/481 [==============================] - 130s 270ms/step - loss: 0.9411 - accuracy: 0.7218 - val_loss: 0.6148 - val_accuracy: 0.6432\n",
      "Epoch 20/100\n",
      "481/481 [==============================] - 129s 269ms/step - loss: 0.9344 - accuracy: 0.7231 - val_loss: 0.5865 - val_accuracy: 0.6805\n",
      "Epoch 21/100\n",
      "481/481 [==============================] - 129s 267ms/step - loss: 0.9272 - accuracy: 0.7238 - val_loss: 0.5827 - val_accuracy: 0.7031\n",
      "Epoch 22/100\n",
      "481/481 [==============================] - 129s 269ms/step - loss: 0.9172 - accuracy: 0.7301 - val_loss: 0.5814 - val_accuracy: 0.6824\n",
      "Epoch 23/100\n",
      "481/481 [==============================] - 130s 270ms/step - loss: 0.9034 - accuracy: 0.7380 - val_loss: 0.5767 - val_accuracy: 0.6920\n",
      "Epoch 24/100\n",
      "481/481 [==============================] - 129s 268ms/step - loss: 0.8914 - accuracy: 0.7407 - val_loss: 0.5836 - val_accuracy: 0.6844\n",
      "Epoch 25/100\n",
      "481/481 [==============================] - 129s 268ms/step - loss: 0.8797 - accuracy: 0.7421 - val_loss: 0.5625 - val_accuracy: 0.7114\n",
      "Epoch 26/100\n",
      "481/481 [==============================] - 129s 268ms/step - loss: 0.8691 - accuracy: 0.7522 - val_loss: 0.5388 - val_accuracy: 0.7371\n",
      "Epoch 27/100\n",
      "481/481 [==============================] - 129s 268ms/step - loss: 0.8534 - accuracy: 0.7560 - val_loss: 0.5463 - val_accuracy: 0.7155\n",
      "Epoch 28/100\n",
      "481/481 [==============================] - 129s 268ms/step - loss: 0.8454 - accuracy: 0.7589 - val_loss: 0.5826 - val_accuracy: 0.6692\n",
      "Epoch 29/100\n",
      "481/481 [==============================] - 129s 268ms/step - loss: 0.8441 - accuracy: 0.7595 - val_loss: 0.5878 - val_accuracy: 0.6777\n",
      "Epoch 30/100\n",
      "481/481 [==============================] - 128s 266ms/step - loss: 0.8275 - accuracy: 0.7618 - val_loss: 0.5183 - val_accuracy: 0.7393\n",
      "Epoch 31/100\n",
      "481/481 [==============================] - 128s 267ms/step - loss: 0.8138 - accuracy: 0.7650 - val_loss: 0.5278 - val_accuracy: 0.7316\n",
      "Epoch 32/100\n",
      "481/481 [==============================] - 129s 268ms/step - loss: 0.8059 - accuracy: 0.7708 - val_loss: 0.5201 - val_accuracy: 0.7413\n",
      "Epoch 33/100\n",
      "481/481 [==============================] - 130s 269ms/step - loss: 0.7924 - accuracy: 0.7754 - val_loss: 0.5025 - val_accuracy: 0.7670\n",
      "Epoch 34/100\n",
      "481/481 [==============================] - 130s 270ms/step - loss: 0.7848 - accuracy: 0.7807 - val_loss: 0.5213 - val_accuracy: 0.7380\n",
      "Epoch 35/100\n",
      "481/481 [==============================] - 133s 276ms/step - loss: 0.7747 - accuracy: 0.7844 - val_loss: 0.4845 - val_accuracy: 0.7723\n",
      "Epoch 36/100\n",
      "481/481 [==============================] - 132s 274ms/step - loss: 0.7636 - accuracy: 0.7895 - val_loss: 0.4775 - val_accuracy: 0.7713\n",
      "Epoch 37/100\n",
      "481/481 [==============================] - 129s 268ms/step - loss: 0.7455 - accuracy: 0.7927 - val_loss: 0.4899 - val_accuracy: 0.7500\n",
      "Epoch 38/100\n",
      "481/481 [==============================] - 141s 293ms/step - loss: 0.7342 - accuracy: 0.7996 - val_loss: 0.5039 - val_accuracy: 0.7429\n",
      "Epoch 39/100\n",
      "481/481 [==============================] - 138s 286ms/step - loss: 0.7300 - accuracy: 0.7971 - val_loss: 0.4920 - val_accuracy: 0.7623\n",
      "Epoch 40/100\n",
      "481/481 [==============================] - 140s 292ms/step - loss: 0.7109 - accuracy: 0.8077 - val_loss: 0.4907 - val_accuracy: 0.7479\n",
      "Epoch 41/100\n",
      "481/481 [==============================] - 141s 293ms/step - loss: 0.7100 - accuracy: 0.8023 - val_loss: 0.4576 - val_accuracy: 0.7782\n",
      "Epoch 42/100\n",
      "481/481 [==============================] - 132s 275ms/step - loss: 0.6960 - accuracy: 0.8088 - val_loss: 0.4670 - val_accuracy: 0.7752\n",
      "Epoch 43/100\n",
      "481/481 [==============================] - 131s 273ms/step - loss: 0.6821 - accuracy: 0.8151 - val_loss: 0.4956 - val_accuracy: 0.7595\n",
      "Epoch 44/100\n",
      "481/481 [==============================] - 129s 269ms/step - loss: 0.6878 - accuracy: 0.8112 - val_loss: 0.4346 - val_accuracy: 0.8034\n",
      "Epoch 45/100\n",
      "481/481 [==============================] - 129s 267ms/step - loss: 0.6660 - accuracy: 0.8205 - val_loss: 0.4464 - val_accuracy: 0.7908\n",
      "Epoch 46/100\n",
      "481/481 [==============================] - 131s 273ms/step - loss: 0.6671 - accuracy: 0.8210 - val_loss: 0.4366 - val_accuracy: 0.8027\n",
      "Epoch 47/100\n",
      "481/481 [==============================] - 128s 266ms/step - loss: 0.6614 - accuracy: 0.8231 - val_loss: 0.4634 - val_accuracy: 0.7698\n",
      "Epoch 48/100\n",
      "481/481 [==============================] - 132s 275ms/step - loss: 0.6409 - accuracy: 0.8240 - val_loss: 0.4368 - val_accuracy: 0.7927\n",
      "Epoch 49/100\n",
      "481/481 [==============================] - 132s 275ms/step - loss: 0.6357 - accuracy: 0.8299 - val_loss: 0.4209 - val_accuracy: 0.8030\n",
      "Epoch 50/100\n",
      "481/481 [==============================] - 131s 272ms/step - loss: 0.6362 - accuracy: 0.8258 - val_loss: 0.4315 - val_accuracy: 0.8005\n",
      "Epoch 51/100\n",
      "481/481 [==============================] - 131s 272ms/step - loss: 0.6142 - accuracy: 0.8357 - val_loss: 0.4159 - val_accuracy: 0.7992\n",
      "Epoch 52/100\n",
      "481/481 [==============================] - 130s 270ms/step - loss: 0.6188 - accuracy: 0.8360 - val_loss: 0.4243 - val_accuracy: 0.7957\n",
      "Epoch 53/100\n",
      "481/481 [==============================] - 131s 272ms/step - loss: 0.6092 - accuracy: 0.8374 - val_loss: 0.4254 - val_accuracy: 0.8016\n",
      "Epoch 54/100\n",
      "481/481 [==============================] - 131s 273ms/step - loss: 0.5970 - accuracy: 0.8416 - val_loss: 0.4127 - val_accuracy: 0.8121\n",
      "Epoch 55/100\n",
      "481/481 [==============================] - 130s 270ms/step - loss: 0.5970 - accuracy: 0.8403 - val_loss: 0.3781 - val_accuracy: 0.8350\n",
      "Epoch 56/100\n",
      "481/481 [==============================] - 129s 268ms/step - loss: 0.5902 - accuracy: 0.8437 - val_loss: 0.4048 - val_accuracy: 0.8162\n",
      "Epoch 57/100\n",
      "481/481 [==============================] - 131s 273ms/step - loss: 0.5779 - accuracy: 0.8467 - val_loss: 0.3970 - val_accuracy: 0.8219\n",
      "Epoch 58/100\n",
      "481/481 [==============================] - 131s 273ms/step - loss: 0.5672 - accuracy: 0.8517 - val_loss: 0.3902 - val_accuracy: 0.8272\n",
      "Epoch 59/100\n",
      "481/481 [==============================] - 131s 272ms/step - loss: 0.5627 - accuracy: 0.8525 - val_loss: 0.3886 - val_accuracy: 0.8212\n",
      "Epoch 60/100\n",
      "481/481 [==============================] - 129s 269ms/step - loss: 0.5521 - accuracy: 0.8542 - val_loss: 0.3819 - val_accuracy: 0.8309\n",
      "Epoch 61/100\n",
      "481/481 [==============================] - 131s 273ms/step - loss: 0.5535 - accuracy: 0.8555 - val_loss: 0.3771 - val_accuracy: 0.8330\n",
      "Epoch 62/100\n",
      "481/481 [==============================] - 132s 275ms/step - loss: 0.5532 - accuracy: 0.8541 - val_loss: 0.3911 - val_accuracy: 0.8203\n",
      "Epoch 63/100\n",
      "481/481 [==============================] - 128s 267ms/step - loss: 0.5443 - accuracy: 0.8549 - val_loss: 0.3755 - val_accuracy: 0.8354\n",
      "Epoch 64/100\n",
      "481/481 [==============================] - 132s 275ms/step - loss: 0.5323 - accuracy: 0.8622 - val_loss: 0.3702 - val_accuracy: 0.8356\n",
      "Epoch 65/100\n",
      "481/481 [==============================] - 141s 294ms/step - loss: 0.5367 - accuracy: 0.8596 - val_loss: 0.3573 - val_accuracy: 0.8490\n",
      "Epoch 66/100\n",
      "481/481 [==============================] - 140s 292ms/step - loss: 0.5360 - accuracy: 0.8619 - val_loss: 0.3661 - val_accuracy: 0.8406\n",
      "Epoch 67/100\n",
      "481/481 [==============================] - 141s 293ms/step - loss: 0.5114 - accuracy: 0.8669 - val_loss: 0.3588 - val_accuracy: 0.8456\n",
      "Epoch 68/100\n",
      "481/481 [==============================] - 141s 293ms/step - loss: 0.5167 - accuracy: 0.8652 - val_loss: 0.3567 - val_accuracy: 0.8491\n",
      "Epoch 69/100\n",
      "481/481 [==============================] - 131s 273ms/step - loss: 0.5077 - accuracy: 0.8722 - val_loss: 0.3607 - val_accuracy: 0.8422\n",
      "Epoch 70/100\n",
      "481/481 [==============================] - 130s 270ms/step - loss: 0.4995 - accuracy: 0.8688 - val_loss: 0.3835 - val_accuracy: 0.8317\n",
      "Epoch 71/100\n",
      "481/481 [==============================] - 131s 273ms/step - loss: 0.4992 - accuracy: 0.8709 - val_loss: 0.3645 - val_accuracy: 0.8398\n",
      "Epoch 72/100\n",
      "481/481 [==============================] - 131s 273ms/step - loss: 0.4925 - accuracy: 0.8745 - val_loss: 0.3671 - val_accuracy: 0.8355\n",
      "Epoch 73/100\n",
      "481/481 [==============================] - 130s 271ms/step - loss: 0.4966 - accuracy: 0.8717 - val_loss: 0.3781 - val_accuracy: 0.8265\n",
      "Epoch 74/100\n",
      "481/481 [==============================] - 132s 274ms/step - loss: 0.4784 - accuracy: 0.8798 - val_loss: 0.3289 - val_accuracy: 0.8592\n",
      "Epoch 75/100\n",
      "481/481 [==============================] - 129s 269ms/step - loss: 0.4835 - accuracy: 0.8762 - val_loss: 0.3313 - val_accuracy: 0.8586\n",
      "Epoch 76/100\n",
      "481/481 [==============================] - 132s 274ms/step - loss: 0.4786 - accuracy: 0.8779 - val_loss: 0.3434 - val_accuracy: 0.8563\n",
      "Epoch 77/100\n",
      "481/481 [==============================] - 131s 273ms/step - loss: 0.4684 - accuracy: 0.8813 - val_loss: 0.3409 - val_accuracy: 0.8509\n",
      "Epoch 78/100\n",
      "481/481 [==============================] - 132s 275ms/step - loss: 0.4704 - accuracy: 0.8807 - val_loss: 0.3354 - val_accuracy: 0.8594\n",
      "Epoch 79/100\n",
      "481/481 [==============================] - 131s 272ms/step - loss: 0.4574 - accuracy: 0.8836 - val_loss: 0.3437 - val_accuracy: 0.8529\n",
      "Epoch 80/100\n",
      "481/481 [==============================] - 132s 274ms/step - loss: 0.4652 - accuracy: 0.8800 - val_loss: 0.3237 - val_accuracy: 0.8644\n",
      "Epoch 81/100\n",
      "481/481 [==============================] - 130s 271ms/step - loss: 0.4410 - accuracy: 0.8875 - val_loss: 0.3251 - val_accuracy: 0.8611\n",
      "Epoch 82/100\n",
      "481/481 [==============================] - 132s 275ms/step - loss: 0.4417 - accuracy: 0.8855 - val_loss: 0.3333 - val_accuracy: 0.8567\n",
      "Epoch 83/100\n",
      "481/481 [==============================] - 130s 270ms/step - loss: 0.4432 - accuracy: 0.8880 - val_loss: 0.3057 - val_accuracy: 0.8783\n",
      "Epoch 84/100\n",
      "481/481 [==============================] - 132s 274ms/step - loss: 0.4471 - accuracy: 0.8849 - val_loss: 0.3303 - val_accuracy: 0.8582\n",
      "Epoch 85/100\n",
      "481/481 [==============================] - 131s 273ms/step - loss: 0.4426 - accuracy: 0.8879 - val_loss: 0.3064 - val_accuracy: 0.8749\n",
      "Epoch 86/100\n",
      "481/481 [==============================] - 133s 277ms/step - loss: 0.4308 - accuracy: 0.8901 - val_loss: 0.3262 - val_accuracy: 0.8608\n",
      "Epoch 87/100\n",
      "481/481 [==============================] - 131s 272ms/step - loss: 0.4244 - accuracy: 0.8915 - val_loss: 0.3071 - val_accuracy: 0.8744\n",
      "Epoch 88/100\n",
      "481/481 [==============================] - 133s 276ms/step - loss: 0.4168 - accuracy: 0.8955 - val_loss: 0.3162 - val_accuracy: 0.8673\n",
      "Epoch 89/100\n",
      "481/481 [==============================] - 131s 272ms/step - loss: 0.4184 - accuracy: 0.8951 - val_loss: 0.3210 - val_accuracy: 0.8676\n",
      "Epoch 90/100\n",
      "481/481 [==============================] - 133s 276ms/step - loss: 0.4151 - accuracy: 0.8971 - val_loss: 0.3222 - val_accuracy: 0.8629\n",
      "Epoch 91/100\n",
      "481/481 [==============================] - 131s 273ms/step - loss: 0.4150 - accuracy: 0.8961 - val_loss: 0.3372 - val_accuracy: 0.8541\n",
      "Epoch 92/100\n",
      "481/481 [==============================] - 134s 279ms/step - loss: 0.4187 - accuracy: 0.8959 - val_loss: 0.3103 - val_accuracy: 0.8684\n",
      "Epoch 93/100\n",
      "481/481 [==============================] - 140s 291ms/step - loss: 0.4151 - accuracy: 0.8958 - val_loss: 0.3042 - val_accuracy: 0.8776\n",
      "Epoch 94/100\n",
      "481/481 [==============================] - 142s 296ms/step - loss: 0.4011 - accuracy: 0.8991 - val_loss: 0.3038 - val_accuracy: 0.8779\n",
      "Epoch 95/100\n",
      "481/481 [==============================] - 142s 296ms/step - loss: 0.4017 - accuracy: 0.8995 - val_loss: 0.3046 - val_accuracy: 0.8696\n",
      "Epoch 96/100\n",
      "481/481 [==============================] - 130s 270ms/step - loss: 0.3944 - accuracy: 0.9010 - val_loss: 0.3087 - val_accuracy: 0.8722\n",
      "Epoch 97/100\n",
      "481/481 [==============================] - 132s 275ms/step - loss: 0.4010 - accuracy: 0.9008 - val_loss: 0.2856 - val_accuracy: 0.8860\n",
      "Epoch 98/100\n",
      "481/481 [==============================] - 130s 270ms/step - loss: 0.3977 - accuracy: 0.9019 - val_loss: 0.3168 - val_accuracy: 0.8697\n",
      "Epoch 99/100\n",
      "481/481 [==============================] - 129s 269ms/step - loss: 0.3879 - accuracy: 0.9055 - val_loss: 0.2953 - val_accuracy: 0.8798\n",
      "Epoch 100/100\n",
      "481/481 [==============================] - 132s 275ms/step - loss: 0.3854 - accuracy: 0.9036 - val_loss: 0.3013 - val_accuracy: 0.8757\n"
     ]
    },
    {
     "data": {
      "text/plain": [
       "<keras.callbacks.History at 0x7f671d816e90>"
      ]
     },
     "execution_count": 13,
     "metadata": {},
     "output_type": "execute_result"
    }
   ],
   "source": [
    "weights = {0:1, 1:5}\n",
    "model.fit(train_features, train_target,  class_weight=weights,validation_split=0.3,batch_size = 64,epochs=100)\n",
    "\n",
    "\n"
   ]
  },
  {
   "cell_type": "code",
   "execution_count": 14,
   "id": "484c0c5f",
   "metadata": {
    "execution": {
     "iopub.execute_input": "2023-01-24T20:46:33.850503Z",
     "iopub.status.busy": "2023-01-24T20:46:33.849393Z",
     "iopub.status.idle": "2023-01-24T20:46:33.898060Z",
     "shell.execute_reply": "2023-01-24T20:46:33.896797Z"
    },
    "papermill": {
     "duration": 3.45445,
     "end_time": "2023-01-24T20:46:33.900933",
     "exception": false,
     "start_time": "2023-01-24T20:46:30.446483",
     "status": "completed"
    },
    "tags": []
   },
   "outputs": [],
   "source": [
    "model.save(\"/kaggle/working/trained_model_breast_cancer3.h5\")"
   ]
  },
  {
   "cell_type": "code",
   "execution_count": 15,
   "id": "f940b4c1",
   "metadata": {
    "execution": {
     "iopub.execute_input": "2023-01-24T20:46:40.650588Z",
     "iopub.status.busy": "2023-01-24T20:46:40.650117Z",
     "iopub.status.idle": "2023-01-24T20:46:40.654516Z",
     "shell.execute_reply": "2023-01-24T20:46:40.653542Z"
    },
    "papermill": {
     "duration": 3.369602,
     "end_time": "2023-01-24T20:46:40.656803",
     "exception": false,
     "start_time": "2023-01-24T20:46:37.287201",
     "status": "completed"
    },
    "tags": []
   },
   "outputs": [],
   "source": [
    "#from tensorflow import keras\n",
    "#savedModel = keras.models.load_model(\"/kaggle/input/pre-trained-model-of-breast-cancer/trained_model_breast_cancer3.h5\")\n",
    "\n"
   ]
  },
  {
   "cell_type": "code",
   "execution_count": 16,
   "id": "bc9fd052",
   "metadata": {
    "execution": {
     "iopub.execute_input": "2023-01-24T20:46:47.524234Z",
     "iopub.status.busy": "2023-01-24T20:46:47.523815Z",
     "iopub.status.idle": "2023-01-24T20:46:51.613657Z",
     "shell.execute_reply": "2023-01-24T20:46:51.612636Z"
    },
    "papermill": {
     "duration": 7.611553,
     "end_time": "2023-01-24T20:46:51.616323",
     "exception": false,
     "start_time": "2023-01-24T20:46:44.004770",
     "status": "completed"
    },
    "tags": []
   },
   "outputs": [],
   "source": [
    "test_features=[]\n",
    "for i in test['img_data']:\n",
    "    test_features.append([i])\n",
    "test_features=np.array(test_features)\n",
    " \n",
    "\n",
    "    \n",
    "featureTransform = test_features.reshape(len(test_features), 6400)\n",
    "scaler = StandardScaler()\n",
    "featureTransform =scaler.fit_transform(featureTransform)\n",
    "#norm_features= []\n",
    "#for i in range(len(test_features)):\n",
    "#    norm_features.append(scaler.fit_transform(test_features[i][0]))\n",
    "#test_features=np.array(norm_features)\n",
    "\n",
    "\n",
    "backTransform = featureTransform.reshape(len(test_features),80,80)\n",
    "test_features = backTransform.reshape(len(test_features),80,80,1)\n",
    "\n",
    "\n",
    "\n",
    "test_target = np.array(test['cancer'])"
   ]
  },
  {
   "cell_type": "code",
   "execution_count": 17,
   "id": "b123e8d3",
   "metadata": {
    "execution": {
     "iopub.execute_input": "2023-01-24T20:46:58.318983Z",
     "iopub.status.busy": "2023-01-24T20:46:58.318550Z",
     "iopub.status.idle": "2023-01-24T20:47:20.177080Z",
     "shell.execute_reply": "2023-01-24T20:47:20.174377Z"
    },
    "papermill": {
     "duration": 25.198305,
     "end_time": "2023-01-24T20:47:20.184273",
     "exception": false,
     "start_time": "2023-01-24T20:46:54.985968",
     "status": "completed"
    },
    "tags": []
   },
   "outputs": [],
   "source": [
    "pred = model.predict(test_features)\n",
    "bin_pred = []\n",
    "for i in pred:\n",
    "    if i>=0.5:\n",
    "        bin_pred.append(1)\n",
    "    else:\n",
    "        bin_pred.append(0)\n",
    "bin_pred = np.array(bin_pred)\n"
   ]
  },
  {
   "cell_type": "code",
   "execution_count": 18,
   "id": "961dcb5c",
   "metadata": {
    "execution": {
     "iopub.execute_input": "2023-01-24T20:47:27.351312Z",
     "iopub.status.busy": "2023-01-24T20:47:27.350823Z",
     "iopub.status.idle": "2023-01-24T20:47:27.390171Z",
     "shell.execute_reply": "2023-01-24T20:47:27.388403Z"
    },
    "papermill": {
     "duration": 3.42701,
     "end_time": "2023-01-24T20:47:27.394247",
     "exception": false,
     "start_time": "2023-01-24T20:47:23.967237",
     "status": "completed"
    },
    "tags": []
   },
   "outputs": [
    {
     "name": "stdout",
     "output_type": "stream",
     "text": [
      "0.884737847590745\n",
      "0.8915194788926468 0.8471160528144545\n"
     ]
    }
   ],
   "source": [
    "import sklearn\n",
    "acc = sklearn.metrics.accuracy_score(test_target, bin_pred)\n",
    "print(acc)\n",
    "\n",
    "countzero=0\n",
    "countone=0\n",
    "countzerot=0\n",
    "countonet=0\n",
    "for i, j in zip(test_target, bin_pred):\n",
    "    if i==0 and j==0:\n",
    "        countzero+=1\n",
    "    if i==1 and j==1:\n",
    "        countone+=1\n",
    "    if i==1:\n",
    "        countonet+=1\n",
    "    if i==0:\n",
    "        countzerot+=1\n",
    "print(countzero/countzerot,countone/countonet)"
   ]
  },
  {
   "cell_type": "code",
   "execution_count": 19,
   "id": "d2d2e8f6",
   "metadata": {
    "execution": {
     "iopub.execute_input": "2023-01-24T20:47:34.253748Z",
     "iopub.status.busy": "2023-01-24T20:47:34.253237Z",
     "iopub.status.idle": "2023-01-24T20:47:34.264813Z",
     "shell.execute_reply": "2023-01-24T20:47:34.263227Z"
    },
    "papermill": {
     "duration": 3.420527,
     "end_time": "2023-01-24T20:47:34.267461",
     "exception": false,
     "start_time": "2023-01-24T20:47:30.846934",
     "status": "completed"
    },
    "tags": []
   },
   "outputs": [
    {
     "name": "stdout",
     "output_type": "stream",
     "text": [
      "0.6918274687854711\n"
     ]
    }
   ],
   "source": [
    "\n",
    "def recall_m(y_true, y_pred):\n",
    "    true_positives = np.sum(np.round(np.clip(y_true * y_pred, 0, 1)))\n",
    "    possible_positives = np.sum(np.round(np.clip(y_true, 0, 1)))\n",
    "    recall = true_positives / (possible_positives )\n",
    "    return recall\n",
    "\n",
    "def precision_m(y_true, y_pred):\n",
    "    true_positives = np.sum(np.round(np.clip(y_true * y_pred, 0, 1)))\n",
    "    predicted_positives = np.sum(np.round(np.clip(y_pred, 0, 1)))\n",
    "    precision = true_positives / (predicted_positives )\n",
    "    return precision\n",
    "\n",
    "def f1_m(y_true, y_pred):\n",
    "    precision = precision_m(y_true, y_pred)\n",
    "    recall = recall_m(y_true, y_pred)\n",
    "    return 2*((precision*recall)/(precision+recall))\n",
    "\n",
    "\n",
    "print(f1_m(test_target,bin_pred))"
   ]
  },
  {
   "cell_type": "code",
   "execution_count": 20,
   "id": "a097851a",
   "metadata": {
    "execution": {
     "iopub.execute_input": "2023-01-24T20:47:41.086738Z",
     "iopub.status.busy": "2023-01-24T20:47:41.085976Z",
     "iopub.status.idle": "2023-01-24T20:48:09.025277Z",
     "shell.execute_reply": "2023-01-24T20:48:09.023685Z"
    },
    "papermill": {
     "duration": 31.353546,
     "end_time": "2023-01-24T20:48:09.028359",
     "exception": false,
     "start_time": "2023-01-24T20:47:37.674813",
     "status": "completed"
    },
    "tags": []
   },
   "outputs": [
    {
     "name": "stderr",
     "output_type": "stream",
     "text": [
      " 75%|███████▌  | 3/4 [00:00<00:00,  8.44it/s]\n"
     ]
    }
   ],
   "source": [
    "datasetPath = '/kaggle/input/rsna-breast-cancer-detection/test.csv'\n",
    "imgPath = '/kaggle/input/rsna-breast-cancer-detection/test_images/'\n",
    "\n",
    "testImgData = dcmToPix(datasetPath, imgPath)"
   ]
  },
  {
   "cell_type": "code",
   "execution_count": 21,
   "id": "3dbcf34c",
   "metadata": {
    "execution": {
     "iopub.execute_input": "2023-01-24T20:48:15.893108Z",
     "iopub.status.busy": "2023-01-24T20:48:15.892198Z",
     "iopub.status.idle": "2023-01-24T20:48:15.920878Z",
     "shell.execute_reply": "2023-01-24T20:48:15.919857Z"
    },
    "papermill": {
     "duration": 3.552313,
     "end_time": "2023-01-24T20:48:15.923666",
     "exception": false,
     "start_time": "2023-01-24T20:48:12.371353",
     "status": "completed"
    },
    "tags": []
   },
   "outputs": [],
   "source": [
    "datacancer = pd.read_csv(datasetPath)\n",
    "imgDataFrame = {'img_data':testImgData}\n",
    "imgData2 = pd.DataFrame(imgDataFrame)\n",
    "testImgData=imgData2\n",
    "imgdata_shuff = testImgData.sample(frac=1)"
   ]
  },
  {
   "cell_type": "code",
   "execution_count": 22,
   "id": "2a2b2c13",
   "metadata": {
    "execution": {
     "iopub.execute_input": "2023-01-24T20:48:22.654912Z",
     "iopub.status.busy": "2023-01-24T20:48:22.654517Z",
     "iopub.status.idle": "2023-01-24T20:48:22.674906Z",
     "shell.execute_reply": "2023-01-24T20:48:22.672736Z"
    },
    "papermill": {
     "duration": 3.367656,
     "end_time": "2023-01-24T20:48:22.678338",
     "exception": false,
     "start_time": "2023-01-24T20:48:19.310682",
     "status": "completed"
    },
    "tags": []
   },
   "outputs": [
    {
     "name": "stderr",
     "output_type": "stream",
     "text": [
      "100%|██████████| 4/4 [00:00<00:00, 1147.47it/s]\n"
     ]
    }
   ],
   "source": [
    "imgDataList=[]\n",
    "for j in tqdm(imgdata_shuff['img_data']):\n",
    "    imgDataList.append(random_rotate(j))\n",
    "imgdata_shuff['img_data'] = imgDataList"
   ]
  },
  {
   "cell_type": "code",
   "execution_count": 23,
   "id": "261e48ab",
   "metadata": {
    "execution": {
     "iopub.execute_input": "2023-01-24T20:48:29.515756Z",
     "iopub.status.busy": "2023-01-24T20:48:29.515231Z",
     "iopub.status.idle": "2023-01-24T20:48:29.688013Z",
     "shell.execute_reply": "2023-01-24T20:48:29.686700Z"
    },
    "papermill": {
     "duration": 3.600333,
     "end_time": "2023-01-24T20:48:29.691074",
     "exception": false,
     "start_time": "2023-01-24T20:48:26.090741",
     "status": "completed"
    },
    "tags": []
   },
   "outputs": [],
   "source": [
    "test=imgdata_shuff\n",
    "\n",
    "\n",
    "test_features=[]\n",
    "for i in test['img_data']:\n",
    "    test_features.append([i])\n",
    "test_features=np.array(test_features)\n",
    "\n",
    "\n",
    "featureTransform = test_features.reshape(len(test_features), 6400)\n",
    "scaler = StandardScaler()\n",
    "featureTransform =scaler.fit_transform(featureTransform)\n",
    "#norm_features= []\n",
    "#for i in range(len(test_features)):\n",
    "#    norm_features.append(scaler.fit_transform(test_features[i][0]))\n",
    "#test_features=np.array(norm_features)\n",
    "\n",
    "\n",
    "backTransform = featureTransform.reshape(len(test_features),80,80)\n",
    "test_features = backTransform.reshape(len(test_features),80,80,1)\n",
    "\n",
    "\n"
   ]
  },
  {
   "cell_type": "code",
   "execution_count": 24,
   "id": "40c4bbe0",
   "metadata": {
    "execution": {
     "iopub.execute_input": "2023-01-24T20:48:36.360428Z",
     "iopub.status.busy": "2023-01-24T20:48:36.359530Z",
     "iopub.status.idle": "2023-01-24T20:48:36.496969Z",
     "shell.execute_reply": "2023-01-24T20:48:36.495556Z"
    },
    "papermill": {
     "duration": 3.477964,
     "end_time": "2023-01-24T20:48:36.499858",
     "exception": false,
     "start_time": "2023-01-24T20:48:33.021894",
     "status": "completed"
    },
    "tags": []
   },
   "outputs": [
    {
     "name": "stdout",
     "output_type": "stream",
     "text": [
      "[0 1 0 0]\n"
     ]
    }
   ],
   "source": [
    "pred = model.predict(test_features)\n",
    "bin_pred = []\n",
    "for i in pred:\n",
    "    if i>=0.5:\n",
    "        bin_pred.append(1)\n",
    "    else:\n",
    "        bin_pred.append(0)\n",
    "bin_pred = np.array(bin_pred)\n",
    "print(bin_pred)"
   ]
  },
  {
   "cell_type": "code",
   "execution_count": 25,
   "id": "5ce4983c",
   "metadata": {
    "execution": {
     "iopub.execute_input": "2023-01-24T20:48:43.456707Z",
     "iopub.status.busy": "2023-01-24T20:48:43.456075Z",
     "iopub.status.idle": "2023-01-24T20:48:43.479476Z",
     "shell.execute_reply": "2023-01-24T20:48:43.478451Z"
    },
    "papermill": {
     "duration": 3.384536,
     "end_time": "2023-01-24T20:48:43.482625",
     "exception": false,
     "start_time": "2023-01-24T20:48:40.098089",
     "status": "completed"
    },
    "tags": []
   },
   "outputs": [
    {
     "name": "stdout",
     "output_type": "stream",
     "text": [
      "  prediction_id  cancer\n",
      "0       10008_L       0\n",
      "1       10008_L       1\n",
      "2       10008_R       0\n",
      "3       10008_R       0\n"
     ]
    }
   ],
   "source": [
    "testData = pd.read_csv('/kaggle/input/rsna-breast-cancer-detection/test.csv')\n",
    "\n",
    "submissionFrame={'prediction_id':testData['prediction_id'],'cancer':bin_pred}\n",
    "submission = pd.DataFrame(submissionFrame)\n",
    "print(submission)"
   ]
  }
 ],
 "metadata": {
  "kernelspec": {
   "display_name": "Python 3",
   "language": "python",
   "name": "python3"
  },
  "language_info": {
   "codemirror_mode": {
    "name": "ipython",
    "version": 3
   },
   "file_extension": ".py",
   "mimetype": "text/x-python",
   "name": "python",
   "nbconvert_exporter": "python",
   "pygments_lexer": "ipython3",
   "version": "3.7.12"
  },
  "papermill": {
   "default_parameters": {},
   "duration": 13409.518962,
   "end_time": "2023-01-24T20:48:50.218730",
   "environment_variables": {},
   "exception": null,
   "input_path": "__notebook__.ipynb",
   "output_path": "__notebook__.ipynb",
   "parameters": {},
   "start_time": "2023-01-24T17:05:20.699768",
   "version": "2.3.4"
  }
 },
 "nbformat": 4,
 "nbformat_minor": 5
}
