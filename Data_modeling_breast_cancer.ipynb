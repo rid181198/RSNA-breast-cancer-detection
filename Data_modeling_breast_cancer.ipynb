{
 "cells": [
  {
   "cell_type": "code",
   "execution_count": 1,
   "id": "2ccf7cb9",
   "metadata": {
    "execution": {
     "iopub.execute_input": "2023-01-24T21:39:55.849202Z",
     "iopub.status.busy": "2023-01-24T21:39:55.847686Z",
     "iopub.status.idle": "2023-01-24T21:40:09.171852Z",
     "shell.execute_reply": "2023-01-24T21:40:09.170723Z"
    },
    "papermill": {
     "duration": 13.336156,
     "end_time": "2023-01-24T21:40:09.174931",
     "exception": false,
     "start_time": "2023-01-24T21:39:55.838775",
     "status": "completed"
    },
    "tags": []
   },
   "outputs": [],
   "source": [
    "import numpy as np\n",
    "import pandas as pd\n",
    "import matplotlib.pyplot as plt\n",
    "import seaborn as sns\n",
    "import pickle\n",
    "import tensorflow as tf\n",
    "import tensorflow_io as tfio\n",
    "import os\n",
    "from tqdm import tqdm\n",
    "import cv2\n",
    "from PIL import Image\n",
    "from joblib import Parallel, delayed\n",
    "import gc\n",
    "from PIL import Image as im\n",
    "import random"
   ]
  },
  {
   "cell_type": "code",
   "execution_count": 2,
   "id": "74eeda2c",
   "metadata": {
    "execution": {
     "iopub.execute_input": "2023-01-24T21:40:09.189501Z",
     "iopub.status.busy": "2023-01-24T21:40:09.188723Z",
     "iopub.status.idle": "2023-01-24T21:40:23.313516Z",
     "shell.execute_reply": "2023-01-24T21:40:23.311898Z"
    },
    "papermill": {
     "duration": 14.135531,
     "end_time": "2023-01-24T21:40:23.316589",
     "exception": false,
     "start_time": "2023-01-24T21:40:09.181058",
     "status": "completed"
    },
    "tags": []
   },
   "outputs": [
    {
     "name": "stdout",
     "output_type": "stream",
     "text": [
      "Collecting dicomsdl\r\n",
      "  Downloading dicomsdl-0.109.1-cp37-cp37m-manylinux_2_12_x86_64.manylinux2010_x86_64.whl (1.4 MB)\r\n",
      "\u001b[2K     \u001b[90m━━━━━━━━━━━━━━━━━━━━━━━━━━━━━━━━━━━━━━━━\u001b[0m \u001b[32m1.4/1.4 MB\u001b[0m \u001b[31m14.7 MB/s\u001b[0m eta \u001b[36m0:00:00\u001b[0m\r\n",
      "\u001b[?25hInstalling collected packages: dicomsdl\r\n",
      "Successfully installed dicomsdl-0.109.1\r\n",
      "\u001b[33mWARNING: Running pip as the 'root' user can result in broken permissions and conflicting behaviour with the system package manager. It is recommended to use a virtual environment instead: https://pip.pypa.io/warnings/venv\u001b[0m\u001b[33m\r\n",
      "\u001b[0m"
     ]
    }
   ],
   "source": [
    "import sys\n",
    "!{sys.executable} -m pip install dicomsdl\n",
    "#!pip install /kaggle/input/rsnapacks/dicomsdl-0.109.1-cp36-cp36m-manylinux_2_12_x86_64.manylinux2010_x86_64.whl\n",
    "import numpy as np\n",
    "import pandas as pd\n",
    "import matplotlib.pyplot as plt\n",
    "import seaborn as sns\n",
    "import pickle\n",
    "#import pydicom as dicom\n",
    "import dicomsdl as dicom\n",
    "import tensorflow as tf\n",
    "import tensorflow_io as tfio\n",
    "from PIL import Image as im\n",
    "import os\n",
    "from tqdm import tqdm\n",
    "import cv2\n",
    "from PIL import Image\n",
    "from joblib import Parallel, delayed\n",
    "import gc\n",
    "import random"
   ]
  },
  {
   "cell_type": "code",
   "execution_count": 3,
   "id": "b423f1d8",
   "metadata": {
    "execution": {
     "iopub.execute_input": "2023-01-24T21:40:23.332582Z",
     "iopub.status.busy": "2023-01-24T21:40:23.332067Z",
     "iopub.status.idle": "2023-01-24T21:40:23.358855Z",
     "shell.execute_reply": "2023-01-24T21:40:23.356562Z"
    },
    "papermill": {
     "duration": 0.038955,
     "end_time": "2023-01-24T21:40:23.362230",
     "exception": false,
     "start_time": "2023-01-24T21:40:23.323275",
     "status": "completed"
    },
    "tags": []
   },
   "outputs": [],
   "source": [
    "datasetPath = '/kaggle/input/rsna-breast-cancer-detection/train.csv'\n",
    "imgPath = '/kaggle/input/rsna-breast-cancer-detection/train_images/'\n",
    "\n",
    "def crop(sideName, imgName):\n",
    "    if sideName == 'L':\n",
    "        colind=[]\n",
    "        for r,row in enumerate(imgName):\n",
    "            for c,col in enumerate(row):\n",
    "                if col==0:\n",
    "                    colind.append(c)\n",
    "                    break\n",
    "        crop_size = max(colind)\n",
    "        imgName = imgName[0:512,0:crop_size]\n",
    "        imgName = cv2.resize(imgName,(128,128))\n",
    "        \n",
    "    if sideName == 'R':\n",
    "        colind=[]\n",
    "        for r,row in enumerate(imgName):\n",
    "            for c,col in enumerate(row):\n",
    "                if col!=0:\n",
    "                    colind.append(c)\n",
    "                    break\n",
    "        crop_size = min(colind)\n",
    "        imgName = imgName[0:512,crop_size:512]\n",
    "        imgName = cv2.resize(imgName,(128,128))\n",
    "    \n",
    "    return imgName    \n",
    "\n",
    "    gc.collect()\n",
    "    \n",
    "def crop_reverse(sideName, imgName):\n",
    "    if sideName == 'R':\n",
    "        colind=[]\n",
    "        for r,row in enumerate(imgName):\n",
    "            for c,col in enumerate(row):\n",
    "                if col==0:\n",
    "                    colind.append(c)\n",
    "                    break\n",
    "        crop_size = max(colind)\n",
    "        imgName = imgName[0:512,0:crop_size]\n",
    "        imgName = cv2.resize(imgName,(128,128))\n",
    "        \n",
    "    if sideName == 'L':\n",
    "        colind=[]\n",
    "        for r,row in enumerate(imgName):\n",
    "            for c,col in enumerate(row):\n",
    "                if col!=0:\n",
    "                    colind.append(c)\n",
    "                    break\n",
    "        crop_size = min(colind)\n",
    "        imgName = imgName[0:512,crop_size:512]\n",
    "        imgName = cv2.resize(imgName,(128,128))\n",
    "    \n",
    "    return imgName    \n",
    "\n",
    "    gc.collect()\n",
    "    \n",
    "\n",
    "def img_process(i,filename,sides):\n",
    "    \n",
    "    #ds = dicom.dcmread(filename)\n",
    "    ds = dicom.open(filename)\n",
    "    ds = ds.pixelData()\n",
    "    ds = cv2.normalize(ds, None, 0, 1.0, cv2.NORM_MINMAX, dtype=cv2.CV_32F)\n",
    "    ds = cv2.resize(ds,(512,512))\n",
    "    ds = np.where(ds >= 0.9999, 0,ds)\n",
    "    \n",
    "    try:\n",
    "        ds = np.array(crop(sides[i], ds))   \n",
    "    except:\n",
    "        ds = np.array(crop_reverse(sides[i], ds))\n",
    "    return ds \n",
    "\n",
    "    #train_data.loc[i,'img_data'] = [img_fin]\n",
    "    #train_data.to_csv('/kaggle/working/training_img_data.csv') \n",
    "    \n",
    "    gc.collect()\n",
    "\n",
    "def dcmToPix(datasetPath, imgPath):\n",
    "    dataset = pd.read_csv(datasetPath)\n",
    "    dataset=dataset[:50]\n",
    "    \n",
    "    \n",
    "    patient_ids = dataset['patient_id']\n",
    "    image_ids = dataset['image_id']\n",
    "    sides  = dataset['laterality']\n",
    "\n",
    "    imgData = []\n",
    "\n",
    "    for pi, ii, leng in zip(patient_ids, image_ids, range(len(patient_ids))):\n",
    "        imgData.append(imgPath + str(pi) + '/' + str(ii) + '.dcm')\n",
    "\n",
    "    dataset['img_data'] = \" \"\n",
    "    \n",
    "    result = Parallel(n_jobs=128)(\\\n",
    "    delayed(img_process)(i, fname, sides) for i, fname in zip(range(len(imgData)),tqdm(imgData))\\\n",
    "    )\n",
    "    \n",
    "    dataset['img_data'] = result\n",
    "    dataset.to_pickle('imgData.pkl' )\n",
    "    \n",
    "    return result\n",
    "    "
   ]
  },
  {
   "cell_type": "code",
   "execution_count": 4,
   "id": "6acf6ece",
   "metadata": {
    "_cell_guid": "b1076dfc-b9ad-4769-8c92-a6c4dae69d19",
    "_uuid": "8f2839f25d086af736a60e9eeb907d3b93b6e0e5",
    "execution": {
     "iopub.execute_input": "2023-01-24T21:40:23.378053Z",
     "iopub.status.busy": "2023-01-24T21:40:23.377551Z",
     "iopub.status.idle": "2023-01-24T21:40:56.217882Z",
     "shell.execute_reply": "2023-01-24T21:40:56.216457Z"
    },
    "papermill": {
     "duration": 32.852023,
     "end_time": "2023-01-24T21:40:56.220837",
     "exception": false,
     "start_time": "2023-01-24T21:40:23.368814",
     "status": "completed"
    },
    "tags": []
   },
   "outputs": [],
   "source": [
    "with (open('/kaggle/input/output/imgData.pkl', \"rb\")) as openfile:\n",
    "     imgData = pickle.load(openfile)"
   ]
  },
  {
   "cell_type": "code",
   "execution_count": 5,
   "id": "f47ece7b",
   "metadata": {
    "execution": {
     "iopub.execute_input": "2023-01-24T21:40:56.236610Z",
     "iopub.status.busy": "2023-01-24T21:40:56.235717Z",
     "iopub.status.idle": "2023-01-24T21:40:56.241355Z",
     "shell.execute_reply": "2023-01-24T21:40:56.239606Z"
    },
    "papermill": {
     "duration": 0.016795,
     "end_time": "2023-01-24T21:40:56.244378",
     "exception": false,
     "start_time": "2023-01-24T21:40:56.227583",
     "status": "completed"
    },
    "tags": []
   },
   "outputs": [],
   "source": [
    "#datacancer = pd.read_csv(datasetPath)\n",
    "#imgDataFrame = {'cancer':datacancer['cancer'][:50], 'img_data':imgData}\n",
    "#imgData2 = pd.DataFrame(imgDataFrame)\n",
    "\n",
    "#imgData=imgData2"
   ]
  },
  {
   "cell_type": "code",
   "execution_count": 6,
   "id": "a8a5891a",
   "metadata": {
    "execution": {
     "iopub.execute_input": "2023-01-24T21:40:56.260026Z",
     "iopub.status.busy": "2023-01-24T21:40:56.259570Z",
     "iopub.status.idle": "2023-01-24T21:40:56.410945Z",
     "shell.execute_reply": "2023-01-24T21:40:56.409132Z"
    },
    "papermill": {
     "duration": 0.163058,
     "end_time": "2023-01-24T21:40:56.414039",
     "exception": false,
     "start_time": "2023-01-24T21:40:56.250981",
     "status": "completed"
    },
    "tags": []
   },
   "outputs": [],
   "source": [
    "imgdata_pos = imgData[imgData['cancer'] == 1]\n",
    "imgdata_neg = imgData[imgData['cancer'] == 0]\n",
    "\n",
    "imgdata_pos = imgdata_pos.sample(frac = 1)\n",
    "imgdata_neg = imgdata_neg.sample(frac = 1)\n",
    "\n",
    "imgdata_neg = imgdata_neg.sample(frac= 1)\n",
    "\n",
    "frames = 3*[imgdata_pos]\n",
    "frames.append(imgdata_neg)\n",
    "imgdata_shuff = pd.concat(frames)\n",
    "imgdata_shuff = imgdata_shuff.sample(frac=1)"
   ]
  },
  {
   "cell_type": "code",
   "execution_count": 7,
   "id": "29191579",
   "metadata": {
    "execution": {
     "iopub.execute_input": "2023-01-24T21:40:56.428954Z",
     "iopub.status.busy": "2023-01-24T21:40:56.428546Z",
     "iopub.status.idle": "2023-01-24T21:40:56.445429Z",
     "shell.execute_reply": "2023-01-24T21:40:56.442647Z"
    },
    "papermill": {
     "duration": 0.029151,
     "end_time": "2023-01-24T21:40:56.449754",
     "exception": false,
     "start_time": "2023-01-24T21:40:56.420603",
     "status": "completed"
    },
    "tags": []
   },
   "outputs": [
    {
     "name": "stdout",
     "output_type": "stream",
     "text": [
      "0    53548\n",
      "1     3474\n",
      "Name: cancer, dtype: int64\n"
     ]
    }
   ],
   "source": [
    "print(imgdata_shuff['cancer'].value_counts())"
   ]
  },
  {
   "cell_type": "code",
   "execution_count": 8,
   "id": "c90c0778",
   "metadata": {
    "execution": {
     "iopub.execute_input": "2023-01-24T21:40:56.467320Z",
     "iopub.status.busy": "2023-01-24T21:40:56.466909Z",
     "iopub.status.idle": "2023-01-24T21:40:56.475849Z",
     "shell.execute_reply": "2023-01-24T21:40:56.473542Z"
    },
    "papermill": {
     "duration": 0.021065,
     "end_time": "2023-01-24T21:40:56.479325",
     "exception": false,
     "start_time": "2023-01-24T21:40:56.458260",
     "status": "completed"
    },
    "tags": []
   },
   "outputs": [],
   "source": [
    "def random_rotate(imgData):\n",
    "    thresh = 0.15\n",
    "    \n",
    "    imgData = imgData.reshape(128,128)\n",
    "    imgData = np.clip(imgData,thresh,1)\n",
    "    imgData = imgData[25:105,25:105]\n",
    "    \n",
    "    imgData = im.fromarray(imgData)\n",
    "    imgData = np.asarray(imgData.rotate(random.randint(0, 5)))\n",
    "    return imgData"
   ]
  },
  {
   "cell_type": "code",
   "execution_count": 9,
   "id": "cf36fc06",
   "metadata": {
    "execution": {
     "iopub.execute_input": "2023-01-24T21:40:56.494768Z",
     "iopub.status.busy": "2023-01-24T21:40:56.494392Z",
     "iopub.status.idle": "2023-01-24T21:41:08.017219Z",
     "shell.execute_reply": "2023-01-24T21:41:08.014562Z"
    },
    "papermill": {
     "duration": 11.534129,
     "end_time": "2023-01-24T21:41:08.020189",
     "exception": false,
     "start_time": "2023-01-24T21:40:56.486060",
     "status": "completed"
    },
    "tags": []
   },
   "outputs": [
    {
     "name": "stderr",
     "output_type": "stream",
     "text": [
      "100%|██████████| 57022/57022 [00:11<00:00, 4966.05it/s]\n"
     ]
    }
   ],
   "source": [
    "imgDataList=[]\n",
    "for j in tqdm(imgdata_shuff['img_data']):\n",
    "    imgDataList.append(random_rotate(j))\n",
    "imgdata_shuff['img_data'] = imgDataList"
   ]
  },
  {
   "cell_type": "code",
   "execution_count": 10,
   "id": "a5aa7d4f",
   "metadata": {
    "execution": {
     "iopub.execute_input": "2023-01-24T21:41:08.047909Z",
     "iopub.status.busy": "2023-01-24T21:41:08.045971Z",
     "iopub.status.idle": "2023-01-24T21:41:12.595802Z",
     "shell.execute_reply": "2023-01-24T21:41:12.593798Z"
    },
    "papermill": {
     "duration": 4.566844,
     "end_time": "2023-01-24T21:41:12.599208",
     "exception": false,
     "start_time": "2023-01-24T21:41:08.032364",
     "status": "completed"
    },
    "tags": []
   },
   "outputs": [],
   "source": [
    "from sklearn.model_selection import train_test_split\n",
    "train,test = train_test_split(imgdata_shuff, test_size=0.3, random_state=42, shuffle=True)\n",
    "\n",
    "\n",
    "train_target = np.array(train['cancer'])\n",
    "train_features=[]\n",
    "for i in train['img_data']:\n",
    "    train_features.append([i])\n",
    "train_features=np.array(train_features)\n",
    "\n",
    "\n",
    "\n",
    "featureTransform = train_features.reshape(len(train_features), 6400)\n",
    "\n",
    "from sklearn.preprocessing import StandardScaler\n",
    "scaler = StandardScaler()\n",
    "featureTransform = scaler.fit_transform(featureTransform)\n",
    "#norm_features= []\n",
    "#for i in range(len(train_features)):\n",
    "#    norm_features.append(scaler.fit_transform(train_features[i][0]))\n",
    "#train_features=np.array(norm_features)\n",
    "\n",
    "\n",
    "backTransform = featureTransform.reshape(len(train_features),80,80)\n",
    "train_features = backTransform.reshape(len(train_features),80,80,1)\n",
    "\n"
   ]
  },
  {
   "cell_type": "code",
   "execution_count": 11,
   "id": "d96068d8",
   "metadata": {
    "execution": {
     "iopub.execute_input": "2023-01-24T21:41:12.629035Z",
     "iopub.status.busy": "2023-01-24T21:41:12.628559Z",
     "iopub.status.idle": "2023-01-24T21:41:12.864016Z",
     "shell.execute_reply": "2023-01-24T21:41:12.862442Z"
    },
    "papermill": {
     "duration": 0.254258,
     "end_time": "2023-01-24T21:41:12.866647",
     "exception": false,
     "start_time": "2023-01-24T21:41:12.612389",
     "status": "completed"
    },
    "tags": []
   },
   "outputs": [
    {
     "name": "stderr",
     "output_type": "stream",
     "text": [
      "2023-01-24 21:41:12.680623: I tensorflow/core/common_runtime/process_util.cc:146] Creating new thread pool with default inter op setting: 2. Tune using inter_op_parallelism_threads for best performance.\n"
     ]
    }
   ],
   "source": [
    "from keras.models import Sequential\n",
    "from keras.layers import LeakyReLU\n",
    "from keras.layers import Dense, Conv2D, Flatten,MaxPooling2D, Dropout, GlobalMaxPooling2D\n",
    "model = Sequential()\n",
    "model.add(Conv2D(64, 3, activation = \"relu\", input_shape = (80,80,1)))\n",
    "model.add(MaxPooling2D())\n",
    "model.add(LeakyReLU(alpha=0.1))\n",
    "model.add(Dropout(0.3))\n",
    "model.add(Conv2D(32, 3, activation = \"relu\"))\n",
    "model.add(MaxPooling2D())\n",
    "model.add(LeakyReLU(alpha=0.1))\n",
    "model.add(Conv2D(16, 3, activation = \"relu\"))\n",
    "model.add(MaxPooling2D())\n",
    "model.add(Dropout(0.3))\n",
    "model.add(Flatten())\n",
    "model.add(Dense(128, activation = 'relu')) \n",
    "model.add(LeakyReLU(alpha=0.1))\n",
    "model.add(Dropout(0.3))\n",
    "model.add(Dense(1, activation = 'sigmoid'))\n",
    "\n",
    "\n",
    "\n",
    "\n",
    "from keras import backend as K\n",
    "def recall_m(y_true, y_pred):\n",
    "    true_positives = K.sum(K.round(K.clip(y_true * y_pred, 0, 1)))\n",
    "    possible_positives = K.sum(K.round(K.clip(y_true, 0, 1)))\n",
    "    recall = true_positives / (possible_positives )\n",
    "    return recall\n",
    "\n",
    "def precision_m(y_true, y_pred):\n",
    "    true_positives = K.sum(K.round(K.clip(y_true * y_pred, 0, 1)))\n",
    "    predicted_positives = K.sum(K.round(K.clip(y_pred, 0, 1)))\n",
    "    precision = true_positives / (predicted_positives )\n",
    "    return precision\n",
    "\n",
    "def f1_m(y_true, y_pred):\n",
    "    precision = precision_m(y_true, y_pred)\n",
    "    recall = recall_m(y_true, y_pred)\n",
    "    return 2*((precision*recall)/(precision+recall))\n",
    "\n",
    "\n",
    "\n",
    "\n",
    "\n",
    "#loss = tf.keras.losses.BinaryFocalCrossentropy(\\\n",
    "#    apply_class_balancing=True, gamma=5, from_logits=True,\\\n",
    "#    reduction=tf.keras.losses.Reduction.NONE)\n",
    "\n",
    "\n",
    "model.compile(optimizer =tf.keras.optimizers.Adam(learning_rate=0.0001),\\\n",
    "              loss= 'binary_crossentropy', metrics=['accuracy'])\n",
    "\n"
   ]
  },
  {
   "cell_type": "code",
   "execution_count": 12,
   "id": "d73931e5",
   "metadata": {
    "execution": {
     "iopub.execute_input": "2023-01-24T21:41:12.896674Z",
     "iopub.status.busy": "2023-01-24T21:41:12.895394Z",
     "iopub.status.idle": "2023-01-24T21:41:12.902114Z",
     "shell.execute_reply": "2023-01-24T21:41:12.900407Z"
    },
    "papermill": {
     "duration": 0.024965,
     "end_time": "2023-01-24T21:41:12.904810",
     "exception": false,
     "start_time": "2023-01-24T21:41:12.879845",
     "status": "completed"
    },
    "tags": []
   },
   "outputs": [],
   "source": [
    "#from tensorflow import keras\n",
    "#model = keras.models.load_model(\"/kaggle/input/pre-trained-model-of-breast-cancer/trained_model_breast_cancer3.h5\")\n"
   ]
  },
  {
   "cell_type": "code",
   "execution_count": 13,
   "id": "ab825068",
   "metadata": {
    "execution": {
     "iopub.execute_input": "2023-01-24T21:41:12.932566Z",
     "iopub.status.busy": "2023-01-24T21:41:12.931792Z",
     "iopub.status.idle": "2023-01-25T06:26:33.424899Z",
     "shell.execute_reply": "2023-01-25T06:26:33.422355Z"
    },
    "papermill": {
     "duration": 31525.672181,
     "end_time": "2023-01-25T06:26:38.589882",
     "exception": false,
     "start_time": "2023-01-24T21:41:12.917701",
     "status": "completed"
    },
    "tags": []
   },
   "outputs": [
    {
     "name": "stderr",
     "output_type": "stream",
     "text": [
      "2023-01-24 21:41:13.562287: I tensorflow/compiler/mlir/mlir_graph_optimization_pass.cc:185] None of the MLIR Optimization Passes are enabled (registered 2)\n"
     ]
    },
    {
     "name": "stdout",
     "output_type": "stream",
     "text": [
      "Epoch 1/200\n",
      "437/437 [==============================] - 178s 404ms/step - loss: 1.2892 - accuracy: 0.5274 - val_loss: 0.6843 - val_accuracy: 0.4847\n",
      "Epoch 2/200\n",
      "437/437 [==============================] - 171s 392ms/step - loss: 1.2782 - accuracy: 0.4884 - val_loss: 0.6912 - val_accuracy: 0.3607\n",
      "Epoch 3/200\n",
      "437/437 [==============================] - 168s 383ms/step - loss: 1.2750 - accuracy: 0.4676 - val_loss: 0.7228 - val_accuracy: 0.2778\n",
      "Epoch 4/200\n",
      "437/437 [==============================] - 168s 384ms/step - loss: 1.2715 - accuracy: 0.4858 - val_loss: 0.6942 - val_accuracy: 0.4257\n",
      "Epoch 5/200\n",
      "437/437 [==============================] - 165s 378ms/step - loss: 1.2660 - accuracy: 0.5057 - val_loss: 0.7103 - val_accuracy: 0.4104\n",
      "Epoch 6/200\n",
      "437/437 [==============================] - 164s 376ms/step - loss: 1.2616 - accuracy: 0.5550 - val_loss: 0.6898 - val_accuracy: 0.5602\n",
      "Epoch 7/200\n",
      "437/437 [==============================] - 167s 381ms/step - loss: 1.2564 - accuracy: 0.5751 - val_loss: 0.7076 - val_accuracy: 0.4632\n",
      "Epoch 8/200\n",
      "437/437 [==============================] - 167s 383ms/step - loss: 1.2559 - accuracy: 0.5796 - val_loss: 0.6865 - val_accuracy: 0.5466\n",
      "Epoch 9/200\n",
      "437/437 [==============================] - 166s 379ms/step - loss: 1.2459 - accuracy: 0.6029 - val_loss: 0.7046 - val_accuracy: 0.5018\n",
      "Epoch 10/200\n",
      "437/437 [==============================] - 164s 375ms/step - loss: 1.2441 - accuracy: 0.5853 - val_loss: 0.6633 - val_accuracy: 0.5876\n",
      "Epoch 11/200\n",
      "437/437 [==============================] - 165s 378ms/step - loss: 1.2324 - accuracy: 0.6145 - val_loss: 0.6454 - val_accuracy: 0.6438\n",
      "Epoch 12/200\n",
      "437/437 [==============================] - 166s 379ms/step - loss: 1.2306 - accuracy: 0.6204 - val_loss: 0.7198 - val_accuracy: 0.4726\n",
      "Epoch 13/200\n",
      "437/437 [==============================] - 165s 377ms/step - loss: 1.2203 - accuracy: 0.6226 - val_loss: 0.6293 - val_accuracy: 0.6848\n",
      "Epoch 14/200\n",
      "437/437 [==============================] - 171s 391ms/step - loss: 1.2164 - accuracy: 0.6320 - val_loss: 0.6390 - val_accuracy: 0.6418\n",
      "Epoch 15/200\n",
      "437/437 [==============================] - 165s 377ms/step - loss: 1.2085 - accuracy: 0.6366 - val_loss: 0.7015 - val_accuracy: 0.4995\n",
      "Epoch 16/200\n",
      "437/437 [==============================] - 161s 369ms/step - loss: 1.2016 - accuracy: 0.6240 - val_loss: 0.6325 - val_accuracy: 0.6538\n",
      "Epoch 17/200\n",
      "437/437 [==============================] - 159s 365ms/step - loss: 1.1895 - accuracy: 0.6393 - val_loss: 0.6542 - val_accuracy: 0.6054\n",
      "Epoch 18/200\n",
      "437/437 [==============================] - 163s 373ms/step - loss: 1.1840 - accuracy: 0.6495 - val_loss: 0.7448 - val_accuracy: 0.4374\n",
      "Epoch 19/200\n",
      "437/437 [==============================] - 164s 376ms/step - loss: 1.1731 - accuracy: 0.6384 - val_loss: 0.6396 - val_accuracy: 0.6202\n",
      "Epoch 20/200\n",
      "437/437 [==============================] - 167s 381ms/step - loss: 1.1590 - accuracy: 0.6623 - val_loss: 0.6512 - val_accuracy: 0.6046\n",
      "Epoch 21/200\n",
      "437/437 [==============================] - 162s 371ms/step - loss: 1.1446 - accuracy: 0.6620 - val_loss: 0.6356 - val_accuracy: 0.6180\n",
      "Epoch 22/200\n",
      "437/437 [==============================] - 166s 379ms/step - loss: 1.1456 - accuracy: 0.6508 - val_loss: 0.6405 - val_accuracy: 0.6151\n",
      "Epoch 23/200\n",
      "437/437 [==============================] - 164s 374ms/step - loss: 1.1293 - accuracy: 0.6655 - val_loss: 0.6468 - val_accuracy: 0.6155\n",
      "Epoch 24/200\n",
      "437/437 [==============================] - 165s 378ms/step - loss: 1.1112 - accuracy: 0.6754 - val_loss: 0.6964 - val_accuracy: 0.5226\n",
      "Epoch 25/200\n",
      "437/437 [==============================] - 166s 379ms/step - loss: 1.1125 - accuracy: 0.6717 - val_loss: 0.6121 - val_accuracy: 0.6436\n",
      "Epoch 26/200\n",
      "437/437 [==============================] - 164s 376ms/step - loss: 1.0945 - accuracy: 0.6861 - val_loss: 0.6489 - val_accuracy: 0.6019\n",
      "Epoch 27/200\n",
      "437/437 [==============================] - 163s 373ms/step - loss: 1.0880 - accuracy: 0.6838 - val_loss: 0.6125 - val_accuracy: 0.6456\n",
      "Epoch 28/200\n",
      "437/437 [==============================] - 163s 373ms/step - loss: 1.0751 - accuracy: 0.6849 - val_loss: 0.6113 - val_accuracy: 0.6453\n",
      "Epoch 29/200\n",
      "437/437 [==============================] - 167s 383ms/step - loss: 1.0593 - accuracy: 0.6960 - val_loss: 0.5631 - val_accuracy: 0.6970\n",
      "Epoch 30/200\n",
      "437/437 [==============================] - 167s 383ms/step - loss: 1.0423 - accuracy: 0.7062 - val_loss: 0.6066 - val_accuracy: 0.6494\n",
      "Epoch 31/200\n",
      "437/437 [==============================] - 162s 372ms/step - loss: 1.0391 - accuracy: 0.7004 - val_loss: 0.6012 - val_accuracy: 0.6549\n",
      "Epoch 32/200\n",
      "437/437 [==============================] - 164s 376ms/step - loss: 1.0141 - accuracy: 0.7222 - val_loss: 0.6333 - val_accuracy: 0.6190\n",
      "Epoch 33/200\n",
      "437/437 [==============================] - 164s 375ms/step - loss: 1.0053 - accuracy: 0.7188 - val_loss: 0.4929 - val_accuracy: 0.7815\n",
      "Epoch 34/200\n",
      "437/437 [==============================] - 167s 381ms/step - loss: 0.9942 - accuracy: 0.7192 - val_loss: 0.5354 - val_accuracy: 0.7294\n",
      "Epoch 35/200\n",
      "437/437 [==============================] - 167s 381ms/step - loss: 0.9871 - accuracy: 0.7256 - val_loss: 0.5194 - val_accuracy: 0.7338\n",
      "Epoch 36/200\n",
      "437/437 [==============================] - 165s 377ms/step - loss: 0.9682 - accuracy: 0.7283 - val_loss: 0.5438 - val_accuracy: 0.7023\n",
      "Epoch 37/200\n",
      "437/437 [==============================] - 168s 383ms/step - loss: 0.9560 - accuracy: 0.7368 - val_loss: 0.4877 - val_accuracy: 0.7748\n",
      "Epoch 38/200\n",
      "437/437 [==============================] - 166s 381ms/step - loss: 0.9463 - accuracy: 0.7405 - val_loss: 0.5834 - val_accuracy: 0.6649\n",
      "Epoch 39/200\n",
      "437/437 [==============================] - 171s 392ms/step - loss: 0.9370 - accuracy: 0.7427 - val_loss: 0.5401 - val_accuracy: 0.7222\n",
      "Epoch 40/200\n",
      "437/437 [==============================] - 171s 391ms/step - loss: 0.9079 - accuracy: 0.7480 - val_loss: 0.5554 - val_accuracy: 0.7058\n",
      "Epoch 41/200\n",
      "437/437 [==============================] - 167s 381ms/step - loss: 0.8968 - accuracy: 0.7603 - val_loss: 0.4851 - val_accuracy: 0.7680\n",
      "Epoch 42/200\n",
      "437/437 [==============================] - 164s 375ms/step - loss: 0.9089 - accuracy: 0.7521 - val_loss: 0.5212 - val_accuracy: 0.7267\n",
      "Epoch 43/200\n",
      "437/437 [==============================] - 165s 377ms/step - loss: 0.8655 - accuracy: 0.7786 - val_loss: 0.4665 - val_accuracy: 0.7735\n",
      "Epoch 44/200\n",
      "437/437 [==============================] - 157s 358ms/step - loss: 0.8543 - accuracy: 0.7754 - val_loss: 0.5134 - val_accuracy: 0.7292\n",
      "Epoch 45/200\n",
      "437/437 [==============================] - 155s 354ms/step - loss: 0.8517 - accuracy: 0.7758 - val_loss: 0.4522 - val_accuracy: 0.7807\n",
      "Epoch 46/200\n",
      "437/437 [==============================] - 155s 354ms/step - loss: 0.8333 - accuracy: 0.7791 - val_loss: 0.4926 - val_accuracy: 0.7369\n",
      "Epoch 47/200\n",
      "437/437 [==============================] - 155s 355ms/step - loss: 0.8212 - accuracy: 0.7826 - val_loss: 0.4709 - val_accuracy: 0.7610\n",
      "Epoch 48/200\n",
      "437/437 [==============================] - 158s 362ms/step - loss: 0.8203 - accuracy: 0.7856 - val_loss: 0.5082 - val_accuracy: 0.7430\n",
      "Epoch 49/200\n",
      "437/437 [==============================] - 158s 363ms/step - loss: 0.8002 - accuracy: 0.7903 - val_loss: 0.4457 - val_accuracy: 0.7785\n",
      "Epoch 50/200\n",
      "437/437 [==============================] - 155s 356ms/step - loss: 0.7869 - accuracy: 0.7962 - val_loss: 0.4837 - val_accuracy: 0.7433\n",
      "Epoch 51/200\n",
      "437/437 [==============================] - 165s 378ms/step - loss: 0.7834 - accuracy: 0.7974 - val_loss: 0.4567 - val_accuracy: 0.7830\n",
      "Epoch 52/200\n",
      "437/437 [==============================] - 159s 364ms/step - loss: 0.7866 - accuracy: 0.7966 - val_loss: 0.4522 - val_accuracy: 0.7728\n",
      "Epoch 53/200\n",
      "437/437 [==============================] - 157s 360ms/step - loss: 0.7596 - accuracy: 0.8033 - val_loss: 0.4765 - val_accuracy: 0.7562\n",
      "Epoch 54/200\n",
      "437/437 [==============================] - 155s 354ms/step - loss: 0.7352 - accuracy: 0.8109 - val_loss: 0.4298 - val_accuracy: 0.7854\n",
      "Epoch 55/200\n",
      "437/437 [==============================] - 156s 358ms/step - loss: 0.7535 - accuracy: 0.8073 - val_loss: 0.3860 - val_accuracy: 0.8347\n",
      "Epoch 56/200\n",
      "437/437 [==============================] - 161s 368ms/step - loss: 0.7373 - accuracy: 0.8137 - val_loss: 0.4452 - val_accuracy: 0.7673\n",
      "Epoch 57/200\n",
      "437/437 [==============================] - 156s 357ms/step - loss: 0.7143 - accuracy: 0.8196 - val_loss: 0.4246 - val_accuracy: 0.7967\n",
      "Epoch 58/200\n",
      "437/437 [==============================] - 160s 367ms/step - loss: 0.7074 - accuracy: 0.8160 - val_loss: 0.4112 - val_accuracy: 0.8134\n",
      "Epoch 59/200\n",
      "437/437 [==============================] - 158s 361ms/step - loss: 0.7086 - accuracy: 0.8217 - val_loss: 0.4524 - val_accuracy: 0.7689\n",
      "Epoch 60/200\n",
      "437/437 [==============================] - 157s 360ms/step - loss: 0.6880 - accuracy: 0.8269 - val_loss: 0.3859 - val_accuracy: 0.8251\n",
      "Epoch 61/200\n",
      "437/437 [==============================] - 160s 366ms/step - loss: 0.6699 - accuracy: 0.8372 - val_loss: 0.4061 - val_accuracy: 0.8169\n",
      "Epoch 62/200\n",
      "437/437 [==============================] - 157s 359ms/step - loss: 0.6710 - accuracy: 0.8344 - val_loss: 0.4185 - val_accuracy: 0.7934\n",
      "Epoch 63/200\n",
      "437/437 [==============================] - 157s 358ms/step - loss: 0.6433 - accuracy: 0.8425 - val_loss: 0.4399 - val_accuracy: 0.7834\n",
      "Epoch 64/200\n",
      "437/437 [==============================] - 156s 356ms/step - loss: 0.6504 - accuracy: 0.8380 - val_loss: 0.3787 - val_accuracy: 0.8217\n",
      "Epoch 65/200\n",
      "437/437 [==============================] - 156s 356ms/step - loss: 0.6315 - accuracy: 0.8469 - val_loss: 0.3851 - val_accuracy: 0.8295\n",
      "Epoch 66/200\n",
      "437/437 [==============================] - 159s 364ms/step - loss: 0.6366 - accuracy: 0.8423 - val_loss: 0.3861 - val_accuracy: 0.8193\n",
      "Epoch 67/200\n",
      "437/437 [==============================] - 158s 362ms/step - loss: 0.6199 - accuracy: 0.8449 - val_loss: 0.3881 - val_accuracy: 0.8141\n",
      "Epoch 68/200\n",
      "437/437 [==============================] - 161s 368ms/step - loss: 0.6094 - accuracy: 0.8535 - val_loss: 0.3577 - val_accuracy: 0.8420\n",
      "Epoch 69/200\n",
      "437/437 [==============================] - 160s 366ms/step - loss: 0.6009 - accuracy: 0.8520 - val_loss: 0.3418 - val_accuracy: 0.8484\n",
      "Epoch 70/200\n",
      "437/437 [==============================] - 165s 378ms/step - loss: 0.5915 - accuracy: 0.8568 - val_loss: 0.3179 - val_accuracy: 0.8727\n",
      "Epoch 71/200\n",
      "437/437 [==============================] - 165s 378ms/step - loss: 0.5915 - accuracy: 0.8557 - val_loss: 0.3744 - val_accuracy: 0.8194\n",
      "Epoch 72/200\n",
      "437/437 [==============================] - 161s 368ms/step - loss: 0.5814 - accuracy: 0.8588 - val_loss: 0.3758 - val_accuracy: 0.8150\n",
      "Epoch 73/200\n",
      "437/437 [==============================] - 157s 359ms/step - loss: 0.5762 - accuracy: 0.8584 - val_loss: 0.3460 - val_accuracy: 0.8450\n",
      "Epoch 74/200\n",
      "437/437 [==============================] - 159s 365ms/step - loss: 0.5781 - accuracy: 0.8601 - val_loss: 0.3250 - val_accuracy: 0.8511\n",
      "Epoch 75/200\n",
      "437/437 [==============================] - 156s 357ms/step - loss: 0.5401 - accuracy: 0.8690 - val_loss: 0.3363 - val_accuracy: 0.8533\n",
      "Epoch 76/200\n",
      "437/437 [==============================] - 156s 358ms/step - loss: 0.5787 - accuracy: 0.8644 - val_loss: 0.3666 - val_accuracy: 0.8292\n",
      "Epoch 77/200\n",
      "437/437 [==============================] - 155s 355ms/step - loss: 0.5564 - accuracy: 0.8650 - val_loss: 0.3253 - val_accuracy: 0.8660\n",
      "Epoch 78/200\n",
      "437/437 [==============================] - 156s 356ms/step - loss: 0.5442 - accuracy: 0.8704 - val_loss: 0.3215 - val_accuracy: 0.8661\n",
      "Epoch 79/200\n",
      "437/437 [==============================] - 157s 358ms/step - loss: 0.5228 - accuracy: 0.8732 - val_loss: 0.3087 - val_accuracy: 0.8642\n",
      "Epoch 80/200\n",
      "437/437 [==============================] - 157s 359ms/step - loss: 0.5431 - accuracy: 0.8741 - val_loss: 0.3404 - val_accuracy: 0.8418\n",
      "Epoch 81/200\n",
      "437/437 [==============================] - 155s 354ms/step - loss: 0.5277 - accuracy: 0.8714 - val_loss: 0.3092 - val_accuracy: 0.8716\n",
      "Epoch 82/200\n",
      "437/437 [==============================] - 154s 352ms/step - loss: 0.5256 - accuracy: 0.8758 - val_loss: 0.3390 - val_accuracy: 0.8500\n",
      "Epoch 83/200\n",
      "437/437 [==============================] - 155s 354ms/step - loss: 0.5122 - accuracy: 0.8754 - val_loss: 0.2853 - val_accuracy: 0.8801\n",
      "Epoch 84/200\n",
      "437/437 [==============================] - 155s 355ms/step - loss: 0.5107 - accuracy: 0.8776 - val_loss: 0.3342 - val_accuracy: 0.8493\n",
      "Epoch 85/200\n",
      "437/437 [==============================] - 156s 358ms/step - loss: 0.5039 - accuracy: 0.8825 - val_loss: 0.2861 - val_accuracy: 0.8835\n",
      "Epoch 86/200\n",
      "437/437 [==============================] - 159s 363ms/step - loss: 0.4835 - accuracy: 0.8870 - val_loss: 0.2772 - val_accuracy: 0.8912\n",
      "Epoch 87/200\n",
      "437/437 [==============================] - 157s 358ms/step - loss: 0.4842 - accuracy: 0.8864 - val_loss: 0.2921 - val_accuracy: 0.8768\n",
      "Epoch 88/200\n",
      "437/437 [==============================] - 155s 355ms/step - loss: 0.4712 - accuracy: 0.8903 - val_loss: 0.2864 - val_accuracy: 0.8840\n",
      "Epoch 89/200\n",
      "437/437 [==============================] - 158s 361ms/step - loss: 0.4729 - accuracy: 0.8879 - val_loss: 0.2881 - val_accuracy: 0.8875\n",
      "Epoch 90/200\n",
      "437/437 [==============================] - 157s 358ms/step - loss: 0.4650 - accuracy: 0.8889 - val_loss: 0.2725 - val_accuracy: 0.8963\n",
      "Epoch 91/200\n",
      "437/437 [==============================] - 155s 356ms/step - loss: 0.4753 - accuracy: 0.8911 - val_loss: 0.3461 - val_accuracy: 0.8402\n",
      "Epoch 92/200\n",
      "437/437 [==============================] - 155s 354ms/step - loss: 0.4650 - accuracy: 0.8901 - val_loss: 0.3204 - val_accuracy: 0.8635\n",
      "Epoch 93/200\n",
      "437/437 [==============================] - 157s 359ms/step - loss: 0.4772 - accuracy: 0.8870 - val_loss: 0.3054 - val_accuracy: 0.8755\n",
      "Epoch 94/200\n",
      "437/437 [==============================] - 156s 356ms/step - loss: 0.4481 - accuracy: 0.8959 - val_loss: 0.2577 - val_accuracy: 0.9047\n",
      "Epoch 95/200\n",
      "437/437 [==============================] - 155s 354ms/step - loss: 0.4604 - accuracy: 0.8969 - val_loss: 0.3196 - val_accuracy: 0.8626\n",
      "Epoch 96/200\n",
      "437/437 [==============================] - 155s 356ms/step - loss: 0.4494 - accuracy: 0.8931 - val_loss: 0.3094 - val_accuracy: 0.8641\n",
      "Epoch 97/200\n",
      "437/437 [==============================] - 156s 357ms/step - loss: 0.4411 - accuracy: 0.8961 - val_loss: 0.2965 - val_accuracy: 0.8716\n",
      "Epoch 98/200\n",
      "437/437 [==============================] - 155s 355ms/step - loss: 0.4357 - accuracy: 0.8970 - val_loss: 0.2973 - val_accuracy: 0.8722\n",
      "Epoch 99/200\n",
      "437/437 [==============================] - 157s 359ms/step - loss: 0.4265 - accuracy: 0.9018 - val_loss: 0.2782 - val_accuracy: 0.8841\n",
      "Epoch 100/200\n",
      "437/437 [==============================] - 156s 358ms/step - loss: 0.4169 - accuracy: 0.9003 - val_loss: 0.2711 - val_accuracy: 0.8896\n",
      "Epoch 101/200\n",
      "437/437 [==============================] - 158s 361ms/step - loss: 0.4227 - accuracy: 0.9023 - val_loss: 0.2750 - val_accuracy: 0.8837\n",
      "Epoch 102/200\n",
      "437/437 [==============================] - 156s 357ms/step - loss: 0.4220 - accuracy: 0.9019 - val_loss: 0.2636 - val_accuracy: 0.8975\n",
      "Epoch 103/200\n",
      "437/437 [==============================] - 158s 362ms/step - loss: 0.4198 - accuracy: 0.9082 - val_loss: 0.2906 - val_accuracy: 0.8778\n",
      "Epoch 104/200\n",
      "437/437 [==============================] - 158s 361ms/step - loss: 0.4020 - accuracy: 0.9075 - val_loss: 0.2906 - val_accuracy: 0.8797\n",
      "Epoch 105/200\n",
      "437/437 [==============================] - 156s 357ms/step - loss: 0.4264 - accuracy: 0.9066 - val_loss: 0.2992 - val_accuracy: 0.8740\n",
      "Epoch 106/200\n",
      "437/437 [==============================] - 155s 354ms/step - loss: 0.4286 - accuracy: 0.9010 - val_loss: 0.3013 - val_accuracy: 0.8772\n",
      "Epoch 107/200\n",
      "437/437 [==============================] - 155s 355ms/step - loss: 0.4022 - accuracy: 0.9090 - val_loss: 0.3016 - val_accuracy: 0.8693\n",
      "Epoch 108/200\n",
      "437/437 [==============================] - 159s 364ms/step - loss: 0.3956 - accuracy: 0.9074 - val_loss: 0.2646 - val_accuracy: 0.8939\n",
      "Epoch 109/200\n",
      "437/437 [==============================] - 154s 353ms/step - loss: 0.3771 - accuracy: 0.9104 - val_loss: 0.2404 - val_accuracy: 0.9106\n",
      "Epoch 110/200\n",
      "437/437 [==============================] - 154s 353ms/step - loss: 0.3899 - accuracy: 0.9130 - val_loss: 0.3064 - val_accuracy: 0.8666\n",
      "Epoch 111/200\n",
      "437/437 [==============================] - 153s 349ms/step - loss: 0.3963 - accuracy: 0.9068 - val_loss: 0.2702 - val_accuracy: 0.8924\n",
      "Epoch 112/200\n",
      "437/437 [==============================] - 154s 353ms/step - loss: 0.4010 - accuracy: 0.9094 - val_loss: 0.2604 - val_accuracy: 0.8976\n",
      "Epoch 113/200\n",
      "437/437 [==============================] - 152s 348ms/step - loss: 0.3969 - accuracy: 0.9086 - val_loss: 0.2825 - val_accuracy: 0.8790\n",
      "Epoch 114/200\n",
      "437/437 [==============================] - 154s 353ms/step - loss: 0.3976 - accuracy: 0.9073 - val_loss: 0.2303 - val_accuracy: 0.9180\n",
      "Epoch 115/200\n",
      "437/437 [==============================] - 153s 350ms/step - loss: 0.3610 - accuracy: 0.9188 - val_loss: 0.2402 - val_accuracy: 0.9095\n",
      "Epoch 116/200\n",
      "437/437 [==============================] - 154s 352ms/step - loss: 0.3571 - accuracy: 0.9180 - val_loss: 0.2632 - val_accuracy: 0.8975\n",
      "Epoch 117/200\n",
      "437/437 [==============================] - 154s 351ms/step - loss: 0.3631 - accuracy: 0.9175 - val_loss: 0.2394 - val_accuracy: 0.9086\n",
      "Epoch 118/200\n",
      "437/437 [==============================] - 153s 350ms/step - loss: 0.3891 - accuracy: 0.9160 - val_loss: 0.2668 - val_accuracy: 0.8906\n",
      "Epoch 119/200\n",
      "437/437 [==============================] - 153s 350ms/step - loss: 0.3459 - accuracy: 0.9208 - val_loss: 0.2687 - val_accuracy: 0.8838\n",
      "Epoch 120/200\n",
      "437/437 [==============================] - 155s 354ms/step - loss: 0.3594 - accuracy: 0.9182 - val_loss: 0.2705 - val_accuracy: 0.8916\n",
      "Epoch 121/200\n",
      "437/437 [==============================] - 155s 355ms/step - loss: 0.3431 - accuracy: 0.9236 - val_loss: 0.2376 - val_accuracy: 0.9091\n",
      "Epoch 122/200\n",
      "437/437 [==============================] - 157s 360ms/step - loss: 0.3587 - accuracy: 0.9201 - val_loss: 0.2597 - val_accuracy: 0.8951\n",
      "Epoch 123/200\n",
      "437/437 [==============================] - 164s 375ms/step - loss: 0.3417 - accuracy: 0.9207 - val_loss: 0.2478 - val_accuracy: 0.8986\n",
      "Epoch 124/200\n",
      "437/437 [==============================] - 162s 371ms/step - loss: 0.3467 - accuracy: 0.9228 - val_loss: 0.2317 - val_accuracy: 0.9151\n",
      "Epoch 125/200\n",
      "437/437 [==============================] - 154s 352ms/step - loss: 0.3455 - accuracy: 0.9234 - val_loss: 0.2332 - val_accuracy: 0.9159\n",
      "Epoch 126/200\n",
      "437/437 [==============================] - 152s 349ms/step - loss: 0.3439 - accuracy: 0.9214 - val_loss: 0.2354 - val_accuracy: 0.9092\n",
      "Epoch 127/200\n",
      "437/437 [==============================] - 155s 354ms/step - loss: 0.3347 - accuracy: 0.9263 - val_loss: 0.2293 - val_accuracy: 0.9139\n",
      "Epoch 128/200\n",
      "437/437 [==============================] - 152s 348ms/step - loss: 0.3143 - accuracy: 0.9256 - val_loss: 0.2139 - val_accuracy: 0.9222\n",
      "Epoch 129/200\n",
      "437/437 [==============================] - 152s 348ms/step - loss: 0.3383 - accuracy: 0.9264 - val_loss: 0.2106 - val_accuracy: 0.9247\n",
      "Epoch 130/200\n",
      "437/437 [==============================] - 152s 348ms/step - loss: 0.3311 - accuracy: 0.9266 - val_loss: 0.2562 - val_accuracy: 0.8970\n",
      "Epoch 131/200\n",
      "437/437 [==============================] - 153s 350ms/step - loss: 0.3527 - accuracy: 0.9220 - val_loss: 0.2198 - val_accuracy: 0.9182\n",
      "Epoch 132/200\n",
      "437/437 [==============================] - 152s 349ms/step - loss: 0.3426 - accuracy: 0.9258 - val_loss: 0.2278 - val_accuracy: 0.9139\n",
      "Epoch 133/200\n",
      "437/437 [==============================] - 151s 345ms/step - loss: 0.3464 - accuracy: 0.9243 - val_loss: 0.2342 - val_accuracy: 0.9100\n",
      "Epoch 134/200\n",
      "437/437 [==============================] - 151s 346ms/step - loss: 0.3142 - accuracy: 0.9294 - val_loss: 0.2204 - val_accuracy: 0.9187\n",
      "Epoch 135/200\n",
      "437/437 [==============================] - 151s 345ms/step - loss: 0.3075 - accuracy: 0.9297 - val_loss: 0.2002 - val_accuracy: 0.9328\n",
      "Epoch 136/200\n",
      "437/437 [==============================] - 152s 349ms/step - loss: 0.3366 - accuracy: 0.9297 - val_loss: 0.2246 - val_accuracy: 0.9175\n",
      "Epoch 137/200\n",
      "437/437 [==============================] - 152s 347ms/step - loss: 0.3005 - accuracy: 0.9331 - val_loss: 0.2245 - val_accuracy: 0.9200\n",
      "Epoch 138/200\n",
      "437/437 [==============================] - 151s 346ms/step - loss: 0.3194 - accuracy: 0.9306 - val_loss: 0.2096 - val_accuracy: 0.9271\n",
      "Epoch 139/200\n",
      "437/437 [==============================] - 151s 346ms/step - loss: 0.3162 - accuracy: 0.9292 - val_loss: 0.2246 - val_accuracy: 0.9192\n",
      "Epoch 140/200\n",
      "437/437 [==============================] - 153s 350ms/step - loss: 0.3048 - accuracy: 0.9321 - val_loss: 0.2098 - val_accuracy: 0.9265\n",
      "Epoch 141/200\n",
      "437/437 [==============================] - 151s 347ms/step - loss: 0.3008 - accuracy: 0.9332 - val_loss: 0.2314 - val_accuracy: 0.9134\n",
      "Epoch 142/200\n",
      "437/437 [==============================] - 152s 347ms/step - loss: 0.3215 - accuracy: 0.9300 - val_loss: 0.2261 - val_accuracy: 0.9158\n",
      "Epoch 143/200\n",
      "437/437 [==============================] - 152s 348ms/step - loss: 0.3019 - accuracy: 0.9315 - val_loss: 0.2084 - val_accuracy: 0.9282\n",
      "Epoch 144/200\n",
      "437/437 [==============================] - 160s 366ms/step - loss: 0.3085 - accuracy: 0.9344 - val_loss: 0.2141 - val_accuracy: 0.9241\n",
      "Epoch 145/200\n",
      "437/437 [==============================] - 156s 358ms/step - loss: 0.2955 - accuracy: 0.9350 - val_loss: 0.1959 - val_accuracy: 0.9344\n",
      "Epoch 146/200\n",
      "437/437 [==============================] - 153s 351ms/step - loss: 0.3096 - accuracy: 0.9309 - val_loss: 0.2326 - val_accuracy: 0.9115\n",
      "Epoch 147/200\n",
      "437/437 [==============================] - 153s 351ms/step - loss: 0.3290 - accuracy: 0.9269 - val_loss: 0.2074 - val_accuracy: 0.9289\n",
      "Epoch 148/200\n",
      "437/437 [==============================] - 154s 353ms/step - loss: 0.3045 - accuracy: 0.9365 - val_loss: 0.2241 - val_accuracy: 0.9167\n",
      "Epoch 149/200\n",
      "437/437 [==============================] - 155s 355ms/step - loss: 0.3018 - accuracy: 0.9331 - val_loss: 0.2008 - val_accuracy: 0.9333\n",
      "Epoch 150/200\n",
      "437/437 [==============================] - 158s 362ms/step - loss: 0.3044 - accuracy: 0.9353 - val_loss: 0.2307 - val_accuracy: 0.9137\n",
      "Epoch 151/200\n",
      "437/437 [==============================] - 156s 357ms/step - loss: 0.2905 - accuracy: 0.9365 - val_loss: 0.2225 - val_accuracy: 0.9198\n",
      "Epoch 152/200\n",
      "437/437 [==============================] - 155s 356ms/step - loss: 0.2967 - accuracy: 0.9361 - val_loss: 0.2156 - val_accuracy: 0.9236\n",
      "Epoch 153/200\n",
      "437/437 [==============================] - 154s 352ms/step - loss: 0.2851 - accuracy: 0.9381 - val_loss: 0.2092 - val_accuracy: 0.9254\n",
      "Epoch 154/200\n",
      "437/437 [==============================] - 156s 357ms/step - loss: 0.2915 - accuracy: 0.9370 - val_loss: 0.2108 - val_accuracy: 0.9277\n",
      "Epoch 155/200\n",
      "437/437 [==============================] - 155s 354ms/step - loss: 0.2955 - accuracy: 0.9369 - val_loss: 0.2218 - val_accuracy: 0.9193\n",
      "Epoch 156/200\n",
      "437/437 [==============================] - 155s 355ms/step - loss: 0.3023 - accuracy: 0.9364 - val_loss: 0.2181 - val_accuracy: 0.9226\n",
      "Epoch 157/200\n",
      "437/437 [==============================] - 160s 366ms/step - loss: 0.2661 - accuracy: 0.9416 - val_loss: 0.2168 - val_accuracy: 0.9247\n",
      "Epoch 158/200\n",
      "437/437 [==============================] - 155s 355ms/step - loss: 0.2708 - accuracy: 0.9397 - val_loss: 0.2197 - val_accuracy: 0.9220\n",
      "Epoch 159/200\n",
      "437/437 [==============================] - 156s 357ms/step - loss: 0.2690 - accuracy: 0.9422 - val_loss: 0.2043 - val_accuracy: 0.9346\n",
      "Epoch 160/200\n",
      "437/437 [==============================] - 155s 355ms/step - loss: 0.2707 - accuracy: 0.9421 - val_loss: 0.2037 - val_accuracy: 0.9302\n",
      "Epoch 161/200\n",
      "437/437 [==============================] - 156s 357ms/step - loss: 0.2802 - accuracy: 0.9395 - val_loss: 0.2054 - val_accuracy: 0.9290\n",
      "Epoch 162/200\n",
      "437/437 [==============================] - 157s 360ms/step - loss: 0.2819 - accuracy: 0.9401 - val_loss: 0.2274 - val_accuracy: 0.9193\n",
      "Epoch 163/200\n",
      "437/437 [==============================] - 167s 381ms/step - loss: 0.2651 - accuracy: 0.9460 - val_loss: 0.2167 - val_accuracy: 0.9221\n",
      "Epoch 164/200\n",
      "437/437 [==============================] - 159s 365ms/step - loss: 0.2777 - accuracy: 0.9404 - val_loss: 0.1969 - val_accuracy: 0.9359\n",
      "Epoch 165/200\n",
      "437/437 [==============================] - 158s 362ms/step - loss: 0.2765 - accuracy: 0.9395 - val_loss: 0.2130 - val_accuracy: 0.9243\n",
      "Epoch 166/200\n",
      "437/437 [==============================] - 159s 364ms/step - loss: 0.2532 - accuracy: 0.9449 - val_loss: 0.2047 - val_accuracy: 0.9272\n",
      "Epoch 167/200\n",
      "437/437 [==============================] - 158s 362ms/step - loss: 0.2720 - accuracy: 0.9402 - val_loss: 0.2094 - val_accuracy: 0.9294\n",
      "Epoch 168/200\n",
      "437/437 [==============================] - 152s 349ms/step - loss: 0.2722 - accuracy: 0.9424 - val_loss: 0.1986 - val_accuracy: 0.9346\n",
      "Epoch 169/200\n",
      "437/437 [==============================] - 153s 351ms/step - loss: 0.2787 - accuracy: 0.9393 - val_loss: 0.1958 - val_accuracy: 0.9350\n",
      "Epoch 170/200\n",
      "437/437 [==============================] - 155s 354ms/step - loss: 0.2820 - accuracy: 0.9403 - val_loss: 0.2125 - val_accuracy: 0.9278\n",
      "Epoch 171/200\n",
      "437/437 [==============================] - 153s 350ms/step - loss: 0.2670 - accuracy: 0.9436 - val_loss: 0.2256 - val_accuracy: 0.9196\n",
      "Epoch 172/200\n",
      "437/437 [==============================] - 155s 355ms/step - loss: 0.2616 - accuracy: 0.9432 - val_loss: 0.2000 - val_accuracy: 0.9334\n",
      "Epoch 173/200\n",
      "437/437 [==============================] - 153s 351ms/step - loss: 0.2739 - accuracy: 0.9453 - val_loss: 0.2251 - val_accuracy: 0.9191\n",
      "Epoch 174/200\n",
      "437/437 [==============================] - 154s 352ms/step - loss: 0.2680 - accuracy: 0.9411 - val_loss: 0.1886 - val_accuracy: 0.9407\n",
      "Epoch 175/200\n",
      "437/437 [==============================] - 154s 352ms/step - loss: 0.2611 - accuracy: 0.9472 - val_loss: 0.2181 - val_accuracy: 0.9232\n",
      "Epoch 176/200\n",
      "437/437 [==============================] - 154s 352ms/step - loss: 0.2670 - accuracy: 0.9447 - val_loss: 0.1961 - val_accuracy: 0.9382\n",
      "Epoch 177/200\n",
      "437/437 [==============================] - 152s 348ms/step - loss: 0.2467 - accuracy: 0.9487 - val_loss: 0.1999 - val_accuracy: 0.9352\n",
      "Epoch 178/200\n",
      "437/437 [==============================] - 152s 349ms/step - loss: 0.2604 - accuracy: 0.9458 - val_loss: 0.2138 - val_accuracy: 0.9286\n",
      "Epoch 179/200\n",
      "437/437 [==============================] - 152s 348ms/step - loss: 0.2557 - accuracy: 0.9463 - val_loss: 0.1939 - val_accuracy: 0.9427\n",
      "Epoch 180/200\n",
      "437/437 [==============================] - 152s 347ms/step - loss: 0.2611 - accuracy: 0.9483 - val_loss: 0.1971 - val_accuracy: 0.9384\n",
      "Epoch 181/200\n",
      "437/437 [==============================] - 152s 348ms/step - loss: 0.2524 - accuracy: 0.9477 - val_loss: 0.1923 - val_accuracy: 0.9386\n",
      "Epoch 182/200\n",
      "437/437 [==============================] - 154s 352ms/step - loss: 0.2569 - accuracy: 0.9476 - val_loss: 0.2058 - val_accuracy: 0.9308\n",
      "Epoch 183/200\n",
      "437/437 [==============================] - 153s 350ms/step - loss: 0.2442 - accuracy: 0.9488 - val_loss: 0.1767 - val_accuracy: 0.9469\n",
      "Epoch 184/200\n",
      "437/437 [==============================] - 151s 345ms/step - loss: 0.2452 - accuracy: 0.9480 - val_loss: 0.1824 - val_accuracy: 0.9450\n",
      "Epoch 185/200\n",
      "437/437 [==============================] - 150s 343ms/step - loss: 0.2324 - accuracy: 0.9522 - val_loss: 0.1943 - val_accuracy: 0.9378\n",
      "Epoch 186/200\n",
      "437/437 [==============================] - 154s 353ms/step - loss: 0.2511 - accuracy: 0.9494 - val_loss: 0.1920 - val_accuracy: 0.9402\n",
      "Epoch 187/200\n",
      "437/437 [==============================] - 153s 350ms/step - loss: 0.2599 - accuracy: 0.9440 - val_loss: 0.1939 - val_accuracy: 0.9402\n",
      "Epoch 188/200\n",
      "437/437 [==============================] - 154s 352ms/step - loss: 0.2439 - accuracy: 0.9488 - val_loss: 0.1995 - val_accuracy: 0.9349\n",
      "Epoch 189/200\n",
      "437/437 [==============================] - 153s 350ms/step - loss: 0.2609 - accuracy: 0.9450 - val_loss: 0.2036 - val_accuracy: 0.9329\n",
      "Epoch 190/200\n",
      "437/437 [==============================] - 153s 351ms/step - loss: 0.2715 - accuracy: 0.9466 - val_loss: 0.1868 - val_accuracy: 0.9415\n",
      "Epoch 191/200\n",
      "437/437 [==============================] - 152s 348ms/step - loss: 0.2465 - accuracy: 0.9484 - val_loss: 0.1782 - val_accuracy: 0.9492\n",
      "Epoch 192/200\n",
      "437/437 [==============================] - 152s 349ms/step - loss: 0.2414 - accuracy: 0.9506 - val_loss: 0.1779 - val_accuracy: 0.9480\n",
      "Epoch 193/200\n",
      "437/437 [==============================] - 152s 349ms/step - loss: 0.2396 - accuracy: 0.9520 - val_loss: 0.1773 - val_accuracy: 0.9501\n",
      "Epoch 194/200\n",
      "437/437 [==============================] - 151s 346ms/step - loss: 0.2556 - accuracy: 0.9456 - val_loss: 0.1911 - val_accuracy: 0.9405\n",
      "Epoch 195/200\n",
      "437/437 [==============================] - 152s 347ms/step - loss: 0.2427 - accuracy: 0.9498 - val_loss: 0.1928 - val_accuracy: 0.9389\n",
      "Epoch 196/200\n",
      "437/437 [==============================] - 151s 345ms/step - loss: 0.2363 - accuracy: 0.9517 - val_loss: 0.1902 - val_accuracy: 0.9403\n",
      "Epoch 197/200\n",
      "437/437 [==============================] - 151s 345ms/step - loss: 0.2400 - accuracy: 0.9504 - val_loss: 0.1774 - val_accuracy: 0.9486\n",
      "Epoch 198/200\n",
      "437/437 [==============================] - 154s 352ms/step - loss: 0.2255 - accuracy: 0.9530 - val_loss: 0.1691 - val_accuracy: 0.9500\n",
      "Epoch 199/200\n",
      "437/437 [==============================] - 153s 349ms/step - loss: 0.2451 - accuracy: 0.9532 - val_loss: 0.1862 - val_accuracy: 0.9433\n",
      "Epoch 200/200\n",
      "437/437 [==============================] - 151s 346ms/step - loss: 0.2319 - accuracy: 0.9515 - val_loss: 0.1839 - val_accuracy: 0.9456\n"
     ]
    },
    {
     "data": {
      "text/plain": [
       "<keras.callbacks.History at 0x7f4a00d1c710>"
      ]
     },
     "execution_count": 13,
     "metadata": {},
     "output_type": "execute_result"
    }
   ],
   "source": [
    "weights = {0:1, 1:15}\n",
    "model.fit(train_features, train_target,  class_weight=weights,validation_split=0.3,batch_size = 64,epochs=200)\n",
    "\n",
    "\n"
   ]
  },
  {
   "cell_type": "code",
   "execution_count": 14,
   "id": "bb56db4a",
   "metadata": {
    "execution": {
     "iopub.execute_input": "2023-01-25T06:26:49.241902Z",
     "iopub.status.busy": "2023-01-25T06:26:49.241064Z",
     "iopub.status.idle": "2023-01-25T06:26:49.297348Z",
     "shell.execute_reply": "2023-01-25T06:26:49.295693Z"
    },
    "papermill": {
     "duration": 5.577128,
     "end_time": "2023-01-25T06:26:49.300349",
     "exception": false,
     "start_time": "2023-01-25T06:26:43.723221",
     "status": "completed"
    },
    "tags": []
   },
   "outputs": [],
   "source": [
    "model.save(\"/kaggle/working/trained_model_breast_cancer3.h5\")"
   ]
  },
  {
   "cell_type": "code",
   "execution_count": 15,
   "id": "86f7d872",
   "metadata": {
    "execution": {
     "iopub.execute_input": "2023-01-25T06:26:59.634214Z",
     "iopub.status.busy": "2023-01-25T06:26:59.633530Z",
     "iopub.status.idle": "2023-01-25T06:26:59.637249Z",
     "shell.execute_reply": "2023-01-25T06:26:59.636506Z"
    },
    "papermill": {
     "duration": 5.165373,
     "end_time": "2023-01-25T06:26:59.639798",
     "exception": false,
     "start_time": "2023-01-25T06:26:54.474425",
     "status": "completed"
    },
    "tags": []
   },
   "outputs": [],
   "source": [
    "#from tensorflow import keras\n",
    "#savedModel = keras.models.load_model(\"/kaggle/input/pre-trained-model-of-breast-cancer/trained_model_breast_cancer3.h5\")\n",
    "\n"
   ]
  },
  {
   "cell_type": "code",
   "execution_count": 16,
   "id": "3ec97fbd",
   "metadata": {
    "execution": {
     "iopub.execute_input": "2023-01-25T06:27:10.401633Z",
     "iopub.status.busy": "2023-01-25T06:27:10.401214Z",
     "iopub.status.idle": "2023-01-25T06:27:13.152364Z",
     "shell.execute_reply": "2023-01-25T06:27:13.150632Z"
    },
    "papermill": {
     "duration": 8.32717,
     "end_time": "2023-01-25T06:27:13.155117",
     "exception": false,
     "start_time": "2023-01-25T06:27:04.827947",
     "status": "completed"
    },
    "tags": []
   },
   "outputs": [],
   "source": [
    "test_features=[]\n",
    "for i in test['img_data']:\n",
    "    test_features.append([i])\n",
    "test_features=np.array(test_features)\n",
    " \n",
    "\n",
    "    \n",
    "featureTransform = test_features.reshape(len(test_features), 6400)\n",
    "scaler = StandardScaler()\n",
    "featureTransform =scaler.fit_transform(featureTransform)\n",
    "#norm_features= []\n",
    "#for i in range(len(test_features)):\n",
    "#    norm_features.append(scaler.fit_transform(test_features[i][0]))\n",
    "#test_features=np.array(norm_features)\n",
    "\n",
    "\n",
    "backTransform = featureTransform.reshape(len(test_features),80,80)\n",
    "test_features = backTransform.reshape(len(test_features),80,80,1)\n",
    "\n",
    "\n",
    "\n",
    "test_target = np.array(test['cancer'])"
   ]
  },
  {
   "cell_type": "code",
   "execution_count": 17,
   "id": "1a40bed3",
   "metadata": {
    "execution": {
     "iopub.execute_input": "2023-01-25T06:27:23.556832Z",
     "iopub.status.busy": "2023-01-25T06:27:23.556465Z",
     "iopub.status.idle": "2023-01-25T06:27:49.028306Z",
     "shell.execute_reply": "2023-01-25T06:27:49.026619Z"
    },
    "papermill": {
     "duration": 30.663806,
     "end_time": "2023-01-25T06:27:49.031312",
     "exception": false,
     "start_time": "2023-01-25T06:27:18.367506",
     "status": "completed"
    },
    "tags": []
   },
   "outputs": [],
   "source": [
    "pred = model.predict(test_features)\n",
    "bin_pred = []\n",
    "for i in pred:\n",
    "    if i>=0.5:\n",
    "        bin_pred.append(1)\n",
    "    else:\n",
    "        bin_pred.append(0)\n",
    "bin_pred = np.array(bin_pred)\n"
   ]
  },
  {
   "cell_type": "code",
   "execution_count": 18,
   "id": "17bb8f96",
   "metadata": {
    "execution": {
     "iopub.execute_input": "2023-01-25T06:27:59.377796Z",
     "iopub.status.busy": "2023-01-25T06:27:59.377112Z",
     "iopub.status.idle": "2023-01-25T06:27:59.409241Z",
     "shell.execute_reply": "2023-01-25T06:27:59.407251Z"
    },
    "papermill": {
     "duration": 5.190772,
     "end_time": "2023-01-25T06:27:59.412113",
     "exception": false,
     "start_time": "2023-01-25T06:27:54.221341",
     "status": "completed"
    },
    "tags": []
   },
   "outputs": [
    {
     "name": "stdout",
     "output_type": "stream",
     "text": [
      "0.9476822353422576\n",
      "0.960296222540295 0.7524084778420038\n"
     ]
    }
   ],
   "source": [
    "import sklearn\n",
    "acc = sklearn.metrics.accuracy_score(test_target, bin_pred)\n",
    "print(acc)\n",
    "\n",
    "countzero=0\n",
    "countone=0\n",
    "countzerot=0\n",
    "countonet=0\n",
    "for i, j in zip(test_target, bin_pred):\n",
    "    if i==0 and j==0:\n",
    "        countzero+=1\n",
    "    if i==1 and j==1:\n",
    "        countone+=1\n",
    "    if i==1:\n",
    "        countonet+=1\n",
    "    if i==0:\n",
    "        countzerot+=1\n",
    "print(countzero/countzerot,countone/countonet)"
   ]
  },
  {
   "cell_type": "code",
   "execution_count": 19,
   "id": "85e48efa",
   "metadata": {
    "execution": {
     "iopub.execute_input": "2023-01-25T06:28:10.538333Z",
     "iopub.status.busy": "2023-01-25T06:28:10.537892Z",
     "iopub.status.idle": "2023-01-25T06:28:10.547035Z",
     "shell.execute_reply": "2023-01-25T06:28:10.546195Z"
    },
    "papermill": {
     "duration": 5.594823,
     "end_time": "2023-01-25T06:28:10.548814",
     "exception": false,
     "start_time": "2023-01-25T06:28:04.953991",
     "status": "completed"
    },
    "tags": []
   },
   "outputs": [
    {
     "name": "stdout",
     "output_type": "stream",
     "text": [
      "0.6357346357346357\n"
     ]
    }
   ],
   "source": [
    "\n",
    "def recall_m(y_true, y_pred):\n",
    "    true_positives = np.sum(np.round(np.clip(y_true * y_pred, 0, 1)))\n",
    "    possible_positives = np.sum(np.round(np.clip(y_true, 0, 1)))\n",
    "    recall = true_positives / (possible_positives )\n",
    "    return recall\n",
    "\n",
    "def precision_m(y_true, y_pred):\n",
    "    true_positives = np.sum(np.round(np.clip(y_true * y_pred, 0, 1)))\n",
    "    predicted_positives = np.sum(np.round(np.clip(y_pred, 0, 1)))\n",
    "    precision = true_positives / (predicted_positives )\n",
    "    return precision\n",
    "\n",
    "def f1_m(y_true, y_pred):\n",
    "    precision = precision_m(y_true, y_pred)\n",
    "    recall = recall_m(y_true, y_pred)\n",
    "    return 2*((precision*recall)/(precision+recall))\n",
    "\n",
    "\n",
    "print(f1_m(test_target,bin_pred))"
   ]
  },
  {
   "cell_type": "code",
   "execution_count": 20,
   "id": "4a3deaaf",
   "metadata": {
    "execution": {
     "iopub.execute_input": "2023-01-25T06:28:20.912819Z",
     "iopub.status.busy": "2023-01-25T06:28:20.912414Z",
     "iopub.status.idle": "2023-01-25T06:28:38.626470Z",
     "shell.execute_reply": "2023-01-25T06:28:38.624767Z"
    },
    "papermill": {
     "duration": 22.865249,
     "end_time": "2023-01-25T06:28:38.629312",
     "exception": false,
     "start_time": "2023-01-25T06:28:15.764063",
     "status": "completed"
    },
    "tags": []
   },
   "outputs": [
    {
     "name": "stderr",
     "output_type": "stream",
     "text": [
      " 75%|███████▌  | 3/4 [00:00<00:00,  8.33it/s]\n"
     ]
    }
   ],
   "source": [
    "datasetPath = '/kaggle/input/rsna-breast-cancer-detection/test.csv'\n",
    "imgPath = '/kaggle/input/rsna-breast-cancer-detection/test_images/'\n",
    "\n",
    "testImgData = dcmToPix(datasetPath, imgPath)"
   ]
  },
  {
   "cell_type": "code",
   "execution_count": 21,
   "id": "c87b1023",
   "metadata": {
    "execution": {
     "iopub.execute_input": "2023-01-25T06:28:49.329129Z",
     "iopub.status.busy": "2023-01-25T06:28:49.328734Z",
     "iopub.status.idle": "2023-01-25T06:28:49.349661Z",
     "shell.execute_reply": "2023-01-25T06:28:49.348569Z"
    },
    "papermill": {
     "duration": 5.239177,
     "end_time": "2023-01-25T06:28:49.352091",
     "exception": false,
     "start_time": "2023-01-25T06:28:44.112914",
     "status": "completed"
    },
    "tags": []
   },
   "outputs": [],
   "source": [
    "datacancer = pd.read_csv(datasetPath)\n",
    "imgDataFrame = {'img_data':testImgData}\n",
    "imgData2 = pd.DataFrame(imgDataFrame)\n",
    "testImgData=imgData2\n",
    "imgdata_shuff = testImgData.sample(frac=1)"
   ]
  },
  {
   "cell_type": "code",
   "execution_count": 22,
   "id": "7185ea94",
   "metadata": {
    "execution": {
     "iopub.execute_input": "2023-01-25T06:28:59.685376Z",
     "iopub.status.busy": "2023-01-25T06:28:59.684688Z",
     "iopub.status.idle": "2023-01-25T06:28:59.699824Z",
     "shell.execute_reply": "2023-01-25T06:28:59.698316Z"
    },
    "papermill": {
     "duration": 5.174776,
     "end_time": "2023-01-25T06:28:59.701881",
     "exception": false,
     "start_time": "2023-01-25T06:28:54.527105",
     "status": "completed"
    },
    "tags": []
   },
   "outputs": [
    {
     "name": "stderr",
     "output_type": "stream",
     "text": [
      "100%|██████████| 4/4 [00:00<00:00, 2008.77it/s]\n"
     ]
    }
   ],
   "source": [
    "imgDataList=[]\n",
    "for j in tqdm(imgdata_shuff['img_data']):\n",
    "    imgDataList.append(random_rotate(j))\n",
    "imgdata_shuff['img_data'] = imgDataList"
   ]
  },
  {
   "cell_type": "code",
   "execution_count": 23,
   "id": "cab3df1d",
   "metadata": {
    "execution": {
     "iopub.execute_input": "2023-01-25T06:29:10.415740Z",
     "iopub.status.busy": "2023-01-25T06:29:10.414842Z",
     "iopub.status.idle": "2023-01-25T06:29:10.551712Z",
     "shell.execute_reply": "2023-01-25T06:29:10.550482Z"
    },
    "papermill": {
     "duration": 5.353196,
     "end_time": "2023-01-25T06:29:10.554391",
     "exception": false,
     "start_time": "2023-01-25T06:29:05.201195",
     "status": "completed"
    },
    "tags": []
   },
   "outputs": [],
   "source": [
    "test=imgdata_shuff\n",
    "\n",
    "\n",
    "test_features=[]\n",
    "for i in test['img_data']:\n",
    "    test_features.append([i])\n",
    "test_features=np.array(test_features)\n",
    "\n",
    "\n",
    "featureTransform = test_features.reshape(len(test_features), 6400)\n",
    "scaler = StandardScaler()\n",
    "featureTransform =scaler.fit_transform(featureTransform)\n",
    "#norm_features= []\n",
    "#for i in range(len(test_features)):\n",
    "#    norm_features.append(scaler.fit_transform(test_features[i][0]))\n",
    "#test_features=np.array(norm_features)\n",
    "\n",
    "\n",
    "backTransform = featureTransform.reshape(len(test_features),80,80)\n",
    "test_features = backTransform.reshape(len(test_features),80,80,1)\n",
    "\n",
    "\n"
   ]
  },
  {
   "cell_type": "code",
   "execution_count": 24,
   "id": "fa219061",
   "metadata": {
    "execution": {
     "iopub.execute_input": "2023-01-25T06:29:20.794185Z",
     "iopub.status.busy": "2023-01-25T06:29:20.793794Z",
     "iopub.status.idle": "2023-01-25T06:29:20.875896Z",
     "shell.execute_reply": "2023-01-25T06:29:20.875240Z"
    },
    "papermill": {
     "duration": 5.231068,
     "end_time": "2023-01-25T06:29:20.877738",
     "exception": false,
     "start_time": "2023-01-25T06:29:15.646670",
     "status": "completed"
    },
    "tags": []
   },
   "outputs": [
    {
     "name": "stdout",
     "output_type": "stream",
     "text": [
      "[0 0 0 0]\n"
     ]
    }
   ],
   "source": [
    "pred = model.predict(test_features)\n",
    "bin_pred = []\n",
    "for i in pred:\n",
    "    if i>=0.5:\n",
    "        bin_pred.append(1)\n",
    "    else:\n",
    "        bin_pred.append(0)\n",
    "bin_pred = np.array(bin_pred)\n",
    "print(bin_pred)"
   ]
  },
  {
   "cell_type": "code",
   "execution_count": 25,
   "id": "1344e9e3",
   "metadata": {
    "execution": {
     "iopub.execute_input": "2023-01-25T06:29:31.393564Z",
     "iopub.status.busy": "2023-01-25T06:29:31.392737Z",
     "iopub.status.idle": "2023-01-25T06:29:31.414032Z",
     "shell.execute_reply": "2023-01-25T06:29:31.413058Z"
    },
    "papermill": {
     "duration": 5.168402,
     "end_time": "2023-01-25T06:29:31.416221",
     "exception": false,
     "start_time": "2023-01-25T06:29:26.247819",
     "status": "completed"
    },
    "tags": []
   },
   "outputs": [
    {
     "name": "stdout",
     "output_type": "stream",
     "text": [
      "  prediction_id  cancer\n",
      "0       10008_L       0\n",
      "1       10008_L       0\n",
      "2       10008_R       0\n",
      "3       10008_R       0\n"
     ]
    }
   ],
   "source": [
    "testData = pd.read_csv('/kaggle/input/rsna-breast-cancer-detection/test.csv')\n",
    "\n",
    "submissionFrame={'prediction_id':testData['prediction_id'],'cancer':bin_pred}\n",
    "submission = pd.DataFrame(submissionFrame)\n",
    "print(submission)"
   ]
  }
 ],
 "metadata": {
  "kernelspec": {
   "display_name": "Python 3",
   "language": "python",
   "name": "python3"
  },
  "language_info": {
   "codemirror_mode": {
    "name": "ipython",
    "version": 3
   },
   "file_extension": ".py",
   "mimetype": "text/x-python",
   "name": "python",
   "nbconvert_exporter": "python",
   "pygments_lexer": "ipython3",
   "version": "3.7.12"
  },
  "papermill": {
   "default_parameters": {},
   "duration": 31796.999899,
   "end_time": "2023-01-25T06:29:40.168319",
   "environment_variables": {},
   "exception": null,
   "input_path": "__notebook__.ipynb",
   "output_path": "__notebook__.ipynb",
   "parameters": {},
   "start_time": "2023-01-24T21:39:43.168420",
   "version": "2.3.4"
  }
 },
 "nbformat": 4,
 "nbformat_minor": 5
}
