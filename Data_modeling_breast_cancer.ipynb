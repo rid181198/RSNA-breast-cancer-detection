{
 "cells": [
  {
   "cell_type": "code",
   "execution_count": 1,
   "id": "47d0cf3b",
   "metadata": {
    "execution": {
     "iopub.execute_input": "2023-01-27T14:35:39.283727Z",
     "iopub.status.busy": "2023-01-27T14:35:39.282767Z",
     "iopub.status.idle": "2023-01-27T14:35:47.137519Z",
     "shell.execute_reply": "2023-01-27T14:35:47.136406Z"
    },
    "papermill": {
     "duration": 7.867197,
     "end_time": "2023-01-27T14:35:47.140459",
     "exception": false,
     "start_time": "2023-01-27T14:35:39.273262",
     "status": "completed"
    },
    "tags": []
   },
   "outputs": [],
   "source": [
    "import numpy as np\n",
    "import pandas as pd\n",
    "import matplotlib.pyplot as plt\n",
    "import seaborn as sns\n",
    "import pickle\n",
    "import tensorflow as tf\n",
    "import tensorflow_io as tfio\n",
    "import os\n",
    "from tqdm import tqdm\n",
    "import cv2\n",
    "from PIL import Image\n",
    "from joblib import Parallel, delayed\n",
    "import gc\n",
    "from PIL import Image as im\n",
    "import random"
   ]
  },
  {
   "cell_type": "code",
   "execution_count": 2,
   "id": "43dad60c",
   "metadata": {
    "execution": {
     "iopub.execute_input": "2023-01-27T14:35:47.155658Z",
     "iopub.status.busy": "2023-01-27T14:35:47.154956Z",
     "iopub.status.idle": "2023-01-27T14:36:02.008881Z",
     "shell.execute_reply": "2023-01-27T14:36:02.007367Z"
    },
    "papermill": {
     "duration": 14.865566,
     "end_time": "2023-01-27T14:36:02.012744",
     "exception": false,
     "start_time": "2023-01-27T14:35:47.147178",
     "status": "completed"
    },
    "tags": []
   },
   "outputs": [
    {
     "name": "stdout",
     "output_type": "stream",
     "text": [
      "Collecting dicomsdl\r\n",
      "  Downloading dicomsdl-0.109.1-cp37-cp37m-manylinux_2_12_x86_64.manylinux2010_x86_64.whl (1.4 MB)\r\n",
      "\u001b[2K     \u001b[90m━━━━━━━━━━━━━━━━━━━━━━━━━━━━━━━━━━━━━━━━\u001b[0m \u001b[32m1.4/1.4 MB\u001b[0m \u001b[31m1.5 MB/s\u001b[0m eta \u001b[36m0:00:00\u001b[0m\r\n",
      "\u001b[?25hInstalling collected packages: dicomsdl\r\n",
      "Successfully installed dicomsdl-0.109.1\r\n",
      "\u001b[33mWARNING: Running pip as the 'root' user can result in broken permissions and conflicting behaviour with the system package manager. It is recommended to use a virtual environment instead: https://pip.pypa.io/warnings/venv\u001b[0m\u001b[33m\r\n",
      "\u001b[0m"
     ]
    }
   ],
   "source": [
    "import sys\n",
    "!{sys.executable} -m pip install dicomsdl\n",
    "#!pip install /kaggle/input/rsnapacks/dicomsdl-0.109.1-cp36-cp36m-manylinux_2_12_x86_64.manylinux2010_x86_64.whl\n",
    "import numpy as np\n",
    "import pandas as pd\n",
    "import matplotlib.pyplot as plt\n",
    "import seaborn as sns\n",
    "import pickle\n",
    "#import pydicom as dicom\n",
    "import dicomsdl as dicom\n",
    "import tensorflow as tf\n",
    "import tensorflow_io as tfio\n",
    "from PIL import Image as im\n",
    "import os\n",
    "from tqdm import tqdm\n",
    "import cv2\n",
    "from PIL import Image\n",
    "from joblib import Parallel, delayed\n",
    "import gc\n",
    "import random"
   ]
  },
  {
   "cell_type": "code",
   "execution_count": 3,
   "id": "d885dae9",
   "metadata": {
    "execution": {
     "iopub.execute_input": "2023-01-27T14:36:02.034485Z",
     "iopub.status.busy": "2023-01-27T14:36:02.034034Z",
     "iopub.status.idle": "2023-01-27T14:36:02.060524Z",
     "shell.execute_reply": "2023-01-27T14:36:02.058636Z"
    },
    "papermill": {
     "duration": 0.04245,
     "end_time": "2023-01-27T14:36:02.063898",
     "exception": false,
     "start_time": "2023-01-27T14:36:02.021448",
     "status": "completed"
    },
    "tags": []
   },
   "outputs": [],
   "source": [
    "datasetPath = '/kaggle/input/rsna-breast-cancer-detection/train.csv'\n",
    "imgPath = '/kaggle/input/rsna-breast-cancer-detection/train_images/'\n",
    "\n",
    "def crop(sideName, imgName):\n",
    "    \"\"\"\n",
    "    This function is used to crop the breast images. It takes two arguments.\n",
    "    \n",
    "    Input:-\n",
    "    :sideName = Laterality of breast if it is right or left\n",
    "    :imgName = Image pixel data of the DCM images\n",
    "    \n",
    "    Output:-\n",
    "    :return = Output after cropping the image.\n",
    "    \n",
    "    \"\"\"\n",
    "    if sideName == 'L':\n",
    "        colind=[]\n",
    "        for r,row in enumerate(imgName):\n",
    "            for c,col in enumerate(row):\n",
    "                if col==0:\n",
    "                    colind.append(c)\n",
    "                    break\n",
    "        crop_size = max(colind)\n",
    "        imgName = imgName[0:512,0:crop_size]\n",
    "        imgName = cv2.resize(imgName,(128,128))\n",
    "        \n",
    "    if sideName == 'R':\n",
    "        colind=[]\n",
    "        for r,row in enumerate(imgName):\n",
    "            for c,col in enumerate(row):\n",
    "                if col!=0:\n",
    "                    colind.append(c)\n",
    "                    break\n",
    "        crop_size = min(colind)\n",
    "        imgName = imgName[0:512,crop_size:512]\n",
    "        imgName = cv2.resize(imgName,(128,128))\n",
    "    \n",
    "    return imgName    \n",
    "\n",
    "    gc.collect()\n",
    "    \n",
    "def crop_reverse(sideName, imgName):\n",
    "    \n",
    "    \"\"\"\n",
    "    This function is used to crop the breast images but in the reverse order.\n",
    "    Because the laterality is defined wrongly for some images. It takes two arguments.\n",
    "    \n",
    "    Input:-\n",
    "    :sideName = Laterality of breast if it is right or left\n",
    "    :imgName = Image pixel data of the DCM images\n",
    "    \n",
    "    Output:-\n",
    "    :return = Output after cropping the image.\n",
    "    \n",
    "    \"\"\"\n",
    "    \n",
    "    if sideName == 'R':\n",
    "        colind=[]\n",
    "        for r,row in enumerate(imgName):\n",
    "            for c,col in enumerate(row):\n",
    "                if col==0:\n",
    "                    colind.append(c)\n",
    "                    break\n",
    "        crop_size = max(colind)\n",
    "        imgName = imgName[0:512,0:crop_size]\n",
    "        imgName = cv2.resize(imgName,(128,128))\n",
    "        \n",
    "    if sideName == 'L':\n",
    "        colind=[]\n",
    "        for r,row in enumerate(imgName):\n",
    "            for c,col in enumerate(row):\n",
    "                if col!=0:\n",
    "                    colind.append(c)\n",
    "                    break\n",
    "        crop_size = min(colind)\n",
    "        imgName = imgName[0:512,crop_size:512]\n",
    "        imgName = cv2.resize(imgName,(128,128))\n",
    "    \n",
    "    return imgName    \n",
    "\n",
    "    gc.collect()\n",
    "    \n",
    "\n",
    "def img_process(i,filename,sides):\n",
    "    \n",
    "    \"\"\"\n",
    "    This function is used to process the images which will be used for the training/test dataset. It takes three arguments.\n",
    "    \n",
    "    Input:-\n",
    "    :i = Index of the image in the dataframe\n",
    "    :filename = Path of the image\n",
    "    :sides = List of all images' laterality\n",
    "    \n",
    "    Output:-\n",
    "    :return = Output after cropping the image.\n",
    "    \n",
    "    \"\"\"\n",
    "    \n",
    "    \n",
    "    #ds = dicom.dcmread(filename)\n",
    "    dsraw = dicom.open(filename)\n",
    "    ds = dsraw.pixelData()\n",
    "    \n",
    "    ds = (ds - ds.min()) / (ds.max() - ds.min())\n",
    "    if dsraw.PhotometricInterpretation == \"MONOCHROME1\":  \n",
    "        ds = 1 - ds\n",
    "    ds = (ds * 255).astype(np.uint8)\n",
    "\n",
    "    \n",
    "    #ds = cv2.normalize(ds, None, 0, 1.0, cv2.NORM_MINMAX, dtype=cv2.CV_32F)\n",
    "    ds = cv2.resize(ds,(512,512))\n",
    "    \n",
    "    #ds = np.where(ds >= 0.999, 0,ds)\n",
    "    \n",
    "    try:\n",
    "        ds = np.array(crop(sides[i], ds))   \n",
    "    except:\n",
    "        ds = np.array(crop_reverse(sides[i], ds))\n",
    "    \n",
    "\n",
    "    #train_data.loc[i,'img_data'] = [img_fin]\n",
    "    #train_data.to_csv('/kaggle/working/training_img_data.csv') \n",
    "    return ds\n",
    "    gc.collect()\n",
    "\n",
    "def dcmToPix(datasetPath, imgPath):\n",
    "    \n",
    "    \"\"\"\n",
    "    This function is used to process all the images which will be used for the training/test dataset. It takes two arguments.\n",
    "    \n",
    "    Input:-\n",
    "    :datasetPath = Path of the cancer dataset\n",
    "    :imgPath = Path of the image dataset\n",
    "   \n",
    "    Output:-\n",
    "    :return = Array of all the processed images\n",
    "    \n",
    "    \"\"\"\n",
    "    \n",
    "    \n",
    "    dataset = pd.read_csv(datasetPath)\n",
    "    \n",
    "    patient_ids = dataset['patient_id']\n",
    "    image_ids = dataset['image_id']\n",
    "    sides  = dataset['laterality']\n",
    "\n",
    "    imgData = []\n",
    "\n",
    "    for pi, ii, leng in zip(patient_ids, image_ids, range(len(patient_ids))):\n",
    "        imgData.append(imgPath + str(pi) + '/' + str(ii) + '.dcm')\n",
    "\n",
    "    dataset['img_data'] = \" \"\n",
    "    \n",
    "    result = Parallel(n_jobs=128)(\\\n",
    "    delayed(img_process)(i, fname, sides) for i, fname in zip(range(len(imgData)),tqdm(imgData))\\\n",
    "    )\n",
    "    \n",
    "    dataset['img_data'] = result\n",
    "    dataset.to_pickle('imgData.pkl' )\n",
    "    \n",
    "    return result\n",
    "    "
   ]
  },
  {
   "cell_type": "code",
   "execution_count": 4,
   "id": "ae4ddba3",
   "metadata": {
    "_cell_guid": "b1076dfc-b9ad-4769-8c92-a6c4dae69d19",
    "_uuid": "8f2839f25d086af736a60e9eeb907d3b93b6e0e5",
    "execution": {
     "iopub.execute_input": "2023-01-27T14:36:02.084729Z",
     "iopub.status.busy": "2023-01-27T14:36:02.084289Z",
     "iopub.status.idle": "2023-01-27T14:36:09.794505Z",
     "shell.execute_reply": "2023-01-27T14:36:09.793350Z"
    },
    "papermill": {
     "duration": 7.723257,
     "end_time": "2023-01-27T14:36:09.797363",
     "exception": false,
     "start_time": "2023-01-27T14:36:02.074106",
     "status": "completed"
    },
    "tags": []
   },
   "outputs": [],
   "source": [
    "with (open('/kaggle/input/output/imgData.pkl', \"rb\")) as openfile:\n",
    "     imgData = pickle.load(openfile)"
   ]
  },
  {
   "cell_type": "code",
   "execution_count": 5,
   "id": "e4997b0d",
   "metadata": {
    "execution": {
     "iopub.execute_input": "2023-01-27T14:36:09.814560Z",
     "iopub.status.busy": "2023-01-27T14:36:09.814212Z",
     "iopub.status.idle": "2023-01-27T14:36:09.818224Z",
     "shell.execute_reply": "2023-01-27T14:36:09.817123Z"
    },
    "papermill": {
     "duration": 0.015167,
     "end_time": "2023-01-27T14:36:09.820383",
     "exception": false,
     "start_time": "2023-01-27T14:36:09.805216",
     "status": "completed"
    },
    "tags": []
   },
   "outputs": [],
   "source": [
    "#datacancer = pd.read_csv(datasetPath)\n",
    "#imgDataFrame = {'cancer':datacancer['cancer'][:50], 'img_data':imgData}\n",
    "#imgData2 = pd.DataFrame(imgDataFrame)\n",
    "\n",
    "#imgData=imgData2"
   ]
  },
  {
   "cell_type": "code",
   "execution_count": 6,
   "id": "6e607b20",
   "metadata": {
    "execution": {
     "iopub.execute_input": "2023-01-27T14:36:09.838885Z",
     "iopub.status.busy": "2023-01-27T14:36:09.838512Z",
     "iopub.status.idle": "2023-01-27T14:36:09.953110Z",
     "shell.execute_reply": "2023-01-27T14:36:09.952072Z"
    },
    "papermill": {
     "duration": 0.127932,
     "end_time": "2023-01-27T14:36:09.955788",
     "exception": false,
     "start_time": "2023-01-27T14:36:09.827856",
     "status": "completed"
    },
    "tags": []
   },
   "outputs": [],
   "source": [
    "imgdata_pos = imgData[imgData['cancer'] == 1]\n",
    "imgdata_neg = imgData[imgData['cancer'] == 0]\n",
    "\n",
    "imgdata_pos = imgdata_pos.sample(frac = 1)\n",
    "imgdata_neg = imgdata_neg.sample(frac = 1)\n",
    "\n",
    "imgdata_neg = imgdata_neg.sample(frac= 1)\n",
    "\n",
    "frames = 6*[imgdata_pos]\n",
    "frames.append(imgdata_neg)\n",
    "imgdata_shuff = pd.concat(frames)\n",
    "imgdata_shuff = imgdata_shuff.sample(frac=1)"
   ]
  },
  {
   "cell_type": "code",
   "execution_count": 7,
   "id": "2ba190de",
   "metadata": {
    "execution": {
     "iopub.execute_input": "2023-01-27T14:36:09.973445Z",
     "iopub.status.busy": "2023-01-27T14:36:09.973068Z",
     "iopub.status.idle": "2023-01-27T14:36:09.983382Z",
     "shell.execute_reply": "2023-01-27T14:36:09.982331Z"
    },
    "papermill": {
     "duration": 0.022172,
     "end_time": "2023-01-27T14:36:09.985979",
     "exception": false,
     "start_time": "2023-01-27T14:36:09.963807",
     "status": "completed"
    },
    "tags": []
   },
   "outputs": [
    {
     "name": "stdout",
     "output_type": "stream",
     "text": [
      "0    53548\n",
      "1     6948\n",
      "Name: cancer, dtype: int64\n"
     ]
    }
   ],
   "source": [
    "print(imgdata_shuff['cancer'].value_counts())"
   ]
  },
  {
   "cell_type": "code",
   "execution_count": 8,
   "id": "c4a7f448",
   "metadata": {
    "execution": {
     "iopub.execute_input": "2023-01-27T14:36:10.003110Z",
     "iopub.status.busy": "2023-01-27T14:36:10.002771Z",
     "iopub.status.idle": "2023-01-27T14:36:10.009854Z",
     "shell.execute_reply": "2023-01-27T14:36:10.008844Z"
    },
    "papermill": {
     "duration": 0.018296,
     "end_time": "2023-01-27T14:36:10.012112",
     "exception": false,
     "start_time": "2023-01-27T14:36:09.993816",
     "status": "completed"
    },
    "tags": []
   },
   "outputs": [],
   "source": [
    "def random_rotate(imgData):\n",
    "    #thresh = 0.15\n",
    "    \n",
    "    imgData = imgData.reshape(128,128)\n",
    "    \n",
    "    #imgData = np.clip(imgData,thresh,1)\n",
    "    imgData = imgData[15:110,15:110]\n",
    "    \n",
    "    clahe = cv2.createCLAHE(clipLimit=random.uniform(8, 10), tileGridSize=(5,5))\n",
    "    imgData = clahe.apply(imgData)\n",
    "    #imgData = im.fromarray(imgData)\n",
    "    #imgData = np.asarray(imgData.rotate(random.randint(-20, 20)))\n",
    "    return imgData"
   ]
  },
  {
   "cell_type": "code",
   "execution_count": 9,
   "id": "c0cef15f",
   "metadata": {
    "execution": {
     "iopub.execute_input": "2023-01-27T14:36:10.029252Z",
     "iopub.status.busy": "2023-01-27T14:36:10.028879Z",
     "iopub.status.idle": "2023-01-27T14:36:14.291253Z",
     "shell.execute_reply": "2023-01-27T14:36:14.289583Z"
    },
    "papermill": {
     "duration": 4.273994,
     "end_time": "2023-01-27T14:36:14.293842",
     "exception": false,
     "start_time": "2023-01-27T14:36:10.019848",
     "status": "completed"
    },
    "tags": []
   },
   "outputs": [
    {
     "name": "stderr",
     "output_type": "stream",
     "text": [
      "100%|██████████| 60496/60496 [00:04<00:00, 14291.84it/s]\n"
     ]
    }
   ],
   "source": [
    "imgDataList=[]\n",
    "for j in tqdm(imgdata_shuff['img_data']):\n",
    "    imgDataList.append(random_rotate(j))\n",
    "imgdata_shuff['img_data'] = imgDataList"
   ]
  },
  {
   "cell_type": "code",
   "execution_count": 10,
   "id": "9acaf03e",
   "metadata": {
    "execution": {
     "iopub.execute_input": "2023-01-27T14:36:14.317733Z",
     "iopub.status.busy": "2023-01-27T14:36:14.317320Z",
     "iopub.status.idle": "2023-01-27T14:36:37.496329Z",
     "shell.execute_reply": "2023-01-27T14:36:37.495036Z"
    },
    "papermill": {
     "duration": 23.194491,
     "end_time": "2023-01-27T14:36:37.499301",
     "exception": false,
     "start_time": "2023-01-27T14:36:14.304810",
     "status": "completed"
    },
    "tags": []
   },
   "outputs": [],
   "source": [
    "from sklearn.model_selection import train_test_split\n",
    "train,test = train_test_split(imgdata_shuff, test_size=0.3, random_state=42, shuffle=True)\n",
    "\n",
    "\n",
    "\n",
    "train_target = np.array(train['cancer'])\n",
    "train_features=[]\n",
    "for i in train['img_data']:\n",
    "    i=np.array(i)\n",
    "    train_features.append(i)\n",
    "train_features=np.array(train_features)\n",
    "\n",
    "\n",
    "\n",
    "#featureTransform = train_features.reshape(len(train_features), 6400)\n",
    "\n",
    "from sklearn.preprocessing import StandardScaler\n",
    "scaler = StandardScaler()\n",
    "#featureTransform = scaler.fit_transform(featureTransform)\n",
    "norm_features= []\n",
    "for i in range(len(train_features)):\n",
    "        norm_features.append(scaler.fit_transform(train_features[i]))\n",
    "train_features=np.array(norm_features)\n",
    "\n",
    "\n",
    "\n",
    "\n",
    "#backTransform = featureTransform.reshape(len(train_features),80,80)\n",
    "#train_features = backTransform.reshape(len(train_features),80,80,1)\n",
    "train_features = train_features.reshape(len(train_features),95,95,1)\n",
    "\n",
    "\n",
    "\n"
   ]
  },
  {
   "cell_type": "code",
   "execution_count": 11,
   "id": "cbe441d2",
   "metadata": {
    "execution": {
     "iopub.execute_input": "2023-01-27T14:36:37.523473Z",
     "iopub.status.busy": "2023-01-27T14:36:37.523084Z",
     "iopub.status.idle": "2023-01-27T14:36:37.836837Z",
     "shell.execute_reply": "2023-01-27T14:36:37.835570Z"
    },
    "papermill": {
     "duration": 0.329862,
     "end_time": "2023-01-27T14:36:37.840299",
     "exception": false,
     "start_time": "2023-01-27T14:36:37.510437",
     "status": "completed"
    },
    "tags": []
   },
   "outputs": [
    {
     "name": "stdout",
     "output_type": "stream",
     "text": [
      "0\n"
     ]
    },
    {
     "data": {
      "image/png": "[encoded data removed]",
      "text/plain": [
       "<Figure size 432x288 with 1 Axes>"
      ]
     },
     "metadata": {
      "needs_background": "light"
     },
     "output_type": "display_data"
    }
   ],
   "source": [
    "image = train_features[6214]\n",
    "plt.imshow(image)\n",
    "print(train_target[6214])"
   ]
  },
  {
   "cell_type": "code",
   "execution_count": 12,
   "id": "ac7347a4",
   "metadata": {
    "execution": {
     "iopub.execute_input": "2023-01-27T14:36:37.868667Z",
     "iopub.status.busy": "2023-01-27T14:36:37.866646Z",
     "iopub.status.idle": "2023-01-27T14:36:38.169608Z",
     "shell.execute_reply": "2023-01-27T14:36:38.168459Z"
    },
    "papermill": {
     "duration": 0.319661,
     "end_time": "2023-01-27T14:36:38.172916",
     "exception": false,
     "start_time": "2023-01-27T14:36:37.853255",
     "status": "completed"
    },
    "tags": []
   },
   "outputs": [
    {
     "name": "stderr",
     "output_type": "stream",
     "text": [
      "2023-01-27 14:36:37.917634: I tensorflow/core/common_runtime/process_util.cc:146] Creating new thread pool with default inter op setting: 2. Tune using inter_op_parallelism_threads for best performance.\n"
     ]
    }
   ],
   "source": [
    "from keras.models import Sequential\n",
    "from keras.layers import LeakyReLU\n",
    "from keras.layers import Dense, Conv2D, Flatten,MaxPooling2D, Dropout, GlobalMaxPooling2D\n",
    "\n",
    "model = Sequential()\n",
    "\n",
    "model.add(Conv2D(64, 3, activation = \"relu\", input_shape = (95,95,1)))\n",
    "model.add(MaxPooling2D())\n",
    "model.add(LeakyReLU(alpha=0.2))\n",
    "model.add(Dropout(0.2))\n",
    "\n",
    "model.add(Conv2D(64, 3, activation = \"relu\"))\n",
    "model.add(MaxPooling2D())\n",
    "model.add(LeakyReLU(alpha=0.1))\n",
    "model.add(Dropout(0.1))\n",
    "\n",
    "model.add(Conv2D(64, 3, activation = \"relu\"))\n",
    "model.add(MaxPooling2D())\n",
    "model.add(LeakyReLU(alpha=0.1))\n",
    "model.add(Dropout(0.2))\n",
    "\n",
    "model.add(Conv2D(128, 3, activation = \"relu\"))\n",
    "model.add(MaxPooling2D())\n",
    "model.add(LeakyReLU(alpha=0.2))\n",
    "model.add(Dropout(0.1))\n",
    "\n",
    "\n",
    "model.add(Flatten())\n",
    "\n",
    "model.add(Dense(1024, activation = 'relu')) \n",
    "model.add(LeakyReLU(alpha=0.2))\n",
    "model.add(Dropout(0.2))\n",
    "\n",
    "model.add(Dense(512, activation = 'relu')) \n",
    "model.add(LeakyReLU(alpha=0.2))\n",
    "model.add(Dropout(0.3))\n",
    "\n",
    "model.add(Dense(256, activation = 'relu')) \n",
    "model.add(LeakyReLU(alpha=0.2))\n",
    "model.add(Dropout(0.3))\n",
    "\n",
    "model.add(Dense(1, activation = 'sigmoid'))\n",
    "\n",
    "\n",
    "\n",
    "\n",
    "from keras import backend as K\n",
    "def recall_m(y_true, y_pred):\n",
    "    true_positives = K.sum(K.round(K.clip(y_true * y_pred, 0, 1)))\n",
    "    possible_positives = K.sum(K.round(K.clip(y_true, 0, 1)))\n",
    "    recall = true_positives / (possible_positives )\n",
    "    return recall\n",
    "\n",
    "def precision_m(y_true, y_pred):\n",
    "    true_positives = K.sum(K.round(K.clip(y_true * y_pred, 0, 1)))\n",
    "    predicted_positives = K.sum(K.round(K.clip(y_pred, 0, 1)))\n",
    "    precision = true_positives / (predicted_positives )\n",
    "    return precision\n",
    "\n",
    "def f1_m(y_true, y_pred):\n",
    "    precision = precision_m(y_true, y_pred)\n",
    "    recall = recall_m(y_true, y_pred)\n",
    "    return 2*((precision*recall)/(precision+recall))\n",
    "\n",
    "\n",
    "\n",
    "\n",
    "\n",
    "#loss = tf.keras.losses.BinaryFocalCrossentropy(\\\n",
    "#    apply_class_balancing=True, gamma=5, from_logits=True,\\\n",
    "#    reduction=tf.keras.losses.Reduction.NONE)\n",
    "\n",
    "\n",
    "#model.compile(optimizer =tf.keras.optimizers.Adam(learning_rate=0.0001),\\\n",
    "#              loss= 'binary_crossentropy', metrics=['accuracy'])\n",
    "\n"
   ]
  },
  {
   "cell_type": "code",
   "execution_count": 13,
   "id": "73ab0cd0",
   "metadata": {
    "execution": {
     "iopub.execute_input": "2023-01-27T14:36:38.199828Z",
     "iopub.status.busy": "2023-01-27T14:36:38.198575Z",
     "iopub.status.idle": "2023-01-27T14:36:38.204244Z",
     "shell.execute_reply": "2023-01-27T14:36:38.202833Z"
    },
    "papermill": {
     "duration": 0.023357,
     "end_time": "2023-01-27T14:36:38.208553",
     "exception": false,
     "start_time": "2023-01-27T14:36:38.185196",
     "status": "completed"
    },
    "tags": []
   },
   "outputs": [],
   "source": [
    "#from tensorflow import keras\n",
    "#model = keras.models.load_model(\"/kaggle/input/pre-trained-model-of-breast-cancer/trained_model_breast_cancer3.h5\")\n"
   ]
  },
  {
   "cell_type": "code",
   "execution_count": 14,
   "id": "39849b74",
   "metadata": {
    "execution": {
     "iopub.execute_input": "2023-01-27T14:36:38.235989Z",
     "iopub.status.busy": "2023-01-27T14:36:38.235276Z",
     "iopub.status.idle": "2023-01-27T20:09:51.139441Z",
     "shell.execute_reply": "2023-01-27T20:09:51.138616Z"
    },
    "papermill": {
     "duration": 19995.041712,
     "end_time": "2023-01-27T20:09:53.263738",
     "exception": false,
     "start_time": "2023-01-27T14:36:38.222026",
     "status": "completed"
    },
    "tags": []
   },
   "outputs": [
    {
     "name": "stderr",
     "output_type": "stream",
     "text": [
      "2023-01-27 14:36:39.977002: I tensorflow/compiler/mlir/mlir_graph_optimization_pass.cc:185] None of the MLIR Optimization Passes are enabled (registered 2)\n"
     ]
    },
    {
     "name": "stdout",
     "output_type": "stream",
     "text": [
      "Epoch 1/70\n",
      "464/464 [==============================] - 286s 613ms/step - loss: 1.0803 - accuracy: 0.8620 - val_loss: 0.6361 - val_accuracy: 0.8867\n",
      "Epoch 2/70\n",
      "464/464 [==============================] - 284s 612ms/step - loss: 1.0721 - accuracy: 0.8597 - val_loss: 0.6357 - val_accuracy: 0.8387\n",
      "Epoch 3/70\n",
      "464/464 [==============================] - 283s 609ms/step - loss: 1.0661 - accuracy: 0.8214 - val_loss: 0.6943 - val_accuracy: 0.3643\n",
      "Epoch 4/70\n",
      "464/464 [==============================] - 282s 608ms/step - loss: 1.0578 - accuracy: 0.7726 - val_loss: 0.6608 - val_accuracy: 0.5485\n",
      "Epoch 5/70\n",
      "464/464 [==============================] - 284s 611ms/step - loss: 1.0453 - accuracy: 0.7387 - val_loss: 0.6364 - val_accuracy: 0.5943\n",
      "Epoch 6/70\n",
      "464/464 [==============================] - 284s 612ms/step - loss: 1.0315 - accuracy: 0.7081 - val_loss: 0.6631 - val_accuracy: 0.5170\n",
      "Epoch 7/70\n",
      "464/464 [==============================] - 284s 612ms/step - loss: 1.0102 - accuracy: 0.7019 - val_loss: 0.6139 - val_accuracy: 0.6749\n",
      "Epoch 8/70\n",
      "464/464 [==============================] - 284s 612ms/step - loss: 0.9862 - accuracy: 0.6990 - val_loss: 0.5438 - val_accuracy: 0.7675\n",
      "Epoch 9/70\n",
      "464/464 [==============================] - 285s 613ms/step - loss: 0.9484 - accuracy: 0.7079 - val_loss: 0.5887 - val_accuracy: 0.6394\n",
      "Epoch 10/70\n",
      "464/464 [==============================] - 285s 614ms/step - loss: 0.8961 - accuracy: 0.7283 - val_loss: 0.5330 - val_accuracy: 0.7054\n",
      "Epoch 11/70\n",
      "464/464 [==============================] - 285s 614ms/step - loss: 0.8337 - accuracy: 0.7485 - val_loss: 0.4442 - val_accuracy: 0.7932\n",
      "Epoch 12/70\n",
      "464/464 [==============================] - 284s 612ms/step - loss: 0.7607 - accuracy: 0.7778 - val_loss: 0.4695 - val_accuracy: 0.7549\n",
      "Epoch 13/70\n",
      "464/464 [==============================] - 284s 613ms/step - loss: 0.6720 - accuracy: 0.8109 - val_loss: 0.4538 - val_accuracy: 0.7607\n",
      "Epoch 14/70\n",
      "464/464 [==============================] - 284s 611ms/step - loss: 0.5978 - accuracy: 0.8359 - val_loss: 0.4149 - val_accuracy: 0.8009\n",
      "Epoch 15/70\n",
      "464/464 [==============================] - 284s 611ms/step - loss: 0.5228 - accuracy: 0.8610 - val_loss: 0.4897 - val_accuracy: 0.7444\n",
      "Epoch 16/70\n",
      "464/464 [==============================] - 286s 616ms/step - loss: 0.4618 - accuracy: 0.8806 - val_loss: 0.2882 - val_accuracy: 0.8742\n",
      "Epoch 17/70\n",
      "464/464 [==============================] - 285s 613ms/step - loss: 0.3852 - accuracy: 0.9043 - val_loss: 0.2604 - val_accuracy: 0.8870\n",
      "Epoch 18/70\n",
      "464/464 [==============================] - 285s 614ms/step - loss: 0.3432 - accuracy: 0.9151 - val_loss: 0.3301 - val_accuracy: 0.8492\n",
      "Epoch 19/70\n",
      "464/464 [==============================] - 285s 614ms/step - loss: 0.2947 - accuracy: 0.9276 - val_loss: 0.2649 - val_accuracy: 0.8804\n",
      "Epoch 20/70\n",
      "464/464 [==============================] - 284s 611ms/step - loss: 0.2649 - accuracy: 0.9378 - val_loss: 0.2278 - val_accuracy: 0.9019\n",
      "Epoch 21/70\n",
      "464/464 [==============================] - 285s 615ms/step - loss: 0.2220 - accuracy: 0.9476 - val_loss: 0.2012 - val_accuracy: 0.9174\n",
      "Epoch 22/70\n",
      "464/464 [==============================] - 284s 613ms/step - loss: 0.2087 - accuracy: 0.9504 - val_loss: 0.1799 - val_accuracy: 0.9273\n",
      "Epoch 23/70\n",
      "464/464 [==============================] - 285s 613ms/step - loss: 0.1673 - accuracy: 0.9600 - val_loss: 0.1486 - val_accuracy: 0.9421\n",
      "Epoch 24/70\n",
      "464/464 [==============================] - 285s 613ms/step - loss: 0.1637 - accuracy: 0.9621 - val_loss: 0.1881 - val_accuracy: 0.9281\n",
      "Epoch 25/70\n",
      "464/464 [==============================] - 284s 612ms/step - loss: 0.1446 - accuracy: 0.9670 - val_loss: 0.1306 - val_accuracy: 0.9521\n",
      "Epoch 26/70\n",
      "464/464 [==============================] - 283s 610ms/step - loss: 0.1365 - accuracy: 0.9691 - val_loss: 0.1178 - val_accuracy: 0.9577\n",
      "Epoch 27/70\n",
      "464/464 [==============================] - 282s 608ms/step - loss: 0.1182 - accuracy: 0.9736 - val_loss: 0.1365 - val_accuracy: 0.9478\n",
      "Epoch 28/70\n",
      "464/464 [==============================] - 283s 610ms/step - loss: 0.1013 - accuracy: 0.9780 - val_loss: 0.1484 - val_accuracy: 0.9452\n",
      "Epoch 29/70\n",
      "464/464 [==============================] - 284s 612ms/step - loss: 0.1092 - accuracy: 0.9758 - val_loss: 0.1723 - val_accuracy: 0.9354\n",
      "Epoch 30/70\n",
      "464/464 [==============================] - 284s 612ms/step - loss: 0.0956 - accuracy: 0.9787 - val_loss: 0.1577 - val_accuracy: 0.9421\n",
      "Epoch 31/70\n",
      "464/464 [==============================] - 284s 612ms/step - loss: 0.0850 - accuracy: 0.9809 - val_loss: 0.1095 - val_accuracy: 0.9628\n",
      "Epoch 32/70\n",
      "464/464 [==============================] - 283s 610ms/step - loss: 0.0781 - accuracy: 0.9831 - val_loss: 0.1228 - val_accuracy: 0.9547\n",
      "Epoch 33/70\n",
      "464/464 [==============================] - 284s 611ms/step - loss: 0.0844 - accuracy: 0.9817 - val_loss: 0.1057 - val_accuracy: 0.9658\n",
      "Epoch 34/70\n",
      "464/464 [==============================] - 283s 609ms/step - loss: 0.0726 - accuracy: 0.9850 - val_loss: 0.1228 - val_accuracy: 0.9583\n",
      "Epoch 35/70\n",
      "464/464 [==============================] - 283s 611ms/step - loss: 0.0712 - accuracy: 0.9859 - val_loss: 0.1319 - val_accuracy: 0.9543\n",
      "Epoch 36/70\n",
      "464/464 [==============================] - 283s 610ms/step - loss: 0.0625 - accuracy: 0.9873 - val_loss: 0.1694 - val_accuracy: 0.9418\n",
      "Epoch 37/70\n",
      "464/464 [==============================] - 283s 610ms/step - loss: 0.0594 - accuracy: 0.9870 - val_loss: 0.1635 - val_accuracy: 0.9421\n",
      "Epoch 38/70\n",
      "464/464 [==============================] - 285s 614ms/step - loss: 0.0629 - accuracy: 0.9868 - val_loss: 0.1156 - val_accuracy: 0.9605\n",
      "Epoch 39/70\n",
      "464/464 [==============================] - 283s 611ms/step - loss: 0.0604 - accuracy: 0.9884 - val_loss: 0.1024 - val_accuracy: 0.9676\n",
      "Epoch 40/70\n",
      "464/464 [==============================] - 284s 611ms/step - loss: 0.0557 - accuracy: 0.9890 - val_loss: 0.1307 - val_accuracy: 0.9558\n",
      "Epoch 41/70\n",
      "464/464 [==============================] - 284s 612ms/step - loss: 0.0489 - accuracy: 0.9897 - val_loss: 0.1077 - val_accuracy: 0.9636\n",
      "Epoch 42/70\n",
      "464/464 [==============================] - 284s 611ms/step - loss: 0.0518 - accuracy: 0.9894 - val_loss: 0.1112 - val_accuracy: 0.9625\n",
      "Epoch 43/70\n",
      "464/464 [==============================] - 283s 610ms/step - loss: 0.0604 - accuracy: 0.9892 - val_loss: 0.1094 - val_accuracy: 0.9626\n",
      "Epoch 44/70\n",
      "464/464 [==============================] - 283s 610ms/step - loss: 0.0409 - accuracy: 0.9915 - val_loss: 0.1431 - val_accuracy: 0.9547\n",
      "Epoch 45/70\n",
      "464/464 [==============================] - 283s 610ms/step - loss: 0.0509 - accuracy: 0.9888 - val_loss: 0.1093 - val_accuracy: 0.9645\n",
      "Epoch 46/70\n",
      "464/464 [==============================] - 283s 611ms/step - loss: 0.0462 - accuracy: 0.9908 - val_loss: 0.1274 - val_accuracy: 0.9577\n",
      "Epoch 47/70\n",
      "464/464 [==============================] - 284s 612ms/step - loss: 0.0427 - accuracy: 0.9912 - val_loss: 0.1394 - val_accuracy: 0.9557\n",
      "Epoch 48/70\n",
      "464/464 [==============================] - 285s 614ms/step - loss: 0.0432 - accuracy: 0.9910 - val_loss: 0.0984 - val_accuracy: 0.9681\n",
      "Epoch 49/70\n",
      "464/464 [==============================] - 284s 612ms/step - loss: 0.0386 - accuracy: 0.9918 - val_loss: 0.1197 - val_accuracy: 0.9614\n",
      "Epoch 50/70\n",
      "464/464 [==============================] - 284s 613ms/step - loss: 0.0384 - accuracy: 0.9918 - val_loss: 0.1066 - val_accuracy: 0.9673\n",
      "Epoch 51/70\n",
      "464/464 [==============================] - 291s 626ms/step - loss: 0.0328 - accuracy: 0.9930 - val_loss: 0.0887 - val_accuracy: 0.9736\n",
      "Epoch 52/70\n",
      "464/464 [==============================] - 290s 625ms/step - loss: 0.0438 - accuracy: 0.9905 - val_loss: 0.0994 - val_accuracy: 0.9706\n",
      "Epoch 53/70\n",
      "464/464 [==============================] - 290s 626ms/step - loss: 0.0414 - accuracy: 0.9924 - val_loss: 0.1425 - val_accuracy: 0.9536\n",
      "Epoch 54/70\n",
      "464/464 [==============================] - 290s 625ms/step - loss: 0.0323 - accuracy: 0.9939 - val_loss: 0.0655 - val_accuracy: 0.9819\n",
      "Epoch 55/70\n",
      "464/464 [==============================] - 287s 619ms/step - loss: 0.0397 - accuracy: 0.9919 - val_loss: 0.1065 - val_accuracy: 0.9699\n",
      "Epoch 56/70\n",
      "464/464 [==============================] - 288s 620ms/step - loss: 0.0393 - accuracy: 0.9926 - val_loss: 0.0768 - val_accuracy: 0.9787\n",
      "Epoch 57/70\n",
      "464/464 [==============================] - 291s 626ms/step - loss: 0.0332 - accuracy: 0.9935 - val_loss: 0.1295 - val_accuracy: 0.9603\n",
      "Epoch 58/70\n",
      "464/464 [==============================] - 287s 617ms/step - loss: 0.0360 - accuracy: 0.9933 - val_loss: 0.1380 - val_accuracy: 0.9580\n",
      "Epoch 59/70\n",
      "464/464 [==============================] - 285s 615ms/step - loss: 0.0299 - accuracy: 0.9945 - val_loss: 0.0787 - val_accuracy: 0.9758\n",
      "Epoch 60/70\n",
      "464/464 [==============================] - 292s 629ms/step - loss: 0.0317 - accuracy: 0.9942 - val_loss: 0.0957 - val_accuracy: 0.9708\n",
      "Epoch 61/70\n",
      "464/464 [==============================] - 295s 636ms/step - loss: 0.0252 - accuracy: 0.9945 - val_loss: 0.1322 - val_accuracy: 0.9610\n",
      "Epoch 62/70\n",
      "464/464 [==============================] - 292s 630ms/step - loss: 0.0297 - accuracy: 0.9946 - val_loss: 0.1569 - val_accuracy: 0.9516\n",
      "Epoch 63/70\n",
      "464/464 [==============================] - 288s 620ms/step - loss: 0.0259 - accuracy: 0.9952 - val_loss: 0.1093 - val_accuracy: 0.9673\n",
      "Epoch 64/70\n",
      "464/464 [==============================] - 290s 625ms/step - loss: 0.0199 - accuracy: 0.9959 - val_loss: 0.1074 - val_accuracy: 0.9698\n",
      "Epoch 65/70\n",
      "464/464 [==============================] - 290s 625ms/step - loss: 0.0350 - accuracy: 0.9935 - val_loss: 0.1436 - val_accuracy: 0.9566\n",
      "Epoch 66/70\n",
      "464/464 [==============================] - 291s 627ms/step - loss: 0.0333 - accuracy: 0.9947 - val_loss: 0.1314 - val_accuracy: 0.9587\n",
      "Epoch 67/70\n",
      "464/464 [==============================] - 290s 625ms/step - loss: 0.0312 - accuracy: 0.9945 - val_loss: 0.0954 - val_accuracy: 0.9736\n",
      "Epoch 68/70\n",
      "464/464 [==============================] - 289s 623ms/step - loss: 0.0279 - accuracy: 0.9953 - val_loss: 0.0960 - val_accuracy: 0.9722\n",
      "Epoch 69/70\n",
      "464/464 [==============================] - 287s 618ms/step - loss: 0.0315 - accuracy: 0.9947 - val_loss: 0.1691 - val_accuracy: 0.9506\n",
      "Epoch 70/70\n",
      "464/464 [==============================] - 289s 622ms/step - loss: 0.0254 - accuracy: 0.9954 - val_loss: 0.1390 - val_accuracy: 0.9570\n"
     ]
    },
    {
     "data": {
      "text/plain": [
       "<keras.callbacks.History at 0x7f880cfc5bd0>"
      ]
     },
     "execution_count": 14,
     "metadata": {},
     "output_type": "execute_result"
    }
   ],
   "source": [
    "\n",
    "model.compile(optimizer =tf.keras.optimizers.Adam(learning_rate=0.0001),\\\n",
    "              loss= 'binary_crossentropy', metrics=['accuracy'])\n",
    "\n",
    "weights = {0:1, 1:6}\n",
    "model.fit(train_features, train_target,  class_weight=weights,validation_split=0.3,batch_size = 64,epochs=70)\n",
    "\n",
    "\n"
   ]
  },
  {
   "cell_type": "code",
   "execution_count": 15,
   "id": "fb3b1c33",
   "metadata": {
    "execution": {
     "iopub.execute_input": "2023-01-27T20:09:57.405487Z",
     "iopub.status.busy": "2023-01-27T20:09:57.405088Z",
     "iopub.status.idle": "2023-01-27T20:09:57.516836Z",
     "shell.execute_reply": "2023-01-27T20:09:57.515955Z"
    },
    "papermill": {
     "duration": 2.226944,
     "end_time": "2023-01-27T20:09:57.519524",
     "exception": false,
     "start_time": "2023-01-27T20:09:55.292580",
     "status": "completed"
    },
    "tags": []
   },
   "outputs": [],
   "source": [
    "model.save(\"/kaggle/working/trained_model_breast_cancer3.h5\")"
   ]
  },
  {
   "cell_type": "code",
   "execution_count": 16,
   "id": "02ea2bcd",
   "metadata": {
    "execution": {
     "iopub.execute_input": "2023-01-27T20:10:01.771992Z",
     "iopub.status.busy": "2023-01-27T20:10:01.771444Z",
     "iopub.status.idle": "2023-01-27T20:10:01.776763Z",
     "shell.execute_reply": "2023-01-27T20:10:01.775641Z"
    },
    "papermill": {
     "duration": 2.140995,
     "end_time": "2023-01-27T20:10:01.778788",
     "exception": false,
     "start_time": "2023-01-27T20:09:59.637793",
     "status": "completed"
    },
    "tags": []
   },
   "outputs": [],
   "source": [
    "#from tensorflow import keras\n",
    "#savedModel = keras.models.load_model(\"/kaggle/input/pre-trained-model-of-breast-cancer/trained_model_breast_cancer3.h5\")\n",
    "\n"
   ]
  },
  {
   "cell_type": "code",
   "execution_count": 17,
   "id": "870d8f87",
   "metadata": {
    "execution": {
     "iopub.execute_input": "2023-01-27T20:10:05.927869Z",
     "iopub.status.busy": "2023-01-27T20:10:05.927479Z",
     "iopub.status.idle": "2023-01-27T20:10:19.325422Z",
     "shell.execute_reply": "2023-01-27T20:10:19.324480Z"
    },
    "papermill": {
     "duration": 15.514953,
     "end_time": "2023-01-27T20:10:19.328023",
     "exception": false,
     "start_time": "2023-01-27T20:10:03.813070",
     "status": "completed"
    },
    "tags": []
   },
   "outputs": [],
   "source": [
    "test_features=[]\n",
    "for i in test['img_data']:\n",
    "    i=np.array(i)\n",
    "    test_features.append(i)\n",
    "test_features=np.array(test_features)\n",
    " \n",
    "\n",
    "    \n",
    "#featureTransform = test_features.reshape(len(test_features), 6400)\n",
    "scaler = StandardScaler()\n",
    "#featureTransform =scaler.fit_transform(featureTransform)\n",
    "norm_features= []\n",
    "for i in range(len(test_features)):\n",
    "    norm_features.append(scaler.fit_transform(test_features[i]))\n",
    "test_features=np.array(norm_features)\n",
    "\n",
    "\n",
    "#backTransform = featureTransform.reshape(len(test_features),80,80)\n",
    "test_features = test_features.reshape(len(test_features),95,95,1)\n",
    "\n",
    "\n",
    "\n",
    "test_target = np.array(test['cancer'])"
   ]
  },
  {
   "cell_type": "code",
   "execution_count": 18,
   "id": "de080a34",
   "metadata": {
    "execution": {
     "iopub.execute_input": "2023-01-27T20:10:23.575267Z",
     "iopub.status.busy": "2023-01-27T20:10:23.574841Z",
     "iopub.status.idle": "2023-01-27T20:11:02.902475Z",
     "shell.execute_reply": "2023-01-27T20:11:02.901336Z"
    },
    "papermill": {
     "duration": 41.455295,
     "end_time": "2023-01-27T20:11:02.905190",
     "exception": false,
     "start_time": "2023-01-27T20:10:21.449895",
     "status": "completed"
    },
    "tags": []
   },
   "outputs": [],
   "source": [
    "pred = model.predict(test_features)\n",
    "bin_pred = []\n",
    "for i in pred:\n",
    "    if i>=0.5:\n",
    "        bin_pred.append(1)\n",
    "    else:\n",
    "        bin_pred.append(0)\n",
    "bin_pred = np.array(bin_pred)\n"
   ]
  },
  {
   "cell_type": "code",
   "execution_count": 19,
   "id": "544aab6c",
   "metadata": {
    "execution": {
     "iopub.execute_input": "2023-01-27T20:11:07.006968Z",
     "iopub.status.busy": "2023-01-27T20:11:07.006539Z",
     "iopub.status.idle": "2023-01-27T20:11:07.040722Z",
     "shell.execute_reply": "2023-01-27T20:11:07.039416Z"
    },
    "papermill": {
     "duration": 2.156078,
     "end_time": "2023-01-27T20:11:07.042995",
     "exception": false,
     "start_time": "2023-01-27T20:11:04.886917",
     "status": "completed"
    },
    "tags": []
   },
   "outputs": [
    {
     "name": "stdout",
     "output_type": "stream",
     "text": [
      "0.9574081216595955\n",
      "0.9548487683193015 0.9768211920529801\n"
     ]
    }
   ],
   "source": [
    "import sklearn\n",
    "acc = sklearn.metrics.accuracy_score(test_target, bin_pred)\n",
    "print(acc)\n",
    "\n",
    "countzero=0\n",
    "countone=0\n",
    "countzerot=0\n",
    "countonet=0\n",
    "for i, j in zip(test_target, bin_pred):\n",
    "    if i==0 and j==0:\n",
    "        countzero+=1\n",
    "    if i==1 and j==1:\n",
    "        countone+=1\n",
    "    if i==1:\n",
    "        countonet+=1\n",
    "    if i==0:\n",
    "        countzerot+=1\n",
    "print(countzero/countzerot,countone/countonet)"
   ]
  },
  {
   "cell_type": "code",
   "execution_count": 20,
   "id": "278f21e4",
   "metadata": {
    "execution": {
     "iopub.execute_input": "2023-01-27T20:11:11.242463Z",
     "iopub.status.busy": "2023-01-27T20:11:11.242084Z",
     "iopub.status.idle": "2023-01-27T20:11:11.251801Z",
     "shell.execute_reply": "2023-01-27T20:11:11.251065Z"
    },
    "papermill": {
     "duration": 2.117594,
     "end_time": "2023-01-27T20:11:11.253934",
     "exception": false,
     "start_time": "2023-01-27T20:11:09.136340",
     "status": "completed"
    },
    "tags": []
   },
   "outputs": [
    {
     "name": "stdout",
     "output_type": "stream",
     "text": [
      "0.842341423618193\n"
     ]
    }
   ],
   "source": [
    "\n",
    "def recall_m(y_true, y_pred):\n",
    "    true_positives = np.sum(np.round(np.clip(y_true * y_pred, 0, 1)))\n",
    "    possible_positives = np.sum(np.round(np.clip(y_true, 0, 1)))\n",
    "    recall = true_positives / (possible_positives )\n",
    "    return recall\n",
    "\n",
    "def precision_m(y_true, y_pred):\n",
    "    true_positives = np.sum(np.round(np.clip(y_true * y_pred, 0, 1)))\n",
    "    predicted_positives = np.sum(np.round(np.clip(y_pred, 0, 1)))\n",
    "    precision = true_positives / (predicted_positives )\n",
    "    return precision\n",
    "\n",
    "def f1_m(y_true, y_pred):\n",
    "    precision = precision_m(y_true, y_pred)\n",
    "    recall = recall_m(y_true, y_pred)\n",
    "    return 2*((precision*recall)/(precision+recall))\n",
    "\n",
    "\n",
    "print(f1_m(test_target,bin_pred))"
   ]
  },
  {
   "cell_type": "code",
   "execution_count": 21,
   "id": "12e2eec5",
   "metadata": {
    "execution": {
     "iopub.execute_input": "2023-01-27T20:11:15.332807Z",
     "iopub.status.busy": "2023-01-27T20:11:15.332053Z",
     "iopub.status.idle": "2023-01-27T20:11:41.730710Z",
     "shell.execute_reply": "2023-01-27T20:11:41.729236Z"
    },
    "papermill": {
     "duration": 28.4892,
     "end_time": "2023-01-27T20:11:41.733437",
     "exception": false,
     "start_time": "2023-01-27T20:11:13.244237",
     "status": "completed"
    },
    "tags": []
   },
   "outputs": [
    {
     "name": "stderr",
     "output_type": "stream",
     "text": [
      " 75%|███████▌  | 3/4 [00:00<00:00,  8.09it/s]\n"
     ]
    }
   ],
   "source": [
    "datasetPath = '/kaggle/input/rsna-breast-cancer-detection/test.csv'\n",
    "imgPath = '/kaggle/input/rsna-breast-cancer-detection/test_images/'\n",
    "\n",
    "testImgData = dcmToPix(datasetPath, imgPath)"
   ]
  },
  {
   "cell_type": "code",
   "execution_count": 22,
   "id": "5b021deb",
   "metadata": {
    "execution": {
     "iopub.execute_input": "2023-01-27T20:11:46.000127Z",
     "iopub.status.busy": "2023-01-27T20:11:45.999678Z",
     "iopub.status.idle": "2023-01-27T20:11:46.028207Z",
     "shell.execute_reply": "2023-01-27T20:11:46.027093Z"
    },
    "papermill": {
     "duration": 2.184773,
     "end_time": "2023-01-27T20:11:46.030824",
     "exception": false,
     "start_time": "2023-01-27T20:11:43.846051",
     "status": "completed"
    },
    "tags": []
   },
   "outputs": [],
   "source": [
    "datacancer = pd.read_csv(datasetPath)\n",
    "imgDataFrame = {'img_data':testImgData}\n",
    "imgData2 = pd.DataFrame(imgDataFrame)\n",
    "testImgData=imgData2\n",
    "imgdata_shuff = testImgData.sample(frac=1)"
   ]
  },
  {
   "cell_type": "code",
   "execution_count": 23,
   "id": "45ea68ee",
   "metadata": {
    "execution": {
     "iopub.execute_input": "2023-01-27T20:11:50.118642Z",
     "iopub.status.busy": "2023-01-27T20:11:50.118239Z",
     "iopub.status.idle": "2023-01-27T20:11:50.133913Z",
     "shell.execute_reply": "2023-01-27T20:11:50.132479Z"
    },
    "papermill": {
     "duration": 2.131805,
     "end_time": "2023-01-27T20:11:50.136033",
     "exception": false,
     "start_time": "2023-01-27T20:11:48.004228",
     "status": "completed"
    },
    "tags": []
   },
   "outputs": [
    {
     "name": "stderr",
     "output_type": "stream",
     "text": [
      "100%|██████████| 4/4 [00:00<00:00, 2159.79it/s]\n"
     ]
    }
   ],
   "source": [
    "imgDataList=[]\n",
    "for j in tqdm(imgdata_shuff['img_data']):\n",
    "    imgDataList.append(random_rotate(j))\n",
    "imgdata_shuff['img_data'] = imgDataList"
   ]
  },
  {
   "cell_type": "code",
   "execution_count": 24,
   "id": "5824522c",
   "metadata": {
    "execution": {
     "iopub.execute_input": "2023-01-27T20:11:54.380548Z",
     "iopub.status.busy": "2023-01-27T20:11:54.380140Z",
     "iopub.status.idle": "2023-01-27T20:11:54.587643Z",
     "shell.execute_reply": "2023-01-27T20:11:54.586518Z"
    },
    "papermill": {
     "duration": 2.331959,
     "end_time": "2023-01-27T20:11:54.590250",
     "exception": false,
     "start_time": "2023-01-27T20:11:52.258291",
     "status": "completed"
    },
    "tags": []
   },
   "outputs": [],
   "source": [
    "test=imgdata_shuff\n",
    "\n",
    "\n",
    "test_features=[]\n",
    "for i in test['img_data']:\n",
    "    i=np.array(i)\n",
    "    test_features.append(i)\n",
    "test_features=np.array(test_features)\n",
    " \n",
    "#featureTransform = test_features.reshape(len(test_features), 6400)\n",
    "scaler = StandardScaler()\n",
    "#featureTransform =scaler.fit_transform(featureTransform)\n",
    "norm_features= []\n",
    "for i in range(len(test_features)):\n",
    "    norm_features.append(scaler.fit_transform(test_features[i]))\n",
    "test_features=np.array(norm_features)\n",
    "\n",
    "\n",
    "#backTransform = featureTransform.reshape(len(test_features),80,80)\n",
    "test_features = test_features.reshape(len(test_features),95,95,1)\n",
    "\n",
    "\n"
   ]
  },
  {
   "cell_type": "code",
   "execution_count": 25,
   "id": "87330fb0",
   "metadata": {
    "execution": {
     "iopub.execute_input": "2023-01-27T20:11:58.714305Z",
     "iopub.status.busy": "2023-01-27T20:11:58.713920Z",
     "iopub.status.idle": "2023-01-27T20:11:58.803187Z",
     "shell.execute_reply": "2023-01-27T20:11:58.801836Z"
    },
    "papermill": {
     "duration": 2.186896,
     "end_time": "2023-01-27T20:11:58.805430",
     "exception": false,
     "start_time": "2023-01-27T20:11:56.618534",
     "status": "completed"
    },
    "tags": []
   },
   "outputs": [
    {
     "name": "stdout",
     "output_type": "stream",
     "text": [
      "[0 0 0 0]\n"
     ]
    }
   ],
   "source": [
    "pred = model.predict(test_features)\n",
    "bin_pred = []\n",
    "for i in pred:\n",
    "    if i>=0.5:\n",
    "        bin_pred.append(1)\n",
    "    else:\n",
    "        bin_pred.append(0)\n",
    "bin_pred = np.array(bin_pred)\n",
    "print(bin_pred)"
   ]
  },
  {
   "cell_type": "code",
   "execution_count": 26,
   "id": "f435ba1a",
   "metadata": {
    "execution": {
     "iopub.execute_input": "2023-01-27T20:12:03.054294Z",
     "iopub.status.busy": "2023-01-27T20:12:03.053898Z",
     "iopub.status.idle": "2023-01-27T20:12:03.069091Z",
     "shell.execute_reply": "2023-01-27T20:12:03.067685Z"
    },
    "papermill": {
     "duration": 2.129558,
     "end_time": "2023-01-27T20:12:03.071400",
     "exception": false,
     "start_time": "2023-01-27T20:12:00.941842",
     "status": "completed"
    },
    "tags": []
   },
   "outputs": [
    {
     "name": "stdout",
     "output_type": "stream",
     "text": [
      "  prediction_id  cancer\n",
      "0       10008_L       0\n",
      "1       10008_L       0\n",
      "2       10008_R       0\n",
      "3       10008_R       0\n"
     ]
    }
   ],
   "source": [
    "testData = pd.read_csv('/kaggle/input/rsna-breast-cancer-detection/test.csv')\n",
    "\n",
    "submissionFrame={'prediction_id':testData['prediction_id'],'cancer':bin_pred}\n",
    "submission = pd.DataFrame(submissionFrame)\n",
    "print(submission)"
   ]
  }
 ],
 "metadata": {
  "kernelspec": {
   "display_name": "Python 3",
   "language": "python",
   "name": "python3"
  },
  "language_info": {
   "codemirror_mode": {
    "name": "ipython",
    "version": 3
   },
   "file_extension": ".py",
   "mimetype": "text/x-python",
   "name": "python",
   "nbconvert_exporter": "python",
   "pygments_lexer": "ipython3",
   "version": "3.7.12"
  },
  "papermill": {
   "default_parameters": {},
   "duration": 20198.177333,
   "end_time": "2023-01-27T20:12:08.527024",
   "environment_variables": {},
   "exception": null,
   "input_path": "__notebook__.ipynb",
   "output_path": "__notebook__.ipynb",
   "parameters": {},
   "start_time": "2023-01-27T14:35:30.349691",
   "version": "2.3.4"
  }
 },
 "nbformat": 4,
 "nbformat_minor": 5
}
