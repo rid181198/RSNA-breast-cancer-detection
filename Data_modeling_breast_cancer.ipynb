{
 "cells": [
  {
   "cell_type": "code",
   "execution_count": 1,
   "id": "94418702",
   "metadata": {
    "execution": {
     "iopub.execute_input": "2023-01-23T21:30:21.414135Z",
     "iopub.status.busy": "2023-01-23T21:30:21.413636Z",
     "iopub.status.idle": "2023-01-23T21:30:29.207496Z",
     "shell.execute_reply": "2023-01-23T21:30:29.205820Z"
    },
    "papermill": {
     "duration": 7.803721,
     "end_time": "2023-01-23T21:30:29.210101",
     "exception": false,
     "start_time": "2023-01-23T21:30:21.406380",
     "status": "completed"
    },
    "tags": []
   },
   "outputs": [],
   "source": [
    "import numpy as np\n",
    "import pandas as pd\n",
    "import matplotlib.pyplot as plt\n",
    "import seaborn as sns\n",
    "import pickle\n",
    "import tensorflow as tf\n",
    "import tensorflow_io as tfio\n",
    "import os\n",
    "from tqdm import tqdm\n",
    "import cv2\n",
    "from PIL import Image\n",
    "from joblib import Parallel, delayed\n",
    "import gc\n",
    "from PIL import Image as im\n",
    "import random"
   ]
  },
  {
   "cell_type": "code",
   "execution_count": 2,
   "id": "ba866975",
   "metadata": {
    "execution": {
     "iopub.execute_input": "2023-01-23T21:30:29.224400Z",
     "iopub.status.busy": "2023-01-23T21:30:29.223774Z",
     "iopub.status.idle": "2023-01-23T21:30:39.935557Z",
     "shell.execute_reply": "2023-01-23T21:30:39.933860Z"
    },
    "papermill": {
     "duration": 10.721298,
     "end_time": "2023-01-23T21:30:39.937716",
     "exception": false,
     "start_time": "2023-01-23T21:30:29.216418",
     "status": "completed"
    },
    "tags": []
   },
   "outputs": [
    {
     "name": "stdout",
     "output_type": "stream",
     "text": [
      "Collecting dicomsdl\r\n",
      "  Downloading dicomsdl-0.109.1-cp37-cp37m-manylinux_2_12_x86_64.manylinux2010_x86_64.whl (1.4 MB)\r\n",
      "\u001b[2K     \u001b[90m━━━━━━━━━━━━━━━━━━━━━━━━━━━━━━━━━━━━━━━━\u001b[0m \u001b[32m1.4/1.4 MB\u001b[0m \u001b[31m16.9 MB/s\u001b[0m eta \u001b[36m0:00:00\u001b[0m\r\n",
      "\u001b[?25hInstalling collected packages: dicomsdl\r\n",
      "Successfully installed dicomsdl-0.109.1\r\n",
      "\u001b[33mWARNING: Running pip as the 'root' user can result in broken permissions and conflicting behaviour with the system package manager. It is recommended to use a virtual environment instead: https://pip.pypa.io/warnings/venv\u001b[0m\u001b[33m\r\n",
      "\u001b[0m"
     ]
    }
   ],
   "source": [
    "import sys\n",
    "!{sys.executable} -m pip install dicomsdl\n",
    "#!pip install /kaggle/input/rsnapacks/dicomsdl-0.109.1-cp36-cp36m-manylinux_2_12_x86_64.manylinux2010_x86_64.whl\n",
    "import numpy as np\n",
    "import pandas as pd\n",
    "import matplotlib.pyplot as plt\n",
    "import seaborn as sns\n",
    "import pickle\n",
    "#import pydicom as dicom\n",
    "import dicomsdl as dicom\n",
    "import tensorflow as tf\n",
    "import tensorflow_io as tfio\n",
    "from PIL import Image as im\n",
    "import os\n",
    "from tqdm import tqdm\n",
    "import cv2\n",
    "from PIL import Image\n",
    "from joblib import Parallel, delayed\n",
    "import gc\n",
    "import random"
   ]
  },
  {
   "cell_type": "code",
   "execution_count": 3,
   "id": "de082c86",
   "metadata": {
    "execution": {
     "iopub.execute_input": "2023-01-23T21:30:39.950702Z",
     "iopub.status.busy": "2023-01-23T21:30:39.950168Z",
     "iopub.status.idle": "2023-01-23T21:30:39.966366Z",
     "shell.execute_reply": "2023-01-23T21:30:39.965395Z"
    },
    "papermill": {
     "duration": 0.02525,
     "end_time": "2023-01-23T21:30:39.968549",
     "exception": false,
     "start_time": "2023-01-23T21:30:39.943299",
     "status": "completed"
    },
    "tags": []
   },
   "outputs": [],
   "source": [
    "datasetPath = '/kaggle/input/rsna-breast-cancer-detection/train.csv'\n",
    "imgPath = '/kaggle/input/rsna-breast-cancer-detection/train_images/'\n",
    "\n",
    "def crop(sideName, imgName):\n",
    "    if sideName == 'L':\n",
    "        colind=[]\n",
    "        for r,row in enumerate(imgName):\n",
    "            for c,col in enumerate(row):\n",
    "                if col==0:\n",
    "                    colind.append(c)\n",
    "                    break\n",
    "        crop_size = max(colind)\n",
    "        imgName = imgName[0:512,0:crop_size]\n",
    "        imgName = cv2.resize(imgName,(128,128))\n",
    "        \n",
    "    if sideName == 'R':\n",
    "        colind=[]\n",
    "        for r,row in enumerate(imgName):\n",
    "            for c,col in enumerate(row):\n",
    "                if col!=0:\n",
    "                    colind.append(c)\n",
    "                    break\n",
    "        crop_size = min(colind)\n",
    "        imgName = imgName[0:512,crop_size:512]\n",
    "        imgName = cv2.resize(imgName,(128,128))\n",
    "    \n",
    "    return imgName    \n",
    "\n",
    "    gc.collect()\n",
    "    \n",
    "def crop_reverse(sideName, imgName):\n",
    "    if sideName == 'R':\n",
    "        colind=[]\n",
    "        for r,row in enumerate(imgName):\n",
    "            for c,col in enumerate(row):\n",
    "                if col==0:\n",
    "                    colind.append(c)\n",
    "                    break\n",
    "        crop_size = max(colind)\n",
    "        imgName = imgName[0:512,0:crop_size]\n",
    "        imgName = cv2.resize(imgName,(128,128))\n",
    "        \n",
    "    if sideName == 'L':\n",
    "        colind=[]\n",
    "        for r,row in enumerate(imgName):\n",
    "            for c,col in enumerate(row):\n",
    "                if col!=0:\n",
    "                    colind.append(c)\n",
    "                    break\n",
    "        crop_size = min(colind)\n",
    "        imgName = imgName[0:512,crop_size:512]\n",
    "        imgName = cv2.resize(imgName,(128,128))\n",
    "    \n",
    "    return imgName    \n",
    "\n",
    "    gc.collect()\n",
    "    \n",
    "\n",
    "def img_process(i,filename,sides):\n",
    "    \n",
    "    #ds = dicom.dcmread(filename)\n",
    "    ds = dicom.open(filename)\n",
    "    ds = ds.pixelData()\n",
    "    ds = cv2.normalize(ds, None, 0, 1.0, cv2.NORM_MINMAX, dtype=cv2.CV_32F)\n",
    "    ds = cv2.resize(ds,(512,512))\n",
    "    ds = np.where(ds >= 0.9999, 0,ds)\n",
    "    \n",
    "    try:\n",
    "        ds = np.array(crop(sides[i], ds))   \n",
    "    except:\n",
    "        ds = np.array(crop_reverse(sides[i], ds))\n",
    "    return ds \n",
    "\n",
    "    #train_data.loc[i,'img_data'] = [img_fin]\n",
    "    #train_data.to_csv('/kaggle/working/training_img_data.csv') \n",
    "    \n",
    "    gc.collect()\n",
    "\n",
    "def dcmToPix(datasetPath, imgPath):\n",
    "    dataset = pd.read_csv(datasetPath)\n",
    "    dataset=dataset[:50]\n",
    "    \n",
    "    \n",
    "    patient_ids = dataset['patient_id']\n",
    "    image_ids = dataset['image_id']\n",
    "    sides  = dataset['laterality']\n",
    "\n",
    "    imgData = []\n",
    "\n",
    "    for pi, ii, leng in zip(patient_ids, image_ids, range(len(patient_ids))):\n",
    "        imgData.append(imgPath + str(pi) + '/' + str(ii) + '.dcm')\n",
    "\n",
    "    dataset['img_data'] = \" \"\n",
    "    \n",
    "    result = Parallel(n_jobs=128)(\\\n",
    "    delayed(img_process)(i, fname, sides) for i, fname in zip(range(len(imgData)),tqdm(imgData))\\\n",
    "    )\n",
    "    \n",
    "    dataset['img_data'] = result\n",
    "    dataset.to_pickle('imgData.pkl' )\n",
    "    \n",
    "    return result\n",
    "    "
   ]
  },
  {
   "cell_type": "code",
   "execution_count": 4,
   "id": "5007820b",
   "metadata": {
    "_cell_guid": "b1076dfc-b9ad-4769-8c92-a6c4dae69d19",
    "_uuid": "8f2839f25d086af736a60e9eeb907d3b93b6e0e5",
    "execution": {
     "iopub.execute_input": "2023-01-23T21:30:39.981362Z",
     "iopub.status.busy": "2023-01-23T21:30:39.980865Z",
     "iopub.status.idle": "2023-01-23T21:31:22.177501Z",
     "shell.execute_reply": "2023-01-23T21:31:22.176145Z"
    },
    "papermill": {
     "duration": 42.205836,
     "end_time": "2023-01-23T21:31:22.179941",
     "exception": false,
     "start_time": "2023-01-23T21:30:39.974105",
     "status": "completed"
    },
    "tags": []
   },
   "outputs": [],
   "source": [
    "with (open('/kaggle/input/output/imgData.pkl', \"rb\")) as openfile:\n",
    "     imgData = pickle.load(openfile)"
   ]
  },
  {
   "cell_type": "code",
   "execution_count": 5,
   "id": "14fd363e",
   "metadata": {
    "execution": {
     "iopub.execute_input": "2023-01-23T21:31:22.192709Z",
     "iopub.status.busy": "2023-01-23T21:31:22.192206Z",
     "iopub.status.idle": "2023-01-23T21:31:22.196860Z",
     "shell.execute_reply": "2023-01-23T21:31:22.195561Z"
    },
    "papermill": {
     "duration": 0.014039,
     "end_time": "2023-01-23T21:31:22.199617",
     "exception": false,
     "start_time": "2023-01-23T21:31:22.185578",
     "status": "completed"
    },
    "tags": []
   },
   "outputs": [],
   "source": [
    "#datacancer = pd.read_csv(datasetPath)\n",
    "#imgDataFrame = {'cancer':datacancer['cancer'][:50], 'img_data':imgData}\n",
    "#imgData2 = pd.DataFrame(imgDataFrame)\n",
    "\n",
    "#imgData=imgData2"
   ]
  },
  {
   "cell_type": "code",
   "execution_count": 6,
   "id": "b7b6be73",
   "metadata": {
    "execution": {
     "iopub.execute_input": "2023-01-23T21:31:22.212770Z",
     "iopub.status.busy": "2023-01-23T21:31:22.212406Z",
     "iopub.status.idle": "2023-01-23T21:31:22.323419Z",
     "shell.execute_reply": "2023-01-23T21:31:22.322000Z"
    },
    "papermill": {
     "duration": 0.120096,
     "end_time": "2023-01-23T21:31:22.325538",
     "exception": false,
     "start_time": "2023-01-23T21:31:22.205442",
     "status": "completed"
    },
    "tags": []
   },
   "outputs": [],
   "source": [
    "imgdata_pos = imgData[imgData['cancer'] == 1]\n",
    "imgdata_neg = imgData[imgData['cancer'] == 0]\n",
    "\n",
    "imgdata_pos = imgdata_pos.sample(frac = 1)\n",
    "imgdata_neg = imgdata_neg.sample(frac = 1)\n",
    "\n",
    "imgdata_neg = imgdata_neg.sample(frac= 1)\n",
    "\n",
    "frames = 10*[imgdata_pos]\n",
    "frames.append(imgdata_neg)\n",
    "imgdata_shuff = pd.concat(frames)\n",
    "imgdata_shuff = imgdata_shuff.sample(frac=1)"
   ]
  },
  {
   "cell_type": "code",
   "execution_count": 7,
   "id": "3c56418f",
   "metadata": {
    "execution": {
     "iopub.execute_input": "2023-01-23T21:31:22.337605Z",
     "iopub.status.busy": "2023-01-23T21:31:22.337266Z",
     "iopub.status.idle": "2023-01-23T21:31:22.349139Z",
     "shell.execute_reply": "2023-01-23T21:31:22.347521Z"
    },
    "papermill": {
     "duration": 0.020619,
     "end_time": "2023-01-23T21:31:22.351496",
     "exception": false,
     "start_time": "2023-01-23T21:31:22.330877",
     "status": "completed"
    },
    "tags": []
   },
   "outputs": [
    {
     "name": "stdout",
     "output_type": "stream",
     "text": [
      "0    53548\n",
      "1    11580\n",
      "Name: cancer, dtype: int64\n"
     ]
    }
   ],
   "source": [
    "print(imgdata_shuff['cancer'].value_counts())"
   ]
  },
  {
   "cell_type": "code",
   "execution_count": 8,
   "id": "48e36305",
   "metadata": {
    "execution": {
     "iopub.execute_input": "2023-01-23T21:31:22.364640Z",
     "iopub.status.busy": "2023-01-23T21:31:22.364310Z",
     "iopub.status.idle": "2023-01-23T21:31:22.371799Z",
     "shell.execute_reply": "2023-01-23T21:31:22.370614Z"
    },
    "papermill": {
     "duration": 0.01601,
     "end_time": "2023-01-23T21:31:22.373946",
     "exception": false,
     "start_time": "2023-01-23T21:31:22.357936",
     "status": "completed"
    },
    "tags": []
   },
   "outputs": [],
   "source": [
    "def random_rotate(imgData):\n",
    "    imgData = imgData.reshape(128,128)\n",
    "    imgData = im.fromarray(imgData)\n",
    "    imgData = np.asarray(imgData.rotate(random.randint(-10, 10)))\n",
    "    return imgData"
   ]
  },
  {
   "cell_type": "code",
   "execution_count": 9,
   "id": "7033738a",
   "metadata": {
    "execution": {
     "iopub.execute_input": "2023-01-23T21:31:22.386050Z",
     "iopub.status.busy": "2023-01-23T21:31:22.385706Z",
     "iopub.status.idle": "2023-01-23T21:31:31.263090Z",
     "shell.execute_reply": "2023-01-23T21:31:31.260985Z"
    },
    "papermill": {
     "duration": 8.885996,
     "end_time": "2023-01-23T21:31:31.265319",
     "exception": false,
     "start_time": "2023-01-23T21:31:22.379323",
     "status": "completed"
    },
    "tags": []
   },
   "outputs": [
    {
     "name": "stderr",
     "output_type": "stream",
     "text": [
      "100%|██████████| 65128/65128 [00:08<00:00, 7360.67it/s]\n"
     ]
    }
   ],
   "source": [
    "imgDataList=[]\n",
    "for j in tqdm(imgdata_shuff['img_data']):\n",
    "    imgDataList.append(random_rotate(j))\n",
    "imgdata_shuff['img_data'] = imgDataList"
   ]
  },
  {
   "cell_type": "code",
   "execution_count": 10,
   "id": "c13ae0bf",
   "metadata": {
    "execution": {
     "iopub.execute_input": "2023-01-23T21:31:31.287227Z",
     "iopub.status.busy": "2023-01-23T21:31:31.286882Z",
     "iopub.status.idle": "2023-01-23T21:31:52.347518Z",
     "shell.execute_reply": "2023-01-23T21:31:52.345677Z"
    },
    "papermill": {
     "duration": 21.074453,
     "end_time": "2023-01-23T21:31:52.350224",
     "exception": false,
     "start_time": "2023-01-23T21:31:31.275771",
     "status": "completed"
    },
    "tags": []
   },
   "outputs": [],
   "source": [
    "from sklearn.model_selection import train_test_split\n",
    "train,test = train_test_split(imgdata_shuff, test_size=0.25, random_state=42, shuffle=True)\n",
    "\n",
    "\n",
    "train_target = np.array(train['cancer'])\n",
    "train_features=[]\n",
    "for i in train['img_data']:\n",
    "    train_features.append([i])\n",
    "train_features=np.array(train_features)\n",
    "\n",
    "\n",
    "from sklearn.preprocessing import StandardScaler\n",
    "\n",
    "scaler = StandardScaler()\n",
    "norm_features= []\n",
    "for i in range(len(train_features)):\n",
    "    norm_features.append(scaler.fit_transform(train_features[i][0]))\n",
    "train_features=np.array(norm_features)\n",
    "\n",
    "train_features = train_features.reshape(len(train_features),128,128,1)\n",
    "\n"
   ]
  },
  {
   "cell_type": "code",
   "execution_count": 11,
   "id": "edf074ee",
   "metadata": {
    "execution": {
     "iopub.execute_input": "2023-01-23T21:31:52.372970Z",
     "iopub.status.busy": "2023-01-23T21:31:52.372543Z",
     "iopub.status.idle": "2023-01-23T21:31:52.562128Z",
     "shell.execute_reply": "2023-01-23T21:31:52.561121Z"
    },
    "papermill": {
     "duration": 0.203416,
     "end_time": "2023-01-23T21:31:52.564029",
     "exception": false,
     "start_time": "2023-01-23T21:31:52.360613",
     "status": "completed"
    },
    "tags": []
   },
   "outputs": [
    {
     "name": "stderr",
     "output_type": "stream",
     "text": [
      "2023-01-23 21:31:52.420569: I tensorflow/core/common_runtime/process_util.cc:146] Creating new thread pool with default inter op setting: 2. Tune using inter_op_parallelism_threads for best performance.\n"
     ]
    }
   ],
   "source": [
    "from keras.models import Sequential\n",
    "from keras.layers import LeakyReLU\n",
    "from keras.layers import Dense, Conv2D, Flatten,MaxPooling2D, Dropout, GlobalMaxPooling2D\n",
    "model = Sequential()\n",
    "model.add(Conv2D(32, 3, activation = \"relu\", input_shape = (128,128,1)))\n",
    "model.add(MaxPooling2D())\n",
    "model.add(LeakyReLU(alpha=0.05))\n",
    "model.add(Dropout(0.3))\n",
    "model.add(Conv2D(16, 3, activation = \"relu\"))\n",
    "model.add(MaxPooling2D())\n",
    "model.add(LeakyReLU(alpha=0.05))\n",
    "model.add(Conv2D(8, 3, activation = \"relu\"))\n",
    "model.add(MaxPooling2D())\n",
    "model.add(Dropout(0.4))\n",
    "model.add(Flatten())\n",
    "model.add(Dense(128, activation = 'relu')) \n",
    "model.add(LeakyReLU(alpha=0.1))\n",
    "#model.add(Dense(64, activation = 'relu')) \n",
    "#model.add(LeakyReLU(alpha=0.2))\n",
    "model.add(Dropout(0.2))\n",
    "model.add(Dense(1, activation = 'sigmoid'))\n",
    "\n",
    "\n",
    "\n",
    "\n",
    "from keras import backend as K\n",
    "def recall_m(y_true, y_pred):\n",
    "    true_positives = K.sum(K.round(K.clip(y_true * y_pred, 0, 1)))\n",
    "    possible_positives = K.sum(K.round(K.clip(y_true, 0, 1)))\n",
    "    recall = true_positives / (possible_positives )\n",
    "    return recall\n",
    "\n",
    "def precision_m(y_true, y_pred):\n",
    "    true_positives = K.sum(K.round(K.clip(y_true * y_pred, 0, 1)))\n",
    "    predicted_positives = K.sum(K.round(K.clip(y_pred, 0, 1)))\n",
    "    precision = true_positives / (predicted_positives )\n",
    "    return precision\n",
    "\n",
    "def f1_m(y_true, y_pred):\n",
    "    precision = precision_m(y_true, y_pred)\n",
    "    recall = recall_m(y_true, y_pred)\n",
    "    return 2*((precision*recall)/(precision+recall))\n",
    "\n",
    "\n",
    "\n",
    "\n",
    "\n",
    "#loss = tf.keras.losses.BinaryFocalCrossentropy(\\\n",
    "#    apply_class_balancing=True, gamma=5, from_logits=True,\\\n",
    "#    reduction=tf.keras.losses.Reduction.NONE)\n",
    "model.compile(optimizer =tf.keras.optimizers.Adam(learning_rate=0.0001),\\\n",
    "              loss= 'binary_crossentropy', metrics=['accuracy'])\n",
    "\n"
   ]
  },
  {
   "cell_type": "code",
   "execution_count": 12,
   "id": "01d9b7a3",
   "metadata": {
    "execution": {
     "iopub.execute_input": "2023-01-23T21:31:52.587158Z",
     "iopub.status.busy": "2023-01-23T21:31:52.586780Z",
     "iopub.status.idle": "2023-01-24T02:01:04.306514Z",
     "shell.execute_reply": "2023-01-24T02:01:04.305391Z"
    },
    "papermill": {
     "duration": 16154.696732,
     "end_time": "2023-01-24T02:01:07.271182",
     "exception": false,
     "start_time": "2023-01-23T21:31:52.574450",
     "status": "completed"
    },
    "tags": []
   },
   "outputs": [
    {
     "name": "stderr",
     "output_type": "stream",
     "text": [
      "2023-01-23 21:31:53.584631: I tensorflow/compiler/mlir/mlir_graph_optimization_pass.cc:185] None of the MLIR Optimization Passes are enabled (registered 2)\n"
     ]
    },
    {
     "name": "stdout",
     "output_type": "stream",
     "text": [
      "Epoch 1/100\n",
      "535/535 [==============================] - 159s 296ms/step - loss: 1.2946 - accuracy: 0.2423 - val_loss: 0.7579 - val_accuracy: 0.2475\n",
      "Epoch 2/100\n",
      "535/535 [==============================] - 158s 295ms/step - loss: 1.2740 - accuracy: 0.3338 - val_loss: 0.7227 - val_accuracy: 0.4483\n",
      "Epoch 3/100\n",
      "535/535 [==============================] - 158s 295ms/step - loss: 1.2612 - accuracy: 0.4083 - val_loss: 0.7030 - val_accuracy: 0.5283\n",
      "Epoch 4/100\n",
      "535/535 [==============================] - 157s 294ms/step - loss: 1.2499 - accuracy: 0.4441 - val_loss: 0.7342 - val_accuracy: 0.4442\n",
      "Epoch 5/100\n",
      "535/535 [==============================] - 158s 296ms/step - loss: 1.2417 - accuracy: 0.4392 - val_loss: 0.7401 - val_accuracy: 0.4402\n",
      "Epoch 6/100\n",
      "535/535 [==============================] - 160s 300ms/step - loss: 1.2331 - accuracy: 0.4599 - val_loss: 0.7150 - val_accuracy: 0.4816\n",
      "Epoch 7/100\n",
      "535/535 [==============================] - 163s 304ms/step - loss: 1.2255 - accuracy: 0.4711 - val_loss: 0.7288 - val_accuracy: 0.4616\n",
      "Epoch 8/100\n",
      "535/535 [==============================] - 160s 299ms/step - loss: 1.2125 - accuracy: 0.4820 - val_loss: 0.7043 - val_accuracy: 0.4864\n",
      "Epoch 9/100\n",
      "535/535 [==============================] - 158s 295ms/step - loss: 1.2023 - accuracy: 0.4920 - val_loss: 0.7341 - val_accuracy: 0.4539\n",
      "Epoch 10/100\n",
      "535/535 [==============================] - 158s 294ms/step - loss: 1.1898 - accuracy: 0.5049 - val_loss: 0.6770 - val_accuracy: 0.5501\n",
      "Epoch 11/100\n",
      "535/535 [==============================] - 158s 296ms/step - loss: 1.1811 - accuracy: 0.5202 - val_loss: 0.6941 - val_accuracy: 0.5210\n",
      "Epoch 12/100\n",
      "535/535 [==============================] - 159s 296ms/step - loss: 1.1682 - accuracy: 0.5328 - val_loss: 0.7342 - val_accuracy: 0.4612\n",
      "Epoch 13/100\n",
      "535/535 [==============================] - 160s 298ms/step - loss: 1.1669 - accuracy: 0.5312 - val_loss: 0.6953 - val_accuracy: 0.5130\n",
      "Epoch 14/100\n",
      "535/535 [==============================] - 161s 301ms/step - loss: 1.1445 - accuracy: 0.5509 - val_loss: 0.7098 - val_accuracy: 0.4945\n",
      "Epoch 15/100\n",
      "535/535 [==============================] - 160s 298ms/step - loss: 1.1381 - accuracy: 0.5612 - val_loss: 0.7028 - val_accuracy: 0.5096\n",
      "Epoch 16/100\n",
      "535/535 [==============================] - 160s 298ms/step - loss: 1.1258 - accuracy: 0.5734 - val_loss: 0.6916 - val_accuracy: 0.5232\n",
      "Epoch 17/100\n",
      "535/535 [==============================] - 161s 301ms/step - loss: 1.1125 - accuracy: 0.5840 - val_loss: 0.6770 - val_accuracy: 0.5462\n",
      "Epoch 18/100\n",
      "535/535 [==============================] - 159s 298ms/step - loss: 1.0886 - accuracy: 0.6024 - val_loss: 0.6822 - val_accuracy: 0.5399\n",
      "Epoch 19/100\n",
      "535/535 [==============================] - 160s 298ms/step - loss: 1.0855 - accuracy: 0.6039 - val_loss: 0.6936 - val_accuracy: 0.5364\n",
      "Epoch 20/100\n",
      "535/535 [==============================] - 161s 301ms/step - loss: 1.0716 - accuracy: 0.6134 - val_loss: 0.6316 - val_accuracy: 0.6164\n",
      "Epoch 21/100\n",
      "535/535 [==============================] - 160s 299ms/step - loss: 1.0529 - accuracy: 0.6275 - val_loss: 0.6550 - val_accuracy: 0.5784\n",
      "Epoch 22/100\n",
      "535/535 [==============================] - 160s 298ms/step - loss: 1.0377 - accuracy: 0.6399 - val_loss: 0.6801 - val_accuracy: 0.5529\n",
      "Epoch 23/100\n",
      "535/535 [==============================] - 159s 297ms/step - loss: 1.0240 - accuracy: 0.6421 - val_loss: 0.6635 - val_accuracy: 0.5783\n",
      "Epoch 24/100\n",
      "535/535 [==============================] - 159s 297ms/step - loss: 1.0104 - accuracy: 0.6553 - val_loss: 0.6265 - val_accuracy: 0.6321\n",
      "Epoch 25/100\n",
      "535/535 [==============================] - 160s 299ms/step - loss: 0.9934 - accuracy: 0.6639 - val_loss: 0.6208 - val_accuracy: 0.6246\n",
      "Epoch 26/100\n",
      "535/535 [==============================] - 160s 298ms/step - loss: 0.9721 - accuracy: 0.6800 - val_loss: 0.6154 - val_accuracy: 0.6342\n",
      "Epoch 27/100\n",
      "535/535 [==============================] - 159s 298ms/step - loss: 0.9646 - accuracy: 0.6787 - val_loss: 0.5973 - val_accuracy: 0.6542\n",
      "Epoch 28/100\n",
      "535/535 [==============================] - 160s 298ms/step - loss: 0.9576 - accuracy: 0.6841 - val_loss: 0.6156 - val_accuracy: 0.6293\n",
      "Epoch 29/100\n",
      "535/535 [==============================] - 159s 297ms/step - loss: 0.9378 - accuracy: 0.6947 - val_loss: 0.6300 - val_accuracy: 0.6209\n",
      "Epoch 30/100\n",
      "535/535 [==============================] - 161s 302ms/step - loss: 0.9210 - accuracy: 0.7028 - val_loss: 0.5964 - val_accuracy: 0.6591\n",
      "Epoch 31/100\n",
      "535/535 [==============================] - 160s 300ms/step - loss: 0.9101 - accuracy: 0.7101 - val_loss: 0.5605 - val_accuracy: 0.6879\n",
      "Epoch 32/100\n",
      "535/535 [==============================] - 161s 301ms/step - loss: 0.8901 - accuracy: 0.7166 - val_loss: 0.5516 - val_accuracy: 0.7012\n",
      "Epoch 33/100\n",
      "535/535 [==============================] - 160s 300ms/step - loss: 0.8745 - accuracy: 0.7288 - val_loss: 0.5832 - val_accuracy: 0.6692\n",
      "Epoch 34/100\n",
      "535/535 [==============================] - 161s 301ms/step - loss: 0.8684 - accuracy: 0.7282 - val_loss: 0.5529 - val_accuracy: 0.6969\n",
      "Epoch 35/100\n",
      "535/535 [==============================] - 161s 300ms/step - loss: 0.8552 - accuracy: 0.7353 - val_loss: 0.5752 - val_accuracy: 0.6787\n",
      "Epoch 36/100\n",
      "535/535 [==============================] - 160s 299ms/step - loss: 0.8293 - accuracy: 0.7412 - val_loss: 0.5098 - val_accuracy: 0.7403\n",
      "Epoch 37/100\n",
      "535/535 [==============================] - 161s 301ms/step - loss: 0.8132 - accuracy: 0.7525 - val_loss: 0.5321 - val_accuracy: 0.7166\n",
      "Epoch 38/100\n",
      "535/535 [==============================] - 161s 301ms/step - loss: 0.8148 - accuracy: 0.7530 - val_loss: 0.5251 - val_accuracy: 0.7217\n",
      "Epoch 39/100\n",
      "535/535 [==============================] - 160s 300ms/step - loss: 0.8033 - accuracy: 0.7580 - val_loss: 0.5273 - val_accuracy: 0.7208\n",
      "Epoch 40/100\n",
      "535/535 [==============================] - 160s 300ms/step - loss: 0.7855 - accuracy: 0.7665 - val_loss: 0.5082 - val_accuracy: 0.7360\n",
      "Epoch 41/100\n",
      "535/535 [==============================] - 161s 302ms/step - loss: 0.7716 - accuracy: 0.7678 - val_loss: 0.4821 - val_accuracy: 0.7562\n",
      "Epoch 42/100\n",
      "535/535 [==============================] - 159s 297ms/step - loss: 0.7697 - accuracy: 0.7720 - val_loss: 0.5008 - val_accuracy: 0.7423\n",
      "Epoch 43/100\n",
      "535/535 [==============================] - 162s 302ms/step - loss: 0.7601 - accuracy: 0.7740 - val_loss: 0.4913 - val_accuracy: 0.7469\n",
      "Epoch 44/100\n",
      "535/535 [==============================] - 162s 302ms/step - loss: 0.7421 - accuracy: 0.7799 - val_loss: 0.4951 - val_accuracy: 0.7489\n",
      "Epoch 45/100\n",
      "535/535 [==============================] - 160s 299ms/step - loss: 0.7324 - accuracy: 0.7866 - val_loss: 0.4706 - val_accuracy: 0.7646\n",
      "Epoch 46/100\n",
      "535/535 [==============================] - 160s 300ms/step - loss: 0.7154 - accuracy: 0.7883 - val_loss: 0.4571 - val_accuracy: 0.7762\n",
      "Epoch 47/100\n",
      "535/535 [==============================] - 160s 300ms/step - loss: 0.7146 - accuracy: 0.7922 - val_loss: 0.4556 - val_accuracy: 0.7805\n",
      "Epoch 48/100\n",
      "535/535 [==============================] - 161s 300ms/step - loss: 0.6976 - accuracy: 0.7970 - val_loss: 0.4594 - val_accuracy: 0.7745\n",
      "Epoch 49/100\n",
      "535/535 [==============================] - 161s 302ms/step - loss: 0.6840 - accuracy: 0.8020 - val_loss: 0.4952 - val_accuracy: 0.7455\n",
      "Epoch 50/100\n",
      "535/535 [==============================] - 165s 308ms/step - loss: 0.6847 - accuracy: 0.8045 - val_loss: 0.4743 - val_accuracy: 0.7590\n",
      "Epoch 51/100\n",
      "535/535 [==============================] - 163s 305ms/step - loss: 0.6727 - accuracy: 0.8053 - val_loss: 0.4733 - val_accuracy: 0.7625\n",
      "Epoch 52/100\n",
      "535/535 [==============================] - 163s 305ms/step - loss: 0.6586 - accuracy: 0.8121 - val_loss: 0.4588 - val_accuracy: 0.7723\n",
      "Epoch 53/100\n",
      "535/535 [==============================] - 161s 302ms/step - loss: 0.6577 - accuracy: 0.8129 - val_loss: 0.4380 - val_accuracy: 0.7876\n",
      "Epoch 54/100\n",
      "535/535 [==============================] - 161s 301ms/step - loss: 0.6455 - accuracy: 0.8190 - val_loss: 0.4147 - val_accuracy: 0.8038\n",
      "Epoch 55/100\n",
      "535/535 [==============================] - 160s 298ms/step - loss: 0.6452 - accuracy: 0.8171 - val_loss: 0.4240 - val_accuracy: 0.7990\n",
      "Epoch 56/100\n",
      "535/535 [==============================] - 166s 311ms/step - loss: 0.6336 - accuracy: 0.8226 - val_loss: 0.4259 - val_accuracy: 0.7929\n",
      "Epoch 57/100\n",
      "535/535 [==============================] - 163s 304ms/step - loss: 0.6252 - accuracy: 0.8236 - val_loss: 0.4057 - val_accuracy: 0.8076\n",
      "Epoch 58/100\n",
      "535/535 [==============================] - 160s 299ms/step - loss: 0.6083 - accuracy: 0.8316 - val_loss: 0.4343 - val_accuracy: 0.7887\n",
      "Epoch 59/100\n",
      "535/535 [==============================] - 160s 299ms/step - loss: 0.6137 - accuracy: 0.8277 - val_loss: 0.4059 - val_accuracy: 0.8082\n",
      "Epoch 60/100\n",
      "535/535 [==============================] - 161s 301ms/step - loss: 0.5955 - accuracy: 0.8359 - val_loss: 0.3949 - val_accuracy: 0.8137\n",
      "Epoch 61/100\n",
      "535/535 [==============================] - 164s 306ms/step - loss: 0.5848 - accuracy: 0.8377 - val_loss: 0.3874 - val_accuracy: 0.8176\n",
      "Epoch 62/100\n",
      "535/535 [==============================] - 162s 303ms/step - loss: 0.5898 - accuracy: 0.8357 - val_loss: 0.3609 - val_accuracy: 0.8371\n",
      "Epoch 63/100\n",
      "535/535 [==============================] - 160s 300ms/step - loss: 0.5871 - accuracy: 0.8381 - val_loss: 0.3754 - val_accuracy: 0.8273\n",
      "Epoch 64/100\n",
      "535/535 [==============================] - 160s 299ms/step - loss: 0.5721 - accuracy: 0.8422 - val_loss: 0.3917 - val_accuracy: 0.8156\n",
      "Epoch 65/100\n",
      "535/535 [==============================] - 163s 304ms/step - loss: 0.5508 - accuracy: 0.8498 - val_loss: 0.3581 - val_accuracy: 0.8357\n",
      "Epoch 66/100\n",
      "535/535 [==============================] - 160s 300ms/step - loss: 0.5613 - accuracy: 0.8450 - val_loss: 0.3812 - val_accuracy: 0.8234\n",
      "Epoch 67/100\n",
      "535/535 [==============================] - 160s 300ms/step - loss: 0.5456 - accuracy: 0.8526 - val_loss: 0.3763 - val_accuracy: 0.8244\n",
      "Epoch 68/100\n",
      "535/535 [==============================] - 162s 303ms/step - loss: 0.5474 - accuracy: 0.8521 - val_loss: 0.3530 - val_accuracy: 0.8409\n",
      "Epoch 69/100\n",
      "535/535 [==============================] - 161s 301ms/step - loss: 0.5141 - accuracy: 0.8635 - val_loss: 0.3379 - val_accuracy: 0.8513\n",
      "Epoch 70/100\n",
      "535/535 [==============================] - 166s 311ms/step - loss: 0.5239 - accuracy: 0.8584 - val_loss: 0.3475 - val_accuracy: 0.8430\n",
      "Epoch 71/100\n",
      "535/535 [==============================] - 167s 312ms/step - loss: 0.5307 - accuracy: 0.8567 - val_loss: 0.3227 - val_accuracy: 0.8594\n",
      "Epoch 72/100\n",
      "535/535 [==============================] - 161s 302ms/step - loss: 0.5264 - accuracy: 0.8594 - val_loss: 0.3720 - val_accuracy: 0.8284\n",
      "Epoch 73/100\n",
      "535/535 [==============================] - 161s 301ms/step - loss: 0.5159 - accuracy: 0.8635 - val_loss: 0.3807 - val_accuracy: 0.8231\n",
      "Epoch 74/100\n",
      "535/535 [==============================] - 160s 299ms/step - loss: 0.5149 - accuracy: 0.8617 - val_loss: 0.3312 - val_accuracy: 0.8521\n",
      "Epoch 75/100\n",
      "535/535 [==============================] - 163s 305ms/step - loss: 0.5021 - accuracy: 0.8653 - val_loss: 0.3298 - val_accuracy: 0.8551\n",
      "Epoch 76/100\n",
      "535/535 [==============================] - 161s 302ms/step - loss: 0.4915 - accuracy: 0.8706 - val_loss: 0.3474 - val_accuracy: 0.8427\n",
      "Epoch 77/100\n",
      "535/535 [==============================] - 162s 303ms/step - loss: 0.4993 - accuracy: 0.8672 - val_loss: 0.3608 - val_accuracy: 0.8342\n",
      "Epoch 78/100\n",
      "535/535 [==============================] - 164s 306ms/step - loss: 0.4953 - accuracy: 0.8682 - val_loss: 0.3293 - val_accuracy: 0.8555\n",
      "Epoch 79/100\n",
      "535/535 [==============================] - 164s 306ms/step - loss: 0.4845 - accuracy: 0.8708 - val_loss: 0.3282 - val_accuracy: 0.8542\n",
      "Epoch 80/100\n",
      "535/535 [==============================] - 163s 305ms/step - loss: 0.4818 - accuracy: 0.8712 - val_loss: 0.3265 - val_accuracy: 0.8564\n",
      "Epoch 81/100\n",
      "535/535 [==============================] - 166s 310ms/step - loss: 0.4624 - accuracy: 0.8784 - val_loss: 0.3357 - val_accuracy: 0.8498\n",
      "Epoch 82/100\n",
      "535/535 [==============================] - 166s 310ms/step - loss: 0.4810 - accuracy: 0.8736 - val_loss: 0.3371 - val_accuracy: 0.8497\n",
      "Epoch 83/100\n",
      "535/535 [==============================] - 164s 306ms/step - loss: 0.4618 - accuracy: 0.8805 - val_loss: 0.3278 - val_accuracy: 0.8564\n",
      "Epoch 84/100\n",
      "535/535 [==============================] - 163s 304ms/step - loss: 0.4537 - accuracy: 0.8803 - val_loss: 0.3172 - val_accuracy: 0.8609\n",
      "Epoch 85/100\n",
      "535/535 [==============================] - 165s 309ms/step - loss: 0.4674 - accuracy: 0.8777 - val_loss: 0.3254 - val_accuracy: 0.8554\n",
      "Epoch 86/100\n",
      "535/535 [==============================] - 164s 307ms/step - loss: 0.4658 - accuracy: 0.8808 - val_loss: 0.3124 - val_accuracy: 0.8621\n",
      "Epoch 87/100\n",
      "535/535 [==============================] - 165s 308ms/step - loss: 0.4559 - accuracy: 0.8818 - val_loss: 0.2859 - val_accuracy: 0.8780\n",
      "Epoch 88/100\n",
      "535/535 [==============================] - 164s 306ms/step - loss: 0.4409 - accuracy: 0.8840 - val_loss: 0.3188 - val_accuracy: 0.8579\n",
      "Epoch 89/100\n",
      "535/535 [==============================] - 165s 309ms/step - loss: 0.4486 - accuracy: 0.8839 - val_loss: 0.3199 - val_accuracy: 0.8576\n",
      "Epoch 90/100\n",
      "535/535 [==============================] - 163s 304ms/step - loss: 0.4267 - accuracy: 0.8885 - val_loss: 0.3041 - val_accuracy: 0.8693\n",
      "Epoch 91/100\n",
      "535/535 [==============================] - 166s 310ms/step - loss: 0.4324 - accuracy: 0.8893 - val_loss: 0.3083 - val_accuracy: 0.8662\n",
      "Epoch 92/100\n",
      "535/535 [==============================] - 165s 308ms/step - loss: 0.4260 - accuracy: 0.8897 - val_loss: 0.2858 - val_accuracy: 0.8795\n",
      "Epoch 93/100\n",
      "535/535 [==============================] - 165s 308ms/step - loss: 0.4338 - accuracy: 0.8885 - val_loss: 0.2827 - val_accuracy: 0.8832\n",
      "Epoch 94/100\n",
      "535/535 [==============================] - 163s 306ms/step - loss: 0.4292 - accuracy: 0.8882 - val_loss: 0.2816 - val_accuracy: 0.8799\n",
      "Epoch 95/100\n",
      "535/535 [==============================] - 164s 306ms/step - loss: 0.4220 - accuracy: 0.8914 - val_loss: 0.2876 - val_accuracy: 0.8778\n",
      "Epoch 96/100\n",
      "535/535 [==============================] - 163s 305ms/step - loss: 0.4145 - accuracy: 0.8953 - val_loss: 0.3043 - val_accuracy: 0.8680\n",
      "Epoch 97/100\n",
      "535/535 [==============================] - 164s 307ms/step - loss: 0.4196 - accuracy: 0.8926 - val_loss: 0.2851 - val_accuracy: 0.8781\n",
      "Epoch 98/100\n",
      "535/535 [==============================] - 164s 306ms/step - loss: 0.4164 - accuracy: 0.8910 - val_loss: 0.2707 - val_accuracy: 0.8859\n",
      "Epoch 99/100\n",
      "535/535 [==============================] - 165s 307ms/step - loss: 0.4062 - accuracy: 0.8954 - val_loss: 0.2764 - val_accuracy: 0.8817\n",
      "Epoch 100/100\n",
      "535/535 [==============================] - 163s 305ms/step - loss: 0.4091 - accuracy: 0.8948 - val_loss: 0.2876 - val_accuracy: 0.8770\n"
     ]
    },
    {
     "data": {
      "text/plain": [
       "<keras.callbacks.History at 0x7f84721bba50>"
      ]
     },
     "execution_count": 12,
     "metadata": {},
     "output_type": "execute_result"
    }
   ],
   "source": [
    "weights = {0:1, 1:6}\n",
    "model.fit(train_features, train_target,  class_weight=weights,validation_split=0.3,batch_size = 64,epochs=100)\n",
    "\n",
    "\n"
   ]
  },
  {
   "cell_type": "code",
   "execution_count": 13,
   "id": "f60bbc01",
   "metadata": {
    "execution": {
     "iopub.execute_input": "2023-01-24T02:01:13.446059Z",
     "iopub.status.busy": "2023-01-24T02:01:13.445602Z",
     "iopub.status.idle": "2023-01-24T02:01:13.505586Z",
     "shell.execute_reply": "2023-01-24T02:01:13.503990Z"
    },
    "papermill": {
     "duration": 3.23992,
     "end_time": "2023-01-24T02:01:13.508374",
     "exception": false,
     "start_time": "2023-01-24T02:01:10.268454",
     "status": "completed"
    },
    "tags": []
   },
   "outputs": [],
   "source": [
    "model.save(\"/kaggle/working/trained_model_breast_cancer.h5\")"
   ]
  },
  {
   "cell_type": "code",
   "execution_count": 14,
   "id": "7fe02e19",
   "metadata": {
    "execution": {
     "iopub.execute_input": "2023-01-24T02:01:19.445938Z",
     "iopub.status.busy": "2023-01-24T02:01:19.445230Z",
     "iopub.status.idle": "2023-01-24T02:01:20.088468Z",
     "shell.execute_reply": "2023-01-24T02:01:20.087526Z"
    },
    "papermill": {
     "duration": 3.600223,
     "end_time": "2023-01-24T02:01:20.090693",
     "exception": false,
     "start_time": "2023-01-24T02:01:16.490470",
     "status": "completed"
    },
    "tags": []
   },
   "outputs": [],
   "source": [
    "from tensorflow import keras\n",
    "savedModel = keras.models.load_model(\"/kaggle/input/pre-trained-model-of-breast-cancer/trained_model_breast_cancer.h5\")\n",
    "\n"
   ]
  },
  {
   "cell_type": "code",
   "execution_count": 15,
   "id": "6f0b4890",
   "metadata": {
    "execution": {
     "iopub.execute_input": "2023-01-24T02:01:26.084015Z",
     "iopub.status.busy": "2023-01-24T02:01:26.083403Z",
     "iopub.status.idle": "2023-01-24T02:01:39.150649Z",
     "shell.execute_reply": "2023-01-24T02:01:39.149670Z"
    },
    "papermill": {
     "duration": 16.059184,
     "end_time": "2023-01-24T02:01:39.153045",
     "exception": false,
     "start_time": "2023-01-24T02:01:23.093861",
     "status": "completed"
    },
    "tags": []
   },
   "outputs": [],
   "source": [
    "test_features=[]\n",
    "for i in test['img_data']:\n",
    "    test_features.append([i])\n",
    "test_features=np.array(test_features)\n",
    " \n",
    "\n",
    "\n",
    "scaler = StandardScaler()\n",
    "norm_features= []\n",
    "for i in range(len(test_features)):\n",
    "    norm_features.append(scaler.fit_transform(test_features[i][0]))\n",
    "test_features=np.array(norm_features)\n",
    "\n",
    "\n",
    "test_features = test_features.reshape(len(test_features),128,128,1)\n",
    "\n",
    "\n",
    "test_target = np.array(test['cancer'])"
   ]
  },
  {
   "cell_type": "code",
   "execution_count": 16,
   "id": "123545e4",
   "metadata": {
    "execution": {
     "iopub.execute_input": "2023-01-24T02:01:45.424759Z",
     "iopub.status.busy": "2023-01-24T02:01:45.424405Z",
     "iopub.status.idle": "2023-01-24T02:02:08.748206Z",
     "shell.execute_reply": "2023-01-24T02:02:08.745243Z"
    },
    "papermill": {
     "duration": 26.326057,
     "end_time": "2023-01-24T02:02:08.753528",
     "exception": false,
     "start_time": "2023-01-24T02:01:42.427471",
     "status": "completed"
    },
    "tags": []
   },
   "outputs": [],
   "source": [
    "pred = model.predict(test_features)\n",
    "bin_pred = []\n",
    "for i in pred:\n",
    "    if i>=0.5:\n",
    "        bin_pred.append(1)\n",
    "    else:\n",
    "        bin_pred.append(0)\n",
    "bin_pred = np.array(bin_pred)\n"
   ]
  },
  {
   "cell_type": "code",
   "execution_count": 17,
   "id": "dcec7a84",
   "metadata": {
    "execution": {
     "iopub.execute_input": "2023-01-24T02:02:15.296359Z",
     "iopub.status.busy": "2023-01-24T02:02:15.295843Z",
     "iopub.status.idle": "2023-01-24T02:02:15.331515Z",
     "shell.execute_reply": "2023-01-24T02:02:15.330578Z"
    },
    "papermill": {
     "duration": 3.152438,
     "end_time": "2023-01-24T02:02:15.333402",
     "exception": false,
     "start_time": "2023-01-24T02:02:12.180964",
     "status": "completed"
    },
    "tags": []
   },
   "outputs": [
    {
     "name": "stdout",
     "output_type": "stream",
     "text": [
      "0.8706547107234983\n",
      "0.8620535714285714 0.9113300492610837\n"
     ]
    }
   ],
   "source": [
    "import sklearn\n",
    "acc = sklearn.metrics.accuracy_score(test_target, bin_pred)\n",
    "print(acc)\n",
    "\n",
    "countzero=0\n",
    "countone=0\n",
    "countzerot=0\n",
    "countonet=0\n",
    "for i, j in zip(test_target, bin_pred):\n",
    "    if i==0 and j==0:\n",
    "        countzero+=1\n",
    "    if i==1 and j==1:\n",
    "        countone+=1\n",
    "    if i==1:\n",
    "        countonet+=1\n",
    "    if i==0:\n",
    "        countzerot+=1\n",
    "print(countzero/countzerot,countone/countonet)"
   ]
  },
  {
   "cell_type": "code",
   "execution_count": 18,
   "id": "4228c225",
   "metadata": {
    "execution": {
     "iopub.execute_input": "2023-01-24T02:02:21.477972Z",
     "iopub.status.busy": "2023-01-24T02:02:21.477380Z",
     "iopub.status.idle": "2023-01-24T02:02:21.487324Z",
     "shell.execute_reply": "2023-01-24T02:02:21.485836Z"
    },
    "papermill": {
     "duration": 3.067223,
     "end_time": "2023-01-24T02:02:21.489970",
     "exception": false,
     "start_time": "2023-01-24T02:02:18.422747",
     "status": "completed"
    },
    "tags": []
   },
   "outputs": [
    {
     "name": "stdout",
     "output_type": "stream",
     "text": [
      "0.7109525116662091\n"
     ]
    }
   ],
   "source": [
    "\n",
    "def recall_m(y_true, y_pred):\n",
    "    true_positives = np.sum(np.round(np.clip(y_true * y_pred, 0, 1)))\n",
    "    possible_positives = np.sum(np.round(np.clip(y_true, 0, 1)))\n",
    "    recall = true_positives / (possible_positives )\n",
    "    return recall\n",
    "\n",
    "def precision_m(y_true, y_pred):\n",
    "    true_positives = np.sum(np.round(np.clip(y_true * y_pred, 0, 1)))\n",
    "    predicted_positives = np.sum(np.round(np.clip(y_pred, 0, 1)))\n",
    "    precision = true_positives / (predicted_positives )\n",
    "    return precision\n",
    "\n",
    "def f1_m(y_true, y_pred):\n",
    "    precision = precision_m(y_true, y_pred)\n",
    "    recall = recall_m(y_true, y_pred)\n",
    "    return 2*((precision*recall)/(precision+recall))\n",
    "\n",
    "\n",
    "print(f1_m(test_target,bin_pred))"
   ]
  },
  {
   "cell_type": "code",
   "execution_count": 19,
   "id": "b543a248",
   "metadata": {
    "execution": {
     "iopub.execute_input": "2023-01-24T02:02:27.589461Z",
     "iopub.status.busy": "2023-01-24T02:02:27.588819Z",
     "iopub.status.idle": "2023-01-24T02:02:52.368255Z",
     "shell.execute_reply": "2023-01-24T02:02:52.366721Z"
    },
    "papermill": {
     "duration": 27.8417,
     "end_time": "2023-01-24T02:02:52.371391",
     "exception": false,
     "start_time": "2023-01-24T02:02:24.529691",
     "status": "completed"
    },
    "tags": []
   },
   "outputs": [
    {
     "name": "stderr",
     "output_type": "stream",
     "text": [
      " 75%|███████▌  | 3/4 [00:00<00:00,  4.06it/s]\n"
     ]
    }
   ],
   "source": [
    "datasetPath = '/kaggle/input/rsna-breast-cancer-detection/test.csv'\n",
    "imgPath = '/kaggle/input/rsna-breast-cancer-detection/test_images/'\n",
    "\n",
    "testImgData = dcmToPix(datasetPath, imgPath)"
   ]
  },
  {
   "cell_type": "code",
   "execution_count": 20,
   "id": "bc766f17",
   "metadata": {
    "execution": {
     "iopub.execute_input": "2023-01-24T02:02:58.571411Z",
     "iopub.status.busy": "2023-01-24T02:02:58.571047Z",
     "iopub.status.idle": "2023-01-24T02:02:58.596232Z",
     "shell.execute_reply": "2023-01-24T02:02:58.594615Z"
    },
    "papermill": {
     "duration": 3.047812,
     "end_time": "2023-01-24T02:02:58.598917",
     "exception": false,
     "start_time": "2023-01-24T02:02:55.551105",
     "status": "completed"
    },
    "tags": []
   },
   "outputs": [],
   "source": [
    "datacancer = pd.read_csv(datasetPath)\n",
    "imgDataFrame = {'img_data':testImgData}\n",
    "imgData2 = pd.DataFrame(imgDataFrame)\n",
    "testImgData=imgData2\n",
    "imgdata_shuff = testImgData.sample(frac=1)"
   ]
  },
  {
   "cell_type": "code",
   "execution_count": 21,
   "id": "6036c69f",
   "metadata": {
    "execution": {
     "iopub.execute_input": "2023-01-24T02:03:04.674379Z",
     "iopub.status.busy": "2023-01-24T02:03:04.674041Z",
     "iopub.status.idle": "2023-01-24T02:03:04.688154Z",
     "shell.execute_reply": "2023-01-24T02:03:04.687170Z"
    },
    "papermill": {
     "duration": 3.035696,
     "end_time": "2023-01-24T02:03:04.689835",
     "exception": false,
     "start_time": "2023-01-24T02:03:01.654139",
     "status": "completed"
    },
    "tags": []
   },
   "outputs": [
    {
     "name": "stderr",
     "output_type": "stream",
     "text": [
      "100%|██████████| 4/4 [00:00<00:00, 1352.35it/s]\n"
     ]
    }
   ],
   "source": [
    "imgDataList=[]\n",
    "for j in tqdm(imgdata_shuff['img_data']):\n",
    "    imgDataList.append(random_rotate(j))\n",
    "imgdata_shuff['img_data'] = imgDataList"
   ]
  },
  {
   "cell_type": "code",
   "execution_count": 22,
   "id": "562a0ddd",
   "metadata": {
    "execution": {
     "iopub.execute_input": "2023-01-24T02:03:10.703688Z",
     "iopub.status.busy": "2023-01-24T02:03:10.703365Z",
     "iopub.status.idle": "2023-01-24T02:03:10.987298Z",
     "shell.execute_reply": "2023-01-24T02:03:10.986269Z"
    },
    "papermill": {
     "duration": 3.285663,
     "end_time": "2023-01-24T02:03:10.989630",
     "exception": false,
     "start_time": "2023-01-24T02:03:07.703967",
     "status": "completed"
    },
    "tags": []
   },
   "outputs": [],
   "source": [
    "test=imgdata_shuff\n",
    "\n",
    "\n",
    "test_features=[]\n",
    "for i in test['img_data']:\n",
    "    test_features.append([i])\n",
    "test_features=np.array(test_features)\n",
    "\n",
    "\n",
    "from sklearn.preprocessing import StandardScaler\n",
    "\n",
    "scaler = StandardScaler()\n",
    "norm_features= []\n",
    "for i in range(len(test_features)):\n",
    "    norm_features.append(scaler.fit_transform(test_features[i][0]))\n",
    "test_features=np.array(norm_features)\n",
    "\n",
    "test_features = test_features.reshape(len(test_features),128,128,1)\n",
    "\n"
   ]
  },
  {
   "cell_type": "code",
   "execution_count": 23,
   "id": "edc4dff4",
   "metadata": {
    "execution": {
     "iopub.execute_input": "2023-01-24T02:03:17.402052Z",
     "iopub.status.busy": "2023-01-24T02:03:17.401624Z",
     "iopub.status.idle": "2023-01-24T02:03:17.502976Z",
     "shell.execute_reply": "2023-01-24T02:03:17.501263Z"
    },
    "papermill": {
     "duration": 3.29101,
     "end_time": "2023-01-24T02:03:17.506077",
     "exception": false,
     "start_time": "2023-01-24T02:03:14.215067",
     "status": "completed"
    },
    "tags": []
   },
   "outputs": [
    {
     "name": "stdout",
     "output_type": "stream",
     "text": [
      "[0 0 0 0]\n"
     ]
    }
   ],
   "source": [
    "pred = model.predict(test_features)\n",
    "bin_pred = []\n",
    "for i in pred:\n",
    "    if i>=0.5:\n",
    "        bin_pred.append(1)\n",
    "    else:\n",
    "        bin_pred.append(0)\n",
    "bin_pred = np.array(bin_pred)\n",
    "print(bin_pred)"
   ]
  },
  {
   "cell_type": "code",
   "execution_count": 24,
   "id": "f8302264",
   "metadata": {
    "execution": {
     "iopub.execute_input": "2023-01-24T02:03:23.702847Z",
     "iopub.status.busy": "2023-01-24T02:03:23.702080Z",
     "iopub.status.idle": "2023-01-24T02:03:23.721812Z",
     "shell.execute_reply": "2023-01-24T02:03:23.720041Z"
    },
    "papermill": {
     "duration": 3.110745,
     "end_time": "2023-01-24T02:03:23.724419",
     "exception": false,
     "start_time": "2023-01-24T02:03:20.613674",
     "status": "completed"
    },
    "tags": []
   },
   "outputs": [
    {
     "name": "stdout",
     "output_type": "stream",
     "text": [
      "  prediction_id  cancer\n",
      "0       10008_L       0\n",
      "1       10008_L       0\n",
      "2       10008_R       0\n",
      "3       10008_R       0\n"
     ]
    }
   ],
   "source": [
    "testData = pd.read_csv('/kaggle/input/rsna-breast-cancer-detection/test.csv')\n",
    "\n",
    "submissionFrame={'prediction_id':testData['prediction_id'],'cancer':bin_pred}\n",
    "submission = pd.DataFrame(submissionFrame)\n",
    "print(submission)"
   ]
  }
 ],
 "metadata": {
  "kernelspec": {
   "display_name": "Python 3",
   "language": "python",
   "name": "python3"
  },
  "language_info": {
   "codemirror_mode": {
    "name": "ipython",
    "version": 3
   },
   "file_extension": ".py",
   "mimetype": "text/x-python",
   "name": "python",
   "nbconvert_exporter": "python",
   "pygments_lexer": "ipython3",
   "version": "3.7.12"
  },
  "papermill": {
   "default_parameters": {},
   "duration": 16396.856416,
   "end_time": "2023-01-24T02:03:30.502617",
   "environment_variables": {},
   "exception": null,
   "input_path": "__notebook__.ipynb",
   "output_path": "__notebook__.ipynb",
   "parameters": {},
   "start_time": "2023-01-23T21:30:13.646201",
   "version": "2.3.4"
  }
 },
 "nbformat": 4,
 "nbformat_minor": 5
}
