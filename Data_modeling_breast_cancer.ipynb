{
 "cells": [
  {
   "cell_type": "code",
   "execution_count": 1,
   "id": "4784ccfa",
   "metadata": {
    "execution": {
     "iopub.execute_input": "2023-01-28T11:54:55.773990Z",
     "iopub.status.busy": "2023-01-28T11:54:55.773001Z",
     "iopub.status.idle": "2023-01-28T11:55:03.857186Z",
     "shell.execute_reply": "2023-01-28T11:55:03.855705Z"
    },
    "papermill": {
     "duration": 8.096663,
     "end_time": "2023-01-28T11:55:03.860270",
     "exception": false,
     "start_time": "2023-01-28T11:54:55.763607",
     "status": "completed"
    },
    "tags": []
   },
   "outputs": [],
   "source": [
    "import numpy as np\n",
    "import pandas as pd\n",
    "import matplotlib.pyplot as plt\n",
    "import seaborn as sns\n",
    "import pickle\n",
    "import tensorflow as tf\n",
    "import tensorflow_io as tfio\n",
    "import os\n",
    "from tqdm import tqdm\n",
    "import cv2\n",
    "from PIL import Image\n",
    "from joblib import Parallel, delayed\n",
    "import gc\n",
    "from PIL import Image as im\n",
    "import random\n",
    "from scipy import ndimage\n"
   ]
  },
  {
   "cell_type": "code",
   "execution_count": 2,
   "id": "b0f2e767",
   "metadata": {
    "execution": {
     "iopub.execute_input": "2023-01-28T11:55:03.875477Z",
     "iopub.status.busy": "2023-01-28T11:55:03.874769Z",
     "iopub.status.idle": "2023-01-28T11:55:20.012017Z",
     "shell.execute_reply": "2023-01-28T11:55:20.010626Z"
    },
    "papermill": {
     "duration": 16.147854,
     "end_time": "2023-01-28T11:55:20.014750",
     "exception": false,
     "start_time": "2023-01-28T11:55:03.866896",
     "status": "completed"
    },
    "tags": []
   },
   "outputs": [
    {
     "name": "stdout",
     "output_type": "stream",
     "text": [
      "Collecting dicomsdl\r\n",
      "  Downloading dicomsdl-0.109.1-cp37-cp37m-manylinux_2_12_x86_64.manylinux2010_x86_64.whl (1.4 MB)\r\n",
      "\u001b[2K     \u001b[90m━━━━━━━━━━━━━━━━━━━━━━━━━━━━━━━━━━━━━━━━\u001b[0m \u001b[32m1.4/1.4 MB\u001b[0m \u001b[31m1.5 MB/s\u001b[0m eta \u001b[36m0:00:00\u001b[0m\r\n",
      "\u001b[?25hInstalling collected packages: dicomsdl\r\n",
      "Successfully installed dicomsdl-0.109.1\r\n",
      "\u001b[33mWARNING: Running pip as the 'root' user can result in broken permissions and conflicting behaviour with the system package manager. It is recommended to use a virtual environment instead: https://pip.pypa.io/warnings/venv\u001b[0m\u001b[33m\r\n",
      "\u001b[0m"
     ]
    }
   ],
   "source": [
    "import sys\n",
    "!{sys.executable} -m pip install dicomsdl\n",
    "#!pip install /kaggle/input/rsnapacks/dicomsdl-0.109.1-cp36-cp36m-manylinux_2_12_x86_64.manylinux2010_x86_64.whl\n",
    "import numpy as np\n",
    "import pandas as pd\n",
    "import matplotlib.pyplot as plt\n",
    "import seaborn as sns\n",
    "import pickle\n",
    "#import pydicom as dicom\n",
    "import dicomsdl as dicom\n",
    "import tensorflow as tf\n",
    "import tensorflow_io as tfio\n",
    "from PIL import Image as im\n",
    "import os\n",
    "from tqdm import tqdm\n",
    "import cv2\n",
    "from PIL import Image\n",
    "from joblib import Parallel, delayed\n",
    "import gc\n",
    "import random"
   ]
  },
  {
   "cell_type": "code",
   "execution_count": 3,
   "id": "60f39fb8",
   "metadata": {
    "execution": {
     "iopub.execute_input": "2023-01-28T11:55:20.032817Z",
     "iopub.status.busy": "2023-01-28T11:55:20.032365Z",
     "iopub.status.idle": "2023-01-28T11:55:20.056050Z",
     "shell.execute_reply": "2023-01-28T11:55:20.054852Z"
    },
    "papermill": {
     "duration": 0.03594,
     "end_time": "2023-01-28T11:55:20.058782",
     "exception": false,
     "start_time": "2023-01-28T11:55:20.022842",
     "status": "completed"
    },
    "tags": []
   },
   "outputs": [],
   "source": [
    "datasetPath = '/kaggle/input/rsna-breast-cancer-detection/train.csv'\n",
    "imgPath = '/kaggle/input/rsna-breast-cancer-detection/train_images/'\n",
    "\n",
    "def crop(sideName, imgName):\n",
    "    \"\"\"\n",
    "    This function is used to crop the breast images. It takes two arguments.\n",
    "    \n",
    "    Input:-\n",
    "    :sideName = Laterality of breast if it is right or left\n",
    "    :imgName = Image pixel data of the DCM images\n",
    "    \n",
    "    Output:-\n",
    "    :return = Output after cropping the image.\n",
    "    \n",
    "    \"\"\"\n",
    "    if sideName == 'L':\n",
    "        colind=[]\n",
    "        for r,row in enumerate(imgName):\n",
    "            for c,col in enumerate(row):\n",
    "                if col==0:\n",
    "                    colind.append(c)\n",
    "                    break\n",
    "        crop_size = max(colind)\n",
    "        imgName = imgName[0:512,0:crop_size]\n",
    "        imgName = cv2.resize(imgName,(128,128))\n",
    "        \n",
    "    if sideName == 'R':\n",
    "        colind=[]\n",
    "        for r,row in enumerate(imgName):\n",
    "            for c,col in enumerate(row):\n",
    "                if col!=0:\n",
    "                    colind.append(c)\n",
    "                    break\n",
    "        crop_size = min(colind)\n",
    "        imgName = imgName[0:512,crop_size:512]\n",
    "        imgName = cv2.resize(imgName,(128,128))\n",
    "    \n",
    "    return imgName    \n",
    "\n",
    "    gc.collect()\n",
    "    \n",
    "def crop_reverse(sideName, imgName):\n",
    "    \n",
    "    \"\"\"\n",
    "    This function is used to crop the breast images but in the reverse order.\n",
    "    Because the laterality is defined wrongly for some images. It takes two arguments.\n",
    "    \n",
    "    Input:-\n",
    "    :sideName = Laterality of breast if it is right or left\n",
    "    :imgName = Image pixel data of the DCM images\n",
    "    \n",
    "    Output:-\n",
    "    :return = Output after cropping the image.\n",
    "    \n",
    "    \"\"\"\n",
    "    \n",
    "    if sideName == 'R':\n",
    "        colind=[]\n",
    "        for r,row in enumerate(imgName):\n",
    "            for c,col in enumerate(row):\n",
    "                if col==0:\n",
    "                    colind.append(c)\n",
    "                    break\n",
    "        crop_size = max(colind)\n",
    "        imgName = imgName[0:512,0:crop_size]\n",
    "        imgName = cv2.resize(imgName,(128,128))\n",
    "        \n",
    "    if sideName == 'L':\n",
    "        colind=[]\n",
    "        for r,row in enumerate(imgName):\n",
    "            for c,col in enumerate(row):\n",
    "                if col!=0:\n",
    "                    colind.append(c)\n",
    "                    break\n",
    "        crop_size = min(colind)\n",
    "        imgName = imgName[0:512,crop_size:512]\n",
    "        imgName = cv2.resize(imgName,(128,128))\n",
    "    \n",
    "    return imgName    \n",
    "\n",
    "    gc.collect()\n",
    "    \n",
    "\n",
    "def img_process(i,filename,sides):\n",
    "    \n",
    "    \"\"\"\n",
    "    This function is used to process the images which will be used for the training/test dataset. It takes three arguments.\n",
    "    \n",
    "    Input:-\n",
    "    :i = Index of the image in the dataframe\n",
    "    :filename = Path of the image\n",
    "    :sides = List of all images' laterality\n",
    "    \n",
    "    Output:-\n",
    "    :return = Output after cropping the image.\n",
    "    \n",
    "    \"\"\"\n",
    "    \n",
    "    \n",
    "    #ds = dicom.dcmread(filename)\n",
    "    dsraw = dicom.open(filename)\n",
    "    ds = dsraw.pixelData()\n",
    "    \n",
    "    ds = (ds - ds.min()) / (ds.max() - ds.min())\n",
    "    if dsraw.PhotometricInterpretation == \"MONOCHROME1\":  \n",
    "        ds = 1 - ds\n",
    "    ds = (ds * 255).astype(np.uint8)\n",
    "\n",
    "    \n",
    "    #ds = cv2.normalize(ds, None, 0, 1.0, cv2.NORM_MINMAX, dtype=cv2.CV_32F)\n",
    "    ds = cv2.resize(ds,(512,512))\n",
    "    \n",
    "    #ds = np.where(ds >= 0.999, 0,ds)\n",
    "    \n",
    "    try:\n",
    "        ds = np.array(crop(sides[i], ds))   \n",
    "    except:\n",
    "        ds = np.array(crop_reverse(sides[i], ds))\n",
    "    \n",
    "\n",
    "    #train_data.loc[i,'img_data'] = [img_fin]\n",
    "    #train_data.to_csv('/kaggle/working/training_img_data.csv') \n",
    "    return ds\n",
    "    gc.collect()\n",
    "\n",
    "def dcmToPix(datasetPath, imgPath):\n",
    "    \n",
    "    \"\"\"\n",
    "    This function is used to process all the images which will be used for the training/test dataset. It takes two arguments.\n",
    "    \n",
    "    Input:-\n",
    "    :datasetPath = Path of the cancer dataset\n",
    "    :imgPath = Path of the image dataset\n",
    "   \n",
    "    Output:-\n",
    "    :return = Array of all the processed images\n",
    "    \n",
    "    \"\"\"\n",
    "    \n",
    "    \n",
    "    dataset = pd.read_csv(datasetPath)\n",
    "    \n",
    "    patient_ids = dataset['patient_id']\n",
    "    image_ids = dataset['image_id']\n",
    "    sides  = dataset['laterality']\n",
    "\n",
    "    imgData = []\n",
    "\n",
    "    for pi, ii, leng in zip(patient_ids, image_ids, range(len(patient_ids))):\n",
    "        imgData.append(imgPath + str(pi) + '/' + str(ii) + '.dcm')\n",
    "\n",
    "    dataset['img_data'] = \" \"\n",
    "    \n",
    "    result = Parallel(n_jobs=128)(\\\n",
    "    delayed(img_process)(i, fname, sides) for i, fname in zip(range(len(imgData)),tqdm(imgData))\\\n",
    "    )\n",
    "    \n",
    "    dataset['img_data'] = result\n",
    "    dataset.to_pickle('imgData.pkl' )\n",
    "    \n",
    "    return result\n",
    "    "
   ]
  },
  {
   "cell_type": "code",
   "execution_count": 4,
   "id": "aaea949c",
   "metadata": {
    "_cell_guid": "b1076dfc-b9ad-4769-8c92-a6c4dae69d19",
    "_uuid": "8f2839f25d086af736a60e9eeb907d3b93b6e0e5",
    "execution": {
     "iopub.execute_input": "2023-01-28T11:55:20.076835Z",
     "iopub.status.busy": "2023-01-28T11:55:20.076059Z",
     "iopub.status.idle": "2023-01-28T11:55:30.441370Z",
     "shell.execute_reply": "2023-01-28T11:55:30.440057Z"
    },
    "papermill": {
     "duration": 10.377605,
     "end_time": "2023-01-28T11:55:30.444380",
     "exception": false,
     "start_time": "2023-01-28T11:55:20.066775",
     "status": "completed"
    },
    "tags": []
   },
   "outputs": [],
   "source": [
    "with (open('/kaggle/input/output/imgData.pkl', \"rb\")) as openfile:\n",
    "     imgData = pickle.load(openfile)"
   ]
  },
  {
   "cell_type": "code",
   "execution_count": 5,
   "id": "b7112cac",
   "metadata": {
    "execution": {
     "iopub.execute_input": "2023-01-28T11:55:30.463581Z",
     "iopub.status.busy": "2023-01-28T11:55:30.462230Z",
     "iopub.status.idle": "2023-01-28T11:55:30.467033Z",
     "shell.execute_reply": "2023-01-28T11:55:30.466167Z"
    },
    "papermill": {
     "duration": 0.016515,
     "end_time": "2023-01-28T11:55:30.469252",
     "exception": false,
     "start_time": "2023-01-28T11:55:30.452737",
     "status": "completed"
    },
    "tags": []
   },
   "outputs": [],
   "source": [
    "#datacancer = pd.read_csv(datasetPath)\n",
    "#imgDataFrame = {'cancer':datacancer['cancer'][:50], 'img_data':imgData}\n",
    "#imgData2 = pd.DataFrame(imgDataFrame)\n",
    "\n",
    "#imgData=imgData2"
   ]
  },
  {
   "cell_type": "code",
   "execution_count": 6,
   "id": "feb8cd00",
   "metadata": {
    "execution": {
     "iopub.execute_input": "2023-01-28T11:55:30.487453Z",
     "iopub.status.busy": "2023-01-28T11:55:30.486256Z",
     "iopub.status.idle": "2023-01-28T11:55:30.705021Z",
     "shell.execute_reply": "2023-01-28T11:55:30.703871Z"
    },
    "papermill": {
     "duration": 0.230591,
     "end_time": "2023-01-28T11:55:30.707766",
     "exception": false,
     "start_time": "2023-01-28T11:55:30.477175",
     "status": "completed"
    },
    "tags": []
   },
   "outputs": [],
   "source": [
    "imgdata_pos = imgData[imgData['cancer'] == 1]\n",
    "imgdata_neg = imgData[imgData['cancer'] == 0]\n",
    "\n",
    "imgdata_pos = imgdata_pos.sample(frac = 1)\n",
    "imgdata_neg = imgdata_neg.sample(frac = 1)\n",
    "\n",
    "imgdata_neg = imgdata_neg.sample(frac= 1)\n",
    "\n",
    "frames = 45*[imgdata_pos]\n",
    "frames.append(imgdata_neg)\n",
    "imgdata_shuff = pd.concat(frames)\n",
    "imgdata_shuff = imgdata_shuff.sample(frac=1)"
   ]
  },
  {
   "cell_type": "code",
   "execution_count": 7,
   "id": "b5f602bd",
   "metadata": {
    "execution": {
     "iopub.execute_input": "2023-01-28T11:55:30.727106Z",
     "iopub.status.busy": "2023-01-28T11:55:30.726676Z",
     "iopub.status.idle": "2023-01-28T11:55:30.737706Z",
     "shell.execute_reply": "2023-01-28T11:55:30.736562Z"
    },
    "papermill": {
     "duration": 0.02384,
     "end_time": "2023-01-28T11:55:30.741341",
     "exception": false,
     "start_time": "2023-01-28T11:55:30.717501",
     "status": "completed"
    },
    "tags": []
   },
   "outputs": [
    {
     "name": "stdout",
     "output_type": "stream",
     "text": [
      "0    53548\n",
      "1    52110\n",
      "Name: cancer, dtype: int64\n"
     ]
    }
   ],
   "source": [
    "print(imgdata_shuff['cancer'].value_counts())"
   ]
  },
  {
   "cell_type": "code",
   "execution_count": 8,
   "id": "8999c9b4",
   "metadata": {
    "execution": {
     "iopub.execute_input": "2023-01-28T11:55:30.760130Z",
     "iopub.status.busy": "2023-01-28T11:55:30.759700Z",
     "iopub.status.idle": "2023-01-28T11:55:30.766521Z",
     "shell.execute_reply": "2023-01-28T11:55:30.765359Z"
    },
    "papermill": {
     "duration": 0.018407,
     "end_time": "2023-01-28T11:55:30.768838",
     "exception": false,
     "start_time": "2023-01-28T11:55:30.750431",
     "status": "completed"
    },
    "tags": []
   },
   "outputs": [],
   "source": [
    "def random_rotate(imgData):\n",
    "    #thresh = 0.15\n",
    "    \n",
    "    imgData = imgData.reshape(128,128)\n",
    "    imgData = ndimage.rotate(imgData, random.randint(0, 180), reshape=False)\n",
    "\n",
    "    #imgData = np.clip(imgData,thresh,1)\n",
    "    imgData = imgData[15:110,15:110]\n",
    "    \n",
    "    clahe = cv2.createCLAHE(clipLimit=random.uniform(8, 10), tileGridSize=(5,5))\n",
    "    imgData = clahe.apply(imgData)\n",
    "    #imgData = im.fromarray(imgData)\n",
    "    #imgData = np.asarray(imgData.rotate(random.randint(-20, 20)))\n",
    "    return imgData"
   ]
  },
  {
   "cell_type": "code",
   "execution_count": 9,
   "id": "d2b6a928",
   "metadata": {
    "execution": {
     "iopub.execute_input": "2023-01-28T11:55:30.786675Z",
     "iopub.status.busy": "2023-01-28T11:55:30.786255Z",
     "iopub.status.idle": "2023-01-28T12:02:11.358829Z",
     "shell.execute_reply": "2023-01-28T12:02:11.357419Z"
    },
    "papermill": {
     "duration": 400.584992,
     "end_time": "2023-01-28T12:02:11.361793",
     "exception": false,
     "start_time": "2023-01-28T11:55:30.776801",
     "status": "completed"
    },
    "tags": []
   },
   "outputs": [
    {
     "name": "stderr",
     "output_type": "stream",
     "text": [
      "100%|██████████| 105658/105658 [06:40<00:00, 263.80it/s]\n"
     ]
    }
   ],
   "source": [
    "imgDataList=[]\n",
    "for j in tqdm(imgdata_shuff['img_data']):\n",
    "    imgDataList.append(random_rotate(j))\n",
    "imgdata_shuff['img_data'] = imgDataList"
   ]
  },
  {
   "cell_type": "code",
   "execution_count": 10,
   "id": "6f321eae",
   "metadata": {
    "execution": {
     "iopub.execute_input": "2023-01-28T12:02:11.843784Z",
     "iopub.status.busy": "2023-01-28T12:02:11.842964Z",
     "iopub.status.idle": "2023-01-28T12:02:57.648196Z",
     "shell.execute_reply": "2023-01-28T12:02:57.646596Z"
    },
    "papermill": {
     "duration": 46.047595,
     "end_time": "2023-01-28T12:02:57.650957",
     "exception": false,
     "start_time": "2023-01-28T12:02:11.603362",
     "status": "completed"
    },
    "tags": []
   },
   "outputs": [],
   "source": [
    "from sklearn.model_selection import train_test_split\n",
    "train,test = train_test_split(imgdata_shuff, test_size=0.3, random_state=42, shuffle=True)\n",
    "\n",
    "\n",
    "\n",
    "train_target = np.array(train['cancer'])\n",
    "train_features=[]\n",
    "for i in train['img_data']:\n",
    "    i=np.array(i)\n",
    "    train_features.append(i)\n",
    "train_features=np.array(train_features)\n",
    "\n",
    "\n",
    "\n",
    "#featureTransform = train_features.reshape(len(train_features), 6400)\n",
    "\n",
    "from sklearn.preprocessing import StandardScaler\n",
    "scaler = StandardScaler()\n",
    "#featureTransform = scaler.fit_transform(featureTransform)\n",
    "norm_features= []\n",
    "for i in range(len(train_features)):\n",
    "        norm_features.append(scaler.fit_transform(train_features[i]))\n",
    "train_features=np.array(norm_features)\n",
    "\n",
    "\n",
    "\n",
    "\n",
    "#backTransform = featureTransform.reshape(len(train_features),80,80)\n",
    "#train_features = backTransform.reshape(len(train_features),80,80,1)\n",
    "train_features = train_features.reshape(len(train_features),95,95,1)\n",
    "\n",
    "\n",
    "\n"
   ]
  },
  {
   "cell_type": "code",
   "execution_count": 11,
   "id": "329f29e1",
   "metadata": {
    "execution": {
     "iopub.execute_input": "2023-01-28T12:02:58.136788Z",
     "iopub.status.busy": "2023-01-28T12:02:58.136372Z",
     "iopub.status.idle": "2023-01-28T12:02:58.461143Z",
     "shell.execute_reply": "2023-01-28T12:02:58.459746Z"
    },
    "papermill": {
     "duration": 0.57042,
     "end_time": "2023-01-28T12:02:58.463928",
     "exception": false,
     "start_time": "2023-01-28T12:02:57.893508",
     "status": "completed"
    },
    "tags": []
   },
   "outputs": [
    {
     "name": "stderr",
     "output_type": "stream",
     "text": [
      "2023-01-28 12:02:58.189492: I tensorflow/core/common_runtime/process_util.cc:146] Creating new thread pool with default inter op setting: 2. Tune using inter_op_parallelism_threads for best performance.\n"
     ]
    }
   ],
   "source": [
    "from keras.models import Sequential\n",
    "from keras.layers import LeakyReLU\n",
    "from keras.layers import Dense, Conv2D, Flatten,MaxPooling2D, Dropout, GlobalMaxPooling2D\n",
    "\n",
    "model = Sequential()\n",
    "\n",
    "model.add(Conv2D(64, 3, activation = \"relu\", input_shape = (95,95,1)))\n",
    "model.add(MaxPooling2D())\n",
    "model.add(LeakyReLU(alpha=0.2))\n",
    "model.add(Dropout(0.2))\n",
    "\n",
    "model.add(Conv2D(64, 3, activation = \"relu\"))\n",
    "model.add(MaxPooling2D())\n",
    "model.add(LeakyReLU(alpha=0.1))\n",
    "model.add(Dropout(0.1))\n",
    "\n",
    "model.add(Conv2D(64, 3, activation = \"relu\"))\n",
    "model.add(MaxPooling2D())\n",
    "model.add(LeakyReLU(alpha=0.1))\n",
    "model.add(Dropout(0.2))\n",
    "\n",
    "model.add(Conv2D(128, 3, activation = \"relu\"))\n",
    "model.add(MaxPooling2D())\n",
    "model.add(LeakyReLU(alpha=0.2))\n",
    "model.add(Dropout(0.1))\n",
    "\n",
    "\n",
    "model.add(Flatten())\n",
    "\n",
    "model.add(Dense(1024, activation = 'relu')) \n",
    "model.add(LeakyReLU(alpha=0.2))\n",
    "model.add(Dropout(0.2))\n",
    "\n",
    "model.add(Dense(512, activation = 'relu')) \n",
    "model.add(LeakyReLU(alpha=0.2))\n",
    "model.add(Dropout(0.3))\n",
    "\n",
    "model.add(Dense(256, activation = 'relu')) \n",
    "model.add(LeakyReLU(alpha=0.2))\n",
    "model.add(Dropout(0.3))\n",
    "\n",
    "model.add(Dense(1, activation = 'sigmoid'))\n",
    "\n",
    "\n",
    "\n",
    "\n",
    "from keras import backend as K\n",
    "def recall_m(y_true, y_pred):\n",
    "    true_positives = K.sum(K.round(K.clip(y_true * y_pred, 0, 1)))\n",
    "    possible_positives = K.sum(K.round(K.clip(y_true, 0, 1)))\n",
    "    recall = true_positives / (possible_positives )\n",
    "    return recall\n",
    "\n",
    "def precision_m(y_true, y_pred):\n",
    "    true_positives = K.sum(K.round(K.clip(y_true * y_pred, 0, 1)))\n",
    "    predicted_positives = K.sum(K.round(K.clip(y_pred, 0, 1)))\n",
    "    precision = true_positives / (predicted_positives )\n",
    "    return precision\n",
    "\n",
    "def f1_m(y_true, y_pred):\n",
    "    precision = precision_m(y_true, y_pred)\n",
    "    recall = recall_m(y_true, y_pred)\n",
    "    return 2*((precision*recall)/(precision+recall))\n",
    "\n",
    "\n",
    "\n",
    "\n",
    "\n",
    "#loss = tf.keras.losses.BinaryFocalCrossentropy(\\\n",
    "#    apply_class_balancing=True, gamma=5, from_logits=True,\\\n",
    "#    reduction=tf.keras.losses.Reduction.NONE)\n",
    "\n",
    "\n",
    "#model.compile(optimizer =tf.keras.optimizers.Adam(learning_rate=0.0001),\\\n",
    "#              loss= 'binary_crossentropy', metrics=['accuracy'])\n",
    "\n"
   ]
  },
  {
   "cell_type": "code",
   "execution_count": 12,
   "id": "69cd48dc",
   "metadata": {
    "execution": {
     "iopub.execute_input": "2023-01-28T12:02:59.007744Z",
     "iopub.status.busy": "2023-01-28T12:02:59.007220Z",
     "iopub.status.idle": "2023-01-28T12:02:59.012744Z",
     "shell.execute_reply": "2023-01-28T12:02:59.011419Z"
    },
    "papermill": {
     "duration": 0.312041,
     "end_time": "2023-01-28T12:02:59.014973",
     "exception": false,
     "start_time": "2023-01-28T12:02:58.702932",
     "status": "completed"
    },
    "tags": []
   },
   "outputs": [],
   "source": [
    "#from tensorflow import keras\n",
    "#model = keras.models.load_model(\"/kaggle/input/pre-trained-model-of-breast-cancer/trained_model_breast_cancer3.h5\")\n"
   ]
  },
  {
   "cell_type": "code",
   "execution_count": 13,
   "id": "620616f5",
   "metadata": {
    "execution": {
     "iopub.execute_input": "2023-01-28T12:02:59.497490Z",
     "iopub.status.busy": "2023-01-28T12:02:59.497009Z",
     "iopub.status.idle": "2023-01-28T18:45:28.473012Z",
     "shell.execute_reply": "2023-01-28T18:45:28.470954Z"
    },
    "papermill": {
     "duration": 24149.223937,
     "end_time": "2023-01-28T18:45:28.475782",
     "exception": false,
     "start_time": "2023-01-28T12:02:59.251845",
     "status": "completed"
    },
    "tags": []
   },
   "outputs": [
    {
     "name": "stderr",
     "output_type": "stream",
     "text": [
      "2023-01-28 12:03:05.015844: I tensorflow/compiler/mlir/mlir_graph_optimization_pass.cc:185] None of the MLIR Optimization Passes are enabled (registered 2)\n"
     ]
    },
    {
     "name": "stdout",
     "output_type": "stream",
     "text": [
      "Epoch 1/45\n",
      "809/809 [==============================] - 523s 644ms/step - loss: 0.6928 - accuracy: 0.5143 - val_loss: 0.6899 - val_accuracy: 0.5233\n",
      "Epoch 2/45\n",
      "809/809 [==============================] - 534s 660ms/step - loss: 0.6887 - accuracy: 0.5396 - val_loss: 0.6884 - val_accuracy: 0.5198\n",
      "Epoch 3/45\n",
      "809/809 [==============================] - 530s 655ms/step - loss: 0.6831 - accuracy: 0.5542 - val_loss: 0.6806 - val_accuracy: 0.5541\n",
      "Epoch 4/45\n",
      "809/809 [==============================] - 531s 656ms/step - loss: 0.6786 - accuracy: 0.5620 - val_loss: 0.6767 - val_accuracy: 0.5689\n",
      "Epoch 5/45\n",
      "809/809 [==============================] - 535s 661ms/step - loss: 0.6735 - accuracy: 0.5741 - val_loss: 0.6733 - val_accuracy: 0.5807\n",
      "Epoch 6/45\n",
      "809/809 [==============================] - 537s 664ms/step - loss: 0.6663 - accuracy: 0.5863 - val_loss: 0.6650 - val_accuracy: 0.5927\n",
      "Epoch 7/45\n",
      "809/809 [==============================] - 536s 663ms/step - loss: 0.6585 - accuracy: 0.5966 - val_loss: 0.6550 - val_accuracy: 0.6051\n",
      "Epoch 8/45\n",
      "809/809 [==============================] - 535s 661ms/step - loss: 0.6451 - accuracy: 0.6159 - val_loss: 0.6497 - val_accuracy: 0.6108\n",
      "Epoch 9/45\n",
      "809/809 [==============================] - 539s 666ms/step - loss: 0.6290 - accuracy: 0.6368 - val_loss: 0.6408 - val_accuracy: 0.6269\n",
      "Epoch 10/45\n",
      "809/809 [==============================] - 538s 665ms/step - loss: 0.6092 - accuracy: 0.6579 - val_loss: 0.6187 - val_accuracy: 0.6520\n",
      "Epoch 11/45\n",
      "809/809 [==============================] - 540s 668ms/step - loss: 0.5818 - accuracy: 0.6833 - val_loss: 0.5987 - val_accuracy: 0.6716\n",
      "Epoch 12/45\n",
      "809/809 [==============================] - 540s 667ms/step - loss: 0.5499 - accuracy: 0.7095 - val_loss: 0.5795 - val_accuracy: 0.6901\n",
      "Epoch 13/45\n",
      "809/809 [==============================] - 544s 672ms/step - loss: 0.5176 - accuracy: 0.7373 - val_loss: 0.5582 - val_accuracy: 0.7061\n",
      "Epoch 14/45\n",
      "809/809 [==============================] - 544s 673ms/step - loss: 0.4799 - accuracy: 0.7622 - val_loss: 0.5353 - val_accuracy: 0.7201\n",
      "Epoch 15/45\n",
      "809/809 [==============================] - 540s 667ms/step - loss: 0.4484 - accuracy: 0.7811 - val_loss: 0.5051 - val_accuracy: 0.7463\n",
      "Epoch 16/45\n",
      "809/809 [==============================] - 546s 674ms/step - loss: 0.4142 - accuracy: 0.8017 - val_loss: 0.5030 - val_accuracy: 0.7521\n",
      "Epoch 17/45\n",
      "809/809 [==============================] - 541s 669ms/step - loss: 0.3789 - accuracy: 0.8228 - val_loss: 0.4840 - val_accuracy: 0.7700\n",
      "Epoch 18/45\n",
      "809/809 [==============================] - 539s 666ms/step - loss: 0.3478 - accuracy: 0.8406 - val_loss: 0.4751 - val_accuracy: 0.7789\n",
      "Epoch 19/45\n",
      "809/809 [==============================] - 537s 664ms/step - loss: 0.3235 - accuracy: 0.8551 - val_loss: 0.4612 - val_accuracy: 0.7881\n",
      "Epoch 20/45\n",
      "809/809 [==============================] - 545s 673ms/step - loss: 0.2955 - accuracy: 0.8688 - val_loss: 0.4318 - val_accuracy: 0.8076\n",
      "Epoch 21/45\n",
      "809/809 [==============================] - 539s 666ms/step - loss: 0.2735 - accuracy: 0.8805 - val_loss: 0.4554 - val_accuracy: 0.7982\n",
      "Epoch 22/45\n",
      "809/809 [==============================] - 536s 662ms/step - loss: 0.2537 - accuracy: 0.8908 - val_loss: 0.4574 - val_accuracy: 0.8044\n",
      "Epoch 23/45\n",
      "809/809 [==============================] - 535s 661ms/step - loss: 0.2336 - accuracy: 0.9000 - val_loss: 0.4190 - val_accuracy: 0.8202\n",
      "Epoch 24/45\n",
      "809/809 [==============================] - 538s 665ms/step - loss: 0.2168 - accuracy: 0.9090 - val_loss: 0.4414 - val_accuracy: 0.8150\n",
      "Epoch 25/45\n",
      "809/809 [==============================] - 538s 665ms/step - loss: 0.1982 - accuracy: 0.9169 - val_loss: 0.4082 - val_accuracy: 0.8347\n",
      "Epoch 26/45\n",
      "809/809 [==============================] - 537s 664ms/step - loss: 0.1851 - accuracy: 0.9238 - val_loss: 0.3900 - val_accuracy: 0.8424\n",
      "Epoch 27/45\n",
      "809/809 [==============================] - 542s 670ms/step - loss: 0.1720 - accuracy: 0.9298 - val_loss: 0.4026 - val_accuracy: 0.8410\n",
      "Epoch 28/45\n",
      "809/809 [==============================] - 539s 666ms/step - loss: 0.1608 - accuracy: 0.9343 - val_loss: 0.4044 - val_accuracy: 0.8455\n",
      "Epoch 29/45\n",
      "809/809 [==============================] - 534s 660ms/step - loss: 0.1495 - accuracy: 0.9398 - val_loss: 0.4202 - val_accuracy: 0.8375\n",
      "Epoch 30/45\n",
      "809/809 [==============================] - 534s 660ms/step - loss: 0.1407 - accuracy: 0.9434 - val_loss: 0.4082 - val_accuracy: 0.8512\n",
      "Epoch 31/45\n",
      "809/809 [==============================] - 538s 665ms/step - loss: 0.1315 - accuracy: 0.9478 - val_loss: 0.4308 - val_accuracy: 0.8458\n",
      "Epoch 32/45\n",
      "809/809 [==============================] - 537s 663ms/step - loss: 0.1243 - accuracy: 0.9496 - val_loss: 0.4555 - val_accuracy: 0.8417\n",
      "Epoch 33/45\n",
      "809/809 [==============================] - 534s 660ms/step - loss: 0.1200 - accuracy: 0.9528 - val_loss: 0.4171 - val_accuracy: 0.8496\n",
      "Epoch 34/45\n",
      "809/809 [==============================] - 536s 662ms/step - loss: 0.1099 - accuracy: 0.9574 - val_loss: 0.3938 - val_accuracy: 0.8593\n",
      "Epoch 35/45\n",
      "809/809 [==============================] - 537s 664ms/step - loss: 0.1035 - accuracy: 0.9596 - val_loss: 0.3951 - val_accuracy: 0.8638\n",
      "Epoch 36/45\n",
      "809/809 [==============================] - 532s 658ms/step - loss: 0.0966 - accuracy: 0.9628 - val_loss: 0.4319 - val_accuracy: 0.8514\n",
      "Epoch 37/45\n",
      "809/809 [==============================] - 532s 658ms/step - loss: 0.0943 - accuracy: 0.9641 - val_loss: 0.4618 - val_accuracy: 0.8473\n",
      "Epoch 38/45\n",
      "809/809 [==============================] - 533s 659ms/step - loss: 0.0875 - accuracy: 0.9666 - val_loss: 0.4540 - val_accuracy: 0.8507\n",
      "Epoch 39/45\n",
      "809/809 [==============================] - 536s 662ms/step - loss: 0.0864 - accuracy: 0.9677 - val_loss: 0.4035 - val_accuracy: 0.8599\n",
      "Epoch 40/45\n",
      "809/809 [==============================] - 533s 658ms/step - loss: 0.0788 - accuracy: 0.9702 - val_loss: 0.4185 - val_accuracy: 0.8630\n",
      "Epoch 41/45\n",
      "809/809 [==============================] - 534s 660ms/step - loss: 0.0768 - accuracy: 0.9707 - val_loss: 0.3929 - val_accuracy: 0.8704\n",
      "Epoch 42/45\n",
      "809/809 [==============================] - 534s 660ms/step - loss: 0.0730 - accuracy: 0.9723 - val_loss: 0.4243 - val_accuracy: 0.8671\n",
      "Epoch 43/45\n",
      "809/809 [==============================] - 531s 657ms/step - loss: 0.0701 - accuracy: 0.9738 - val_loss: 0.3880 - val_accuracy: 0.8736\n",
      "Epoch 44/45\n",
      "809/809 [==============================] - 529s 654ms/step - loss: 0.0670 - accuracy: 0.9752 - val_loss: 0.4373 - val_accuracy: 0.8604\n",
      "Epoch 45/45\n",
      "809/809 [==============================] - 524s 647ms/step - loss: 0.0662 - accuracy: 0.9759 - val_loss: 0.4182 - val_accuracy: 0.8640\n"
     ]
    },
    {
     "data": {
      "text/plain": [
       "<keras.callbacks.History at 0x7f04347c1390>"
      ]
     },
     "execution_count": 13,
     "metadata": {},
     "output_type": "execute_result"
    }
   ],
   "source": [
    "\n",
    "model.compile(optimizer =tf.keras.optimizers.Adam(learning_rate=0.0001),\\\n",
    "              loss= 'binary_crossentropy', metrics=['accuracy'])\n",
    "\n",
    "#weights = {0:1, 1:6}\n",
    "#model.fit(train_features, train_target,  class_weight=weights,validation_split=0.3,batch_size = 64,epochs=70)\n",
    "\n",
    "model.fit(train_features, train_target,validation_split=0.3,batch_size = 64,epochs=45)\n",
    "\n",
    "\n"
   ]
  },
  {
   "cell_type": "code",
   "execution_count": 14,
   "id": "e0611b8f",
   "metadata": {
    "execution": {
     "iopub.execute_input": "2023-01-28T18:45:33.817711Z",
     "iopub.status.busy": "2023-01-28T18:45:33.816855Z",
     "iopub.status.idle": "2023-01-28T18:45:33.974896Z",
     "shell.execute_reply": "2023-01-28T18:45:33.973987Z"
    },
    "papermill": {
     "duration": 2.826546,
     "end_time": "2023-01-28T18:45:33.977527",
     "exception": false,
     "start_time": "2023-01-28T18:45:31.150981",
     "status": "completed"
    },
    "tags": []
   },
   "outputs": [],
   "source": [
    "model.save(\"/kaggle/working/trained_model_breast_cancer3.h5\")"
   ]
  },
  {
   "cell_type": "code",
   "execution_count": 15,
   "id": "e4c4c66f",
   "metadata": {
    "execution": {
     "iopub.execute_input": "2023-01-28T18:45:39.166558Z",
     "iopub.status.busy": "2023-01-28T18:45:39.165879Z",
     "iopub.status.idle": "2023-01-28T18:45:39.169671Z",
     "shell.execute_reply": "2023-01-28T18:45:39.168926Z"
    },
    "papermill": {
     "duration": 2.533236,
     "end_time": "2023-01-28T18:45:39.171743",
     "exception": false,
     "start_time": "2023-01-28T18:45:36.638507",
     "status": "completed"
    },
    "tags": []
   },
   "outputs": [],
   "source": [
    "#from tensorflow import keras\n",
    "#savedModel = keras.models.load_model(\"/kaggle/input/pre-trained-model-of-breast-cancer/trained_model_breast_cancer3.h5\")\n",
    "\n"
   ]
  },
  {
   "cell_type": "code",
   "execution_count": 16,
   "id": "9d3bc254",
   "metadata": {
    "execution": {
     "iopub.execute_input": "2023-01-28T18:45:44.480777Z",
     "iopub.status.busy": "2023-01-28T18:45:44.480118Z",
     "iopub.status.idle": "2023-01-28T18:46:08.523191Z",
     "shell.execute_reply": "2023-01-28T18:46:08.521842Z"
    },
    "papermill": {
     "duration": 26.704937,
     "end_time": "2023-01-28T18:46:08.526085",
     "exception": false,
     "start_time": "2023-01-28T18:45:41.821148",
     "status": "completed"
    },
    "tags": []
   },
   "outputs": [],
   "source": [
    "test_features=[]\n",
    "for i in test['img_data']:\n",
    "    i=np.array(i)\n",
    "    test_features.append(i)\n",
    "test_features=np.array(test_features)\n",
    " \n",
    "\n",
    "    \n",
    "#featureTransform = test_features.reshape(len(test_features), 6400)\n",
    "scaler = StandardScaler()\n",
    "#featureTransform =scaler.fit_transform(featureTransform)\n",
    "norm_features= []\n",
    "for i in range(len(test_features)):\n",
    "    norm_features.append(scaler.fit_transform(test_features[i]))\n",
    "test_features=np.array(norm_features)\n",
    "\n",
    "\n",
    "#backTransform = featureTransform.reshape(len(test_features),80,80)\n",
    "test_features = test_features.reshape(len(test_features),95,95,1)\n",
    "\n",
    "\n",
    "\n",
    "test_target = np.array(test['cancer'])"
   ]
  },
  {
   "cell_type": "code",
   "execution_count": 17,
   "id": "f1b9e36c",
   "metadata": {
    "execution": {
     "iopub.execute_input": "2023-01-28T18:46:13.908779Z",
     "iopub.status.busy": "2023-01-28T18:46:13.908359Z",
     "iopub.status.idle": "2023-01-28T18:47:24.700138Z",
     "shell.execute_reply": "2023-01-28T18:47:24.698861Z"
    },
    "papermill": {
     "duration": 73.521812,
     "end_time": "2023-01-28T18:47:24.703090",
     "exception": false,
     "start_time": "2023-01-28T18:46:11.181278",
     "status": "completed"
    },
    "tags": []
   },
   "outputs": [],
   "source": [
    "pred = model.predict(test_features)\n",
    "bin_pred = []\n",
    "for i in pred:\n",
    "    if i>=0.5:\n",
    "        bin_pred.append(1)\n",
    "    else:\n",
    "        bin_pred.append(0)\n",
    "bin_pred = np.array(bin_pred)\n"
   ]
  },
  {
   "cell_type": "code",
   "execution_count": 18,
   "id": "91b029aa",
   "metadata": {
    "execution": {
     "iopub.execute_input": "2023-01-28T18:47:29.971070Z",
     "iopub.status.busy": "2023-01-28T18:47:29.970600Z",
     "iopub.status.idle": "2023-01-28T18:47:30.026568Z",
     "shell.execute_reply": "2023-01-28T18:47:30.025055Z"
    },
    "papermill": {
     "duration": 2.651246,
     "end_time": "2023-01-28T18:47:30.029267",
     "exception": false,
     "start_time": "2023-01-28T18:47:27.378021",
     "status": "completed"
    },
    "tags": []
   },
   "outputs": [
    {
     "name": "stdout",
     "output_type": "stream",
     "text": [
      "0.861442362294151\n",
      "0.8034368968308324 0.9210206561360875\n"
     ]
    }
   ],
   "source": [
    "import sklearn\n",
    "acc = sklearn.metrics.accuracy_score(test_target, bin_pred)\n",
    "print(acc)\n",
    "\n",
    "countzero=0\n",
    "countone=0\n",
    "countzerot=0\n",
    "countonet=0\n",
    "for i, j in zip(test_target, bin_pred):\n",
    "    if i==0 and j==0:\n",
    "        countzero+=1\n",
    "    if i==1 and j==1:\n",
    "        countone+=1\n",
    "    if i==1:\n",
    "        countonet+=1\n",
    "    if i==0:\n",
    "        countzerot+=1\n",
    "print(countzero/countzerot,countone/countonet)"
   ]
  },
  {
   "cell_type": "code",
   "execution_count": 19,
   "id": "896864a4",
   "metadata": {
    "execution": {
     "iopub.execute_input": "2023-01-28T18:47:35.361602Z",
     "iopub.status.busy": "2023-01-28T18:47:35.360308Z",
     "iopub.status.idle": "2023-01-28T18:47:35.372454Z",
     "shell.execute_reply": "2023-01-28T18:47:35.371375Z"
    },
    "papermill": {
     "duration": 2.67543,
     "end_time": "2023-01-28T18:47:35.374656",
     "exception": false,
     "start_time": "2023-01-28T18:47:32.699226",
     "status": "completed"
    },
    "tags": []
   },
   "outputs": [
    {
     "name": "stdout",
     "output_type": "stream",
     "text": [
      "0.8676949030003616\n"
     ]
    }
   ],
   "source": [
    "\n",
    "def recall_m(y_true, y_pred):\n",
    "    true_positives = np.sum(np.round(np.clip(y_true * y_pred, 0, 1)))\n",
    "    possible_positives = np.sum(np.round(np.clip(y_true, 0, 1)))\n",
    "    recall = true_positives / (possible_positives )\n",
    "    return recall\n",
    "\n",
    "def precision_m(y_true, y_pred):\n",
    "    true_positives = np.sum(np.round(np.clip(y_true * y_pred, 0, 1)))\n",
    "    predicted_positives = np.sum(np.round(np.clip(y_pred, 0, 1)))\n",
    "    precision = true_positives / (predicted_positives )\n",
    "    return precision\n",
    "\n",
    "def f1_m(y_true, y_pred):\n",
    "    precision = precision_m(y_true, y_pred)\n",
    "    recall = recall_m(y_true, y_pred)\n",
    "    return 2*((precision*recall)/(precision+recall))\n",
    "\n",
    "\n",
    "print(f1_m(test_target,bin_pred))"
   ]
  },
  {
   "cell_type": "code",
   "execution_count": 20,
   "id": "6b2cee0f",
   "metadata": {
    "execution": {
     "iopub.execute_input": "2023-01-28T18:47:40.712249Z",
     "iopub.status.busy": "2023-01-28T18:47:40.711437Z",
     "iopub.status.idle": "2023-01-28T18:48:11.795374Z",
     "shell.execute_reply": "2023-01-28T18:48:11.793835Z"
    },
    "papermill": {
     "duration": 33.762221,
     "end_time": "2023-01-28T18:48:11.798165",
     "exception": false,
     "start_time": "2023-01-28T18:47:38.035944",
     "status": "completed"
    },
    "tags": []
   },
   "outputs": [
    {
     "name": "stderr",
     "output_type": "stream",
     "text": [
      " 75%|███████▌  | 3/4 [00:00<00:00,  4.40it/s]\n"
     ]
    }
   ],
   "source": [
    "datasetPath = '/kaggle/input/rsna-breast-cancer-detection/test.csv'\n",
    "imgPath = '/kaggle/input/rsna-breast-cancer-detection/test_images/'\n",
    "\n",
    "testImgData = dcmToPix(datasetPath, imgPath)"
   ]
  },
  {
   "cell_type": "code",
   "execution_count": 21,
   "id": "fbb70c63",
   "metadata": {
    "execution": {
     "iopub.execute_input": "2023-01-28T18:48:17.040975Z",
     "iopub.status.busy": "2023-01-28T18:48:17.039715Z",
     "iopub.status.idle": "2023-01-28T18:48:17.077979Z",
     "shell.execute_reply": "2023-01-28T18:48:17.076606Z"
    },
    "papermill": {
     "duration": 2.565163,
     "end_time": "2023-01-28T18:48:17.080733",
     "exception": false,
     "start_time": "2023-01-28T18:48:14.515570",
     "status": "completed"
    },
    "tags": []
   },
   "outputs": [],
   "source": [
    "datacancer = pd.read_csv(datasetPath)\n",
    "imgDataFrame = {'img_data':testImgData}\n",
    "imgData2 = pd.DataFrame(imgDataFrame)\n",
    "testImgData=imgData2\n",
    "imgdata_shuff = testImgData.sample(frac=1)"
   ]
  },
  {
   "cell_type": "code",
   "execution_count": 22,
   "id": "5c9dc87f",
   "metadata": {
    "execution": {
     "iopub.execute_input": "2023-01-28T18:48:22.385725Z",
     "iopub.status.busy": "2023-01-28T18:48:22.384516Z",
     "iopub.status.idle": "2023-01-28T18:48:22.421054Z",
     "shell.execute_reply": "2023-01-28T18:48:22.419958Z"
    },
    "papermill": {
     "duration": 2.690195,
     "end_time": "2023-01-28T18:48:22.423087",
     "exception": false,
     "start_time": "2023-01-28T18:48:19.732892",
     "status": "completed"
    },
    "tags": []
   },
   "outputs": [
    {
     "name": "stderr",
     "output_type": "stream",
     "text": [
      "100%|██████████| 4/4 [00:00<00:00, 199.43it/s]\n"
     ]
    }
   ],
   "source": [
    "imgDataList=[]\n",
    "for j in tqdm(imgdata_shuff['img_data']):\n",
    "    imgDataList.append(random_rotate(j))\n",
    "imgdata_shuff['img_data'] = imgDataList"
   ]
  },
  {
   "cell_type": "code",
   "execution_count": 23,
   "id": "e8ce0528",
   "metadata": {
    "execution": {
     "iopub.execute_input": "2023-01-28T18:48:27.776421Z",
     "iopub.status.busy": "2023-01-28T18:48:27.775466Z",
     "iopub.status.idle": "2023-01-28T18:48:28.147395Z",
     "shell.execute_reply": "2023-01-28T18:48:28.146336Z"
    },
    "papermill": {
     "duration": 2.959674,
     "end_time": "2023-01-28T18:48:28.150168",
     "exception": false,
     "start_time": "2023-01-28T18:48:25.190494",
     "status": "completed"
    },
    "tags": []
   },
   "outputs": [],
   "source": [
    "test=imgdata_shuff\n",
    "\n",
    "\n",
    "test_features=[]\n",
    "for i in test['img_data']:\n",
    "    i=np.array(i)\n",
    "    test_features.append(i)\n",
    "test_features=np.array(test_features)\n",
    " \n",
    "#featureTransform = test_features.reshape(len(test_features), 6400)\n",
    "scaler = StandardScaler()\n",
    "#featureTransform =scaler.fit_transform(featureTransform)\n",
    "norm_features= []\n",
    "for i in range(len(test_features)):\n",
    "    norm_features.append(scaler.fit_transform(test_features[i]))\n",
    "test_features=np.array(norm_features)\n",
    "\n",
    "\n",
    "#backTransform = featureTransform.reshape(len(test_features),80,80)\n",
    "test_features = test_features.reshape(len(test_features),95,95,1)\n",
    "\n",
    "\n"
   ]
  },
  {
   "cell_type": "code",
   "execution_count": 24,
   "id": "04f1f726",
   "metadata": {
    "execution": {
     "iopub.execute_input": "2023-01-28T18:48:33.533866Z",
     "iopub.status.busy": "2023-01-28T18:48:33.533142Z",
     "iopub.status.idle": "2023-01-28T18:48:33.635110Z",
     "shell.execute_reply": "2023-01-28T18:48:33.633843Z"
    },
    "papermill": {
     "duration": 2.832932,
     "end_time": "2023-01-28T18:48:33.637470",
     "exception": false,
     "start_time": "2023-01-28T18:48:30.804538",
     "status": "completed"
    },
    "tags": []
   },
   "outputs": [
    {
     "name": "stdout",
     "output_type": "stream",
     "text": [
      "[0 0 0 0]\n"
     ]
    }
   ],
   "source": [
    "pred = model.predict(test_features)\n",
    "bin_pred = []\n",
    "for i in pred:\n",
    "    if i>=0.5:\n",
    "        bin_pred.append(1)\n",
    "    else:\n",
    "        bin_pred.append(0)\n",
    "bin_pred = np.array(bin_pred)\n",
    "print(bin_pred)"
   ]
  },
  {
   "cell_type": "code",
   "execution_count": 25,
   "id": "95b27715",
   "metadata": {
    "execution": {
     "iopub.execute_input": "2023-01-28T18:48:38.999185Z",
     "iopub.status.busy": "2023-01-28T18:48:38.998489Z",
     "iopub.status.idle": "2023-01-28T18:48:39.016938Z",
     "shell.execute_reply": "2023-01-28T18:48:39.015822Z"
    },
    "papermill": {
     "duration": 2.682887,
     "end_time": "2023-01-28T18:48:39.019070",
     "exception": false,
     "start_time": "2023-01-28T18:48:36.336183",
     "status": "completed"
    },
    "tags": []
   },
   "outputs": [
    {
     "name": "stdout",
     "output_type": "stream",
     "text": [
      "  prediction_id  cancer\n",
      "0       10008_L       0\n",
      "1       10008_L       0\n",
      "2       10008_R       0\n",
      "3       10008_R       0\n"
     ]
    }
   ],
   "source": [
    "testData = pd.read_csv('/kaggle/input/rsna-breast-cancer-detection/test.csv')\n",
    "\n",
    "submissionFrame={'prediction_id':testData['prediction_id'],'cancer':bin_pred}\n",
    "submission = pd.DataFrame(submissionFrame)\n",
    "print(submission)"
   ]
  }
 ],
 "metadata": {
  "kernelspec": {
   "display_name": "Python 3",
   "language": "python",
   "name": "python3"
  },
  "language_info": {
   "codemirror_mode": {
    "name": "ipython",
    "version": 3
   },
   "file_extension": ".py",
   "mimetype": "text/x-python",
   "name": "python",
   "nbconvert_exporter": "python",
   "pygments_lexer": "ipython3",
   "version": "3.7.12"
  },
  "papermill": {
   "default_parameters": {},
   "duration": 24838.526698,
   "end_time": "2023-01-28T18:48:45.427736",
   "environment_variables": {},
   "exception": null,
   "input_path": "__notebook__.ipynb",
   "output_path": "__notebook__.ipynb",
   "parameters": {},
   "start_time": "2023-01-28T11:54:46.901038",
   "version": "2.3.4"
  }
 },
 "nbformat": 4,
 "nbformat_minor": 5
}
