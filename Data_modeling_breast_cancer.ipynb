{
 "cells": [
  {
   "cell_type": "code",
   "execution_count": 1,
   "id": "c162635f",
   "metadata": {
    "execution": {
     "iopub.execute_input": "2023-01-26T23:12:42.338619Z",
     "iopub.status.busy": "2023-01-26T23:12:42.338082Z",
     "iopub.status.idle": "2023-01-26T23:12:48.985230Z",
     "shell.execute_reply": "2023-01-26T23:12:48.984210Z"
    },
    "papermill": {
     "duration": 6.659116,
     "end_time": "2023-01-26T23:12:48.987877",
     "exception": false,
     "start_time": "2023-01-26T23:12:42.328761",
     "status": "completed"
    },
    "tags": []
   },
   "outputs": [],
   "source": [
    "import numpy as np\n",
    "import pandas as pd\n",
    "import matplotlib.pyplot as plt\n",
    "import seaborn as sns\n",
    "import pickle\n",
    "import tensorflow as tf\n",
    "import tensorflow_io as tfio\n",
    "import os\n",
    "from tqdm import tqdm\n",
    "import cv2\n",
    "from PIL import Image\n",
    "from joblib import Parallel, delayed\n",
    "import gc\n",
    "from PIL import Image as im\n",
    "import random"
   ]
  },
  {
   "cell_type": "code",
   "execution_count": 2,
   "id": "933cb08f",
   "metadata": {
    "execution": {
     "iopub.execute_input": "2023-01-26T23:12:49.003417Z",
     "iopub.status.busy": "2023-01-26T23:12:49.001954Z",
     "iopub.status.idle": "2023-01-26T23:13:03.555441Z",
     "shell.execute_reply": "2023-01-26T23:13:03.554050Z"
    },
    "papermill": {
     "duration": 14.564053,
     "end_time": "2023-01-26T23:13:03.558269",
     "exception": false,
     "start_time": "2023-01-26T23:12:48.994216",
     "status": "completed"
    },
    "tags": []
   },
   "outputs": [
    {
     "name": "stdout",
     "output_type": "stream",
     "text": [
      "Collecting dicomsdl\r\n",
      "  Downloading dicomsdl-0.109.1-cp37-cp37m-manylinux_2_12_x86_64.manylinux2010_x86_64.whl (1.4 MB)\r\n",
      "\u001b[2K     \u001b[90m━━━━━━━━━━━━━━━━━━━━━━━━━━━━━━━━━━━━━━━━\u001b[0m \u001b[32m1.4/1.4 MB\u001b[0m \u001b[31m1.5 MB/s\u001b[0m eta \u001b[36m0:00:00\u001b[0m\r\n",
      "\u001b[?25hInstalling collected packages: dicomsdl\r\n",
      "Successfully installed dicomsdl-0.109.1\r\n",
      "\u001b[33mWARNING: Running pip as the 'root' user can result in broken permissions and conflicting behaviour with the system package manager. It is recommended to use a virtual environment instead: https://pip.pypa.io/warnings/venv\u001b[0m\u001b[33m\r\n",
      "\u001b[0m"
     ]
    }
   ],
   "source": [
    "import sys\n",
    "!{sys.executable} -m pip install dicomsdl\n",
    "#!pip install /kaggle/input/rsnapacks/dicomsdl-0.109.1-cp36-cp36m-manylinux_2_12_x86_64.manylinux2010_x86_64.whl\n",
    "import numpy as np\n",
    "import pandas as pd\n",
    "import matplotlib.pyplot as plt\n",
    "import seaborn as sns\n",
    "import pickle\n",
    "#import pydicom as dicom\n",
    "import dicomsdl as dicom\n",
    "import tensorflow as tf\n",
    "import tensorflow_io as tfio\n",
    "from PIL import Image as im\n",
    "import os\n",
    "from tqdm import tqdm\n",
    "import cv2\n",
    "from PIL import Image\n",
    "from joblib import Parallel, delayed\n",
    "import gc\n",
    "import random"
   ]
  },
  {
   "cell_type": "code",
   "execution_count": 3,
   "id": "663890fe",
   "metadata": {
    "execution": {
     "iopub.execute_input": "2023-01-26T23:13:03.576760Z",
     "iopub.status.busy": "2023-01-26T23:13:03.575957Z",
     "iopub.status.idle": "2023-01-26T23:13:03.598214Z",
     "shell.execute_reply": "2023-01-26T23:13:03.597127Z"
    },
    "papermill": {
     "duration": 0.034358,
     "end_time": "2023-01-26T23:13:03.600527",
     "exception": false,
     "start_time": "2023-01-26T23:13:03.566169",
     "status": "completed"
    },
    "tags": []
   },
   "outputs": [],
   "source": [
    "datasetPath = '/kaggle/input/rsna-breast-cancer-detection/train.csv'\n",
    "imgPath = '/kaggle/input/rsna-breast-cancer-detection/train_images/'\n",
    "\n",
    "def crop(sideName, imgName):\n",
    "    \"\"\"\n",
    "    This function is used to crop the breast images. It takes two arguments.\n",
    "    \n",
    "    Input:-\n",
    "    :sideName = Laterality of breast if it is right or left\n",
    "    :imgName = Image pixel data of the DCM images\n",
    "    \n",
    "    Output:-\n",
    "    :return = Output after cropping the image.\n",
    "    \n",
    "    \"\"\"\n",
    "    if sideName == 'L':\n",
    "        colind=[]\n",
    "        for r,row in enumerate(imgName):\n",
    "            for c,col in enumerate(row):\n",
    "                if col==0:\n",
    "                    colind.append(c)\n",
    "                    break\n",
    "        crop_size = max(colind)\n",
    "        imgName = imgName[0:512,0:crop_size]\n",
    "        imgName = cv2.resize(imgName,(128,128))\n",
    "        \n",
    "    if sideName == 'R':\n",
    "        colind=[]\n",
    "        for r,row in enumerate(imgName):\n",
    "            for c,col in enumerate(row):\n",
    "                if col!=0:\n",
    "                    colind.append(c)\n",
    "                    break\n",
    "        crop_size = min(colind)\n",
    "        imgName = imgName[0:512,crop_size:512]\n",
    "        imgName = cv2.resize(imgName,(128,128))\n",
    "    \n",
    "    return imgName    \n",
    "\n",
    "    gc.collect()\n",
    "    \n",
    "def crop_reverse(sideName, imgName):\n",
    "    \n",
    "    \"\"\"\n",
    "    This function is used to crop the breast images but in the reverse order.\n",
    "    Because the laterality is defined wrongly for some images. It takes two arguments.\n",
    "    \n",
    "    Input:-\n",
    "    :sideName = Laterality of breast if it is right or left\n",
    "    :imgName = Image pixel data of the DCM images\n",
    "    \n",
    "    Output:-\n",
    "    :return = Output after cropping the image.\n",
    "    \n",
    "    \"\"\"\n",
    "    \n",
    "    if sideName == 'R':\n",
    "        colind=[]\n",
    "        for r,row in enumerate(imgName):\n",
    "            for c,col in enumerate(row):\n",
    "                if col==0:\n",
    "                    colind.append(c)\n",
    "                    break\n",
    "        crop_size = max(colind)\n",
    "        imgName = imgName[0:512,0:crop_size]\n",
    "        imgName = cv2.resize(imgName,(128,128))\n",
    "        \n",
    "    if sideName == 'L':\n",
    "        colind=[]\n",
    "        for r,row in enumerate(imgName):\n",
    "            for c,col in enumerate(row):\n",
    "                if col!=0:\n",
    "                    colind.append(c)\n",
    "                    break\n",
    "        crop_size = min(colind)\n",
    "        imgName = imgName[0:512,crop_size:512]\n",
    "        imgName = cv2.resize(imgName,(128,128))\n",
    "    \n",
    "    return imgName    \n",
    "\n",
    "    gc.collect()\n",
    "    \n",
    "\n",
    "def img_process(i,filename,sides):\n",
    "    \n",
    "    \"\"\"\n",
    "    This function is used to process the images which will be used for the training/test dataset. It takes three arguments.\n",
    "    \n",
    "    Input:-\n",
    "    :i = Index of the image in the dataframe\n",
    "    :filename = Path of the image\n",
    "    :sides = List of all images' laterality\n",
    "    \n",
    "    Output:-\n",
    "    :return = Output after cropping the image.\n",
    "    \n",
    "    \"\"\"\n",
    "    \n",
    "    \n",
    "    #ds = dicom.dcmread(filename)\n",
    "    dsraw = dicom.open(filename)\n",
    "    ds = dsraw.pixelData()\n",
    "    \n",
    "    ds = (ds - ds.min()) / (ds.max() - ds.min())\n",
    "    if dsraw.PhotometricInterpretation == \"MONOCHROME1\":  \n",
    "        ds = 1 - ds\n",
    "    ds = (ds * 255).astype(np.uint8)\n",
    "\n",
    "    \n",
    "    #ds = cv2.normalize(ds, None, 0, 1.0, cv2.NORM_MINMAX, dtype=cv2.CV_32F)\n",
    "    ds = cv2.resize(ds,(512,512))\n",
    "    \n",
    "    #ds = np.where(ds >= 0.999, 0,ds)\n",
    "    \n",
    "    try:\n",
    "        ds = np.array(crop(sides[i], ds))   \n",
    "    except:\n",
    "        ds = np.array(crop_reverse(sides[i], ds))\n",
    "    \n",
    "\n",
    "    #train_data.loc[i,'img_data'] = [img_fin]\n",
    "    #train_data.to_csv('/kaggle/working/training_img_data.csv') \n",
    "    return ds\n",
    "    gc.collect()\n",
    "\n",
    "def dcmToPix(datasetPath, imgPath):\n",
    "    \n",
    "    \"\"\"\n",
    "    This function is used to process all the images which will be used for the training/test dataset. It takes two arguments.\n",
    "    \n",
    "    Input:-\n",
    "    :datasetPath = Path of the cancer dataset\n",
    "    :imgPath = Path of the image dataset\n",
    "   \n",
    "    Output:-\n",
    "    :return = Array of all the processed images\n",
    "    \n",
    "    \"\"\"\n",
    "    \n",
    "    \n",
    "    dataset = pd.read_csv(datasetPath)\n",
    "    \n",
    "    patient_ids = dataset['patient_id']\n",
    "    image_ids = dataset['image_id']\n",
    "    sides  = dataset['laterality']\n",
    "\n",
    "    imgData = []\n",
    "\n",
    "    for pi, ii, leng in zip(patient_ids, image_ids, range(len(patient_ids))):\n",
    "        imgData.append(imgPath + str(pi) + '/' + str(ii) + '.dcm')\n",
    "\n",
    "    dataset['img_data'] = \" \"\n",
    "    \n",
    "    result = Parallel(n_jobs=128)(\\\n",
    "    delayed(img_process)(i, fname, sides) for i, fname in zip(range(len(imgData)),tqdm(imgData))\\\n",
    "    )\n",
    "    \n",
    "    dataset['img_data'] = result\n",
    "    dataset.to_pickle('imgData.pkl' )\n",
    "    \n",
    "    return result\n",
    "    "
   ]
  },
  {
   "cell_type": "code",
   "execution_count": 4,
   "id": "5ec8fc7c",
   "metadata": {
    "_cell_guid": "b1076dfc-b9ad-4769-8c92-a6c4dae69d19",
    "_uuid": "8f2839f25d086af736a60e9eeb907d3b93b6e0e5",
    "execution": {
     "iopub.execute_input": "2023-01-26T23:13:03.617828Z",
     "iopub.status.busy": "2023-01-26T23:13:03.617037Z",
     "iopub.status.idle": "2023-01-26T23:13:34.696541Z",
     "shell.execute_reply": "2023-01-26T23:13:34.695695Z"
    },
    "papermill": {
     "duration": 31.09086,
     "end_time": "2023-01-26T23:13:34.699101",
     "exception": false,
     "start_time": "2023-01-26T23:13:03.608241",
     "status": "completed"
    },
    "tags": []
   },
   "outputs": [],
   "source": [
    "with (open('/kaggle/input/output/imgData.pkl', \"rb\")) as openfile:\n",
    "     imgData = pickle.load(openfile)"
   ]
  },
  {
   "cell_type": "code",
   "execution_count": 5,
   "id": "09858439",
   "metadata": {
    "execution": {
     "iopub.execute_input": "2023-01-26T23:13:34.715938Z",
     "iopub.status.busy": "2023-01-26T23:13:34.715524Z",
     "iopub.status.idle": "2023-01-26T23:13:34.720241Z",
     "shell.execute_reply": "2023-01-26T23:13:34.719013Z"
    },
    "papermill": {
     "duration": 0.015496,
     "end_time": "2023-01-26T23:13:34.722432",
     "exception": false,
     "start_time": "2023-01-26T23:13:34.706936",
     "status": "completed"
    },
    "tags": []
   },
   "outputs": [],
   "source": [
    "#datacancer = pd.read_csv(datasetPath)\n",
    "#imgDataFrame = {'cancer':datacancer['cancer'][:50], 'img_data':imgData}\n",
    "#imgData2 = pd.DataFrame(imgDataFrame)\n",
    "\n",
    "#imgData=imgData2"
   ]
  },
  {
   "cell_type": "code",
   "execution_count": 6,
   "id": "df4a4b23",
   "metadata": {
    "execution": {
     "iopub.execute_input": "2023-01-26T23:13:34.739038Z",
     "iopub.status.busy": "2023-01-26T23:13:34.738635Z",
     "iopub.status.idle": "2023-01-26T23:13:34.865582Z",
     "shell.execute_reply": "2023-01-26T23:13:34.864590Z"
    },
    "papermill": {
     "duration": 0.138064,
     "end_time": "2023-01-26T23:13:34.868299",
     "exception": false,
     "start_time": "2023-01-26T23:13:34.730235",
     "status": "completed"
    },
    "tags": []
   },
   "outputs": [],
   "source": [
    "imgdata_pos = imgData[imgData['cancer'] == 1]\n",
    "imgdata_neg = imgData[imgData['cancer'] == 0]\n",
    "\n",
    "imgdata_pos = imgdata_pos.sample(frac = 1)\n",
    "imgdata_neg = imgdata_neg.sample(frac = 1)\n",
    "\n",
    "imgdata_neg = imgdata_neg.sample(frac= 1)\n",
    "\n",
    "frames = 12*[imgdata_pos]\n",
    "frames.append(imgdata_neg)\n",
    "imgdata_shuff = pd.concat(frames)\n",
    "imgdata_shuff = imgdata_shuff.sample(frac=1)"
   ]
  },
  {
   "cell_type": "code",
   "execution_count": 7,
   "id": "0d97f2c6",
   "metadata": {
    "execution": {
     "iopub.execute_input": "2023-01-26T23:13:34.887315Z",
     "iopub.status.busy": "2023-01-26T23:13:34.886435Z",
     "iopub.status.idle": "2023-01-26T23:13:34.897888Z",
     "shell.execute_reply": "2023-01-26T23:13:34.896817Z"
    },
    "papermill": {
     "duration": 0.022375,
     "end_time": "2023-01-26T23:13:34.900090",
     "exception": false,
     "start_time": "2023-01-26T23:13:34.877715",
     "status": "completed"
    },
    "tags": []
   },
   "outputs": [
    {
     "name": "stdout",
     "output_type": "stream",
     "text": [
      "0    53548\n",
      "1    13896\n",
      "Name: cancer, dtype: int64\n"
     ]
    }
   ],
   "source": [
    "print(imgdata_shuff['cancer'].value_counts())"
   ]
  },
  {
   "cell_type": "code",
   "execution_count": 8,
   "id": "95e3ebc0",
   "metadata": {
    "execution": {
     "iopub.execute_input": "2023-01-26T23:13:34.917208Z",
     "iopub.status.busy": "2023-01-26T23:13:34.916825Z",
     "iopub.status.idle": "2023-01-26T23:13:34.922635Z",
     "shell.execute_reply": "2023-01-26T23:13:34.921513Z"
    },
    "papermill": {
     "duration": 0.01701,
     "end_time": "2023-01-26T23:13:34.924706",
     "exception": false,
     "start_time": "2023-01-26T23:13:34.907696",
     "status": "completed"
    },
    "tags": []
   },
   "outputs": [],
   "source": [
    "def random_rotate(imgData):\n",
    "    #thresh = 0.15\n",
    "    \n",
    "    imgData = imgData.reshape(128,128)\n",
    "    \n",
    "    #imgData = np.clip(imgData,thresh,1)\n",
    "    imgData = imgData[25:105,25:105]\n",
    "   \n",
    "    imgData = im.fromarray(imgData)\n",
    "    imgData = np.asarray(imgData.rotate(random.randint(-20, 20)))\n",
    "    return imgData"
   ]
  },
  {
   "cell_type": "code",
   "execution_count": 9,
   "id": "4671742e",
   "metadata": {
    "execution": {
     "iopub.execute_input": "2023-01-26T23:13:34.942223Z",
     "iopub.status.busy": "2023-01-26T23:13:34.941832Z",
     "iopub.status.idle": "2023-01-26T23:13:46.074289Z",
     "shell.execute_reply": "2023-01-26T23:13:46.073199Z"
    },
    "papermill": {
     "duration": 11.144628,
     "end_time": "2023-01-26T23:13:46.076973",
     "exception": false,
     "start_time": "2023-01-26T23:13:34.932345",
     "status": "completed"
    },
    "tags": []
   },
   "outputs": [
    {
     "name": "stderr",
     "output_type": "stream",
     "text": [
      "100%|██████████| 67444/67444 [00:11<00:00, 6073.86it/s]\n"
     ]
    }
   ],
   "source": [
    "imgDataList=[]\n",
    "for j in tqdm(imgdata_shuff['img_data']):\n",
    "    imgDataList.append(random_rotate(j))\n",
    "imgdata_shuff['img_data'] = imgDataList"
   ]
  },
  {
   "cell_type": "code",
   "execution_count": 10,
   "id": "fabe462c",
   "metadata": {
    "execution": {
     "iopub.execute_input": "2023-01-26T23:13:46.114042Z",
     "iopub.status.busy": "2023-01-26T23:13:46.113634Z",
     "iopub.status.idle": "2023-01-26T23:14:09.268526Z",
     "shell.execute_reply": "2023-01-26T23:14:09.267239Z"
    },
    "papermill": {
     "duration": 23.177782,
     "end_time": "2023-01-26T23:14:09.271409",
     "exception": false,
     "start_time": "2023-01-26T23:13:46.093627",
     "status": "completed"
    },
    "tags": []
   },
   "outputs": [],
   "source": [
    "from sklearn.model_selection import train_test_split\n",
    "train,test = train_test_split(imgdata_shuff, test_size=0.3, random_state=42, shuffle=True)\n",
    "\n",
    "\n",
    "\n",
    "train_target = np.array(train['cancer'])\n",
    "train_features=[]\n",
    "for i in train['img_data']:\n",
    "    i=np.array(i)\n",
    "    train_features.append(i)\n",
    "train_features=np.array(train_features)\n",
    "\n",
    "\n",
    "\n",
    "#featureTransform = train_features.reshape(len(train_features), 6400)\n",
    "\n",
    "from sklearn.preprocessing import StandardScaler\n",
    "scaler = StandardScaler()\n",
    "#featureTransform = scaler.fit_transform(featureTransform)\n",
    "norm_features= []\n",
    "for i in range(len(train_features)):\n",
    "        norm_features.append(scaler.fit_transform(train_features[i]))\n",
    "train_features=np.array(norm_features)\n",
    "\n",
    "\n",
    "\n",
    "\n",
    "#backTransform = featureTransform.reshape(len(train_features),80,80)\n",
    "#train_features = backTransform.reshape(len(train_features),80,80,1)\n",
    "train_features = train_features.reshape(len(train_features),80,80,1)\n",
    "\n",
    "\n",
    "\n"
   ]
  },
  {
   "cell_type": "code",
   "execution_count": 11,
   "id": "311a9fb7",
   "metadata": {
    "execution": {
     "iopub.execute_input": "2023-01-26T23:14:09.303082Z",
     "iopub.status.busy": "2023-01-26T23:14:09.302658Z",
     "iopub.status.idle": "2023-01-26T23:14:09.543367Z",
     "shell.execute_reply": "2023-01-26T23:14:09.541889Z"
    },
    "papermill": {
     "duration": 0.259329,
     "end_time": "2023-01-26T23:14:09.545743",
     "exception": false,
     "start_time": "2023-01-26T23:14:09.286414",
     "status": "completed"
    },
    "tags": []
   },
   "outputs": [
    {
     "name": "stderr",
     "output_type": "stream",
     "text": [
      "2023-01-26 23:14:09.348947: I tensorflow/core/common_runtime/process_util.cc:146] Creating new thread pool with default inter op setting: 2. Tune using inter_op_parallelism_threads for best performance.\n"
     ]
    }
   ],
   "source": [
    "from keras.models import Sequential\n",
    "from keras.layers import LeakyReLU\n",
    "from keras.layers import Dense, Conv2D, Flatten,MaxPooling2D, Dropout, GlobalMaxPooling2D\n",
    "\n",
    "model = Sequential()\n",
    "\n",
    "model.add(Conv2D(16, 5, activation = \"relu\", input_shape = (80,80,1)))\n",
    "model.add(MaxPooling2D())\n",
    "model.add(LeakyReLU(alpha=0.2))\n",
    "model.add(Dropout(0.2))\n",
    "\n",
    "model.add(Conv2D(32, 3, activation = \"relu\"))\n",
    "model.add(MaxPooling2D())\n",
    "model.add(LeakyReLU(alpha=0.1))\n",
    "model.add(Dropout(0.1))\n",
    "\n",
    "model.add(Conv2D(64, 3, activation = \"relu\"))\n",
    "model.add(MaxPooling2D())\n",
    "model.add(LeakyReLU(alpha=0.1))\n",
    "model.add(Dropout(0.2))\n",
    "\n",
    "model.add(Conv2D(128, 3, activation = \"relu\"))\n",
    "model.add(MaxPooling2D())\n",
    "model.add(LeakyReLU(alpha=0.2))\n",
    "model.add(Dropout(0.1))\n",
    "\n",
    "\n",
    "model.add(Flatten())\n",
    "\n",
    "model.add(Dense(512, activation = 'relu')) \n",
    "model.add(LeakyReLU(alpha=0.2))\n",
    "model.add(Dropout(0.2))\n",
    "\n",
    "model.add(Dense(128, activation = 'relu')) \n",
    "model.add(LeakyReLU(alpha=0.2))\n",
    "model.add(Dropout(0.3))\n",
    "\n",
    "\n",
    "model.add(Dense(1, activation = 'sigmoid'))\n",
    "\n",
    "\n",
    "\n",
    "\n",
    "from keras import backend as K\n",
    "def recall_m(y_true, y_pred):\n",
    "    true_positives = K.sum(K.round(K.clip(y_true * y_pred, 0, 1)))\n",
    "    possible_positives = K.sum(K.round(K.clip(y_true, 0, 1)))\n",
    "    recall = true_positives / (possible_positives )\n",
    "    return recall\n",
    "\n",
    "def precision_m(y_true, y_pred):\n",
    "    true_positives = K.sum(K.round(K.clip(y_true * y_pred, 0, 1)))\n",
    "    predicted_positives = K.sum(K.round(K.clip(y_pred, 0, 1)))\n",
    "    precision = true_positives / (predicted_positives )\n",
    "    return precision\n",
    "\n",
    "def f1_m(y_true, y_pred):\n",
    "    precision = precision_m(y_true, y_pred)\n",
    "    recall = recall_m(y_true, y_pred)\n",
    "    return 2*((precision*recall)/(precision+recall))\n",
    "\n",
    "\n",
    "\n",
    "\n",
    "\n",
    "#loss = tf.keras.losses.BinaryFocalCrossentropy(\\\n",
    "#    apply_class_balancing=True, gamma=5, from_logits=True,\\\n",
    "#    reduction=tf.keras.losses.Reduction.NONE)\n",
    "\n",
    "\n",
    "#model.compile(optimizer =tf.keras.optimizers.Adam(learning_rate=0.0001),\\\n",
    "#              loss= 'binary_crossentropy', metrics=['accuracy'])\n",
    "\n"
   ]
  },
  {
   "cell_type": "code",
   "execution_count": 12,
   "id": "eb421622",
   "metadata": {
    "execution": {
     "iopub.execute_input": "2023-01-26T23:14:09.576466Z",
     "iopub.status.busy": "2023-01-26T23:14:09.576070Z",
     "iopub.status.idle": "2023-01-26T23:14:09.580849Z",
     "shell.execute_reply": "2023-01-26T23:14:09.579668Z"
    },
    "papermill": {
     "duration": 0.022891,
     "end_time": "2023-01-26T23:14:09.583270",
     "exception": false,
     "start_time": "2023-01-26T23:14:09.560379",
     "status": "completed"
    },
    "tags": []
   },
   "outputs": [],
   "source": [
    "#from tensorflow import keras\n",
    "#model = keras.models.load_model(\"/kaggle/input/pre-trained-model-of-breast-cancer/trained_model_breast_cancer3.h5\")\n"
   ]
  },
  {
   "cell_type": "code",
   "execution_count": 13,
   "id": "3daa6dc0",
   "metadata": {
    "execution": {
     "iopub.execute_input": "2023-01-26T23:14:09.613707Z",
     "iopub.status.busy": "2023-01-26T23:14:09.612749Z",
     "iopub.status.idle": "2023-01-27T02:38:33.740794Z",
     "shell.execute_reply": "2023-01-27T02:38:33.739538Z"
    },
    "papermill": {
     "duration": 12264.145974,
     "end_time": "2023-01-27T02:38:33.743439",
     "exception": false,
     "start_time": "2023-01-26T23:14:09.597465",
     "status": "completed"
    },
    "tags": []
   },
   "outputs": [
    {
     "name": "stderr",
     "output_type": "stream",
     "text": [
      "2023-01-26 23:14:10.503723: I tensorflow/compiler/mlir/mlir_graph_optimization_pass.cc:185] None of the MLIR Optimization Passes are enabled (registered 2)\n"
     ]
    },
    {
     "name": "stdout",
     "output_type": "stream",
     "text": [
      "Epoch 1/200\n",
      "517/517 [==============================] - 62s 117ms/step - loss: 0.9613 - accuracy: 0.7235 - val_loss: 0.6366 - val_accuracy: 0.7282\n",
      "Epoch 2/200\n",
      "517/517 [==============================] - 60s 116ms/step - loss: 0.9519 - accuracy: 0.7134 - val_loss: 0.6227 - val_accuracy: 0.7575\n",
      "Epoch 3/200\n",
      "517/517 [==============================] - 60s 115ms/step - loss: 0.9467 - accuracy: 0.7035 - val_loss: 0.6449 - val_accuracy: 0.6855\n",
      "Epoch 4/200\n",
      "517/517 [==============================] - 60s 116ms/step - loss: 0.9429 - accuracy: 0.6934 - val_loss: 0.6337 - val_accuracy: 0.6874\n",
      "Epoch 5/200\n",
      "517/517 [==============================] - 59s 114ms/step - loss: 0.9364 - accuracy: 0.6918 - val_loss: 0.6398 - val_accuracy: 0.6548\n",
      "Epoch 6/200\n",
      "517/517 [==============================] - 59s 115ms/step - loss: 0.9299 - accuracy: 0.6919 - val_loss: 0.6265 - val_accuracy: 0.7035\n",
      "Epoch 7/200\n",
      "517/517 [==============================] - 60s 115ms/step - loss: 0.9237 - accuracy: 0.6850 - val_loss: 0.6350 - val_accuracy: 0.6702\n",
      "Epoch 8/200\n",
      "517/517 [==============================] - 60s 116ms/step - loss: 0.9146 - accuracy: 0.6858 - val_loss: 0.6227 - val_accuracy: 0.6715\n",
      "Epoch 9/200\n",
      "517/517 [==============================] - 60s 116ms/step - loss: 0.9038 - accuracy: 0.6829 - val_loss: 0.5958 - val_accuracy: 0.7181\n",
      "Epoch 10/200\n",
      "517/517 [==============================] - 59s 114ms/step - loss: 0.8945 - accuracy: 0.6864 - val_loss: 0.5991 - val_accuracy: 0.6898\n",
      "Epoch 11/200\n",
      "517/517 [==============================] - 60s 115ms/step - loss: 0.8830 - accuracy: 0.6898 - val_loss: 0.5664 - val_accuracy: 0.7263\n",
      "Epoch 12/200\n",
      "517/517 [==============================] - 60s 116ms/step - loss: 0.8681 - accuracy: 0.6955 - val_loss: 0.5695 - val_accuracy: 0.7130\n",
      "Epoch 13/200\n",
      "517/517 [==============================] - 59s 115ms/step - loss: 0.8530 - accuracy: 0.6995 - val_loss: 0.5576 - val_accuracy: 0.7311\n",
      "Epoch 14/200\n",
      "517/517 [==============================] - 60s 116ms/step - loss: 0.8365 - accuracy: 0.7067 - val_loss: 0.5661 - val_accuracy: 0.7073\n",
      "Epoch 15/200\n",
      "517/517 [==============================] - 60s 117ms/step - loss: 0.8152 - accuracy: 0.7163 - val_loss: 0.5672 - val_accuracy: 0.6985\n",
      "Epoch 16/200\n",
      "517/517 [==============================] - 60s 116ms/step - loss: 0.7984 - accuracy: 0.7254 - val_loss: 0.5465 - val_accuracy: 0.7102\n",
      "Epoch 17/200\n",
      "517/517 [==============================] - 60s 116ms/step - loss: 0.7787 - accuracy: 0.7295 - val_loss: 0.5491 - val_accuracy: 0.7120\n",
      "Epoch 18/200\n",
      "517/517 [==============================] - 59s 113ms/step - loss: 0.7555 - accuracy: 0.7439 - val_loss: 0.4992 - val_accuracy: 0.7521\n",
      "Epoch 19/200\n",
      "517/517 [==============================] - 59s 114ms/step - loss: 0.7328 - accuracy: 0.7524 - val_loss: 0.5061 - val_accuracy: 0.7487\n",
      "Epoch 20/200\n",
      "517/517 [==============================] - 59s 115ms/step - loss: 0.7077 - accuracy: 0.7658 - val_loss: 0.4694 - val_accuracy: 0.7675\n",
      "Epoch 21/200\n",
      "517/517 [==============================] - 60s 115ms/step - loss: 0.6842 - accuracy: 0.7768 - val_loss: 0.4743 - val_accuracy: 0.7666\n",
      "Epoch 22/200\n",
      "517/517 [==============================] - 59s 114ms/step - loss: 0.6679 - accuracy: 0.7844 - val_loss: 0.5193 - val_accuracy: 0.7234\n",
      "Epoch 23/200\n",
      "517/517 [==============================] - 60s 116ms/step - loss: 0.6377 - accuracy: 0.7953 - val_loss: 0.5122 - val_accuracy: 0.7352\n",
      "Epoch 24/200\n",
      "517/517 [==============================] - 59s 115ms/step - loss: 0.6148 - accuracy: 0.8058 - val_loss: 0.4481 - val_accuracy: 0.7827\n",
      "Epoch 25/200\n",
      "517/517 [==============================] - 60s 115ms/step - loss: 0.5850 - accuracy: 0.8166 - val_loss: 0.4110 - val_accuracy: 0.8062\n",
      "Epoch 26/200\n",
      "517/517 [==============================] - 60s 116ms/step - loss: 0.5671 - accuracy: 0.8233 - val_loss: 0.4312 - val_accuracy: 0.7911\n",
      "Epoch 27/200\n",
      "517/517 [==============================] - 59s 115ms/step - loss: 0.5435 - accuracy: 0.8338 - val_loss: 0.3710 - val_accuracy: 0.8363\n",
      "Epoch 28/200\n",
      "517/517 [==============================] - 59s 115ms/step - loss: 0.5228 - accuracy: 0.8403 - val_loss: 0.4668 - val_accuracy: 0.7619\n",
      "Epoch 29/200\n",
      "517/517 [==============================] - 60s 117ms/step - loss: 0.5018 - accuracy: 0.8469 - val_loss: 0.3943 - val_accuracy: 0.8119\n",
      "Epoch 30/200\n",
      "517/517 [==============================] - 60s 116ms/step - loss: 0.4733 - accuracy: 0.8570 - val_loss: 0.3757 - val_accuracy: 0.8236\n",
      "Epoch 31/200\n",
      "517/517 [==============================] - 60s 115ms/step - loss: 0.4495 - accuracy: 0.8642 - val_loss: 0.3364 - val_accuracy: 0.8505\n",
      "Epoch 32/200\n",
      "517/517 [==============================] - 60s 116ms/step - loss: 0.4305 - accuracy: 0.8713 - val_loss: 0.3566 - val_accuracy: 0.8371\n",
      "Epoch 33/200\n",
      "517/517 [==============================] - 61s 117ms/step - loss: 0.4145 - accuracy: 0.8781 - val_loss: 0.3429 - val_accuracy: 0.8457\n",
      "Epoch 34/200\n",
      "517/517 [==============================] - 59s 115ms/step - loss: 0.4038 - accuracy: 0.8802 - val_loss: 0.3134 - val_accuracy: 0.8631\n",
      "Epoch 35/200\n",
      "517/517 [==============================] - 60s 115ms/step - loss: 0.3801 - accuracy: 0.8878 - val_loss: 0.3290 - val_accuracy: 0.8516\n",
      "Epoch 36/200\n",
      "517/517 [==============================] - 60s 116ms/step - loss: 0.3622 - accuracy: 0.8948 - val_loss: 0.3444 - val_accuracy: 0.8432\n",
      "Epoch 37/200\n",
      "517/517 [==============================] - 59s 114ms/step - loss: 0.3481 - accuracy: 0.9011 - val_loss: 0.3223 - val_accuracy: 0.8579\n",
      "Epoch 38/200\n",
      "517/517 [==============================] - 59s 114ms/step - loss: 0.3322 - accuracy: 0.9052 - val_loss: 0.3441 - val_accuracy: 0.8408\n",
      "Epoch 39/200\n",
      "517/517 [==============================] - 59s 115ms/step - loss: 0.3278 - accuracy: 0.9085 - val_loss: 0.2808 - val_accuracy: 0.8813\n",
      "Epoch 40/200\n",
      "517/517 [==============================] - 60s 115ms/step - loss: 0.3128 - accuracy: 0.9121 - val_loss: 0.2991 - val_accuracy: 0.8709\n",
      "Epoch 41/200\n",
      "517/517 [==============================] - 60s 117ms/step - loss: 0.3015 - accuracy: 0.9147 - val_loss: 0.2932 - val_accuracy: 0.8721\n",
      "Epoch 42/200\n",
      "517/517 [==============================] - 60s 116ms/step - loss: 0.2794 - accuracy: 0.9225 - val_loss: 0.2544 - val_accuracy: 0.8975\n",
      "Epoch 43/200\n",
      "517/517 [==============================] - 61s 117ms/step - loss: 0.2684 - accuracy: 0.9229 - val_loss: 0.2860 - val_accuracy: 0.8783\n",
      "Epoch 44/200\n",
      "517/517 [==============================] - 61s 117ms/step - loss: 0.2712 - accuracy: 0.9244 - val_loss: 0.2318 - val_accuracy: 0.9078\n",
      "Epoch 45/200\n",
      "517/517 [==============================] - 60s 117ms/step - loss: 0.2574 - accuracy: 0.9292 - val_loss: 0.2784 - val_accuracy: 0.8851\n",
      "Epoch 46/200\n",
      "517/517 [==============================] - 60s 115ms/step - loss: 0.2381 - accuracy: 0.9361 - val_loss: 0.2847 - val_accuracy: 0.8805\n",
      "Epoch 47/200\n",
      "517/517 [==============================] - 60s 116ms/step - loss: 0.2371 - accuracy: 0.9363 - val_loss: 0.2447 - val_accuracy: 0.9018\n",
      "Epoch 48/200\n",
      "517/517 [==============================] - 61s 118ms/step - loss: 0.2274 - accuracy: 0.9379 - val_loss: 0.2246 - val_accuracy: 0.9106\n",
      "Epoch 49/200\n",
      "517/517 [==============================] - 62s 119ms/step - loss: 0.2142 - accuracy: 0.9429 - val_loss: 0.2766 - val_accuracy: 0.8871\n",
      "Epoch 50/200\n",
      "517/517 [==============================] - 61s 118ms/step - loss: 0.2165 - accuracy: 0.9416 - val_loss: 0.2260 - val_accuracy: 0.9119\n",
      "Epoch 51/200\n",
      "517/517 [==============================] - 61s 118ms/step - loss: 0.2024 - accuracy: 0.9454 - val_loss: 0.2401 - val_accuracy: 0.9052\n",
      "Epoch 52/200\n",
      "517/517 [==============================] - 61s 118ms/step - loss: 0.1955 - accuracy: 0.9485 - val_loss: 0.2536 - val_accuracy: 0.8969\n",
      "Epoch 53/200\n",
      "517/517 [==============================] - 61s 117ms/step - loss: 0.1847 - accuracy: 0.9502 - val_loss: 0.2492 - val_accuracy: 0.9025\n",
      "Epoch 54/200\n",
      "517/517 [==============================] - 60s 116ms/step - loss: 0.1815 - accuracy: 0.9513 - val_loss: 0.2421 - val_accuracy: 0.9065\n",
      "Epoch 55/200\n",
      "517/517 [==============================] - 61s 118ms/step - loss: 0.1709 - accuracy: 0.9544 - val_loss: 0.2243 - val_accuracy: 0.9122\n",
      "Epoch 56/200\n",
      "517/517 [==============================] - 61s 117ms/step - loss: 0.1632 - accuracy: 0.9573 - val_loss: 0.2284 - val_accuracy: 0.9139\n",
      "Epoch 57/200\n",
      "517/517 [==============================] - 63s 122ms/step - loss: 0.1644 - accuracy: 0.9565 - val_loss: 0.2424 - val_accuracy: 0.9072\n",
      "Epoch 58/200\n",
      "517/517 [==============================] - 62s 119ms/step - loss: 0.1670 - accuracy: 0.9563 - val_loss: 0.2187 - val_accuracy: 0.9194\n",
      "Epoch 59/200\n",
      "517/517 [==============================] - 62s 120ms/step - loss: 0.1514 - accuracy: 0.9598 - val_loss: 0.2418 - val_accuracy: 0.9091\n",
      "Epoch 60/200\n",
      "517/517 [==============================] - 62s 119ms/step - loss: 0.1576 - accuracy: 0.9581 - val_loss: 0.2520 - val_accuracy: 0.9038\n",
      "Epoch 61/200\n",
      "517/517 [==============================] - 62s 119ms/step - loss: 0.1531 - accuracy: 0.9593 - val_loss: 0.2260 - val_accuracy: 0.9151\n",
      "Epoch 62/200\n",
      "517/517 [==============================] - 61s 117ms/step - loss: 0.1521 - accuracy: 0.9601 - val_loss: 0.2330 - val_accuracy: 0.9131\n",
      "Epoch 63/200\n",
      "517/517 [==============================] - 62s 119ms/step - loss: 0.1430 - accuracy: 0.9625 - val_loss: 0.2230 - val_accuracy: 0.9177\n",
      "Epoch 64/200\n",
      "517/517 [==============================] - 62s 121ms/step - loss: 0.1381 - accuracy: 0.9635 - val_loss: 0.2042 - val_accuracy: 0.9278\n",
      "Epoch 65/200\n",
      "517/517 [==============================] - 61s 118ms/step - loss: 0.1347 - accuracy: 0.9654 - val_loss: 0.2597 - val_accuracy: 0.9001\n",
      "Epoch 66/200\n",
      "517/517 [==============================] - 61s 118ms/step - loss: 0.1293 - accuracy: 0.9662 - val_loss: 0.2353 - val_accuracy: 0.9145\n",
      "Epoch 67/200\n",
      "517/517 [==============================] - 62s 120ms/step - loss: 0.1259 - accuracy: 0.9660 - val_loss: 0.2266 - val_accuracy: 0.9172\n",
      "Epoch 68/200\n",
      "517/517 [==============================] - 61s 118ms/step - loss: 0.1180 - accuracy: 0.9705 - val_loss: 0.2610 - val_accuracy: 0.9064\n",
      "Epoch 69/200\n",
      "517/517 [==============================] - 62s 120ms/step - loss: 0.1226 - accuracy: 0.9691 - val_loss: 0.2219 - val_accuracy: 0.9177\n",
      "Epoch 70/200\n",
      "517/517 [==============================] - 63s 121ms/step - loss: 0.1239 - accuracy: 0.9683 - val_loss: 0.2106 - val_accuracy: 0.9255\n",
      "Epoch 71/200\n",
      "517/517 [==============================] - 61s 118ms/step - loss: 0.1150 - accuracy: 0.9704 - val_loss: 0.2121 - val_accuracy: 0.9247\n",
      "Epoch 72/200\n",
      "517/517 [==============================] - 62s 119ms/step - loss: 0.1157 - accuracy: 0.9708 - val_loss: 0.2149 - val_accuracy: 0.9236\n",
      "Epoch 73/200\n",
      "517/517 [==============================] - 62s 120ms/step - loss: 0.1115 - accuracy: 0.9709 - val_loss: 0.2239 - val_accuracy: 0.9216\n",
      "Epoch 74/200\n",
      "517/517 [==============================] - 61s 118ms/step - loss: 0.1088 - accuracy: 0.9728 - val_loss: 0.2079 - val_accuracy: 0.9286\n",
      "Epoch 75/200\n",
      "517/517 [==============================] - 62s 120ms/step - loss: 0.1038 - accuracy: 0.9743 - val_loss: 0.2364 - val_accuracy: 0.9142\n",
      "Epoch 76/200\n",
      "517/517 [==============================] - 62s 120ms/step - loss: 0.1068 - accuracy: 0.9723 - val_loss: 0.2154 - val_accuracy: 0.9276\n",
      "Epoch 77/200\n",
      "517/517 [==============================] - 62s 119ms/step - loss: 0.1028 - accuracy: 0.9739 - val_loss: 0.2239 - val_accuracy: 0.9245\n",
      "Epoch 78/200\n",
      "517/517 [==============================] - 62s 119ms/step - loss: 0.1043 - accuracy: 0.9724 - val_loss: 0.2027 - val_accuracy: 0.9329\n",
      "Epoch 79/200\n",
      "517/517 [==============================] - 62s 119ms/step - loss: 0.0915 - accuracy: 0.9764 - val_loss: 0.2196 - val_accuracy: 0.9276\n",
      "Epoch 80/200\n",
      "517/517 [==============================] - 61s 119ms/step - loss: 0.0885 - accuracy: 0.9778 - val_loss: 0.2335 - val_accuracy: 0.9231\n",
      "Epoch 81/200\n",
      "517/517 [==============================] - 61s 118ms/step - loss: 0.0934 - accuracy: 0.9764 - val_loss: 0.2278 - val_accuracy: 0.9238\n",
      "Epoch 82/200\n",
      "517/517 [==============================] - 62s 120ms/step - loss: 0.0889 - accuracy: 0.9777 - val_loss: 0.2305 - val_accuracy: 0.9253\n",
      "Epoch 83/200\n",
      "517/517 [==============================] - 60s 116ms/step - loss: 0.0904 - accuracy: 0.9776 - val_loss: 0.2071 - val_accuracy: 0.9328\n",
      "Epoch 84/200\n",
      "517/517 [==============================] - 62s 119ms/step - loss: 0.0902 - accuracy: 0.9775 - val_loss: 0.2278 - val_accuracy: 0.9231\n",
      "Epoch 85/200\n",
      "517/517 [==============================] - 62s 120ms/step - loss: 0.0819 - accuracy: 0.9785 - val_loss: 0.2119 - val_accuracy: 0.9311\n",
      "Epoch 86/200\n",
      "517/517 [==============================] - 61s 119ms/step - loss: 0.0909 - accuracy: 0.9771 - val_loss: 0.2231 - val_accuracy: 0.9252\n",
      "Epoch 87/200\n",
      "517/517 [==============================] - 61s 119ms/step - loss: 0.0875 - accuracy: 0.9783 - val_loss: 0.2008 - val_accuracy: 0.9338\n",
      "Epoch 88/200\n",
      "517/517 [==============================] - 61s 118ms/step - loss: 0.0829 - accuracy: 0.9790 - val_loss: 0.1953 - val_accuracy: 0.9379\n",
      "Epoch 89/200\n",
      "517/517 [==============================] - 61s 119ms/step - loss: 0.0753 - accuracy: 0.9818 - val_loss: 0.2050 - val_accuracy: 0.9341\n",
      "Epoch 90/200\n",
      "517/517 [==============================] - 61s 118ms/step - loss: 0.0852 - accuracy: 0.9789 - val_loss: 0.2021 - val_accuracy: 0.9355\n",
      "Epoch 91/200\n",
      "517/517 [==============================] - 61s 118ms/step - loss: 0.0767 - accuracy: 0.9814 - val_loss: 0.2236 - val_accuracy: 0.9273\n",
      "Epoch 92/200\n",
      "517/517 [==============================] - 62s 121ms/step - loss: 0.0772 - accuracy: 0.9806 - val_loss: 0.2120 - val_accuracy: 0.9319\n",
      "Epoch 93/200\n",
      "517/517 [==============================] - 60s 115ms/step - loss: 0.0781 - accuracy: 0.9806 - val_loss: 0.2105 - val_accuracy: 0.9317\n",
      "Epoch 94/200\n",
      "517/517 [==============================] - 62s 119ms/step - loss: 0.0743 - accuracy: 0.9817 - val_loss: 0.2148 - val_accuracy: 0.9308\n",
      "Epoch 95/200\n",
      "517/517 [==============================] - 62s 119ms/step - loss: 0.0742 - accuracy: 0.9818 - val_loss: 0.2079 - val_accuracy: 0.9318\n",
      "Epoch 96/200\n",
      "517/517 [==============================] - 62s 120ms/step - loss: 0.0700 - accuracy: 0.9827 - val_loss: 0.1946 - val_accuracy: 0.9413\n",
      "Epoch 97/200\n",
      "517/517 [==============================] - 61s 119ms/step - loss: 0.0695 - accuracy: 0.9827 - val_loss: 0.2069 - val_accuracy: 0.9362\n",
      "Epoch 98/200\n",
      "517/517 [==============================] - 61s 119ms/step - loss: 0.0694 - accuracy: 0.9818 - val_loss: 0.2044 - val_accuracy: 0.9358\n",
      "Epoch 99/200\n",
      "517/517 [==============================] - 61s 119ms/step - loss: 0.0650 - accuracy: 0.9838 - val_loss: 0.2230 - val_accuracy: 0.9293\n",
      "Epoch 100/200\n",
      "517/517 [==============================] - 61s 118ms/step - loss: 0.0706 - accuracy: 0.9823 - val_loss: 0.2233 - val_accuracy: 0.9314\n",
      "Epoch 101/200\n",
      "517/517 [==============================] - 62s 120ms/step - loss: 0.0662 - accuracy: 0.9838 - val_loss: 0.2107 - val_accuracy: 0.9335\n",
      "Epoch 102/200\n",
      "517/517 [==============================] - 60s 115ms/step - loss: 0.0666 - accuracy: 0.9830 - val_loss: 0.2125 - val_accuracy: 0.9315\n",
      "Epoch 103/200\n",
      "517/517 [==============================] - 61s 119ms/step - loss: 0.0648 - accuracy: 0.9840 - val_loss: 0.2079 - val_accuracy: 0.9339\n",
      "Epoch 104/200\n",
      "517/517 [==============================] - 62s 119ms/step - loss: 0.0625 - accuracy: 0.9850 - val_loss: 0.2079 - val_accuracy: 0.9360\n",
      "Epoch 105/200\n",
      "517/517 [==============================] - 62s 119ms/step - loss: 0.0660 - accuracy: 0.9836 - val_loss: 0.1975 - val_accuracy: 0.9390\n",
      "Epoch 106/200\n",
      "517/517 [==============================] - 62s 119ms/step - loss: 0.0627 - accuracy: 0.9856 - val_loss: 0.1904 - val_accuracy: 0.9440\n",
      "Epoch 107/200\n",
      "517/517 [==============================] - 61s 118ms/step - loss: 0.0638 - accuracy: 0.9857 - val_loss: 0.2260 - val_accuracy: 0.9281\n",
      "Epoch 108/200\n",
      "517/517 [==============================] - 62s 120ms/step - loss: 0.0647 - accuracy: 0.9841 - val_loss: 0.2218 - val_accuracy: 0.9338\n",
      "Epoch 109/200\n",
      "517/517 [==============================] - 63s 122ms/step - loss: 0.0632 - accuracy: 0.9847 - val_loss: 0.2304 - val_accuracy: 0.9301\n",
      "Epoch 110/200\n",
      "517/517 [==============================] - 60s 116ms/step - loss: 0.0583 - accuracy: 0.9857 - val_loss: 0.2217 - val_accuracy: 0.9356\n",
      "Epoch 111/200\n",
      "517/517 [==============================] - 62s 120ms/step - loss: 0.0608 - accuracy: 0.9851 - val_loss: 0.2044 - val_accuracy: 0.9369\n",
      "Epoch 112/200\n",
      "517/517 [==============================] - 62s 120ms/step - loss: 0.0568 - accuracy: 0.9869 - val_loss: 0.2257 - val_accuracy: 0.9308\n",
      "Epoch 113/200\n",
      "517/517 [==============================] - 62s 120ms/step - loss: 0.0568 - accuracy: 0.9868 - val_loss: 0.1881 - val_accuracy: 0.9449\n",
      "Epoch 114/200\n",
      "517/517 [==============================] - 62s 120ms/step - loss: 0.0608 - accuracy: 0.9854 - val_loss: 0.1993 - val_accuracy: 0.9377\n",
      "Epoch 115/200\n",
      "517/517 [==============================] - 62s 119ms/step - loss: 0.0541 - accuracy: 0.9867 - val_loss: 0.2097 - val_accuracy: 0.9389\n",
      "Epoch 116/200\n",
      "517/517 [==============================] - 62s 120ms/step - loss: 0.0570 - accuracy: 0.9874 - val_loss: 0.1981 - val_accuracy: 0.9394\n",
      "Epoch 117/200\n",
      "517/517 [==============================] - 63s 121ms/step - loss: 0.0512 - accuracy: 0.9884 - val_loss: 0.2279 - val_accuracy: 0.9300\n",
      "Epoch 118/200\n",
      "517/517 [==============================] - 60s 116ms/step - loss: 0.0532 - accuracy: 0.9869 - val_loss: 0.1868 - val_accuracy: 0.9474\n",
      "Epoch 119/200\n",
      "517/517 [==============================] - 62s 120ms/step - loss: 0.0550 - accuracy: 0.9863 - val_loss: 0.1870 - val_accuracy: 0.9465\n",
      "Epoch 120/200\n",
      "517/517 [==============================] - 62s 120ms/step - loss: 0.0506 - accuracy: 0.9874 - val_loss: 0.2108 - val_accuracy: 0.9361\n",
      "Epoch 121/200\n",
      "517/517 [==============================] - 62s 121ms/step - loss: 0.0501 - accuracy: 0.9884 - val_loss: 0.2321 - val_accuracy: 0.9307\n",
      "Epoch 122/200\n",
      "517/517 [==============================] - 63s 121ms/step - loss: 0.0511 - accuracy: 0.9880 - val_loss: 0.2117 - val_accuracy: 0.9397\n",
      "Epoch 123/200\n",
      "517/517 [==============================] - 62s 120ms/step - loss: 0.0480 - accuracy: 0.9887 - val_loss: 0.2191 - val_accuracy: 0.9381\n",
      "Epoch 124/200\n",
      "517/517 [==============================] - 62s 120ms/step - loss: 0.0504 - accuracy: 0.9886 - val_loss: 0.2051 - val_accuracy: 0.9392\n",
      "Epoch 125/200\n",
      "517/517 [==============================] - 64s 123ms/step - loss: 0.0501 - accuracy: 0.9884 - val_loss: 0.2125 - val_accuracy: 0.9394\n",
      "Epoch 126/200\n",
      "517/517 [==============================] - 60s 116ms/step - loss: 0.0514 - accuracy: 0.9878 - val_loss: 0.2030 - val_accuracy: 0.9396\n",
      "Epoch 127/200\n",
      "517/517 [==============================] - 63s 121ms/step - loss: 0.0526 - accuracy: 0.9874 - val_loss: 0.2019 - val_accuracy: 0.9382\n",
      "Epoch 128/200\n",
      "517/517 [==============================] - 62s 121ms/step - loss: 0.0505 - accuracy: 0.9877 - val_loss: 0.1884 - val_accuracy: 0.9463\n",
      "Epoch 129/200\n",
      "517/517 [==============================] - 63s 121ms/step - loss: 0.0470 - accuracy: 0.9891 - val_loss: 0.2239 - val_accuracy: 0.9334\n",
      "Epoch 130/200\n",
      "517/517 [==============================] - 62s 121ms/step - loss: 0.0491 - accuracy: 0.9884 - val_loss: 0.1939 - val_accuracy: 0.9448\n",
      "Epoch 131/200\n",
      "517/517 [==============================] - 62s 121ms/step - loss: 0.0412 - accuracy: 0.9906 - val_loss: 0.2080 - val_accuracy: 0.9417\n",
      "Epoch 132/200\n",
      "517/517 [==============================] - 62s 120ms/step - loss: 0.0418 - accuracy: 0.9905 - val_loss: 0.2076 - val_accuracy: 0.9410\n",
      "Epoch 133/200\n",
      "517/517 [==============================] - 60s 115ms/step - loss: 0.0450 - accuracy: 0.9893 - val_loss: 0.2129 - val_accuracy: 0.9396\n",
      "Epoch 134/200\n",
      "517/517 [==============================] - 62s 119ms/step - loss: 0.0433 - accuracy: 0.9898 - val_loss: 0.2079 - val_accuracy: 0.9383\n",
      "Epoch 135/200\n",
      "517/517 [==============================] - 62s 121ms/step - loss: 0.0491 - accuracy: 0.9885 - val_loss: 0.1855 - val_accuracy: 0.9459\n",
      "Epoch 136/200\n",
      "517/517 [==============================] - 60s 117ms/step - loss: 0.0457 - accuracy: 0.9890 - val_loss: 0.2389 - val_accuracy: 0.9298\n",
      "Epoch 137/200\n",
      "517/517 [==============================] - 62s 120ms/step - loss: 0.0449 - accuracy: 0.9897 - val_loss: 0.2048 - val_accuracy: 0.9388\n",
      "Epoch 138/200\n",
      "517/517 [==============================] - 62s 120ms/step - loss: 0.0452 - accuracy: 0.9897 - val_loss: 0.2126 - val_accuracy: 0.9374\n",
      "Epoch 139/200\n",
      "517/517 [==============================] - 64s 123ms/step - loss: 0.0373 - accuracy: 0.9920 - val_loss: 0.2397 - val_accuracy: 0.9295\n",
      "Epoch 140/200\n",
      "517/517 [==============================] - 59s 115ms/step - loss: 0.0431 - accuracy: 0.9903 - val_loss: 0.2089 - val_accuracy: 0.9384\n",
      "Epoch 141/200\n",
      "517/517 [==============================] - 62s 119ms/step - loss: 0.0464 - accuracy: 0.9894 - val_loss: 0.1822 - val_accuracy: 0.9516\n",
      "Epoch 142/200\n",
      "517/517 [==============================] - 62s 121ms/step - loss: 0.0430 - accuracy: 0.9901 - val_loss: 0.2027 - val_accuracy: 0.9416\n",
      "Epoch 143/200\n",
      "517/517 [==============================] - 62s 119ms/step - loss: 0.0463 - accuracy: 0.9893 - val_loss: 0.2099 - val_accuracy: 0.9375\n",
      "Epoch 144/200\n",
      "517/517 [==============================] - 61s 119ms/step - loss: 0.0371 - accuracy: 0.9910 - val_loss: 0.1993 - val_accuracy: 0.9497\n",
      "Epoch 145/200\n",
      "517/517 [==============================] - 63s 122ms/step - loss: 0.0395 - accuracy: 0.9907 - val_loss: 0.2114 - val_accuracy: 0.9395\n",
      "Epoch 146/200\n",
      "517/517 [==============================] - 60s 115ms/step - loss: 0.0418 - accuracy: 0.9906 - val_loss: 0.2042 - val_accuracy: 0.9410\n",
      "Epoch 147/200\n",
      "517/517 [==============================] - 62s 120ms/step - loss: 0.0394 - accuracy: 0.9903 - val_loss: 0.1972 - val_accuracy: 0.9442\n",
      "Epoch 148/200\n",
      "517/517 [==============================] - 61s 119ms/step - loss: 0.0398 - accuracy: 0.9907 - val_loss: 0.2233 - val_accuracy: 0.9362\n",
      "Epoch 149/200\n",
      "517/517 [==============================] - 62s 120ms/step - loss: 0.0364 - accuracy: 0.9919 - val_loss: 0.2066 - val_accuracy: 0.9434\n",
      "Epoch 150/200\n",
      "517/517 [==============================] - 62s 120ms/step - loss: 0.0362 - accuracy: 0.9915 - val_loss: 0.2083 - val_accuracy: 0.9442\n",
      "Epoch 151/200\n",
      "517/517 [==============================] - 63s 121ms/step - loss: 0.0358 - accuracy: 0.9914 - val_loss: 0.2217 - val_accuracy: 0.9403\n",
      "Epoch 152/200\n",
      "517/517 [==============================] - 60s 116ms/step - loss: 0.0396 - accuracy: 0.9903 - val_loss: 0.2113 - val_accuracy: 0.9405\n",
      "Epoch 153/200\n",
      "517/517 [==============================] - 62s 121ms/step - loss: 0.0343 - accuracy: 0.9921 - val_loss: 0.1918 - val_accuracy: 0.9501\n",
      "Epoch 154/200\n",
      "517/517 [==============================] - 62s 120ms/step - loss: 0.0423 - accuracy: 0.9907 - val_loss: 0.2141 - val_accuracy: 0.9375\n",
      "Epoch 155/200\n",
      "517/517 [==============================] - 62s 121ms/step - loss: 0.0329 - accuracy: 0.9922 - val_loss: 0.2006 - val_accuracy: 0.9451\n",
      "Epoch 156/200\n",
      "517/517 [==============================] - 62s 121ms/step - loss: 0.0380 - accuracy: 0.9913 - val_loss: 0.2056 - val_accuracy: 0.9420\n",
      "Epoch 157/200\n",
      "517/517 [==============================] - 63s 121ms/step - loss: 0.0381 - accuracy: 0.9911 - val_loss: 0.2140 - val_accuracy: 0.9371\n",
      "Epoch 158/200\n",
      "517/517 [==============================] - 60s 116ms/step - loss: 0.0352 - accuracy: 0.9921 - val_loss: 0.1831 - val_accuracy: 0.9509\n",
      "Epoch 159/200\n",
      "517/517 [==============================] - 64s 124ms/step - loss: 0.0354 - accuracy: 0.9923 - val_loss: 0.2397 - val_accuracy: 0.9291\n",
      "Epoch 160/200\n",
      "517/517 [==============================] - 63s 123ms/step - loss: 0.0406 - accuracy: 0.9905 - val_loss: 0.2118 - val_accuracy: 0.9394\n",
      "Epoch 161/200\n",
      "517/517 [==============================] - 61s 117ms/step - loss: 0.0319 - accuracy: 0.9928 - val_loss: 0.1855 - val_accuracy: 0.9516\n",
      "Epoch 162/200\n",
      "517/517 [==============================] - 63s 122ms/step - loss: 0.0332 - accuracy: 0.9929 - val_loss: 0.2076 - val_accuracy: 0.9424\n",
      "Epoch 163/200\n",
      "517/517 [==============================] - 59s 115ms/step - loss: 0.0373 - accuracy: 0.9914 - val_loss: 0.2072 - val_accuracy: 0.9426\n",
      "Epoch 164/200\n",
      "517/517 [==============================] - 63s 122ms/step - loss: 0.0381 - accuracy: 0.9916 - val_loss: 0.2079 - val_accuracy: 0.9415\n",
      "Epoch 165/200\n",
      "517/517 [==============================] - 60s 117ms/step - loss: 0.0317 - accuracy: 0.9927 - val_loss: 0.1923 - val_accuracy: 0.9476\n",
      "Epoch 166/200\n",
      "517/517 [==============================] - 64s 124ms/step - loss: 0.0313 - accuracy: 0.9930 - val_loss: 0.1888 - val_accuracy: 0.9485\n",
      "Epoch 167/200\n",
      "517/517 [==============================] - 61s 117ms/step - loss: 0.0352 - accuracy: 0.9920 - val_loss: 0.2248 - val_accuracy: 0.9353\n",
      "Epoch 168/200\n",
      "517/517 [==============================] - 61s 118ms/step - loss: 0.0325 - accuracy: 0.9924 - val_loss: 0.1922 - val_accuracy: 0.9501\n",
      "Epoch 169/200\n",
      "517/517 [==============================] - 64s 123ms/step - loss: 0.0346 - accuracy: 0.9920 - val_loss: 0.1870 - val_accuracy: 0.9511\n",
      "Epoch 170/200\n",
      "517/517 [==============================] - 60s 117ms/step - loss: 0.0368 - accuracy: 0.9918 - val_loss: 0.2135 - val_accuracy: 0.9388\n",
      "Epoch 171/200\n",
      "517/517 [==============================] - 63s 122ms/step - loss: 0.0309 - accuracy: 0.9931 - val_loss: 0.2100 - val_accuracy: 0.9418\n",
      "Epoch 172/200\n",
      "517/517 [==============================] - 60s 116ms/step - loss: 0.0263 - accuracy: 0.9936 - val_loss: 0.2148 - val_accuracy: 0.9437\n",
      "Epoch 173/200\n",
      "517/517 [==============================] - 63s 122ms/step - loss: 0.0302 - accuracy: 0.9931 - val_loss: 0.1874 - val_accuracy: 0.9499\n",
      "Epoch 174/200\n",
      "517/517 [==============================] - 61s 117ms/step - loss: 0.0341 - accuracy: 0.9925 - val_loss: 0.1996 - val_accuracy: 0.9484\n",
      "Epoch 175/200\n",
      "517/517 [==============================] - 63s 122ms/step - loss: 0.0344 - accuracy: 0.9919 - val_loss: 0.2241 - val_accuracy: 0.9413\n",
      "Epoch 176/200\n",
      "517/517 [==============================] - 60s 116ms/step - loss: 0.0339 - accuracy: 0.9924 - val_loss: 0.2144 - val_accuracy: 0.9403\n",
      "Epoch 177/200\n",
      "517/517 [==============================] - 65s 125ms/step - loss: 0.0328 - accuracy: 0.9927 - val_loss: 0.1986 - val_accuracy: 0.9472\n",
      "Epoch 178/200\n",
      "517/517 [==============================] - 60s 116ms/step - loss: 0.0278 - accuracy: 0.9944 - val_loss: 0.1827 - val_accuracy: 0.9513\n",
      "Epoch 179/200\n",
      "517/517 [==============================] - 60s 116ms/step - loss: 0.0296 - accuracy: 0.9933 - val_loss: 0.2292 - val_accuracy: 0.9370\n",
      "Epoch 180/200\n",
      "517/517 [==============================] - 64s 123ms/step - loss: 0.0297 - accuracy: 0.9935 - val_loss: 0.2140 - val_accuracy: 0.9425\n",
      "Epoch 181/200\n",
      "517/517 [==============================] - 60s 117ms/step - loss: 0.0298 - accuracy: 0.9930 - val_loss: 0.2159 - val_accuracy: 0.9439\n",
      "Epoch 182/200\n",
      "517/517 [==============================] - 63s 123ms/step - loss: 0.0316 - accuracy: 0.9931 - val_loss: 0.2074 - val_accuracy: 0.9442\n",
      "Epoch 183/200\n",
      "517/517 [==============================] - 60s 117ms/step - loss: 0.0341 - accuracy: 0.9924 - val_loss: 0.2236 - val_accuracy: 0.9388\n",
      "Epoch 184/200\n",
      "517/517 [==============================] - 63s 122ms/step - loss: 0.0326 - accuracy: 0.9928 - val_loss: 0.1999 - val_accuracy: 0.9454\n",
      "Epoch 185/200\n",
      "517/517 [==============================] - 61s 117ms/step - loss: 0.0289 - accuracy: 0.9934 - val_loss: 0.2267 - val_accuracy: 0.9422\n",
      "Epoch 186/200\n",
      "517/517 [==============================] - 64s 123ms/step - loss: 0.0325 - accuracy: 0.9927 - val_loss: 0.1963 - val_accuracy: 0.9487\n",
      "Epoch 187/200\n",
      "517/517 [==============================] - 59s 114ms/step - loss: 0.0299 - accuracy: 0.9936 - val_loss: 0.2023 - val_accuracy: 0.9475\n",
      "Epoch 188/200\n",
      "517/517 [==============================] - 66s 129ms/step - loss: 0.0267 - accuracy: 0.9942 - val_loss: 0.2193 - val_accuracy: 0.9421\n",
      "Epoch 189/200\n",
      "517/517 [==============================] - 59s 114ms/step - loss: 0.0310 - accuracy: 0.9933 - val_loss: 0.2257 - val_accuracy: 0.9416\n",
      "Epoch 190/200\n",
      "517/517 [==============================] - 60s 116ms/step - loss: 0.0271 - accuracy: 0.9935 - val_loss: 0.2180 - val_accuracy: 0.9398\n",
      "Epoch 191/200\n",
      "517/517 [==============================] - 63s 122ms/step - loss: 0.0341 - accuracy: 0.9925 - val_loss: 0.1996 - val_accuracy: 0.9461\n",
      "Epoch 192/200\n",
      "517/517 [==============================] - 60s 115ms/step - loss: 0.0281 - accuracy: 0.9936 - val_loss: 0.2060 - val_accuracy: 0.9454\n",
      "Epoch 193/200\n",
      "517/517 [==============================] - 64s 123ms/step - loss: 0.0314 - accuracy: 0.9929 - val_loss: 0.2166 - val_accuracy: 0.9436\n",
      "Epoch 194/200\n",
      "517/517 [==============================] - 60s 116ms/step - loss: 0.0277 - accuracy: 0.9943 - val_loss: 0.1926 - val_accuracy: 0.9480\n",
      "Epoch 195/200\n",
      "517/517 [==============================] - 63s 122ms/step - loss: 0.0294 - accuracy: 0.9932 - val_loss: 0.2093 - val_accuracy: 0.9437\n",
      "Epoch 196/200\n",
      "517/517 [==============================] - 60s 116ms/step - loss: 0.0305 - accuracy: 0.9935 - val_loss: 0.1797 - val_accuracy: 0.9535\n",
      "Epoch 197/200\n",
      "517/517 [==============================] - 64s 123ms/step - loss: 0.0313 - accuracy: 0.9939 - val_loss: 0.2059 - val_accuracy: 0.9444\n",
      "Epoch 198/200\n",
      "517/517 [==============================] - 60s 116ms/step - loss: 0.0259 - accuracy: 0.9940 - val_loss: 0.2001 - val_accuracy: 0.9496\n",
      "Epoch 199/200\n",
      "517/517 [==============================] - 60s 116ms/step - loss: 0.0290 - accuracy: 0.9933 - val_loss: 0.1985 - val_accuracy: 0.9491\n",
      "Epoch 200/200\n",
      "517/517 [==============================] - 64s 123ms/step - loss: 0.0278 - accuracy: 0.9940 - val_loss: 0.2065 - val_accuracy: 0.9438\n"
     ]
    },
    {
     "data": {
      "text/plain": [
       "<keras.callbacks.History at 0x7f9af9744c10>"
      ]
     },
     "execution_count": 13,
     "metadata": {},
     "output_type": "execute_result"
    }
   ],
   "source": [
    "\n",
    "model.compile(optimizer =tf.keras.optimizers.Adam(learning_rate=0.0001),\\\n",
    "              loss= 'binary_crossentropy', metrics=['accuracy'])\n",
    "\n",
    "weights = {0:1, 1:3}\n",
    "model.fit(train_features, train_target,  class_weight=weights,validation_split=0.3,batch_size = 64,epochs=200)\n",
    "\n",
    "\n"
   ]
  },
  {
   "cell_type": "code",
   "execution_count": 14,
   "id": "c2691580",
   "metadata": {
    "execution": {
     "iopub.execute_input": "2023-01-27T02:38:47.574527Z",
     "iopub.status.busy": "2023-01-27T02:38:47.573574Z",
     "iopub.status.idle": "2023-01-27T02:38:47.642437Z",
     "shell.execute_reply": "2023-01-27T02:38:47.641331Z"
    },
    "papermill": {
     "duration": 7.120282,
     "end_time": "2023-01-27T02:38:47.645157",
     "exception": false,
     "start_time": "2023-01-27T02:38:40.524875",
     "status": "completed"
    },
    "tags": []
   },
   "outputs": [],
   "source": [
    "model.save(\"/kaggle/working/trained_model_breast_cancer3.h5\")"
   ]
  },
  {
   "cell_type": "code",
   "execution_count": 15,
   "id": "7891da50",
   "metadata": {
    "execution": {
     "iopub.execute_input": "2023-01-27T02:39:01.386112Z",
     "iopub.status.busy": "2023-01-27T02:39:01.385719Z",
     "iopub.status.idle": "2023-01-27T02:39:01.390308Z",
     "shell.execute_reply": "2023-01-27T02:39:01.389101Z"
    },
    "papermill": {
     "duration": 6.988075,
     "end_time": "2023-01-27T02:39:01.392672",
     "exception": false,
     "start_time": "2023-01-27T02:38:54.404597",
     "status": "completed"
    },
    "tags": []
   },
   "outputs": [],
   "source": [
    "#from tensorflow import keras\n",
    "#savedModel = keras.models.load_model(\"/kaggle/input/pre-trained-model-of-breast-cancer/trained_model_breast_cancer3.h5\")\n",
    "\n"
   ]
  },
  {
   "cell_type": "code",
   "execution_count": 16,
   "id": "003ecf1c",
   "metadata": {
    "execution": {
     "iopub.execute_input": "2023-01-27T02:39:15.206548Z",
     "iopub.status.busy": "2023-01-27T02:39:15.206175Z",
     "iopub.status.idle": "2023-01-27T02:39:25.716041Z",
     "shell.execute_reply": "2023-01-27T02:39:25.714833Z"
    },
    "papermill": {
     "duration": 17.441555,
     "end_time": "2023-01-27T02:39:25.718801",
     "exception": false,
     "start_time": "2023-01-27T02:39:08.277246",
     "status": "completed"
    },
    "tags": []
   },
   "outputs": [],
   "source": [
    "test_features=[]\n",
    "for i in test['img_data']:\n",
    "    i=np.array(i)\n",
    "    test_features.append(i)\n",
    "test_features=np.array(test_features)\n",
    " \n",
    "\n",
    "    \n",
    "#featureTransform = test_features.reshape(len(test_features), 6400)\n",
    "scaler = StandardScaler()\n",
    "#featureTransform =scaler.fit_transform(featureTransform)\n",
    "norm_features= []\n",
    "for i in range(len(test_features)):\n",
    "    norm_features.append(scaler.fit_transform(test_features[i]))\n",
    "test_features=np.array(norm_features)\n",
    "\n",
    "\n",
    "#backTransform = featureTransform.reshape(len(test_features),80,80)\n",
    "test_features = test_features.reshape(len(test_features),80,80,1)\n",
    "\n",
    "\n",
    "\n",
    "test_target = np.array(test['cancer'])"
   ]
  },
  {
   "cell_type": "code",
   "execution_count": 17,
   "id": "b1260ead",
   "metadata": {
    "execution": {
     "iopub.execute_input": "2023-01-27T02:39:39.632505Z",
     "iopub.status.busy": "2023-01-27T02:39:39.632106Z",
     "iopub.status.idle": "2023-01-27T02:39:49.843508Z",
     "shell.execute_reply": "2023-01-27T02:39:49.842402Z"
    },
    "papermill": {
     "duration": 17.155967,
     "end_time": "2023-01-27T02:39:49.846321",
     "exception": false,
     "start_time": "2023-01-27T02:39:32.690354",
     "status": "completed"
    },
    "tags": []
   },
   "outputs": [],
   "source": [
    "pred = model.predict(test_features)\n",
    "bin_pred = []\n",
    "for i in pred:\n",
    "    if i>=0.5:\n",
    "        bin_pred.append(1)\n",
    "    else:\n",
    "        bin_pred.append(0)\n",
    "bin_pred = np.array(bin_pred)\n"
   ]
  },
  {
   "cell_type": "code",
   "execution_count": 18,
   "id": "f1ad362c",
   "metadata": {
    "execution": {
     "iopub.execute_input": "2023-01-27T02:40:03.790121Z",
     "iopub.status.busy": "2023-01-27T02:40:03.789664Z",
     "iopub.status.idle": "2023-01-27T02:40:03.827659Z",
     "shell.execute_reply": "2023-01-27T02:40:03.825825Z"
    },
    "papermill": {
     "duration": 7.048226,
     "end_time": "2023-01-27T02:40:03.830233",
     "exception": false,
     "start_time": "2023-01-27T02:39:56.782007",
     "status": "completed"
    },
    "tags": []
   },
   "outputs": [
    {
     "name": "stdout",
     "output_type": "stream",
     "text": [
      "0.9437086092715232\n",
      "0.9481076378099559 0.9266232198889693\n"
     ]
    }
   ],
   "source": [
    "import sklearn\n",
    "acc = sklearn.metrics.accuracy_score(test_target, bin_pred)\n",
    "print(acc)\n",
    "\n",
    "countzero=0\n",
    "countone=0\n",
    "countzerot=0\n",
    "countonet=0\n",
    "for i, j in zip(test_target, bin_pred):\n",
    "    if i==0 and j==0:\n",
    "        countzero+=1\n",
    "    if i==1 and j==1:\n",
    "        countone+=1\n",
    "    if i==1:\n",
    "        countonet+=1\n",
    "    if i==0:\n",
    "        countzerot+=1\n",
    "print(countzero/countzerot,countone/countonet)"
   ]
  },
  {
   "cell_type": "code",
   "execution_count": 19,
   "id": "363d76c5",
   "metadata": {
    "execution": {
     "iopub.execute_input": "2023-01-27T02:40:17.636729Z",
     "iopub.status.busy": "2023-01-27T02:40:17.636340Z",
     "iopub.status.idle": "2023-01-27T02:40:17.646800Z",
     "shell.execute_reply": "2023-01-27T02:40:17.645643Z"
    },
    "papermill": {
     "duration": 6.872156,
     "end_time": "2023-01-27T02:40:17.649008",
     "exception": false,
     "start_time": "2023-01-27T02:40:10.776852",
     "status": "completed"
    },
    "tags": []
   },
   "outputs": [
    {
     "name": "stdout",
     "output_type": "stream",
     "text": [
      "0.8708177384597935\n"
     ]
    }
   ],
   "source": [
    "\n",
    "def recall_m(y_true, y_pred):\n",
    "    true_positives = np.sum(np.round(np.clip(y_true * y_pred, 0, 1)))\n",
    "    possible_positives = np.sum(np.round(np.clip(y_true, 0, 1)))\n",
    "    recall = true_positives / (possible_positives )\n",
    "    return recall\n",
    "\n",
    "def precision_m(y_true, y_pred):\n",
    "    true_positives = np.sum(np.round(np.clip(y_true * y_pred, 0, 1)))\n",
    "    predicted_positives = np.sum(np.round(np.clip(y_pred, 0, 1)))\n",
    "    precision = true_positives / (predicted_positives )\n",
    "    return precision\n",
    "\n",
    "def f1_m(y_true, y_pred):\n",
    "    precision = precision_m(y_true, y_pred)\n",
    "    recall = recall_m(y_true, y_pred)\n",
    "    return 2*((precision*recall)/(precision+recall))\n",
    "\n",
    "\n",
    "print(f1_m(test_target,bin_pred))"
   ]
  },
  {
   "cell_type": "code",
   "execution_count": 20,
   "id": "06ae6a12",
   "metadata": {
    "execution": {
     "iopub.execute_input": "2023-01-27T02:40:31.299046Z",
     "iopub.status.busy": "2023-01-27T02:40:31.298665Z",
     "iopub.status.idle": "2023-01-27T02:40:58.834351Z",
     "shell.execute_reply": "2023-01-27T02:40:58.833205Z"
    },
    "papermill": {
     "duration": 34.437574,
     "end_time": "2023-01-27T02:40:58.837209",
     "exception": false,
     "start_time": "2023-01-27T02:40:24.399635",
     "status": "completed"
    },
    "tags": []
   },
   "outputs": [
    {
     "name": "stderr",
     "output_type": "stream",
     "text": [
      " 75%|███████▌  | 3/4 [00:00<00:00,  5.99it/s]\n"
     ]
    }
   ],
   "source": [
    "datasetPath = '/kaggle/input/rsna-breast-cancer-detection/test.csv'\n",
    "imgPath = '/kaggle/input/rsna-breast-cancer-detection/test_images/'\n",
    "\n",
    "testImgData = dcmToPix(datasetPath, imgPath)"
   ]
  },
  {
   "cell_type": "code",
   "execution_count": 21,
   "id": "591c80c7",
   "metadata": {
    "execution": {
     "iopub.execute_input": "2023-01-27T02:41:12.764248Z",
     "iopub.status.busy": "2023-01-27T02:41:12.763330Z",
     "iopub.status.idle": "2023-01-27T02:41:12.794323Z",
     "shell.execute_reply": "2023-01-27T02:41:12.792464Z"
    },
    "papermill": {
     "duration": 6.939502,
     "end_time": "2023-01-27T02:41:12.797044",
     "exception": false,
     "start_time": "2023-01-27T02:41:05.857542",
     "status": "completed"
    },
    "tags": []
   },
   "outputs": [],
   "source": [
    "datacancer = pd.read_csv(datasetPath)\n",
    "imgDataFrame = {'img_data':testImgData}\n",
    "imgData2 = pd.DataFrame(imgDataFrame)\n",
    "testImgData=imgData2\n",
    "imgdata_shuff = testImgData.sample(frac=1)"
   ]
  },
  {
   "cell_type": "code",
   "execution_count": 22,
   "id": "c621724e",
   "metadata": {
    "execution": {
     "iopub.execute_input": "2023-01-27T02:41:26.675904Z",
     "iopub.status.busy": "2023-01-27T02:41:26.675475Z",
     "iopub.status.idle": "2023-01-27T02:41:26.689656Z",
     "shell.execute_reply": "2023-01-27T02:41:26.688416Z"
    },
    "papermill": {
     "duration": 6.947891,
     "end_time": "2023-01-27T02:41:26.691907",
     "exception": false,
     "start_time": "2023-01-27T02:41:19.744016",
     "status": "completed"
    },
    "tags": []
   },
   "outputs": [
    {
     "name": "stderr",
     "output_type": "stream",
     "text": [
      "100%|██████████| 4/4 [00:00<00:00, 2041.77it/s]\n"
     ]
    }
   ],
   "source": [
    "imgDataList=[]\n",
    "for j in tqdm(imgdata_shuff['img_data']):\n",
    "    imgDataList.append(random_rotate(j))\n",
    "imgdata_shuff['img_data'] = imgDataList"
   ]
  },
  {
   "cell_type": "code",
   "execution_count": 23,
   "id": "6c521d2e",
   "metadata": {
    "execution": {
     "iopub.execute_input": "2023-01-27T02:41:40.487637Z",
     "iopub.status.busy": "2023-01-27T02:41:40.487259Z",
     "iopub.status.idle": "2023-01-27T02:41:40.703442Z",
     "shell.execute_reply": "2023-01-27T02:41:40.702289Z"
    },
    "papermill": {
     "duration": 7.155469,
     "end_time": "2023-01-27T02:41:40.706350",
     "exception": false,
     "start_time": "2023-01-27T02:41:33.550881",
     "status": "completed"
    },
    "tags": []
   },
   "outputs": [],
   "source": [
    "test=imgdata_shuff\n",
    "\n",
    "\n",
    "test_features=[]\n",
    "for i in test['img_data']:\n",
    "    i=np.array(i)\n",
    "    test_features.append(i)\n",
    "test_features=np.array(test_features)\n",
    " \n",
    "#featureTransform = test_features.reshape(len(test_features), 6400)\n",
    "scaler = StandardScaler()\n",
    "#featureTransform =scaler.fit_transform(featureTransform)\n",
    "norm_features= []\n",
    "for i in range(len(test_features)):\n",
    "    norm_features.append(scaler.fit_transform(test_features[i]))\n",
    "test_features=np.array(norm_features)\n",
    "\n",
    "\n",
    "#backTransform = featureTransform.reshape(len(test_features),80,80)\n",
    "test_features = test_features.reshape(len(test_features),80,80,1)\n",
    "\n",
    "\n"
   ]
  },
  {
   "cell_type": "code",
   "execution_count": 24,
   "id": "545036a2",
   "metadata": {
    "execution": {
     "iopub.execute_input": "2023-01-27T02:41:54.590066Z",
     "iopub.status.busy": "2023-01-27T02:41:54.589275Z",
     "iopub.status.idle": "2023-01-27T02:41:54.671679Z",
     "shell.execute_reply": "2023-01-27T02:41:54.670857Z"
    },
    "papermill": {
     "duration": 6.876085,
     "end_time": "2023-01-27T02:41:54.674236",
     "exception": false,
     "start_time": "2023-01-27T02:41:47.798151",
     "status": "completed"
    },
    "tags": []
   },
   "outputs": [
    {
     "name": "stdout",
     "output_type": "stream",
     "text": [
      "[0 0 0 0]\n"
     ]
    }
   ],
   "source": [
    "pred = model.predict(test_features)\n",
    "bin_pred = []\n",
    "for i in pred:\n",
    "    if i>=0.5:\n",
    "        bin_pred.append(1)\n",
    "    else:\n",
    "        bin_pred.append(0)\n",
    "bin_pred = np.array(bin_pred)\n",
    "print(bin_pred)"
   ]
  },
  {
   "cell_type": "code",
   "execution_count": 25,
   "id": "086e65db",
   "metadata": {
    "execution": {
     "iopub.execute_input": "2023-01-27T02:42:08.583819Z",
     "iopub.status.busy": "2023-01-27T02:42:08.583315Z",
     "iopub.status.idle": "2023-01-27T02:42:08.602691Z",
     "shell.execute_reply": "2023-01-27T02:42:08.601460Z"
    },
    "papermill": {
     "duration": 6.99791,
     "end_time": "2023-01-27T02:42:08.605127",
     "exception": false,
     "start_time": "2023-01-27T02:42:01.607217",
     "status": "completed"
    },
    "tags": []
   },
   "outputs": [
    {
     "name": "stdout",
     "output_type": "stream",
     "text": [
      "  prediction_id  cancer\n",
      "0       10008_L       0\n",
      "1       10008_L       0\n",
      "2       10008_R       0\n",
      "3       10008_R       0\n"
     ]
    }
   ],
   "source": [
    "testData = pd.read_csv('/kaggle/input/rsna-breast-cancer-detection/test.csv')\n",
    "\n",
    "submissionFrame={'prediction_id':testData['prediction_id'],'cancer':bin_pred}\n",
    "submission = pd.DataFrame(submissionFrame)\n",
    "print(submission)"
   ]
  }
 ],
 "metadata": {
  "kernelspec": {
   "display_name": "Python 3",
   "language": "python",
   "name": "python3"
  },
  "language_info": {
   "codemirror_mode": {
    "name": "ipython",
    "version": 3
   },
   "file_extension": ".py",
   "mimetype": "text/x-python",
   "name": "python",
   "nbconvert_exporter": "python",
   "pygments_lexer": "ipython3",
   "version": "3.7.12"
  },
  "papermill": {
   "default_parameters": {},
   "duration": 12584.728888,
   "end_time": "2023-01-27T02:42:18.911759",
   "environment_variables": {},
   "exception": null,
   "input_path": "__notebook__.ipynb",
   "output_path": "__notebook__.ipynb",
   "parameters": {},
   "start_time": "2023-01-26T23:12:34.182871",
   "version": "2.3.4"
  }
 },
 "nbformat": 4,
 "nbformat_minor": 5
}
