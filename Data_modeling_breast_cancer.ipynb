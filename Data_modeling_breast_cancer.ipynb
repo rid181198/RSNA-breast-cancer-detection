{
 "cells": [
  {
   "cell_type": "code",
   "execution_count": 1,
   "id": "8b5f16f7",
   "metadata": {
    "execution": {
     "iopub.execute_input": "2023-02-09T22:49:00.769635Z",
     "iopub.status.busy": "2023-02-09T22:49:00.769131Z",
     "iopub.status.idle": "2023-02-09T22:49:06.657027Z",
     "shell.execute_reply": "2023-02-09T22:49:06.656072Z"
    },
    "papermill": {
     "duration": 5.897329,
     "end_time": "2023-02-09T22:49:06.659599",
     "exception": false,
     "start_time": "2023-02-09T22:49:00.762270",
     "status": "completed"
    },
    "tags": []
   },
   "outputs": [],
   "source": [
    "import numpy as np\n",
    "import pandas as pd\n",
    "import matplotlib.pyplot as plt\n",
    "import seaborn as sns\n",
    "import pickle\n",
    "import tensorflow as tf\n",
    "import tensorflow_io as tfio\n",
    "import os\n",
    "from tqdm import tqdm\n",
    "import cv2\n",
    "from PIL import Image\n",
    "from joblib import Parallel, delayed\n",
    "import gc\n",
    "from PIL import Image as im\n",
    "import random\n",
    "from scipy import ndimage\n"
   ]
  },
  {
   "cell_type": "code",
   "execution_count": 2,
   "id": "60cdf8e8",
   "metadata": {
    "execution": {
     "iopub.execute_input": "2023-02-09T22:49:06.669699Z",
     "iopub.status.busy": "2023-02-09T22:49:06.669178Z",
     "iopub.status.idle": "2023-02-09T22:49:18.212070Z",
     "shell.execute_reply": "2023-02-09T22:49:18.210986Z"
    },
    "papermill": {
     "duration": 11.550909,
     "end_time": "2023-02-09T22:49:18.214991",
     "exception": false,
     "start_time": "2023-02-09T22:49:06.664082",
     "status": "completed"
    },
    "tags": []
   },
   "outputs": [
    {
     "name": "stdout",
     "output_type": "stream",
     "text": [
      "Collecting dicomsdl\r\n",
      "  Downloading dicomsdl-0.109.1-cp37-cp37m-manylinux_2_12_x86_64.manylinux2010_x86_64.whl (1.4 MB)\r\n",
      "\u001b[2K     \u001b[90m━━━━━━━━━━━━━━━━━━━━━━━━━━━━━━━━━━━━━━━━\u001b[0m \u001b[32m1.4/1.4 MB\u001b[0m \u001b[31m4.0 MB/s\u001b[0m eta \u001b[36m0:00:00\u001b[0m\r\n",
      "\u001b[?25hInstalling collected packages: dicomsdl\r\n",
      "Successfully installed dicomsdl-0.109.1\r\n",
      "\u001b[33mWARNING: Running pip as the 'root' user can result in broken permissions and conflicting behaviour with the system package manager. It is recommended to use a virtual environment instead: https://pip.pypa.io/warnings/venv\u001b[0m\u001b[33m\r\n",
      "\u001b[0m"
     ]
    }
   ],
   "source": [
    "import sys\n",
    "!{sys.executable} -m pip install dicomsdl\n",
    "#!pip install /kaggle/input/rsnapacks/dicomsdl-0.109.1-cp36-cp36m-manylinux_2_12_x86_64.manylinux2010_x86_64.whl\n",
    "import numpy as np\n",
    "import pandas as pd\n",
    "import matplotlib.pyplot as plt\n",
    "import seaborn as sns\n",
    "import pickle\n",
    "#import pydicom as dicom\n",
    "import dicomsdl as dicom\n",
    "import tensorflow as tf\n",
    "import tensorflow_io as tfio\n",
    "from PIL import Image as im\n",
    "import os\n",
    "from tqdm import tqdm\n",
    "import cv2\n",
    "from PIL import Image\n",
    "from joblib import Parallel, delayed\n",
    "import gc\n",
    "import random"
   ]
  },
  {
   "cell_type": "code",
   "execution_count": 3,
   "id": "852c331e",
   "metadata": {
    "execution": {
     "iopub.execute_input": "2023-02-09T22:49:18.226549Z",
     "iopub.status.busy": "2023-02-09T22:49:18.226212Z",
     "iopub.status.idle": "2023-02-09T22:49:18.245385Z",
     "shell.execute_reply": "2023-02-09T22:49:18.244540Z"
    },
    "papermill": {
     "duration": 0.027241,
     "end_time": "2023-02-09T22:49:18.247291",
     "exception": false,
     "start_time": "2023-02-09T22:49:18.220050",
     "status": "completed"
    },
    "tags": []
   },
   "outputs": [],
   "source": [
    "datasetPath = '/kaggle/input/rsna-breast-cancer-detection/train.csv'\n",
    "imgPath = '/kaggle/input/rsna-breast-cancer-detection/train_images/'\n",
    "\n",
    "def crop(sideName, imgName):\n",
    "    \"\"\"\n",
    "    This function is used to crop the breast images. It takes two arguments.\n",
    "    \n",
    "    Input:-\n",
    "    :sideName = Laterality of breast if it is right or left\n",
    "    :imgName = Image pixel data of the DCM images\n",
    "    \n",
    "    Output:-\n",
    "    :return = Output after cropping the image.\n",
    "    \n",
    "    \"\"\"\n",
    "    if sideName == 'L':\n",
    "        colind=[]\n",
    "        for r,row in enumerate(imgName):\n",
    "            for c,col in enumerate(row):\n",
    "                if col==0:\n",
    "                    colind.append(c)\n",
    "                    break\n",
    "        crop_size = max(colind)\n",
    "        imgName = imgName[0:512,0:crop_size]\n",
    "        imgName = cv2.resize(imgName,(128,128))\n",
    "        \n",
    "    if sideName == 'R':\n",
    "        colind=[]\n",
    "        for r,row in enumerate(imgName):\n",
    "            for c,col in enumerate(row):\n",
    "                if col!=0:\n",
    "                    colind.append(c)\n",
    "                    break\n",
    "        crop_size = min(colind)\n",
    "        imgName = imgName[0:512,crop_size:512]\n",
    "        imgName = cv2.resize(imgName,(128,128))\n",
    "    \n",
    "    return imgName    \n",
    "\n",
    "    gc.collect()\n",
    "    \n",
    "def crop_reverse(sideName, imgName):\n",
    "    \n",
    "    \"\"\"\n",
    "    This function is used to crop the breast images but in the reverse order.\n",
    "    Because the laterality is defined wrongly for some images. It takes two arguments.\n",
    "    \n",
    "    Input:-\n",
    "    :sideName = Laterality of breast if it is right or left\n",
    "    :imgName = Image pixel data of the DCM images\n",
    "    \n",
    "    Output:-\n",
    "    :return = Output after cropping the image.\n",
    "    \n",
    "    \"\"\"\n",
    "    \n",
    "    if sideName == 'R':\n",
    "        colind=[]\n",
    "        for r,row in enumerate(imgName):\n",
    "            for c,col in enumerate(row):\n",
    "                if col==0:\n",
    "                    colind.append(c)\n",
    "                    break\n",
    "        crop_size = max(colind)\n",
    "        imgName = imgName[0:512,0:crop_size]\n",
    "        imgName = cv2.resize(imgName,(128,128))\n",
    "        \n",
    "    if sideName == 'L':\n",
    "        colind=[]\n",
    "        for r,row in enumerate(imgName):\n",
    "            for c,col in enumerate(row):\n",
    "                if col!=0:\n",
    "                    colind.append(c)\n",
    "                    break\n",
    "        crop_size = min(colind)\n",
    "        imgName = imgName[0:512,crop_size:512]\n",
    "        imgName = cv2.resize(imgName,(128,128))\n",
    "    \n",
    "    return imgName    \n",
    "\n",
    "    gc.collect()\n",
    "    \n",
    "\n",
    "def img_process(i,filename,sides):\n",
    "    \n",
    "    \"\"\"\n",
    "    This function is used to process the images which will be used for the training/test dataset. It takes three arguments.\n",
    "    \n",
    "    Input:-\n",
    "    :i = Index of the image in the dataframe\n",
    "    :filename = Path of the image\n",
    "    :sides = List of all images' laterality\n",
    "    \n",
    "    Output:-\n",
    "    :return = Output after cropping the image.\n",
    "    \n",
    "    \"\"\"\n",
    "    \n",
    "    \n",
    "    #ds = dicom.dcmread(filename)\n",
    "    dsraw = dicom.open(filename)\n",
    "    ds = dsraw.pixelData()\n",
    "    \n",
    "    ds = (ds - ds.min()) / (ds.max() - ds.min())\n",
    "    if dsraw.PhotometricInterpretation == \"MONOCHROME1\":  \n",
    "        ds = 1 - ds\n",
    "    ds = (ds * 255).astype(np.uint8)\n",
    "\n",
    "    \n",
    "    #ds = cv2.normalize(ds, None, 0, 1.0, cv2.NORM_MINMAX, dtype=cv2.CV_32F)\n",
    "    ds = cv2.resize(ds,(512,512))\n",
    "    \n",
    "    #ds = np.where(ds >= 0.999, 0,ds)\n",
    "    \n",
    "    try:\n",
    "        ds = np.array(crop(sides[i], ds))   \n",
    "    except:\n",
    "        ds = np.array(crop_reverse(sides[i], ds))\n",
    "    \n",
    "\n",
    "    #train_data.loc[i,'img_data'] = [img_fin]\n",
    "    #train_data.to_csv('/kaggle/working/training_img_data.csv') \n",
    "    return ds\n",
    "    gc.collect()\n",
    "\n",
    "def dcmToPix(datasetPath, imgPath):\n",
    "    \n",
    "    \"\"\"\n",
    "    This function is used to process all the images which will be used for the training/test dataset. It takes two arguments.\n",
    "    \n",
    "    Input:-\n",
    "    :datasetPath = Path of the cancer dataset\n",
    "    :imgPath = Path of the image dataset\n",
    "   \n",
    "    Output:-\n",
    "    :return = Array of all the processed images\n",
    "    \n",
    "    \"\"\"\n",
    "    \n",
    "    \n",
    "    dataset = pd.read_csv(datasetPath)\n",
    "    \n",
    "    patient_ids = dataset['patient_id']\n",
    "    image_ids = dataset['image_id']\n",
    "    sides  = dataset['laterality']\n",
    "\n",
    "    imgData = []\n",
    "\n",
    "    for pi, ii, leng in zip(patient_ids, image_ids, range(len(patient_ids))):\n",
    "        imgData.append(imgPath + str(pi) + '/' + str(ii) + '.dcm')\n",
    "\n",
    "    dataset['img_data'] = \" \"\n",
    "    \n",
    "    result = Parallel(n_jobs=128)(\\\n",
    "    delayed(img_process)(i, fname, sides) for i, fname in zip(range(len(imgData)),tqdm(imgData))\\\n",
    "    )\n",
    "    \n",
    "    dataset['img_data'] = result\n",
    "    dataset.to_pickle('imgData.pkl' )\n",
    "    \n",
    "    return result\n",
    "    "
   ]
  },
  {
   "cell_type": "code",
   "execution_count": 4,
   "id": "ca0ccdcf",
   "metadata": {
    "_cell_guid": "b1076dfc-b9ad-4769-8c92-a6c4dae69d19",
    "_uuid": "8f2839f25d086af736a60e9eeb907d3b93b6e0e5",
    "execution": {
     "iopub.execute_input": "2023-02-09T22:49:18.258356Z",
     "iopub.status.busy": "2023-02-09T22:49:18.257535Z",
     "iopub.status.idle": "2023-02-09T22:49:26.885865Z",
     "shell.execute_reply": "2023-02-09T22:49:26.884894Z"
    },
    "papermill": {
     "duration": 8.636845,
     "end_time": "2023-02-09T22:49:26.888703",
     "exception": false,
     "start_time": "2023-02-09T22:49:18.251858",
     "status": "completed"
    },
    "tags": []
   },
   "outputs": [],
   "source": [
    "with (open('/kaggle/input/output/imgData.pkl', \"rb\")) as openfile:\n",
    "     imgData = pickle.load(openfile)"
   ]
  },
  {
   "cell_type": "code",
   "execution_count": 5,
   "id": "b7828caf",
   "metadata": {
    "execution": {
     "iopub.execute_input": "2023-02-09T22:49:26.899684Z",
     "iopub.status.busy": "2023-02-09T22:49:26.899364Z",
     "iopub.status.idle": "2023-02-09T22:49:26.903399Z",
     "shell.execute_reply": "2023-02-09T22:49:26.902383Z"
    },
    "papermill": {
     "duration": 0.01216,
     "end_time": "2023-02-09T22:49:26.905868",
     "exception": false,
     "start_time": "2023-02-09T22:49:26.893708",
     "status": "completed"
    },
    "tags": []
   },
   "outputs": [],
   "source": [
    "#datacancer = pd.read_csv(datasetPath)\n",
    "#imgDataFrame = {'cancer':datacancer['cancer'][:50], 'img_data':imgData}\n",
    "#imgData2 = pd.DataFrame(imgDataFrame)\n",
    "\n",
    "#imgData=imgData2"
   ]
  },
  {
   "cell_type": "code",
   "execution_count": 6,
   "id": "38960676",
   "metadata": {
    "execution": {
     "iopub.execute_input": "2023-02-09T22:49:26.917646Z",
     "iopub.status.busy": "2023-02-09T22:49:26.917370Z",
     "iopub.status.idle": "2023-02-09T22:49:26.990530Z",
     "shell.execute_reply": "2023-02-09T22:49:26.989627Z"
    },
    "papermill": {
     "duration": 0.081001,
     "end_time": "2023-02-09T22:49:26.992870",
     "exception": false,
     "start_time": "2023-02-09T22:49:26.911869",
     "status": "completed"
    },
    "tags": []
   },
   "outputs": [],
   "source": [
    "imgdata_pos = imgData[imgData['cancer'] == 1]\n",
    "imgdata_neg = imgData[imgData['cancer'] == 0]\n",
    "\n",
    "imgdata_pos = imgdata_pos.sample(frac = 1)\n",
    "imgdata_neg = imgdata_neg.sample(frac = 1)\n",
    "\n",
    "imgdata_neg = imgdata_neg.sample(frac= 0.7)\n",
    "\n",
    "frames = 5*[imgdata_pos]\n",
    "frames.append(imgdata_neg)\n",
    "imgdata_shuff = pd.concat(frames)\n",
    "imgdata_shuff = imgdata_shuff.sample(frac=1)"
   ]
  },
  {
   "cell_type": "code",
   "execution_count": 7,
   "id": "05a17001",
   "metadata": {
    "execution": {
     "iopub.execute_input": "2023-02-09T22:49:27.003973Z",
     "iopub.status.busy": "2023-02-09T22:49:27.003405Z",
     "iopub.status.idle": "2023-02-09T22:49:27.012365Z",
     "shell.execute_reply": "2023-02-09T22:49:27.011339Z"
    },
    "papermill": {
     "duration": 0.018623,
     "end_time": "2023-02-09T22:49:27.016421",
     "exception": false,
     "start_time": "2023-02-09T22:49:26.997798",
     "status": "completed"
    },
    "tags": []
   },
   "outputs": [
    {
     "name": "stdout",
     "output_type": "stream",
     "text": [
      "0    37484\n",
      "1     5790\n",
      "Name: cancer, dtype: int64\n"
     ]
    }
   ],
   "source": [
    "print(imgdata_shuff['cancer'].value_counts())"
   ]
  },
  {
   "cell_type": "code",
   "execution_count": 8,
   "id": "776b8c61",
   "metadata": {
    "execution": {
     "iopub.execute_input": "2023-02-09T22:49:27.027941Z",
     "iopub.status.busy": "2023-02-09T22:49:27.027680Z",
     "iopub.status.idle": "2023-02-09T22:49:27.188870Z",
     "shell.execute_reply": "2023-02-09T22:49:27.187949Z"
    },
    "papermill": {
     "duration": 0.169059,
     "end_time": "2023-02-09T22:49:27.191140",
     "exception": false,
     "start_time": "2023-02-09T22:49:27.022081",
     "status": "completed"
    },
    "tags": []
   },
   "outputs": [],
   "source": [
    "from sklearn.decomposition import PCA\n",
    "\n",
    "\n",
    "def random_rotate(imgData):\n",
    "    #thresh = 0.15\n",
    "    \n",
    "    imgData = imgData.reshape(128,128)\n",
    "    clahe = cv2.createCLAHE(clipLimit=5, tileGridSize=(3,3))\n",
    "    imgData = clahe.apply(imgData)\n",
    "    imgData = ndimage.rotate(imgData, random.randint(-30, 30), reshape=False)\n",
    "\n",
    "    #imgData = np.clip(imgData,thresh,1)\n",
    "    imgData = imgData[15:110,15:110]\n",
    "    pca = PCA(30)\n",
    "    imgData = pca.fit_transform(imgData)\n",
    "    imgData = pca.inverse_transform(imgData)\n",
    "    #imgData = cv2.resize(imgData,(528,528))\n",
    "    \n",
    "    \n",
    "    #imgData = im.fromarray(imgData)\n",
    "    #imgData = np.asarray(imgData.rotate(random.randint(-20, 20)))\n",
    "    return imgData"
   ]
  },
  {
   "cell_type": "code",
   "execution_count": 9,
   "id": "f61329e4",
   "metadata": {
    "execution": {
     "iopub.execute_input": "2023-02-09T22:49:27.202346Z",
     "iopub.status.busy": "2023-02-09T22:49:27.202076Z",
     "iopub.status.idle": "2023-02-09T23:01:38.432984Z",
     "shell.execute_reply": "2023-02-09T23:01:38.429321Z"
    },
    "papermill": {
     "duration": 731.24029,
     "end_time": "2023-02-09T23:01:38.436530",
     "exception": false,
     "start_time": "2023-02-09T22:49:27.196240",
     "status": "completed"
    },
    "tags": []
   },
   "outputs": [
    {
     "name": "stderr",
     "output_type": "stream",
     "text": [
      " 18%|█▊        | 7682/43274 [02:11<12:50, 46.16it/s]/opt/conda/lib/python3.7/site-packages/sklearn/decomposition/_pca.py:501: RuntimeWarning: invalid value encountered in true_divide\n",
      "  explained_variance_ratio_ = explained_variance_ / total_var\n",
      " 31%|███       | 13477/43274 [03:46<09:16, 53.57it/s]/opt/conda/lib/python3.7/site-packages/sklearn/decomposition/_pca.py:501: RuntimeWarning: invalid value encountered in true_divide\n",
      "  explained_variance_ratio_ = explained_variance_ / total_var\n",
      " 51%|█████     | 22084/43274 [06:12<06:54, 51.16it/s]/opt/conda/lib/python3.7/site-packages/sklearn/decomposition/_pca.py:501: RuntimeWarning: invalid value encountered in true_divide\n",
      "  explained_variance_ratio_ = explained_variance_ / total_var\n",
      " 95%|█████████▌| 41236/43274 [11:32<00:43, 46.85it/s]/opt/conda/lib/python3.7/site-packages/sklearn/decomposition/_pca.py:501: RuntimeWarning: invalid value encountered in true_divide\n",
      "  explained_variance_ratio_ = explained_variance_ / total_var\n",
      "100%|█████████▉| 43221/43274 [12:09<00:01, 41.84it/s]/opt/conda/lib/python3.7/site-packages/sklearn/decomposition/_pca.py:501: RuntimeWarning: invalid value encountered in true_divide\n",
      "  explained_variance_ratio_ = explained_variance_ / total_var\n",
      "100%|██████████| 43274/43274 [12:11<00:00, 59.18it/s]\n"
     ]
    }
   ],
   "source": [
    "imgDataList=[]\n",
    "for j in tqdm(imgdata_shuff['img_data']):\n",
    "    imgDataList.append(random_rotate(j))\n",
    "imgdata_shuff['img_data'] = imgDataList"
   ]
  },
  {
   "cell_type": "code",
   "execution_count": 10,
   "id": "3ed2822d",
   "metadata": {
    "execution": {
     "iopub.execute_input": "2023-02-09T23:01:39.098690Z",
     "iopub.status.busy": "2023-02-09T23:01:39.098304Z",
     "iopub.status.idle": "2023-02-09T23:01:50.474601Z",
     "shell.execute_reply": "2023-02-09T23:01:50.473558Z"
    },
    "papermill": {
     "duration": 11.674814,
     "end_time": "2023-02-09T23:01:50.477383",
     "exception": false,
     "start_time": "2023-02-09T23:01:38.802569",
     "status": "completed"
    },
    "tags": []
   },
   "outputs": [],
   "source": [
    "from sklearn.model_selection import train_test_split\n",
    "train,test = train_test_split(imgdata_shuff, test_size=0.3, random_state=42, shuffle=True)\n",
    "\n",
    "\n",
    "\n",
    "train_target = np.array(train['cancer'])\n",
    "train_features=[]\n",
    "for i in train['img_data']:\n",
    "    i=np.array(i)\n",
    "    train_features.append(i)\n",
    "train_features=np.array(train_features)\n",
    "\n",
    "\n",
    "\n",
    "#featureTransform = train_features.reshape(len(train_features), 6400)\n",
    "\n",
    "#from sklearn.preprocessing import StandardScaler\n",
    "from sklearn.preprocessing import MinMaxScaler\n",
    "\n",
    "scaler = MinMaxScaler()\n",
    "#featureTransform = scaler.fit_transform(featureTransform)\n",
    "norm_features= []\n",
    "for i in range(len(train_features)):\n",
    "        norm_features.append(scaler.fit_transform(train_features[i]))\n",
    "train_features=np.array(norm_features)\n",
    "\n",
    "\n",
    "\n",
    "\n",
    "#backTransform = featureTransform.reshape(len(train_features),80,80)\n",
    "#train_features = backTransform.reshape(len(train_features),80,80,1)\n",
    "train_features = train_features.reshape(len(train_features),95,95,1)\n",
    "#train_features = np.repeat(train_features[..., np.newaxis], 3, -1)\n",
    "\n",
    "\n"
   ]
  },
  {
   "cell_type": "code",
   "execution_count": 11,
   "id": "1b5cd882",
   "metadata": {
    "execution": {
     "iopub.execute_input": "2023-02-09T23:01:51.129110Z",
     "iopub.status.busy": "2023-02-09T23:01:51.128707Z",
     "iopub.status.idle": "2023-02-09T23:01:54.244452Z",
     "shell.execute_reply": "2023-02-09T23:01:54.243548Z"
    },
    "papermill": {
     "duration": 3.429194,
     "end_time": "2023-02-09T23:01:54.246761",
     "exception": false,
     "start_time": "2023-02-09T23:01:50.817567",
     "status": "completed"
    },
    "tags": []
   },
   "outputs": [
    {
     "name": "stderr",
     "output_type": "stream",
     "text": [
      "2023-02-09 23:01:51.251591: I tensorflow/stream_executor/cuda/cuda_gpu_executor.cc:937] successful NUMA node read from SysFS had negative value (-1), but there must be at least one NUMA node, so returning NUMA node zero\n",
      "2023-02-09 23:01:51.355331: I tensorflow/stream_executor/cuda/cuda_gpu_executor.cc:937] successful NUMA node read from SysFS had negative value (-1), but there must be at least one NUMA node, so returning NUMA node zero\n",
      "2023-02-09 23:01:51.356221: I tensorflow/stream_executor/cuda/cuda_gpu_executor.cc:937] successful NUMA node read from SysFS had negative value (-1), but there must be at least one NUMA node, so returning NUMA node zero\n",
      "2023-02-09 23:01:51.359208: I tensorflow/core/platform/cpu_feature_guard.cc:142] This TensorFlow binary is optimized with oneAPI Deep Neural Network Library (oneDNN) to use the following CPU instructions in performance-critical operations:  AVX2 AVX512F FMA\n",
      "To enable them in other operations, rebuild TensorFlow with the appropriate compiler flags.\n",
      "2023-02-09 23:01:51.359719: I tensorflow/stream_executor/cuda/cuda_gpu_executor.cc:937] successful NUMA node read from SysFS had negative value (-1), but there must be at least one NUMA node, so returning NUMA node zero\n",
      "2023-02-09 23:01:51.360796: I tensorflow/stream_executor/cuda/cuda_gpu_executor.cc:937] successful NUMA node read from SysFS had negative value (-1), but there must be at least one NUMA node, so returning NUMA node zero\n",
      "2023-02-09 23:01:51.361804: I tensorflow/stream_executor/cuda/cuda_gpu_executor.cc:937] successful NUMA node read from SysFS had negative value (-1), but there must be at least one NUMA node, so returning NUMA node zero\n",
      "2023-02-09 23:01:53.668698: I tensorflow/stream_executor/cuda/cuda_gpu_executor.cc:937] successful NUMA node read from SysFS had negative value (-1), but there must be at least one NUMA node, so returning NUMA node zero\n",
      "2023-02-09 23:01:53.669549: I tensorflow/stream_executor/cuda/cuda_gpu_executor.cc:937] successful NUMA node read from SysFS had negative value (-1), but there must be at least one NUMA node, so returning NUMA node zero\n",
      "2023-02-09 23:01:53.670236: I tensorflow/stream_executor/cuda/cuda_gpu_executor.cc:937] successful NUMA node read from SysFS had negative value (-1), but there must be at least one NUMA node, so returning NUMA node zero\n",
      "2023-02-09 23:01:53.671685: I tensorflow/core/common_runtime/gpu/gpu_device.cc:1510] Created device /job:localhost/replica:0/task:0/device:GPU:0 with 15401 MB memory:  -> device: 0, name: Tesla P100-PCIE-16GB, pci bus id: 0000:00:04.0, compute capability: 6.0\n"
     ]
    }
   ],
   "source": [
    "from keras.models import Sequential\n",
    "from keras.layers import LeakyReLU\n",
    "from keras.layers import Dense, Conv2D, Flatten,MaxPooling2D, Dropout, BatchNormalization, GlobalMaxPooling2D\n",
    "from tensorflow.keras.applications import *\n",
    "from tensorflow.keras import models\n",
    "from tensorflow.keras import layers\n",
    "from tensorflow.keras import optimizers\n",
    "\n",
    "#conv_base = EfficientNetB6(weights='imagenet', include_top=False, input_shape=(95,95,3),drop_connect_rate=0.2)\n",
    "model = Sequential()\n",
    "\n",
    "\n",
    "model.add(Conv2D(64, 3, activation = \"relu\", input_shape = (95,95,1)))\n",
    "#model.add(MaxPooling2D())\n",
    "model.add(LeakyReLU(alpha=0.2))\n",
    "model.add(Dropout(0.2))\n",
    "\n",
    "model.add(Conv2D(128, 3, activation = \"relu\"))\n",
    "model.add(MaxPooling2D())\n",
    "model.add(LeakyReLU(alpha=0.1))\n",
    "model.add(Dropout(0.1))\n",
    "\n",
    "model.add(Conv2D(256, 3, activation = \"relu\"))\n",
    "model.add(MaxPooling2D())\n",
    "model.add(LeakyReLU(alpha=0.1))\n",
    "model.add(Dropout(0.2))\n",
    "\n",
    "model.add(Conv2D(512, 3, activation = \"relu\"))\n",
    "model.add(MaxPooling2D())\n",
    "model.add(LeakyReLU(alpha=0.2))\n",
    "model.add(Dropout(0.1))\n",
    "\n",
    "model.add(Conv2D(1024, 3, activation = \"relu\"))\n",
    "model.add(MaxPooling2D())\n",
    "model.add(LeakyReLU(alpha=0.2))\n",
    "model.add(Dropout(0.1))\n",
    "\n",
    "\n",
    "\n",
    "\n",
    "\n",
    "\n",
    "model.add(Flatten())\n",
    "\n",
    "model.add(Dense(1024, activation = 'relu')) \n",
    "model.add(LeakyReLU(alpha=0.2))\n",
    "model.add(Dropout(0.2))\n",
    "\n",
    "model.add(Dense(512, activation = 'relu')) \n",
    "model.add(LeakyReLU(alpha=0.2))\n",
    "model.add(Dropout(0.1))\n",
    "\n",
    "model.add(Dense(512, activation = 'relu')) \n",
    "model.add(LeakyReLU(alpha=0.2))\n",
    "model.add(Dropout(0.1))\n",
    "\n",
    "model.add(Dense(512, activation = 'relu')) \n",
    "model.add(LeakyReLU(alpha=0.2))\n",
    "model.add(Dropout(0.2))\n",
    "\n",
    "model.add(Dense(256, activation = 'relu')) \n",
    "model.add(LeakyReLU(alpha=0.2))\n",
    "model.add(Dropout(0.3))\n",
    "\n",
    "model.add(Dense(1, activation = 'sigmoid'))\n",
    "\n",
    "\n",
    "#conv_base.trainable = True\n",
    "\n",
    "#model.compile(optimizer =tf.keras.optimizers.Adam(learning_rate=0.0001),\\\n",
    "#          loss= 'binary_crossentropy', metrics=['accuracy'])\n",
    "\n",
    "model.compile(\\\n",
    "    loss=\"binary_crossentropy\",\\\n",
    "    optimizer=tf.keras.optimizers.Adam(learning_rate=0.0001),\\\n",
    "    metrics=[\"acc\"],\\\n",
    ")\n",
    "\n",
    "\n",
    "\n"
   ]
  },
  {
   "cell_type": "code",
   "execution_count": 12,
   "id": "96fed127",
   "metadata": {
    "execution": {
     "iopub.execute_input": "2023-02-09T23:01:54.879930Z",
     "iopub.status.busy": "2023-02-09T23:01:54.879565Z",
     "iopub.status.idle": "2023-02-09T23:01:54.883979Z",
     "shell.execute_reply": "2023-02-09T23:01:54.882908Z"
    },
    "papermill": {
     "duration": 0.298464,
     "end_time": "2023-02-09T23:01:54.886576",
     "exception": false,
     "start_time": "2023-02-09T23:01:54.588112",
     "status": "completed"
    },
    "tags": []
   },
   "outputs": [],
   "source": [
    "#from tensorflow import keras\n",
    "#model = keras.models.load_model(\"/kaggle/input/pre-trained-model-of-breast-cancer/trained_model_breast_cancer3.h5\")\n"
   ]
  },
  {
   "cell_type": "code",
   "execution_count": 13,
   "id": "ca996e3d",
   "metadata": {
    "execution": {
     "iopub.execute_input": "2023-02-09T23:01:55.467249Z",
     "iopub.status.busy": "2023-02-09T23:01:55.466903Z",
     "iopub.status.idle": "2023-02-10T00:17:52.456361Z",
     "shell.execute_reply": "2023-02-10T00:17:52.455381Z"
    },
    "papermill": {
     "duration": 4557.283022,
     "end_time": "2023-02-10T00:17:52.458459",
     "exception": false,
     "start_time": "2023-02-09T23:01:55.175437",
     "status": "completed"
    },
    "tags": []
   },
   "outputs": [
    {
     "name": "stderr",
     "output_type": "stream",
     "text": [
      "2023-02-09 23:01:55.767902: W tensorflow/core/framework/cpu_allocator_impl.cc:80] Allocation of 765428300 exceeds 10% of free system memory.\n",
      "2023-02-09 23:01:56.675980: W tensorflow/core/framework/cpu_allocator_impl.cc:80] Allocation of 765428300 exceeds 10% of free system memory.\n",
      "2023-02-09 23:01:57.332337: I tensorflow/compiler/mlir/mlir_graph_optimization_pass.cc:185] None of the MLIR Optimization Passes are enabled (registered 2)\n"
     ]
    },
    {
     "name": "stdout",
     "output_type": "stream",
     "text": [
      "Epoch 1/150\n"
     ]
    },
    {
     "name": "stderr",
     "output_type": "stream",
     "text": [
      "2023-02-09 23:01:59.391472: I tensorflow/stream_executor/cuda/cuda_dnn.cc:369] Loaded cuDNN version 8005\n"
     ]
    },
    {
     "name": "stdout",
     "output_type": "stream",
     "text": [
      "332/332 [==============================] - ETA: 0s - loss: 1.0539 - acc: 0.8631"
     ]
    },
    {
     "name": "stderr",
     "output_type": "stream",
     "text": [
      "2023-02-09 23:02:34.201289: W tensorflow/core/framework/cpu_allocator_impl.cc:80] Allocation of 328076800 exceeds 10% of free system memory.\n",
      "2023-02-09 23:02:34.597098: W tensorflow/core/framework/cpu_allocator_impl.cc:80] Allocation of 328076800 exceeds 10% of free system memory.\n"
     ]
    },
    {
     "name": "stdout",
     "output_type": "stream",
     "text": [
      "332/332 [==============================] - 40s 94ms/step - loss: 1.0539 - acc: 0.8631 - val_loss: 0.6218 - val_acc: 0.8607\n",
      "Epoch 2/150\n",
      "332/332 [==============================] - 29s 88ms/step - loss: 1.0503 - acc: 0.8666 - val_loss: 0.6326 - val_acc: 0.8607\n",
      "Epoch 3/150\n",
      "332/332 [==============================] - 29s 88ms/step - loss: 1.0492 - acc: 0.8666 - val_loss: 0.6308 - val_acc: 0.8607\n",
      "Epoch 4/150\n",
      "332/332 [==============================] - 29s 88ms/step - loss: 1.0489 - acc: 0.8665 - val_loss: 0.5999 - val_acc: 0.8607\n",
      "Epoch 5/150\n",
      "332/332 [==============================] - 31s 95ms/step - loss: 1.0463 - acc: 0.8640 - val_loss: 0.6415 - val_acc: 0.8564\n",
      "Epoch 6/150\n",
      "332/332 [==============================] - 32s 96ms/step - loss: 1.0433 - acc: 0.8495 - val_loss: 0.6105 - val_acc: 0.8552\n",
      "Epoch 7/150\n",
      "332/332 [==============================] - 31s 95ms/step - loss: 1.0400 - acc: 0.8204 - val_loss: 0.6092 - val_acc: 0.8435\n",
      "Epoch 8/150\n",
      "332/332 [==============================] - 29s 88ms/step - loss: 1.0358 - acc: 0.7820 - val_loss: 0.6095 - val_acc: 0.7679\n",
      "Epoch 9/150\n",
      "332/332 [==============================] - 31s 95ms/step - loss: 1.0300 - acc: 0.7538 - val_loss: 0.5888 - val_acc: 0.8134\n",
      "Epoch 10/150\n",
      "332/332 [==============================] - 31s 94ms/step - loss: 1.0244 - acc: 0.7482 - val_loss: 0.6291 - val_acc: 0.6828\n",
      "Epoch 11/150\n",
      "332/332 [==============================] - 29s 87ms/step - loss: 1.0201 - acc: 0.7232 - val_loss: 0.5845 - val_acc: 0.7487\n",
      "Epoch 12/150\n",
      "332/332 [==============================] - 31s 94ms/step - loss: 1.0122 - acc: 0.7332 - val_loss: 0.6312 - val_acc: 0.6571\n",
      "Epoch 13/150\n",
      "332/332 [==============================] - 29s 87ms/step - loss: 0.9966 - acc: 0.7380 - val_loss: 0.5655 - val_acc: 0.7839\n",
      "Epoch 14/150\n",
      "332/332 [==============================] - 31s 94ms/step - loss: 0.9773 - acc: 0.7421 - val_loss: 0.6781 - val_acc: 0.5786\n",
      "Epoch 15/150\n",
      "332/332 [==============================] - 31s 94ms/step - loss: 0.9515 - acc: 0.7398 - val_loss: 0.5348 - val_acc: 0.7844\n",
      "Epoch 16/150\n",
      "332/332 [==============================] - 29s 87ms/step - loss: 0.8921 - acc: 0.7748 - val_loss: 0.7042 - val_acc: 0.5691\n",
      "Epoch 17/150\n",
      "332/332 [==============================] - 31s 94ms/step - loss: 0.8239 - acc: 0.7864 - val_loss: 0.5968 - val_acc: 0.7077\n",
      "Epoch 18/150\n",
      "332/332 [==============================] - 31s 94ms/step - loss: 0.7204 - acc: 0.8114 - val_loss: 0.5200 - val_acc: 0.7630\n",
      "Epoch 19/150\n",
      "332/332 [==============================] - 31s 94ms/step - loss: 0.6097 - acc: 0.8543 - val_loss: 0.5114 - val_acc: 0.7734\n",
      "Epoch 20/150\n",
      "332/332 [==============================] - 29s 87ms/step - loss: 0.5057 - acc: 0.8776 - val_loss: 0.5271 - val_acc: 0.7764\n",
      "Epoch 21/150\n",
      "332/332 [==============================] - 29s 88ms/step - loss: 0.4138 - acc: 0.9049 - val_loss: 0.4918 - val_acc: 0.8194\n",
      "Epoch 22/150\n",
      "332/332 [==============================] - 29s 87ms/step - loss: 0.3410 - acc: 0.9225 - val_loss: 0.5319 - val_acc: 0.8031\n",
      "Epoch 23/150\n",
      "332/332 [==============================] - 29s 88ms/step - loss: 0.2945 - acc: 0.9318 - val_loss: 0.5774 - val_acc: 0.7906\n",
      "Epoch 24/150\n",
      "332/332 [==============================] - 31s 94ms/step - loss: 0.2479 - acc: 0.9423 - val_loss: 0.4931 - val_acc: 0.8321\n",
      "Epoch 25/150\n",
      "332/332 [==============================] - 29s 87ms/step - loss: 0.2021 - acc: 0.9543 - val_loss: 0.5365 - val_acc: 0.8424\n",
      "Epoch 26/150\n",
      "332/332 [==============================] - 29s 87ms/step - loss: 0.1787 - acc: 0.9554 - val_loss: 0.5906 - val_acc: 0.8149\n",
      "Epoch 27/150\n",
      "332/332 [==============================] - 29s 87ms/step - loss: 0.1681 - acc: 0.9628 - val_loss: 0.6151 - val_acc: 0.8354\n",
      "Epoch 28/150\n",
      "332/332 [==============================] - 29s 87ms/step - loss: 0.1435 - acc: 0.9682 - val_loss: 0.6372 - val_acc: 0.8556\n",
      "Epoch 29/150\n",
      "332/332 [==============================] - 29s 88ms/step - loss: 0.1329 - acc: 0.9691 - val_loss: 0.5598 - val_acc: 0.8607\n",
      "Epoch 30/150\n",
      "332/332 [==============================] - 31s 95ms/step - loss: 0.1043 - acc: 0.9777 - val_loss: 0.6915 - val_acc: 0.8487\n",
      "Epoch 31/150\n",
      "332/332 [==============================] - 29s 88ms/step - loss: 0.1101 - acc: 0.9737 - val_loss: 0.6332 - val_acc: 0.8593\n",
      "Epoch 32/150\n",
      "332/332 [==============================] - 31s 95ms/step - loss: 0.1043 - acc: 0.9751 - val_loss: 0.6066 - val_acc: 0.8397\n",
      "Epoch 33/150\n",
      "332/332 [==============================] - 29s 88ms/step - loss: 0.1005 - acc: 0.9784 - val_loss: 0.5642 - val_acc: 0.8483\n",
      "Epoch 34/150\n",
      "332/332 [==============================] - 29s 88ms/step - loss: 0.0744 - acc: 0.9830 - val_loss: 0.6918 - val_acc: 0.8774\n",
      "Epoch 35/150\n",
      "332/332 [==============================] - 29s 87ms/step - loss: 0.0871 - acc: 0.9806 - val_loss: 0.6721 - val_acc: 0.8664\n",
      "Epoch 36/150\n",
      "332/332 [==============================] - 29s 88ms/step - loss: 0.0744 - acc: 0.9825 - val_loss: 0.7308 - val_acc: 0.8308\n",
      "Epoch 37/150\n",
      "332/332 [==============================] - 29s 87ms/step - loss: 0.0843 - acc: 0.9809 - val_loss: 0.6878 - val_acc: 0.8479\n",
      "Epoch 38/150\n",
      "332/332 [==============================] - 29s 87ms/step - loss: 0.0653 - acc: 0.9859 - val_loss: 0.6984 - val_acc: 0.8627\n",
      "Epoch 39/150\n",
      "332/332 [==============================] - 29s 87ms/step - loss: 0.0566 - acc: 0.9876 - val_loss: 0.7277 - val_acc: 0.8552\n",
      "Epoch 40/150\n",
      "332/332 [==============================] - 29s 87ms/step - loss: 0.0610 - acc: 0.9882 - val_loss: 0.7139 - val_acc: 0.8643\n",
      "Epoch 41/150\n",
      "332/332 [==============================] - 31s 94ms/step - loss: 0.0545 - acc: 0.9892 - val_loss: 0.7262 - val_acc: 0.8483\n",
      "Epoch 42/150\n",
      "332/332 [==============================] - 29s 87ms/step - loss: 0.0594 - acc: 0.9873 - val_loss: 0.6792 - val_acc: 0.8691\n",
      "Epoch 43/150\n",
      "332/332 [==============================] - 31s 95ms/step - loss: 0.0570 - acc: 0.9876 - val_loss: 0.6306 - val_acc: 0.8644\n",
      "Epoch 44/150\n",
      "332/332 [==============================] - 31s 94ms/step - loss: 0.0477 - acc: 0.9905 - val_loss: 0.6338 - val_acc: 0.8662\n",
      "Epoch 45/150\n",
      "332/332 [==============================] - 31s 94ms/step - loss: 0.0543 - acc: 0.9882 - val_loss: 0.7541 - val_acc: 0.8477\n",
      "Epoch 46/150\n",
      "332/332 [==============================] - 31s 94ms/step - loss: 0.0592 - acc: 0.9870 - val_loss: 0.7294 - val_acc: 0.8768\n",
      "Epoch 47/150\n",
      "332/332 [==============================] - 32s 95ms/step - loss: 0.0476 - acc: 0.9907 - val_loss: 0.6539 - val_acc: 0.8644\n",
      "Epoch 48/150\n",
      "332/332 [==============================] - 32s 95ms/step - loss: 0.0458 - acc: 0.9908 - val_loss: 0.7178 - val_acc: 0.8840\n",
      "Epoch 49/150\n",
      "332/332 [==============================] - 32s 96ms/step - loss: 0.0495 - acc: 0.9895 - val_loss: 0.7119 - val_acc: 0.8655\n",
      "Epoch 50/150\n",
      "332/332 [==============================] - 32s 96ms/step - loss: 0.0394 - acc: 0.9913 - val_loss: 0.6985 - val_acc: 0.8703\n",
      "Epoch 51/150\n",
      "332/332 [==============================] - 31s 94ms/step - loss: 0.0431 - acc: 0.9914 - val_loss: 0.6852 - val_acc: 0.8468\n",
      "Epoch 52/150\n",
      "332/332 [==============================] - 31s 94ms/step - loss: 0.0567 - acc: 0.9881 - val_loss: 0.6045 - val_acc: 0.8430\n",
      "Epoch 53/150\n",
      "332/332 [==============================] - 29s 87ms/step - loss: 0.0395 - acc: 0.9913 - val_loss: 0.7594 - val_acc: 0.8681\n",
      "Epoch 54/150\n",
      "332/332 [==============================] - 29s 88ms/step - loss: 0.0422 - acc: 0.9907 - val_loss: 0.5985 - val_acc: 0.8792\n",
      "Epoch 55/150\n",
      "332/332 [==============================] - 32s 95ms/step - loss: 0.0365 - acc: 0.9923 - val_loss: 0.6366 - val_acc: 0.8494\n",
      "Epoch 56/150\n",
      "332/332 [==============================] - 31s 95ms/step - loss: 0.0386 - acc: 0.9921 - val_loss: 0.8114 - val_acc: 0.8609\n",
      "Epoch 57/150\n",
      "332/332 [==============================] - 29s 88ms/step - loss: 0.0375 - acc: 0.9931 - val_loss: 0.7057 - val_acc: 0.8623\n",
      "Epoch 58/150\n",
      "332/332 [==============================] - 29s 88ms/step - loss: 0.0294 - acc: 0.9945 - val_loss: 0.7112 - val_acc: 0.8718\n",
      "Epoch 59/150\n",
      "332/332 [==============================] - 31s 95ms/step - loss: 0.0382 - acc: 0.9935 - val_loss: 0.6257 - val_acc: 0.8774\n",
      "Epoch 60/150\n",
      "332/332 [==============================] - 29s 88ms/step - loss: 0.0293 - acc: 0.9941 - val_loss: 0.7070 - val_acc: 0.8518\n",
      "Epoch 61/150\n",
      "332/332 [==============================] - 32s 95ms/step - loss: 0.0308 - acc: 0.9935 - val_loss: 0.6957 - val_acc: 0.8759\n",
      "Epoch 62/150\n",
      "332/332 [==============================] - 31s 95ms/step - loss: 0.0395 - acc: 0.9925 - val_loss: 0.6800 - val_acc: 0.8830\n",
      "Epoch 63/150\n",
      "332/332 [==============================] - 32s 95ms/step - loss: 0.0397 - acc: 0.9928 - val_loss: 0.6852 - val_acc: 0.8754\n",
      "Epoch 64/150\n",
      "332/332 [==============================] - 29s 88ms/step - loss: 0.0266 - acc: 0.9955 - val_loss: 0.6583 - val_acc: 0.8744\n",
      "Epoch 65/150\n",
      "332/332 [==============================] - 32s 95ms/step - loss: 0.0249 - acc: 0.9952 - val_loss: 0.6975 - val_acc: 0.8677\n",
      "Epoch 66/150\n",
      "332/332 [==============================] - 29s 88ms/step - loss: 0.0286 - acc: 0.9940 - val_loss: 0.7036 - val_acc: 0.8787\n",
      "Epoch 67/150\n",
      "332/332 [==============================] - 32s 95ms/step - loss: 0.0348 - acc: 0.9933 - val_loss: 0.6864 - val_acc: 0.8754\n",
      "Epoch 68/150\n",
      "332/332 [==============================] - 32s 95ms/step - loss: 0.0308 - acc: 0.9940 - val_loss: 0.7207 - val_acc: 0.8852\n",
      "Epoch 69/150\n",
      "332/332 [==============================] - 29s 88ms/step - loss: 0.0356 - acc: 0.9922 - val_loss: 0.6776 - val_acc: 0.8744\n",
      "Epoch 70/150\n",
      "332/332 [==============================] - 31s 95ms/step - loss: 0.0258 - acc: 0.9954 - val_loss: 0.6775 - val_acc: 0.8823\n",
      "Epoch 71/150\n",
      "332/332 [==============================] - 32s 95ms/step - loss: 0.0343 - acc: 0.9936 - val_loss: 0.6035 - val_acc: 0.8872\n",
      "Epoch 72/150\n",
      "332/332 [==============================] - 29s 88ms/step - loss: 0.0229 - acc: 0.9948 - val_loss: 0.7763 - val_acc: 0.8792\n",
      "Epoch 73/150\n",
      "332/332 [==============================] - 31s 95ms/step - loss: 0.0307 - acc: 0.9930 - val_loss: 0.7957 - val_acc: 0.8851\n",
      "Epoch 74/150\n",
      "332/332 [==============================] - 29s 87ms/step - loss: 0.0301 - acc: 0.9939 - val_loss: 0.7802 - val_acc: 0.8198\n",
      "Epoch 75/150\n",
      "332/332 [==============================] - 29s 88ms/step - loss: 0.0323 - acc: 0.9934 - val_loss: 0.6916 - val_acc: 0.8731\n",
      "Epoch 76/150\n",
      "332/332 [==============================] - 29s 87ms/step - loss: 0.0324 - acc: 0.9930 - val_loss: 0.6879 - val_acc: 0.8866\n",
      "Epoch 77/150\n",
      "332/332 [==============================] - 29s 87ms/step - loss: 0.0225 - acc: 0.9954 - val_loss: 0.8211 - val_acc: 0.8824\n",
      "Epoch 78/150\n",
      "332/332 [==============================] - 31s 94ms/step - loss: 0.0260 - acc: 0.9939 - val_loss: 0.6839 - val_acc: 0.8499\n",
      "Epoch 79/150\n",
      "332/332 [==============================] - 29s 88ms/step - loss: 0.0300 - acc: 0.9933 - val_loss: 0.6697 - val_acc: 0.8807\n",
      "Epoch 80/150\n",
      "332/332 [==============================] - 29s 87ms/step - loss: 0.0242 - acc: 0.9954 - val_loss: 0.7073 - val_acc: 0.8847\n",
      "Epoch 81/150\n",
      "332/332 [==============================] - 29s 87ms/step - loss: 0.0187 - acc: 0.9968 - val_loss: 0.7241 - val_acc: 0.8844\n",
      "Epoch 82/150\n",
      "332/332 [==============================] - 29s 88ms/step - loss: 0.0197 - acc: 0.9962 - val_loss: 0.7692 - val_acc: 0.8839\n",
      "Epoch 83/150\n",
      "332/332 [==============================] - 29s 87ms/step - loss: 0.0274 - acc: 0.9950 - val_loss: 0.7614 - val_acc: 0.8798\n",
      "Epoch 84/150\n",
      "332/332 [==============================] - 31s 94ms/step - loss: 0.0319 - acc: 0.9943 - val_loss: 0.6595 - val_acc: 0.8746\n",
      "Epoch 85/150\n",
      "332/332 [==============================] - 29s 87ms/step - loss: 0.0307 - acc: 0.9946 - val_loss: 0.5652 - val_acc: 0.8785\n",
      "Epoch 86/150\n",
      "332/332 [==============================] - 31s 95ms/step - loss: 0.0247 - acc: 0.9954 - val_loss: 0.6769 - val_acc: 0.8871\n",
      "Epoch 87/150\n",
      "332/332 [==============================] - 29s 87ms/step - loss: 0.0198 - acc: 0.9961 - val_loss: 0.7573 - val_acc: 0.8840\n",
      "Epoch 88/150\n",
      "332/332 [==============================] - 31s 95ms/step - loss: 0.0175 - acc: 0.9960 - val_loss: 0.6688 - val_acc: 0.8746\n",
      "Epoch 89/150\n",
      "332/332 [==============================] - 32s 95ms/step - loss: 0.0258 - acc: 0.9944 - val_loss: 0.7072 - val_acc: 0.8914\n",
      "Epoch 90/150\n",
      "332/332 [==============================] - 29s 88ms/step - loss: 0.0242 - acc: 0.9958 - val_loss: 0.6595 - val_acc: 0.8819\n",
      "Epoch 91/150\n",
      "332/332 [==============================] - 31s 94ms/step - loss: 0.0304 - acc: 0.9946 - val_loss: 0.6634 - val_acc: 0.8911\n",
      "Epoch 92/150\n",
      "332/332 [==============================] - 29s 87ms/step - loss: 0.0189 - acc: 0.9966 - val_loss: 0.6560 - val_acc: 0.8700\n",
      "Epoch 93/150\n",
      "332/332 [==============================] - 29s 87ms/step - loss: 0.0252 - acc: 0.9944 - val_loss: 0.6965 - val_acc: 0.8917\n",
      "Epoch 94/150\n",
      "332/332 [==============================] - 31s 94ms/step - loss: 0.0170 - acc: 0.9965 - val_loss: 0.7307 - val_acc: 0.8844\n",
      "Epoch 95/150\n",
      "332/332 [==============================] - 29s 87ms/step - loss: 0.0197 - acc: 0.9957 - val_loss: 0.6662 - val_acc: 0.8840\n",
      "Epoch 96/150\n",
      "332/332 [==============================] - 29s 88ms/step - loss: 0.0202 - acc: 0.9958 - val_loss: 0.5804 - val_acc: 0.8781\n",
      "Epoch 97/150\n",
      "332/332 [==============================] - 29s 87ms/step - loss: 0.0209 - acc: 0.9959 - val_loss: 0.6933 - val_acc: 0.8786\n",
      "Epoch 98/150\n",
      "332/332 [==============================] - 29s 87ms/step - loss: 0.0264 - acc: 0.9951 - val_loss: 0.5483 - val_acc: 0.8773\n",
      "Epoch 99/150\n",
      "332/332 [==============================] - 29s 87ms/step - loss: 0.0178 - acc: 0.9965 - val_loss: 0.7582 - val_acc: 0.8742\n",
      "Epoch 100/150\n",
      "332/332 [==============================] - 31s 94ms/step - loss: 0.0251 - acc: 0.9950 - val_loss: 0.6945 - val_acc: 0.8862\n",
      "Epoch 101/150\n",
      "332/332 [==============================] - 29s 88ms/step - loss: 0.0236 - acc: 0.9959 - val_loss: 0.7256 - val_acc: 0.8877\n",
      "Epoch 102/150\n",
      "332/332 [==============================] - 31s 95ms/step - loss: 0.0279 - acc: 0.9950 - val_loss: 0.7319 - val_acc: 0.8897\n",
      "Epoch 103/150\n",
      "332/332 [==============================] - 31s 95ms/step - loss: 0.0273 - acc: 0.9953 - val_loss: 0.6650 - val_acc: 0.8520\n",
      "Epoch 104/150\n",
      "332/332 [==============================] - 29s 88ms/step - loss: 0.0282 - acc: 0.9946 - val_loss: 0.6575 - val_acc: 0.8812\n",
      "Epoch 105/150\n",
      "332/332 [==============================] - 29s 88ms/step - loss: 0.0242 - acc: 0.9963 - val_loss: 0.5489 - val_acc: 0.8787\n",
      "Epoch 106/150\n",
      "332/332 [==============================] - 32s 95ms/step - loss: 0.0142 - acc: 0.9971 - val_loss: 0.7521 - val_acc: 0.8839\n",
      "Epoch 107/150\n",
      "332/332 [==============================] - 32s 96ms/step - loss: 0.0126 - acc: 0.9975 - val_loss: 0.8451 - val_acc: 0.8923\n",
      "Epoch 108/150\n",
      "332/332 [==============================] - 29s 88ms/step - loss: 0.0295 - acc: 0.9934 - val_loss: 0.6631 - val_acc: 0.8811\n",
      "Epoch 109/150\n",
      "332/332 [==============================] - 32s 96ms/step - loss: 0.0182 - acc: 0.9964 - val_loss: 0.7681 - val_acc: 0.8937\n",
      "Epoch 110/150\n",
      "332/332 [==============================] - 32s 96ms/step - loss: 0.0272 - acc: 0.9950 - val_loss: 0.6678 - val_acc: 0.8907\n",
      "Epoch 111/150\n",
      "332/332 [==============================] - 32s 96ms/step - loss: 0.0248 - acc: 0.9949 - val_loss: 0.6975 - val_acc: 0.8916\n",
      "Epoch 112/150\n",
      "332/332 [==============================] - 29s 89ms/step - loss: 0.0082 - acc: 0.9985 - val_loss: 0.8760 - val_acc: 0.8925\n",
      "Epoch 113/150\n",
      "332/332 [==============================] - 32s 95ms/step - loss: 0.0170 - acc: 0.9968 - val_loss: 0.8268 - val_acc: 0.8808\n",
      "Epoch 114/150\n",
      "332/332 [==============================] - 29s 88ms/step - loss: 0.0143 - acc: 0.9972 - val_loss: 0.8032 - val_acc: 0.8780\n",
      "Epoch 115/150\n",
      "332/332 [==============================] - 30s 89ms/step - loss: 0.0260 - acc: 0.9948 - val_loss: 0.7604 - val_acc: 0.8855\n",
      "Epoch 116/150\n",
      "332/332 [==============================] - 32s 96ms/step - loss: 0.0179 - acc: 0.9966 - val_loss: 0.6458 - val_acc: 0.8850\n",
      "Epoch 117/150\n",
      "332/332 [==============================] - 29s 89ms/step - loss: 0.0172 - acc: 0.9972 - val_loss: 0.6089 - val_acc: 0.8592\n",
      "Epoch 118/150\n",
      "332/332 [==============================] - 32s 95ms/step - loss: 0.0173 - acc: 0.9969 - val_loss: 0.6577 - val_acc: 0.8644\n",
      "Epoch 119/150\n",
      "332/332 [==============================] - 29s 88ms/step - loss: 0.0251 - acc: 0.9950 - val_loss: 0.6475 - val_acc: 0.8830\n",
      "Epoch 120/150\n",
      "332/332 [==============================] - 30s 89ms/step - loss: 0.0203 - acc: 0.9957 - val_loss: 0.7857 - val_acc: 0.8880\n",
      "Epoch 121/150\n",
      "332/332 [==============================] - 29s 88ms/step - loss: 0.0209 - acc: 0.9951 - val_loss: 0.6585 - val_acc: 0.8751\n",
      "Epoch 122/150\n",
      "332/332 [==============================] - 32s 96ms/step - loss: 0.0216 - acc: 0.9953 - val_loss: 0.7604 - val_acc: 0.8938\n",
      "Epoch 123/150\n",
      "332/332 [==============================] - 29s 89ms/step - loss: 0.0226 - acc: 0.9960 - val_loss: 0.5976 - val_acc: 0.8756\n",
      "Epoch 124/150\n",
      "332/332 [==============================] - 29s 88ms/step - loss: 0.0190 - acc: 0.9963 - val_loss: 0.6808 - val_acc: 0.8933\n",
      "Epoch 125/150\n",
      "332/332 [==============================] - 29s 89ms/step - loss: 0.0293 - acc: 0.9936 - val_loss: 0.6622 - val_acc: 0.8939\n",
      "Epoch 126/150\n",
      "332/332 [==============================] - 32s 96ms/step - loss: 0.0233 - acc: 0.9943 - val_loss: 0.7294 - val_acc: 0.8751\n",
      "Epoch 127/150\n",
      "332/332 [==============================] - 32s 95ms/step - loss: 0.0204 - acc: 0.9959 - val_loss: 0.6527 - val_acc: 0.8912\n",
      "Epoch 128/150\n",
      "332/332 [==============================] - 32s 95ms/step - loss: 0.0104 - acc: 0.9981 - val_loss: 0.7610 - val_acc: 0.8912\n",
      "Epoch 129/150\n",
      "332/332 [==============================] - 32s 95ms/step - loss: 0.0078 - acc: 0.9979 - val_loss: 0.9744 - val_acc: 0.8969\n",
      "Epoch 130/150\n",
      "332/332 [==============================] - 32s 96ms/step - loss: 0.0238 - acc: 0.9953 - val_loss: 0.7019 - val_acc: 0.8947\n",
      "Epoch 131/150\n",
      "332/332 [==============================] - 32s 96ms/step - loss: 0.0196 - acc: 0.9959 - val_loss: 0.6098 - val_acc: 0.8848\n",
      "Epoch 132/150\n",
      "332/332 [==============================] - 32s 96ms/step - loss: 0.0184 - acc: 0.9966 - val_loss: 0.6900 - val_acc: 0.8727\n",
      "Epoch 133/150\n",
      "332/332 [==============================] - 32s 96ms/step - loss: 0.0147 - acc: 0.9973 - val_loss: 0.8023 - val_acc: 0.8839\n",
      "Epoch 134/150\n",
      "332/332 [==============================] - 32s 96ms/step - loss: 0.0201 - acc: 0.9961 - val_loss: 0.7413 - val_acc: 0.8771\n",
      "Epoch 135/150\n",
      "332/332 [==============================] - 29s 89ms/step - loss: 0.0144 - acc: 0.9969 - val_loss: 0.8284 - val_acc: 0.8905\n",
      "Epoch 136/150\n",
      "332/332 [==============================] - 32s 95ms/step - loss: 0.0183 - acc: 0.9961 - val_loss: 0.8468 - val_acc: 0.8915\n",
      "Epoch 137/150\n",
      "332/332 [==============================] - 29s 88ms/step - loss: 0.0186 - acc: 0.9959 - val_loss: 0.7587 - val_acc: 0.8800\n",
      "Epoch 138/150\n",
      "332/332 [==============================] - 29s 88ms/step - loss: 0.0244 - acc: 0.9958 - val_loss: 0.6523 - val_acc: 0.8905\n",
      "Epoch 139/150\n",
      "332/332 [==============================] - 32s 96ms/step - loss: 0.0182 - acc: 0.9968 - val_loss: 0.7510 - val_acc: 0.8940\n",
      "Epoch 140/150\n",
      "332/332 [==============================] - 29s 88ms/step - loss: 0.0169 - acc: 0.9971 - val_loss: 0.6595 - val_acc: 0.8868\n",
      "Epoch 141/150\n",
      "332/332 [==============================] - 32s 96ms/step - loss: 0.0120 - acc: 0.9977 - val_loss: 0.7048 - val_acc: 0.8833\n",
      "Epoch 142/150\n",
      "332/332 [==============================] - 32s 96ms/step - loss: 0.0214 - acc: 0.9954 - val_loss: 0.6215 - val_acc: 0.8926\n",
      "Epoch 143/150\n",
      "332/332 [==============================] - 29s 89ms/step - loss: 0.0191 - acc: 0.9967 - val_loss: 0.6740 - val_acc: 0.8866\n",
      "Epoch 144/150\n",
      "332/332 [==============================] - 32s 95ms/step - loss: 0.0169 - acc: 0.9966 - val_loss: 0.6897 - val_acc: 0.8922\n",
      "Epoch 145/150\n",
      "332/332 [==============================] - 29s 89ms/step - loss: 0.0150 - acc: 0.9968 - val_loss: 0.7501 - val_acc: 0.8919\n",
      "Epoch 146/150\n",
      "332/332 [==============================] - 29s 88ms/step - loss: 0.0122 - acc: 0.9974 - val_loss: 0.7043 - val_acc: 0.8771\n",
      "Epoch 147/150\n",
      "332/332 [==============================] - 29s 89ms/step - loss: 0.0239 - acc: 0.9958 - val_loss: 0.6731 - val_acc: 0.8916\n",
      "Epoch 148/150\n",
      "332/332 [==============================] - 29s 89ms/step - loss: 0.0215 - acc: 0.9961 - val_loss: 0.6786 - val_acc: 0.8944\n",
      "Epoch 149/150\n",
      "332/332 [==============================] - 29s 89ms/step - loss: 0.0157 - acc: 0.9967 - val_loss: 0.6701 - val_acc: 0.8689\n",
      "Epoch 150/150\n",
      "332/332 [==============================] - 32s 96ms/step - loss: 0.0269 - acc: 0.9948 - val_loss: 0.5665 - val_acc: 0.8874\n"
     ]
    },
    {
     "data": {
      "text/plain": [
       "<keras.callbacks.History at 0x7f32c47567d0>"
      ]
     },
     "execution_count": 13,
     "metadata": {},
     "output_type": "execute_result"
    }
   ],
   "source": [
    "from tensorflow.keras.preprocessing.image import ImageDataGenerator\n",
    "\n",
    "#datagen = ImageDataGenerator(\\\n",
    "#    rescale=1/255,\\\n",
    "#    validation_split=0.10,\\\n",
    "#    rotation_range=40,\\\n",
    "#    width_shift_range=0.2,\\\n",
    "#    height_shift_range=0.2,\\\n",
    "#    shear_range=0.2,\\\n",
    "#    zoom_range=0.2,\\\n",
    "#    horizontal_flip=True,\\\n",
    "#    fill_mode='nearest'\\\n",
    "#)\n",
    "\n",
    "\n",
    "#datagen.fit(train_features)\n",
    "weights = {0:1, 1:5}\n",
    "model.fit(train_features, train_target,class_weight = weights,batch_size=64,validation_split=0.3,\\\n",
    "           epochs=150)\n"
   ]
  },
  {
   "cell_type": "code",
   "execution_count": 14,
   "id": "f7e126be",
   "metadata": {
    "execution": {
     "iopub.execute_input": "2023-02-10T00:17:58.837055Z",
     "iopub.status.busy": "2023-02-10T00:17:58.836685Z",
     "iopub.status.idle": "2023-02-10T00:17:59.417261Z",
     "shell.execute_reply": "2023-02-10T00:17:59.416253Z"
    },
    "papermill": {
     "duration": 3.951391,
     "end_time": "2023-02-10T00:17:59.419794",
     "exception": false,
     "start_time": "2023-02-10T00:17:55.468403",
     "status": "completed"
    },
    "tags": []
   },
   "outputs": [],
   "source": [
    "model.save(\"/kaggle/working/trained_model_breast_cancer3.h5\")\n"
   ]
  },
  {
   "cell_type": "code",
   "execution_count": 15,
   "id": "dc16115d",
   "metadata": {
    "execution": {
     "iopub.execute_input": "2023-02-10T00:18:05.671357Z",
     "iopub.status.busy": "2023-02-10T00:18:05.670983Z",
     "iopub.status.idle": "2023-02-10T00:18:05.675484Z",
     "shell.execute_reply": "2023-02-10T00:18:05.674429Z"
    },
    "papermill": {
     "duration": 3.096077,
     "end_time": "2023-02-10T00:18:05.677936",
     "exception": false,
     "start_time": "2023-02-10T00:18:02.581859",
     "status": "completed"
    },
    "tags": []
   },
   "outputs": [],
   "source": [
    "#from tensorflow import keras\n",
    "#savedModel = keras.models.load_model(\"/kaggle/input/pre-trained-model-of-breast-cancer/trained_model_breast_cancer3.h5\")\n",
    "\n"
   ]
  },
  {
   "cell_type": "code",
   "execution_count": 16,
   "id": "5ceb1c49",
   "metadata": {
    "execution": {
     "iopub.execute_input": "2023-02-10T00:18:12.159850Z",
     "iopub.status.busy": "2023-02-10T00:18:12.159452Z",
     "iopub.status.idle": "2023-02-10T00:18:18.559489Z",
     "shell.execute_reply": "2023-02-10T00:18:18.555555Z"
    },
    "papermill": {
     "duration": 9.532328,
     "end_time": "2023-02-10T00:18:18.565733",
     "exception": false,
     "start_time": "2023-02-10T00:18:09.033405",
     "status": "completed"
    },
    "tags": []
   },
   "outputs": [],
   "source": [
    "test_features=[]\n",
    "for i in test['img_data']:\n",
    "    i=np.array(i)\n",
    "    test_features.append(i)\n",
    "test_features=np.array(test_features)\n",
    " \n",
    "\n",
    "    \n",
    "#featureTransform = test_features.reshape(len(test_features), 6400)\n",
    "scaler = MinMaxScaler()\n",
    "#featureTransform =scaler.fit_transform(featureTransform)\n",
    "norm_features= []\n",
    "for i in range(len(test_features)):\n",
    "    norm_features.append(scaler.fit_transform(test_features[i]))\n",
    "test_features=np.array(norm_features)\n",
    "\n",
    "\n",
    "#backTransform = featureTransform.reshape(len(test_features),80,80)\n",
    "test_features = test_features.reshape(len(test_features),95,95,1)\n",
    "\n",
    "\n",
    "\n",
    "\n",
    "\n",
    "test_target = np.array(test['cancer'])"
   ]
  },
  {
   "cell_type": "code",
   "execution_count": 17,
   "id": "da8f0e17",
   "metadata": {
    "execution": {
     "iopub.execute_input": "2023-02-10T00:18:25.018643Z",
     "iopub.status.busy": "2023-02-10T00:18:25.018272Z",
     "iopub.status.idle": "2023-02-10T00:18:31.734880Z",
     "shell.execute_reply": "2023-02-10T00:18:31.733868Z"
    },
    "papermill": {
     "duration": 9.825098,
     "end_time": "2023-02-10T00:18:31.737371",
     "exception": false,
     "start_time": "2023-02-10T00:18:21.912273",
     "status": "completed"
    },
    "tags": []
   },
   "outputs": [
    {
     "name": "stderr",
     "output_type": "stream",
     "text": [
      "2023-02-10 00:18:25.142063: W tensorflow/core/framework/cpu_allocator_impl.cc:80] Allocation of 468686300 exceeds 10% of free system memory.\n"
     ]
    }
   ],
   "source": [
    "\n",
    "pred = model.predict(test_features)\n",
    "bin_pred = []\n",
    "for i in pred:\n",
    "    if i>=0.5:\n",
    "        bin_pred.append(1)\n",
    "    else:\n",
    "        bin_pred.append(0)\n",
    "bin_pred = np.array(bin_pred)\n"
   ]
  },
  {
   "cell_type": "code",
   "execution_count": null,
   "id": "7a9383e2",
   "metadata": {
    "papermill": {
     "duration": 2.95909,
     "end_time": "2023-02-10T00:18:37.675784",
     "exception": false,
     "start_time": "2023-02-10T00:18:34.716694",
     "status": "completed"
    },
    "tags": []
   },
   "outputs": [],
   "source": []
  },
  {
   "cell_type": "code",
   "execution_count": 18,
   "id": "f6b107f7",
   "metadata": {
    "execution": {
     "iopub.execute_input": "2023-02-10T00:18:44.042603Z",
     "iopub.status.busy": "2023-02-10T00:18:44.042221Z",
     "iopub.status.idle": "2023-02-10T00:18:44.066367Z",
     "shell.execute_reply": "2023-02-10T00:18:44.065000Z"
    },
    "papermill": {
     "duration": 3.322223,
     "end_time": "2023-02-10T00:18:44.068492",
     "exception": false,
     "start_time": "2023-02-10T00:18:40.746269",
     "status": "completed"
    },
    "tags": []
   },
   "outputs": [
    {
     "name": "stdout",
     "output_type": "stream",
     "text": [
      "0.8883925132866055\n",
      "0.9528703047484054 0.45899705014749265\n"
     ]
    }
   ],
   "source": [
    "import sklearn\n",
    "acc = sklearn.metrics.accuracy_score(test_target, bin_pred)\n",
    "print(acc)\n",
    "\n",
    "countzero=0\n",
    "countone=0\n",
    "countzerot=0\n",
    "countonet=0\n",
    "for i, j in zip(test_target, bin_pred):\n",
    "    if i==0 and j==0:\n",
    "        countzero+=1\n",
    "    if i==1 and j==1:\n",
    "        countone+=1\n",
    "    if i==1:\n",
    "        countonet+=1\n",
    "    if i==0:\n",
    "        countzerot+=1\n",
    "print(countzero/countzerot,countone/countonet)"
   ]
  },
  {
   "cell_type": "code",
   "execution_count": 19,
   "id": "2d6e3df2",
   "metadata": {
    "execution": {
     "iopub.execute_input": "2023-02-10T00:18:50.481511Z",
     "iopub.status.busy": "2023-02-10T00:18:50.481138Z",
     "iopub.status.idle": "2023-02-10T00:18:50.491186Z",
     "shell.execute_reply": "2023-02-10T00:18:50.490155Z"
    },
    "papermill": {
     "duration": 2.992347,
     "end_time": "2023-02-10T00:18:50.493257",
     "exception": false,
     "start_time": "2023-02-10T00:18:47.500910",
     "status": "completed"
    },
    "tags": []
   },
   "outputs": [
    {
     "name": "stdout",
     "output_type": "stream",
     "text": [
      "0.5178036605657238\n"
     ]
    }
   ],
   "source": [
    "\n",
    "def recall_m(y_true, y_pred):\n",
    "    true_positives = np.sum(np.round(np.clip(y_true * y_pred, 0, 1)))\n",
    "    possible_positives = np.sum(np.round(np.clip(y_true, 0, 1)))\n",
    "    recall = true_positives / (possible_positives )\n",
    "    return recall\n",
    "\n",
    "def precision_m(y_true, y_pred):\n",
    "    true_positives = np.sum(np.round(np.clip(y_true * y_pred, 0, 1)))\n",
    "    predicted_positives = np.sum(np.round(np.clip(y_pred, 0, 1)))\n",
    "    precision = true_positives / (predicted_positives )\n",
    "    return precision\n",
    "\n",
    "def f1_m(y_true, y_pred):\n",
    "    precision = precision_m(y_true, y_pred)\n",
    "    recall = recall_m(y_true, y_pred)\n",
    "    return 2*((precision*recall)/(precision+recall))\n",
    "\n",
    "\n",
    "print(f1_m(test_target,bin_pred))"
   ]
  }
 ],
 "metadata": {
  "kernelspec": {
   "display_name": "Python 3",
   "language": "python",
   "name": "python3"
  },
  "language_info": {
   "codemirror_mode": {
    "name": "ipython",
    "version": 3
   },
   "file_extension": ".py",
   "mimetype": "text/x-python",
   "name": "python",
   "nbconvert_exporter": "python",
   "pygments_lexer": "ipython3",
   "version": "3.7.12"
  },
  "papermill": {
   "default_parameters": {},
   "duration": 5404.081986,
   "end_time": "2023-02-10T00:18:57.119087",
   "environment_variables": {},
   "exception": null,
   "input_path": "__notebook__.ipynb",
   "output_path": "__notebook__.ipynb",
   "parameters": {},
   "start_time": "2023-02-09T22:48:53.037101",
   "version": "2.3.4"
  }
 },
 "nbformat": 4,
 "nbformat_minor": 5
}
