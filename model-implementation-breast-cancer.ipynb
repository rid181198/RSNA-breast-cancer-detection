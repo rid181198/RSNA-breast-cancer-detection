{
 "cells": [
  {
   "cell_type": "code",
   "execution_count": 1,
   "id": "7e6560c1",
   "metadata": {
    "_cell_guid": "b1076dfc-b9ad-4769-8c92-a6c4dae69d19",
    "_uuid": "8f2839f25d086af736a60e9eeb907d3b93b6e0e5",
    "execution": {
     "iopub.execute_input": "2023-01-20T11:41:05.200894Z",
     "iopub.status.busy": "2023-01-20T11:41:05.200405Z",
     "iopub.status.idle": "2023-01-20T11:41:44.709969Z",
     "shell.execute_reply": "2023-01-20T11:41:44.708920Z"
    },
    "papermill": {
     "duration": 39.520768,
     "end_time": "2023-01-20T11:41:44.713292",
     "exception": false,
     "start_time": "2023-01-20T11:41:05.192524",
     "status": "completed"
    },
    "tags": []
   },
   "outputs": [
    {
     "name": "stdout",
     "output_type": "stream",
     "text": [
      "Processing /kaggle/input/rsnawheelspackages/dicomsdl-0.109.1-cp37-cp37m-manylinux_2_12_x86_64.manylinux2010_x86_64.whl\r\n",
      "Installing collected packages: dicomsdl\r\n",
      "Successfully installed dicomsdl-0.109.1\r\n",
      "\u001b[33mWARNING: Running pip as the 'root' user can result in broken permissions and conflicting behaviour with the system package manager. It is recommended to use a virtual environment instead: https://pip.pypa.io/warnings/venv\u001b[0m\u001b[33m\r\n",
      "\u001b[0m\u001b[33mWARNING: There was an error checking the latest version of pip.\u001b[0m\u001b[33m\r\n",
      "\u001b[0m"
     ]
    }
   ],
   "source": [
    "import sys\n",
    "#!{sys.executable} -m pip install dicomsdl\n",
    "!pip install /kaggle/input/rsnawheelspackages/dicomsdl-0.109.1-cp37-cp37m-manylinux_2_12_x86_64.manylinux2010_x86_64.whl\n",
    "import numpy as np\n",
    "import pandas as pd\n",
    "import matplotlib.pyplot as plt\n",
    "import seaborn as sns\n",
    "import pickle\n",
    "#import pydicom as dicom\n",
    "import dicomsdl as dicom\n",
    "import tensorflow as tf\n",
    "import tensorflow_io as tfio\n",
    "from PIL import Image as im\n",
    "import os\n",
    "from tqdm import tqdm\n",
    "import cv2\n",
    "from PIL import Image\n",
    "from joblib import Parallel, delayed\n",
    "import gc\n",
    "import random"
   ]
  },
  {
   "cell_type": "markdown",
   "id": "e2955e37",
   "metadata": {
    "papermill": {
     "duration": 0.004692,
     "end_time": "2023-01-20T11:41:44.723325",
     "exception": false,
     "start_time": "2023-01-20T11:41:44.718633",
     "status": "completed"
    },
    "tags": []
   },
   "source": [
    "## Enter the path of the test dataset and image dataset here"
   ]
  },
  {
   "cell_type": "code",
   "execution_count": 2,
   "id": "47676e7c",
   "metadata": {
    "execution": {
     "iopub.execute_input": "2023-01-20T11:41:44.735897Z",
     "iopub.status.busy": "2023-01-20T11:41:44.734810Z",
     "iopub.status.idle": "2023-01-20T11:41:44.739900Z",
     "shell.execute_reply": "2023-01-20T11:41:44.739155Z"
    },
    "papermill": {
     "duration": 0.013736,
     "end_time": "2023-01-20T11:41:44.742031",
     "exception": false,
     "start_time": "2023-01-20T11:41:44.728295",
     "status": "completed"
    },
    "tags": []
   },
   "outputs": [],
   "source": [
    "\n",
    "datasetPath = '/kaggle/input/rsna-breast-cancer-detection/test.csv'\n",
    "imgPath = '/kaggle/input/rsna-breast-cancer-detection/test_images/'\n"
   ]
  },
  {
   "cell_type": "markdown",
   "id": "45500a98",
   "metadata": {
    "papermill": {
     "duration": 0.004731,
     "end_time": "2023-01-20T11:41:44.751830",
     "exception": false,
     "start_time": "2023-01-20T11:41:44.747099",
     "status": "completed"
    },
    "tags": []
   },
   "source": [
    "## Data processing pipeline"
   ]
  },
  {
   "cell_type": "code",
   "execution_count": 3,
   "id": "aee92439",
   "metadata": {
    "execution": {
     "iopub.execute_input": "2023-01-20T11:41:44.764485Z",
     "iopub.status.busy": "2023-01-20T11:41:44.763686Z",
     "iopub.status.idle": "2023-01-20T11:41:44.787057Z",
     "shell.execute_reply": "2023-01-20T11:41:44.785730Z"
    },
    "papermill": {
     "duration": 0.032873,
     "end_time": "2023-01-20T11:41:44.789741",
     "exception": false,
     "start_time": "2023-01-20T11:41:44.756868",
     "status": "completed"
    },
    "tags": []
   },
   "outputs": [],
   "source": [
    "\n",
    "\n",
    "\n",
    "def crop(sideName, imgName):\n",
    "    if sideName == 'L':\n",
    "        colind=[]\n",
    "        for r,row in enumerate(imgName):\n",
    "            for c,col in enumerate(row):\n",
    "                if col==0:\n",
    "                    colind.append(c)\n",
    "                    break\n",
    "        crop_size = max(colind)\n",
    "        imgName = imgName[0:512,0:crop_size]\n",
    "        imgName = cv2.resize(imgName,(128,128))\n",
    "        \n",
    "    if sideName == 'R':\n",
    "        colind=[]\n",
    "        for r,row in enumerate(imgName):\n",
    "            for c,col in enumerate(row):\n",
    "                if col!=0:\n",
    "                    colind.append(c)\n",
    "                    break\n",
    "        crop_size = min(colind)\n",
    "        imgName = imgName[0:512,crop_size:512]\n",
    "        imgName = cv2.resize(imgName,(128,128))\n",
    "    \n",
    "    return imgName    \n",
    "\n",
    "    gc.collect()\n",
    "    \n",
    "def crop_reverse(sideName, imgName):\n",
    "    if sideName == 'R':\n",
    "        colind=[]\n",
    "        for r,row in enumerate(imgName):\n",
    "            for c,col in enumerate(row):\n",
    "                if col==0:\n",
    "                    colind.append(c)\n",
    "                    break\n",
    "        crop_size = max(colind)\n",
    "        imgName = imgName[0:512,0:crop_size]\n",
    "        imgName = cv2.resize(imgName,(128,128))\n",
    "        \n",
    "    if sideName == 'L':\n",
    "        colind=[]\n",
    "        for r,row in enumerate(imgName):\n",
    "            for c,col in enumerate(row):\n",
    "                if col!=0:\n",
    "                    colind.append(c)\n",
    "                    break\n",
    "        crop_size = min(colind)\n",
    "        imgName = imgName[0:512,crop_size:512]\n",
    "        imgName = cv2.resize(imgName,(128,128))\n",
    "    \n",
    "    return imgName    \n",
    "\n",
    "    gc.collect()\n",
    "    \n",
    "\n",
    "def img_process(i,filename,sides):\n",
    "    \n",
    "    #ds = dicom.dcmread(filename)\n",
    "    ds = dicom.open(filename)\n",
    "    ds = ds.pixelData()\n",
    "    ds = cv2.normalize(ds, None, 0, 1.0, cv2.NORM_MINMAX, dtype=cv2.CV_32F)\n",
    "    ds = cv2.resize(ds,(512,512))\n",
    "    ds = np.where(ds >= 0.9999, 0,ds)\n",
    "    \n",
    "    try:\n",
    "        ds = np.array(crop(sides[i], ds))   \n",
    "    except:\n",
    "        ds = np.array(crop_reverse(sides[i], ds))\n",
    "    return ds \n",
    "\n",
    "    #train_data.loc[i,'img_data'] = [img_fin]\n",
    "    #train_data.to_csv('/kaggle/working/training_img_data.csv') \n",
    "    \n",
    "    gc.collect()\n",
    "\n",
    "def dcmToPix(datasetPath, imgPath):\n",
    "    dataset = pd.read_csv(datasetPath)\n",
    "    dataset=dataset[:50]\n",
    "    \n",
    "    \n",
    "    patient_ids = dataset['patient_id']\n",
    "    image_ids = dataset['image_id']\n",
    "    sides  = dataset['laterality']\n",
    "\n",
    "    imgData = []\n",
    "\n",
    "    for pi, ii, leng in zip(patient_ids, image_ids, range(len(patient_ids))):\n",
    "        imgData.append(imgPath + str(pi) + '/' + str(ii) + '.dcm')\n",
    "\n",
    "    dataset['img_data'] = \" \"\n",
    "    \n",
    "    result = Parallel(n_jobs=128)(\\\n",
    "    delayed(img_process)(i, fname, sides) for i, fname in zip(range(len(imgData)),tqdm(imgData))\\\n",
    "    )\n",
    "    \n",
    "    dataset['img_data'] = result\n",
    "    dataset.to_pickle('imgData.pkl' )\n",
    "    \n",
    "    return result\n",
    "    \n",
    "def random_rotate(imgData):\n",
    "    imgData = imgData.reshape(128,128)\n",
    "    imgData = im.fromarray(imgData)\n",
    "    imgData = np.asarray(imgData.rotate(random.randint(0, 360)))\n",
    "    return imgData"
   ]
  },
  {
   "cell_type": "markdown",
   "id": "02b81172",
   "metadata": {
    "papermill": {
     "duration": 0.005037,
     "end_time": "2023-01-20T11:41:44.800233",
     "exception": false,
     "start_time": "2023-01-20T11:41:44.795196",
     "status": "completed"
    },
    "tags": []
   },
   "source": [
    "## Implementing the data processing pipeline to the data"
   ]
  },
  {
   "cell_type": "code",
   "execution_count": 4,
   "id": "cc06c686",
   "metadata": {
    "execution": {
     "iopub.execute_input": "2023-01-20T11:41:44.812463Z",
     "iopub.status.busy": "2023-01-20T11:41:44.812079Z",
     "iopub.status.idle": "2023-01-20T11:42:02.913281Z",
     "shell.execute_reply": "2023-01-20T11:42:02.911734Z"
    },
    "papermill": {
     "duration": 18.111221,
     "end_time": "2023-01-20T11:42:02.916782",
     "exception": false,
     "start_time": "2023-01-20T11:41:44.805561",
     "status": "completed"
    },
    "tags": []
   },
   "outputs": [
    {
     "name": "stderr",
     "output_type": "stream",
     "text": [
      " 75%|███████▌  | 3/4 [00:00<00:00, 94.75it/s]\n"
     ]
    }
   ],
   "source": [
    "testImgData = dcmToPix(datasetPath, imgPath)"
   ]
  },
  {
   "cell_type": "markdown",
   "id": "433001ca",
   "metadata": {
    "papermill": {
     "duration": 0.005298,
     "end_time": "2023-01-20T11:42:02.927841",
     "exception": false,
     "start_time": "2023-01-20T11:42:02.922543",
     "status": "completed"
    },
    "tags": []
   },
   "source": [
    "## Normalizing the data and processing the data to make it compatible with the model"
   ]
  },
  {
   "cell_type": "code",
   "execution_count": 5,
   "id": "b7bf76f6",
   "metadata": {
    "execution": {
     "iopub.execute_input": "2023-01-20T11:42:02.941071Z",
     "iopub.status.busy": "2023-01-20T11:42:02.940278Z",
     "iopub.status.idle": "2023-01-20T11:42:02.946089Z",
     "shell.execute_reply": "2023-01-20T11:42:02.945279Z"
    },
    "papermill": {
     "duration": 0.014981,
     "end_time": "2023-01-20T11:42:02.948253",
     "exception": false,
     "start_time": "2023-01-20T11:42:02.933272",
     "status": "completed"
    },
    "tags": []
   },
   "outputs": [],
   "source": [
    "\n",
    "imgDataFrame = {'img_data':testImgData}\n",
    "imgData2 = pd.DataFrame(imgDataFrame)\n",
    "testImgData=imgData2\n"
   ]
  },
  {
   "cell_type": "code",
   "execution_count": 6,
   "id": "c09440d6",
   "metadata": {
    "execution": {
     "iopub.execute_input": "2023-01-20T11:42:02.961018Z",
     "iopub.status.busy": "2023-01-20T11:42:02.960322Z",
     "iopub.status.idle": "2023-01-20T11:42:02.973610Z",
     "shell.execute_reply": "2023-01-20T11:42:02.972417Z"
    },
    "papermill": {
     "duration": 0.022441,
     "end_time": "2023-01-20T11:42:02.975988",
     "exception": false,
     "start_time": "2023-01-20T11:42:02.953547",
     "status": "completed"
    },
    "tags": []
   },
   "outputs": [
    {
     "name": "stderr",
     "output_type": "stream",
     "text": [
      "100%|██████████| 4/4 [00:00<00:00, 1171.02it/s]\n"
     ]
    }
   ],
   "source": [
    "imgDataList=[]\n",
    "for j in tqdm(testImgData['img_data']):\n",
    "    imgDataList.append(random_rotate(j))\n",
    "testImgData['img_data'] = imgDataList"
   ]
  },
  {
   "cell_type": "code",
   "execution_count": 7,
   "id": "ae682611",
   "metadata": {
    "execution": {
     "iopub.execute_input": "2023-01-20T11:42:02.988937Z",
     "iopub.status.busy": "2023-01-20T11:42:02.988242Z",
     "iopub.status.idle": "2023-01-20T11:42:03.065854Z",
     "shell.execute_reply": "2023-01-20T11:42:03.064638Z"
    },
    "papermill": {
     "duration": 0.087158,
     "end_time": "2023-01-20T11:42:03.068616",
     "exception": false,
     "start_time": "2023-01-20T11:42:02.981458",
     "status": "completed"
    },
    "tags": []
   },
   "outputs": [],
   "source": [
    "test=testImgData\n",
    "\n",
    "\n",
    "test_features=[]\n",
    "for i in test['img_data']:\n",
    "    test_features.append([i])\n",
    "test_features=np.array(test_features)\n",
    "\n",
    "\n",
    "from sklearn.preprocessing import StandardScaler\n",
    "\n",
    "scaler = StandardScaler()\n",
    "norm_features= []\n",
    "for i in range(len(test_features)):\n",
    "    norm_features.append(scaler.fit_transform(test_features[i][0]))\n",
    "test_features=np.array(norm_features)\n",
    "\n",
    "test_features = test_features.reshape(len(test_features),128,128,1)\n",
    "\n"
   ]
  },
  {
   "cell_type": "markdown",
   "id": "c17dd0d4",
   "metadata": {
    "papermill": {
     "duration": 0.006432,
     "end_time": "2023-01-20T11:42:03.080782",
     "exception": false,
     "start_time": "2023-01-20T11:42:03.074350",
     "status": "completed"
    },
    "tags": []
   },
   "source": [
    "## Loading the trained model"
   ]
  },
  {
   "cell_type": "markdown",
   "id": "8366136a",
   "metadata": {
    "papermill": {
     "duration": 0.005178,
     "end_time": "2023-01-20T11:42:03.091835",
     "exception": false,
     "start_time": "2023-01-20T11:42:03.086657",
     "status": "completed"
    },
    "tags": []
   },
   "source": [
    "I have already implemented the convolutional neural network model to the train dataset. Because it took me so long to run the notebook for the model training, I am not uploading the previous notebooks. It is necessary to run above cells to run the model and predict the outcomes."
   ]
  },
  {
   "cell_type": "markdown",
   "id": "f656a673",
   "metadata": {
    "papermill": {
     "duration": 0.005119,
     "end_time": "2023-01-20T11:42:03.102387",
     "exception": false,
     "start_time": "2023-01-20T11:42:03.097268",
     "status": "completed"
    },
    "tags": []
   },
   "source": [
    "**Please put the path of the trained model. The model is saved in the dataset named \"pre trained model of breast cancer\" under the name of Ridhesh Goti**"
   ]
  },
  {
   "cell_type": "code",
   "execution_count": 8,
   "id": "73daf925",
   "metadata": {
    "execution": {
     "iopub.execute_input": "2023-01-20T11:42:03.115113Z",
     "iopub.status.busy": "2023-01-20T11:42:03.114651Z",
     "iopub.status.idle": "2023-01-20T11:42:03.835317Z",
     "shell.execute_reply": "2023-01-20T11:42:03.834075Z"
    },
    "papermill": {
     "duration": 0.730529,
     "end_time": "2023-01-20T11:42:03.838491",
     "exception": false,
     "start_time": "2023-01-20T11:42:03.107962",
     "status": "completed"
    },
    "tags": []
   },
   "outputs": [
    {
     "name": "stderr",
     "output_type": "stream",
     "text": [
      "2023-01-20 11:42:03.194717: I tensorflow/core/common_runtime/process_util.cc:146] Creating new thread pool with default inter op setting: 2. Tune using inter_op_parallelism_threads for best performance.\n"
     ]
    }
   ],
   "source": [
    "from tensorflow import keras\n",
    "model = keras.models.load_model(\"/kaggle/input/pre-trained-model-of-breast-cancer/trained_model_breast_cancer.h5\")"
   ]
  },
  {
   "cell_type": "markdown",
   "id": "6b209149",
   "metadata": {
    "papermill": {
     "duration": 0.005259,
     "end_time": "2023-01-20T11:42:03.850430",
     "exception": false,
     "start_time": "2023-01-20T11:42:03.845171",
     "status": "completed"
    },
    "tags": []
   },
   "source": [
    "## Predictions"
   ]
  },
  {
   "cell_type": "code",
   "execution_count": 9,
   "id": "9c4d03e8",
   "metadata": {
    "execution": {
     "iopub.execute_input": "2023-01-20T11:42:03.863505Z",
     "iopub.status.busy": "2023-01-20T11:42:03.862706Z",
     "iopub.status.idle": "2023-01-20T11:42:04.283986Z",
     "shell.execute_reply": "2023-01-20T11:42:04.282915Z"
    },
    "papermill": {
     "duration": 0.430856,
     "end_time": "2023-01-20T11:42:04.286796",
     "exception": false,
     "start_time": "2023-01-20T11:42:03.855940",
     "status": "completed"
    },
    "tags": []
   },
   "outputs": [
    {
     "name": "stderr",
     "output_type": "stream",
     "text": [
      "2023-01-20 11:42:03.934243: I tensorflow/compiler/mlir/mlir_graph_optimization_pass.cc:185] None of the MLIR Optimization Passes are enabled (registered 2)\n"
     ]
    }
   ],
   "source": [
    "pred = model.predict(test_features)\n",
    "bin_pred = []\n",
    "for i in pred:\n",
    "    if i>=0.5:\n",
    "        bin_pred.append(1)\n",
    "    else:\n",
    "        bin_pred.append(0)\n",
    "bin_pred = np.array(bin_pred)\n"
   ]
  },
  {
   "cell_type": "markdown",
   "id": "229428d1",
   "metadata": {
    "papermill": {
     "duration": 0.005638,
     "end_time": "2023-01-20T11:42:04.298321",
     "exception": false,
     "start_time": "2023-01-20T11:42:04.292683",
     "status": "completed"
    },
    "tags": []
   },
   "source": [
    "## Saving the model to the current directory as submission.csv"
   ]
  },
  {
   "cell_type": "code",
   "execution_count": 10,
   "id": "c0414f8d",
   "metadata": {
    "execution": {
     "iopub.execute_input": "2023-01-20T11:42:04.313127Z",
     "iopub.status.busy": "2023-01-20T11:42:04.311895Z",
     "iopub.status.idle": "2023-01-20T11:42:04.326394Z",
     "shell.execute_reply": "2023-01-20T11:42:04.325227Z"
    },
    "papermill": {
     "duration": 0.024847,
     "end_time": "2023-01-20T11:42:04.329092",
     "exception": false,
     "start_time": "2023-01-20T11:42:04.304245",
     "status": "completed"
    },
    "tags": []
   },
   "outputs": [],
   "source": [
    "testData = pd.read_csv(datasetPath)\n",
    "\n",
    "submissionFrame={'prediction_id':testData['prediction_id'],'cancer':bin_pred}\n",
    "submission = pd.DataFrame(submissionFrame)\n",
    "submission.to_csv('submission.csv',index=False)"
   ]
  },
  {
   "cell_type": "markdown",
   "id": "ce569b73",
   "metadata": {
    "papermill": {
     "duration": 0.005384,
     "end_time": "2023-01-20T11:42:04.340193",
     "exception": false,
     "start_time": "2023-01-20T11:42:04.334809",
     "status": "completed"
    },
    "tags": []
   },
   "source": [
    "Please let me know if there is anything missing."
   ]
  }
 ],
 "metadata": {
  "kernelspec": {
   "display_name": "Python 3",
   "language": "python",
   "name": "python3"
  },
  "language_info": {
   "codemirror_mode": {
    "name": "ipython",
    "version": 3
   },
   "file_extension": ".py",
   "mimetype": "text/x-python",
   "name": "python",
   "nbconvert_exporter": "python",
   "pygments_lexer": "ipython3",
   "version": "3.7.12"
  },
  "papermill": {
   "default_parameters": {},
   "duration": 70.339966,
   "end_time": "2023-01-20T11:42:07.165590",
   "environment_variables": {},
   "exception": null,
   "input_path": "__notebook__.ipynb",
   "output_path": "__notebook__.ipynb",
   "parameters": {},
   "start_time": "2023-01-20T11:40:56.825624",
   "version": "2.3.4"
  }
 },
 "nbformat": 4,
 "nbformat_minor": 5
}
