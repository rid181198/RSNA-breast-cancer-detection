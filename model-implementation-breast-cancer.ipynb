{
 "cells": [
  {
   "cell_type": "code",
   "execution_count": 1,
   "id": "43a4c6e1",
   "metadata": {
    "_cell_guid": "b1076dfc-b9ad-4769-8c92-a6c4dae69d19",
    "_uuid": "8f2839f25d086af736a60e9eeb907d3b93b6e0e5",
    "execution": {
     "iopub.execute_input": "2023-02-04T23:19:56.968688Z",
     "iopub.status.busy": "2023-02-04T23:19:56.967642Z",
     "iopub.status.idle": "2023-02-04T23:20:33.926036Z",
     "shell.execute_reply": "2023-02-04T23:20:33.925062Z"
    },
    "papermill": {
     "duration": 36.969367,
     "end_time": "2023-02-04T23:20:33.928564",
     "exception": false,
     "start_time": "2023-02-04T23:19:56.959197",
     "status": "completed"
    },
    "tags": []
   },
   "outputs": [
    {
     "name": "stdout",
     "output_type": "stream",
     "text": [
      "Processing /kaggle/input/rsnawheelspackages/dicomsdl-0.109.1-cp37-cp37m-manylinux_2_12_x86_64.manylinux2010_x86_64.whl\r\n",
      "Installing collected packages: dicomsdl\r\n",
      "Successfully installed dicomsdl-0.109.1\r\n",
      "\u001b[33mWARNING: Running pip as the 'root' user can result in broken permissions and conflicting behaviour with the system package manager. It is recommended to use a virtual environment instead: https://pip.pypa.io/warnings/venv\u001b[0m\u001b[33m\r\n",
      "\u001b[0m\u001b[33mWARNING: There was an error checking the latest version of pip.\u001b[0m\u001b[33m\r\n",
      "\u001b[0m"
     ]
    }
   ],
   "source": [
    "import sys\n",
    "#!{sys.executable} -m pip install dicomsdl\n",
    "!pip install /kaggle/input/rsnawheelspackages/dicomsdl-0.109.1-cp37-cp37m-manylinux_2_12_x86_64.manylinux2010_x86_64.whl\n",
    "import numpy as np\n",
    "import pandas as pd\n",
    "import matplotlib.pyplot as plt\n",
    "import seaborn as sns\n",
    "import pickle\n",
    "#import pydicom as dicom\n",
    "import dicomsdl as dicom\n",
    "import tensorflow as tf\n",
    "import tensorflow_io as tfio\n",
    "from PIL import Image as im\n",
    "import os\n",
    "from tqdm import tqdm\n",
    "import cv2\n",
    "from PIL import Image\n",
    "from joblib import Parallel, delayed\n",
    "import gc\n",
    "import random"
   ]
  },
  {
   "cell_type": "markdown",
   "id": "992e9a32",
   "metadata": {
    "papermill": {
     "duration": 0.005566,
     "end_time": "2023-02-04T23:20:33.939699",
     "exception": false,
     "start_time": "2023-02-04T23:20:33.934133",
     "status": "completed"
    },
    "tags": []
   },
   "source": [
    "## Enter the path of the test dataset and image dataset here"
   ]
  },
  {
   "cell_type": "code",
   "execution_count": 2,
   "id": "abf121a6",
   "metadata": {
    "execution": {
     "iopub.execute_input": "2023-02-04T23:20:33.954709Z",
     "iopub.status.busy": "2023-02-04T23:20:33.952622Z",
     "iopub.status.idle": "2023-02-04T23:20:33.959453Z",
     "shell.execute_reply": "2023-02-04T23:20:33.958372Z"
    },
    "papermill": {
     "duration": 0.016536,
     "end_time": "2023-02-04T23:20:33.961883",
     "exception": false,
     "start_time": "2023-02-04T23:20:33.945347",
     "status": "completed"
    },
    "tags": []
   },
   "outputs": [],
   "source": [
    "\n",
    "datasetPath = '/kaggle/input/rsna-breast-cancer-detection/test.csv'\n",
    "imgPath = '/kaggle/input/rsna-breast-cancer-detection/test_images/'\n"
   ]
  },
  {
   "cell_type": "markdown",
   "id": "1078c465",
   "metadata": {
    "papermill": {
     "duration": 0.005816,
     "end_time": "2023-02-04T23:20:33.973755",
     "exception": false,
     "start_time": "2023-02-04T23:20:33.967939",
     "status": "completed"
    },
    "tags": []
   },
   "source": [
    "## Data processing pipeline"
   ]
  },
  {
   "cell_type": "code",
   "execution_count": 3,
   "id": "9d5fd0f9",
   "metadata": {
    "execution": {
     "iopub.execute_input": "2023-02-04T23:20:33.987364Z",
     "iopub.status.busy": "2023-02-04T23:20:33.987046Z",
     "iopub.status.idle": "2023-02-04T23:20:34.007530Z",
     "shell.execute_reply": "2023-02-04T23:20:34.006350Z"
    },
    "papermill": {
     "duration": 0.030789,
     "end_time": "2023-02-04T23:20:34.010319",
     "exception": false,
     "start_time": "2023-02-04T23:20:33.979530",
     "status": "completed"
    },
    "tags": []
   },
   "outputs": [],
   "source": [
    "\n",
    "\n",
    "\n",
    "def crop(sideName, imgName):\n",
    "    \"\"\"\n",
    "    This function is used to crop the breast images. It takes two arguments.\n",
    "    \n",
    "    Input:-\n",
    "    :sideName = Laterality of breast if it is right or left\n",
    "    :imgName = Image pixel data of the DCM images\n",
    "    \n",
    "    Output:-\n",
    "    :return = Output after cropping the image.\n",
    "    \n",
    "    \"\"\"\n",
    "    if sideName == 'L':\n",
    "        colind=[]\n",
    "        for r,row in enumerate(imgName):\n",
    "            for c,col in enumerate(row):\n",
    "                if col==0:\n",
    "                    colind.append(c)\n",
    "                    break\n",
    "        crop_size = max(colind)\n",
    "        imgName = imgName[0:512,0:crop_size]\n",
    "        imgName = cv2.resize(imgName,(128,128))\n",
    "        \n",
    "    if sideName == 'R':\n",
    "        colind=[]\n",
    "        for r,row in enumerate(imgName):\n",
    "            for c,col in enumerate(row):\n",
    "                if col!=0:\n",
    "                    colind.append(c)\n",
    "                    break\n",
    "        crop_size = min(colind)\n",
    "        imgName = imgName[0:512,crop_size:512]\n",
    "        imgName = cv2.resize(imgName,(128,128))\n",
    "    \n",
    "    return imgName    \n",
    "\n",
    "    gc.collect()\n",
    "    \n",
    "def crop_reverse(sideName, imgName):\n",
    "    \n",
    "    \"\"\"\n",
    "    This function is used to crop the breast images but in the reverse order.\n",
    "    Because the laterality is defined wrongly for some images. It takes two arguments.\n",
    "    \n",
    "    Input:-\n",
    "    :sideName = Laterality of breast if it is right or left\n",
    "    :imgName = Image pixel data of the DCM images\n",
    "    \n",
    "    Output:-\n",
    "    :return = Output after cropping the image.\n",
    "    \n",
    "    \"\"\"\n",
    "    \n",
    "    if sideName == 'R':\n",
    "        colind=[]\n",
    "        for r,row in enumerate(imgName):\n",
    "            for c,col in enumerate(row):\n",
    "                if col==0:\n",
    "                    colind.append(c)\n",
    "                    break\n",
    "        crop_size = max(colind)\n",
    "        imgName = imgName[0:512,0:crop_size]\n",
    "        imgName = cv2.resize(imgName,(128,128))\n",
    "        \n",
    "    if sideName == 'L':\n",
    "        colind=[]\n",
    "        for r,row in enumerate(imgName):\n",
    "            for c,col in enumerate(row):\n",
    "                if col!=0:\n",
    "                    colind.append(c)\n",
    "                    break\n",
    "        crop_size = min(colind)\n",
    "        imgName = imgName[0:512,crop_size:512]\n",
    "        imgName = cv2.resize(imgName,(128,128))\n",
    "    \n",
    "    return imgName    \n",
    "\n",
    "    gc.collect()\n",
    "    \n",
    "\n",
    "def img_process(i,filename,sides):\n",
    "    \n",
    "    \"\"\"\n",
    "    This function is used to process the images which will be used for the training/test dataset. It takes three arguments.\n",
    "    \n",
    "    Input:-\n",
    "    :i = Index of the image in the dataframe\n",
    "    :filename = Path of the image\n",
    "    :sides = List of all images' laterality\n",
    "    \n",
    "    Output:-\n",
    "    :return = Output after cropping the image.\n",
    "    \n",
    "    \"\"\"\n",
    "    \n",
    "    \n",
    "    #ds = dicom.dcmread(filename)\n",
    "    dsraw = dicom.open(filename)\n",
    "    ds = dsraw.pixelData()\n",
    "    \n",
    "    ds = (ds - ds.min()) / (ds.max() - ds.min())\n",
    "    if dsraw.PhotometricInterpretation == \"MONOCHROME1\":  \n",
    "        ds = 1 - ds\n",
    "    ds = (ds * 255).astype(np.uint8)\n",
    "\n",
    "    \n",
    "    #ds = cv2.normalize(ds, None, 0, 1.0, cv2.NORM_MINMAX, dtype=cv2.CV_32F)\n",
    "    ds = cv2.resize(ds,(512,512))\n",
    "    \n",
    "    #ds = np.where(ds >= 0.999, 0,ds)\n",
    "    \n",
    "    try:\n",
    "        ds = np.array(crop(sides[i], ds))   \n",
    "    except:\n",
    "        ds = np.array(crop_reverse(sides[i], ds))\n",
    "    \n",
    "\n",
    "    #train_data.loc[i,'img_data'] = [img_fin]\n",
    "    #train_data.to_csv('/kaggle/working/training_img_data.csv') \n",
    "    return ds\n",
    "    gc.collect()\n",
    "\n",
    "def dcmToPix(datasetPath, imgPath):\n",
    "    \n",
    "    \"\"\"\n",
    "    This function is used to process all the images which will be used for the training/test dataset. It takes two arguments.\n",
    "    \n",
    "    Input:-\n",
    "    :datasetPath = Path of the cancer dataset\n",
    "    :imgPath = Path of the image dataset\n",
    "   \n",
    "    Output:-\n",
    "    :return = Array of all the processed images\n",
    "    \n",
    "    \"\"\"\n",
    "    \n",
    "    \n",
    "    dataset = pd.read_csv(datasetPath)\n",
    "    \n",
    "    patient_ids = dataset['patient_id']\n",
    "    image_ids = dataset['image_id']\n",
    "    sides  = dataset['laterality']\n",
    "\n",
    "    imgData = []\n",
    "\n",
    "    for pi, ii, leng in zip(patient_ids, image_ids, range(len(patient_ids))):\n",
    "        imgData.append(imgPath + str(pi) + '/' + str(ii) + '.dcm')\n",
    "\n",
    "    dataset['img_data'] = \" \"\n",
    "    \n",
    "    result = Parallel(n_jobs=128)(\\\n",
    "    delayed(img_process)(i, fname, sides) for i, fname in zip(range(len(imgData)),tqdm(imgData))\\\n",
    "    )\n",
    "    \n",
    "    dataset['img_data'] = result\n",
    "    dataset.to_pickle('/kaggle/working/imgData.pkl' )\n",
    "    \n",
    "    return result\n",
    "    "
   ]
  },
  {
   "cell_type": "markdown",
   "id": "9393a0ec",
   "metadata": {
    "papermill": {
     "duration": 0.005699,
     "end_time": "2023-02-04T23:20:34.021973",
     "exception": false,
     "start_time": "2023-02-04T23:20:34.016274",
     "status": "completed"
    },
    "tags": []
   },
   "source": [
    "## Implementing the data processing pipeline to the data"
   ]
  },
  {
   "cell_type": "markdown",
   "id": "8650964e",
   "metadata": {
    "papermill": {
     "duration": 0.005805,
     "end_time": "2023-02-04T23:20:34.035282",
     "exception": false,
     "start_time": "2023-02-04T23:20:34.029477",
     "status": "completed"
    },
    "tags": []
   },
   "source": [
    "This may take hours if the dataset is large."
   ]
  },
  {
   "cell_type": "code",
   "execution_count": 4,
   "id": "2ed892c4",
   "metadata": {
    "execution": {
     "iopub.execute_input": "2023-02-04T23:20:34.048824Z",
     "iopub.status.busy": "2023-02-04T23:20:34.048467Z",
     "iopub.status.idle": "2023-02-04T23:21:06.576785Z",
     "shell.execute_reply": "2023-02-04T23:21:06.575242Z"
    },
    "papermill": {
     "duration": 32.538858,
     "end_time": "2023-02-04T23:21:06.580152",
     "exception": false,
     "start_time": "2023-02-04T23:20:34.041294",
     "status": "completed"
    },
    "tags": []
   },
   "outputs": [
    {
     "name": "stderr",
     "output_type": "stream",
     "text": [
      " 75%|███████▌  | 3/4 [00:00<00:00, 119.52it/s]\n"
     ]
    }
   ],
   "source": [
    "testImgData = dcmToPix(datasetPath, imgPath)"
   ]
  },
  {
   "cell_type": "markdown",
   "id": "40b93b65",
   "metadata": {
    "papermill": {
     "duration": 0.007327,
     "end_time": "2023-02-04T23:21:06.595560",
     "exception": false,
     "start_time": "2023-02-04T23:21:06.588233",
     "status": "completed"
    },
    "tags": []
   },
   "source": [
    "## Normalizing the data and processing the data to make it compatible with the model"
   ]
  },
  {
   "cell_type": "code",
   "execution_count": 5,
   "id": "f05238d5",
   "metadata": {
    "execution": {
     "iopub.execute_input": "2023-02-04T23:21:06.608238Z",
     "iopub.status.busy": "2023-02-04T23:21:06.607860Z",
     "iopub.status.idle": "2023-02-04T23:21:06.612408Z",
     "shell.execute_reply": "2023-02-04T23:21:06.611450Z"
    },
    "papermill": {
     "duration": 0.01338,
     "end_time": "2023-02-04T23:21:06.614556",
     "exception": false,
     "start_time": "2023-02-04T23:21:06.601176",
     "status": "completed"
    },
    "tags": []
   },
   "outputs": [],
   "source": [
    "#with (open('/kaggle/input/output/imgData.pkl', \"rb\")) as openfile:\n",
    "#     imgData = pickle.load(openfile)\n"
   ]
  },
  {
   "cell_type": "code",
   "execution_count": 6,
   "id": "f3f0e54c",
   "metadata": {
    "execution": {
     "iopub.execute_input": "2023-02-04T23:21:06.626638Z",
     "iopub.status.busy": "2023-02-04T23:21:06.626295Z",
     "iopub.status.idle": "2023-02-04T23:21:06.630944Z",
     "shell.execute_reply": "2023-02-04T23:21:06.629898Z"
    },
    "papermill": {
     "duration": 0.013368,
     "end_time": "2023-02-04T23:21:06.633286",
     "exception": false,
     "start_time": "2023-02-04T23:21:06.619918",
     "status": "completed"
    },
    "tags": []
   },
   "outputs": [],
   "source": [
    "\n",
    "testdataset = testImgData\n"
   ]
  },
  {
   "cell_type": "code",
   "execution_count": 7,
   "id": "f919affa",
   "metadata": {
    "execution": {
     "iopub.execute_input": "2023-02-04T23:21:06.645365Z",
     "iopub.status.busy": "2023-02-04T23:21:06.645052Z",
     "iopub.status.idle": "2023-02-04T23:21:06.649229Z",
     "shell.execute_reply": "2023-02-04T23:21:06.648266Z"
    },
    "papermill": {
     "duration": 0.01254,
     "end_time": "2023-02-04T23:21:06.651172",
     "exception": false,
     "start_time": "2023-02-04T23:21:06.638632",
     "status": "completed"
    },
    "tags": []
   },
   "outputs": [],
   "source": [
    "#from scipy.ndimage import zoom\n",
    "#ids=76\n",
    "#thresh = 0.1\n",
    "#imgshow = testdataset['img_data'][ids]\n",
    "#imgshow = np.clip(imgshow,thresh,1)\n",
    "#imgshow = imgshow[25:105,25:105]\n",
    "#print(testdataset['cancer'][ids])\n",
    "\n",
    "#plt.imshow(imgshow)"
   ]
  },
  {
   "cell_type": "code",
   "execution_count": 8,
   "id": "b145e6d1",
   "metadata": {
    "execution": {
     "iopub.execute_input": "2023-02-04T23:21:06.663568Z",
     "iopub.status.busy": "2023-02-04T23:21:06.663266Z",
     "iopub.status.idle": "2023-02-04T23:21:06.668829Z",
     "shell.execute_reply": "2023-02-04T23:21:06.667855Z"
    },
    "papermill": {
     "duration": 0.014067,
     "end_time": "2023-02-04T23:21:06.670897",
     "exception": false,
     "start_time": "2023-02-04T23:21:06.656830",
     "status": "completed"
    },
    "tags": []
   },
   "outputs": [],
   "source": [
    "def random_rotate(imgData):\n",
    "    #thresh = 0.15\n",
    "    \n",
    "    imgData = imgData.reshape(128,128)\n",
    "    #imgData = ndimage.rotate(imgData, random.randint(-20, 20), reshape=False)\n",
    "\n",
    "    #imgData = np.clip(imgData,thresh,1)\n",
    "    imgData = imgData[15:110,15:110]\n",
    "    #imgData = cv2.resize(imgData,(528,528))\n",
    "    \n",
    "    clahe = cv2.createCLAHE(clipLimit=7, tileGridSize=(3,3))\n",
    "    imgData = clahe.apply(imgData)\n",
    "    #imgData = im.fromarray(imgData)\n",
    "    #imgData = np.asarray(imgData.rotate(random.randint(-20, 20)))\n",
    "    return imgData"
   ]
  },
  {
   "cell_type": "code",
   "execution_count": 9,
   "id": "b13cba33",
   "metadata": {
    "execution": {
     "iopub.execute_input": "2023-02-04T23:21:06.682993Z",
     "iopub.status.busy": "2023-02-04T23:21:06.682683Z",
     "iopub.status.idle": "2023-02-04T23:21:06.700506Z",
     "shell.execute_reply": "2023-02-04T23:21:06.698836Z"
    },
    "papermill": {
     "duration": 0.02674,
     "end_time": "2023-02-04T23:21:06.703036",
     "exception": false,
     "start_time": "2023-02-04T23:21:06.676296",
     "status": "completed"
    },
    "tags": []
   },
   "outputs": [
    {
     "name": "stderr",
     "output_type": "stream",
     "text": [
      "100%|██████████| 4/4 [00:00<00:00, 550.51it/s]\n"
     ]
    }
   ],
   "source": [
    "from scipy import ndimage\n",
    "imgDataList=[]\n",
    "for j in tqdm(testdataset):\n",
    "    imgDataList.append(random_rotate(j))\n",
    "testImgData= imgDataList"
   ]
  },
  {
   "cell_type": "code",
   "execution_count": 10,
   "id": "ad8991ea",
   "metadata": {
    "execution": {
     "iopub.execute_input": "2023-02-04T23:21:06.716777Z",
     "iopub.status.busy": "2023-02-04T23:21:06.716086Z",
     "iopub.status.idle": "2023-02-04T23:21:06.723630Z",
     "shell.execute_reply": "2023-02-04T23:21:06.722505Z"
    },
    "papermill": {
     "duration": 0.016847,
     "end_time": "2023-02-04T23:21:06.726049",
     "exception": false,
     "start_time": "2023-02-04T23:21:06.709202",
     "status": "completed"
    },
    "tags": []
   },
   "outputs": [],
   "source": [
    "test=testImgData\n",
    "\n",
    "\n",
    "test_features=[]\n",
    "for i in test:\n",
    "    i=np.array(i)\n",
    "    test_features.append(i/255)\n",
    "test_features=np.array(test_features)\n",
    " \n",
    "\n",
    "    \n",
    " \n",
    "#from sklearn.preprocessing import MinMaxScaler\n",
    "    \n",
    "#featureTransform = test_features.reshape(len(test_features), 6400)\n",
    "#scaler = MinMaxScaler()\n",
    "#featureTransform =scaler.fit_transform(featureTransform)\n",
    "#norm_features= []\n",
    "#for i in range(len(test_features)):\n",
    "#    norm_features.append(scaler.fit_transform(test_features[i]))\n",
    "#test_features=np.array(norm_features)\n",
    "\n",
    "\n",
    "#backTransform = featureTransform.reshape(len(test_features),80,80)\n",
    "test_features = test_features.reshape(len(test_features),95,95,1)\n"
   ]
  },
  {
   "cell_type": "markdown",
   "id": "078506f8",
   "metadata": {
    "papermill": {
     "duration": 0.005449,
     "end_time": "2023-02-04T23:21:06.737692",
     "exception": false,
     "start_time": "2023-02-04T23:21:06.732243",
     "status": "completed"
    },
    "tags": []
   },
   "source": [
    "## Loading the trained model"
   ]
  },
  {
   "cell_type": "markdown",
   "id": "6d5b130a",
   "metadata": {
    "papermill": {
     "duration": 0.005328,
     "end_time": "2023-02-04T23:21:06.748931",
     "exception": false,
     "start_time": "2023-02-04T23:21:06.743603",
     "status": "completed"
    },
    "tags": []
   },
   "source": [
    "I have already implemented the convolutional neural network model to the train dataset. Because it took me so long to run the notebook for the model training, I am not uploading the previous notebooks. It is necessary to run above cells to run the model and predict the outcomes."
   ]
  },
  {
   "cell_type": "markdown",
   "id": "44b30436",
   "metadata": {
    "papermill": {
     "duration": 0.00533,
     "end_time": "2023-02-04T23:21:06.760076",
     "exception": false,
     "start_time": "2023-02-04T23:21:06.754746",
     "status": "completed"
    },
    "tags": []
   },
   "source": [
    "**Please put the path of the trained model. The model is saved in the dataset named \"pre trained model of breast cancer\"**"
   ]
  },
  {
   "cell_type": "code",
   "execution_count": 11,
   "id": "3abe4ca2",
   "metadata": {
    "execution": {
     "iopub.execute_input": "2023-02-04T23:21:06.772873Z",
     "iopub.status.busy": "2023-02-04T23:21:06.772513Z",
     "iopub.status.idle": "2023-02-04T23:21:11.632763Z",
     "shell.execute_reply": "2023-02-04T23:21:11.631685Z"
    },
    "papermill": {
     "duration": 4.869833,
     "end_time": "2023-02-04T23:21:11.635593",
     "exception": false,
     "start_time": "2023-02-04T23:21:06.765760",
     "status": "completed"
    },
    "tags": []
   },
   "outputs": [
    {
     "name": "stderr",
     "output_type": "stream",
     "text": [
      "2023-02-04 23:21:06.870141: I tensorflow/stream_executor/cuda/cuda_gpu_executor.cc:937] successful NUMA node read from SysFS had negative value (-1), but there must be at least one NUMA node, so returning NUMA node zero\n",
      "2023-02-04 23:21:06.963347: I tensorflow/stream_executor/cuda/cuda_gpu_executor.cc:937] successful NUMA node read from SysFS had negative value (-1), but there must be at least one NUMA node, so returning NUMA node zero\n",
      "2023-02-04 23:21:06.964207: I tensorflow/stream_executor/cuda/cuda_gpu_executor.cc:937] successful NUMA node read from SysFS had negative value (-1), but there must be at least one NUMA node, so returning NUMA node zero\n",
      "2023-02-04 23:21:06.967723: I tensorflow/core/platform/cpu_feature_guard.cc:142] This TensorFlow binary is optimized with oneAPI Deep Neural Network Library (oneDNN) to use the following CPU instructions in performance-critical operations:  AVX2 AVX512F FMA\n",
      "To enable them in other operations, rebuild TensorFlow with the appropriate compiler flags.\n",
      "2023-02-04 23:21:06.968159: I tensorflow/stream_executor/cuda/cuda_gpu_executor.cc:937] successful NUMA node read from SysFS had negative value (-1), but there must be at least one NUMA node, so returning NUMA node zero\n",
      "2023-02-04 23:21:06.969371: I tensorflow/stream_executor/cuda/cuda_gpu_executor.cc:937] successful NUMA node read from SysFS had negative value (-1), but there must be at least one NUMA node, so returning NUMA node zero\n",
      "2023-02-04 23:21:06.970460: I tensorflow/stream_executor/cuda/cuda_gpu_executor.cc:937] successful NUMA node read from SysFS had negative value (-1), but there must be at least one NUMA node, so returning NUMA node zero\n",
      "2023-02-04 23:21:09.027027: I tensorflow/stream_executor/cuda/cuda_gpu_executor.cc:937] successful NUMA node read from SysFS had negative value (-1), but there must be at least one NUMA node, so returning NUMA node zero\n",
      "2023-02-04 23:21:09.027830: I tensorflow/stream_executor/cuda/cuda_gpu_executor.cc:937] successful NUMA node read from SysFS had negative value (-1), but there must be at least one NUMA node, so returning NUMA node zero\n",
      "2023-02-04 23:21:09.028542: I tensorflow/stream_executor/cuda/cuda_gpu_executor.cc:937] successful NUMA node read from SysFS had negative value (-1), but there must be at least one NUMA node, so returning NUMA node zero\n",
      "2023-02-04 23:21:09.029177: I tensorflow/core/common_runtime/gpu/gpu_device.cc:1510] Created device /job:localhost/replica:0/task:0/device:GPU:0 with 15401 MB memory:  -> device: 0, name: Tesla P100-PCIE-16GB, pci bus id: 0000:00:04.0, compute capability: 6.0\n"
     ]
    }
   ],
   "source": [
    "from tensorflow import keras\n",
    "model = keras.models.load_model(\"/kaggle/input/pre-trained-model-of-breast-cancer/trained_model_breast_cancer3.h5\")"
   ]
  },
  {
   "cell_type": "markdown",
   "id": "a022ca61",
   "metadata": {
    "papermill": {
     "duration": 0.006109,
     "end_time": "2023-02-04T23:21:11.648962",
     "exception": false,
     "start_time": "2023-02-04T23:21:11.642853",
     "status": "completed"
    },
    "tags": []
   },
   "source": [
    "## Predictions"
   ]
  },
  {
   "cell_type": "code",
   "execution_count": 12,
   "id": "7a5928fa",
   "metadata": {
    "execution": {
     "iopub.execute_input": "2023-02-04T23:21:11.662282Z",
     "iopub.status.busy": "2023-02-04T23:21:11.661919Z",
     "iopub.status.idle": "2023-02-04T23:21:18.155054Z",
     "shell.execute_reply": "2023-02-04T23:21:18.154035Z"
    },
    "papermill": {
     "duration": 6.502786,
     "end_time": "2023-02-04T23:21:18.157808",
     "exception": false,
     "start_time": "2023-02-04T23:21:11.655022",
     "status": "completed"
    },
    "tags": []
   },
   "outputs": [
    {
     "name": "stderr",
     "output_type": "stream",
     "text": [
      "2023-02-04 23:21:11.727099: I tensorflow/compiler/mlir/mlir_graph_optimization_pass.cc:185] None of the MLIR Optimization Passes are enabled (registered 2)\n",
      "2023-02-04 23:21:12.671444: I tensorflow/stream_executor/cuda/cuda_dnn.cc:369] Loaded cuDNN version 8005\n"
     ]
    }
   ],
   "source": [
    "\n",
    "pred = model.predict(test_features)\n",
    "pred= pred.reshape(len(pred))"
   ]
  },
  {
   "cell_type": "markdown",
   "id": "43649fe0",
   "metadata": {
    "papermill": {
     "duration": 0.00562,
     "end_time": "2023-02-04T23:21:18.169521",
     "exception": false,
     "start_time": "2023-02-04T23:21:18.163901",
     "status": "completed"
    },
    "tags": []
   },
   "source": [
    "## Saving the model to the current directory as submission.csv"
   ]
  },
  {
   "cell_type": "code",
   "execution_count": 13,
   "id": "11ed5787",
   "metadata": {
    "execution": {
     "iopub.execute_input": "2023-02-04T23:21:18.182849Z",
     "iopub.status.busy": "2023-02-04T23:21:18.182022Z",
     "iopub.status.idle": "2023-02-04T23:21:18.204887Z",
     "shell.execute_reply": "2023-02-04T23:21:18.203147Z"
    },
    "papermill": {
     "duration": 0.031813,
     "end_time": "2023-02-04T23:21:18.207098",
     "exception": false,
     "start_time": "2023-02-04T23:21:18.175285",
     "status": "completed"
    },
    "tags": []
   },
   "outputs": [
    {
     "name": "stdout",
     "output_type": "stream",
     "text": [
      "0    6.653023e-08\n",
      "1    2.135496e-09\n",
      "Name: cancer, dtype: float32\n"
     ]
    }
   ],
   "source": [
    "testData = pd.read_csv(datasetPath)\n",
    "\n",
    "\n",
    "submissionFrame={'prediction_id':testData['prediction_id'],\\\n",
    "                 'cancer':pred}\n",
    "submission = pd.DataFrame(submissionFrame)\n",
    "submission = submission.groupby('prediction_id').mean('cancer').reset_index()\n",
    "\n",
    "\n",
    "pred = submission['cancer']\n",
    "bin_pred = []\n",
    "for i in pred:\n",
    "    if i>=0.5:\n",
    "        bin_pred.append(1)\n",
    "    else:\n",
    "        bin_pred.append(0)\n",
    "bin_pred = np.array(bin_pred)\n",
    "\n",
    "\n",
    "submission['cancer']  = pred\n",
    "print(pred)"
   ]
  },
  {
   "cell_type": "code",
   "execution_count": 14,
   "id": "c8645ba3",
   "metadata": {
    "execution": {
     "iopub.execute_input": "2023-02-04T23:21:18.224270Z",
     "iopub.status.busy": "2023-02-04T23:21:18.223466Z",
     "iopub.status.idle": "2023-02-04T23:21:18.230855Z",
     "shell.execute_reply": "2023-02-04T23:21:18.229906Z"
    },
    "papermill": {
     "duration": 0.01647,
     "end_time": "2023-02-04T23:21:18.232924",
     "exception": false,
     "start_time": "2023-02-04T23:21:18.216454",
     "status": "completed"
    },
    "tags": []
   },
   "outputs": [],
   "source": [
    "submission.to_csv('/kaggle/working/submission.csv',index=False)"
   ]
  },
  {
   "cell_type": "code",
   "execution_count": 15,
   "id": "3301e346",
   "metadata": {
    "execution": {
     "iopub.execute_input": "2023-02-04T23:21:18.245680Z",
     "iopub.status.busy": "2023-02-04T23:21:18.245409Z",
     "iopub.status.idle": "2023-02-04T23:21:18.249592Z",
     "shell.execute_reply": "2023-02-04T23:21:18.248510Z"
    },
    "papermill": {
     "duration": 0.013055,
     "end_time": "2023-02-04T23:21:18.251860",
     "exception": false,
     "start_time": "2023-02-04T23:21:18.238805",
     "status": "completed"
    },
    "tags": []
   },
   "outputs": [],
   "source": [
    "\n",
    "#trues = testdataset['cancer']\n",
    "\n",
    "#bin_pred = []\n",
    "#for i in pred:\n",
    "#    if i>=0.5:\n",
    "#        bin_pred.append(1)\n",
    "#    else:\n",
    "#        bin_pred.append(0)\n",
    "#bin_pred = np.array(bin_pred)\n"
   ]
  },
  {
   "cell_type": "code",
   "execution_count": 16,
   "id": "9059b203",
   "metadata": {
    "execution": {
     "iopub.execute_input": "2023-02-04T23:21:18.264365Z",
     "iopub.status.busy": "2023-02-04T23:21:18.264096Z",
     "iopub.status.idle": "2023-02-04T23:21:18.273302Z",
     "shell.execute_reply": "2023-02-04T23:21:18.272452Z"
    },
    "papermill": {
     "duration": 0.017694,
     "end_time": "2023-02-04T23:21:18.275216",
     "exception": false,
     "start_time": "2023-02-04T23:21:18.257522",
     "status": "completed"
    },
    "tags": []
   },
   "outputs": [],
   "source": [
    "\n",
    "def recall_m(y_true, y_pred):\n",
    "    true_positives = np.sum(np.round(np.clip(y_true * y_pred, 0, 1)))\n",
    "    possible_positives = np.sum(np.round(np.clip(y_true, 0, 1)))\n",
    "    recall = true_positives / (possible_positives )\n",
    "    return recall\n",
    "\n",
    "def precision_m(y_true, y_pred):\n",
    "    true_positives = np.sum(np.round(np.clip(y_true * y_pred, 0, 1)))\n",
    "    predicted_positives = np.sum(np.round(np.clip(y_pred, 0, 1)))\n",
    "    precision = true_positives / (predicted_positives )\n",
    "    return precision\n",
    "\n",
    "def f1_m(y_true, y_pred):\n",
    "    precision = precision_m(y_true, y_pred)\n",
    "    recall = recall_m(y_true, y_pred)\n",
    "    return 2*((precision*recall)/(precision+recall))\n",
    "\n",
    "\n",
    "#print(f1_m(trues,bin_pred))"
   ]
  },
  {
   "cell_type": "markdown",
   "id": "caef5435",
   "metadata": {
    "papermill": {
     "duration": 0.005544,
     "end_time": "2023-02-04T23:21:18.286522",
     "exception": false,
     "start_time": "2023-02-04T23:21:18.280978",
     "status": "completed"
    },
    "tags": []
   },
   "source": [
    "Please let me know if there is anything missing."
   ]
  }
 ],
 "metadata": {
  "kernelspec": {
   "display_name": "Python 3",
   "language": "python",
   "name": "python3"
  },
  "language_info": {
   "codemirror_mode": {
    "name": "ipython",
    "version": 3
   },
   "file_extension": ".py",
   "mimetype": "text/x-python",
   "name": "python",
   "nbconvert_exporter": "python",
   "pygments_lexer": "ipython3",
   "version": "3.7.12"
  },
  "papermill": {
   "default_parameters": {},
   "duration": 92.312041,
   "end_time": "2023-02-04T23:21:21.310355",
   "environment_variables": {},
   "exception": null,
   "input_path": "__notebook__.ipynb",
   "output_path": "__notebook__.ipynb",
   "parameters": {},
   "start_time": "2023-02-04T23:19:48.998314",
   "version": "2.3.4"
  }
 },
 "nbformat": 4,
 "nbformat_minor": 5
}
