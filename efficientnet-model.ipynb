{
 "cells": [
  {
   "cell_type": "code",
   "execution_count": 1,
   "id": "e9f32173",
   "metadata": {
    "execution": {
     "iopub.execute_input": "2023-02-14T01:10:08.003011Z",
     "iopub.status.busy": "2023-02-14T01:10:08.002376Z",
     "iopub.status.idle": "2023-02-14T01:10:15.585097Z",
     "shell.execute_reply": "2023-02-14T01:10:15.583783Z"
    },
    "papermill": {
     "duration": 7.593417,
     "end_time": "2023-02-14T01:10:15.588113",
     "exception": false,
     "start_time": "2023-02-14T01:10:07.994696",
     "status": "completed"
    },
    "tags": []
   },
   "outputs": [],
   "source": [
    "import numpy as np\n",
    "import pandas as pd\n",
    "import matplotlib.pyplot as plt\n",
    "import seaborn as sns\n",
    "import pickle\n",
    "import tensorflow as tf\n",
    "import tensorflow_io as tfio\n",
    "import os\n",
    "from tqdm import tqdm\n",
    "import cv2\n",
    "from PIL import Image\n",
    "from joblib import Parallel, delayed\n",
    "import gc\n",
    "from PIL import Image as im\n",
    "import random\n",
    "from scipy import ndimage\n"
   ]
  },
  {
   "cell_type": "code",
   "execution_count": 2,
   "id": "e43ef884",
   "metadata": {
    "execution": {
     "iopub.execute_input": "2023-02-14T01:10:15.599275Z",
     "iopub.status.busy": "2023-02-14T01:10:15.598527Z",
     "iopub.status.idle": "2023-02-14T01:10:31.141055Z",
     "shell.execute_reply": "2023-02-14T01:10:31.139900Z"
    },
    "papermill": {
     "duration": 15.551086,
     "end_time": "2023-02-14T01:10:31.143856",
     "exception": false,
     "start_time": "2023-02-14T01:10:15.592770",
     "status": "completed"
    },
    "tags": []
   },
   "outputs": [
    {
     "name": "stdout",
     "output_type": "stream",
     "text": [
      "Collecting dicomsdl\r\n",
      "  Downloading dicomsdl-0.109.1-cp37-cp37m-manylinux_2_12_x86_64.manylinux2010_x86_64.whl (1.4 MB)\r\n",
      "\u001b[2K     \u001b[90m━━━━━━━━━━━━━━━━━━━━━━━━━━━━━━━━━━━━━━━━\u001b[0m \u001b[32m1.4/1.4 MB\u001b[0m \u001b[31m1.5 MB/s\u001b[0m eta \u001b[36m0:00:00\u001b[0m\r\n",
      "\u001b[?25hInstalling collected packages: dicomsdl\r\n",
      "Successfully installed dicomsdl-0.109.1\r\n",
      "\u001b[33mWARNING: Running pip as the 'root' user can result in broken permissions and conflicting behaviour with the system package manager. It is recommended to use a virtual environment instead: https://pip.pypa.io/warnings/venv\u001b[0m\u001b[33m\r\n",
      "\u001b[0m"
     ]
    }
   ],
   "source": [
    "import sys\n",
    "!{sys.executable} -m pip install dicomsdl"
   ]
  },
  {
   "cell_type": "code",
   "execution_count": 3,
   "id": "ea76f730",
   "metadata": {
    "execution": {
     "iopub.execute_input": "2023-02-14T01:10:31.158218Z",
     "iopub.status.busy": "2023-02-14T01:10:31.157008Z",
     "iopub.status.idle": "2023-02-14T01:10:31.164719Z",
     "shell.execute_reply": "2023-02-14T01:10:31.163740Z"
    },
    "papermill": {
     "duration": 0.017343,
     "end_time": "2023-02-14T01:10:31.167049",
     "exception": false,
     "start_time": "2023-02-14T01:10:31.149706",
     "status": "completed"
    },
    "tags": []
   },
   "outputs": [],
   "source": [
    "\n",
    "#!pip install /kaggle/input/rsnapacks/dicomsdl-0.109.1-cp36-cp36m-manylinux_2_12_x86_64.manylinux2010_x86_64.whl\n",
    "import numpy as np\n",
    "import pandas as pd\n",
    "import matplotlib.pyplot as plt\n",
    "import seaborn as sns\n",
    "import pickle\n",
    "#import pydicom as dicom\n",
    "\n",
    "import tensorflow as tf\n",
    "import tensorflow_io as tfio\n",
    "from PIL import Image as im\n",
    "import os\n",
    "from tqdm import tqdm\n",
    "import cv2\n",
    "from PIL import Image\n",
    "from joblib import Parallel, delayed\n",
    "import gc\n",
    "import random"
   ]
  },
  {
   "cell_type": "code",
   "execution_count": 4,
   "id": "2b86812e",
   "metadata": {
    "execution": {
     "iopub.execute_input": "2023-02-14T01:10:31.181185Z",
     "iopub.status.busy": "2023-02-14T01:10:31.180131Z",
     "iopub.status.idle": "2023-02-14T01:10:31.203896Z",
     "shell.execute_reply": "2023-02-14T01:10:31.202902Z"
    },
    "papermill": {
     "duration": 0.03398,
     "end_time": "2023-02-14T01:10:31.206800",
     "exception": false,
     "start_time": "2023-02-14T01:10:31.172820",
     "status": "completed"
    },
    "tags": []
   },
   "outputs": [],
   "source": [
    "datasetPath = '/kaggle/input/rsna-breast-cancer-detection/train.csv'\n",
    "imgPath = '/kaggle/input/rsna-breast-cancer-detection/train_images/'\n",
    "\n",
    "def crop(sideName, imgName):\n",
    "    \"\"\"\n",
    "    This function is used to crop the breast images. It takes two arguments.\n",
    "    \n",
    "    Input:-\n",
    "    :sideName = Laterality of breast if it is right or left\n",
    "    :imgName = Image pixel data of the DCM images\n",
    "    \n",
    "    Output:-\n",
    "    :return = Output after cropping the image.\n",
    "    \n",
    "    \"\"\"\n",
    "    if sideName == 'L':\n",
    "        colind=[]\n",
    "        for r,row in enumerate(imgName):\n",
    "            for c,col in enumerate(row):\n",
    "                if col==0:\n",
    "                    colind.append(c)\n",
    "                    break\n",
    "        crop_size = max(colind)\n",
    "        imgName = imgName[0:512,0:crop_size]\n",
    "        imgName = cv2.resize(imgName,(128,128))\n",
    "        \n",
    "    if sideName == 'R':\n",
    "        colind=[]\n",
    "        for r,row in enumerate(imgName):\n",
    "            for c,col in enumerate(row):\n",
    "                if col!=0:\n",
    "                    colind.append(c)\n",
    "                    break\n",
    "        crop_size = min(colind)\n",
    "        imgName = imgName[0:512,crop_size:512]\n",
    "        imgName = cv2.resize(imgName,(128,128))\n",
    "    \n",
    "    return imgName    \n",
    "\n",
    "    gc.collect()\n",
    "    \n",
    "def crop_reverse(sideName, imgName):\n",
    "    \n",
    "    \"\"\"\n",
    "    This function is used to crop the breast images but in the reverse order.\n",
    "    Because the laterality is defined wrongly for some images. It takes two arguments.\n",
    "    \n",
    "    Input:-\n",
    "    :sideName = Laterality of breast if it is right or left\n",
    "    :imgName = Image pixel data of the DCM images\n",
    "    \n",
    "    Output:-\n",
    "    :return = Output after cropping the image.\n",
    "    \n",
    "    \"\"\"\n",
    "    \n",
    "    if sideName == 'R':\n",
    "        colind=[]\n",
    "        for r,row in enumerate(imgName):\n",
    "            for c,col in enumerate(row):\n",
    "                if col==0:\n",
    "                    colind.append(c)\n",
    "                    break\n",
    "        crop_size = max(colind)\n",
    "        imgName = imgName[0:512,0:crop_size]\n",
    "        imgName = cv2.resize(imgName,(128,128))\n",
    "        \n",
    "    if sideName == 'L':\n",
    "        colind=[]\n",
    "        for r,row in enumerate(imgName):\n",
    "            for c,col in enumerate(row):\n",
    "                if col!=0:\n",
    "                    colind.append(c)\n",
    "                    break\n",
    "        crop_size = min(colind)\n",
    "        imgName = imgName[0:512,crop_size:512]\n",
    "        imgName = cv2.resize(imgName,(128,128))\n",
    "    \n",
    "    return imgName    \n",
    "\n",
    "    gc.collect()\n",
    "    \n",
    "\n",
    "def img_process(i,filename,sides):\n",
    "    \n",
    "    \"\"\"\n",
    "    This function is used to process the images which will be used for the training/test dataset. It takes three arguments.\n",
    "    \n",
    "    Input:-\n",
    "    :i = Index of the image in the dataframe\n",
    "    :filename = Path of the image\n",
    "    :sides = List of all images' laterality\n",
    "    \n",
    "    Output:-\n",
    "    :return = Output after cropping the image.\n",
    "    \n",
    "    \"\"\"\n",
    "    \n",
    "    \n",
    "    #ds = dicom.dcmread(filename)\n",
    "    dsraw = dicom.open(filename)\n",
    "    ds = dsraw.pixelData()\n",
    "    \n",
    "    ds = (ds - ds.min()) / (ds.max() - ds.min())\n",
    "    if dsraw.PhotometricInterpretation == \"MONOCHROME1\":  \n",
    "        ds = 1 - ds\n",
    "    ds = (ds * 255).astype(np.uint8)\n",
    "\n",
    "    \n",
    "    #ds = cv2.normalize(ds, None, 0, 1.0, cv2.NORM_MINMAX, dtype=cv2.CV_32F)\n",
    "    ds = cv2.resize(ds,(512,512))\n",
    "    \n",
    "    #ds = np.where(ds >= 0.999, 0,ds)\n",
    "    \n",
    "    try:\n",
    "        ds = np.array(crop(sides[i], ds))   \n",
    "    except:\n",
    "        ds = np.array(crop_reverse(sides[i], ds))\n",
    "    \n",
    "\n",
    "    #train_data.loc[i,'img_data'] = [img_fin]\n",
    "    #train_data.to_csv('/kaggle/working/training_img_data.csv') \n",
    "    return ds\n",
    "    gc.collect()\n",
    "\n",
    "def dcmToPix(datasetPath, imgPath):\n",
    "    \n",
    "    \"\"\"\n",
    "    This function is used to process all the images which will be used for the training/test dataset. It takes two arguments.\n",
    "    \n",
    "    Input:-\n",
    "    :datasetPath = Path of the cancer dataset\n",
    "    :imgPath = Path of the image dataset\n",
    "   \n",
    "    Output:-\n",
    "    :return = Array of all the processed images\n",
    "    \n",
    "    \"\"\"\n",
    "    \n",
    "    \n",
    "    dataset = pd.read_csv(datasetPath)\n",
    "    \n",
    "    patient_ids = dataset['patient_id']\n",
    "    image_ids = dataset['image_id']\n",
    "    sides  = dataset['laterality']\n",
    "\n",
    "    imgData = []\n",
    "\n",
    "    for pi, ii, leng in zip(patient_ids, image_ids, range(len(patient_ids))):\n",
    "        imgData.append(imgPath + str(pi) + '/' + str(ii) + '.dcm')\n",
    "\n",
    "    dataset['img_data'] = \" \"\n",
    "    \n",
    "    result = Parallel(n_jobs=128)(\\\n",
    "    delayed(img_process)(i, fname, sides) for i, fname in zip(range(len(imgData)),tqdm(imgData))\\\n",
    "    )\n",
    "    \n",
    "    dataset['img_data'] = result\n",
    "    dataset.to_pickle('imgData.pkl' )\n",
    "    \n",
    "    return result\n",
    "    "
   ]
  },
  {
   "cell_type": "code",
   "execution_count": 5,
   "id": "60b1bdb7",
   "metadata": {
    "_cell_guid": "b1076dfc-b9ad-4769-8c92-a6c4dae69d19",
    "_uuid": "8f2839f25d086af736a60e9eeb907d3b93b6e0e5",
    "execution": {
     "iopub.execute_input": "2023-02-14T01:10:31.220509Z",
     "iopub.status.busy": "2023-02-14T01:10:31.220102Z",
     "iopub.status.idle": "2023-02-14T01:10:52.128548Z",
     "shell.execute_reply": "2023-02-14T01:10:52.127604Z"
    },
    "papermill": {
     "duration": 20.918749,
     "end_time": "2023-02-14T01:10:52.131449",
     "exception": false,
     "start_time": "2023-02-14T01:10:31.212700",
     "status": "completed"
    },
    "tags": []
   },
   "outputs": [
    {
     "name": "stderr",
     "output_type": "stream",
     "text": [
      "2023-02-14 01:10:35.749281: I tensorflow/core/common_runtime/process_util.cc:146] Creating new thread pool with default inter op setting: 2. Tune using inter_op_parallelism_threads for best performance.\n"
     ]
    }
   ],
   "source": [
    "with (open('/kaggle/input/processed/imgDataNew.pkl', \"rb\")) as openfile:\n",
    "     imgData = pickle.load(openfile)"
   ]
  },
  {
   "cell_type": "code",
   "execution_count": 6,
   "id": "831f7058",
   "metadata": {
    "execution": {
     "iopub.execute_input": "2023-02-14T01:10:52.145129Z",
     "iopub.status.busy": "2023-02-14T01:10:52.144735Z",
     "iopub.status.idle": "2023-02-14T01:10:53.436481Z",
     "shell.execute_reply": "2023-02-14T01:10:53.435193Z"
    },
    "papermill": {
     "duration": 1.301642,
     "end_time": "2023-02-14T01:10:53.439068",
     "exception": false,
     "start_time": "2023-02-14T01:10:52.137426",
     "status": "completed"
    },
    "tags": []
   },
   "outputs": [
    {
     "data": {
      "text/plain": [
       "0"
      ]
     },
     "execution_count": 6,
     "metadata": {},
     "output_type": "execute_result"
    }
   ],
   "source": [
    "from sklearn.model_selection import train_test_split\n",
    "train,test = train_test_split(imgData, test_size=0.3, random_state=42, shuffle=True)\n",
    "\n",
    "\n",
    "\n",
    "train_target = np.array(train['cancer'])\n",
    "train_features=[]\n",
    "for i in train['img_data_process']:\n",
    "    train_features.append(i)\n",
    "train_features=tf.convert_to_tensor(train_features)\n",
    "\n",
    "test_target = np.array(test['cancer'])\n",
    "test_features=[]\n",
    "for i in test['img_data_process']:\n",
    "    test_features.append(i)\n",
    "test_features=tf.convert_to_tensor(test_features)\n",
    "test_target = np.array(test['cancer'])\n",
    "gc.collect()\n"
   ]
  },
  {
   "cell_type": "code",
   "execution_count": 7,
   "id": "9983075f",
   "metadata": {
    "execution": {
     "iopub.execute_input": "2023-02-14T01:10:53.453092Z",
     "iopub.status.busy": "2023-02-14T01:10:53.452711Z",
     "iopub.status.idle": "2023-02-14T01:11:02.140099Z",
     "shell.execute_reply": "2023-02-14T01:11:02.139216Z"
    },
    "papermill": {
     "duration": 8.697401,
     "end_time": "2023-02-14T01:11:02.142619",
     "exception": false,
     "start_time": "2023-02-14T01:10:53.445218",
     "status": "completed"
    },
    "tags": []
   },
   "outputs": [
    {
     "name": "stdout",
     "output_type": "stream",
     "text": [
      "Downloading data from https://storage.googleapis.com/keras-applications/efficientnetb4_notop.h5\n",
      "71688192/71686520 [==============================] - 3s 0us/step\n",
      "71696384/71686520 [==============================] - 3s 0us/step\n"
     ]
    }
   ],
   "source": [
    "from tensorflow.keras.applications import * #Efficient Net included here\n",
    "from tensorflow.keras import models\n",
    "from tensorflow.keras import layers\n",
    "from keras.preprocessing.image import ImageDataGenerator\n",
    "import os\n",
    "import shutil\n",
    "import pandas as pd\n",
    "from sklearn import model_selection\n",
    "from tqdm import tqdm\n",
    "from tensorflow.keras import optimizers\n",
    "import tensorflow as tf\n",
    "#Use this to check if the GPU is configured correctly\n",
    "from tensorflow.python.client import device_lib\n",
    "\n",
    "input_shape=(95,95,3)\n",
    "conv_base = EfficientNetB4(weights=\"imagenet\", include_top=False, input_shape=input_shape)\n",
    "\n",
    "model = models.Sequential()\n",
    "model.add(conv_base)\n",
    "model.add(layers.GlobalMaxPooling2D(name=\"gap\"))\n",
    "#avoid overfitting\n",
    "model.add(layers.Dropout(0.2, name=\"dropout_out\"))\n",
    "# Set NUMBER_OF_CLASSES to the number of your final predictions.\n",
    "model.add(layers.Dense(1, activation=\"sigmoid\", name=\"fc_out\"))\n",
    "conv_base.trainable = False\n",
    "\n"
   ]
  },
  {
   "cell_type": "code",
   "execution_count": 8,
   "id": "e8fadc60",
   "metadata": {
    "execution": {
     "iopub.execute_input": "2023-02-14T01:11:02.164373Z",
     "iopub.status.busy": "2023-02-14T01:11:02.163342Z",
     "iopub.status.idle": "2023-02-14T01:11:02.204674Z",
     "shell.execute_reply": "2023-02-14T01:11:02.203304Z"
    },
    "papermill": {
     "duration": 0.054459,
     "end_time": "2023-02-14T01:11:02.207221",
     "exception": false,
     "start_time": "2023-02-14T01:11:02.152762",
     "status": "completed"
    },
    "tags": []
   },
   "outputs": [
    {
     "name": "stdout",
     "output_type": "stream",
     "text": [
      "Model: \"sequential\"\n",
      "_________________________________________________________________\n",
      "Layer (type)                 Output Shape              Param #   \n",
      "=================================================================\n",
      "efficientnetb4 (Functional)  (None, 3, 3, 1792)        17673823  \n",
      "_________________________________________________________________\n",
      "gap (GlobalMaxPooling2D)     (None, 1792)              0         \n",
      "_________________________________________________________________\n",
      "dropout_out (Dropout)        (None, 1792)              0         \n",
      "_________________________________________________________________\n",
      "fc_out (Dense)               (None, 1)                 1793      \n",
      "=================================================================\n",
      "Total params: 17,675,616\n",
      "Trainable params: 1,793\n",
      "Non-trainable params: 17,673,823\n",
      "_________________________________________________________________\n"
     ]
    }
   ],
   "source": [
    "model.compile(\\\n",
    "    loss=\"binary_crossentropy\",\\\n",
    "    optimizer=tf.keras.optimizers.Adam(learning_rate=0.0001),\\\n",
    "    metrics=[\"acc\"],\\\n",
    ")\n",
    "\n",
    "model.summary()"
   ]
  },
  {
   "cell_type": "code",
   "execution_count": 9,
   "id": "c808c10d",
   "metadata": {
    "execution": {
     "iopub.execute_input": "2023-02-14T01:11:02.228075Z",
     "iopub.status.busy": "2023-02-14T01:11:02.227636Z",
     "iopub.status.idle": "2023-02-14T07:16:53.072259Z",
     "shell.execute_reply": "2023-02-14T07:16:53.068499Z"
    },
    "papermill": {
     "duration": 21953.421825,
     "end_time": "2023-02-14T07:16:55.638552",
     "exception": false,
     "start_time": "2023-02-14T01:11:02.216727",
     "status": "completed"
    },
    "tags": []
   },
   "outputs": [
    {
     "name": "stderr",
     "output_type": "stream",
     "text": [
      "2023-02-14 01:11:45.731589: I tensorflow/compiler/mlir/mlir_graph_optimization_pass.cc:185] None of the MLIR Optimization Passes are enabled (registered 2)\n"
     ]
    },
    {
     "name": "stdout",
     "output_type": "stream",
     "text": [
      "Epoch 1/40\n",
      "953/953 [==============================] - 539s 552ms/step - loss: 0.5967 - acc: 0.7505 - val_loss: 0.5230 - val_acc: 0.7826\n",
      "Epoch 2/40\n",
      "953/953 [==============================] - 513s 538ms/step - loss: 0.5825 - acc: 0.7596 - val_loss: 0.5291 - val_acc: 0.7826\n",
      "Epoch 3/40\n",
      "953/953 [==============================] - 509s 534ms/step - loss: 0.5747 - acc: 0.7636 - val_loss: 0.5241 - val_acc: 0.7826\n",
      "Epoch 4/40\n",
      "953/953 [==============================] - 510s 535ms/step - loss: 0.5688 - acc: 0.7686 - val_loss: 0.5229 - val_acc: 0.7826\n",
      "Epoch 5/40\n",
      "953/953 [==============================] - 510s 536ms/step - loss: 0.5607 - acc: 0.7734 - val_loss: 0.5270 - val_acc: 0.7826\n",
      "Epoch 6/40\n",
      "953/953 [==============================] - 510s 535ms/step - loss: 0.5526 - acc: 0.7761 - val_loss: 0.5232 - val_acc: 0.7826\n",
      "Epoch 7/40\n",
      "953/953 [==============================] - 511s 536ms/step - loss: 0.5475 - acc: 0.7798 - val_loss: 0.5247 - val_acc: 0.7826\n",
      "Epoch 8/40\n",
      "953/953 [==============================] - 514s 539ms/step - loss: 0.5458 - acc: 0.7821 - val_loss: 0.5228 - val_acc: 0.7826\n",
      "Epoch 9/40\n",
      "953/953 [==============================] - 515s 540ms/step - loss: 0.5404 - acc: 0.7826 - val_loss: 0.5253 - val_acc: 0.7826\n",
      "Epoch 10/40\n",
      "953/953 [==============================] - 514s 539ms/step - loss: 0.5362 - acc: 0.7839 - val_loss: 0.5225 - val_acc: 0.7826\n",
      "Epoch 11/40\n",
      "953/953 [==============================] - 515s 541ms/step - loss: 0.5364 - acc: 0.7852 - val_loss: 0.5225 - val_acc: 0.7826\n",
      "Epoch 12/40\n",
      "953/953 [==============================] - 515s 540ms/step - loss: 0.5323 - acc: 0.7855 - val_loss: 0.5224 - val_acc: 0.7826\n",
      "Epoch 13/40\n",
      "953/953 [==============================] - 518s 543ms/step - loss: 0.5345 - acc: 0.7855 - val_loss: 0.5246 - val_acc: 0.7826\n",
      "Epoch 14/40\n",
      "953/953 [==============================] - 521s 547ms/step - loss: 0.5319 - acc: 0.7859 - val_loss: 0.5257 - val_acc: 0.7826\n",
      "Epoch 15/40\n",
      "953/953 [==============================] - 518s 544ms/step - loss: 0.5305 - acc: 0.7860 - val_loss: 0.5311 - val_acc: 0.7826\n",
      "Epoch 16/40\n",
      "953/953 [==============================] - 516s 541ms/step - loss: 0.5286 - acc: 0.7864 - val_loss: 0.5252 - val_acc: 0.7826\n",
      "Epoch 17/40\n",
      "953/953 [==============================] - 515s 541ms/step - loss: 0.5289 - acc: 0.7862 - val_loss: 0.5225 - val_acc: 0.7826\n",
      "Epoch 18/40\n",
      "953/953 [==============================] - 519s 544ms/step - loss: 0.5258 - acc: 0.7866 - val_loss: 0.5266 - val_acc: 0.7826\n",
      "Epoch 19/40\n",
      "953/953 [==============================] - 519s 544ms/step - loss: 0.5252 - acc: 0.7867 - val_loss: 0.5260 - val_acc: 0.7826\n",
      "Epoch 20/40\n",
      "953/953 [==============================] - 522s 547ms/step - loss: 0.5273 - acc: 0.7866 - val_loss: 0.5293 - val_acc: 0.7826\n",
      "Epoch 21/40\n",
      "953/953 [==============================] - 521s 546ms/step - loss: 0.5265 - acc: 0.7866 - val_loss: 0.5221 - val_acc: 0.7826\n",
      "Epoch 22/40\n",
      "953/953 [==============================] - 521s 547ms/step - loss: 0.5241 - acc: 0.7867 - val_loss: 0.5225 - val_acc: 0.7826\n",
      "Epoch 23/40\n",
      "953/953 [==============================] - 523s 549ms/step - loss: 0.5253 - acc: 0.7866 - val_loss: 0.5362 - val_acc: 0.7826\n",
      "Epoch 24/40\n",
      "953/953 [==============================] - 522s 548ms/step - loss: 0.5242 - acc: 0.7867 - val_loss: 0.5258 - val_acc: 0.7826\n",
      "Epoch 25/40\n",
      "953/953 [==============================] - 525s 550ms/step - loss: 0.5236 - acc: 0.7867 - val_loss: 0.5222 - val_acc: 0.7826\n",
      "Epoch 26/40\n",
      "953/953 [==============================] - 524s 549ms/step - loss: 0.5246 - acc: 0.7867 - val_loss: 0.5301 - val_acc: 0.7826\n",
      "Epoch 27/40\n",
      "953/953 [==============================] - 526s 552ms/step - loss: 0.5228 - acc: 0.7867 - val_loss: 0.5220 - val_acc: 0.7826\n",
      "Epoch 28/40\n",
      "953/953 [==============================] - 530s 556ms/step - loss: 0.5223 - acc: 0.7866 - val_loss: 0.5221 - val_acc: 0.7826\n",
      "Epoch 29/40\n",
      "953/953 [==============================] - 528s 554ms/step - loss: 0.5218 - acc: 0.7866 - val_loss: 0.5219 - val_acc: 0.7826\n",
      "Epoch 30/40\n",
      "953/953 [==============================] - 527s 553ms/step - loss: 0.5239 - acc: 0.7867 - val_loss: 0.5313 - val_acc: 0.7826\n",
      "Epoch 31/40\n",
      "953/953 [==============================] - 531s 557ms/step - loss: 0.5219 - acc: 0.7867 - val_loss: 0.5241 - val_acc: 0.7826\n",
      "Epoch 32/40\n",
      "953/953 [==============================] - 528s 554ms/step - loss: 0.5218 - acc: 0.7867 - val_loss: 0.5230 - val_acc: 0.7826\n",
      "Epoch 33/40\n",
      "953/953 [==============================] - 531s 557ms/step - loss: 0.5217 - acc: 0.7867 - val_loss: 0.5220 - val_acc: 0.7826\n",
      "Epoch 34/40\n",
      "953/953 [==============================] - 534s 560ms/step - loss: 0.5225 - acc: 0.7867 - val_loss: 0.5286 - val_acc: 0.7826\n",
      "Epoch 35/40\n",
      "953/953 [==============================] - 532s 559ms/step - loss: 0.5223 - acc: 0.7867 - val_loss: 0.5218 - val_acc: 0.7826\n",
      "Epoch 36/40\n",
      "953/953 [==============================] - 532s 559ms/step - loss: 0.5219 - acc: 0.7866 - val_loss: 0.5333 - val_acc: 0.7826\n",
      "Epoch 37/40\n",
      "953/953 [==============================] - 533s 559ms/step - loss: 0.5215 - acc: 0.7866 - val_loss: 0.5267 - val_acc: 0.7826\n",
      "Epoch 38/40\n",
      "953/953 [==============================] - 534s 560ms/step - loss: 0.5225 - acc: 0.7867 - val_loss: 0.5233 - val_acc: 0.7826\n",
      "Epoch 39/40\n",
      "953/953 [==============================] - 533s 560ms/step - loss: 0.5232 - acc: 0.7867 - val_loss: 0.5226 - val_acc: 0.7826\n",
      "Epoch 40/40\n",
      "953/953 [==============================] - 537s 564ms/step - loss: 0.5219 - acc: 0.7867 - val_loss: 0.5228 - val_acc: 0.7826\n"
     ]
    },
    {
     "data": {
      "text/plain": [
       "<keras.callbacks.History at 0x7fc7b0a5b410>"
      ]
     },
     "execution_count": 9,
     "metadata": {},
     "output_type": "execute_result"
    }
   ],
   "source": [
    "from tensorflow.keras.preprocessing.image import ImageDataGenerator\n",
    "datagen = ImageDataGenerator(\n",
    "    rescale=1./255,\n",
    "    featurewise_center=True,\n",
    "    featurewise_std_normalization=True,\n",
    "    shear_range=0.2,\n",
    "    width_shift_range=0.2,\n",
    "    height_shift_range=0.2,\n",
    "    horizontal_flip=True,\n",
    "    validation_split=0.2)\n",
    "datagen.fit(train_features)\n",
    "\n",
    "\n",
    "#weights = {0:1, 1:8}\n",
    "model.fit(datagen.flow(train_features, train_target, batch_size=32,\\\n",
    "         subset='training'),\\\n",
    "         validation_data=datagen.flow(train_features, train_target,\\\n",
    "         batch_size=8, subset='validation'), epochs=40)\n"
   ]
  },
  {
   "cell_type": "code",
   "execution_count": 10,
   "id": "9a86faa5",
   "metadata": {
    "execution": {
     "iopub.execute_input": "2023-02-14T07:17:00.700332Z",
     "iopub.status.busy": "2023-02-14T07:17:00.698607Z",
     "iopub.status.idle": "2023-02-14T07:17:01.514209Z",
     "shell.execute_reply": "2023-02-14T07:17:01.512855Z"
    },
    "papermill": {
     "duration": 3.259113,
     "end_time": "2023-02-14T07:17:01.517304",
     "exception": false,
     "start_time": "2023-02-14T07:16:58.258191",
     "status": "completed"
    },
    "tags": []
   },
   "outputs": [
    {
     "name": "stderr",
     "output_type": "stream",
     "text": [
      "/opt/conda/lib/python3.7/site-packages/keras/utils/generic_utils.py:497: CustomMaskWarning: Custom mask layers require a config and must override get_config. When loading, the custom mask layer must be passed to the custom_objects argument.\n",
      "  category=CustomMaskWarning)\n"
     ]
    }
   ],
   "source": [
    "model.save(\"/kaggle/working/trained_model_breast_cancer3.h5\")\n"
   ]
  },
  {
   "cell_type": "code",
   "execution_count": 11,
   "id": "683547e8",
   "metadata": {
    "execution": {
     "iopub.execute_input": "2023-02-14T07:17:06.690929Z",
     "iopub.status.busy": "2023-02-14T07:17:06.690492Z",
     "iopub.status.idle": "2023-02-14T07:17:06.695531Z",
     "shell.execute_reply": "2023-02-14T07:17:06.694333Z"
    },
    "papermill": {
     "duration": 2.59404,
     "end_time": "2023-02-14T07:17:06.698196",
     "exception": false,
     "start_time": "2023-02-14T07:17:04.104156",
     "status": "completed"
    },
    "tags": []
   },
   "outputs": [],
   "source": [
    "#from tensorflow import keras\n",
    "#savedModel = keras.models.load_model(\"/kaggle/input/pre-trained-model-of-breast-cancer/trained_model_breast_cancer3.h5\")\n",
    "\n"
   ]
  },
  {
   "cell_type": "code",
   "execution_count": 12,
   "id": "e7cf9878",
   "metadata": {
    "execution": {
     "iopub.execute_input": "2023-02-14T07:17:11.818378Z",
     "iopub.status.busy": "2023-02-14T07:17:11.817490Z",
     "iopub.status.idle": "2023-02-14T07:20:39.612849Z",
     "shell.execute_reply": "2023-02-14T07:20:39.611435Z"
    },
    "papermill": {
     "duration": 210.37943,
     "end_time": "2023-02-14T07:20:39.615884",
     "exception": false,
     "start_time": "2023-02-14T07:17:09.236454",
     "status": "completed"
    },
    "tags": []
   },
   "outputs": [],
   "source": [
    "test_datagen = ImageDataGenerator(\n",
    "    rescale=1./255,\n",
    "    featurewise_center=True,\n",
    "    featurewise_std_normalization=True)\n",
    "test_datagen.fit(test_features)\n",
    "\n",
    "test_generator = test_datagen.flow(test_features, batch_size=1)\n",
    "pred = model.predict(test_features)\n",
    "bin_pred = []\n",
    "for i in pred:\n",
    "    if i>=0.5:\n",
    "        bin_pred.append(1)\n",
    "    else:\n",
    "        bin_pred.append(0)\n",
    "bin_pred = np.array(bin_pred)\n"
   ]
  },
  {
   "cell_type": "code",
   "execution_count": 13,
   "id": "667432de",
   "metadata": {
    "execution": {
     "iopub.execute_input": "2023-02-14T07:20:44.587650Z",
     "iopub.status.busy": "2023-02-14T07:20:44.587020Z",
     "iopub.status.idle": "2023-02-14T07:20:44.620287Z",
     "shell.execute_reply": "2023-02-14T07:20:44.618583Z"
    },
    "papermill": {
     "duration": 2.591542,
     "end_time": "2023-02-14T07:20:44.623333",
     "exception": false,
     "start_time": "2023-02-14T07:20:42.031791",
     "status": "completed"
    },
    "tags": []
   },
   "outputs": [
    {
     "name": "stdout",
     "output_type": "stream",
     "text": [
      "0.33076074972436603\n",
      "0.205782049294683 0.8016939252336449\n"
     ]
    }
   ],
   "source": [
    "import sklearn\n",
    "acc = sklearn.metrics.accuracy_score(test_target, bin_pred)\n",
    "print(acc)\n",
    "\n",
    "countzero=0\n",
    "countone=0\n",
    "countzerot=0\n",
    "countonet=0\n",
    "for i, j in zip(test_target, bin_pred):\n",
    "    if i==0 and j==0:\n",
    "        countzero+=1\n",
    "    if i==1 and j==1:\n",
    "        countone+=1\n",
    "    if i==1:\n",
    "        countonet+=1\n",
    "    if i==0:\n",
    "        countzerot+=1\n",
    "print(countzero/countzerot,countone/countonet)"
   ]
  },
  {
   "cell_type": "code",
   "execution_count": 14,
   "id": "bb3d5395",
   "metadata": {
    "execution": {
     "iopub.execute_input": "2023-02-14T07:20:49.742684Z",
     "iopub.status.busy": "2023-02-14T07:20:49.742047Z",
     "iopub.status.idle": "2023-02-14T07:20:49.753794Z",
     "shell.execute_reply": "2023-02-14T07:20:49.751962Z"
    },
    "papermill": {
     "duration": 2.559852,
     "end_time": "2023-02-14T07:20:49.756768",
     "exception": false,
     "start_time": "2023-02-14T07:20:47.196916",
     "status": "completed"
    },
    "tags": []
   },
   "outputs": [
    {
     "name": "stdout",
     "output_type": "stream",
     "text": [
      "0.3344298245614035\n"
     ]
    }
   ],
   "source": [
    "\n",
    "def recall_m(y_true, y_pred):\n",
    "    true_positives = np.sum(np.round(np.clip(y_true * y_pred, 0, 1)))\n",
    "    possible_positives = np.sum(np.round(np.clip(y_true, 0, 1)))\n",
    "    recall = true_positives / (possible_positives )\n",
    "    return recall\n",
    "\n",
    "def precision_m(y_true, y_pred):\n",
    "    true_positives = np.sum(np.round(np.clip(y_true * y_pred, 0, 1)))\n",
    "    predicted_positives = np.sum(np.round(np.clip(y_pred, 0, 1)))\n",
    "    precision = true_positives / (predicted_positives )\n",
    "    return precision\n",
    "\n",
    "def f1_m(y_true, y_pred):\n",
    "    precision = precision_m(y_true, y_pred)\n",
    "    recall = recall_m(y_true, y_pred)\n",
    "    return 2*((precision*recall)/(precision+recall))\n",
    "\n",
    "\n",
    "print(f1_m(test_target,bin_pred))"
   ]
  }
 ],
 "metadata": {
  "kernelspec": {
   "display_name": "Python 3",
   "language": "python",
   "name": "python3"
  },
  "language_info": {
   "codemirror_mode": {
    "name": "ipython",
    "version": 3
   },
   "file_extension": ".py",
   "mimetype": "text/x-python",
   "name": "python",
   "nbconvert_exporter": "python",
   "pygments_lexer": "ipython3",
   "version": "3.7.12"
  },
  "papermill": {
   "default_parameters": {},
   "duration": 22255.972171,
   "end_time": "2023-02-14T07:20:55.369966",
   "environment_variables": {},
   "exception": null,
   "input_path": "__notebook__.ipynb",
   "output_path": "__notebook__.ipynb",
   "parameters": {},
   "start_time": "2023-02-14T01:09:59.397795",
   "version": "2.3.4"
  }
 },
 "nbformat": 4,
 "nbformat_minor": 5
}
