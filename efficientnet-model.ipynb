{
 "cells": [
  {
   "cell_type": "code",
   "execution_count": 1,
   "id": "871c955f",
   "metadata": {
    "execution": {
     "iopub.execute_input": "2023-02-14T10:07:05.128406Z",
     "iopub.status.busy": "2023-02-14T10:07:05.127922Z",
     "iopub.status.idle": "2023-02-14T10:07:13.238795Z",
     "shell.execute_reply": "2023-02-14T10:07:13.237881Z"
    },
    "papermill": {
     "duration": 8.121257,
     "end_time": "2023-02-14T10:07:13.241851",
     "exception": false,
     "start_time": "2023-02-14T10:07:05.120594",
     "status": "completed"
    },
    "tags": []
   },
   "outputs": [],
   "source": [
    "import numpy as np\n",
    "import pandas as pd\n",
    "import matplotlib.pyplot as plt\n",
    "import seaborn as sns\n",
    "import pickle\n",
    "import tensorflow as tf\n",
    "import tensorflow_io as tfio\n",
    "import os\n",
    "from tqdm import tqdm\n",
    "import cv2\n",
    "from PIL import Image\n",
    "from joblib import Parallel, delayed\n",
    "import gc\n",
    "from PIL import Image as im\n",
    "import random\n",
    "from scipy import ndimage\n"
   ]
  },
  {
   "cell_type": "code",
   "execution_count": 2,
   "id": "32e3cbd5",
   "metadata": {
    "execution": {
     "iopub.execute_input": "2023-02-14T10:07:13.253907Z",
     "iopub.status.busy": "2023-02-14T10:07:13.253013Z",
     "iopub.status.idle": "2023-02-14T10:07:26.995204Z",
     "shell.execute_reply": "2023-02-14T10:07:26.993942Z"
    },
    "papermill": {
     "duration": 13.7523,
     "end_time": "2023-02-14T10:07:26.999094",
     "exception": false,
     "start_time": "2023-02-14T10:07:13.246794",
     "status": "completed"
    },
    "tags": []
   },
   "outputs": [
    {
     "name": "stdout",
     "output_type": "stream",
     "text": [
      "Collecting dicomsdl\r\n",
      "  Downloading dicomsdl-0.109.1-cp37-cp37m-manylinux_2_12_x86_64.manylinux2010_x86_64.whl (1.4 MB)\r\n",
      "\u001b[2K     \u001b[90m━━━━━━━━━━━━━━━━━━━━━━━━━━━━━━━━━━━━━━━━\u001b[0m \u001b[32m1.4/1.4 MB\u001b[0m \u001b[31m10.1 MB/s\u001b[0m eta \u001b[36m0:00:00\u001b[0m\r\n",
      "\u001b[?25hInstalling collected packages: dicomsdl\r\n",
      "Successfully installed dicomsdl-0.109.1\r\n",
      "\u001b[33mWARNING: Running pip as the 'root' user can result in broken permissions and conflicting behaviour with the system package manager. It is recommended to use a virtual environment instead: https://pip.pypa.io/warnings/venv\u001b[0m\u001b[33m\r\n",
      "\u001b[0m"
     ]
    }
   ],
   "source": [
    "import sys\n",
    "!{sys.executable} -m pip install dicomsdl"
   ]
  },
  {
   "cell_type": "code",
   "execution_count": 3,
   "id": "64746c43",
   "metadata": {
    "execution": {
     "iopub.execute_input": "2023-02-14T10:07:27.011996Z",
     "iopub.status.busy": "2023-02-14T10:07:27.011534Z",
     "iopub.status.idle": "2023-02-14T10:07:27.020091Z",
     "shell.execute_reply": "2023-02-14T10:07:27.018515Z"
    },
    "papermill": {
     "duration": 0.017849,
     "end_time": "2023-02-14T10:07:27.022496",
     "exception": false,
     "start_time": "2023-02-14T10:07:27.004647",
     "status": "completed"
    },
    "tags": []
   },
   "outputs": [],
   "source": [
    "\n",
    "#!pip install /kaggle/input/rsnapacks/dicomsdl-0.109.1-cp36-cp36m-manylinux_2_12_x86_64.manylinux2010_x86_64.whl\n",
    "import numpy as np\n",
    "import pandas as pd\n",
    "import matplotlib.pyplot as plt\n",
    "import seaborn as sns\n",
    "import pickle\n",
    "#import pydicom as dicom\n",
    "\n",
    "import tensorflow as tf\n",
    "import tensorflow_io as tfio\n",
    "from PIL import Image as im\n",
    "import os\n",
    "from tqdm import tqdm\n",
    "import cv2\n",
    "from PIL import Image\n",
    "from joblib import Parallel, delayed\n",
    "import gc\n",
    "import random"
   ]
  },
  {
   "cell_type": "code",
   "execution_count": 4,
   "id": "747b76df",
   "metadata": {
    "execution": {
     "iopub.execute_input": "2023-02-14T10:07:27.034435Z",
     "iopub.status.busy": "2023-02-14T10:07:27.033609Z",
     "iopub.status.idle": "2023-02-14T10:07:27.057484Z",
     "shell.execute_reply": "2023-02-14T10:07:27.056485Z"
    },
    "papermill": {
     "duration": 0.032589,
     "end_time": "2023-02-14T10:07:27.059974",
     "exception": false,
     "start_time": "2023-02-14T10:07:27.027385",
     "status": "completed"
    },
    "tags": []
   },
   "outputs": [],
   "source": [
    "datasetPath = '/kaggle/input/rsna-breast-cancer-detection/train.csv'\n",
    "imgPath = '/kaggle/input/rsna-breast-cancer-detection/train_images/'\n",
    "\n",
    "def crop(sideName, imgName):\n",
    "    \"\"\"\n",
    "    This function is used to crop the breast images. It takes two arguments.\n",
    "    \n",
    "    Input:-\n",
    "    :sideName = Laterality of breast if it is right or left\n",
    "    :imgName = Image pixel data of the DCM images\n",
    "    \n",
    "    Output:-\n",
    "    :return = Output after cropping the image.\n",
    "    \n",
    "    \"\"\"\n",
    "    if sideName == 'L':\n",
    "        colind=[]\n",
    "        for r,row in enumerate(imgName):\n",
    "            for c,col in enumerate(row):\n",
    "                if col==0:\n",
    "                    colind.append(c)\n",
    "                    break\n",
    "        crop_size = max(colind)\n",
    "        imgName = imgName[0:512,0:crop_size]\n",
    "        imgName = cv2.resize(imgName,(128,128))\n",
    "        \n",
    "    if sideName == 'R':\n",
    "        colind=[]\n",
    "        for r,row in enumerate(imgName):\n",
    "            for c,col in enumerate(row):\n",
    "                if col!=0:\n",
    "                    colind.append(c)\n",
    "                    break\n",
    "        crop_size = min(colind)\n",
    "        imgName = imgName[0:512,crop_size:512]\n",
    "        imgName = cv2.resize(imgName,(128,128))\n",
    "    \n",
    "    return imgName    \n",
    "\n",
    "    gc.collect()\n",
    "    \n",
    "def crop_reverse(sideName, imgName):\n",
    "    \n",
    "    \"\"\"\n",
    "    This function is used to crop the breast images but in the reverse order.\n",
    "    Because the laterality is defined wrongly for some images. It takes two arguments.\n",
    "    \n",
    "    Input:-\n",
    "    :sideName = Laterality of breast if it is right or left\n",
    "    :imgName = Image pixel data of the DCM images\n",
    "    \n",
    "    Output:-\n",
    "    :return = Output after cropping the image.\n",
    "    \n",
    "    \"\"\"\n",
    "    \n",
    "    if sideName == 'R':\n",
    "        colind=[]\n",
    "        for r,row in enumerate(imgName):\n",
    "            for c,col in enumerate(row):\n",
    "                if col==0:\n",
    "                    colind.append(c)\n",
    "                    break\n",
    "        crop_size = max(colind)\n",
    "        imgName = imgName[0:512,0:crop_size]\n",
    "        imgName = cv2.resize(imgName,(128,128))\n",
    "        \n",
    "    if sideName == 'L':\n",
    "        colind=[]\n",
    "        for r,row in enumerate(imgName):\n",
    "            for c,col in enumerate(row):\n",
    "                if col!=0:\n",
    "                    colind.append(c)\n",
    "                    break\n",
    "        crop_size = min(colind)\n",
    "        imgName = imgName[0:512,crop_size:512]\n",
    "        imgName = cv2.resize(imgName,(128,128))\n",
    "    \n",
    "    return imgName    \n",
    "\n",
    "    gc.collect()\n",
    "    \n",
    "\n",
    "def img_process(i,filename,sides):\n",
    "    \n",
    "    \"\"\"\n",
    "    This function is used to process the images which will be used for the training/test dataset. It takes three arguments.\n",
    "    \n",
    "    Input:-\n",
    "    :i = Index of the image in the dataframe\n",
    "    :filename = Path of the image\n",
    "    :sides = List of all images' laterality\n",
    "    \n",
    "    Output:-\n",
    "    :return = Output after cropping the image.\n",
    "    \n",
    "    \"\"\"\n",
    "    \n",
    "    \n",
    "    #ds = dicom.dcmread(filename)\n",
    "    dsraw = dicom.open(filename)\n",
    "    ds = dsraw.pixelData()\n",
    "    \n",
    "    ds = (ds - ds.min()) / (ds.max() - ds.min())\n",
    "    if dsraw.PhotometricInterpretation == \"MONOCHROME1\":  \n",
    "        ds = 1 - ds\n",
    "    ds = (ds * 255).astype(np.uint8)\n",
    "\n",
    "    \n",
    "    #ds = cv2.normalize(ds, None, 0, 1.0, cv2.NORM_MINMAX, dtype=cv2.CV_32F)\n",
    "    ds = cv2.resize(ds,(512,512))\n",
    "    \n",
    "    #ds = np.where(ds >= 0.999, 0,ds)\n",
    "    \n",
    "    try:\n",
    "        ds = np.array(crop(sides[i], ds))   \n",
    "    except:\n",
    "        ds = np.array(crop_reverse(sides[i], ds))\n",
    "    \n",
    "\n",
    "    #train_data.loc[i,'img_data'] = [img_fin]\n",
    "    #train_data.to_csv('/kaggle/working/training_img_data.csv') \n",
    "    return ds\n",
    "    gc.collect()\n",
    "\n",
    "def dcmToPix(datasetPath, imgPath):\n",
    "    \n",
    "    \"\"\"\n",
    "    This function is used to process all the images which will be used for the training/test dataset. It takes two arguments.\n",
    "    \n",
    "    Input:-\n",
    "    :datasetPath = Path of the cancer dataset\n",
    "    :imgPath = Path of the image dataset\n",
    "   \n",
    "    Output:-\n",
    "    :return = Array of all the processed images\n",
    "    \n",
    "    \"\"\"\n",
    "    \n",
    "    \n",
    "    dataset = pd.read_csv(datasetPath)\n",
    "    \n",
    "    patient_ids = dataset['patient_id']\n",
    "    image_ids = dataset['image_id']\n",
    "    sides  = dataset['laterality']\n",
    "\n",
    "    imgData = []\n",
    "\n",
    "    for pi, ii, leng in zip(patient_ids, image_ids, range(len(patient_ids))):\n",
    "        imgData.append(imgPath + str(pi) + '/' + str(ii) + '.dcm')\n",
    "\n",
    "    dataset['img_data'] = \" \"\n",
    "    \n",
    "    result = Parallel(n_jobs=128)(\\\n",
    "    delayed(img_process)(i, fname, sides) for i, fname in zip(range(len(imgData)),tqdm(imgData))\\\n",
    "    )\n",
    "    \n",
    "    dataset['img_data'] = result\n",
    "    dataset.to_pickle('imgData.pkl' )\n",
    "    \n",
    "    return result\n",
    "    "
   ]
  },
  {
   "cell_type": "code",
   "execution_count": 5,
   "id": "e3241080",
   "metadata": {
    "_cell_guid": "b1076dfc-b9ad-4769-8c92-a6c4dae69d19",
    "_uuid": "8f2839f25d086af736a60e9eeb907d3b93b6e0e5",
    "execution": {
     "iopub.execute_input": "2023-02-14T10:07:27.071558Z",
     "iopub.status.busy": "2023-02-14T10:07:27.071128Z",
     "iopub.status.idle": "2023-02-14T10:07:47.315274Z",
     "shell.execute_reply": "2023-02-14T10:07:47.314282Z"
    },
    "papermill": {
     "duration": 20.25314,
     "end_time": "2023-02-14T10:07:47.318066",
     "exception": false,
     "start_time": "2023-02-14T10:07:27.064926",
     "status": "completed"
    },
    "tags": []
   },
   "outputs": [
    {
     "name": "stderr",
     "output_type": "stream",
     "text": [
      "2023-02-14 10:07:31.798453: I tensorflow/core/common_runtime/process_util.cc:146] Creating new thread pool with default inter op setting: 2. Tune using inter_op_parallelism_threads for best performance.\n"
     ]
    }
   ],
   "source": [
    "with (open('/kaggle/input/processed/imgDataNew.pkl', \"rb\")) as openfile:\n",
    "     imgData = pickle.load(openfile)"
   ]
  },
  {
   "cell_type": "code",
   "execution_count": 6,
   "id": "0dc74b2a",
   "metadata": {
    "execution": {
     "iopub.execute_input": "2023-02-14T10:07:47.330270Z",
     "iopub.status.busy": "2023-02-14T10:07:47.329849Z",
     "iopub.status.idle": "2023-02-14T10:07:48.714310Z",
     "shell.execute_reply": "2023-02-14T10:07:48.713432Z"
    },
    "papermill": {
     "duration": 1.393479,
     "end_time": "2023-02-14T10:07:48.716612",
     "exception": false,
     "start_time": "2023-02-14T10:07:47.323133",
     "status": "completed"
    },
    "tags": []
   },
   "outputs": [
    {
     "data": {
      "text/plain": [
       "0"
      ]
     },
     "execution_count": 6,
     "metadata": {},
     "output_type": "execute_result"
    }
   ],
   "source": [
    "from sklearn.model_selection import train_test_split\n",
    "train,test = train_test_split(imgData, test_size=0.3, random_state=42, shuffle=True)\n",
    "\n",
    "\n",
    "\n",
    "train_target = np.array(train['cancer'])\n",
    "train_features=[]\n",
    "for i in train['img_data_process']:\n",
    "    train_features.append(i)\n",
    "train_features=tf.convert_to_tensor(train_features)\n",
    "\n",
    "test_target = np.array(test['cancer'])\n",
    "test_features=[]\n",
    "for i in test['img_data_process']:\n",
    "    test_features.append(i)\n",
    "test_features=tf.convert_to_tensor(test_features)\n",
    "test_target = np.array(test['cancer'])\n",
    "gc.collect()\n"
   ]
  },
  {
   "cell_type": "code",
   "execution_count": 7,
   "id": "44d034b8",
   "metadata": {
    "execution": {
     "iopub.execute_input": "2023-02-14T10:07:48.729184Z",
     "iopub.status.busy": "2023-02-14T10:07:48.728733Z",
     "iopub.status.idle": "2023-02-14T10:07:54.741066Z",
     "shell.execute_reply": "2023-02-14T10:07:54.739988Z"
    },
    "papermill": {
     "duration": 6.022241,
     "end_time": "2023-02-14T10:07:54.744088",
     "exception": false,
     "start_time": "2023-02-14T10:07:48.721847",
     "status": "completed"
    },
    "tags": []
   },
   "outputs": [
    {
     "name": "stdout",
     "output_type": "stream",
     "text": [
      "Downloading data from https://storage.googleapis.com/keras-applications/efficientnetb4_notop.h5\n",
      "71688192/71686520 [==============================] - 0s 0us/step\n",
      "71696384/71686520 [==============================] - 0s 0us/step\n"
     ]
    }
   ],
   "source": [
    "from tensorflow.keras.applications import * #Efficient Net included here\n",
    "from tensorflow.keras import models\n",
    "from tensorflow.keras import layers\n",
    "from keras.preprocessing.image import ImageDataGenerator\n",
    "import os\n",
    "import shutil\n",
    "import pandas as pd\n",
    "from sklearn import model_selection\n",
    "from tqdm import tqdm\n",
    "from tensorflow.keras import optimizers\n",
    "import tensorflow as tf\n",
    "#Use this to check if the GPU is configured correctly\n",
    "from tensorflow.python.client import device_lib\n",
    "\n",
    "input_shape=(95,95,3)\n",
    "conv_base = EfficientNetB4(weights=\"imagenet\", include_top=False, input_shape=input_shape)\n",
    "\n",
    "model = models.Sequential()\n",
    "model.add(conv_base)\n",
    "model.add(layers.GlobalMaxPooling2D(name=\"gap\"))\n",
    "#avoid overfitting\n",
    "model.add(layers.Dropout(0.2, name=\"dropout_out\"))\n",
    "# Set NUMBER_OF_CLASSES to the number of your final predictions.\n",
    "model.add(layers.Dense(1, activation=\"sigmoid\", name=\"fc_out\"))\n",
    "conv_base.trainable = False\n",
    "\n"
   ]
  },
  {
   "cell_type": "code",
   "execution_count": 8,
   "id": "94aec551",
   "metadata": {
    "execution": {
     "iopub.execute_input": "2023-02-14T10:07:54.757848Z",
     "iopub.status.busy": "2023-02-14T10:07:54.757373Z",
     "iopub.status.idle": "2023-02-14T10:07:54.801115Z",
     "shell.execute_reply": "2023-02-14T10:07:54.799628Z"
    },
    "papermill": {
     "duration": 0.054372,
     "end_time": "2023-02-14T10:07:54.804360",
     "exception": false,
     "start_time": "2023-02-14T10:07:54.749988",
     "status": "completed"
    },
    "tags": []
   },
   "outputs": [
    {
     "name": "stdout",
     "output_type": "stream",
     "text": [
      "Model: \"sequential\"\n",
      "_________________________________________________________________\n",
      "Layer (type)                 Output Shape              Param #   \n",
      "=================================================================\n",
      "efficientnetb4 (Functional)  (None, 3, 3, 1792)        17673823  \n",
      "_________________________________________________________________\n",
      "gap (GlobalMaxPooling2D)     (None, 1792)              0         \n",
      "_________________________________________________________________\n",
      "dropout_out (Dropout)        (None, 1792)              0         \n",
      "_________________________________________________________________\n",
      "fc_out (Dense)               (None, 1)                 1793      \n",
      "=================================================================\n",
      "Total params: 17,675,616\n",
      "Trainable params: 1,793\n",
      "Non-trainable params: 17,673,823\n",
      "_________________________________________________________________\n"
     ]
    }
   ],
   "source": [
    "model.compile(\\\n",
    "    loss=\"binary_crossentropy\",\\\n",
    "    optimizer=tf.keras.optimizers.Adam(learning_rate=0.0001),\\\n",
    "    metrics=[\"acc\"],\\\n",
    ")\n",
    "\n",
    "model.summary()"
   ]
  },
  {
   "cell_type": "code",
   "execution_count": 9,
   "id": "15369888",
   "metadata": {
    "execution": {
     "iopub.execute_input": "2023-02-14T10:07:54.819302Z",
     "iopub.status.busy": "2023-02-14T10:07:54.818528Z",
     "iopub.status.idle": "2023-02-14T15:52:58.455788Z",
     "shell.execute_reply": "2023-02-14T15:52:58.454766Z"
    },
    "papermill": {
     "duration": 20706.142036,
     "end_time": "2023-02-14T15:53:00.953298",
     "exception": false,
     "start_time": "2023-02-14T10:07:54.811262",
     "status": "completed"
    },
    "tags": []
   },
   "outputs": [
    {
     "name": "stderr",
     "output_type": "stream",
     "text": [
      "2023-02-14 10:08:38.499114: I tensorflow/compiler/mlir/mlir_graph_optimization_pass.cc:185] None of the MLIR Optimization Passes are enabled (registered 2)\n"
     ]
    },
    {
     "name": "stdout",
     "output_type": "stream",
     "text": [
      "Epoch 1/40\n",
      "953/953 [==============================] - 540s 552ms/step - loss: 1.4217 - acc: 0.4561 - val_loss: 0.7463 - val_acc: 0.2310\n",
      "Epoch 2/40\n",
      "953/953 [==============================] - 476s 499ms/step - loss: 1.3691 - acc: 0.4429 - val_loss: 0.8522 - val_acc: 0.2176\n",
      "Epoch 3/40\n",
      "953/953 [==============================] - 477s 500ms/step - loss: 1.3419 - acc: 0.4401 - val_loss: 0.7799 - val_acc: 0.2178\n",
      "Epoch 4/40\n",
      "953/953 [==============================] - 475s 498ms/step - loss: 1.3242 - acc: 0.4401 - val_loss: 0.8769 - val_acc: 0.2176\n",
      "Epoch 5/40\n",
      "953/953 [==============================] - 470s 493ms/step - loss: 1.3145 - acc: 0.4218 - val_loss: 0.6645 - val_acc: 0.7570\n",
      "Epoch 6/40\n",
      "953/953 [==============================] - 478s 501ms/step - loss: 1.2974 - acc: 0.4288 - val_loss: 0.7320 - val_acc: 0.2249\n",
      "Epoch 7/40\n",
      "953/953 [==============================] - 493s 518ms/step - loss: 1.2867 - acc: 0.4256 - val_loss: 0.8796 - val_acc: 0.2175\n",
      "Epoch 8/40\n",
      "953/953 [==============================] - 500s 525ms/step - loss: 1.2678 - acc: 0.4292 - val_loss: 0.8108 - val_acc: 0.2176\n",
      "Epoch 9/40\n",
      "953/953 [==============================] - 502s 526ms/step - loss: 1.2578 - acc: 0.4243 - val_loss: 0.7899 - val_acc: 0.2186\n",
      "Epoch 10/40\n",
      "953/953 [==============================] - 498s 522ms/step - loss: 1.2623 - acc: 0.4100 - val_loss: 0.8186 - val_acc: 0.2178\n",
      "Epoch 11/40\n",
      "953/953 [==============================] - 479s 503ms/step - loss: 1.2472 - acc: 0.4146 - val_loss: 0.8837 - val_acc: 0.2176\n",
      "Epoch 12/40\n",
      "953/953 [==============================] - 483s 507ms/step - loss: 1.2554 - acc: 0.3996 - val_loss: 0.7175 - val_acc: 0.2478\n",
      "Epoch 13/40\n",
      "953/953 [==============================] - 478s 502ms/step - loss: 1.2454 - acc: 0.3993 - val_loss: 0.7244 - val_acc: 0.2320\n",
      "Epoch 14/40\n",
      "953/953 [==============================] - 490s 514ms/step - loss: 1.2337 - acc: 0.4050 - val_loss: 0.9999 - val_acc: 0.2174\n",
      "Epoch 15/40\n",
      "953/953 [==============================] - 503s 528ms/step - loss: 1.2344 - acc: 0.3897 - val_loss: 0.7616 - val_acc: 0.2191\n",
      "Epoch 16/40\n",
      "953/953 [==============================] - 498s 522ms/step - loss: 1.2315 - acc: 0.3882 - val_loss: 0.8050 - val_acc: 0.2179\n",
      "Epoch 17/40\n",
      "953/953 [==============================] - 496s 520ms/step - loss: 1.2306 - acc: 0.3805 - val_loss: 0.6406 - val_acc: 0.7708\n",
      "Epoch 18/40\n",
      "953/953 [==============================] - 491s 515ms/step - loss: 1.2240 - acc: 0.3855 - val_loss: 0.7310 - val_acc: 0.2267\n",
      "Epoch 19/40\n",
      "953/953 [==============================] - 491s 515ms/step - loss: 1.2228 - acc: 0.3800 - val_loss: 0.7965 - val_acc: 0.2179\n",
      "Epoch 20/40\n",
      "953/953 [==============================] - 483s 506ms/step - loss: 1.2214 - acc: 0.3857 - val_loss: 0.7232 - val_acc: 0.2394\n",
      "Epoch 21/40\n",
      "953/953 [==============================] - 500s 525ms/step - loss: 1.2204 - acc: 0.3670 - val_loss: 0.7037 - val_acc: 0.3511\n",
      "Epoch 22/40\n",
      "953/953 [==============================] - 503s 528ms/step - loss: 1.2204 - acc: 0.3666 - val_loss: 0.6870 - val_acc: 0.6065\n",
      "Epoch 23/40\n",
      "953/953 [==============================] - 497s 522ms/step - loss: 1.2184 - acc: 0.3725 - val_loss: 0.8139 - val_acc: 0.2175\n",
      "Epoch 24/40\n",
      "953/953 [==============================] - 501s 526ms/step - loss: 1.2215 - acc: 0.3607 - val_loss: 0.6907 - val_acc: 0.5834\n",
      "Epoch 25/40\n",
      "953/953 [==============================] - 506s 531ms/step - loss: 1.2175 - acc: 0.3588 - val_loss: 0.7610 - val_acc: 0.2197\n",
      "Epoch 26/40\n",
      "953/953 [==============================] - 510s 535ms/step - loss: 1.2177 - acc: 0.3624 - val_loss: 0.8635 - val_acc: 0.2174\n",
      "Epoch 27/40\n",
      "953/953 [==============================] - 512s 537ms/step - loss: 1.2171 - acc: 0.3637 - val_loss: 0.7473 - val_acc: 0.2214\n",
      "Epoch 28/40\n",
      "953/953 [==============================] - 513s 538ms/step - loss: 1.2144 - acc: 0.3600 - val_loss: 0.8887 - val_acc: 0.2174\n",
      "Epoch 29/40\n",
      "953/953 [==============================] - 508s 532ms/step - loss: 1.2169 - acc: 0.3614 - val_loss: 0.8162 - val_acc: 0.2176\n",
      "Epoch 30/40\n",
      "953/953 [==============================] - 498s 523ms/step - loss: 1.2107 - acc: 0.3523 - val_loss: 0.7427 - val_acc: 0.2221\n",
      "Epoch 31/40\n",
      "953/953 [==============================] - 495s 519ms/step - loss: 1.2144 - acc: 0.3478 - val_loss: 0.7984 - val_acc: 0.2176\n",
      "Epoch 32/40\n",
      "953/953 [==============================] - 501s 526ms/step - loss: 1.2129 - acc: 0.3424 - val_loss: 0.8709 - val_acc: 0.2175\n",
      "Epoch 33/40\n",
      "953/953 [==============================] - 506s 530ms/step - loss: 1.2146 - acc: 0.3478 - val_loss: 0.6742 - val_acc: 0.7246\n",
      "Epoch 34/40\n",
      "953/953 [==============================] - 511s 536ms/step - loss: 1.2151 - acc: 0.3559 - val_loss: 0.8215 - val_acc: 0.2175\n",
      "Epoch 35/40\n",
      "953/953 [==============================] - 508s 533ms/step - loss: 1.2130 - acc: 0.3587 - val_loss: 0.7671 - val_acc: 0.2191\n",
      "Epoch 36/40\n",
      "953/953 [==============================] - 508s 532ms/step - loss: 1.2109 - acc: 0.3479 - val_loss: 0.7432 - val_acc: 0.2230\n",
      "Epoch 37/40\n",
      "953/953 [==============================] - 511s 536ms/step - loss: 1.2112 - acc: 0.3412 - val_loss: 0.8196 - val_acc: 0.2175\n",
      "Epoch 38/40\n",
      "953/953 [==============================] - 510s 535ms/step - loss: 1.2143 - acc: 0.3467 - val_loss: 0.7526 - val_acc: 0.2233\n",
      "Epoch 39/40\n",
      "953/953 [==============================] - 510s 535ms/step - loss: 1.2128 - acc: 0.3321 - val_loss: 0.6859 - val_acc: 0.6661\n",
      "Epoch 40/40\n",
      "953/953 [==============================] - 523s 549ms/step - loss: 1.2112 - acc: 0.3365 - val_loss: 0.6518 - val_acc: 0.7680\n"
     ]
    },
    {
     "data": {
      "text/plain": [
       "<keras.callbacks.History at 0x7feff7dee090>"
      ]
     },
     "execution_count": 9,
     "metadata": {},
     "output_type": "execute_result"
    }
   ],
   "source": [
    "from tensorflow.keras.preprocessing.image import ImageDataGenerator\n",
    "datagen = ImageDataGenerator(\n",
    "    rescale=1./255,\n",
    "    featurewise_center=True,\n",
    "    featurewise_std_normalization=True,\n",
    "    shear_range=0.2,\n",
    "    width_shift_range=0.2,\n",
    "    height_shift_range=0.2,\n",
    "    horizontal_flip=True,\n",
    "    validation_split=0.2)\n",
    "datagen.fit(train_features)\n",
    "\n",
    "\n",
    "weights = {0:1, 1:4.5}\n",
    "model.fit(datagen.flow(train_features, train_target, batch_size=32,\\\n",
    "         subset='training'),\\\n",
    "         validation_data=datagen.flow(train_features, train_target,\\\n",
    "         batch_size=8, subset='validation'),class_weight=weights, epochs=40)\n"
   ]
  },
  {
   "cell_type": "code",
   "execution_count": 10,
   "id": "c7857058",
   "metadata": {
    "execution": {
     "iopub.execute_input": "2023-02-14T15:53:05.809455Z",
     "iopub.status.busy": "2023-02-14T15:53:05.808689Z",
     "iopub.status.idle": "2023-02-14T15:53:06.598747Z",
     "shell.execute_reply": "2023-02-14T15:53:06.597816Z"
    },
    "papermill": {
     "duration": 3.290593,
     "end_time": "2023-02-14T15:53:06.601816",
     "exception": false,
     "start_time": "2023-02-14T15:53:03.311223",
     "status": "completed"
    },
    "tags": []
   },
   "outputs": [
    {
     "name": "stderr",
     "output_type": "stream",
     "text": [
      "/opt/conda/lib/python3.7/site-packages/keras/utils/generic_utils.py:497: CustomMaskWarning: Custom mask layers require a config and must override get_config. When loading, the custom mask layer must be passed to the custom_objects argument.\n",
      "  category=CustomMaskWarning)\n"
     ]
    }
   ],
   "source": [
    "model.save(\"/kaggle/working/trained_model_breast_cancer3.h5\")\n"
   ]
  },
  {
   "cell_type": "code",
   "execution_count": 11,
   "id": "d36e5c3c",
   "metadata": {
    "execution": {
     "iopub.execute_input": "2023-02-14T15:53:11.658316Z",
     "iopub.status.busy": "2023-02-14T15:53:11.657002Z",
     "iopub.status.idle": "2023-02-14T15:53:11.662263Z",
     "shell.execute_reply": "2023-02-14T15:53:11.661191Z"
    },
    "papermill": {
     "duration": 2.503946,
     "end_time": "2023-02-14T15:53:11.664542",
     "exception": false,
     "start_time": "2023-02-14T15:53:09.160596",
     "status": "completed"
    },
    "tags": []
   },
   "outputs": [],
   "source": [
    "#from tensorflow import keras\n",
    "#savedModel = keras.models.load_model(\"/kaggle/input/pre-trained-model-of-breast-cancer/trained_model_breast_cancer3.h5\")\n",
    "\n"
   ]
  },
  {
   "cell_type": "code",
   "execution_count": 12,
   "id": "169f5fec",
   "metadata": {
    "execution": {
     "iopub.execute_input": "2023-02-14T15:53:16.539796Z",
     "iopub.status.busy": "2023-02-14T15:53:16.538656Z",
     "iopub.status.idle": "2023-02-14T15:56:36.299464Z",
     "shell.execute_reply": "2023-02-14T15:56:36.298171Z"
    },
    "papermill": {
     "duration": 202.090869,
     "end_time": "2023-02-14T15:56:36.302454",
     "exception": false,
     "start_time": "2023-02-14T15:53:14.211585",
     "status": "completed"
    },
    "tags": []
   },
   "outputs": [],
   "source": [
    "test_datagen = ImageDataGenerator(\n",
    "    rescale=1./255,\n",
    "    featurewise_center=True,\n",
    "    featurewise_std_normalization=True)\n",
    "test_datagen.fit(test_features)\n",
    "\n",
    "test_generator = test_datagen.flow(test_features, batch_size=1)\n",
    "pred = model.predict(test_features)\n",
    "bin_pred = []\n",
    "for i in pred:\n",
    "    if i>=0.5:\n",
    "        bin_pred.append(1)\n",
    "    else:\n",
    "        bin_pred.append(0)\n",
    "bin_pred = np.array(bin_pred)\n"
   ]
  },
  {
   "cell_type": "code",
   "execution_count": 13,
   "id": "cfab055c",
   "metadata": {
    "execution": {
     "iopub.execute_input": "2023-02-14T15:56:41.339963Z",
     "iopub.status.busy": "2023-02-14T15:56:41.339151Z",
     "iopub.status.idle": "2023-02-14T15:56:41.369279Z",
     "shell.execute_reply": "2023-02-14T15:56:41.367795Z"
    },
    "papermill": {
     "duration": 2.530886,
     "end_time": "2023-02-14T15:56:41.371968",
     "exception": false,
     "start_time": "2023-02-14T15:56:38.841082",
     "status": "completed"
    },
    "tags": []
   },
   "outputs": [
    {
     "name": "stdout",
     "output_type": "stream",
     "text": [
      "0.2663236555188044\n",
      "0.0959541156409859 0.9082943925233645\n"
     ]
    }
   ],
   "source": [
    "import sklearn\n",
    "acc = sklearn.metrics.accuracy_score(test_target, bin_pred)\n",
    "print(acc)\n",
    "\n",
    "countzero=0\n",
    "countone=0\n",
    "countzerot=0\n",
    "countonet=0\n",
    "for i, j in zip(test_target, bin_pred):\n",
    "    if i==0 and j==0:\n",
    "        countzero+=1\n",
    "    if i==1 and j==1:\n",
    "        countone+=1\n",
    "    if i==1:\n",
    "        countonet+=1\n",
    "    if i==0:\n",
    "        countzerot+=1\n",
    "print(countzero/countzerot,countone/countonet)"
   ]
  },
  {
   "cell_type": "code",
   "execution_count": 14,
   "id": "7dddb05d",
   "metadata": {
    "execution": {
     "iopub.execute_input": "2023-02-14T15:56:46.374573Z",
     "iopub.status.busy": "2023-02-14T15:56:46.374119Z",
     "iopub.status.idle": "2023-02-14T15:56:46.384860Z",
     "shell.execute_reply": "2023-02-14T15:56:46.383411Z"
    },
    "papermill": {
     "duration": 2.526284,
     "end_time": "2023-02-14T15:56:46.387315",
     "exception": false,
     "start_time": "2023-02-14T15:56:43.861031",
     "status": "completed"
    },
    "tags": []
   },
   "outputs": [
    {
     "name": "stdout",
     "output_type": "stream",
     "text": [
      "0.3417958017364546\n"
     ]
    }
   ],
   "source": [
    "\n",
    "def recall_m(y_true, y_pred):\n",
    "    true_positives = np.sum(np.round(np.clip(y_true * y_pred, 0, 1)))\n",
    "    possible_positives = np.sum(np.round(np.clip(y_true, 0, 1)))\n",
    "    recall = true_positives / (possible_positives )\n",
    "    return recall\n",
    "\n",
    "def precision_m(y_true, y_pred):\n",
    "    true_positives = np.sum(np.round(np.clip(y_true * y_pred, 0, 1)))\n",
    "    predicted_positives = np.sum(np.round(np.clip(y_pred, 0, 1)))\n",
    "    precision = true_positives / (predicted_positives )\n",
    "    return precision\n",
    "\n",
    "def f1_m(y_true, y_pred):\n",
    "    precision = precision_m(y_true, y_pred)\n",
    "    recall = recall_m(y_true, y_pred)\n",
    "    return 2*((precision*recall)/(precision+recall))\n",
    "\n",
    "\n",
    "print(f1_m(test_target,bin_pred))"
   ]
  }
 ],
 "metadata": {
  "kernelspec": {
   "display_name": "Python 3",
   "language": "python",
   "name": "python3"
  },
  "language_info": {
   "codemirror_mode": {
    "name": "ipython",
    "version": 3
   },
   "file_extension": ".py",
   "mimetype": "text/x-python",
   "name": "python",
   "nbconvert_exporter": "python",
   "pygments_lexer": "ipython3",
   "version": "3.7.12"
  },
  "papermill": {
   "default_parameters": {},
   "duration": 20997.951696,
   "end_time": "2023-02-14T15:56:52.771681",
   "environment_variables": {},
   "exception": null,
   "input_path": "__notebook__.ipynb",
   "output_path": "__notebook__.ipynb",
   "parameters": {},
   "start_time": "2023-02-14T10:06:54.819985",
   "version": "2.3.4"
  }
 },
 "nbformat": 4,
 "nbformat_minor": 5
}
