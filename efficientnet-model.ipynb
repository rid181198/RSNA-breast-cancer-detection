{
 "cells": [
  {
   "cell_type": "code",
   "execution_count": 1,
   "id": "c95b894f",
   "metadata": {
    "execution": {
     "iopub.execute_input": "2023-02-26T01:20:07.726940Z",
     "iopub.status.busy": "2023-02-26T01:20:07.726454Z",
     "iopub.status.idle": "2023-02-26T01:20:12.767038Z",
     "shell.execute_reply": "2023-02-26T01:20:12.766002Z"
    },
    "papermill": {
     "duration": 5.050208,
     "end_time": "2023-02-26T01:20:12.769744",
     "exception": false,
     "start_time": "2023-02-26T01:20:07.719536",
     "status": "completed"
    },
    "tags": []
   },
   "outputs": [],
   "source": [
    "import numpy as np\n",
    "import pandas as pd\n",
    "import matplotlib.pyplot as plt\n",
    "import seaborn as sns\n",
    "import pickle\n",
    "import tensorflow as tf\n",
    "import os\n",
    "from tqdm import tqdm\n",
    "import cv2\n",
    "from PIL import Image\n",
    "from joblib import Parallel, delayed\n",
    "import gc\n",
    "from PIL import Image as im\n",
    "import random\n",
    "from scipy import ndimage\n"
   ]
  },
  {
   "cell_type": "code",
   "execution_count": 2,
   "id": "f9931159",
   "metadata": {
    "execution": {
     "iopub.execute_input": "2023-02-26T01:20:12.779955Z",
     "iopub.status.busy": "2023-02-26T01:20:12.779358Z",
     "iopub.status.idle": "2023-02-26T01:20:12.786328Z",
     "shell.execute_reply": "2023-02-26T01:20:12.785301Z"
    },
    "papermill": {
     "duration": 0.013799,
     "end_time": "2023-02-26T01:20:12.788707",
     "exception": false,
     "start_time": "2023-02-26T01:20:12.774908",
     "status": "completed"
    },
    "tags": []
   },
   "outputs": [],
   "source": [
    "\n",
    "#!pip install /kaggle/input/rsnapacks/dicomsdl-0.109.1-cp36-cp36m-manylinux_2_12_x86_64.manylinux2010_x86_64.whl\n",
    "import numpy as np\n",
    "import pandas as pd\n",
    "import matplotlib.pyplot as plt\n",
    "import seaborn as sns\n",
    "import pickle\n",
    "#import pydicom as dicom\n",
    "\n",
    "import tensorflow as tf\n",
    "from PIL import Image as im\n",
    "import os\n",
    "from tqdm import tqdm\n",
    "import cv2\n",
    "from PIL import Image\n",
    "from joblib import Parallel, delayed\n",
    "import gc\n",
    "import random"
   ]
  },
  {
   "cell_type": "code",
   "execution_count": 3,
   "id": "782b9ba5",
   "metadata": {
    "_cell_guid": "b1076dfc-b9ad-4769-8c92-a6c4dae69d19",
    "_uuid": "8f2839f25d086af736a60e9eeb907d3b93b6e0e5",
    "execution": {
     "iopub.execute_input": "2023-02-26T01:20:12.795679Z",
     "iopub.status.busy": "2023-02-26T01:20:12.795408Z",
     "iopub.status.idle": "2023-02-26T01:20:37.758781Z",
     "shell.execute_reply": "2023-02-26T01:20:37.757599Z"
    },
    "papermill": {
     "duration": 24.969437,
     "end_time": "2023-02-26T01:20:37.761213",
     "exception": false,
     "start_time": "2023-02-26T01:20:12.791776",
     "status": "completed"
    },
    "tags": []
   },
   "outputs": [],
   "source": [
    "with (open('/kaggle/input/processed/imgDataNew.pkl', \"rb\")) as openfile:\n",
    "     imgData = pickle.load(openfile)\n",
    "imgData=imgData[:]"
   ]
  },
  {
   "cell_type": "code",
   "execution_count": 4,
   "id": "ad14c980",
   "metadata": {
    "execution": {
     "iopub.execute_input": "2023-02-26T01:20:37.768749Z",
     "iopub.status.busy": "2023-02-26T01:20:37.768416Z",
     "iopub.status.idle": "2023-02-26T01:20:37.781523Z",
     "shell.execute_reply": "2023-02-26T01:20:37.780569Z"
    },
    "papermill": {
     "duration": 0.019412,
     "end_time": "2023-02-26T01:20:37.783870",
     "exception": false,
     "start_time": "2023-02-26T01:20:37.764458",
     "status": "completed"
    },
    "tags": []
   },
   "outputs": [
    {
     "name": "stdout",
     "output_type": "stream",
     "text": [
      "0    42838\n",
      "1    11580\n",
      "Name: cancer, dtype: int64\n"
     ]
    }
   ],
   "source": [
    "print(imgData['cancer'].value_counts())"
   ]
  },
  {
   "cell_type": "code",
   "execution_count": 5,
   "id": "cbb8be56",
   "metadata": {
    "execution": {
     "iopub.execute_input": "2023-02-26T01:20:37.790954Z",
     "iopub.status.busy": "2023-02-26T01:20:37.790660Z",
     "iopub.status.idle": "2023-02-26T01:20:43.341834Z",
     "shell.execute_reply": "2023-02-26T01:20:43.340947Z"
    },
    "papermill": {
     "duration": 5.557014,
     "end_time": "2023-02-26T01:20:43.343905",
     "exception": false,
     "start_time": "2023-02-26T01:20:37.786891",
     "status": "completed"
    },
    "tags": []
   },
   "outputs": [
    {
     "data": {
      "text/plain": [
       "0"
      ]
     },
     "execution_count": 5,
     "metadata": {},
     "output_type": "execute_result"
    }
   ],
   "source": [
    "\n",
    "\n",
    "\n",
    "train_target = np.array(imgData['cancer'])\n",
    "train_features = np.array(list(imgData['img_data_process']))\n",
    "\n",
    "\n",
    "gc.collect()\n"
   ]
  },
  {
   "cell_type": "code",
   "execution_count": 6,
   "id": "5560c21b",
   "metadata": {
    "execution": {
     "iopub.execute_input": "2023-02-26T01:20:43.352025Z",
     "iopub.status.busy": "2023-02-26T01:20:43.351458Z",
     "iopub.status.idle": "2023-02-26T01:20:43.356979Z",
     "shell.execute_reply": "2023-02-26T01:20:43.356137Z"
    },
    "papermill": {
     "duration": 0.011609,
     "end_time": "2023-02-26T01:20:43.358971",
     "exception": false,
     "start_time": "2023-02-26T01:20:43.347362",
     "status": "completed"
    },
    "tags": []
   },
   "outputs": [],
   "source": [
    "def normalize(image):\n",
    "    # Repeat channels to create 3 channel images required by pretrained ConvNextV2 models\n",
    "    #image = tf.repeat(image, repeats=3, axis=3)\n",
    "    # Cast to float 32\n",
    "    image = tf.cast(image, tf.float32)\n",
    "    # Normalize with respect to ImageNet mean/std\n",
    "    image = tf.keras.applications.imagenet_utils.preprocess_input(image, mode='torch')\n",
    "\n",
    "    return image"
   ]
  },
  {
   "cell_type": "code",
   "execution_count": 7,
   "id": "54300455",
   "metadata": {
    "execution": {
     "iopub.execute_input": "2023-02-26T01:20:43.366481Z",
     "iopub.status.busy": "2023-02-26T01:20:43.366221Z",
     "iopub.status.idle": "2023-02-26T01:20:47.320212Z",
     "shell.execute_reply": "2023-02-26T01:20:47.319119Z"
    },
    "papermill": {
     "duration": 3.96083,
     "end_time": "2023-02-26T01:20:47.322914",
     "exception": false,
     "start_time": "2023-02-26T01:20:43.362084",
     "status": "completed"
    },
    "tags": []
   },
   "outputs": [
    {
     "name": "stdout",
     "output_type": "stream",
     "text": [
      "Processing /kaggle/input/kerasmodel/keras_cv_attention_models-1.3.5-py3-none-any.whl\r\n",
      "Installing collected packages: keras-cv-attention-models\r\n",
      "Successfully installed keras-cv-attention-models-1.3.5\r\n",
      "\u001b[33mWARNING: Running pip as the 'root' user can result in broken permissions and conflicting behaviour with the system package manager. It is recommended to use a virtual environment instead: https://pip.pypa.io/warnings/venv\u001b[0m\u001b[33m\r\n",
      "\u001b[0m"
     ]
    }
   ],
   "source": [
    "INPUT_SHAPE=(95,95,3)\n",
    "!pip install --no-deps /kaggle/input/kerasmodel/keras_cv_attention_models-1.3.5-py3-none-any.whl\n",
    "from keras_cv_attention_models import convnext\n",
    "#resolver = tf.distribute.cluster_resolver.TPUClusterResolver()\n",
    "#tf.config.experimental_connect_to_cluster(resolver)\n",
    "#tf.tpu.experimental.initialize_tpu_system(resolver)\n",
    "#tpu_strategy = tf.distribute.experimental.TPUStrategy(resolver)\n",
    "#with tpu_strategy.scope():\n",
    "def get_model():\n",
    "        # Inputs, note the names are equal to the dictionary keys in the dataset\n",
    "        image = tf.keras.layers.Input(INPUT_SHAPE, name='image', dtype=tf.uint8)\n",
    "\n",
    "        # Normalize Input\n",
    "        image_norm = normalize(image)\n",
    "\n",
    "        # CNN Feature Maps\n",
    "        x = convnext.ConvNeXtV2Tiny(\n",
    "            input_shape=(95, 95, 3),\n",
    "            pretrained=None,\n",
    "            num_classes=0,\n",
    "        )(image_norm)\n",
    "\n",
    "        # Average Pooling BxHxWxC -> BxC\n",
    "        x = tf.keras.layers.GlobalAveragePooling2D()(x)\n",
    "        # Dropout to prevent Overfitting\n",
    "        x = tf.keras.layers.Dropout(0.30)(x)\n",
    "        # Output value between [0, 1] using Sigmoid function\n",
    "        outputs = tf.keras.layers.Dense(1, activation='sigmoid')(x)\n",
    "\n",
    "        # Define model with inputs and outputs\n",
    "        model = tf.keras.models.Model(inputs=image, outputs=outputs)\n",
    "\n",
    "        # Load pretrained Model Weights\n",
    "        #model.load_weights('/kaggle/input/rsna-efficientnetv2-training-tensorflow-tpu-ds/model.h5')\n",
    "\n",
    "        # Set model non-trainable\n",
    "        model.trainable = False\n",
    "\n",
    "        # Compile model\n",
    "        model.compile()\n",
    "\n",
    "        return model"
   ]
  },
  {
   "cell_type": "code",
   "execution_count": 8,
   "id": "0aff0fbd",
   "metadata": {
    "execution": {
     "iopub.execute_input": "2023-02-26T01:20:47.331397Z",
     "iopub.status.busy": "2023-02-26T01:20:47.331061Z",
     "iopub.status.idle": "2023-02-26T01:20:50.137612Z",
     "shell.execute_reply": "2023-02-26T01:20:50.135591Z"
    },
    "papermill": {
     "duration": 2.813282,
     "end_time": "2023-02-26T01:20:50.139757",
     "exception": false,
     "start_time": "2023-02-26T01:20:47.326475",
     "status": "completed"
    },
    "tags": []
   },
   "outputs": [
    {
     "name": "stdout",
     "output_type": "stream",
     "text": [
      "Model: \"model\"\n",
      "_________________________________________________________________\n",
      "Layer (type)                 Output Shape              Param #   \n",
      "=================================================================\n",
      "image (InputLayer)           [(None, 95, 95, 3)]       0         \n",
      "_________________________________________________________________\n",
      "tf.cast (TFOpLambda)         (None, 95, 95, 3)         0         \n",
      "_________________________________________________________________\n",
      "tf.math.truediv (TFOpLambda) (None, 95, 95, 3)         0         \n",
      "_________________________________________________________________\n",
      "tf.nn.bias_add (TFOpLambda)  (None, 95, 95, 3)         0         \n",
      "_________________________________________________________________\n",
      "tf.math.truediv_1 (TFOpLambd (None, 95, 95, 3)         0         \n",
      "_________________________________________________________________\n",
      "convnext_v2_tiny (Functional (None, 2, 2, 768)         27864960  \n",
      "_________________________________________________________________\n",
      "global_average_pooling2d (Gl (None, 768)               0         \n",
      "_________________________________________________________________\n",
      "dropout (Dropout)            (None, 768)               0         \n",
      "_________________________________________________________________\n",
      "dense (Dense)                (None, 1)                 769       \n",
      "=================================================================\n",
      "Total params: 27,865,729\n",
      "Trainable params: 0\n",
      "Non-trainable params: 27,865,729\n",
      "_________________________________________________________________\n"
     ]
    }
   ],
   "source": [
    "# Pretrained File Path: '/kaggle/input/sartorius-training-dataset/model.h5'\n",
    "tf.keras.backend.clear_session()\n",
    "# enable XLA optmizations\n",
    "tf.config.optimizer.set_jit(True)\n",
    "\n",
    "model = get_model()\n",
    "model.compile(\\\n",
    "        loss=\"binary_crossentropy\",\\\n",
    "        optimizer=tf.keras.optimizers.Adam(learning_rate=0.0005),\\\n",
    "        metrics=[\"acc\"])\n",
    "model.summary()"
   ]
  },
  {
   "cell_type": "code",
   "execution_count": 9,
   "id": "d7560c91",
   "metadata": {
    "execution": {
     "iopub.execute_input": "2023-02-26T01:20:50.149003Z",
     "iopub.status.busy": "2023-02-26T01:20:50.148076Z",
     "iopub.status.idle": "2023-02-26T04:01:28.527298Z",
     "shell.execute_reply": "2023-02-26T04:01:28.526355Z"
    },
    "papermill": {
     "duration": 9638.385863,
     "end_time": "2023-02-26T04:01:28.529349",
     "exception": false,
     "start_time": "2023-02-26T01:20:50.143486",
     "status": "completed"
    },
    "tags": []
   },
   "outputs": [
    {
     "name": "stdout",
     "output_type": "stream",
     "text": [
      "Epoch 1/150\n",
      "2721/2721 [==============================] - 92s 25ms/step - loss: 1.3240 - acc: 0.3689 - val_loss: 0.9706 - val_acc: 0.2891\n",
      "Epoch 2/150\n",
      "2721/2721 [==============================] - 72s 27ms/step - loss: 1.3217 - acc: 0.3676 - val_loss: 0.9706 - val_acc: 0.2891\n",
      "Epoch 3/150\n",
      "2721/2721 [==============================] - 61s 22ms/step - loss: 1.3258 - acc: 0.3662 - val_loss: 0.9706 - val_acc: 0.2891\n",
      "Epoch 4/150\n",
      "2721/2721 [==============================] - 66s 24ms/step - loss: 1.3242 - acc: 0.3652 - val_loss: 0.9706 - val_acc: 0.2891\n",
      "Epoch 5/150\n",
      "2721/2721 [==============================] - 64s 24ms/step - loss: 1.3204 - acc: 0.3679 - val_loss: 0.9706 - val_acc: 0.2891\n",
      "Epoch 6/150\n",
      "2721/2721 [==============================] - 62s 23ms/step - loss: 1.3213 - acc: 0.3661 - val_loss: 0.9706 - val_acc: 0.2891\n",
      "Epoch 7/150\n",
      "2721/2721 [==============================] - 62s 23ms/step - loss: 1.3207 - acc: 0.3657 - val_loss: 0.9706 - val_acc: 0.2891\n",
      "Epoch 8/150\n",
      "2721/2721 [==============================] - 61s 22ms/step - loss: 1.3200 - acc: 0.3703 - val_loss: 0.9706 - val_acc: 0.2891\n",
      "Epoch 9/150\n",
      "2721/2721 [==============================] - 61s 22ms/step - loss: 1.3205 - acc: 0.3676 - val_loss: 0.9706 - val_acc: 0.2891\n",
      "Epoch 10/150\n",
      "2721/2721 [==============================] - 61s 22ms/step - loss: 1.3218 - acc: 0.3683 - val_loss: 0.9706 - val_acc: 0.2891\n",
      "Epoch 11/150\n",
      "2721/2721 [==============================] - 64s 24ms/step - loss: 1.3200 - acc: 0.3696 - val_loss: 0.9706 - val_acc: 0.2891\n",
      "Epoch 12/150\n",
      "2721/2721 [==============================] - 65s 24ms/step - loss: 1.3160 - acc: 0.3709 - val_loss: 0.9706 - val_acc: 0.2891\n",
      "Epoch 13/150\n",
      "2721/2721 [==============================] - 62s 23ms/step - loss: 1.3216 - acc: 0.3677 - val_loss: 0.9706 - val_acc: 0.2891\n",
      "Epoch 14/150\n",
      "2721/2721 [==============================] - 61s 23ms/step - loss: 1.3174 - acc: 0.3683 - val_loss: 0.9706 - val_acc: 0.2891\n",
      "Epoch 15/150\n",
      "2721/2721 [==============================] - 61s 22ms/step - loss: 1.3157 - acc: 0.3703 - val_loss: 0.9706 - val_acc: 0.2891\n",
      "Epoch 16/150\n",
      "2721/2721 [==============================] - 64s 23ms/step - loss: 1.3200 - acc: 0.3676 - val_loss: 0.9706 - val_acc: 0.2891\n",
      "Epoch 17/150\n",
      "2721/2721 [==============================] - 63s 23ms/step - loss: 1.3215 - acc: 0.3665 - val_loss: 0.9706 - val_acc: 0.2891\n",
      "Epoch 18/150\n",
      "2721/2721 [==============================] - 63s 23ms/step - loss: 1.3218 - acc: 0.3673 - val_loss: 0.9706 - val_acc: 0.2891\n",
      "Epoch 19/150\n",
      "2721/2721 [==============================] - 65s 24ms/step - loss: 1.3195 - acc: 0.3688 - val_loss: 0.9706 - val_acc: 0.2891\n",
      "Epoch 20/150\n",
      "2721/2721 [==============================] - 66s 24ms/step - loss: 1.3231 - acc: 0.3674 - val_loss: 0.9706 - val_acc: 0.2891\n",
      "Epoch 21/150\n",
      "2721/2721 [==============================] - 61s 23ms/step - loss: 1.3242 - acc: 0.3689 - val_loss: 0.9706 - val_acc: 0.2891\n",
      "Epoch 22/150\n",
      "2721/2721 [==============================] - 63s 23ms/step - loss: 1.3216 - acc: 0.3651 - val_loss: 0.9706 - val_acc: 0.2891\n",
      "Epoch 23/150\n",
      "2721/2721 [==============================] - 63s 23ms/step - loss: 1.3219 - acc: 0.3667 - val_loss: 0.9706 - val_acc: 0.2891\n",
      "Epoch 24/150\n",
      "2721/2721 [==============================] - 62s 23ms/step - loss: 1.3192 - acc: 0.3679 - val_loss: 0.9706 - val_acc: 0.2891\n",
      "Epoch 25/150\n",
      "2721/2721 [==============================] - 61s 23ms/step - loss: 1.3219 - acc: 0.3659 - val_loss: 0.9706 - val_acc: 0.2891\n",
      "Epoch 26/150\n",
      "2721/2721 [==============================] - 67s 25ms/step - loss: 1.3205 - acc: 0.3652 - val_loss: 0.9706 - val_acc: 0.2891\n",
      "Epoch 27/150\n",
      "2721/2721 [==============================] - 66s 24ms/step - loss: 1.3226 - acc: 0.3684 - val_loss: 0.9706 - val_acc: 0.2891\n",
      "Epoch 28/150\n",
      "2721/2721 [==============================] - 61s 22ms/step - loss: 1.3269 - acc: 0.3666 - val_loss: 0.9706 - val_acc: 0.2891\n",
      "Epoch 29/150\n",
      "2721/2721 [==============================] - 61s 23ms/step - loss: 1.3201 - acc: 0.3709 - val_loss: 0.9706 - val_acc: 0.2891\n",
      "Epoch 30/150\n",
      "2721/2721 [==============================] - 62s 23ms/step - loss: 1.3210 - acc: 0.3672 - val_loss: 0.9706 - val_acc: 0.2891\n",
      "Epoch 31/150\n",
      "2721/2721 [==============================] - 64s 24ms/step - loss: 1.3236 - acc: 0.3676 - val_loss: 0.9706 - val_acc: 0.2891\n",
      "Epoch 32/150\n",
      "2721/2721 [==============================] - 64s 23ms/step - loss: 1.3203 - acc: 0.3704 - val_loss: 0.9706 - val_acc: 0.2891\n",
      "Epoch 33/150\n",
      "2721/2721 [==============================] - 65s 24ms/step - loss: 1.3258 - acc: 0.3655 - val_loss: 0.9706 - val_acc: 0.2891\n",
      "Epoch 34/150\n",
      "2721/2721 [==============================] - 63s 23ms/step - loss: 1.3167 - acc: 0.3684 - val_loss: 0.9706 - val_acc: 0.2891\n",
      "Epoch 35/150\n",
      "2721/2721 [==============================] - 63s 23ms/step - loss: 1.3241 - acc: 0.3670 - val_loss: 0.9706 - val_acc: 0.2891\n",
      "Epoch 36/150\n",
      "2721/2721 [==============================] - 62s 23ms/step - loss: 1.3225 - acc: 0.3674 - val_loss: 0.9706 - val_acc: 0.2891\n",
      "Epoch 37/150\n",
      "2721/2721 [==============================] - 62s 23ms/step - loss: 1.3169 - acc: 0.3705 - val_loss: 0.9706 - val_acc: 0.2891\n",
      "Epoch 38/150\n",
      "2721/2721 [==============================] - 62s 23ms/step - loss: 1.3215 - acc: 0.3679 - val_loss: 0.9706 - val_acc: 0.2891\n",
      "Epoch 39/150\n",
      "2721/2721 [==============================] - 62s 23ms/step - loss: 1.3153 - acc: 0.3720 - val_loss: 0.9706 - val_acc: 0.2891\n",
      "Epoch 40/150\n",
      "2721/2721 [==============================] - 65s 24ms/step - loss: 1.3324 - acc: 0.3637 - val_loss: 0.9706 - val_acc: 0.2891\n",
      "Epoch 41/150\n",
      "2721/2721 [==============================] - 65s 24ms/step - loss: 1.3195 - acc: 0.3665 - val_loss: 0.9706 - val_acc: 0.2891\n",
      "Epoch 42/150\n",
      "2721/2721 [==============================] - 63s 23ms/step - loss: 1.3256 - acc: 0.3659 - val_loss: 0.9706 - val_acc: 0.2891\n",
      "Epoch 43/150\n",
      "2721/2721 [==============================] - 66s 24ms/step - loss: 1.3198 - acc: 0.3676 - val_loss: 0.9706 - val_acc: 0.2891\n",
      "Epoch 44/150\n",
      "2721/2721 [==============================] - 64s 24ms/step - loss: 1.3089 - acc: 0.3751 - val_loss: 0.9706 - val_acc: 0.2891\n",
      "Epoch 45/150\n",
      "2721/2721 [==============================] - 64s 23ms/step - loss: 1.3211 - acc: 0.3666 - val_loss: 0.9706 - val_acc: 0.2891\n",
      "Epoch 46/150\n",
      "2721/2721 [==============================] - 64s 24ms/step - loss: 1.3187 - acc: 0.3667 - val_loss: 0.9706 - val_acc: 0.2891\n",
      "Epoch 47/150\n",
      "2721/2721 [==============================] - 66s 24ms/step - loss: 1.3267 - acc: 0.3652 - val_loss: 0.9706 - val_acc: 0.2891\n",
      "Epoch 48/150\n",
      "2721/2721 [==============================] - 66s 24ms/step - loss: 1.3187 - acc: 0.3688 - val_loss: 0.9706 - val_acc: 0.2891\n",
      "Epoch 49/150\n",
      "2721/2721 [==============================] - 64s 24ms/step - loss: 1.3250 - acc: 0.3664 - val_loss: 0.9706 - val_acc: 0.2891\n",
      "Epoch 50/150\n",
      "2721/2721 [==============================] - 64s 23ms/step - loss: 1.3289 - acc: 0.3662 - val_loss: 0.9706 - val_acc: 0.2891\n",
      "Epoch 51/150\n",
      "2721/2721 [==============================] - 65s 24ms/step - loss: 1.3173 - acc: 0.3712 - val_loss: 0.9706 - val_acc: 0.2891\n",
      "Epoch 52/150\n",
      "2721/2721 [==============================] - 64s 23ms/step - loss: 1.3211 - acc: 0.3658 - val_loss: 0.9706 - val_acc: 0.2891\n",
      "Epoch 53/150\n",
      "2721/2721 [==============================] - 64s 23ms/step - loss: 1.3237 - acc: 0.3676 - val_loss: 0.9706 - val_acc: 0.2891\n",
      "Epoch 54/150\n",
      "2721/2721 [==============================] - 66s 24ms/step - loss: 1.3251 - acc: 0.3711 - val_loss: 0.9706 - val_acc: 0.2891\n",
      "Epoch 55/150\n",
      "2721/2721 [==============================] - 67s 25ms/step - loss: 1.3217 - acc: 0.3674 - val_loss: 0.9706 - val_acc: 0.2891\n",
      "Epoch 56/150\n",
      "2721/2721 [==============================] - 64s 23ms/step - loss: 1.3203 - acc: 0.3680 - val_loss: 0.9706 - val_acc: 0.2891\n",
      "Epoch 57/150\n",
      "2721/2721 [==============================] - 63s 23ms/step - loss: 1.3264 - acc: 0.3647 - val_loss: 0.9706 - val_acc: 0.2891\n",
      "Epoch 58/150\n",
      "2721/2721 [==============================] - 62s 23ms/step - loss: 1.3226 - acc: 0.3683 - val_loss: 0.9706 - val_acc: 0.2891\n",
      "Epoch 59/150\n",
      "2721/2721 [==============================] - 62s 23ms/step - loss: 1.3216 - acc: 0.3664 - val_loss: 0.9706 - val_acc: 0.2891\n",
      "Epoch 60/150\n",
      "2721/2721 [==============================] - 65s 24ms/step - loss: 1.3192 - acc: 0.3685 - val_loss: 0.9706 - val_acc: 0.2891\n",
      "Epoch 61/150\n",
      "2721/2721 [==============================] - 61s 23ms/step - loss: 1.3246 - acc: 0.3671 - val_loss: 0.9706 - val_acc: 0.2891\n",
      "Epoch 62/150\n",
      "2721/2721 [==============================] - 65s 24ms/step - loss: 1.3196 - acc: 0.3675 - val_loss: 0.9706 - val_acc: 0.2891\n",
      "Epoch 63/150\n",
      "2721/2721 [==============================] - 66s 24ms/step - loss: 1.3212 - acc: 0.3675 - val_loss: 0.9706 - val_acc: 0.2891\n",
      "Epoch 64/150\n",
      "2721/2721 [==============================] - 64s 24ms/step - loss: 1.3221 - acc: 0.3672 - val_loss: 0.9706 - val_acc: 0.2891\n",
      "Epoch 65/150\n",
      "2721/2721 [==============================] - 64s 23ms/step - loss: 1.3171 - acc: 0.3712 - val_loss: 0.9706 - val_acc: 0.2891\n",
      "Epoch 66/150\n",
      "2721/2721 [==============================] - 62s 23ms/step - loss: 1.3237 - acc: 0.3653 - val_loss: 0.9706 - val_acc: 0.2891\n",
      "Epoch 67/150\n",
      "2721/2721 [==============================] - 64s 23ms/step - loss: 1.3223 - acc: 0.3672 - val_loss: 0.9706 - val_acc: 0.2891\n",
      "Epoch 68/150\n",
      "2721/2721 [==============================] - 66s 24ms/step - loss: 1.3192 - acc: 0.3686 - val_loss: 0.9706 - val_acc: 0.2891\n",
      "Epoch 69/150\n",
      "2721/2721 [==============================] - 68s 25ms/step - loss: 1.3248 - acc: 0.3673 - val_loss: 0.9706 - val_acc: 0.2891\n",
      "Epoch 70/150\n",
      "2721/2721 [==============================] - 65s 24ms/step - loss: 1.3261 - acc: 0.3669 - val_loss: 0.9706 - val_acc: 0.2891\n",
      "Epoch 71/150\n",
      "2721/2721 [==============================] - 61s 23ms/step - loss: 1.3164 - acc: 0.3691 - val_loss: 0.9706 - val_acc: 0.2891\n",
      "Epoch 72/150\n",
      "2721/2721 [==============================] - 65s 24ms/step - loss: 1.3252 - acc: 0.3649 - val_loss: 0.9706 - val_acc: 0.2891\n",
      "Epoch 73/150\n",
      "2721/2721 [==============================] - 66s 24ms/step - loss: 1.3185 - acc: 0.3687 - val_loss: 0.9706 - val_acc: 0.2891\n",
      "Epoch 74/150\n",
      "2721/2721 [==============================] - 63s 23ms/step - loss: 1.3255 - acc: 0.3675 - val_loss: 0.9706 - val_acc: 0.2891\n",
      "Epoch 75/150\n",
      "2721/2721 [==============================] - 64s 24ms/step - loss: 1.3211 - acc: 0.3682 - val_loss: 0.9706 - val_acc: 0.2891\n",
      "Epoch 76/150\n",
      "2721/2721 [==============================] - 67s 25ms/step - loss: 1.3192 - acc: 0.3691 - val_loss: 0.9706 - val_acc: 0.2891\n",
      "Epoch 77/150\n",
      "2721/2721 [==============================] - 66s 24ms/step - loss: 1.3220 - acc: 0.3692 - val_loss: 0.9706 - val_acc: 0.2891\n",
      "Epoch 78/150\n",
      "2721/2721 [==============================] - 65s 24ms/step - loss: 1.3224 - acc: 0.3637 - val_loss: 0.9706 - val_acc: 0.2891\n",
      "Epoch 79/150\n",
      "2721/2721 [==============================] - 64s 23ms/step - loss: 1.3195 - acc: 0.3686 - val_loss: 0.9706 - val_acc: 0.2891\n",
      "Epoch 80/150\n",
      "2721/2721 [==============================] - 67s 25ms/step - loss: 1.3235 - acc: 0.3672 - val_loss: 0.9706 - val_acc: 0.2891\n",
      "Epoch 81/150\n",
      "2721/2721 [==============================] - 67s 25ms/step - loss: 1.3223 - acc: 0.3657 - val_loss: 0.9706 - val_acc: 0.2891\n",
      "Epoch 82/150\n",
      "2721/2721 [==============================] - 64s 24ms/step - loss: 1.3252 - acc: 0.3658 - val_loss: 0.9706 - val_acc: 0.2891\n",
      "Epoch 83/150\n",
      "2721/2721 [==============================] - 64s 23ms/step - loss: 1.3245 - acc: 0.3675 - val_loss: 0.9706 - val_acc: 0.2891\n",
      "Epoch 84/150\n",
      "2721/2721 [==============================] - 65s 24ms/step - loss: 1.3183 - acc: 0.3683 - val_loss: 0.9706 - val_acc: 0.2891\n",
      "Epoch 85/150\n",
      "2721/2721 [==============================] - 64s 23ms/step - loss: 1.3250 - acc: 0.3652 - val_loss: 0.9706 - val_acc: 0.2891\n",
      "Epoch 86/150\n",
      "2721/2721 [==============================] - 64s 23ms/step - loss: 1.3191 - acc: 0.3695 - val_loss: 0.9706 - val_acc: 0.2891\n",
      "Epoch 87/150\n",
      "2721/2721 [==============================] - 66s 24ms/step - loss: 1.3250 - acc: 0.3687 - val_loss: 0.9706 - val_acc: 0.2891\n",
      "Epoch 88/150\n",
      "2721/2721 [==============================] - 64s 24ms/step - loss: 1.3190 - acc: 0.3697 - val_loss: 0.9706 - val_acc: 0.2891\n",
      "Epoch 89/150\n",
      "2721/2721 [==============================] - 63s 23ms/step - loss: 1.3251 - acc: 0.3672 - val_loss: 0.9706 - val_acc: 0.2891\n",
      "Epoch 90/150\n",
      "2721/2721 [==============================] - 63s 23ms/step - loss: 1.3224 - acc: 0.3676 - val_loss: 0.9706 - val_acc: 0.2891\n",
      "Epoch 91/150\n",
      "2721/2721 [==============================] - 65s 24ms/step - loss: 1.3220 - acc: 0.3662 - val_loss: 0.9706 - val_acc: 0.2891\n",
      "Epoch 92/150\n",
      "2721/2721 [==============================] - 65s 24ms/step - loss: 1.3176 - acc: 0.3680 - val_loss: 0.9706 - val_acc: 0.2891\n",
      "Epoch 93/150\n",
      "2721/2721 [==============================] - 63s 23ms/step - loss: 1.3263 - acc: 0.3642 - val_loss: 0.9706 - val_acc: 0.2891\n",
      "Epoch 94/150\n",
      "2721/2721 [==============================] - 64s 23ms/step - loss: 1.3216 - acc: 0.3679 - val_loss: 0.9706 - val_acc: 0.2891\n",
      "Epoch 95/150\n",
      "2721/2721 [==============================] - 64s 23ms/step - loss: 1.3228 - acc: 0.3696 - val_loss: 0.9706 - val_acc: 0.2891\n",
      "Epoch 96/150\n",
      "2721/2721 [==============================] - 64s 23ms/step - loss: 1.3146 - acc: 0.3688 - val_loss: 0.9706 - val_acc: 0.2891\n",
      "Epoch 97/150\n",
      "2721/2721 [==============================] - 63s 23ms/step - loss: 1.3161 - acc: 0.3699 - val_loss: 0.9706 - val_acc: 0.2891\n",
      "Epoch 98/150\n",
      "2721/2721 [==============================] - 62s 23ms/step - loss: 1.3164 - acc: 0.3698 - val_loss: 0.9706 - val_acc: 0.2891\n",
      "Epoch 99/150\n",
      "2721/2721 [==============================] - 61s 23ms/step - loss: 1.3218 - acc: 0.3674 - val_loss: 0.9706 - val_acc: 0.2891\n",
      "Epoch 100/150\n",
      "2721/2721 [==============================] - 63s 23ms/step - loss: 1.3166 - acc: 0.3717 - val_loss: 0.9706 - val_acc: 0.2891\n",
      "Epoch 101/150\n",
      "2721/2721 [==============================] - 64s 23ms/step - loss: 1.3214 - acc: 0.3673 - val_loss: 0.9706 - val_acc: 0.2891\n",
      "Epoch 102/150\n",
      "2721/2721 [==============================] - 65s 24ms/step - loss: 1.3270 - acc: 0.3667 - val_loss: 0.9706 - val_acc: 0.2891\n",
      "Epoch 103/150\n",
      "2721/2721 [==============================] - 63s 23ms/step - loss: 1.3114 - acc: 0.3740 - val_loss: 0.9706 - val_acc: 0.2891\n",
      "Epoch 104/150\n",
      "2721/2721 [==============================] - 65s 24ms/step - loss: 1.3265 - acc: 0.3666 - val_loss: 0.9706 - val_acc: 0.2891\n",
      "Epoch 105/150\n",
      "2721/2721 [==============================] - 63s 23ms/step - loss: 1.3211 - acc: 0.3662 - val_loss: 0.9706 - val_acc: 0.2891\n",
      "Epoch 106/150\n",
      "2721/2721 [==============================] - 63s 23ms/step - loss: 1.3147 - acc: 0.3692 - val_loss: 0.9706 - val_acc: 0.2891\n",
      "Epoch 107/150\n",
      "2721/2721 [==============================] - 63s 23ms/step - loss: 1.3249 - acc: 0.3647 - val_loss: 0.9706 - val_acc: 0.2891\n",
      "Epoch 108/150\n",
      "2721/2721 [==============================] - 64s 23ms/step - loss: 1.3266 - acc: 0.3703 - val_loss: 0.9706 - val_acc: 0.2891\n",
      "Epoch 109/150\n",
      "2721/2721 [==============================] - 63s 23ms/step - loss: 1.3150 - acc: 0.3698 - val_loss: 0.9706 - val_acc: 0.2891\n",
      "Epoch 110/150\n",
      "2721/2721 [==============================] - 61s 23ms/step - loss: 1.3174 - acc: 0.3701 - val_loss: 0.9706 - val_acc: 0.2891\n",
      "Epoch 111/150\n",
      "2721/2721 [==============================] - 65s 24ms/step - loss: 1.3167 - acc: 0.3661 - val_loss: 0.9706 - val_acc: 0.2891\n",
      "Epoch 112/150\n",
      "2721/2721 [==============================] - 65s 24ms/step - loss: 1.3191 - acc: 0.3713 - val_loss: 0.9706 - val_acc: 0.2891\n",
      "Epoch 113/150\n",
      "2721/2721 [==============================] - 65s 24ms/step - loss: 1.3225 - acc: 0.3684 - val_loss: 0.9706 - val_acc: 0.2891\n",
      "Epoch 114/150\n",
      "2721/2721 [==============================] - 67s 24ms/step - loss: 1.3262 - acc: 0.3679 - val_loss: 0.9706 - val_acc: 0.2891\n",
      "Epoch 115/150\n",
      "2721/2721 [==============================] - 64s 24ms/step - loss: 1.3199 - acc: 0.3687 - val_loss: 0.9706 - val_acc: 0.2891\n",
      "Epoch 116/150\n",
      "2721/2721 [==============================] - 65s 24ms/step - loss: 1.3201 - acc: 0.3687 - val_loss: 0.9706 - val_acc: 0.2891\n",
      "Epoch 117/150\n",
      "2721/2721 [==============================] - 64s 24ms/step - loss: 1.3188 - acc: 0.3682 - val_loss: 0.9706 - val_acc: 0.2891\n",
      "Epoch 118/150\n",
      "2721/2721 [==============================] - 65s 24ms/step - loss: 1.3182 - acc: 0.3689 - val_loss: 0.9706 - val_acc: 0.2891\n",
      "Epoch 119/150\n",
      "2721/2721 [==============================] - 64s 24ms/step - loss: 1.3193 - acc: 0.3703 - val_loss: 0.9706 - val_acc: 0.2891\n",
      "Epoch 120/150\n",
      "2721/2721 [==============================] - 65s 24ms/step - loss: 1.3168 - acc: 0.3718 - val_loss: 0.9706 - val_acc: 0.2891\n",
      "Epoch 121/150\n",
      "2721/2721 [==============================] - 64s 24ms/step - loss: 1.3219 - acc: 0.3660 - val_loss: 0.9706 - val_acc: 0.2891\n",
      "Epoch 122/150\n",
      "2721/2721 [==============================] - 63s 23ms/step - loss: 1.3231 - acc: 0.3672 - val_loss: 0.9706 - val_acc: 0.2891\n",
      "Epoch 123/150\n",
      "2721/2721 [==============================] - 65s 24ms/step - loss: 1.3220 - acc: 0.3667 - val_loss: 0.9706 - val_acc: 0.2891\n",
      "Epoch 124/150\n",
      "2721/2721 [==============================] - 64s 24ms/step - loss: 1.3237 - acc: 0.3679 - val_loss: 0.9706 - val_acc: 0.2891\n",
      "Epoch 125/150\n",
      "2721/2721 [==============================] - 64s 24ms/step - loss: 1.3183 - acc: 0.3678 - val_loss: 0.9706 - val_acc: 0.2891\n",
      "Epoch 126/150\n",
      "2721/2721 [==============================] - 65s 24ms/step - loss: 1.3251 - acc: 0.3653 - val_loss: 0.9706 - val_acc: 0.2891\n",
      "Epoch 127/150\n",
      "2721/2721 [==============================] - 65s 24ms/step - loss: 1.3217 - acc: 0.3694 - val_loss: 0.9706 - val_acc: 0.2891\n",
      "Epoch 128/150\n",
      "2721/2721 [==============================] - 65s 24ms/step - loss: 1.3208 - acc: 0.3670 - val_loss: 0.9706 - val_acc: 0.2891\n",
      "Epoch 129/150\n",
      "2721/2721 [==============================] - 66s 24ms/step - loss: 1.3183 - acc: 0.3687 - val_loss: 0.9706 - val_acc: 0.2891\n",
      "Epoch 130/150\n",
      "2721/2721 [==============================] - 65s 24ms/step - loss: 1.3201 - acc: 0.3699 - val_loss: 0.9706 - val_acc: 0.2891\n",
      "Epoch 131/150\n",
      "2721/2721 [==============================] - 66s 24ms/step - loss: 1.3218 - acc: 0.3707 - val_loss: 0.9706 - val_acc: 0.2891\n",
      "Epoch 132/150\n",
      "2721/2721 [==============================] - 64s 24ms/step - loss: 1.3206 - acc: 0.3673 - val_loss: 0.9706 - val_acc: 0.2891\n",
      "Epoch 133/150\n",
      "2721/2721 [==============================] - 61s 23ms/step - loss: 1.3205 - acc: 0.3704 - val_loss: 0.9706 - val_acc: 0.2891\n",
      "Epoch 134/150\n",
      "2721/2721 [==============================] - 64s 23ms/step - loss: 1.3177 - acc: 0.3700 - val_loss: 0.9706 - val_acc: 0.2891\n",
      "Epoch 135/150\n",
      "2721/2721 [==============================] - 64s 24ms/step - loss: 1.3222 - acc: 0.3671 - val_loss: 0.9706 - val_acc: 0.2891\n",
      "Epoch 136/150\n",
      "2721/2721 [==============================] - 64s 24ms/step - loss: 1.3186 - acc: 0.3706 - val_loss: 0.9706 - val_acc: 0.2891\n",
      "Epoch 137/150\n",
      "2721/2721 [==============================] - 65s 24ms/step - loss: 1.3246 - acc: 0.3670 - val_loss: 0.9706 - val_acc: 0.2891\n",
      "Epoch 138/150\n",
      "2721/2721 [==============================] - 65s 24ms/step - loss: 1.3216 - acc: 0.3685 - val_loss: 0.9706 - val_acc: 0.2891\n",
      "Epoch 139/150\n",
      "2721/2721 [==============================] - 65s 24ms/step - loss: 1.3133 - acc: 0.3716 - val_loss: 0.9706 - val_acc: 0.2891\n",
      "Epoch 140/150\n",
      "2721/2721 [==============================] - 66s 24ms/step - loss: 1.3217 - acc: 0.3679 - val_loss: 0.9706 - val_acc: 0.2891\n",
      "Epoch 141/150\n",
      "2721/2721 [==============================] - 66s 24ms/step - loss: 1.3258 - acc: 0.3674 - val_loss: 0.9706 - val_acc: 0.2891\n",
      "Epoch 142/150\n",
      "2721/2721 [==============================] - 66s 24ms/step - loss: 1.3208 - acc: 0.3676 - val_loss: 0.9706 - val_acc: 0.2891\n",
      "Epoch 143/150\n",
      "2721/2721 [==============================] - 63s 23ms/step - loss: 1.3245 - acc: 0.3680 - val_loss: 0.9706 - val_acc: 0.2891\n",
      "Epoch 144/150\n",
      "2721/2721 [==============================] - 64s 24ms/step - loss: 1.3152 - acc: 0.3703 - val_loss: 0.9706 - val_acc: 0.2891\n",
      "Epoch 145/150\n",
      "2721/2721 [==============================] - 66s 24ms/step - loss: 1.3141 - acc: 0.3709 - val_loss: 0.9706 - val_acc: 0.2891\n",
      "Epoch 146/150\n",
      "2721/2721 [==============================] - 65s 24ms/step - loss: 1.3176 - acc: 0.3697 - val_loss: 0.9706 - val_acc: 0.2891\n",
      "Epoch 147/150\n",
      "2721/2721 [==============================] - 64s 23ms/step - loss: 1.3152 - acc: 0.3676 - val_loss: 0.9706 - val_acc: 0.2891\n",
      "Epoch 148/150\n",
      "2721/2721 [==============================] - 64s 24ms/step - loss: 1.3190 - acc: 0.3675 - val_loss: 0.9706 - val_acc: 0.2891\n",
      "Epoch 149/150\n",
      "2721/2721 [==============================] - 65s 24ms/step - loss: 1.3236 - acc: 0.3683 - val_loss: 0.9706 - val_acc: 0.2891\n",
      "Epoch 150/150\n",
      "2721/2721 [==============================] - 65s 24ms/step - loss: 1.3171 - acc: 0.3678 - val_loss: 0.9706 - val_acc: 0.2891\n"
     ]
    },
    {
     "data": {
      "text/plain": [
       "<keras.callbacks.History at 0x7fe46dd3ba50>"
      ]
     },
     "execution_count": 9,
     "metadata": {},
     "output_type": "execute_result"
    }
   ],
   "source": [
    "weights = {0:1, 1:3.5}\n",
    "model.fit(train_features, train_target, class_weight=weights, validation_split=0.2,batch_size=16,epochs=150)\n"
   ]
  },
  {
   "cell_type": "code",
   "execution_count": 10,
   "id": "f6f2ce0f",
   "metadata": {
    "execution": {
     "iopub.execute_input": "2023-02-26T04:01:44.364659Z",
     "iopub.status.busy": "2023-02-26T04:01:44.364292Z",
     "iopub.status.idle": "2023-02-26T04:01:44.797036Z",
     "shell.execute_reply": "2023-02-26T04:01:44.796059Z"
    },
    "papermill": {
     "duration": 8.625237,
     "end_time": "2023-02-26T04:01:44.799572",
     "exception": false,
     "start_time": "2023-02-26T04:01:36.174335",
     "status": "completed"
    },
    "tags": []
   },
   "outputs": [
    {
     "name": "stderr",
     "output_type": "stream",
     "text": [
      "/opt/conda/lib/python3.7/site-packages/keras/utils/generic_utils.py:497: CustomMaskWarning: Custom mask layers require a config and must override get_config. When loading, the custom mask layer must be passed to the custom_objects argument.\n",
      "  category=CustomMaskWarning)\n"
     ]
    }
   ],
   "source": [
    "model.save(\"/kaggle/working/trained_model_breast_cancer3.h5\")\n"
   ]
  },
  {
   "cell_type": "code",
   "execution_count": 11,
   "id": "69781a0c",
   "metadata": {
    "execution": {
     "iopub.execute_input": "2023-02-26T04:02:00.659374Z",
     "iopub.status.busy": "2023-02-26T04:02:00.659009Z",
     "iopub.status.idle": "2023-02-26T04:02:00.663537Z",
     "shell.execute_reply": "2023-02-26T04:02:00.662447Z"
    },
    "papermill": {
     "duration": 7.935074,
     "end_time": "2023-02-26T04:02:00.665996",
     "exception": false,
     "start_time": "2023-02-26T04:01:52.730922",
     "status": "completed"
    },
    "tags": []
   },
   "outputs": [],
   "source": [
    "#from tensorflow import keras\n",
    "#savedModel = keras.models.load_model(\"/kaggle/input/pre-trained-model-of-breast-cancer/trained_model_breast_cancer3.h5\")\n",
    "\n"
   ]
  },
  {
   "cell_type": "code",
   "execution_count": 12,
   "id": "58f31914",
   "metadata": {
    "execution": {
     "iopub.execute_input": "2023-02-26T04:02:16.641250Z",
     "iopub.status.busy": "2023-02-26T04:02:16.640893Z",
     "iopub.status.idle": "2023-02-26T04:02:16.645474Z",
     "shell.execute_reply": "2023-02-26T04:02:16.644553Z"
    },
    "papermill": {
     "duration": 8.240123,
     "end_time": "2023-02-26T04:02:16.647441",
     "exception": false,
     "start_time": "2023-02-26T04:02:08.407318",
     "status": "completed"
    },
    "tags": []
   },
   "outputs": [],
   "source": [
    "#test_datagen = ImageDataGenerator(\n",
    "#    rescale=1./25)\n",
    "#    featurewise_center=True,\n",
    "#    featurewise_std_normalization=True)\n",
    "#test_datagen.fit(test_features)\n",
    "\n",
    "#test_generator = test_datagen.flow(test_features, batch_size=1)\n",
    "#pred = model.predict(test_features)\n",
    "#bin_pred = []\n",
    "#for i in pred:\n",
    "#    if i>=0.5:\n",
    "#        bin_pred.append(1)\n",
    "#    else:\n",
    "#        bin_pred.append(0)\n",
    "#bin_pred = np.array(bin_pred)\n"
   ]
  },
  {
   "cell_type": "code",
   "execution_count": 13,
   "id": "7ae1714f",
   "metadata": {
    "execution": {
     "iopub.execute_input": "2023-02-26T04:02:32.432587Z",
     "iopub.status.busy": "2023-02-26T04:02:32.432220Z",
     "iopub.status.idle": "2023-02-26T04:02:32.436911Z",
     "shell.execute_reply": "2023-02-26T04:02:32.435838Z"
    },
    "papermill": {
     "duration": 7.778096,
     "end_time": "2023-02-26T04:02:32.439685",
     "exception": false,
     "start_time": "2023-02-26T04:02:24.661589",
     "status": "completed"
    },
    "tags": []
   },
   "outputs": [],
   "source": [
    "#import sklearn\n",
    "#acc = sklearn.metrics.accuracy_score(test_target, bin_pred)\n",
    "#print(acc)\n",
    "\n",
    "#countzero=0\n",
    "#countone=0\n",
    "#countzerot=0\n",
    "#countonet=0\n",
    "#for i, j in zip(test_target, bin_pred):\n",
    "#    if i==0 and j==0:\n",
    "#        countzero+=1\n",
    "#    if i==1 and j==1:\n",
    "#        countone+=1\n",
    "#    if i==1:\n",
    "#        countonet+=1\n",
    "#    if i==0:\n",
    "#        countzerot+=1\n",
    "#print(countzero/countzerot,countone/countonet)"
   ]
  },
  {
   "cell_type": "code",
   "execution_count": 14,
   "id": "c9e18141",
   "metadata": {
    "execution": {
     "iopub.execute_input": "2023-02-26T04:02:48.624523Z",
     "iopub.status.busy": "2023-02-26T04:02:48.623547Z",
     "iopub.status.idle": "2023-02-26T04:02:48.631703Z",
     "shell.execute_reply": "2023-02-26T04:02:48.630673Z"
    },
    "papermill": {
     "duration": 8.497236,
     "end_time": "2023-02-26T04:02:48.633819",
     "exception": false,
     "start_time": "2023-02-26T04:02:40.136583",
     "status": "completed"
    },
    "tags": []
   },
   "outputs": [],
   "source": [
    "\n",
    "def recall_m(y_true, y_pred):\n",
    "    true_positives = np.sum(np.round(np.clip(y_true * y_pred, 0, 1)))\n",
    "    possible_positives = np.sum(np.round(np.clip(y_true, 0, 1)))\n",
    "    recall = true_positives / (possible_positives )\n",
    "    return recall\n",
    "\n",
    "def precision_m(y_true, y_pred):\n",
    "    true_positives = np.sum(np.round(np.clip(y_true * y_pred, 0, 1)))\n",
    "    predicted_positives = np.sum(np.round(np.clip(y_pred, 0, 1)))\n",
    "    precision = true_positives / (predicted_positives )\n",
    "    return precision\n",
    "\n",
    "def f1_m(y_true, y_pred):\n",
    "    precision = precision_m(y_true, y_pred)\n",
    "    recall = recall_m(y_true, y_pred)\n",
    "    return 2*((precision*recall)/(precision+recall))\n",
    "\n",
    "\n",
    "#print(f1_m(test_target,bin_pred))"
   ]
  }
 ],
 "metadata": {
  "kernelspec": {
   "display_name": "Python 3",
   "language": "python",
   "name": "python3"
  },
  "language_info": {
   "codemirror_mode": {
    "name": "ipython",
    "version": 3
   },
   "file_extension": ".py",
   "mimetype": "text/x-python",
   "name": "python",
   "nbconvert_exporter": "python",
   "pygments_lexer": "ipython3",
   "version": "3.7.12"
  },
  "papermill": {
   "default_parameters": {},
   "duration": 9780.236554,
   "end_time": "2023-02-26T04:03:00.250879",
   "environment_variables": {},
   "exception": null,
   "input_path": "__notebook__.ipynb",
   "output_path": "__notebook__.ipynb",
   "parameters": {},
   "start_time": "2023-02-26T01:20:00.014325",
   "version": "2.3.4"
  }
 },
 "nbformat": 4,
 "nbformat_minor": 5
}
