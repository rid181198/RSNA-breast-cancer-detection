{
 "cells": [
  {
   "cell_type": "code",
   "execution_count": 1,
   "id": "247972d3",
   "metadata": {
    "execution": {
     "iopub.execute_input": "2023-02-17T01:21:28.209078Z",
     "iopub.status.busy": "2023-02-17T01:21:28.205568Z",
     "iopub.status.idle": "2023-02-17T01:21:36.039881Z",
     "shell.execute_reply": "2023-02-17T01:21:36.038740Z",
     "shell.execute_reply.started": "2023-02-17T01:16:33.872684Z"
    },
    "papermill": {
     "duration": 7.853876,
     "end_time": "2023-02-17T01:21:36.040080",
     "exception": false,
     "start_time": "2023-02-17T01:21:28.186204",
     "status": "completed"
    },
    "tags": []
   },
   "outputs": [
    {
     "name": "stderr",
     "output_type": "stream",
     "text": [
      "2023-02-17 01:21:30.066285: W tensorflow/stream_executor/platform/default/dso_loader.cc:60] Could not load dynamic library 'libcudart.so.11.0'; dlerror: libcudart.so.11.0: cannot open shared object file: No such file or directory; LD_LIBRARY_PATH: /opt/conda/lib\n",
      "2023-02-17 01:21:30.066412: I tensorflow/stream_executor/cuda/cudart_stub.cc:29] Ignore above cudart dlerror if you do not have a GPU set up on your machine.\n"
     ]
    }
   ],
   "source": [
    "import numpy as np\n",
    "import pandas as pd\n",
    "import matplotlib.pyplot as plt\n",
    "import seaborn as sns\n",
    "import pickle\n",
    "import tensorflow as tf\n",
    "import os\n",
    "from tqdm import tqdm\n",
    "import cv2\n",
    "from PIL import Image\n",
    "from joblib import Parallel, delayed\n",
    "import gc\n",
    "from PIL import Image as im\n",
    "import random\n",
    "from scipy import ndimage\n"
   ]
  },
  {
   "cell_type": "code",
   "execution_count": 2,
   "id": "d9c27a2e",
   "metadata": {
    "execution": {
     "iopub.execute_input": "2023-02-17T01:21:36.070060Z",
     "iopub.status.busy": "2023-02-17T01:21:36.068956Z",
     "iopub.status.idle": "2023-02-17T01:21:36.071001Z",
     "shell.execute_reply": "2023-02-17T01:21:36.071529Z",
     "shell.execute_reply.started": "2023-02-17T01:16:39.568775Z"
    },
    "papermill": {
     "duration": 0.020181,
     "end_time": "2023-02-17T01:21:36.071714",
     "exception": false,
     "start_time": "2023-02-17T01:21:36.051533",
     "status": "completed"
    },
    "tags": []
   },
   "outputs": [],
   "source": [
    "\n",
    "#!pip install /kaggle/input/rsnapacks/dicomsdl-0.109.1-cp36-cp36m-manylinux_2_12_x86_64.manylinux2010_x86_64.whl\n",
    "import numpy as np\n",
    "import pandas as pd\n",
    "import matplotlib.pyplot as plt\n",
    "import seaborn as sns\n",
    "import pickle\n",
    "#import pydicom as dicom\n",
    "\n",
    "import tensorflow as tf\n",
    "from PIL import Image as im\n",
    "import os\n",
    "from tqdm import tqdm\n",
    "import cv2\n",
    "from PIL import Image\n",
    "from joblib import Parallel, delayed\n",
    "import gc\n",
    "import random"
   ]
  },
  {
   "cell_type": "code",
   "execution_count": 3,
   "id": "f4b25a60",
   "metadata": {
    "_cell_guid": "b1076dfc-b9ad-4769-8c92-a6c4dae69d19",
    "_uuid": "8f2839f25d086af736a60e9eeb907d3b93b6e0e5",
    "execution": {
     "iopub.execute_input": "2023-02-17T01:21:36.096198Z",
     "iopub.status.busy": "2023-02-17T01:21:36.095160Z",
     "iopub.status.idle": "2023-02-17T01:21:59.909979Z",
     "shell.execute_reply": "2023-02-17T01:21:59.909386Z",
     "shell.execute_reply.started": "2023-02-17T01:16:39.578048Z"
    },
    "papermill": {
     "duration": 23.828158,
     "end_time": "2023-02-17T01:21:59.910139",
     "exception": false,
     "start_time": "2023-02-17T01:21:36.081981",
     "status": "completed"
    },
    "tags": []
   },
   "outputs": [
    {
     "name": "stderr",
     "output_type": "stream",
     "text": [
      "2023-02-17 01:21:41.439620: I tensorflow/compiler/jit/xla_cpu_device.cc:41] Not creating XLA devices, tf_xla_enable_xla_devices not set\n",
      "2023-02-17 01:21:41.443112: W tensorflow/stream_executor/platform/default/dso_loader.cc:60] Could not load dynamic library 'libcuda.so.1'; dlerror: libcuda.so.1: cannot open shared object file: No such file or directory; LD_LIBRARY_PATH: /opt/conda/lib\n",
      "2023-02-17 01:21:41.443156: W tensorflow/stream_executor/cuda/cuda_driver.cc:326] failed call to cuInit: UNKNOWN ERROR (303)\n",
      "2023-02-17 01:21:41.443185: I tensorflow/stream_executor/cuda/cuda_diagnostics.cc:156] kernel driver does not appear to be running on this host (30c80a713736): /proc/driver/nvidia/version does not exist\n",
      "2023-02-17 01:21:41.447365: I tensorflow/core/platform/cpu_feature_guard.cc:142] This TensorFlow binary is optimized with oneAPI Deep Neural Network Library (oneDNN) to use the following CPU instructions in performance-critical operations:  AVX2 FMA\n",
      "To enable them in other operations, rebuild TensorFlow with the appropriate compiler flags.\n",
      "2023-02-17 01:21:41.449208: I tensorflow/compiler/jit/xla_gpu_device.cc:99] Not creating XLA devices, tf_xla_enable_xla_devices not set\n"
     ]
    }
   ],
   "source": [
    "with (open('/kaggle/input/processed/imgDataNew.pkl', \"rb\")) as openfile:\n",
    "     imgData = pickle.load(openfile)\n",
    "imgData=imgData[:]"
   ]
  },
  {
   "cell_type": "code",
   "execution_count": 4,
   "id": "cabb2dfa",
   "metadata": {
    "execution": {
     "iopub.execute_input": "2023-02-17T01:21:59.949123Z",
     "iopub.status.busy": "2023-02-17T01:21:59.934076Z",
     "iopub.status.idle": "2023-02-17T01:21:59.952790Z",
     "shell.execute_reply": "2023-02-17T01:21:59.952190Z",
     "shell.execute_reply.started": "2023-02-17T01:02:43.393934Z"
    },
    "papermill": {
     "duration": 0.032164,
     "end_time": "2023-02-17T01:21:59.952944",
     "exception": false,
     "start_time": "2023-02-17T01:21:59.920780",
     "status": "completed"
    },
    "tags": []
   },
   "outputs": [
    {
     "name": "stdout",
     "output_type": "stream",
     "text": [
      "0    42838\n",
      "1    11580\n",
      "Name: cancer, dtype: int64\n"
     ]
    }
   ],
   "source": [
    "print(imgData['cancer'].value_counts())"
   ]
  },
  {
   "cell_type": "code",
   "execution_count": 5,
   "id": "65ee7006",
   "metadata": {
    "execution": {
     "iopub.execute_input": "2023-02-17T01:21:59.981183Z",
     "iopub.status.busy": "2023-02-17T01:21:59.980268Z",
     "iopub.status.idle": "2023-02-17T01:22:01.690996Z",
     "shell.execute_reply": "2023-02-17T01:22:01.690479Z",
     "shell.execute_reply.started": "2023-02-17T01:17:04.022156Z"
    },
    "papermill": {
     "duration": 1.727052,
     "end_time": "2023-02-17T01:22:01.691145",
     "exception": false,
     "start_time": "2023-02-17T01:21:59.964093",
     "status": "completed"
    },
    "tags": []
   },
   "outputs": [
    {
     "data": {
      "text/plain": [
       "0"
      ]
     },
     "execution_count": 5,
     "metadata": {},
     "output_type": "execute_result"
    }
   ],
   "source": [
    "\n",
    "\n",
    "\n",
    "train_target = np.array(imgData['cancer'])\n",
    "train_features = np.array(list(imgData['img_data_process']))\n",
    "\n",
    "\n",
    "gc.collect()\n"
   ]
  },
  {
   "cell_type": "code",
   "execution_count": 6,
   "id": "1ce749d8",
   "metadata": {
    "execution": {
     "iopub.execute_input": "2023-02-17T01:22:01.725357Z",
     "iopub.status.busy": "2023-02-17T01:22:01.724396Z",
     "iopub.status.idle": "2023-02-17T01:22:21.493993Z",
     "shell.execute_reply": "2023-02-17T01:22:21.494728Z",
     "shell.execute_reply.started": "2023-02-17T01:17:05.471648Z"
    },
    "papermill": {
     "duration": 19.791758,
     "end_time": "2023-02-17T01:22:21.494916",
     "exception": false,
     "start_time": "2023-02-17T01:22:01.703158",
     "status": "completed"
    },
    "tags": []
   },
   "outputs": [
    {
     "name": "stderr",
     "output_type": "stream",
     "text": [
      "2023-02-17 01:22:01.869732: I tensorflow/core/distributed_runtime/rpc/grpc_channel.cc:301] Initialize GrpcChannelCache for job worker -> {0 -> 10.0.0.2:8470}\n",
      "2023-02-17 01:22:01.869799: I tensorflow/core/distributed_runtime/rpc/grpc_channel.cc:301] Initialize GrpcChannelCache for job localhost -> {0 -> localhost:30019}\n",
      "2023-02-17 01:22:01.894586: I tensorflow/core/distributed_runtime/rpc/grpc_channel.cc:301] Initialize GrpcChannelCache for job worker -> {0 -> 10.0.0.2:8470}\n",
      "2023-02-17 01:22:01.894642: I tensorflow/core/distributed_runtime/rpc/grpc_channel.cc:301] Initialize GrpcChannelCache for job localhost -> {0 -> localhost:30019}\n",
      "2023-02-17 01:22:01.896387: I tensorflow/core/distributed_runtime/rpc/grpc_server_lib.cc:411] Started server with target: grpc://localhost:30019\n"
     ]
    },
    {
     "name": "stdout",
     "output_type": "stream",
     "text": [
      "Downloading data from https://storage.googleapis.com/keras-applications/efficientnetb0_notop.h5\n",
      "16711680/16705208 [==============================] - 0s 0us/step\n",
      "Model: \"sequential\"\n",
      "_________________________________________________________________\n",
      "Layer (type)                 Output Shape              Param #   \n",
      "=================================================================\n",
      "efficientnetb0 (Functional)  (None, 3, 3, 1280)        4049571   \n",
      "_________________________________________________________________\n",
      "gap (GlobalMaxPooling2D)     (None, 1280)              0         \n",
      "_________________________________________________________________\n",
      "dense (Dense)                (None, 512)               655872    \n",
      "_________________________________________________________________\n",
      "dropout_out (Dropout)        (None, 512)               0         \n",
      "_________________________________________________________________\n",
      "fc_out (Dense)               (None, 1)                 513       \n",
      "=================================================================\n",
      "Total params: 4,705,956\n",
      "Trainable params: 656,385\n",
      "Non-trainable params: 4,049,571\n",
      "_________________________________________________________________\n"
     ]
    }
   ],
   "source": [
    "from tensorflow.keras.applications import * #Efficient Net included here\n",
    "from tensorflow.keras import models\n",
    "from tensorflow.keras import layers\n",
    "from tensorflow.keras.preprocessing.image import ImageDataGenerator\n",
    "import os\n",
    "import shutil\n",
    "import pandas as pd\n",
    "from sklearn import model_selection\n",
    "from tqdm import tqdm\n",
    "from tensorflow.keras import optimizers\n",
    "import tensorflow as tf\n",
    "#Use this to check if the GPU is configured correctly\n",
    "from tensorflow.python.client import device_lib\n",
    "\n",
    "input_shape=(95,95,3)\n",
    "\n",
    "\n",
    "resolver = tf.distribute.cluster_resolver.TPUClusterResolver()\n",
    "tf.config.experimental_connect_to_cluster(resolver)\n",
    "tf.tpu.experimental.initialize_tpu_system(resolver)\n",
    "tpu_strategy = tf.distribute.experimental.TPUStrategy(resolver)\n",
    "with tpu_strategy.scope():\n",
    "    conv_base = EfficientNetB0(weights=\"imagenet\", include_top=False, \\\n",
    "                               input_shape=input_shape)\n",
    "\n",
    "\n",
    "    model = models.Sequential()\n",
    "    model.add(conv_base)\n",
    "    model.add(layers.GlobalMaxPooling2D(name=\"gap\"))\n",
    "    #avoid overfitting\n",
    "    model.add(layers.Dense(512, activation=\"relu\"))\n",
    "    model.add(layers.Dropout(0.3, name=\"dropout_out\"))\n",
    "    # Set NUMBER_OF_CLASSES to the number of your final predictions.\n",
    "    model.add(layers.Dense(1, activation=\"sigmoid\", name=\"fc_out\"))\n",
    "    conv_base.trainable = False\n",
    "\n",
    "    model.compile(\\\n",
    "        loss=\"binary_crossentropy\",\\\n",
    "        optimizer=tf.keras.optimizers.Adam(learning_rate=0.0005),\\\n",
    "        metrics=[\"acc\"])\n",
    "\n",
    "model.summary()\n",
    "\n"
   ]
  },
  {
   "cell_type": "code",
   "execution_count": 7,
   "id": "ffd7474b",
   "metadata": {
    "execution": {
     "iopub.execute_input": "2023-02-17T01:22:21.530120Z",
     "iopub.status.busy": "2023-02-17T01:22:21.523874Z",
     "iopub.status.idle": "2023-02-17T03:51:35.597907Z",
     "shell.execute_reply": "2023-02-17T03:51:35.598532Z",
     "shell.execute_reply.started": "2023-02-17T01:17:33.439502Z"
    },
    "papermill": {
     "duration": 8954.090733,
     "end_time": "2023-02-17T03:51:35.598790",
     "exception": false,
     "start_time": "2023-02-17T01:22:21.508057",
     "status": "completed"
    },
    "tags": []
   },
   "outputs": [
    {
     "name": "stderr",
     "output_type": "stream",
     "text": [
      "2023-02-17 01:22:21.531379: W tensorflow/core/framework/cpu_allocator_impl.cc:80] Allocation of 1178683050 exceeds 10% of free system memory.\n"
     ]
    },
    {
     "name": "stdout",
     "output_type": "stream",
     "text": [
      "Epoch 1/150\n",
      "2721/2721 [==============================] - 78s 24ms/step - loss: 1.2101 - acc: 0.5441 - val_loss: 0.5681 - val_acc: 0.7178\n",
      "Epoch 2/150\n",
      "2721/2721 [==============================] - 59s 22ms/step - loss: 1.0483 - acc: 0.5764 - val_loss: 0.6434 - val_acc: 0.6044\n",
      "Epoch 3/150\n",
      "2721/2721 [==============================] - 60s 22ms/step - loss: 0.9758 - acc: 0.6299 - val_loss: 0.6867 - val_acc: 0.5776\n",
      "Epoch 4/150\n",
      "2721/2721 [==============================] - 59s 22ms/step - loss: 0.9249 - acc: 0.6643 - val_loss: 0.5297 - val_acc: 0.7231\n",
      "Epoch 5/150\n",
      "2721/2721 [==============================] - 59s 22ms/step - loss: 0.8579 - acc: 0.6960 - val_loss: 0.5023 - val_acc: 0.7437\n",
      "Epoch 6/150\n",
      "2721/2721 [==============================] - 59s 22ms/step - loss: 0.8157 - acc: 0.7258 - val_loss: 0.4858 - val_acc: 0.7448\n",
      "Epoch 7/150\n",
      "2721/2721 [==============================] - 60s 22ms/step - loss: 0.7680 - acc: 0.7478 - val_loss: 0.4382 - val_acc: 0.7856\n",
      "Epoch 8/150\n",
      "2721/2721 [==============================] - 60s 22ms/step - loss: 0.7182 - acc: 0.7715 - val_loss: 0.4610 - val_acc: 0.7682\n",
      "Epoch 9/150\n",
      "2721/2721 [==============================] - 60s 22ms/step - loss: 0.6868 - acc: 0.7857 - val_loss: 0.4297 - val_acc: 0.8006\n",
      "Epoch 10/150\n",
      "2721/2721 [==============================] - 59s 22ms/step - loss: 0.6595 - acc: 0.7947 - val_loss: 0.4363 - val_acc: 0.7849\n",
      "Epoch 11/150\n",
      "2721/2721 [==============================] - 59s 22ms/step - loss: 0.6218 - acc: 0.8136 - val_loss: 0.5059 - val_acc: 0.7485\n",
      "Epoch 12/150\n",
      "2721/2721 [==============================] - 58s 21ms/step - loss: 0.5976 - acc: 0.8237 - val_loss: 0.4584 - val_acc: 0.7800\n",
      "Epoch 13/150\n",
      "2721/2721 [==============================] - 59s 22ms/step - loss: 0.5781 - acc: 0.8299 - val_loss: 0.3820 - val_acc: 0.8228\n",
      "Epoch 14/150\n",
      "2721/2721 [==============================] - 59s 22ms/step - loss: 0.5444 - acc: 0.8438 - val_loss: 0.4042 - val_acc: 0.8134\n",
      "Epoch 15/150\n",
      "2721/2721 [==============================] - 59s 22ms/step - loss: 0.5324 - acc: 0.8492 - val_loss: 0.3390 - val_acc: 0.8523\n",
      "Epoch 16/150\n",
      "2721/2721 [==============================] - 59s 22ms/step - loss: 0.5208 - acc: 0.8530 - val_loss: 0.3544 - val_acc: 0.8475\n",
      "Epoch 17/150\n",
      "2721/2721 [==============================] - 58s 21ms/step - loss: 0.4945 - acc: 0.8644 - val_loss: 0.3747 - val_acc: 0.8343\n",
      "Epoch 18/150\n",
      "2721/2721 [==============================] - 59s 22ms/step - loss: 0.4859 - acc: 0.8675 - val_loss: 0.3954 - val_acc: 0.8227\n",
      "Epoch 19/150\n",
      "2721/2721 [==============================] - 60s 22ms/step - loss: 0.4689 - acc: 0.8721 - val_loss: 0.4167 - val_acc: 0.8091\n",
      "Epoch 20/150\n",
      "2721/2721 [==============================] - 59s 22ms/step - loss: 0.4486 - acc: 0.8788 - val_loss: 0.3466 - val_acc: 0.8552\n",
      "Epoch 21/150\n",
      "2721/2721 [==============================] - 60s 22ms/step - loss: 0.4454 - acc: 0.8824 - val_loss: 0.3494 - val_acc: 0.8546\n",
      "Epoch 22/150\n",
      "2721/2721 [==============================] - 59s 22ms/step - loss: 0.4325 - acc: 0.8855 - val_loss: 0.2971 - val_acc: 0.8709\n",
      "Epoch 23/150\n",
      "2721/2721 [==============================] - 60s 22ms/step - loss: 0.4242 - acc: 0.8876 - val_loss: 0.2960 - val_acc: 0.8808\n",
      "Epoch 24/150\n",
      "2721/2721 [==============================] - 59s 22ms/step - loss: 0.4176 - acc: 0.8903 - val_loss: 0.3165 - val_acc: 0.8705\n",
      "Epoch 25/150\n",
      "2721/2721 [==============================] - 59s 22ms/step - loss: 0.4040 - acc: 0.8941 - val_loss: 0.2896 - val_acc: 0.8820\n",
      "Epoch 26/150\n",
      "2721/2721 [==============================] - 58s 21ms/step - loss: 0.3973 - acc: 0.8971 - val_loss: 0.3349 - val_acc: 0.8586\n",
      "Epoch 27/150\n",
      "2721/2721 [==============================] - 58s 21ms/step - loss: 0.3937 - acc: 0.8983 - val_loss: 0.3055 - val_acc: 0.8816\n",
      "Epoch 28/150\n",
      "2721/2721 [==============================] - 58s 21ms/step - loss: 0.3867 - acc: 0.9036 - val_loss: 0.3171 - val_acc: 0.8696\n",
      "Epoch 29/150\n",
      "2721/2721 [==============================] - 58s 21ms/step - loss: 0.3758 - acc: 0.9045 - val_loss: 0.2441 - val_acc: 0.9078\n",
      "Epoch 30/150\n",
      "2721/2721 [==============================] - 58s 21ms/step - loss: 0.3844 - acc: 0.9025 - val_loss: 0.3232 - val_acc: 0.8714\n",
      "Epoch 31/150\n",
      "2721/2721 [==============================] - 59s 22ms/step - loss: 0.3582 - acc: 0.9077 - val_loss: 0.3210 - val_acc: 0.8731\n",
      "Epoch 32/150\n",
      "2721/2721 [==============================] - 59s 22ms/step - loss: 0.3521 - acc: 0.9134 - val_loss: 0.3125 - val_acc: 0.8787\n",
      "Epoch 33/150\n",
      "2721/2721 [==============================] - 59s 22ms/step - loss: 0.3527 - acc: 0.9135 - val_loss: 0.2991 - val_acc: 0.8826\n",
      "Epoch 34/150\n",
      "2721/2721 [==============================] - 59s 22ms/step - loss: 0.3452 - acc: 0.9138 - val_loss: 0.3046 - val_acc: 0.8761\n",
      "Epoch 35/150\n",
      "2721/2721 [==============================] - 58s 21ms/step - loss: 0.3466 - acc: 0.9143 - val_loss: 0.2605 - val_acc: 0.9003\n",
      "Epoch 36/150\n",
      "2721/2721 [==============================] - 58s 21ms/step - loss: 0.3290 - acc: 0.9198 - val_loss: 0.2762 - val_acc: 0.8959\n",
      "Epoch 37/150\n",
      "2721/2721 [==============================] - 59s 22ms/step - loss: 0.3478 - acc: 0.9142 - val_loss: 0.2657 - val_acc: 0.8975\n",
      "Epoch 38/150\n",
      "2721/2721 [==============================] - 59s 22ms/step - loss: 0.3305 - acc: 0.9195 - val_loss: 0.2941 - val_acc: 0.8859\n",
      "Epoch 39/150\n",
      "2721/2721 [==============================] - 59s 22ms/step - loss: 0.3252 - acc: 0.9212 - val_loss: 0.2547 - val_acc: 0.9025\n",
      "Epoch 40/150\n",
      "2721/2721 [==============================] - 60s 22ms/step - loss: 0.3122 - acc: 0.9254 - val_loss: 0.2883 - val_acc: 0.8905\n",
      "Epoch 41/150\n",
      "2721/2721 [==============================] - 60s 22ms/step - loss: 0.3222 - acc: 0.9211 - val_loss: 0.3186 - val_acc: 0.8724\n",
      "Epoch 42/150\n",
      "2721/2721 [==============================] - 59s 22ms/step - loss: 0.3070 - acc: 0.9272 - val_loss: 0.3735 - val_acc: 0.8551\n",
      "Epoch 43/150\n",
      "2721/2721 [==============================] - 59s 22ms/step - loss: 0.3145 - acc: 0.9242 - val_loss: 0.2705 - val_acc: 0.9000\n",
      "Epoch 44/150\n",
      "2721/2721 [==============================] - 59s 22ms/step - loss: 0.3192 - acc: 0.9233 - val_loss: 0.2765 - val_acc: 0.8959\n",
      "Epoch 45/150\n",
      "2721/2721 [==============================] - 59s 22ms/step - loss: 0.2977 - acc: 0.9318 - val_loss: 0.2422 - val_acc: 0.9100\n",
      "Epoch 46/150\n",
      "2721/2721 [==============================] - 59s 22ms/step - loss: 0.3034 - acc: 0.9293 - val_loss: 0.2469 - val_acc: 0.9086\n",
      "Epoch 47/150\n",
      "2721/2721 [==============================] - 59s 22ms/step - loss: 0.3042 - acc: 0.9294 - val_loss: 0.2954 - val_acc: 0.8904\n",
      "Epoch 48/150\n",
      "2721/2721 [==============================] - 60s 22ms/step - loss: 0.3115 - acc: 0.9255 - val_loss: 0.2917 - val_acc: 0.8864\n",
      "Epoch 49/150\n",
      "2721/2721 [==============================] - 60s 22ms/step - loss: 0.2957 - acc: 0.9295 - val_loss: 0.2579 - val_acc: 0.9067\n",
      "Epoch 50/150\n",
      "2721/2721 [==============================] - 60s 22ms/step - loss: 0.2742 - acc: 0.9381 - val_loss: 0.2827 - val_acc: 0.8941\n",
      "Epoch 51/150\n",
      "2721/2721 [==============================] - 60s 22ms/step - loss: 0.2935 - acc: 0.9314 - val_loss: 0.3018 - val_acc: 0.8873\n",
      "Epoch 52/150\n",
      "2721/2721 [==============================] - 60s 22ms/step - loss: 0.2931 - acc: 0.9322 - val_loss: 0.2710 - val_acc: 0.8999\n",
      "Epoch 53/150\n",
      "2721/2721 [==============================] - 60s 22ms/step - loss: 0.2949 - acc: 0.9306 - val_loss: 0.2744 - val_acc: 0.9008\n",
      "Epoch 54/150\n",
      "2721/2721 [==============================] - 60s 22ms/step - loss: 0.2899 - acc: 0.9288 - val_loss: 0.2340 - val_acc: 0.9152\n",
      "Epoch 55/150\n",
      "2721/2721 [==============================] - 59s 22ms/step - loss: 0.2837 - acc: 0.9360 - val_loss: 0.3163 - val_acc: 0.8768\n",
      "Epoch 56/150\n",
      "2721/2721 [==============================] - 60s 22ms/step - loss: 0.2731 - acc: 0.9361 - val_loss: 0.2537 - val_acc: 0.9062\n",
      "Epoch 57/150\n",
      "2721/2721 [==============================] - 59s 22ms/step - loss: 0.2694 - acc: 0.9357 - val_loss: 0.2457 - val_acc: 0.9081\n",
      "Epoch 58/150\n",
      "2721/2721 [==============================] - 60s 22ms/step - loss: 0.2878 - acc: 0.9343 - val_loss: 0.2514 - val_acc: 0.9075\n",
      "Epoch 59/150\n",
      "2721/2721 [==============================] - 59s 22ms/step - loss: 0.2819 - acc: 0.9351 - val_loss: 0.2615 - val_acc: 0.9067\n",
      "Epoch 60/150\n",
      "2721/2721 [==============================] - 60s 22ms/step - loss: 0.2790 - acc: 0.9361 - val_loss: 0.2571 - val_acc: 0.9041\n",
      "Epoch 61/150\n",
      "2721/2721 [==============================] - 59s 22ms/step - loss: 0.2715 - acc: 0.9362 - val_loss: 0.2883 - val_acc: 0.8943\n",
      "Epoch 62/150\n",
      "2721/2721 [==============================] - 59s 22ms/step - loss: 0.2713 - acc: 0.9368 - val_loss: 0.2715 - val_acc: 0.9030\n",
      "Epoch 63/150\n",
      "2721/2721 [==============================] - 59s 22ms/step - loss: 0.2746 - acc: 0.9359 - val_loss: 0.2683 - val_acc: 0.9043\n",
      "Epoch 64/150\n",
      "2721/2721 [==============================] - 59s 22ms/step - loss: 0.2660 - acc: 0.9415 - val_loss: 0.2677 - val_acc: 0.9061\n",
      "Epoch 65/150\n",
      "2721/2721 [==============================] - 59s 22ms/step - loss: 0.2776 - acc: 0.9366 - val_loss: 0.2606 - val_acc: 0.9023\n",
      "Epoch 66/150\n",
      "2721/2721 [==============================] - 59s 22ms/step - loss: 0.2682 - acc: 0.9392 - val_loss: 0.2570 - val_acc: 0.9080\n",
      "Epoch 67/150\n",
      "2721/2721 [==============================] - 59s 22ms/step - loss: 0.2726 - acc: 0.9378 - val_loss: 0.2488 - val_acc: 0.9095\n",
      "Epoch 68/150\n",
      "2721/2721 [==============================] - 60s 22ms/step - loss: 0.2698 - acc: 0.9408 - val_loss: 0.3104 - val_acc: 0.8874\n",
      "Epoch 69/150\n",
      "2721/2721 [==============================] - 60s 22ms/step - loss: 0.2529 - acc: 0.9406 - val_loss: 0.2417 - val_acc: 0.9148\n",
      "Epoch 70/150\n",
      "2721/2721 [==============================] - 60s 22ms/step - loss: 0.2734 - acc: 0.9386 - val_loss: 0.2529 - val_acc: 0.9111\n",
      "Epoch 71/150\n",
      "2721/2721 [==============================] - 61s 22ms/step - loss: 0.2489 - acc: 0.9458 - val_loss: 0.2485 - val_acc: 0.9132\n",
      "Epoch 72/150\n",
      "2721/2721 [==============================] - 60s 22ms/step - loss: 0.2418 - acc: 0.9456 - val_loss: 0.2917 - val_acc: 0.9009\n",
      "Epoch 73/150\n",
      "2721/2721 [==============================] - 60s 22ms/step - loss: 0.2568 - acc: 0.9424 - val_loss: 0.2725 - val_acc: 0.9041\n",
      "Epoch 74/150\n",
      "2721/2721 [==============================] - 60s 22ms/step - loss: 0.2539 - acc: 0.9429 - val_loss: 0.2523 - val_acc: 0.9123\n",
      "Epoch 75/150\n",
      "2721/2721 [==============================] - 60s 22ms/step - loss: 0.2535 - acc: 0.9432 - val_loss: 0.2828 - val_acc: 0.8966\n",
      "Epoch 76/150\n",
      "2721/2721 [==============================] - 59s 22ms/step - loss: 0.2536 - acc: 0.9438 - val_loss: 0.2579 - val_acc: 0.9091\n",
      "Epoch 77/150\n",
      "2721/2721 [==============================] - 59s 22ms/step - loss: 0.2568 - acc: 0.9447 - val_loss: 0.2993 - val_acc: 0.8932\n",
      "Epoch 78/150\n",
      "2721/2721 [==============================] - 59s 22ms/step - loss: 0.2529 - acc: 0.9461 - val_loss: 0.2798 - val_acc: 0.9048\n",
      "Epoch 79/150\n",
      "2721/2721 [==============================] - 59s 22ms/step - loss: 0.2462 - acc: 0.9455 - val_loss: 0.3161 - val_acc: 0.8920\n",
      "Epoch 80/150\n",
      "2721/2721 [==============================] - 59s 22ms/step - loss: 0.2517 - acc: 0.9428 - val_loss: 0.3113 - val_acc: 0.8878\n",
      "Epoch 81/150\n",
      "2721/2721 [==============================] - 59s 22ms/step - loss: 0.2526 - acc: 0.9448 - val_loss: 0.2553 - val_acc: 0.9094\n",
      "Epoch 82/150\n",
      "2721/2721 [==============================] - 59s 22ms/step - loss: 0.2422 - acc: 0.9470 - val_loss: 0.2839 - val_acc: 0.9043\n",
      "Epoch 83/150\n",
      "2721/2721 [==============================] - 59s 22ms/step - loss: 0.2547 - acc: 0.9445 - val_loss: 0.3137 - val_acc: 0.8902\n",
      "Epoch 84/150\n",
      "2721/2721 [==============================] - 59s 22ms/step - loss: 0.2423 - acc: 0.9482 - val_loss: 0.2480 - val_acc: 0.9116\n",
      "Epoch 85/150\n",
      "2721/2721 [==============================] - 59s 22ms/step - loss: 0.2445 - acc: 0.9464 - val_loss: 0.2528 - val_acc: 0.9114\n",
      "Epoch 86/150\n",
      "2721/2721 [==============================] - 59s 22ms/step - loss: 0.2307 - acc: 0.9489 - val_loss: 0.2899 - val_acc: 0.8990\n",
      "Epoch 87/150\n",
      "2721/2721 [==============================] - 59s 22ms/step - loss: 0.2570 - acc: 0.9452 - val_loss: 0.2621 - val_acc: 0.9093\n",
      "Epoch 88/150\n",
      "2721/2721 [==============================] - 59s 22ms/step - loss: 0.2408 - acc: 0.9469 - val_loss: 0.2671 - val_acc: 0.9091\n",
      "Epoch 89/150\n",
      "2721/2721 [==============================] - 59s 22ms/step - loss: 0.2424 - acc: 0.9455 - val_loss: 0.2671 - val_acc: 0.9045\n",
      "Epoch 90/150\n",
      "2721/2721 [==============================] - 61s 22ms/step - loss: 0.2355 - acc: 0.9474 - val_loss: 0.2725 - val_acc: 0.9047\n",
      "Epoch 91/150\n",
      "2721/2721 [==============================] - 60s 22ms/step - loss: 0.2339 - acc: 0.9493 - val_loss: 0.2330 - val_acc: 0.9187\n",
      "Epoch 92/150\n",
      "2721/2721 [==============================] - 60s 22ms/step - loss: 0.2348 - acc: 0.9507 - val_loss: 0.2243 - val_acc: 0.9229\n",
      "Epoch 93/150\n",
      "2721/2721 [==============================] - 59s 22ms/step - loss: 0.2373 - acc: 0.9487 - val_loss: 0.2617 - val_acc: 0.9109\n",
      "Epoch 94/150\n",
      "2721/2721 [==============================] - 60s 22ms/step - loss: 0.2298 - acc: 0.9511 - val_loss: 0.2624 - val_acc: 0.9118\n",
      "Epoch 95/150\n",
      "2721/2721 [==============================] - 60s 22ms/step - loss: 0.2369 - acc: 0.9502 - val_loss: 0.2813 - val_acc: 0.9077\n",
      "Epoch 96/150\n",
      "2721/2721 [==============================] - 59s 22ms/step - loss: 0.2585 - acc: 0.9457 - val_loss: 0.2709 - val_acc: 0.9109\n",
      "Epoch 97/150\n",
      "2721/2721 [==============================] - 59s 22ms/step - loss: 0.2347 - acc: 0.9503 - val_loss: 0.3011 - val_acc: 0.8971\n",
      "Epoch 98/150\n",
      "2721/2721 [==============================] - 58s 21ms/step - loss: 0.2260 - acc: 0.9504 - val_loss: 0.2370 - val_acc: 0.9204\n",
      "Epoch 99/150\n",
      "2721/2721 [==============================] - 58s 21ms/step - loss: 0.2250 - acc: 0.9515 - val_loss: 0.2617 - val_acc: 0.9090\n",
      "Epoch 100/150\n",
      "2721/2721 [==============================] - 59s 22ms/step - loss: 0.2147 - acc: 0.9513 - val_loss: 0.2470 - val_acc: 0.9180\n",
      "Epoch 101/150\n",
      "2721/2721 [==============================] - 60s 22ms/step - loss: 0.2155 - acc: 0.9515 - val_loss: 0.2494 - val_acc: 0.9146\n",
      "Epoch 102/150\n",
      "2721/2721 [==============================] - 61s 22ms/step - loss: 0.2188 - acc: 0.9538 - val_loss: 0.2791 - val_acc: 0.9060\n",
      "Epoch 103/150\n",
      "2721/2721 [==============================] - 60s 22ms/step - loss: 0.2239 - acc: 0.9511 - val_loss: 0.2477 - val_acc: 0.9194\n",
      "Epoch 104/150\n",
      "2721/2721 [==============================] - 60s 22ms/step - loss: 0.2237 - acc: 0.9508 - val_loss: 0.2888 - val_acc: 0.9060\n",
      "Epoch 105/150\n",
      "2721/2721 [==============================] - 60s 22ms/step - loss: 0.2253 - acc: 0.9501 - val_loss: 0.2451 - val_acc: 0.9158\n",
      "Epoch 106/150\n",
      "2721/2721 [==============================] - 60s 22ms/step - loss: 0.2065 - acc: 0.9570 - val_loss: 0.2808 - val_acc: 0.9065\n",
      "Epoch 107/150\n",
      "2721/2721 [==============================] - 60s 22ms/step - loss: 0.2375 - acc: 0.9499 - val_loss: 0.2497 - val_acc: 0.9164\n",
      "Epoch 108/150\n",
      "2721/2721 [==============================] - 60s 22ms/step - loss: 0.2251 - acc: 0.9522 - val_loss: 0.2592 - val_acc: 0.9136\n",
      "Epoch 109/150\n",
      "2721/2721 [==============================] - 60s 22ms/step - loss: 0.2193 - acc: 0.9527 - val_loss: 0.3334 - val_acc: 0.8920\n",
      "Epoch 110/150\n",
      "2721/2721 [==============================] - 61s 22ms/step - loss: 0.2130 - acc: 0.9545 - val_loss: 0.2517 - val_acc: 0.9157\n",
      "Epoch 111/150\n",
      "2721/2721 [==============================] - 60s 22ms/step - loss: 0.2303 - acc: 0.9530 - val_loss: 0.2631 - val_acc: 0.9098\n",
      "Epoch 112/150\n",
      "2721/2721 [==============================] - 60s 22ms/step - loss: 0.2206 - acc: 0.9551 - val_loss: 0.2555 - val_acc: 0.9137\n",
      "Epoch 113/150\n",
      "2721/2721 [==============================] - 60s 22ms/step - loss: 0.2058 - acc: 0.9573 - val_loss: 0.2914 - val_acc: 0.9007\n",
      "Epoch 114/150\n",
      "2721/2721 [==============================] - 60s 22ms/step - loss: 0.2218 - acc: 0.9537 - val_loss: 0.2486 - val_acc: 0.9172\n",
      "Epoch 115/150\n",
      "2721/2721 [==============================] - 61s 22ms/step - loss: 0.2298 - acc: 0.9514 - val_loss: 0.2686 - val_acc: 0.9102\n",
      "Epoch 116/150\n",
      "2721/2721 [==============================] - 59s 22ms/step - loss: 0.2200 - acc: 0.9525 - val_loss: 0.2510 - val_acc: 0.9151\n",
      "Epoch 117/150\n",
      "2721/2721 [==============================] - 57s 21ms/step - loss: 0.2245 - acc: 0.9520 - val_loss: 0.2766 - val_acc: 0.9075\n",
      "Epoch 118/150\n",
      "2721/2721 [==============================] - 58s 21ms/step - loss: 0.2181 - acc: 0.9543 - val_loss: 0.2696 - val_acc: 0.9109\n",
      "Epoch 119/150\n",
      "2721/2721 [==============================] - 57s 21ms/step - loss: 0.2177 - acc: 0.9533 - val_loss: 0.2567 - val_acc: 0.9165\n",
      "Epoch 120/150\n",
      "2721/2721 [==============================] - 58s 21ms/step - loss: 0.2162 - acc: 0.9548 - val_loss: 0.3005 - val_acc: 0.9040\n",
      "Epoch 121/150\n",
      "2721/2721 [==============================] - 58s 21ms/step - loss: 0.2289 - acc: 0.9514 - val_loss: 0.2796 - val_acc: 0.9063\n",
      "Epoch 122/150\n",
      "2721/2721 [==============================] - 59s 22ms/step - loss: 0.2317 - acc: 0.9519 - val_loss: 0.2813 - val_acc: 0.9089\n",
      "Epoch 123/150\n",
      "2721/2721 [==============================] - 60s 22ms/step - loss: 0.1975 - acc: 0.9584 - val_loss: 0.3255 - val_acc: 0.8963\n",
      "Epoch 124/150\n",
      "2721/2721 [==============================] - 61s 22ms/step - loss: 0.2155 - acc: 0.9532 - val_loss: 0.3118 - val_acc: 0.8973\n",
      "Epoch 125/150\n",
      "2721/2721 [==============================] - 61s 23ms/step - loss: 0.2287 - acc: 0.9505 - val_loss: 0.2947 - val_acc: 0.9057\n",
      "Epoch 126/150\n",
      "2721/2721 [==============================] - 62s 23ms/step - loss: 0.2260 - acc: 0.9514 - val_loss: 0.2477 - val_acc: 0.9205\n",
      "Epoch 127/150\n",
      "2721/2721 [==============================] - 61s 22ms/step - loss: 0.2120 - acc: 0.9554 - val_loss: 0.2483 - val_acc: 0.9181\n",
      "Epoch 128/150\n",
      "2721/2721 [==============================] - 61s 22ms/step - loss: 0.2095 - acc: 0.9571 - val_loss: 0.2445 - val_acc: 0.9220\n",
      "Epoch 129/150\n",
      "2721/2721 [==============================] - 60s 22ms/step - loss: 0.2067 - acc: 0.9558 - val_loss: 0.3193 - val_acc: 0.8920\n",
      "Epoch 130/150\n",
      "2721/2721 [==============================] - 61s 22ms/step - loss: 0.2200 - acc: 0.9543 - val_loss: 0.2923 - val_acc: 0.9074\n",
      "Epoch 131/150\n",
      "2721/2721 [==============================] - 60s 22ms/step - loss: 0.2067 - acc: 0.9565 - val_loss: 0.2977 - val_acc: 0.9039\n",
      "Epoch 132/150\n",
      "2721/2721 [==============================] - 60s 22ms/step - loss: 0.1921 - acc: 0.9581 - val_loss: 0.2585 - val_acc: 0.9179\n",
      "Epoch 133/150\n",
      "2721/2721 [==============================] - 60s 22ms/step - loss: 0.2156 - acc: 0.9562 - val_loss: 0.2944 - val_acc: 0.9041\n",
      "Epoch 134/150\n",
      "2721/2721 [==============================] - 61s 22ms/step - loss: 0.2150 - acc: 0.9573 - val_loss: 0.2761 - val_acc: 0.9125\n",
      "Epoch 135/150\n",
      "2721/2721 [==============================] - 60s 22ms/step - loss: 0.2108 - acc: 0.9573 - val_loss: 0.2788 - val_acc: 0.9092\n",
      "Epoch 136/150\n",
      "2721/2721 [==============================] - 61s 22ms/step - loss: 0.2157 - acc: 0.9562 - val_loss: 0.2810 - val_acc: 0.9085\n",
      "Epoch 137/150\n",
      "2721/2721 [==============================] - 61s 22ms/step - loss: 0.2118 - acc: 0.9554 - val_loss: 0.2812 - val_acc: 0.9078\n",
      "Epoch 138/150\n",
      "2721/2721 [==============================] - 61s 22ms/step - loss: 0.2068 - acc: 0.9568 - val_loss: 0.2664 - val_acc: 0.9112\n",
      "Epoch 139/150\n",
      "2721/2721 [==============================] - 61s 23ms/step - loss: 0.1890 - acc: 0.9624 - val_loss: 0.2859 - val_acc: 0.9121\n",
      "Epoch 140/150\n",
      "2721/2721 [==============================] - 60s 22ms/step - loss: 0.2072 - acc: 0.9570 - val_loss: 0.2558 - val_acc: 0.9207\n",
      "Epoch 141/150\n",
      "2721/2721 [==============================] - 61s 22ms/step - loss: 0.2095 - acc: 0.9544 - val_loss: 0.2736 - val_acc: 0.9133\n",
      "Epoch 142/150\n",
      "2721/2721 [==============================] - 60s 22ms/step - loss: 0.2066 - acc: 0.9576 - val_loss: 0.2943 - val_acc: 0.9041\n",
      "Epoch 143/150\n",
      "2721/2721 [==============================] - 60s 22ms/step - loss: 0.2101 - acc: 0.9561 - val_loss: 0.2866 - val_acc: 0.9122\n",
      "Epoch 144/150\n",
      "2721/2721 [==============================] - 60s 22ms/step - loss: 0.2195 - acc: 0.9545 - val_loss: 0.2577 - val_acc: 0.9184\n",
      "Epoch 145/150\n",
      "2721/2721 [==============================] - 60s 22ms/step - loss: 0.2107 - acc: 0.9592 - val_loss: 0.3179 - val_acc: 0.9017\n",
      "Epoch 146/150\n",
      "2721/2721 [==============================] - 60s 22ms/step - loss: 0.2039 - acc: 0.9564 - val_loss: 0.3053 - val_acc: 0.9034\n",
      "Epoch 147/150\n",
      "2721/2721 [==============================] - 59s 22ms/step - loss: 0.2081 - acc: 0.9584 - val_loss: 0.2713 - val_acc: 0.9137\n",
      "Epoch 148/150\n",
      "2721/2721 [==============================] - 59s 22ms/step - loss: 0.2145 - acc: 0.9572 - val_loss: 0.3173 - val_acc: 0.9038\n",
      "Epoch 149/150\n",
      "2721/2721 [==============================] - 59s 22ms/step - loss: 0.2038 - acc: 0.9559 - val_loss: 0.2988 - val_acc: 0.9055\n",
      "Epoch 150/150\n",
      "2721/2721 [==============================] - 58s 21ms/step - loss: 0.2078 - acc: 0.9570 - val_loss: 0.2744 - val_acc: 0.9154\n"
     ]
    },
    {
     "data": {
      "text/plain": [
       "<tensorflow.python.keras.callbacks.History at 0x7f617b89a2d0>"
      ]
     },
     "execution_count": 7,
     "metadata": {},
     "output_type": "execute_result"
    }
   ],
   "source": [
    "from tensorflow.keras.preprocessing.image import ImageDataGenerator\n",
    "#datagen = ImageDataGenerator(\n",
    "#    rescale=1./255,\n",
    "#    rotation_range=30,\n",
    "    #shear_range=0.2,\n",
    "    #width_shift_range=0.2,\n",
    "    #height_shift_range=0.2,\n",
    "#    horizontal_flip=True,\n",
    "#    validation_split=0.2)\n",
    "#datagen.fit(train_features)\n",
    "\n",
    "\n",
    "weights = {0:1, 1:4}\n",
    "#model.fit(datagen.flow(train_features, train_target, batch_size=16,\\\n",
    "#         subset='training'),\\\n",
    "#         validation_data=datagen.flow(train_features, train_target,\\\n",
    "#         batch_size=8, subset='validation'), epochs=15)\n",
    "\n",
    "model.fit(train_features, train_target, class_weight=weights, validation_split=0.2,batch_size=16,epochs=150)\n"
   ]
  },
  {
   "cell_type": "code",
   "execution_count": 8,
   "id": "b044a1c3",
   "metadata": {
    "execution": {
     "iopub.execute_input": "2023-02-17T03:52:53.054058Z",
     "iopub.status.busy": "2023-02-17T03:52:53.043249Z",
     "iopub.status.idle": "2023-02-17T03:52:54.532348Z",
     "shell.execute_reply": "2023-02-17T03:52:54.531752Z"
    },
    "papermill": {
     "duration": 40.359158,
     "end_time": "2023-02-17T03:52:54.532508",
     "exception": false,
     "start_time": "2023-02-17T03:52:14.173350",
     "status": "completed"
    },
    "tags": []
   },
   "outputs": [],
   "source": [
    "model.save(\"/kaggle/working/trained_model_breast_cancer3.h5\")\n"
   ]
  },
  {
   "cell_type": "code",
   "execution_count": 9,
   "id": "585dd345",
   "metadata": {
    "execution": {
     "iopub.execute_input": "2023-02-17T03:54:12.071508Z",
     "iopub.status.busy": "2023-02-17T03:54:12.070850Z",
     "iopub.status.idle": "2023-02-17T03:54:12.073504Z",
     "shell.execute_reply": "2023-02-17T03:54:12.072955Z"
    },
    "papermill": {
     "duration": 38.874744,
     "end_time": "2023-02-17T03:54:12.073677",
     "exception": false,
     "start_time": "2023-02-17T03:53:33.198933",
     "status": "completed"
    },
    "tags": []
   },
   "outputs": [],
   "source": [
    "#from tensorflow import keras\n",
    "#savedModel = keras.models.load_model(\"/kaggle/input/pre-trained-model-of-breast-cancer/trained_model_breast_cancer3.h5\")\n",
    "\n"
   ]
  },
  {
   "cell_type": "code",
   "execution_count": 10,
   "id": "5e4bb47b",
   "metadata": {
    "execution": {
     "iopub.execute_input": "2023-02-17T03:55:29.787950Z",
     "iopub.status.busy": "2023-02-17T03:55:29.787109Z",
     "iopub.status.idle": "2023-02-17T03:55:29.790114Z",
     "shell.execute_reply": "2023-02-17T03:55:29.789585Z",
     "shell.execute_reply.started": "2023-02-14T00:38:27.493014Z"
    },
    "papermill": {
     "duration": 38.940311,
     "end_time": "2023-02-17T03:55:29.790271",
     "exception": false,
     "start_time": "2023-02-17T03:54:50.849960",
     "status": "completed"
    },
    "tags": []
   },
   "outputs": [],
   "source": [
    "#test_datagen = ImageDataGenerator(\n",
    "#    rescale=1./25)\n",
    "#    featurewise_center=True,\n",
    "#    featurewise_std_normalization=True)\n",
    "#test_datagen.fit(test_features)\n",
    "\n",
    "#test_generator = test_datagen.flow(test_features, batch_size=1)\n",
    "#pred = model.predict(test_features)\n",
    "#bin_pred = []\n",
    "#for i in pred:\n",
    "#    if i>=0.5:\n",
    "#        bin_pred.append(1)\n",
    "#    else:\n",
    "#        bin_pred.append(0)\n",
    "#bin_pred = np.array(bin_pred)\n"
   ]
  },
  {
   "cell_type": "code",
   "execution_count": 11,
   "id": "cec9b4a7",
   "metadata": {
    "execution": {
     "iopub.execute_input": "2023-02-17T03:56:47.121495Z",
     "iopub.status.busy": "2023-02-17T03:56:47.120687Z",
     "iopub.status.idle": "2023-02-17T03:56:47.123409Z",
     "shell.execute_reply": "2023-02-17T03:56:47.122902Z",
     "shell.execute_reply.started": "2023-02-14T00:42:03.649448Z"
    },
    "papermill": {
     "duration": 38.730897,
     "end_time": "2023-02-17T03:56:47.123570",
     "exception": false,
     "start_time": "2023-02-17T03:56:08.392673",
     "status": "completed"
    },
    "tags": []
   },
   "outputs": [],
   "source": [
    "#import sklearn\n",
    "#acc = sklearn.metrics.accuracy_score(test_target, bin_pred)\n",
    "#print(acc)\n",
    "\n",
    "#countzero=0\n",
    "#countone=0\n",
    "#countzerot=0\n",
    "#countonet=0\n",
    "#for i, j in zip(test_target, bin_pred):\n",
    "#    if i==0 and j==0:\n",
    "#        countzero+=1\n",
    "#    if i==1 and j==1:\n",
    "#        countone+=1\n",
    "#    if i==1:\n",
    "#        countonet+=1\n",
    "#    if i==0:\n",
    "#        countzerot+=1\n",
    "#print(countzero/countzerot,countone/countonet)"
   ]
  },
  {
   "cell_type": "code",
   "execution_count": 12,
   "id": "0791ebb6",
   "metadata": {
    "execution": {
     "iopub.execute_input": "2023-02-17T03:58:04.493982Z",
     "iopub.status.busy": "2023-02-17T03:58:04.493184Z",
     "iopub.status.idle": "2023-02-17T03:58:04.496424Z",
     "shell.execute_reply": "2023-02-17T03:58:04.495874Z",
     "shell.execute_reply.started": "2023-02-14T00:42:26.191578Z"
    },
    "papermill": {
     "duration": 38.728707,
     "end_time": "2023-02-17T03:58:04.496570",
     "exception": false,
     "start_time": "2023-02-17T03:57:25.767863",
     "status": "completed"
    },
    "tags": []
   },
   "outputs": [],
   "source": [
    "\n",
    "def recall_m(y_true, y_pred):\n",
    "    true_positives = np.sum(np.round(np.clip(y_true * y_pred, 0, 1)))\n",
    "    possible_positives = np.sum(np.round(np.clip(y_true, 0, 1)))\n",
    "    recall = true_positives / (possible_positives )\n",
    "    return recall\n",
    "\n",
    "def precision_m(y_true, y_pred):\n",
    "    true_positives = np.sum(np.round(np.clip(y_true * y_pred, 0, 1)))\n",
    "    predicted_positives = np.sum(np.round(np.clip(y_pred, 0, 1)))\n",
    "    precision = true_positives / (predicted_positives )\n",
    "    return precision\n",
    "\n",
    "def f1_m(y_true, y_pred):\n",
    "    precision = precision_m(y_true, y_pred)\n",
    "    recall = recall_m(y_true, y_pred)\n",
    "    return 2*((precision*recall)/(precision+recall))\n",
    "\n",
    "\n",
    "#print(f1_m(test_target,bin_pred))"
   ]
  }
 ],
 "metadata": {
  "kernelspec": {
   "display_name": "Python 3",
   "language": "python",
   "name": "python3"
  },
  "language_info": {
   "codemirror_mode": {
    "name": "ipython",
    "version": 3
   },
   "file_extension": ".py",
   "mimetype": "text/x-python",
   "name": "python",
   "nbconvert_exporter": "python",
   "pygments_lexer": "ipython3",
   "version": "3.7.10"
  },
  "papermill": {
   "default_parameters": {},
   "duration": 9447.924129,
   "end_time": "2023-02-17T03:58:47.181665",
   "environment_variables": {},
   "exception": null,
   "input_path": "__notebook__.ipynb",
   "output_path": "__notebook__.ipynb",
   "parameters": {},
   "start_time": "2023-02-17T01:21:19.257536",
   "version": "2.3.3"
  }
 },
 "nbformat": 4,
 "nbformat_minor": 5
}
